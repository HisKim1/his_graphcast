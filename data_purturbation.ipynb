{
 "cells": [
  {
   "cell_type": "code",
   "execution_count": null,
   "metadata": {},
   "outputs": [],
   "source": [
    "import xarray as xr\n",
    "import numpy as np\n",
    "import his_utils\n",
    "import pandas as pd\n",
    "import os\n",
    "from concurrent.futures import ProcessPoolExecutor, as_completed\n",
    "\n",
    "input_data = xr.open_dataset('testdata/2021-06-26/ERA5_input.nc').squeeze('batch')"
   ]
  },
  {
   "cell_type": "code",
   "execution_count": 5,
   "metadata": {},
   "outputs": [],
   "source": [
    "perturbations = [0.001, 0.1, 1, 2, 3, 4, 5]\n",
    "\n",
    "\n",
    "for scale in perturbations:\n",
    "    new_data = his_utils.add_perturbation(input_data,\n",
    "                                            ['2m_temperature',\n",
    "                                             '10m_u_component_of_wind',\n",
    "                                             '10m_v_component_of_wind',\n",
    "                                             'mean_sea_level_pressure'], \n",
    "                                             scale)\n",
    "    new_data = new_data.expand_dims(dim='batch', axis=0)\n",
    "    new_data.to_netcdf(f'testdata/2021-06-26/ERA5_4var_{scale}std.nc')"
   ]
  },
  {
   "cell_type": "code",
   "execution_count": null,
   "metadata": {},
   "outputs": [],
   "source": [
    "variables = ['2m_temperature',\n",
    " '10m_u_component_of_wind',\n",
    " '10m_v_component_of_wind',\n",
    " 'mean_sea_level_pressure']\n",
    "scale = 1\n",
    "perturb_timestep = [0, 1]\n",
    "with xr.open_dataset(f'testdata/stats/40yr_std_daily_4var.nc') as std: \n",
    "    for i in perturb_timestep:\n",
    "        idx_time = input_data.time.isel(time=0).values.astype(np.int64)//21600\n",
    "        normal_dist = np.random.normal(loc=0, scale=1, size=input_data[variables[0]].isel(time=i).shape)\n",
    "        normal_dist = xr.DataArray(\n",
    "            data=normal_dist,\n",
    "            dims=('lat','lon'),\n",
    "            coords={\n",
    "                'lat': input_data.lat,\n",
    "                'lon': input_data.lon\n",
    "            }\n",
    "        )\n",
    "        perturbed = input_data.copy()\n",
    " \n",
    "        for var in variables:\n",
    "            perturbed.isel(time=i)[var] = input_data[var].isel(time=i) + scale * (normal_dist * std[var].isel(hour=idx_time))\n",
    "            \n",
    "\n",
    "    if 'perturbation' in list(perturbed.data_vars):\n",
    "        perturbed = perturbed.drop_vars('perturbation')\n",
    "perturbed\n",
    "\n"
   ]
  },
  {
   "cell_type": "code",
   "execution_count": null,
   "metadata": {},
   "outputs": [],
   "source": [
    "xr.open_dataset(f'testdata/stats/40yr_std_daily_4var.nc').hour"
   ]
  },
  {
   "cell_type": "markdown",
   "metadata": {},
   "source": [
    "# Scratch Codes"
   ]
  },
  {
   "cell_type": "code",
   "execution_count": null,
   "metadata": {},
   "outputs": [],
   "source": [
    "\n",
    "# 5x5 numpy 배열 생성\n",
    "data = np.arange(9).reshape(3,3)\n",
    "\n",
    "# xarray DataArray 생성\n",
    "da = xr.DataArray(\n",
    "    data,\n",
    "    dims=(\"latitude\", \"longitude\"),  # 차원 이름 지정\n",
    "    coords={\n",
    "        \"latitude\": np.linspace(35, 39, 3),  # y 좌표\n",
    "        \"longitude\": np.linspace(125, 129, 3) # x 좌표\n",
    "    },\n",
    "    name=\"example_data\"  # DataArray의 이름\n",
    ")\n",
    "\n",
    "# 5x5 numpy 배열 생성\n",
    "data = np.random.uniform(low=0, high=10, size=(3, 3))\n",
    "data = np.round(data, decimals=0)\n",
    "\n",
    "# xarray DataArray 생성\n",
    "da2 = xr.DataArray(\n",
    "    data,\n",
    "    dims=(\"latitude\", \"longitude\"),  # 차원 이름을 위도와 경도로 지정\n",
    "    coords={\n",
    "        \"latitude\": np.linspace(35, 39, 3),   # 위도 좌표 (35도에서 39도)\n",
    "        \"longitude\": np.linspace(125, 129, 3) # 경도 좌표 (125도에서 129도)\n",
    "    },\n",
    "    name=\"temperature\"  # DataArray의 이름을 temperature로 지정\n",
    ")\n",
    "\n",
    "data = np.random.uniform(low=0, high=10, size=(3, 3))\n",
    "data = np.round(data, decimals=0)\n",
    "\n",
    "# xarray DataArray 생성\n",
    "da3 = xr.DataArray(\n",
    "    data,\n",
    "    dims=(\"latitude\", \"longitude\"),  # 차원 이름을 위도와 경도로 지정\n",
    "    coords={\n",
    "        \"latitude\": np.linspace(35, 39, 3),   # 위도 좌표 (35도에서 39도)\n",
    "        \"longitude\": np.linspace(125, 129, 3) # 경도 좌표 (125도에서 129도)\n",
    "    },\n",
    "    name=\"temperature\"  # DataArray의 이름을 temperature로 지정\n",
    ")\n",
    "\n",
    "print(da)\n",
    "print(da2)\n",
    "print(da3)\n",
    "\n",
    "da + 0.1 * (da2 * da3)"
   ]
  },
  {
   "cell_type": "code",
   "execution_count": null,
   "metadata": {},
   "outputs": [],
   "source": [
    "# perturb_list = [\n",
    "#        't2m', \n",
    "#        'v_wind', \n",
    "#        'u_wind', \n",
    "#        'sea_level_pressure'\n",
    "#        ]\n",
    "\n",
    "# import glob\n",
    "\n",
    "# path = \"/home/hiskim1/graphcast/testdata/stats/*/40yr_std_daily_*.nc\"\n",
    "# files = glob.glob(path)\n",
    "# data = xr.open_mfdataset(files, combine='nested')\n",
    "# data = data.rename({\"v10\": \"10m_v_component_of_wind\",\"u10\": \"10m_u_component_of_wind\", \"msl\":\"mean_sea_level_pressure\"})\n",
    "# data.to_netcdf('testdata/stats/40yr_std_daily_4var.nc')\n",
    "\n",
    "data = xr.open_dataset('testdata/stats/40yr_std_daily_4var.nc')\n",
    "data['10m_u_component_of_wind'].hour"
   ]
  }
 ],
 "metadata": {
  "kernelspec": {
   "display_name": "hiskim1_graphcast",
   "language": "python",
   "name": "python3"
  },
  "language_info": {
   "codemirror_mode": {
    "name": "ipython",
    "version": 3
   },
   "file_extension": ".py",
   "mimetype": "text/x-python",
   "name": "python",
   "nbconvert_exporter": "python",
   "pygments_lexer": "ipython3",
   "version": "3.11.8"
  }
 },
 "nbformat": 4,
 "nbformat_minor": 2
}
