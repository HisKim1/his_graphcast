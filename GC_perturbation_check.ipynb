{
 "cells": [
  {
   "cell_type": "markdown",
   "metadata": {},
   "source": [
    "#### Header\n",
    "\n",
    "No need to change I guess...."
   ]
  },
  {
   "cell_type": "code",
   "execution_count": 138,
   "metadata": {},
   "outputs": [],
   "source": [
    "import glob\n",
    "import re\n",
    "import xarray as xr\n",
    "import numpy as np\n",
    "import pandas as pd\n",
    "import matplotlib.pyplot as plt\n",
    "import seaborn as sns\n",
    "import plotly.graph_objs as go\n",
    "import plotly.io as pio\n",
    "import dask\n",
    "\n",
    "\n",
    "target_var = \"2m_temperature\""
   ]
  },
  {
   "cell_type": "code",
   "execution_count": 139,
   "metadata": {},
   "outputs": [],
   "source": [
    "\n",
    "PRESSURE_VARIABLES=[\n",
    "    \"u_component_of_wind\",\n",
    "    \"v_component_of_wind\",\n",
    "    \"specific_humidity\",\n",
    "    \"temperature\",\n",
    "    \"vertical_velocity\"\n",
    "]\n",
    "\n",
    "SURFACE_VARIABLES=[\n",
    "    \"10m_u_component_of_wind\", \n",
    "    \"10m_v_component_of_wind\", \n",
    "    \"total_precipitation_6hr\", \n",
    "    \"mean_sea_level_pressure\",\n",
    "]\n",
    "\n",
    "def weighted_mean(dataset: xr.Dataset):\n",
    "    weights = np.cos(np.deg2rad(dataset.lat))\n",
    "    weights.name = \"weights\"\n",
    "    weighted = dataset.weighted(weights)\n",
    "    \n",
    "    return weighted.mean(('lat', 'lon'))\n",
    "\n",
    "\n",
    "def preprocess_GC(dataset:xr.Dataset, target_var=\"2m_temperature\", region=None):\n",
    "    if target_var == \"2m_temperature\":\n",
    "        dataset = dataset.resample(time=\"1D\").mean().squeeze('batch')\n",
    "        dataset[\"time\"] = pd.date_range(\"2021-06-22\", periods=7, freq=\"1D\")\n",
    "        dataset = dataset.rename({\"time\":\"date\"})\n",
    "        dataset = dataset.drop_vars(PRESSURE_VARIABLES + SURFACE_VARIABLES + ['level', 'geopotential'])\n",
    "\n",
    "    elif target_var == \"geopotential\":\n",
    "        dataset = dataset.sel(level=500).resample(time=\"1D\").mean().squeeze('batch')\n",
    "        dataset[\"time\"] = pd.date_range(\"2021-06-22\", periods=7, freq=\"1D\")\n",
    "        dataset = dataset.rename({\"time\":\"date\"})\n",
    "        dataset = dataset.drop_vars(PRESSURE_VARIABLES + SURFACE_VARIABLES + ['level', '2m_temperature'])\n",
    "\n",
    "    # TODO: add region selection \n",
    "    if region:\n",
    "        dataset = dataset.sel(lat=slice(25, 60), lon=slice(102.5, 150))\n",
    "\n",
    "    return dataset\n",
    "\n",
    "\n",
    "def preprocess_nwp(dataset:xr.Dataset, target_var=\"2m_temperature\", region=None):\n",
    "    dataset = dataset.expand_dims(dim={'date': [dataset.time.values[0]]}).compute()\n",
    "    dataset = dataset.rename({'time': 'ensemble'})\n",
    "    dataset['ensemble'] = np.arange(1, 51)\n",
    "\n",
    "    if target_var == \"2m_temperature\":\n",
    "        dataset = dataset.drop_vars('height')\n",
    "\n",
    "    elif target_var == \"geopotential\":\n",
    "        dataset.gh.attrs['units'] = 'm^2/s^2'\n",
    "        dataset.gh.attrs['long_name'] = 'Geopotential'\n",
    "        dataset = dataset.assign_coords(lev=dataset.lev / 100)\n",
    "        dataset.lev.attrs['units'] = 'hPa'\n",
    "        dataset['gh'] = dataset['gh'] * 9.80665\n",
    "        dataset = dataset.rename({'gh':'geopotential', 'lev':'level'})\n",
    "        dataset = dataset.sel(level=500)\n",
    "\n",
    "    # TODO: add region selection \n",
    "    if region:\n",
    "        dataset = dataset.sel(lat=slice(60, 24), lon=slice(102, 150))\n",
    "\n",
    "    return dataset\n",
    "\n",
    "def preprocess_era(dataset:xr.Dataset, target_var=\"2m_temperature\", region=None):\n",
    "    if region:\n",
    "        dataset = dataset.sel(lat=slice(60, 25), lon=slice(102.5, 150))"
   ]
  },
  {
   "cell_type": "markdown",
   "metadata": {},
   "source": [
    "# Partition\n",
    "\n",
    "1. **t2m**\n",
    "    1. all + all + global  $= 4 \\times 23 \\times 1 = 92$  \n",
    "    2. all + only t2m + all $= 4 \\times 1 \\times 12 = 48$  \n",
    "    3. all + except t2m + all $= 4 \\times 1 \\times 12 = 48$  \n",
    "2. **500hPa geopotential height**\n",
    "    1. all + all + global  $= 4 \\times 23 \\times 1 = 92$  \n",
    "    2. all + only geopotential + all $= 4 \\times 1 \\times 12 = 48$  \n",
    "    3. all + except geopotential + all $= 4 \\times 1 \\times 12 = 48$"
   ]
  },
  {
   "cell_type": "code",
   "execution_count": 140,
   "metadata": {},
   "outputs": [],
   "source": [
    "if target_var == '2m_temperature':\n",
    "    p_1 = sorted(glob.glob('/data/GC_output/2021-06-21/GC_???????????_global_scale*.nc'))\n",
    "    p_2 = sorted(glob.glob('/data/GC_output/2021-06-21/GC_00100000000_*_scale*.nc'))\n",
    "    p_3 = sorted(glob.glob('/data/GC_output/2021-06-21/GC_11011111111_*_scale*.nc'))\n",
    "    \n",
    "elif target_var == 'geopotential':\n",
    "    p_1 = sorted(glob.glob('/data/GC_output/2021-06-21/GC_???????????_global_scale*.nc'))\n",
    "    p_2 = sorted(glob.glob('/data/GC_output/2021-06-21/GC_00000100000_*_scale*.nc'))\n",
    "    p_3 = sorted(glob.glob('/data/GC_output/2021-06-21/GC_11111011111_*_scale*.nc'))  \n",
    "    \n",
    "\n",
    "p_4 = sorted(glob.glob('/data/GC_output/2021-06-21/GC_11111111111_global_scale_*.nc'))\n"
   ]
  },
  {
   "cell_type": "markdown",
   "metadata": {},
   "source": [
    "# GC Data load"
   ]
  },
  {
   "cell_type": "code",
   "execution_count": null,
   "metadata": {},
   "outputs": [],
   "source": [
    "# Assign base colors for each partition\n",
    "partition_colors = {\n",
    "    'p_1': 'blue',\n",
    "    'p_2': 'green',\n",
    "    'p_3': 'red',\n",
    "    'p_4': 'purple'\n",
    "}\n",
    "\n",
    "# Function to extract perturbation type and value from filename\n",
    "def extract_perturbation_info(filename):\n",
    "    match = re.search(r'_([01][01][01][01][01][01][01][01][01][01][01])_(.*?)_(scale|wipeout)_([\\d.eE+-]+)\\.nc$', filename)\n",
    "    if match:\n",
    "        var=match.group(1)\n",
    "        region=match.group(2)\n",
    "        perturb_type = match.group(3)\n",
    "        value = match.group(4)\n",
    "        return f\"{value}_{region}_{var}\"\n",
    "    else:\n",
    "        return None\n",
    "\n",
    "# Collect perturbation files with labels and colors\n",
    "perturb_files = []\n",
    "for partition_name, partition_files in zip(['p_1', 'p_2', 'p_3'], [p_1, p_2, p_3]):\n",
    "# for partition_name, partition_files in zip(['p_4'], [p_4]):\n",
    "    base_color = partition_colors[partition_name]\n",
    "    num_files = len(partition_files)\n",
    "    # Generate different shades of the base color\n",
    "    colors = sns.light_palette(base_color, n_colors=num_files + 2)[1:-1]\n",
    "    for i, file in enumerate(partition_files):\n",
    "        perturb_info = extract_perturbation_info(file)\n",
    "        if perturb_info:\n",
    "            label = f\"{perturb_info}\"\n",
    "            color = colors[i % len(colors)]\n",
    "            perturb_files.append((label, color, file))\n",
    "\n",
    "perturb_datasets = []\n",
    "\n",
    "from multiprocessing import Pool\n",
    "\n",
    "def process_file(file_info):\n",
    "    label, color, file = file_info\n",
    "    dataset = weighted_mean(preprocess_GC(xr.open_dataset(file), target_var))\n",
    "    return (label, color, dataset)\n",
    "\n",
    "with Pool(processes=30) as pool:\n",
    "    perturb_datasets = pool.map(process_file, perturb_files)"
   ]
  },
  {
   "cell_type": "markdown",
   "metadata": {},
   "source": [
    "# NWP Data load"
   ]
  },
  {
   "cell_type": "code",
   "execution_count": null,
   "metadata": {},
   "outputs": [],
   "source": [
    "def piping(dataset:xr.Dataset, target_var):\n",
    "    return weighted_mean(preprocess_nwp(dataset, target_var))\n",
    "\n",
    "from functools import partial\n",
    "pipe = partial(piping, target_var = target_var)\n",
    "\n",
    "if target_var == '2m_temperature':\n",
    "    files = sorted(glob.glob('/geodata2/S2S/ECMWF_Perturbed/Dailyaveraged/t2m/nc/*/Temperature2m_2021-06-21.nc'))\n",
    "\n",
    "elif target_var == 'geopotential':\n",
    "    files = sorted(glob.glob('/geodata2/S2S/ECMWF_Perturbed/InstantaneousAccumulated/z/nc/*/Z_2021-06-21.nc'))\n",
    "\n",
    "files = [f for f in files if int(f.split('/')[-2]) <= 24 * 7]\n",
    "nwp = xr.open_mfdataset(\n",
    "    files,\n",
    "    combine='by_coords',\n",
    "    preprocess=pipe\n",
    ")\n",
    "if target_var == \"2m_temperature\":\n",
    "    nwp = nwp.rename({\"2t\":\"2m_temperature\"})\n",
    "\n",
    "nwp = nwp.compute()\n",
    "df = nwp[target_var].to_dataframe().reset_index()"
   ]
  },
  {
   "cell_type": "code",
   "execution_count": null,
   "metadata": {},
   "outputs": [],
   "source": [
    "\n",
    "# # Plot ensemble members\n",
    "# first_ensemble = True\n",
    "# for ensemble in df['ensemble'].unique():\n",
    "#     subset = df[df['ensemble'] == ensemble]\n",
    "#     if first_ensemble:\n",
    "#         plt.plot(subset['date'], subset['2m_temperature'], color='grey', linewidth=0.5, alpha=0.5, label='Ensemble Members')\n",
    "#         first_ensemble = False\n",
    "#     else:\n",
    "#         plt.plot(subset['date'], subset['2m_temperature'], color='grey', linewidth=0.5, alpha=0.5)\n",
    "\n",
    "# # Plot ensemble mean\n",
    "# mean_temp = df.groupby('date')['2m_temperature'].mean().reset_index()\n",
    "# plt.plot(mean_temp['date'], mean_temp['2m_temperature'], color='black', linewidth=1, label='Ensemble Mean')\n",
    "\n",
    "# # Plot perturbation datasets\n",
    "# for label, color, dataset in perturb_datasets:\n",
    "#     plt.plot(dataset['date'], dataset['2m_temperature'], color=color, linewidth=1, label=label)\n",
    "\n",
    "# # Optional: Plot ERA5 data if available\n",
    "# # era5 = xr.open_dataset(\"/camdata2/ERA5/daily/t2m/2021.nc\").rename({\"time\":\"date\", \"latitude\":\"lat\", \"longitude\":\"lon\"}).sel(date=slice(\"2021-06-22\", \"2021-07-01\"))\n",
    "# # era5 = weighted_mean(era5)\n",
    "# # plt.plot(era5['date'], era5['t2m'], color='red', linewidth=1.5, linestyle='dashed', label='ERA5')\n",
    "\n",
    "# plt.title('Mean 2m Temperature Forecast / 2021-06-21  + 10 days', fontsize=16)\n",
    "# plt.xlabel('Date', fontsize=12)\n",
    "# plt.ylabel('Temperature (K)', fontsize=12)\n",
    "# plt.legend(fontsize=5)\n",
    "\n",
    "# # Adjust y-axis limits based on all datasets\n",
    "# all_temps = []\n",
    "# for _, _, dataset in perturb_datasets:\n",
    "#     all_temps.extend(dataset['2m_temperature'].values)\n",
    "# all_temps.extend(df['2m_temperature'].values)\n",
    "# y_min = min(all_temps) - 2\n",
    "# y_max = max(all_temps) + 2\n",
    "# plt.ylim(y_min, y_max)\n",
    "\n",
    "# plt.tight_layout()\n",
    "# plt.show()\n",
    "# # plt.savefig('figure/2m_temperature_forecast_mean_2021-06-21.png')"
   ]
  },
  {
   "cell_type": "code",
   "execution_count": null,
   "metadata": {},
   "outputs": [
    {
     "data": {
      "image/png": "[encoded data removed]",
      "text/plain": [
       "<Figure size 1600x900 with 1 Axes>"
      ]
     },
     "metadata": {},
     "output_type": "display_data"
    }
   ],
   "source": [
    "plt.figure(figsize=(16, 9))\n",
    "sns.set_style(\"whitegrid\")\n",
    "\n",
    "# Plot ensemble members\n",
    "if target_var == '2m_temperature': \n",
    "    first_ensemble = True\n",
    "    for ensemble in df['ensemble'].unique():\n",
    "        subset = df[df['ensemble'] == ensemble]\n",
    "        if first_ensemble:\n",
    "            plt.plot(subset['date'], subset[target_var], color='grey', linewidth=0.5, alpha=0.5, label='Ensemble Members')         \n",
    "            plt.plot(subset['date'], subset[target_var], color='black', linewidth=0.5, alpha=0.5, label='Ensemble Mean')   \n",
    "            first_ensemble = False\n",
    "        else:\n",
    "            plt.plot(subset['date'], subset[target_var], color='grey', linewidth=0.5, alpha=0.5)\n",
    "\n",
    "\n",
    "# Plot perturbation datasets\n",
    "for label, color, dataset in perturb_datasets:\n",
    "    plt.plot(dataset['date'], dataset[target_var], color=color, linewidth=1, label=label)\n",
    "\n",
    "# Optional: Plot ERA5 data if available\n",
    "# era5 = xr.open_dataset(\"/camdata2/ERA5/daily/t2m/2021.nc\").rename({\"time\":\"date\", \"latitude\":\"lat\", \"longitude\":\"lon\"}).sel(date=slice(\"2021-06-22\", \"2021-07-01\"))\n",
    "# era5 = weighted_mean(era5)\n",
    "# plt.plot(era5['date'], era5[target_var], color='red', linewidth=1.5, linestyle='dashed', label='ERA5')\n",
    "\n",
    "\n",
    "\n",
    "plt.xlabel('Date', fontsize=12)\n",
    "if target_var == '2m_temperature':\n",
    "    plt.title('Mean 2m Temperature Forecast / 2021-06-21  + 7 days', fontsize=16)\n",
    "    plt.ylabel('Temperature (K)', fontsize=12)\n",
    "elif target_var == 'geopotential':\n",
    "    plt.title('Mean 500hPa geopotential Forecast / 2021-06-21  + 7 days', fontsize=16)\n",
    "    plt.ylabel('Geopotential (m^2/s^2)', fontsize=12)\n",
    "\n",
    "\n",
    "# Adjust y-axis limits based on all datasets\n",
    "all_temps = []\n",
    "for _, _, dataset in perturb_datasets:\n",
    "    all_temps.extend(dataset[target_var].values)\n",
    "# all_temps.extend(df[target_var].values)\n",
    "# y_min = min(mean_temp[target_var]) - 1\n",
    "# y_max = max(mean_temp[target_var]) + 1\n",
    "# plt.ylim(y_min, y_max)\n",
    "plt.xlim([pd.Timestamp('2021-06-22'), pd.Timestamp('2021-06-28')])\n",
    "\n",
    "plt.tight_layout()\n",
    "plt.show()"
   ]
  },
  {
   "cell_type": "markdown",
   "metadata": {},
   "source": [
    "#"
   ]
  },
  {
   "cell_type": "code",
   "execution_count": null,
   "metadata": {},
   "outputs": [
    {
     "data": {
      "application/vnd.plotly.v1+json": {
       "config": {
        "plotlyServerURL": "https://plot.ly"
       },
       "data": [
        {
         "legendgroup": "0.001_global_00000000001",
         "legendgrouptitle": {
          "text": "0.001_global_00000000001"
         },
         "line": {
          "color": "rgb(235, 235, 242)",
          "width": 1
         },
         "mode": "lines",
         "name": "0.001_global_00000000001",
         "showlegend": true,
         "type": "scatter",
         "x": [
          "2021-06-22T00:00:00.000000000",
          "2021-06-23T00:00:00.000000000",
          "2021-06-24T00:00:00.000000000",
          "2021-06-25T00:00:00.000000000",
          "2021-06-26T00:00:00.000000000",
          "2021-06-27T00:00:00.000000000",
          "2021-06-28T00:00:00.000000000"
         ],
         "y": [
          289.3352,
          289.34985,
          289.36597,
          289.37195,
          289.3426,
          289.27228,
          289.22177
         ]
        },
        {
         "legendgroup": "1_global_00000000001",
         "legendgrouptitle": {
          "text": "1_global_00000000001"
         },
         "line": {
          "color": "rgb(230, 230, 243)",
          "width": 1
         },
         "mode": "lines",
         "name": "1_global_00000000001",
         "showlegend": true,
         "type": "scatter",
         "x": [
          "2021-06-22T00:00:00.000000000",
          "2021-06-23T00:00:00.000000000",
          "2021-06-24T00:00:00.000000000",
          "2021-06-25T00:00:00.000000000",
          "2021-06-26T00:00:00.000000000",
          "2021-06-27T00:00:00.000000000",
          "2021-06-28T00:00:00.000000000"
         ],
         "y": [
          288.4677,
          287.2917,
          286.9017,
          286.75638,
          286.7355,
          286.7074,
          286.66064
         ]
        },
        {
         "legendgroup": "0.001_global_00000000010",
         "legendgrouptitle": {
          "text": "0.001_global_00000000010"
         },
         "line": {
          "color": "rgb(225, 225, 243)",
          "width": 1
         },
         "mode": "lines",
         "name": "0.001_global_00000000010",
         "showlegend": true,
         "type": "scatter",
         "x": [
          "2021-06-22T00:00:00.000000000",
          "2021-06-23T00:00:00.000000000",
          "2021-06-24T00:00:00.000000000",
          "2021-06-25T00:00:00.000000000",
          "2021-06-26T00:00:00.000000000",
          "2021-06-27T00:00:00.000000000",
          "2021-06-28T00:00:00.000000000"
         ],
         "y": [
          289.33533,
          289.34918,
          289.3655,
          289.37192,
          289.34256,
          289.27133,
          289.22147
         ]
        },
        {
         "legendgroup": "1_global_00000000010",
         "legendgrouptitle": {
          "text": "1_global_00000000010"
         },
         "line": {
          "color": "rgb(220, 220, 243)",
          "width": 1
         },
         "mode": "lines",
         "name": "1_global_00000000010",
         "showlegend": true,
         "type": "scatter",
         "x": [
          "2021-06-22T00:00:00.000000000",
          "2021-06-23T00:00:00.000000000",
          "2021-06-24T00:00:00.000000000",
          "2021-06-25T00:00:00.000000000",
          "2021-06-26T00:00:00.000000000",
          "2021-06-27T00:00:00.000000000",
          "2021-06-28T00:00:00.000000000"
         ],
         "y": [
          288.31488,
          287.7951,
          287.76907,
          287.7987,
          287.80832,
          287.7911,
          287.78467
         ]
        },
        {
         "legendgroup": "0.001_global_00000000100",
         "legendgrouptitle": {
          "text": "0.001_global_00000000100"
         },
         "line": {
          "color": "rgb(214, 214, 244)",
          "width": 1
         },
         "mode": "lines",
         "name": "0.001_global_00000000100",
         "showlegend": true,
         "type": "scatter",
         "x": [
          "2021-06-22T00:00:00.000000000",
          "2021-06-23T00:00:00.000000000",
          "2021-06-24T00:00:00.000000000",
          "2021-06-25T00:00:00.000000000",
          "2021-06-26T00:00:00.000000000",
          "2021-06-27T00:00:00.000000000",
          "2021-06-28T00:00:00.000000000"
         ],
         "y": [
          289.3348,
          289.349,
          289.36502,
          289.3713,
          289.34274,
          289.27094,
          289.21976
         ]
        },
        {
         "legendgroup": "1_global_00000000100",
         "legendgrouptitle": {
          "text": "1_global_00000000100"
         },
         "line": {
          "color": "rgb(210, 210, 244)",
          "width": 1
         },
         "mode": "lines",
         "name": "1_global_00000000100",
         "showlegend": true,
         "type": "scatter",
         "x": [
          "2021-06-22T00:00:00.000000000",
          "2021-06-23T00:00:00.000000000",
          "2021-06-24T00:00:00.000000000",
          "2021-06-25T00:00:00.000000000",
          "2021-06-26T00:00:00.000000000",
          "2021-06-27T00:00:00.000000000",
          "2021-06-28T00:00:00.000000000"
         ],
         "y": [
          287.91367,
          286.66736,
          286.50555,
          286.50034,
          286.52042,
          286.5754,
          286.6479
         ]
        },
        {
         "legendgroup": "0.001_global_00000001000",
         "legendgrouptitle": {
          "text": "0.001_global_00000001000"
         },
         "line": {
          "color": "rgb(204, 204, 244)",
          "width": 1
         },
         "mode": "lines",
         "name": "0.001_global_00000001000",
         "showlegend": true,
         "type": "scatter",
         "x": [
          "2021-06-22T00:00:00.000000000",
          "2021-06-23T00:00:00.000000000",
          "2021-06-24T00:00:00.000000000",
          "2021-06-25T00:00:00.000000000",
          "2021-06-26T00:00:00.000000000",
          "2021-06-27T00:00:00.000000000",
          "2021-06-28T00:00:00.000000000"
         ],
         "y": [
          289.33487,
          289.34918,
          289.3655,
          289.3721,
          289.34317,
          289.2722,
          289.2236
         ]
        },
        {
         "legendgroup": "1_global_00000001000",
         "legendgrouptitle": {
          "text": "1_global_00000001000"
         },
         "line": {
          "color": "rgb(199, 199, 244)",
          "width": 1
         },
         "mode": "lines",
         "name": "1_global_00000001000",
         "showlegend": true,
         "type": "scatter",
         "x": [
          "2021-06-22T00:00:00.000000000",
          "2021-06-23T00:00:00.000000000",
          "2021-06-24T00:00:00.000000000",
          "2021-06-25T00:00:00.000000000",
          "2021-06-26T00:00:00.000000000",
          "2021-06-27T00:00:00.000000000",
          "2021-06-28T00:00:00.000000000"
         ],
         "y": [
          289.16803,
          289.255,
          289.34753,
          289.47745,
          289.64435,
          289.792,
          289.96704
         ]
        },
        {
         "legendgroup": "0.001_global_00000010000",
         "legendgrouptitle": {
          "text": "0.001_global_00000010000"
         },
         "line": {
          "color": "rgb(194, 194, 245)",
          "width": 1
         },
         "mode": "lines",
         "name": "0.001_global_00000010000",
         "showlegend": true,
         "type": "scatter",
         "x": [
          "2021-06-22T00:00:00.000000000",
          "2021-06-23T00:00:00.000000000",
          "2021-06-24T00:00:00.000000000",
          "2021-06-25T00:00:00.000000000",
          "2021-06-26T00:00:00.000000000",
          "2021-06-27T00:00:00.000000000",
          "2021-06-28T00:00:00.000000000"
         ],
         "y": [
          289.34995,
          289.39096,
          289.44305,
          289.50244,
          289.5638,
          289.64557,
          289.7601
         ]
        },
        {
         "legendgroup": "1_global_00000010000",
         "legendgrouptitle": {
          "text": "1_global_00000010000"
         },
         "line": {
          "color": "rgb(189, 189, 245)",
          "width": 1
         },
         "mode": "lines",
         "name": "1_global_00000010000",
         "showlegend": true,
         "type": "scatter",
         "x": [
          "2021-06-22T00:00:00.000000000",
          "2021-06-23T00:00:00.000000000",
          "2021-06-24T00:00:00.000000000",
          "2021-06-25T00:00:00.000000000",
          "2021-06-26T00:00:00.000000000",
          "2021-06-27T00:00:00.000000000",
          "2021-06-28T00:00:00.000000000"
         ],
         "y": [
          293.48215,
          299.90445,
          306.3049,
          312.69595,
          319.07254,
          325.41623,
          331.70404
         ]
        },
        {
         "legendgroup": "0.001_global_00000100000",
         "legendgrouptitle": {
          "text": "0.001_global_00000100000"
         },
         "line": {
          "color": "rgb(184, 184, 245)",
          "width": 1
         },
         "mode": "lines",
         "name": "0.001_global_00000100000",
         "showlegend": true,
         "type": "scatter",
         "x": [
          "2021-06-22T00:00:00.000000000",
          "2021-06-23T00:00:00.000000000",
          "2021-06-24T00:00:00.000000000",
          "2021-06-25T00:00:00.000000000",
          "2021-06-26T00:00:00.000000000",
          "2021-06-27T00:00:00.000000000",
          "2021-06-28T00:00:00.000000000"
         ],
         "y": [
          289.33557,
          289.35007,
          289.36633,
          289.3728,
          289.34354,
          289.27194,
          289.22278
         ]
        },
        {
         "legendgroup": "1_global_00000100000",
         "legendgrouptitle": {
          "text": "1_global_00000100000"
         },
         "line": {
          "color": "rgb(179, 179, 245)",
          "width": 1
         },
         "mode": "lines",
         "name": "1_global_00000100000",
         "showlegend": true,
         "type": "scatter",
         "x": [
          "2021-06-22T00:00:00.000000000",
          "2021-06-23T00:00:00.000000000",
          "2021-06-24T00:00:00.000000000",
          "2021-06-25T00:00:00.000000000",
          "2021-06-26T00:00:00.000000000",
          "2021-06-27T00:00:00.000000000",
          "2021-06-28T00:00:00.000000000"
         ],
         "y": [
          289.0073,
          288.8325,
          288.98282,
          288.99136,
          288.7945,
          288.52087,
          288.2075
         ]
        },
        {
         "legendgroup": "0.001_global_00001000000",
         "legendgrouptitle": {
          "text": "0.001_global_00001000000"
         },
         "line": {
          "color": "rgb(174, 174, 246)",
          "width": 1
         },
         "mode": "lines",
         "name": "0.001_global_00001000000",
         "showlegend": true,
         "type": "scatter",
         "x": [
          "2021-06-22T00:00:00.000000000",
          "2021-06-23T00:00:00.000000000",
          "2021-06-24T00:00:00.000000000",
          "2021-06-25T00:00:00.000000000",
          "2021-06-26T00:00:00.000000000",
          "2021-06-27T00:00:00.000000000",
          "2021-06-28T00:00:00.000000000"
         ],
         "y": [
          289.18323,
          289.08945,
          289.08136,
          289.08783,
          289.061,
          289.00494,
          288.9702
         ]
        },
        {
         "legendgroup": "1_global_00001000000",
         "legendgrouptitle": {
          "text": "1_global_00001000000"
         },
         "line": {
          "color": "rgb(168, 168, 246)",
          "width": 1
         },
         "mode": "lines",
         "name": "1_global_00001000000",
         "showlegend": true,
         "type": "scatter",
         "x": [
          "2021-06-22T00:00:00.000000000",
          "2021-06-23T00:00:00.000000000",
          "2021-06-24T00:00:00.000000000",
          "2021-06-25T00:00:00.000000000",
          "2021-06-26T00:00:00.000000000",
          "2021-06-27T00:00:00.000000000",
          "2021-06-28T00:00:00.000000000"
         ],
         "y": [
          286.03818,
          281.72797,
          278.31012,
          274.9834,
          271.64746,
          268.26367,
          264.8946
         ]
        },
        {
         "legendgroup": "0.001_global_00010000000",
         "legendgrouptitle": {
          "text": "0.001_global_00010000000"
         },
         "line": {
          "color": "rgb(164, 164, 246)",
          "width": 1
         },
         "mode": "lines",
         "name": "0.001_global_00010000000",
         "showlegend": true,
         "type": "scatter",
         "x": [
          "2021-06-22T00:00:00.000000000",
          "2021-06-23T00:00:00.000000000",
          "2021-06-24T00:00:00.000000000",
          "2021-06-25T00:00:00.000000000",
          "2021-06-26T00:00:00.000000000",
          "2021-06-27T00:00:00.000000000",
          "2021-06-28T00:00:00.000000000"
         ],
         "y": [
          289.33475,
          289.34946,
          289.36566,
          289.3719,
          289.34314,
          289.2717,
          289.22086
         ]
        },
        {
         "legendgroup": "1_global_00010000000",
         "legendgrouptitle": {
          "text": "1_global_00010000000"
         },
         "line": {
          "color": "rgb(158, 158, 246)",
          "width": 1
         },
         "mode": "lines",
         "name": "1_global_00010000000",
         "showlegend": true,
         "type": "scatter",
         "x": [
          "2021-06-22T00:00:00.000000000",
          "2021-06-23T00:00:00.000000000",
          "2021-06-24T00:00:00.000000000",
          "2021-06-25T00:00:00.000000000",
          "2021-06-26T00:00:00.000000000",
          "2021-06-27T00:00:00.000000000",
          "2021-06-28T00:00:00.000000000"
         ],
         "y": [
          292.38785,
          293.2954,
          291.9,
          290.06564,
          288.33484,
          287.08084,
          286.3861
         ]
        },
        {
         "legendgroup": "0.001_global_00100000000",
         "legendgrouptitle": {
          "text": "0.001_global_00100000000"
         },
         "line": {
          "color": "rgb(153, 153, 247)",
          "width": 1
         },
         "mode": "lines",
         "name": "0.001_global_00100000000",
         "showlegend": true,
         "type": "scatter",
         "x": [
          "2021-06-22T00:00:00.000000000",
          "2021-06-23T00:00:00.000000000",
          "2021-06-24T00:00:00.000000000",
          "2021-06-25T00:00:00.000000000",
          "2021-06-26T00:00:00.000000000",
          "2021-06-27T00:00:00.000000000",
          "2021-06-28T00:00:00.000000000"
         ],
         "y": [
          289.335,
          289.34872,
          289.36523,
          289.3712,
          289.34268,
          289.27057,
          289.22104
         ]
        },
        {
         "legendgroup": "1_global_00100000000",
         "legendgrouptitle": {
          "text": "1_global_00100000000"
         },
         "line": {
          "color": "rgb(148, 148, 247)",
          "width": 1
         },
         "mode": "lines",
         "name": "1_global_00100000000",
         "showlegend": true,
         "type": "scatter",
         "x": [
          "2021-06-22T00:00:00.000000000",
          "2021-06-23T00:00:00.000000000",
          "2021-06-24T00:00:00.000000000",
          "2021-06-25T00:00:00.000000000",
          "2021-06-26T00:00:00.000000000",
          "2021-06-27T00:00:00.000000000",
          "2021-06-28T00:00:00.000000000"
         ],
         "y": [
          295.0796,
          295.5373,
          294.77222,
          294.48328,
          294.2689,
          294.10092,
          293.96384
         ]
        },
        {
         "legendgroup": "0.001_global_01000000000",
         "legendgrouptitle": {
          "text": "0.001_global_01000000000"
         },
         "line": {
          "color": "rgb(143, 143, 247)",
          "width": 1
         },
         "mode": "lines",
         "name": "0.001_global_01000000000",
         "showlegend": true,
         "type": "scatter",
         "x": [
          "2021-06-22T00:00:00.000000000",
          "2021-06-23T00:00:00.000000000",
          "2021-06-24T00:00:00.000000000",
          "2021-06-25T00:00:00.000000000",
          "2021-06-26T00:00:00.000000000",
          "2021-06-27T00:00:00.000000000",
          "2021-06-28T00:00:00.000000000"
         ],
         "y": [
          289.33533,
          289.34995,
          289.36597,
          289.37244,
          289.34357,
          289.2721,
          289.22168
         ]
        },
        {
         "legendgroup": "1_global_01000000000",
         "legendgrouptitle": {
          "text": "1_global_01000000000"
         },
         "line": {
          "color": "rgb(138, 138, 247)",
          "width": 1
         },
         "mode": "lines",
         "name": "1_global_01000000000",
         "showlegend": true,
         "type": "scatter",
         "x": [
          "2021-06-22T00:00:00.000000000",
          "2021-06-23T00:00:00.000000000",
          "2021-06-24T00:00:00.000000000",
          "2021-06-25T00:00:00.000000000",
          "2021-06-26T00:00:00.000000000",
          "2021-06-27T00:00:00.000000000",
          "2021-06-28T00:00:00.000000000"
         ],
         "y": [
          289.17157,
          289.10205,
          289.10458,
          289.11798,
          289.0994,
          289.03546,
          288.99884
         ]
        },
        {
         "legendgroup": "0.001_global_01111111111",
         "legendgrouptitle": {
          "text": "0.001_global_01111111111"
         },
         "line": {
          "color": "rgb(132, 132, 248)",
          "width": 1
         },
         "mode": "lines",
         "name": "0.001_global_01111111111",
         "showlegend": true,
         "type": "scatter",
         "x": [
          "2021-06-22T00:00:00.000000000",
          "2021-06-23T00:00:00.000000000",
          "2021-06-24T00:00:00.000000000",
          "2021-06-25T00:00:00.000000000",
          "2021-06-26T00:00:00.000000000",
          "2021-06-27T00:00:00.000000000",
          "2021-06-28T00:00:00.000000000"
         ],
         "y": [
          289.1855,
          289.14487,
          289.17722,
          289.22302,
          289.29114,
          289.39273,
          289.57385
         ]
        },
        {
         "legendgroup": "1_global_01111111111",
         "legendgrouptitle": {
          "text": "1_global_01111111111"
         },
         "line": {
          "color": "rgb(128, 128, 248)",
          "width": 1
         },
         "mode": "lines",
         "name": "1_global_01111111111",
         "showlegend": true,
         "type": "scatter",
         "x": [
          "2021-06-22T00:00:00.000000000",
          "2021-06-23T00:00:00.000000000",
          "2021-06-24T00:00:00.000000000",
          "2021-06-25T00:00:00.000000000",
          "2021-06-26T00:00:00.000000000",
          "2021-06-27T00:00:00.000000000",
          "2021-06-28T00:00:00.000000000"
         ],
         "y": [
          293.44815,
          299.7362,
          305.92545,
          312.01617,
          318.01,
          323.90707,
          329.70682
         ]
        },
        {
         "legendgroup": "0.001_global_10000000000",
         "legendgrouptitle": {
          "text": "0.001_global_10000000000"
         },
         "line": {
          "color": "rgb(122, 122, 248)",
          "width": 1
         },
         "mode": "lines",
         "name": "0.001_global_10000000000",
         "showlegend": true,
         "type": "scatter",
         "x": [
          "2021-06-22T00:00:00.000000000",
          "2021-06-23T00:00:00.000000000",
          "2021-06-24T00:00:00.000000000",
          "2021-06-25T00:00:00.000000000",
          "2021-06-26T00:00:00.000000000",
          "2021-06-27T00:00:00.000000000",
          "2021-06-28T00:00:00.000000000"
         ],
         "y": [
          289.33502,
          289.34875,
          289.3654,
          289.37192,
          289.34317,
          289.27136,
          289.22076
         ]
        },
        {
         "legendgroup": "1_global_10000000000",
         "legendgrouptitle": {
          "text": "1_global_10000000000"
         },
         "line": {
          "color": "rgb(117, 117, 248)",
          "width": 1
         },
         "mode": "lines",
         "name": "1_global_10000000000",
         "showlegend": true,
         "type": "scatter",
         "x": [
          "2021-06-22T00:00:00.000000000",
          "2021-06-23T00:00:00.000000000",
          "2021-06-24T00:00:00.000000000",
          "2021-06-25T00:00:00.000000000",
          "2021-06-26T00:00:00.000000000",
          "2021-06-27T00:00:00.000000000",
          "2021-06-28T00:00:00.000000000"
         ],
         "y": [
          289.1054,
          289.00635,
          289.00116,
          289.0112,
          288.99295,
          288.93134,
          288.89575
         ]
        },
        {
         "legendgroup": "0.001_global_10111111111",
         "legendgrouptitle": {
          "text": "0.001_global_10111111111"
         },
         "line": {
          "color": "rgb(112, 112, 249)",
          "width": 1
         },
         "mode": "lines",
         "name": "0.001_global_10111111111",
         "showlegend": true,
         "type": "scatter",
         "x": [
          "2021-06-22T00:00:00.000000000",
          "2021-06-23T00:00:00.000000000",
          "2021-06-24T00:00:00.000000000",
          "2021-06-25T00:00:00.000000000",
          "2021-06-26T00:00:00.000000000",
          "2021-06-27T00:00:00.000000000",
          "2021-06-28T00:00:00.000000000"
         ],
         "y": [
          289.186,
          289.14673,
          289.17957,
          289.22504,
          289.29434,
          289.3941,
          289.57233
         ]
        },
        {
         "legendgroup": "1_global_10111111111",
         "legendgrouptitle": {
          "text": "1_global_10111111111"
         },
         "line": {
          "color": "rgb(107, 107, 249)",
          "width": 1
         },
         "mode": "lines",
         "name": "1_global_10111111111",
         "showlegend": true,
         "type": "scatter",
         "x": [
          "2021-06-22T00:00:00.000000000",
          "2021-06-23T00:00:00.000000000",
          "2021-06-24T00:00:00.000000000",
          "2021-06-25T00:00:00.000000000",
          "2021-06-26T00:00:00.000000000",
          "2021-06-27T00:00:00.000000000",
          "2021-06-28T00:00:00.000000000"
         ],
         "y": [
          293.447,
          299.73355,
          305.9225,
          312.0133,
          318.0068,
          323.90375,
          329.70294
         ]
        },
        {
         "legendgroup": "0.001_global_11011111111",
         "legendgrouptitle": {
          "text": "0.001_global_11011111111"
         },
         "line": {
          "color": "rgb(101, 101, 249)",
          "width": 1
         },
         "mode": "lines",
         "name": "0.001_global_11011111111",
         "showlegend": true,
         "type": "scatter",
         "x": [
          "2021-06-22T00:00:00.000000000",
          "2021-06-23T00:00:00.000000000",
          "2021-06-24T00:00:00.000000000",
          "2021-06-25T00:00:00.000000000",
          "2021-06-26T00:00:00.000000000",
          "2021-06-27T00:00:00.000000000",
          "2021-06-28T00:00:00.000000000"
         ],
         "y": [
          289.18982,
          289.1516,
          289.18494,
          289.23038,
          289.29962,
          289.3997,
          289.57977
         ]
        },
        {
         "legendgroup": "1_global_11011111111",
         "legendgrouptitle": {
          "text": "1_global_11011111111"
         },
         "line": {
          "color": "rgb(97, 97, 250)",
          "width": 1
         },
         "mode": "lines",
         "name": "1_global_11011111111",
         "showlegend": true,
         "type": "scatter",
         "x": [
          "2021-06-22T00:00:00.000000000",
          "2021-06-23T00:00:00.000000000",
          "2021-06-24T00:00:00.000000000",
          "2021-06-25T00:00:00.000000000",
          "2021-06-26T00:00:00.000000000",
          "2021-06-27T00:00:00.000000000",
          "2021-06-28T00:00:00.000000000"
         ],
         "y": [
          293.41882,
          299.7091,
          305.90442,
          311.99756,
          317.99036,
          323.886,
          329.6825
         ]
        },
        {
         "legendgroup": "0.001_global_11101111111",
         "legendgrouptitle": {
          "text": "0.001_global_11101111111"
         },
         "line": {
          "color": "rgb(92, 92, 250)",
          "width": 1
         },
         "mode": "lines",
         "name": "0.001_global_11101111111",
         "showlegend": true,
         "type": "scatter",
         "x": [
          "2021-06-22T00:00:00.000000000",
          "2021-06-23T00:00:00.000000000",
          "2021-06-24T00:00:00.000000000",
          "2021-06-25T00:00:00.000000000",
          "2021-06-26T00:00:00.000000000",
          "2021-06-27T00:00:00.000000000",
          "2021-06-28T00:00:00.000000000"
         ],
         "y": [
          289.18637,
          289.14703,
          289.1799,
          289.2243,
          289.29266,
          289.39322,
          289.57434
         ]
        },
        {
         "legendgroup": "1_global_11101111111",
         "legendgrouptitle": {
          "text": "1_global_11101111111"
         },
         "line": {
          "color": "rgb(86, 86, 250)",
          "width": 1
         },
         "mode": "lines",
         "name": "1_global_11101111111",
         "showlegend": true,
         "type": "scatter",
         "x": [
          "2021-06-22T00:00:00.000000000",
          "2021-06-23T00:00:00.000000000",
          "2021-06-24T00:00:00.000000000",
          "2021-06-25T00:00:00.000000000",
          "2021-06-26T00:00:00.000000000",
          "2021-06-27T00:00:00.000000000",
          "2021-06-28T00:00:00.000000000"
         ],
         "y": [
          293.43997,
          299.71133,
          305.88965,
          311.97235,
          317.95706,
          323.8429,
          329.6317
         ]
        },
        {
         "legendgroup": "0.001_global_11110111111",
         "legendgrouptitle": {
          "text": "0.001_global_11110111111"
         },
         "line": {
          "color": "rgb(82, 82, 250)",
          "width": 1
         },
         "mode": "lines",
         "name": "0.001_global_11110111111",
         "showlegend": true,
         "type": "scatter",
         "x": [
          "2021-06-22T00:00:00.000000000",
          "2021-06-23T00:00:00.000000000",
          "2021-06-24T00:00:00.000000000",
          "2021-06-25T00:00:00.000000000",
          "2021-06-26T00:00:00.000000000",
          "2021-06-27T00:00:00.000000000",
          "2021-06-28T00:00:00.000000000"
         ],
         "y": [
          289.34616,
          289.38617,
          289.4384,
          289.49738,
          289.5588,
          289.63858,
          289.75977
         ]
        },
        {
         "legendgroup": "1_global_11110111111",
         "legendgrouptitle": {
          "text": "1_global_11110111111"
         },
         "line": {
          "color": "rgb(76, 76, 251)",
          "width": 1
         },
         "mode": "lines",
         "name": "1_global_11110111111",
         "showlegend": true,
         "type": "scatter",
         "x": [
          "2021-06-22T00:00:00.000000000",
          "2021-06-23T00:00:00.000000000",
          "2021-06-24T00:00:00.000000000",
          "2021-06-25T00:00:00.000000000",
          "2021-06-26T00:00:00.000000000",
          "2021-06-27T00:00:00.000000000",
          "2021-06-28T00:00:00.000000000"
         ],
         "y": [
          293.46243,
          299.80832,
          306.1409,
          312.47653,
          318.80542,
          325.10614,
          331.35602
         ]
        },
        {
         "legendgroup": "0.001_global_11111011111",
         "legendgrouptitle": {
          "text": "0.001_global_11111011111"
         },
         "line": {
          "color": "rgb(71, 71, 251)",
          "width": 1
         },
         "mode": "lines",
         "name": "0.001_global_11111011111",
         "showlegend": true,
         "type": "scatter",
         "x": [
          "2021-06-22T00:00:00.000000000",
          "2021-06-23T00:00:00.000000000",
          "2021-06-24T00:00:00.000000000",
          "2021-06-25T00:00:00.000000000",
          "2021-06-26T00:00:00.000000000",
          "2021-06-27T00:00:00.000000000",
          "2021-06-28T00:00:00.000000000"
         ],
         "y": [
          289.18512,
          289.1448,
          289.17764,
          289.2241,
          289.29337,
          289.39484,
          289.57755
         ]
        },
        {
         "legendgroup": "1_global_11111011111",
         "legendgrouptitle": {
          "text": "1_global_11111011111"
         },
         "line": {
          "color": "rgb(65, 65, 251)",
          "width": 1
         },
         "mode": "lines",
         "name": "1_global_11111011111",
         "showlegend": true,
         "type": "scatter",
         "x": [
          "2021-06-22T00:00:00.000000000",
          "2021-06-23T00:00:00.000000000",
          "2021-06-24T00:00:00.000000000",
          "2021-06-25T00:00:00.000000000",
          "2021-06-26T00:00:00.000000000",
          "2021-06-27T00:00:00.000000000",
          "2021-06-28T00:00:00.000000000"
         ],
         "y": [
          293.45877,
          299.77008,
          305.97638,
          312.07736,
          318.08105,
          323.98758,
          329.79626
         ]
        },
        {
         "legendgroup": "0.001_global_11111101111",
         "legendgrouptitle": {
          "text": "0.001_global_11111101111"
         },
         "line": {
          "color": "rgb(61, 61, 251)",
          "width": 1
         },
         "mode": "lines",
         "name": "0.001_global_11111101111",
         "showlegend": true,
         "type": "scatter",
         "x": [
          "2021-06-22T00:00:00.000000000",
          "2021-06-23T00:00:00.000000000",
          "2021-06-24T00:00:00.000000000",
          "2021-06-25T00:00:00.000000000",
          "2021-06-26T00:00:00.000000000",
          "2021-06-27T00:00:00.000000000",
          "2021-06-28T00:00:00.000000000"
         ],
         "y": [
          289.17764,
          289.08118,
          289.07303,
          289.07922,
          289.0521,
          288.99445,
          288.95886
         ]
        },
        {
         "legendgroup": "1_global_11111101111",
         "legendgrouptitle": {
          "text": "1_global_11111101111"
         },
         "line": {
          "color": "rgb(55, 55, 252)",
          "width": 1
         },
         "mode": "lines",
         "name": "1_global_11111101111",
         "showlegend": true,
         "type": "scatter",
         "x": [
          "2021-06-22T00:00:00.000000000",
          "2021-06-23T00:00:00.000000000",
          "2021-06-24T00:00:00.000000000",
          "2021-06-25T00:00:00.000000000",
          "2021-06-26T00:00:00.000000000",
          "2021-06-27T00:00:00.000000000",
          "2021-06-28T00:00:00.000000000"
         ],
         "y": [
          281.8952,
          270.85666,
          262.59055,
          256.69128,
          252.26353,
          248.68216,
          245.53801
         ]
        },
        {
         "legendgroup": "0.001_global_11111110111",
         "legendgrouptitle": {
          "text": "0.001_global_11111110111"
         },
         "line": {
          "color": "rgb(50, 50, 252)",
          "width": 1
         },
         "mode": "lines",
         "name": "0.001_global_11111110111",
         "showlegend": true,
         "type": "scatter",
         "x": [
          "2021-06-22T00:00:00.000000000",
          "2021-06-23T00:00:00.000000000",
          "2021-06-24T00:00:00.000000000",
          "2021-06-25T00:00:00.000000000",
          "2021-06-26T00:00:00.000000000",
          "2021-06-27T00:00:00.000000000",
          "2021-06-28T00:00:00.000000000"
         ],
         "y": [
          289.1858,
          289.1456,
          289.1774,
          289.223,
          289.29315,
          289.39478,
          289.57895
         ]
        },
        {
         "legendgroup": "1_global_11111110111",
         "legendgrouptitle": {
          "text": "1_global_11111110111"
         },
         "line": {
          "color": "rgb(46, 46, 252)",
          "width": 1
         },
         "mode": "lines",
         "name": "1_global_11111110111",
         "showlegend": true,
         "type": "scatter",
         "x": [
          "2021-06-22T00:00:00.000000000",
          "2021-06-23T00:00:00.000000000",
          "2021-06-24T00:00:00.000000000",
          "2021-06-25T00:00:00.000000000",
          "2021-06-26T00:00:00.000000000",
          "2021-06-27T00:00:00.000000000",
          "2021-06-28T00:00:00.000000000"
         ],
         "y": [
          293.44644,
          299.73148,
          305.91602,
          312.00302,
          317.99374,
          323.88696,
          329.683
         ]
        },
        {
         "legendgroup": "0.001_global_11111111011",
         "legendgrouptitle": {
          "text": "0.001_global_11111111011"
         },
         "line": {
          "color": "rgb(40, 40, 252)",
          "width": 1
         },
         "mode": "lines",
         "name": "0.001_global_11111111011",
         "showlegend": true,
         "type": "scatter",
         "x": [
          "2021-06-22T00:00:00.000000000",
          "2021-06-23T00:00:00.000000000",
          "2021-06-24T00:00:00.000000000",
          "2021-06-25T00:00:00.000000000",
          "2021-06-26T00:00:00.000000000",
          "2021-06-27T00:00:00.000000000",
          "2021-06-28T00:00:00.000000000"
         ],
         "y": [
          289.1861,
          289.14682,
          289.17957,
          289.22638,
          289.29565,
          289.3944,
          289.57822
         ]
        },
        {
         "legendgroup": "1_global_11111111011",
         "legendgrouptitle": {
          "text": "1_global_11111111011"
         },
         "line": {
          "color": "rgb(35, 35, 253)",
          "width": 1
         },
         "mode": "lines",
         "name": "1_global_11111111011",
         "showlegend": true,
         "type": "scatter",
         "x": [
          "2021-06-22T00:00:00.000000000",
          "2021-06-23T00:00:00.000000000",
          "2021-06-24T00:00:00.000000000",
          "2021-06-25T00:00:00.000000000",
          "2021-06-26T00:00:00.000000000",
          "2021-06-27T00:00:00.000000000",
          "2021-06-28T00:00:00.000000000"
         ],
         "y": [
          293.44614,
          299.73196,
          305.92172,
          312.0153,
          318.0125,
          323.9125,
          329.71423
         ]
        },
        {
         "legendgroup": "0.001_global_11111111101",
         "legendgrouptitle": {
          "text": "0.001_global_11111111101"
         },
         "line": {
          "color": "rgb(30, 30, 253)",
          "width": 1
         },
         "mode": "lines",
         "name": "0.001_global_11111111101",
         "showlegend": true,
         "type": "scatter",
         "x": [
          "2021-06-22T00:00:00.000000000",
          "2021-06-23T00:00:00.000000000",
          "2021-06-24T00:00:00.000000000",
          "2021-06-25T00:00:00.000000000",
          "2021-06-26T00:00:00.000000000",
          "2021-06-27T00:00:00.000000000",
          "2021-06-28T00:00:00.000000000"
         ],
         "y": [
          289.18567,
          289.14548,
          289.17822,
          289.22443,
          289.29202,
          289.39175,
          289.57492
         ]
        },
        {
         "legendgroup": "1_global_11111111101",
         "legendgrouptitle": {
          "text": "1_global_11111111101"
         },
         "line": {
          "color": "rgb(25, 25, 253)",
          "width": 1
         },
         "mode": "lines",
         "name": "1_global_11111111101",
         "showlegend": true,
         "type": "scatter",
         "x": [
          "2021-06-22T00:00:00.000000000",
          "2021-06-23T00:00:00.000000000",
          "2021-06-24T00:00:00.000000000",
          "2021-06-25T00:00:00.000000000",
          "2021-06-26T00:00:00.000000000",
          "2021-06-27T00:00:00.000000000",
          "2021-06-28T00:00:00.000000000"
         ],
         "y": [
          293.447,
          299.73456,
          305.9249,
          312.01706,
          318.01328,
          323.91217,
          329.71216
         ]
        },
        {
         "legendgroup": "0.001_global_11111111110",
         "legendgrouptitle": {
          "text": "0.001_global_11111111110"
         },
         "line": {
          "color": "rgb(19, 19, 253)",
          "width": 1
         },
         "mode": "lines",
         "name": "0.001_global_11111111110",
         "showlegend": true,
         "type": "scatter",
         "x": [
          "2021-06-22T00:00:00.000000000",
          "2021-06-23T00:00:00.000000000",
          "2021-06-24T00:00:00.000000000",
          "2021-06-25T00:00:00.000000000",
          "2021-06-26T00:00:00.000000000",
          "2021-06-27T00:00:00.000000000",
          "2021-06-28T00:00:00.000000000"
         ],
         "y": [
          289.18594,
          289.14688,
          289.17883,
          289.22476,
          289.29285,
          289.39304,
          289.57315
         ]
        },
        {
         "legendgroup": "1_global_11111111110",
         "legendgrouptitle": {
          "text": "1_global_11111111110"
         },
         "line": {
          "color": "rgb(15, 15, 254)",
          "width": 1
         },
         "mode": "lines",
         "name": "1_global_11111111110",
         "showlegend": true,
         "type": "scatter",
         "x": [
          "2021-06-22T00:00:00.000000000",
          "2021-06-23T00:00:00.000000000",
          "2021-06-24T00:00:00.000000000",
          "2021-06-25T00:00:00.000000000",
          "2021-06-26T00:00:00.000000000",
          "2021-06-27T00:00:00.000000000",
          "2021-06-28T00:00:00.000000000"
         ],
         "y": [
          293.45538,
          299.7546,
          305.9566,
          312.06,
          318.06467,
          323.97015,
          329.77582
         ]
        },
        {
         "legendgroup": "0.001_global_11111111111",
         "legendgrouptitle": {
          "text": "0.001_global_11111111111"
         },
         "line": {
          "color": "rgb(9, 9, 254)",
          "width": 1
         },
         "mode": "lines",
         "name": "0.001_global_11111111111",
         "showlegend": true,
         "type": "scatter",
         "x": [
          "2021-06-22T00:00:00.000000000",
          "2021-06-23T00:00:00.000000000",
          "2021-06-24T00:00:00.000000000",
          "2021-06-25T00:00:00.000000000",
          "2021-06-26T00:00:00.000000000",
          "2021-06-27T00:00:00.000000000",
          "2021-06-28T00:00:00.000000000"
         ],
         "y": [
          289.1861,
          289.14664,
          289.1794,
          289.2245,
          289.29346,
          289.39453,
          289.5752
         ]
        },
        {
         "legendgroup": "1_global_11111111111",
         "legendgrouptitle": {
          "text": "1_global_11111111111"
         },
         "line": {
          "color": "rgb(4, 4, 254)",
          "width": 1
         },
         "mode": "lines",
         "name": "1_global_11111111111",
         "showlegend": true,
         "type": "scatter",
         "x": [
          "2021-06-22T00:00:00.000000000",
          "2021-06-23T00:00:00.000000000",
          "2021-06-24T00:00:00.000000000",
          "2021-06-25T00:00:00.000000000",
          "2021-06-26T00:00:00.000000000",
          "2021-06-27T00:00:00.000000000",
          "2021-06-28T00:00:00.000000000"
         ],
         "y": [
          293.44656,
          299.73355,
          305.9229,
          312.01367,
          318.008,
          323.90454,
          329.70364
         ]
        },
        {
         "legendgroup": "0.001_Antarctic_00100000000",
         "legendgrouptitle": {
          "text": "0.001_Antarctic_00100000000"
         },
         "line": {
          "color": "rgb(225, 238, 225)",
          "width": 1
         },
         "mode": "lines",
         "name": "0.001_Antarctic_00100000000",
         "showlegend": true,
         "type": "scatter",
         "x": [
          "2021-06-22T00:00:00.000000000",
          "2021-06-23T00:00:00.000000000",
          "2021-06-24T00:00:00.000000000",
          "2021-06-25T00:00:00.000000000",
          "2021-06-26T00:00:00.000000000",
          "2021-06-27T00:00:00.000000000",
          "2021-06-28T00:00:00.000000000"
         ],
         "y": [
          289.3351,
          289.3496,
          289.36597,
          289.372,
          289.34283,
          289.2725,
          289.22302
         ]
        },
        {
         "legendgroup": "1_Antarctic_00100000000",
         "legendgrouptitle": {
          "text": "1_Antarctic_00100000000"
         },
         "line": {
          "color": "rgb(216, 233, 216)",
          "width": 1
         },
         "mode": "lines",
         "name": "1_Antarctic_00100000000",
         "showlegend": true,
         "type": "scatter",
         "x": [
          "2021-06-22T00:00:00.000000000",
          "2021-06-23T00:00:00.000000000",
          "2021-06-24T00:00:00.000000000",
          "2021-06-25T00:00:00.000000000",
          "2021-06-26T00:00:00.000000000",
          "2021-06-27T00:00:00.000000000",
          "2021-06-28T00:00:00.000000000"
         ],
         "y": [
          289.68073,
          289.78354,
          289.7715,
          289.742,
          289.672,
          289.62848,
          289.6026
         ]
        },
        {
         "legendgroup": "0.001_Arctic_00100000000",
         "legendgrouptitle": {
          "text": "0.001_Arctic_00100000000"
         },
         "line": {
          "color": "rgb(206, 229, 206)",
          "width": 1
         },
         "mode": "lines",
         "name": "0.001_Arctic_00100000000",
         "showlegend": true,
         "type": "scatter",
         "x": [
          "2021-06-22T00:00:00.000000000",
          "2021-06-23T00:00:00.000000000",
          "2021-06-24T00:00:00.000000000",
          "2021-06-25T00:00:00.000000000",
          "2021-06-26T00:00:00.000000000",
          "2021-06-27T00:00:00.000000000",
          "2021-06-28T00:00:00.000000000"
         ],
         "y": [
          289.33502,
          289.34955,
          289.3658,
          289.3721,
          289.34268,
          289.2709,
          289.21954
         ]
        },
        {
         "legendgroup": "1_Arctic_00100000000",
         "legendgrouptitle": {
          "text": "1_Arctic_00100000000"
         },
         "line": {
          "color": "rgb(197, 224, 197)",
          "width": 1
         },
         "mode": "lines",
         "name": "1_Arctic_00100000000",
         "showlegend": true,
         "type": "scatter",
         "x": [
          "2021-06-22T00:00:00.000000000",
          "2021-06-23T00:00:00.000000000",
          "2021-06-24T00:00:00.000000000",
          "2021-06-25T00:00:00.000000000",
          "2021-06-26T00:00:00.000000000",
          "2021-06-27T00:00:00.000000000",
          "2021-06-28T00:00:00.000000000"
         ],
         "y": [
          289.7475,
          289.80347,
          289.78143,
          289.75543,
          289.68384,
          289.59106,
          289.56097
         ]
        },
        {
         "legendgroup": "0.001_AusNZ_00100000000",
         "legendgrouptitle": {
          "text": "0.001_AusNZ_00100000000"
         },
         "line": {
          "color": "rgb(187, 219, 187)",
          "width": 1
         },
         "mode": "lines",
         "name": "0.001_AusNZ_00100000000",
         "showlegend": true,
         "type": "scatter",
         "x": [
          "2021-06-22T00:00:00.000000000",
          "2021-06-23T00:00:00.000000000",
          "2021-06-24T00:00:00.000000000",
          "2021-06-25T00:00:00.000000000",
          "2021-06-26T00:00:00.000000000",
          "2021-06-27T00:00:00.000000000",
          "2021-06-28T00:00:00.000000000"
         ],
         "y": [
          289.33505,
          289.34955,
          289.36584,
          289.37186,
          289.34286,
          289.2712,
          289.22025
         ]
        },
        {
         "legendgroup": "1_AusNZ_00100000000",
         "legendgrouptitle": {
          "text": "1_AusNZ_00100000000"
         },
         "line": {
          "color": "rgb(178, 215, 178)",
          "width": 1
         },
         "mode": "lines",
         "name": "1_AusNZ_00100000000",
         "showlegend": true,
         "type": "scatter",
         "x": [
          "2021-06-22T00:00:00.000000000",
          "2021-06-23T00:00:00.000000000",
          "2021-06-24T00:00:00.000000000",
          "2021-06-25T00:00:00.000000000",
          "2021-06-26T00:00:00.000000000",
          "2021-06-27T00:00:00.000000000",
          "2021-06-28T00:00:00.000000000"
         ],
         "y": [
          289.4917,
          289.54398,
          289.53915,
          289.53348,
          289.50037,
          289.42905,
          289.40216
         ]
        },
        {
         "legendgroup": "0.001_East",
         "legendgrouptitle": {
          "text": "0.001_East"
         },
         "line": {
          "color": "rgb(169, 210, 169)",
          "width": 1
         },
         "mode": "lines",
         "name": "0.001_East",
         "showlegend": true,
         "type": "scatter",
         "x": [
          "2021-06-22T00:00:00.000000000",
          "2021-06-23T00:00:00.000000000",
          "2021-06-24T00:00:00.000000000",
          "2021-06-25T00:00:00.000000000",
          "2021-06-26T00:00:00.000000000",
          "2021-06-27T00:00:00.000000000",
          "2021-06-28T00:00:00.000000000"
         ],
         "y": [
          289.33505,
          289.3498,
          289.3655,
          289.37234,
          289.34378,
          289.27133,
          289.22067
         ]
        },
        {
         "legendgroup": "1_East",
         "legendgrouptitle": {
          "text": "1_East"
         },
         "line": {
          "color": "rgb(160, 206, 160)",
          "width": 1
         },
         "mode": "lines",
         "name": "1_East",
         "showlegend": true,
         "type": "scatter",
         "x": [
          "2021-06-22T00:00:00.000000000",
          "2021-06-23T00:00:00.000000000",
          "2021-06-24T00:00:00.000000000",
          "2021-06-25T00:00:00.000000000",
          "2021-06-26T00:00:00.000000000",
          "2021-06-27T00:00:00.000000000",
          "2021-06-28T00:00:00.000000000"
         ],
         "y": [
          289.42963,
          289.4788,
          289.48737,
          289.4753,
          289.42166,
          289.32626,
          289.25095
         ]
        },
        {
         "legendgroup": "0.001_Europe_00100000000",
         "legendgrouptitle": {
          "text": "0.001_Europe_00100000000"
         },
         "line": {
          "color": "rgb(149, 201, 149)",
          "width": 1
         },
         "mode": "lines",
         "name": "0.001_Europe_00100000000",
         "showlegend": true,
         "type": "scatter",
         "x": [
          "2021-06-22T00:00:00.000000000",
          "2021-06-23T00:00:00.000000000",
          "2021-06-24T00:00:00.000000000",
          "2021-06-25T00:00:00.000000000",
          "2021-06-26T00:00:00.000000000",
          "2021-06-27T00:00:00.000000000",
          "2021-06-28T00:00:00.000000000"
         ],
         "y": [
          289.33487,
          289.34897,
          289.36505,
          289.37164,
          289.34247,
          289.27078,
          289.21973
         ]
        },
        {
         "legendgroup": "1_Europe_00100000000",
         "legendgrouptitle": {
          "text": "1_Europe_00100000000"
         },
         "line": {
          "color": "rgb(140, 196, 140)",
          "width": 1
         },
         "mode": "lines",
         "name": "1_Europe_00100000000",
         "showlegend": true,
         "type": "scatter",
         "x": [
          "2021-06-22T00:00:00.000000000",
          "2021-06-23T00:00:00.000000000",
          "2021-06-24T00:00:00.000000000",
          "2021-06-25T00:00:00.000000000",
          "2021-06-26T00:00:00.000000000",
          "2021-06-27T00:00:00.000000000",
          "2021-06-28T00:00:00.000000000"
         ],
         "y": [
          289.5191,
          289.5517,
          289.54007,
          289.52863,
          289.4964,
          289.42084,
          289.37064
         ]
        },
        {
         "legendgroup": "0.001_North",
         "legendgrouptitle": {
          "text": "0.001_North"
         },
         "line": {
          "color": "rgb(131, 192, 131)",
          "width": 1
         },
         "mode": "lines",
         "name": "0.001_North",
         "showlegend": true,
         "type": "scatter",
         "x": [
          "2021-06-22T00:00:00.000000000",
          "2021-06-23T00:00:00.000000000",
          "2021-06-24T00:00:00.000000000",
          "2021-06-25T00:00:00.000000000",
          "2021-06-26T00:00:00.000000000",
          "2021-06-27T00:00:00.000000000",
          "2021-06-28T00:00:00.000000000"
         ],
         "y": [
          289.3351,
          289.34894,
          289.36502,
          289.37143,
          289.34222,
          289.27072,
          289.22012
         ]
        },
        {
         "legendgroup": "1_North",
         "legendgrouptitle": {
          "text": "1_North"
         },
         "line": {
          "color": "rgb(122, 187, 122)",
          "width": 1
         },
         "mode": "lines",
         "name": "1_North",
         "showlegend": true,
         "type": "scatter",
         "x": [
          "2021-06-22T00:00:00.000000000",
          "2021-06-23T00:00:00.000000000",
          "2021-06-24T00:00:00.000000000",
          "2021-06-25T00:00:00.000000000",
          "2021-06-26T00:00:00.000000000",
          "2021-06-27T00:00:00.000000000",
          "2021-06-28T00:00:00.000000000"
         ],
         "y": [
          289.46896,
          289.4402,
          289.43915,
          289.42563,
          289.39096,
          289.32993,
          289.28558
         ]
        },
        {
         "legendgroup": "0.001_North",
         "legendgrouptitle": {
          "text": "0.001_North"
         },
         "line": {
          "color": "rgb(112, 182, 112)",
          "width": 1
         },
         "mode": "lines",
         "showlegend": false,
         "type": "scatter",
         "x": [
          "2021-06-22T00:00:00.000000000",
          "2021-06-23T00:00:00.000000000",
          "2021-06-24T00:00:00.000000000",
          "2021-06-25T00:00:00.000000000",
          "2021-06-26T00:00:00.000000000",
          "2021-06-27T00:00:00.000000000",
          "2021-06-28T00:00:00.000000000"
         ],
         "y": [
          289.335,
          289.34973,
          289.3656,
          289.37192,
          289.34222,
          289.2708,
          289.21933
         ]
        },
        {
         "legendgroup": "1_North",
         "legendgrouptitle": {
          "text": "1_North"
         },
         "line": {
          "color": "rgb(103, 178, 103)",
          "width": 1
         },
         "mode": "lines",
         "showlegend": false,
         "type": "scatter",
         "x": [
          "2021-06-22T00:00:00.000000000",
          "2021-06-23T00:00:00.000000000",
          "2021-06-24T00:00:00.000000000",
          "2021-06-25T00:00:00.000000000",
          "2021-06-26T00:00:00.000000000",
          "2021-06-27T00:00:00.000000000",
          "2021-06-28T00:00:00.000000000"
         ],
         "y": [
          289.54135,
          289.57858,
          289.57022,
          289.57867,
          289.54858,
          289.4674,
          289.40747
         ]
        },
        {
         "legendgroup": "0.001_North",
         "legendgrouptitle": {
          "text": "0.001_North"
         },
         "line": {
          "color": "rgb(93, 173, 93)",
          "width": 1
         },
         "mode": "lines",
         "showlegend": false,
         "type": "scatter",
         "x": [
          "2021-06-22T00:00:00.000000000",
          "2021-06-23T00:00:00.000000000",
          "2021-06-24T00:00:00.000000000",
          "2021-06-25T00:00:00.000000000",
          "2021-06-26T00:00:00.000000000",
          "2021-06-27T00:00:00.000000000",
          "2021-06-28T00:00:00.000000000"
         ],
         "y": [
          289.33527,
          289.34964,
          289.3659,
          289.37234,
          289.34387,
          289.27283,
          289.2217
         ]
        },
        {
         "legendgroup": "1_North",
         "legendgrouptitle": {
          "text": "1_North"
         },
         "line": {
          "color": "rgb(84, 169, 84)",
          "width": 1
         },
         "mode": "lines",
         "showlegend": false,
         "type": "scatter",
         "x": [
          "2021-06-22T00:00:00.000000000",
          "2021-06-23T00:00:00.000000000",
          "2021-06-24T00:00:00.000000000",
          "2021-06-25T00:00:00.000000000",
          "2021-06-26T00:00:00.000000000",
          "2021-06-27T00:00:00.000000000",
          "2021-06-28T00:00:00.000000000"
         ],
         "y": [
          289.73773,
          289.81546,
          289.81006,
          289.7958,
          289.74557,
          289.65735,
          289.5953
         ]
        },
        {
         "legendgroup": "0.001_Northern",
         "legendgrouptitle": {
          "text": "0.001_Northern"
         },
         "line": {
          "color": "rgb(74, 164, 74)",
          "width": 1
         },
         "mode": "lines",
         "name": "0.001_Northern",
         "showlegend": true,
         "type": "scatter",
         "x": [
          "2021-06-22T00:00:00.000000000",
          "2021-06-23T00:00:00.000000000",
          "2021-06-24T00:00:00.000000000",
          "2021-06-25T00:00:00.000000000",
          "2021-06-26T00:00:00.000000000",
          "2021-06-27T00:00:00.000000000",
          "2021-06-28T00:00:00.000000000"
         ],
         "y": [
          289.3354,
          289.34995,
          289.3666,
          289.3723,
          289.34274,
          289.2718,
          289.2203
         ]
        },
        {
         "legendgroup": "1_Northern",
         "legendgrouptitle": {
          "text": "1_Northern"
         },
         "line": {
          "color": "rgb(65, 160, 65)",
          "width": 1
         },
         "mode": "lines",
         "name": "1_Northern",
         "showlegend": true,
         "type": "scatter",
         "x": [
          "2021-06-22T00:00:00.000000000",
          "2021-06-23T00:00:00.000000000",
          "2021-06-24T00:00:00.000000000",
          "2021-06-25T00:00:00.000000000",
          "2021-06-26T00:00:00.000000000",
          "2021-06-27T00:00:00.000000000",
          "2021-06-28T00:00:00.000000000"
         ],
         "y": [
          291.1252,
          291.26,
          291.08658,
          290.9907,
          290.87766,
          290.7565,
          290.64673
         ]
        },
        {
         "legendgroup": "0.001_Southern",
         "legendgrouptitle": {
          "text": "0.001_Southern"
         },
         "line": {
          "color": "rgb(56, 155, 56)",
          "width": 1
         },
         "mode": "lines",
         "name": "0.001_Southern",
         "showlegend": true,
         "type": "scatter",
         "x": [
          "2021-06-22T00:00:00.000000000",
          "2021-06-23T00:00:00.000000000",
          "2021-06-24T00:00:00.000000000",
          "2021-06-25T00:00:00.000000000",
          "2021-06-26T00:00:00.000000000",
          "2021-06-27T00:00:00.000000000",
          "2021-06-28T00:00:00.000000000"
         ],
         "y": [
          289.33508,
          289.34982,
          289.36603,
          289.3721,
          289.34314,
          289.27142,
          289.22113
         ]
        },
        {
         "legendgroup": "1_Southern",
         "legendgrouptitle": {
          "text": "1_Southern"
         },
         "line": {
          "color": "rgb(46, 150, 46)",
          "width": 1
         },
         "mode": "lines",
         "name": "1_Southern",
         "showlegend": true,
         "type": "scatter",
         "x": [
          "2021-06-22T00:00:00.000000000",
          "2021-06-23T00:00:00.000000000",
          "2021-06-24T00:00:00.000000000",
          "2021-06-25T00:00:00.000000000",
          "2021-06-26T00:00:00.000000000",
          "2021-06-27T00:00:00.000000000",
          "2021-06-28T00:00:00.000000000"
         ],
         "y": [
          291.25546,
          291.55682,
          291.4114,
          291.3435,
          291.26068,
          291.11032,
          290.96744
         ]
        },
        {
         "legendgroup": "0.001_Tropics_00100000000",
         "legendgrouptitle": {
          "text": "0.001_Tropics_00100000000"
         },
         "line": {
          "color": "rgb(36, 146, 36)",
          "width": 1
         },
         "mode": "lines",
         "name": "0.001_Tropics_00100000000",
         "showlegend": true,
         "type": "scatter",
         "x": [
          "2021-06-22T00:00:00.000000000",
          "2021-06-23T00:00:00.000000000",
          "2021-06-24T00:00:00.000000000",
          "2021-06-25T00:00:00.000000000",
          "2021-06-26T00:00:00.000000000",
          "2021-06-27T00:00:00.000000000",
          "2021-06-28T00:00:00.000000000"
         ],
         "y": [
          289.3348,
          289.34952,
          289.3664,
          289.3721,
          289.343,
          289.2717,
          289.22055
         ]
        },
        {
         "legendgroup": "1_Tropics_00100000000",
         "legendgrouptitle": {
          "text": "1_Tropics_00100000000"
         },
         "line": {
          "color": "rgb(27, 141, 27)",
          "width": 1
         },
         "mode": "lines",
         "name": "1_Tropics_00100000000",
         "showlegend": true,
         "type": "scatter",
         "x": [
          "2021-06-22T00:00:00.000000000",
          "2021-06-23T00:00:00.000000000",
          "2021-06-24T00:00:00.000000000",
          "2021-06-25T00:00:00.000000000",
          "2021-06-26T00:00:00.000000000",
          "2021-06-27T00:00:00.000000000",
          "2021-06-28T00:00:00.000000000"
         ],
         "y": [
          291.19376,
          291.1556,
          290.8407,
          290.79288,
          290.75674,
          290.69568,
          290.6663
         ]
        },
        {
         "legendgroup": "0.001_global_00100000000",
         "legendgrouptitle": {
          "text": "0.001_global_00100000000"
         },
         "line": {
          "color": "rgb(18, 137, 18)",
          "width": 1
         },
         "mode": "lines",
         "showlegend": false,
         "type": "scatter",
         "x": [
          "2021-06-22T00:00:00.000000000",
          "2021-06-23T00:00:00.000000000",
          "2021-06-24T00:00:00.000000000",
          "2021-06-25T00:00:00.000000000",
          "2021-06-26T00:00:00.000000000",
          "2021-06-27T00:00:00.000000000",
          "2021-06-28T00:00:00.000000000"
         ],
         "y": [
          289.335,
          289.34872,
          289.36523,
          289.3712,
          289.34268,
          289.27057,
          289.22104
         ]
        },
        {
         "legendgroup": "1_global_00100000000",
         "legendgrouptitle": {
          "text": "1_global_00100000000"
         },
         "line": {
          "color": "rgb(9, 132, 9)",
          "width": 1
         },
         "mode": "lines",
         "showlegend": false,
         "type": "scatter",
         "x": [
          "2021-06-22T00:00:00.000000000",
          "2021-06-23T00:00:00.000000000",
          "2021-06-24T00:00:00.000000000",
          "2021-06-25T00:00:00.000000000",
          "2021-06-26T00:00:00.000000000",
          "2021-06-27T00:00:00.000000000",
          "2021-06-28T00:00:00.000000000"
         ],
         "y": [
          295.0796,
          295.5373,
          294.77222,
          294.48328,
          294.2689,
          294.10092,
          293.96384
         ]
        },
        {
         "legendgroup": "0.001_Antarctic_11011111111",
         "legendgrouptitle": {
          "text": "0.001_Antarctic_11011111111"
         },
         "line": {
          "color": "rgb(243, 230, 230)",
          "width": 1
         },
         "mode": "lines",
         "name": "0.001_Antarctic_11011111111",
         "showlegend": true,
         "type": "scatter",
         "x": [
          "2021-06-22T00:00:00.000000000",
          "2021-06-23T00:00:00.000000000",
          "2021-06-24T00:00:00.000000000",
          "2021-06-25T00:00:00.000000000",
          "2021-06-26T00:00:00.000000000",
          "2021-06-27T00:00:00.000000000",
          "2021-06-28T00:00:00.000000000"
         ],
         "y": [
          289.33038,
          289.35495,
          289.38995,
          289.3978,
          289.34973,
          289.27176,
          289.2353
         ]
        },
        {
         "legendgroup": "1_Antarctic_11011111111",
         "legendgrouptitle": {
          "text": "1_Antarctic_11011111111"
         },
         "line": {
          "color": "rgb(243, 221, 221)",
          "width": 1
         },
         "mode": "lines",
         "name": "1_Antarctic_11011111111",
         "showlegend": true,
         "type": "scatter",
         "x": [
          "2021-06-22T00:00:00.000000000",
          "2021-06-23T00:00:00.000000000",
          "2021-06-24T00:00:00.000000000",
          "2021-06-25T00:00:00.000000000",
          "2021-06-26T00:00:00.000000000",
          "2021-06-27T00:00:00.000000000",
          "2021-06-28T00:00:00.000000000"
         ],
         "y": [
          289.39978,
          289.4834,
          289.5846,
          289.6643,
          289.7442,
          289.83792,
          289.92154
         ]
        },
        {
         "legendgroup": "0.001_Arctic_11011111111",
         "legendgrouptitle": {
          "text": "0.001_Arctic_11011111111"
         },
         "line": {
          "color": "rgb(244, 211, 211)",
          "width": 1
         },
         "mode": "lines",
         "name": "0.001_Arctic_11011111111",
         "showlegend": true,
         "type": "scatter",
         "x": [
          "2021-06-22T00:00:00.000000000",
          "2021-06-23T00:00:00.000000000",
          "2021-06-24T00:00:00.000000000",
          "2021-06-25T00:00:00.000000000",
          "2021-06-26T00:00:00.000000000",
          "2021-06-27T00:00:00.000000000",
          "2021-06-28T00:00:00.000000000"
         ],
         "y": [
          289.31665,
          289.31613,
          289.33292,
          289.33704,
          289.30978,
          289.2619,
          289.22772
         ]
        },
        {
         "legendgroup": "1_Arctic_11011111111",
         "legendgrouptitle": {
          "text": "1_Arctic_11011111111"
         },
         "line": {
          "color": "rgb(244, 202, 202)",
          "width": 1
         },
         "mode": "lines",
         "name": "1_Arctic_11011111111",
         "showlegend": true,
         "type": "scatter",
         "x": [
          "2021-06-22T00:00:00.000000000",
          "2021-06-23T00:00:00.000000000",
          "2021-06-24T00:00:00.000000000",
          "2021-06-25T00:00:00.000000000",
          "2021-06-26T00:00:00.000000000",
          "2021-06-27T00:00:00.000000000",
          "2021-06-28T00:00:00.000000000"
         ],
         "y": [
          289.47806,
          289.78397,
          290.06314,
          290.3076,
          290.51422,
          290.67828,
          290.87344
         ]
        },
        {
         "legendgroup": "0.001_AusNZ_11011111111",
         "legendgrouptitle": {
          "text": "0.001_AusNZ_11011111111"
         },
         "line": {
          "color": "rgb(245, 191, 191)",
          "width": 1
         },
         "mode": "lines",
         "name": "0.001_AusNZ_11011111111",
         "showlegend": true,
         "type": "scatter",
         "x": [
          "2021-06-22T00:00:00.000000000",
          "2021-06-23T00:00:00.000000000",
          "2021-06-24T00:00:00.000000000",
          "2021-06-25T00:00:00.000000000",
          "2021-06-26T00:00:00.000000000",
          "2021-06-27T00:00:00.000000000",
          "2021-06-28T00:00:00.000000000"
         ],
         "y": [
          289.32474,
          289.32477,
          289.3459,
          289.35938,
          289.3295,
          289.2695,
          289.22833
         ]
        },
        {
         "legendgroup": "1_AusNZ_11011111111",
         "legendgrouptitle": {
          "text": "1_AusNZ_11011111111"
         },
         "line": {
          "color": "rgb(245, 182, 182)",
          "width": 1
         },
         "mode": "lines",
         "name": "1_AusNZ_11011111111",
         "showlegend": true,
         "type": "scatter",
         "x": [
          "2021-06-22T00:00:00.000000000",
          "2021-06-23T00:00:00.000000000",
          "2021-06-24T00:00:00.000000000",
          "2021-06-25T00:00:00.000000000",
          "2021-06-26T00:00:00.000000000",
          "2021-06-27T00:00:00.000000000",
          "2021-06-28T00:00:00.000000000"
         ],
         "y": [
          289.45456,
          289.77176,
          290.09677,
          290.42944,
          290.72458,
          290.968,
          291.2214
         ]
        },
        {
         "legendgroup": "0.001_East",
         "legendgrouptitle": {
          "text": "0.001_East"
         },
         "line": {
          "color": "rgb(246, 173, 173)",
          "width": 1
         },
         "mode": "lines",
         "showlegend": false,
         "type": "scatter",
         "x": [
          "2021-06-22T00:00:00.000000000",
          "2021-06-23T00:00:00.000000000",
          "2021-06-24T00:00:00.000000000",
          "2021-06-25T00:00:00.000000000",
          "2021-06-26T00:00:00.000000000",
          "2021-06-27T00:00:00.000000000",
          "2021-06-28T00:00:00.000000000"
         ],
         "y": [
          289.3347,
          289.3355,
          289.34518,
          289.34988,
          289.32666,
          289.25732,
          289.20874
         ]
        },
        {
         "legendgroup": "1_East",
         "legendgrouptitle": {
          "text": "1_East"
         },
         "line": {
          "color": "rgb(246, 163, 163)",
          "width": 1
         },
         "mode": "lines",
         "showlegend": false,
         "type": "scatter",
         "x": [
          "2021-06-22T00:00:00.000000000",
          "2021-06-23T00:00:00.000000000",
          "2021-06-24T00:00:00.000000000",
          "2021-06-25T00:00:00.000000000",
          "2021-06-26T00:00:00.000000000",
          "2021-06-27T00:00:00.000000000",
          "2021-06-28T00:00:00.000000000"
         ],
         "y": [
          289.32166,
          289.47086,
          289.66147,
          289.85147,
          289.98486,
          290.0775,
          290.20438
         ]
        },
        {
         "legendgroup": "0.001_Europe_11011111111",
         "legendgrouptitle": {
          "text": "0.001_Europe_11011111111"
         },
         "line": {
          "color": "rgb(247, 153, 153)",
          "width": 1
         },
         "mode": "lines",
         "name": "0.001_Europe_11011111111",
         "showlegend": true,
         "type": "scatter",
         "x": [
          "2021-06-22T00:00:00.000000000",
          "2021-06-23T00:00:00.000000000",
          "2021-06-24T00:00:00.000000000",
          "2021-06-25T00:00:00.000000000",
          "2021-06-26T00:00:00.000000000",
          "2021-06-27T00:00:00.000000000",
          "2021-06-28T00:00:00.000000000"
         ],
         "y": [
          289.33337,
          289.34555,
          289.35416,
          289.35287,
          289.31647,
          289.25613,
          289.21664
         ]
        },
        {
         "legendgroup": "1_Europe_11011111111",
         "legendgrouptitle": {
          "text": "1_Europe_11011111111"
         },
         "line": {
          "color": "rgb(247, 143, 143)",
          "width": 1
         },
         "mode": "lines",
         "name": "1_Europe_11011111111",
         "showlegend": true,
         "type": "scatter",
         "x": [
          "2021-06-22T00:00:00.000000000",
          "2021-06-23T00:00:00.000000000",
          "2021-06-24T00:00:00.000000000",
          "2021-06-25T00:00:00.000000000",
          "2021-06-26T00:00:00.000000000",
          "2021-06-27T00:00:00.000000000",
          "2021-06-28T00:00:00.000000000"
         ],
         "y": [
          289.45087,
          289.64648,
          289.84583,
          290.02155,
          290.16345,
          290.27026,
          290.4204
         ]
        },
        {
         "legendgroup": "0.001_North",
         "legendgrouptitle": {
          "text": "0.001_North"
         },
         "line": {
          "color": "rgb(248, 134, 134)",
          "width": 1
         },
         "mode": "lines",
         "showlegend": false,
         "type": "scatter",
         "x": [
          "2021-06-22T00:00:00.000000000",
          "2021-06-23T00:00:00.000000000",
          "2021-06-24T00:00:00.000000000",
          "2021-06-25T00:00:00.000000000",
          "2021-06-26T00:00:00.000000000",
          "2021-06-27T00:00:00.000000000",
          "2021-06-28T00:00:00.000000000"
         ],
         "y": [
          289.3283,
          289.33298,
          289.34106,
          289.3483,
          289.31885,
          289.23526,
          289.18372
         ]
        },
        {
         "legendgroup": "1_North",
         "legendgrouptitle": {
          "text": "1_North"
         },
         "line": {
          "color": "rgb(248, 125, 125)",
          "width": 1
         },
         "mode": "lines",
         "showlegend": false,
         "type": "scatter",
         "x": [
          "2021-06-22T00:00:00.000000000",
          "2021-06-23T00:00:00.000000000",
          "2021-06-24T00:00:00.000000000",
          "2021-06-25T00:00:00.000000000",
          "2021-06-26T00:00:00.000000000",
          "2021-06-27T00:00:00.000000000",
          "2021-06-28T00:00:00.000000000"
         ],
         "y": [
          289.50632,
          289.6763,
          289.858,
          290.0417,
          290.16595,
          290.251,
          290.3721
         ]
        },
        {
         "legendgroup": "0.001_North",
         "legendgrouptitle": {
          "text": "0.001_North"
         },
         "line": {
          "color": "rgb(249, 114, 114)",
          "width": 1
         },
         "mode": "lines",
         "showlegend": false,
         "type": "scatter",
         "x": [
          "2021-06-22T00:00:00.000000000",
          "2021-06-23T00:00:00.000000000",
          "2021-06-24T00:00:00.000000000",
          "2021-06-25T00:00:00.000000000",
          "2021-06-26T00:00:00.000000000",
          "2021-06-27T00:00:00.000000000",
          "2021-06-28T00:00:00.000000000"
         ],
         "y": [
          289.3259,
          289.33832,
          289.34995,
          289.3542,
          289.3231,
          289.24973,
          289.20193
         ]
        },
        {
         "legendgroup": "1_North",
         "legendgrouptitle": {
          "text": "1_North"
         },
         "line": {
          "color": "rgb(249, 105, 105)",
          "width": 1
         },
         "mode": "lines",
         "showlegend": false,
         "type": "scatter",
         "x": [
          "2021-06-22T00:00:00.000000000",
          "2021-06-23T00:00:00.000000000",
          "2021-06-24T00:00:00.000000000",
          "2021-06-25T00:00:00.000000000",
          "2021-06-26T00:00:00.000000000",
          "2021-06-27T00:00:00.000000000",
          "2021-06-28T00:00:00.000000000"
         ],
         "y": [
          289.47205,
          289.69183,
          289.88898,
          290.07285,
          290.22784,
          290.34875,
          290.49063
         ]
        },
        {
         "legendgroup": "0.001_North",
         "legendgrouptitle": {
          "text": "0.001_North"
         },
         "line": {
          "color": "rgb(250, 95, 95)",
          "width": 1
         },
         "mode": "lines",
         "showlegend": false,
         "type": "scatter",
         "x": [
          "2021-06-22T00:00:00.000000000",
          "2021-06-23T00:00:00.000000000",
          "2021-06-24T00:00:00.000000000",
          "2021-06-25T00:00:00.000000000",
          "2021-06-26T00:00:00.000000000",
          "2021-06-27T00:00:00.000000000",
          "2021-06-28T00:00:00.000000000"
         ],
         "y": [
          289.31964,
          289.3152,
          289.3077,
          289.29846,
          289.2516,
          289.15894,
          289.10965
         ]
        },
        {
         "legendgroup": "1_North",
         "legendgrouptitle": {
          "text": "1_North"
         },
         "line": {
          "color": "rgb(250, 86, 86)",
          "width": 1
         },
         "mode": "lines",
         "showlegend": false,
         "type": "scatter",
         "x": [
          "2021-06-22T00:00:00.000000000",
          "2021-06-23T00:00:00.000000000",
          "2021-06-24T00:00:00.000000000",
          "2021-06-25T00:00:00.000000000",
          "2021-06-26T00:00:00.000000000",
          "2021-06-27T00:00:00.000000000",
          "2021-06-28T00:00:00.000000000"
         ],
         "y": [
          289.55597,
          289.93332,
          290.3238,
          290.73163,
          291.09885,
          291.41748,
          291.74762
         ]
        },
        {
         "legendgroup": "0.001_Northern",
         "legendgrouptitle": {
          "text": "0.001_Northern"
         },
         "line": {
          "color": "rgb(251, 76, 76)",
          "width": 1
         },
         "mode": "lines",
         "showlegend": false,
         "type": "scatter",
         "x": [
          "2021-06-22T00:00:00.000000000",
          "2021-06-23T00:00:00.000000000",
          "2021-06-24T00:00:00.000000000",
          "2021-06-25T00:00:00.000000000",
          "2021-06-26T00:00:00.000000000",
          "2021-06-27T00:00:00.000000000",
          "2021-06-28T00:00:00.000000000"
         ],
         "y": [
          289.26553,
          289.22668,
          289.17752,
          289.143,
          289.081,
          288.9668,
          288.90836
         ]
        },
        {
         "legendgroup": "1_Northern",
         "legendgrouptitle": {
          "text": "1_Northern"
         },
         "line": {
          "color": "rgb(251, 66, 66)",
          "width": 1
         },
         "mode": "lines",
         "showlegend": false,
         "type": "scatter",
         "x": [
          "2021-06-22T00:00:00.000000000",
          "2021-06-23T00:00:00.000000000",
          "2021-06-24T00:00:00.000000000",
          "2021-06-25T00:00:00.000000000",
          "2021-06-26T00:00:00.000000000",
          "2021-06-27T00:00:00.000000000",
          "2021-06-28T00:00:00.000000000"
         ],
         "y": [
          290.45944,
          292.36346,
          294.28723,
          296.19232,
          298.03467,
          299.81927,
          301.6231
         ]
        },
        {
         "legendgroup": "0.001_Southern",
         "legendgrouptitle": {
          "text": "0.001_Southern"
         },
         "line": {
          "color": "rgb(252, 57, 57)",
          "width": 1
         },
         "mode": "lines",
         "showlegend": false,
         "type": "scatter",
         "x": [
          "2021-06-22T00:00:00.000000000",
          "2021-06-23T00:00:00.000000000",
          "2021-06-24T00:00:00.000000000",
          "2021-06-25T00:00:00.000000000",
          "2021-06-26T00:00:00.000000000",
          "2021-06-27T00:00:00.000000000",
          "2021-06-28T00:00:00.000000000"
         ],
         "y": [
          289.29477,
          289.35898,
          289.46497,
          289.52942,
          289.5117,
          289.4968,
          289.5131
         ]
        },
        {
         "legendgroup": "1_Southern",
         "legendgrouptitle": {
          "text": "1_Southern"
         },
         "line": {
          "color": "rgb(252, 47, 47)",
          "width": 1
         },
         "mode": "lines",
         "showlegend": false,
         "type": "scatter",
         "x": [
          "2021-06-22T00:00:00.000000000",
          "2021-06-23T00:00:00.000000000",
          "2021-06-24T00:00:00.000000000",
          "2021-06-25T00:00:00.000000000",
          "2021-06-26T00:00:00.000000000",
          "2021-06-27T00:00:00.000000000",
          "2021-06-28T00:00:00.000000000"
         ],
         "y": [
          290.55777,
          292.4418,
          294.277,
          296.06137,
          297.79065,
          299.4584,
          301.06073
         ]
        },
        {
         "legendgroup": "0.001_Tropics_11011111111",
         "legendgrouptitle": {
          "text": "0.001_Tropics_11011111111"
         },
         "line": {
          "color": "rgb(253, 37, 37)",
          "width": 1
         },
         "mode": "lines",
         "name": "0.001_Tropics_11011111111",
         "showlegend": true,
         "type": "scatter",
         "x": [
          "2021-06-22T00:00:00.000000000",
          "2021-06-23T00:00:00.000000000",
          "2021-06-24T00:00:00.000000000",
          "2021-06-25T00:00:00.000000000",
          "2021-06-26T00:00:00.000000000",
          "2021-06-27T00:00:00.000000000",
          "2021-06-28T00:00:00.000000000"
         ],
         "y": [
          289.27475,
          289.2755,
          289.32092,
          289.36667,
          289.42627,
          289.47397,
          289.52612
         ]
        },
        {
         "legendgroup": "1_Tropics_11011111111",
         "legendgrouptitle": {
          "text": "1_Tropics_11011111111"
         },
         "line": {
          "color": "rgb(253, 28, 28)",
          "width": 1
         },
         "mode": "lines",
         "name": "1_Tropics_11011111111",
         "showlegend": true,
         "type": "scatter",
         "x": [
          "2021-06-22T00:00:00.000000000",
          "2021-06-23T00:00:00.000000000",
          "2021-06-24T00:00:00.000000000",
          "2021-06-25T00:00:00.000000000",
          "2021-06-26T00:00:00.000000000",
          "2021-06-27T00:00:00.000000000",
          "2021-06-28T00:00:00.000000000"
         ],
         "y": [
          291.06183,
          293.7309,
          296.42877,
          299.13776,
          301.787,
          304.39105,
          306.95645
         ]
        },
        {
         "legendgroup": "0.001_global_11011111111",
         "legendgrouptitle": {
          "text": "0.001_global_11011111111"
         },
         "line": {
          "color": "rgb(254, 18, 18)",
          "width": 1
         },
         "mode": "lines",
         "showlegend": false,
         "type": "scatter",
         "x": [
          "2021-06-22T00:00:00.000000000",
          "2021-06-23T00:00:00.000000000",
          "2021-06-24T00:00:00.000000000",
          "2021-06-25T00:00:00.000000000",
          "2021-06-26T00:00:00.000000000",
          "2021-06-27T00:00:00.000000000",
          "2021-06-28T00:00:00.000000000"
         ],
         "y": [
          289.18982,
          289.1516,
          289.18494,
          289.23038,
          289.29962,
          289.3997,
          289.57977
         ]
        },
        {
         "legendgroup": "1_global_11011111111",
         "legendgrouptitle": {
          "text": "1_global_11011111111"
         },
         "line": {
          "color": "rgb(254, 9, 9)",
          "width": 1
         },
         "mode": "lines",
         "showlegend": false,
         "type": "scatter",
         "x": [
          "2021-06-22T00:00:00.000000000",
          "2021-06-23T00:00:00.000000000",
          "2021-06-24T00:00:00.000000000",
          "2021-06-25T00:00:00.000000000",
          "2021-06-26T00:00:00.000000000",
          "2021-06-27T00:00:00.000000000",
          "2021-06-28T00:00:00.000000000"
         ],
         "y": [
          293.41882,
          299.7091,
          305.90442,
          311.99756,
          317.99036,
          323.886,
          329.6825
         ]
        },
        {
         "legendgroup": "Ensemble Members",
         "legendgrouptitle": {
          "text": "Ensemble Members"
         },
         "line": {
          "color": "grey",
          "width": 0.5
         },
         "mode": "lines",
         "name": "Ensemble Members",
         "opacity": 0.5,
         "showlegend": true,
         "type": "scatter",
         "x": [
          "2021-06-22T00:00:00",
          "2021-06-23T00:00:00",
          "2021-06-24T00:00:00",
          "2021-06-25T00:00:00",
          "2021-06-26T00:00:00",
          "2021-06-27T00:00:00",
          "2021-06-28T00:00:00"
         ],
         "y": [
          289.3408169020958,
          289.229704779972,
          289.2360617330832,
          289.2856577171876,
          289.31812749076073,
          289.2874254595531,
          289.282983236754
         ]
        },
        {
         "legendgroup": "Ensemble Members",
         "legendgrouptitle": {
          "text": "Ensemble Members"
         },
         "line": {
          "color": "grey",
          "width": 0.5
         },
         "mode": "lines",
         "opacity": 0.5,
         "showlegend": false,
         "type": "scatter",
         "x": [
          "2021-06-22T00:00:00",
          "2021-06-23T00:00:00",
          "2021-06-24T00:00:00",
          "2021-06-25T00:00:00",
          "2021-06-26T00:00:00",
          "2021-06-27T00:00:00",
          "2021-06-28T00:00:00"
         ],
         "y": [
          289.3222677914276,
          289.19564629134305,
          289.2206119730672,
          289.250187577044,
          289.3231405405639,
          289.3392333840449,
          289.2813190061905
         ]
        },
        {
         "legendgroup": "Ensemble Members",
         "legendgrouptitle": {
          "text": "Ensemble Members"
         },
         "line": {
          "color": "grey",
          "width": 0.5
         },
         "mode": "lines",
         "opacity": 0.5,
         "showlegend": false,
         "type": "scatter",
         "x": [
          "2021-06-22T00:00:00",
          "2021-06-23T00:00:00",
          "2021-06-24T00:00:00",
          "2021-06-25T00:00:00",
          "2021-06-26T00:00:00",
          "2021-06-27T00:00:00",
          "2021-06-28T00:00:00"
         ],
         "y": [
          289.3225455146436,
          289.2205697763405,
          289.2612416129822,
          289.2800073411046,
          289.32317207428713,
          289.3732740021562,
          289.3741864945102
         ]
        },
        {
         "legendgroup": "Ensemble Members",
         "legendgrouptitle": {
          "text": "Ensemble Members"
         },
         "line": {
          "color": "grey",
          "width": 0.5
         },
         "mode": "lines",
         "opacity": 0.5,
         "showlegend": false,
         "type": "scatter",
         "x": [
          "2021-06-22T00:00:00",
          "2021-06-23T00:00:00",
          "2021-06-24T00:00:00",
          "2021-06-25T00:00:00",
          "2021-06-26T00:00:00",
          "2021-06-27T00:00:00",
          "2021-06-28T00:00:00"
         ],
         "y": [
          289.3450989404606,
          289.24355347262826,
          289.269212057016,
          289.32940960414794,
          289.3652179891987,
          289.3614700595664,
          289.3509217161997
         ]
        },
        {
         "legendgroup": "Ensemble Members",
         "legendgrouptitle": {
          "text": "Ensemble Members"
         },
         "line": {
          "color": "grey",
          "width": 0.5
         },
         "mode": "lines",
         "opacity": 0.5,
         "showlegend": false,
         "type": "scatter",
         "x": [
          "2021-06-22T00:00:00",
          "2021-06-23T00:00:00",
          "2021-06-24T00:00:00",
          "2021-06-25T00:00:00",
          "2021-06-26T00:00:00",
          "2021-06-27T00:00:00",
          "2021-06-28T00:00:00"
         ],
         "y": [
          289.34646788726457,
          289.2263048021261,
          289.2419995205721,
          289.30546215155306,
          289.33937878874855,
          289.320442565399,
          289.30315904570915
         ]
        },
        {
         "legendgroup": "Ensemble Members",
         "legendgrouptitle": {
          "text": "Ensemble Members"
         },
         "line": {
          "color": "grey",
          "width": 0.5
         },
         "mode": "lines",
         "opacity": 0.5,
         "showlegend": false,
         "type": "scatter",
         "x": [
          "2021-06-22T00:00:00",
          "2021-06-23T00:00:00",
          "2021-06-24T00:00:00",
          "2021-06-25T00:00:00",
          "2021-06-26T00:00:00",
          "2021-06-27T00:00:00",
          "2021-06-28T00:00:00"
         ],
         "y": [
          289.3584167942402,
          289.22746679887547,
          289.2214448310758,
          289.26099924337467,
          289.30170301859727,
          289.31817063877776,
          289.30867893398175
         ]
        },
        {
         "legendgroup": "Ensemble Members",
         "legendgrouptitle": {
          "text": "Ensemble Members"
         },
         "line": {
          "color": "grey",
          "width": 0.5
         },
         "mode": "lines",
         "opacity": 0.5,
         "showlegend": false,
         "type": "scatter",
         "x": [
          "2021-06-22T00:00:00",
          "2021-06-23T00:00:00",
          "2021-06-24T00:00:00",
          "2021-06-25T00:00:00",
          "2021-06-26T00:00:00",
          "2021-06-27T00:00:00",
          "2021-06-28T00:00:00"
         ],
         "y": [
          289.33020020086684,
          289.19858009036267,
          289.20907069962936,
          289.2614964052596,
          289.3398758699251,
          289.3470858527907,
          289.282149699979
         ]
        },
        {
         "legendgroup": "Ensemble Members",
         "legendgrouptitle": {
          "text": "Ensemble Members"
         },
         "line": {
          "color": "grey",
          "width": 0.5
         },
         "mode": "lines",
         "opacity": 0.5,
         "showlegend": false,
         "type": "scatter",
         "x": [
          "2021-06-22T00:00:00",
          "2021-06-23T00:00:00",
          "2021-06-24T00:00:00",
          "2021-06-25T00:00:00",
          "2021-06-26T00:00:00",
          "2021-06-27T00:00:00",
          "2021-06-28T00:00:00"
         ],
         "y": [
          289.33930727034357,
          289.2206209758742,
          289.26446533399303,
          289.314696593273,
          289.31634430392364,
          289.2864973740371,
          289.2603660793958
         ]
        },
        {
         "legendgroup": "Ensemble Members",
         "legendgrouptitle": {
          "text": "Ensemble Members"
         },
         "line": {
          "color": "grey",
          "width": 0.5
         },
         "mode": "lines",
         "opacity": 0.5,
         "showlegend": false,
         "type": "scatter",
         "x": [
          "2021-06-22T00:00:00",
          "2021-06-23T00:00:00",
          "2021-06-24T00:00:00",
          "2021-06-25T00:00:00",
          "2021-06-26T00:00:00",
          "2021-06-27T00:00:00",
          "2021-06-28T00:00:00"
         ],
         "y": [
          289.3317600440653,
          289.2054682003863,
          289.2163066487459,
          289.2790520800986,
          289.3422575882586,
          289.34829942863456,
          289.3427594277833
         ]
        },
        {
         "legendgroup": "Ensemble Members",
         "legendgrouptitle": {
          "text": "Ensemble Members"
         },
         "line": {
          "color": "grey",
          "width": 0.5
         },
         "mode": "lines",
         "opacity": 0.5,
         "showlegend": false,
         "type": "scatter",
         "x": [
          "2021-06-22T00:00:00",
          "2021-06-23T00:00:00",
          "2021-06-24T00:00:00",
          "2021-06-25T00:00:00",
          "2021-06-26T00:00:00",
          "2021-06-27T00:00:00",
          "2021-06-28T00:00:00"
         ],
         "y": [
          289.31627954406275,
          289.2103197594422,
          289.2478169392522,
          289.28228777582945,
          289.32144616763753,
          289.30556333072127,
          289.2537338027767
         ]
        },
        {
         "legendgroup": "Ensemble Members",
         "legendgrouptitle": {
          "text": "Ensemble Members"
         },
         "line": {
          "color": "grey",
          "width": 0.5
         },
         "mode": "lines",
         "opacity": 0.5,
         "showlegend": false,
         "type": "scatter",
         "x": [
          "2021-06-22T00:00:00",
          "2021-06-23T00:00:00",
          "2021-06-24T00:00:00",
          "2021-06-25T00:00:00",
          "2021-06-26T00:00:00",
          "2021-06-27T00:00:00",
          "2021-06-28T00:00:00"
         ],
         "y": [
          289.3322969683356,
          289.20396482663915,
          289.24620657705105,
          289.30135189495485,
          289.35236112156286,
          289.34951509518805,
          289.3017153768474
         ]
        },
        {
         "legendgroup": "Ensemble Members",
         "legendgrouptitle": {
          "text": "Ensemble Members"
         },
         "line": {
          "color": "grey",
          "width": 0.5
         },
         "mode": "lines",
         "opacity": 0.5,
         "showlegend": false,
         "type": "scatter",
         "x": [
          "2021-06-22T00:00:00",
          "2021-06-23T00:00:00",
          "2021-06-24T00:00:00",
          "2021-06-25T00:00:00",
          "2021-06-26T00:00:00",
          "2021-06-27T00:00:00",
          "2021-06-28T00:00:00"
         ],
         "y": [
          289.3317165951864,
          289.2180387107018,
          289.25592916303646,
          289.30194116608465,
          289.3264177965785,
          289.30849226188093,
          289.27647543118593
         ]
        },
        {
         "legendgroup": "Ensemble Members",
         "legendgrouptitle": {
          "text": "Ensemble Members"
         },
         "line": {
          "color": "grey",
          "width": 0.5
         },
         "mode": "lines",
         "opacity": 0.5,
         "showlegend": false,
         "type": "scatter",
         "x": [
          "2021-06-22T00:00:00",
          "2021-06-23T00:00:00",
          "2021-06-24T00:00:00",
          "2021-06-25T00:00:00",
          "2021-06-26T00:00:00",
          "2021-06-27T00:00:00",
          "2021-06-28T00:00:00"
         ],
         "y": [
          289.320196702135,
          289.20185453439336,
          289.2279281464465,
          289.2716621283619,
          289.28893027914467,
          289.26483126260854,
          289.25096689600446
         ]
        },
        {
         "legendgroup": "Ensemble Members",
         "legendgrouptitle": {
          "text": "Ensemble Members"
         },
         "line": {
          "color": "grey",
          "width": 0.5
         },
         "mode": "lines",
         "opacity": 0.5,
         "showlegend": false,
         "type": "scatter",
         "x": [
          "2021-06-22T00:00:00",
          "2021-06-23T00:00:00",
          "2021-06-24T00:00:00",
          "2021-06-25T00:00:00",
          "2021-06-26T00:00:00",
          "2021-06-27T00:00:00",
          "2021-06-28T00:00:00"
         ],
         "y": [
          289.3438391394967,
          289.22092134949764,
          289.2267805526387,
          289.2717222196831,
          289.32781601051346,
          289.33324888068387,
          289.29525013115295
         ]
        },
        {
         "legendgroup": "Ensemble Members",
         "legendgrouptitle": {
          "text": "Ensemble Members"
         },
         "line": {
          "color": "grey",
          "width": 0.5
         },
         "mode": "lines",
         "opacity": 0.5,
         "showlegend": false,
         "type": "scatter",
         "x": [
          "2021-06-22T00:00:00",
          "2021-06-23T00:00:00",
          "2021-06-24T00:00:00",
          "2021-06-25T00:00:00",
          "2021-06-26T00:00:00",
          "2021-06-27T00:00:00",
          "2021-06-28T00:00:00"
         ],
         "y": [
          289.32818962563175,
          289.1854594649928,
          289.20491061419597,
          289.2733918278459,
          289.31887980237764,
          289.32655149284875,
          289.27810028793255
         ]
        },
        {
         "legendgroup": "Ensemble Members",
         "legendgrouptitle": {
          "text": "Ensemble Members"
         },
         "line": {
          "color": "grey",
          "width": 0.5
         },
         "mode": "lines",
         "opacity": 0.5,
         "showlegend": false,
         "type": "scatter",
         "x": [
          "2021-06-22T00:00:00",
          "2021-06-23T00:00:00",
          "2021-06-24T00:00:00",
          "2021-06-25T00:00:00",
          "2021-06-26T00:00:00",
          "2021-06-27T00:00:00",
          "2021-06-28T00:00:00"
         ],
         "y": [
          289.3262905944301,
          289.188766612101,
          289.1902061198733,
          289.2677737632681,
          289.3653508275217,
          289.364189441671,
          289.348933828049
         ]
        },
        {
         "legendgroup": "Ensemble Members",
         "legendgrouptitle": {
          "text": "Ensemble Members"
         },
         "line": {
          "color": "grey",
          "width": 0.5
         },
         "mode": "lines",
         "opacity": 0.5,
         "showlegend": false,
         "type": "scatter",
         "x": [
          "2021-06-22T00:00:00",
          "2021-06-23T00:00:00",
          "2021-06-24T00:00:00",
          "2021-06-25T00:00:00",
          "2021-06-26T00:00:00",
          "2021-06-27T00:00:00",
          "2021-06-28T00:00:00"
         ],
         "y": [
          289.3303837242543,
          289.2261727802704,
          289.2317647546299,
          289.26997317921894,
          289.3250263482362,
          289.32343130274216,
          289.3257163491461
         ]
        },
        {
         "legendgroup": "Ensemble Members",
         "legendgrouptitle": {
          "text": "Ensemble Members"
         },
         "line": {
          "color": "grey",
          "width": 0.5
         },
         "mode": "lines",
         "opacity": 0.5,
         "showlegend": false,
         "type": "scatter",
         "x": [
          "2021-06-22T00:00:00",
          "2021-06-23T00:00:00",
          "2021-06-24T00:00:00",
          "2021-06-25T00:00:00",
          "2021-06-26T00:00:00",
          "2021-06-27T00:00:00",
          "2021-06-28T00:00:00"
         ],
         "y": [
          289.3331178315097,
          289.22733048066243,
          289.23468855144864,
          289.28818433570746,
          289.3398820875588,
          289.3437004301006,
          289.31017027222686
         ]
        },
        {
         "legendgroup": "Ensemble Members",
         "legendgrouptitle": {
          "text": "Ensemble Members"
         },
         "line": {
          "color": "grey",
          "width": 0.5
         },
         "mode": "lines",
         "opacity": 0.5,
         "showlegend": false,
         "type": "scatter",
         "x": [
          "2021-06-22T00:00:00",
          "2021-06-23T00:00:00",
          "2021-06-24T00:00:00",
          "2021-06-25T00:00:00",
          "2021-06-26T00:00:00",
          "2021-06-27T00:00:00",
          "2021-06-28T00:00:00"
         ],
         "y": [
          289.327710088039,
          289.2073446000392,
          289.22838017124883,
          289.24872353254136,
          289.3141853355748,
          289.3531636465639,
          289.32182531451497
         ]
        },
        {
         "legendgroup": "Ensemble Members",
         "legendgrouptitle": {
          "text": "Ensemble Members"
         },
         "line": {
          "color": "grey",
          "width": 0.5
         },
         "mode": "lines",
         "opacity": 0.5,
         "showlegend": false,
         "type": "scatter",
         "x": [
          "2021-06-22T00:00:00",
          "2021-06-23T00:00:00",
          "2021-06-24T00:00:00",
          "2021-06-25T00:00:00",
          "2021-06-26T00:00:00",
          "2021-06-27T00:00:00",
          "2021-06-28T00:00:00"
         ],
         "y": [
          289.33150248494024,
          289.22389945753525,
          289.2306203804308,
          289.28588500488286,
          289.35833613200214,
          289.37808480776783,
          289.3838639924792
         ]
        },
        {
         "legendgroup": "Ensemble Members",
         "legendgrouptitle": {
          "text": "Ensemble Members"
         },
         "line": {
          "color": "grey",
          "width": 0.5
         },
         "mode": "lines",
         "opacity": 0.5,
         "showlegend": false,
         "type": "scatter",
         "x": [
          "2021-06-22T00:00:00",
          "2021-06-23T00:00:00",
          "2021-06-24T00:00:00",
          "2021-06-25T00:00:00",
          "2021-06-26T00:00:00",
          "2021-06-27T00:00:00",
          "2021-06-28T00:00:00"
         ],
         "y": [
          289.30659482552466,
          289.21246627260115,
          289.23120381394733,
          289.2940298683949,
          289.37518139429034,
          289.4070166593829,
          289.3855478414047
         ]
        },
        {
         "legendgroup": "Ensemble Members",
         "legendgrouptitle": {
          "text": "Ensemble Members"
         },
         "line": {
          "color": "grey",
          "width": 0.5
         },
         "mode": "lines",
         "opacity": 0.5,
         "showlegend": false,
         "type": "scatter",
         "x": [
          "2021-06-22T00:00:00",
          "2021-06-23T00:00:00",
          "2021-06-24T00:00:00",
          "2021-06-25T00:00:00",
          "2021-06-26T00:00:00",
          "2021-06-27T00:00:00",
          "2021-06-28T00:00:00"
         ],
         "y": [
          289.3454646070346,
          289.21467100655735,
          289.2312103136761,
          289.305672961468,
          289.35962199575414,
          289.3778840730106,
          289.34377724819757
         ]
        },
        {
         "legendgroup": "Ensemble Members",
         "legendgrouptitle": {
          "text": "Ensemble Members"
         },
         "line": {
          "color": "grey",
          "width": 0.5
         },
         "mode": "lines",
         "opacity": 0.5,
         "showlegend": false,
         "type": "scatter",
         "x": [
          "2021-06-22T00:00:00",
          "2021-06-23T00:00:00",
          "2021-06-24T00:00:00",
          "2021-06-25T00:00:00",
          "2021-06-26T00:00:00",
          "2021-06-27T00:00:00",
          "2021-06-28T00:00:00"
         ],
         "y": [
          289.32416566566786,
          289.2139056911538,
          289.2445936243739,
          289.28006625754784,
          289.32361724570444,
          289.32179927204925,
          289.26427850943696
         ]
        },
        {
         "legendgroup": "Ensemble Members",
         "legendgrouptitle": {
          "text": "Ensemble Members"
         },
         "line": {
          "color": "grey",
          "width": 0.5
         },
         "mode": "lines",
         "opacity": 0.5,
         "showlegend": false,
         "type": "scatter",
         "x": [
          "2021-06-22T00:00:00",
          "2021-06-23T00:00:00",
          "2021-06-24T00:00:00",
          "2021-06-25T00:00:00",
          "2021-06-26T00:00:00",
          "2021-06-27T00:00:00",
          "2021-06-28T00:00:00"
         ],
         "y": [
          289.31869273726807,
          289.2100221583292,
          289.2134981375949,
          289.26701098246485,
          289.3286892434453,
          289.3253722390256,
          289.28210561916444
         ]
        },
        {
         "legendgroup": "Ensemble Members",
         "legendgrouptitle": {
          "text": "Ensemble Members"
         },
         "line": {
          "color": "grey",
          "width": 0.5
         },
         "mode": "lines",
         "opacity": 0.5,
         "showlegend": false,
         "type": "scatter",
         "x": [
          "2021-06-22T00:00:00",
          "2021-06-23T00:00:00",
          "2021-06-24T00:00:00",
          "2021-06-25T00:00:00",
          "2021-06-26T00:00:00",
          "2021-06-27T00:00:00",
          "2021-06-28T00:00:00"
         ],
         "y": [
          289.3291798159673,
          289.22154051897155,
          289.21729795389757,
          289.2857389694115,
          289.35327491547895,
          289.3338045022854,
          289.35045929606815
         ]
        },
        {
         "legendgroup": "Ensemble Members",
         "legendgrouptitle": {
          "text": "Ensemble Members"
         },
         "line": {
          "color": "grey",
          "width": 0.5
         },
         "mode": "lines",
         "opacity": 0.5,
         "showlegend": false,
         "type": "scatter",
         "x": [
          "2021-06-22T00:00:00",
          "2021-06-23T00:00:00",
          "2021-06-24T00:00:00",
          "2021-06-25T00:00:00",
          "2021-06-26T00:00:00",
          "2021-06-27T00:00:00",
          "2021-06-28T00:00:00"
         ],
         "y": [
          289.3410691912968,
          289.2413799849209,
          289.2510657132367,
          289.28233291547565,
          289.3228159709962,
          289.33262390725383,
          289.3349785701069
         ]
        },
        {
         "legendgroup": "Ensemble Members",
         "legendgrouptitle": {
          "text": "Ensemble Members"
         },
         "line": {
          "color": "grey",
          "width": 0.5
         },
         "mode": "lines",
         "opacity": 0.5,
         "showlegend": false,
         "type": "scatter",
         "x": [
          "2021-06-22T00:00:00",
          "2021-06-23T00:00:00",
          "2021-06-24T00:00:00",
          "2021-06-25T00:00:00",
          "2021-06-26T00:00:00",
          "2021-06-27T00:00:00",
          "2021-06-28T00:00:00"
         ],
         "y": [
          289.32493430524204,
          289.222010981306,
          289.2449731326716,
          289.28539170216135,
          289.33801651474255,
          289.3552833412125,
          289.35309516054946
         ]
        },
        {
         "legendgroup": "Ensemble Members",
         "legendgrouptitle": {
          "text": "Ensemble Members"
         },
         "line": {
          "color": "grey",
          "width": 0.5
         },
         "mode": "lines",
         "opacity": 0.5,
         "showlegend": false,
         "type": "scatter",
         "x": [
          "2021-06-22T00:00:00",
          "2021-06-23T00:00:00",
          "2021-06-24T00:00:00",
          "2021-06-25T00:00:00",
          "2021-06-26T00:00:00",
          "2021-06-27T00:00:00",
          "2021-06-28T00:00:00"
         ],
         "y": [
          289.36853508149096,
          289.25144321107126,
          289.24867404001276,
          289.27358001298194,
          289.3587917795231,
          289.3730813293985,
          289.367380992394
         ]
        },
        {
         "legendgroup": "Ensemble Members",
         "legendgrouptitle": {
          "text": "Ensemble Members"
         },
         "line": {
          "color": "grey",
          "width": 0.5
         },
         "mode": "lines",
         "opacity": 0.5,
         "showlegend": false,
         "type": "scatter",
         "x": [
          "2021-06-22T00:00:00",
          "2021-06-23T00:00:00",
          "2021-06-24T00:00:00",
          "2021-06-25T00:00:00",
          "2021-06-26T00:00:00",
          "2021-06-27T00:00:00",
          "2021-06-28T00:00:00"
         ],
         "y": [
          289.3671911744256,
          289.2314304258149,
          289.2493771134176,
          289.29169278255983,
          289.34663672725964,
          289.3148817415145,
          289.2629661815002
         ]
        },
        {
         "legendgroup": "Ensemble Members",
         "legendgrouptitle": {
          "text": "Ensemble Members"
         },
         "line": {
          "color": "grey",
          "width": 0.5
         },
         "mode": "lines",
         "opacity": 0.5,
         "showlegend": false,
         "type": "scatter",
         "x": [
          "2021-06-22T00:00:00",
          "2021-06-23T00:00:00",
          "2021-06-24T00:00:00",
          "2021-06-25T00:00:00",
          "2021-06-26T00:00:00",
          "2021-06-27T00:00:00",
          "2021-06-28T00:00:00"
         ],
         "y": [
          289.35347457783377,
          289.1991761766157,
          289.201245647043,
          289.2457439947382,
          289.3063541769323,
          289.34399476857806,
          289.328903470799
         ]
        },
        {
         "legendgroup": "Ensemble Members",
         "legendgrouptitle": {
          "text": "Ensemble Members"
         },
         "line": {
          "color": "grey",
          "width": 0.5
         },
         "mode": "lines",
         "opacity": 0.5,
         "showlegend": false,
         "type": "scatter",
         "x": [
          "2021-06-22T00:00:00",
          "2021-06-23T00:00:00",
          "2021-06-24T00:00:00",
          "2021-06-25T00:00:00",
          "2021-06-26T00:00:00",
          "2021-06-27T00:00:00",
          "2021-06-28T00:00:00"
         ],
         "y": [
          289.3421631148781,
          289.2177831439912,
          289.21370360733465,
          289.26811539902116,
          289.34258904997336,
          289.34591298345066,
          289.31736812208305
         ]
        },
        {
         "legendgroup": "Ensemble Members",
         "legendgrouptitle": {
          "text": "Ensemble Members"
         },
         "line": {
          "color": "grey",
          "width": 0.5
         },
         "mode": "lines",
         "opacity": 0.5,
         "showlegend": false,
         "type": "scatter",
         "x": [
          "2021-06-22T00:00:00",
          "2021-06-23T00:00:00",
          "2021-06-24T00:00:00",
          "2021-06-25T00:00:00",
          "2021-06-26T00:00:00",
          "2021-06-27T00:00:00",
          "2021-06-28T00:00:00"
         ],
         "y": [
          289.3288989028028,
          289.2077840331206,
          289.21327178792853,
          289.25064311278845,
          289.2846261479177,
          289.2795086804887,
          289.25653759178516
         ]
        },
        {
         "legendgroup": "Ensemble Members",
         "legendgrouptitle": {
          "text": "Ensemble Members"
         },
         "line": {
          "color": "grey",
          "width": 0.5
         },
         "mode": "lines",
         "opacity": 0.5,
         "showlegend": false,
         "type": "scatter",
         "x": [
          "2021-06-22T00:00:00",
          "2021-06-23T00:00:00",
          "2021-06-24T00:00:00",
          "2021-06-25T00:00:00",
          "2021-06-26T00:00:00",
          "2021-06-27T00:00:00",
          "2021-06-28T00:00:00"
         ],
         "y": [
          289.3434436351564,
          289.22754642623335,
          289.25156868744887,
          289.3058069883049,
          289.37352920655974,
          289.36999460394264,
          289.31072336204875
         ]
        },
        {
         "legendgroup": "Ensemble Members",
         "legendgrouptitle": {
          "text": "Ensemble Members"
         },
         "line": {
          "color": "grey",
          "width": 0.5
         },
         "mode": "lines",
         "opacity": 0.5,
         "showlegend": false,
         "type": "scatter",
         "x": [
          "2021-06-22T00:00:00",
          "2021-06-23T00:00:00",
          "2021-06-24T00:00:00",
          "2021-06-25T00:00:00",
          "2021-06-26T00:00:00",
          "2021-06-27T00:00:00",
          "2021-06-28T00:00:00"
         ],
         "y": [
          289.32756362761535,
          289.2243402025127,
          289.2386180479347,
          289.2809970459302,
          289.33210069270547,
          289.3600267769953,
          289.3241958379531
         ]
        },
        {
         "legendgroup": "Ensemble Members",
         "legendgrouptitle": {
          "text": "Ensemble Members"
         },
         "line": {
          "color": "grey",
          "width": 0.5
         },
         "mode": "lines",
         "opacity": 0.5,
         "showlegend": false,
         "type": "scatter",
         "x": [
          "2021-06-22T00:00:00",
          "2021-06-23T00:00:00",
          "2021-06-24T00:00:00",
          "2021-06-25T00:00:00",
          "2021-06-26T00:00:00",
          "2021-06-27T00:00:00",
          "2021-06-28T00:00:00"
         ],
         "y": [
          289.3440290421921,
          289.2157570740433,
          289.2407506412042,
          289.3016495125486,
          289.35472992344995,
          289.3539571607218,
          289.33862209448023
         ]
        },
        {
         "legendgroup": "Ensemble Members",
         "legendgrouptitle": {
          "text": "Ensemble Members"
         },
         "line": {
          "color": "grey",
          "width": 0.5
         },
         "mode": "lines",
         "opacity": 0.5,
         "showlegend": false,
         "type": "scatter",
         "x": [
          "2021-06-22T00:00:00",
          "2021-06-23T00:00:00",
          "2021-06-24T00:00:00",
          "2021-06-25T00:00:00",
          "2021-06-26T00:00:00",
          "2021-06-27T00:00:00",
          "2021-06-28T00:00:00"
         ],
         "y": [
          289.34167945888134,
          289.2331696233231,
          289.27494918359633,
          289.3077428849118,
          289.360172134356,
          289.37820985579424,
          289.3055613066062
         ]
        },
        {
         "legendgroup": "Ensemble Members",
         "legendgrouptitle": {
          "text": "Ensemble Members"
         },
         "line": {
          "color": "grey",
          "width": 0.5
         },
         "mode": "lines",
         "opacity": 0.5,
         "showlegend": false,
         "type": "scatter",
         "x": [
          "2021-06-22T00:00:00",
          "2021-06-23T00:00:00",
          "2021-06-24T00:00:00",
          "2021-06-25T00:00:00",
          "2021-06-26T00:00:00",
          "2021-06-27T00:00:00",
          "2021-06-28T00:00:00"
         ],
         "y": [
          289.35245081371966,
          289.2138017026348,
          289.22457213310486,
          289.25457901664913,
          289.3013417344477,
          289.288045565143,
          289.30039313586275
         ]
        },
        {
         "legendgroup": "Ensemble Members",
         "legendgrouptitle": {
          "text": "Ensemble Members"
         },
         "line": {
          "color": "grey",
          "width": 0.5
         },
         "mode": "lines",
         "opacity": 0.5,
         "showlegend": false,
         "type": "scatter",
         "x": [
          "2021-06-22T00:00:00",
          "2021-06-23T00:00:00",
          "2021-06-24T00:00:00",
          "2021-06-25T00:00:00",
          "2021-06-26T00:00:00",
          "2021-06-27T00:00:00",
          "2021-06-28T00:00:00"
         ],
         "y": [
          289.3477237716375,
          289.2614838335667,
          289.27044801411233,
          289.29119805520304,
          289.3523216136461,
          289.363841868174,
          289.36110879069383
         ]
        },
        {
         "legendgroup": "Ensemble Members",
         "legendgrouptitle": {
          "text": "Ensemble Members"
         },
         "line": {
          "color": "grey",
          "width": 0.5
         },
         "mode": "lines",
         "opacity": 0.5,
         "showlegend": false,
         "type": "scatter",
         "x": [
          "2021-06-22T00:00:00",
          "2021-06-23T00:00:00",
          "2021-06-24T00:00:00",
          "2021-06-25T00:00:00",
          "2021-06-26T00:00:00",
          "2021-06-27T00:00:00",
          "2021-06-28T00:00:00"
         ],
         "y": [
          289.34820616596363,
          289.21530630746923,
          289.1939645918761,
          289.2097589494223,
          289.2904118092425,
          289.30592745482846,
          289.2529284429646
         ]
        },
        {
         "legendgroup": "Ensemble Members",
         "legendgrouptitle": {
          "text": "Ensemble Members"
         },
         "line": {
          "color": "grey",
          "width": 0.5
         },
         "mode": "lines",
         "opacity": 0.5,
         "showlegend": false,
         "type": "scatter",
         "x": [
          "2021-06-22T00:00:00",
          "2021-06-23T00:00:00",
          "2021-06-24T00:00:00",
          "2021-06-25T00:00:00",
          "2021-06-26T00:00:00",
          "2021-06-27T00:00:00",
          "2021-06-28T00:00:00"
         ],
         "y": [
          289.3265615770708,
          289.20813184765274,
          289.2127724070765,
          289.295451182102,
          289.34297305618355,
          289.3270830487014,
          289.31411359459827
         ]
        },
        {
         "legendgroup": "Ensemble Members",
         "legendgrouptitle": {
          "text": "Ensemble Members"
         },
         "line": {
          "color": "grey",
          "width": 0.5
         },
         "mode": "lines",
         "opacity": 0.5,
         "showlegend": false,
         "type": "scatter",
         "x": [
          "2021-06-22T00:00:00",
          "2021-06-23T00:00:00",
          "2021-06-24T00:00:00",
          "2021-06-25T00:00:00",
          "2021-06-26T00:00:00",
          "2021-06-27T00:00:00",
          "2021-06-28T00:00:00"
         ],
         "y": [
          289.3445074137769,
          289.2108277003482,
          289.2391899147411,
          289.2726835346719,
          289.31914198853957,
          289.31934224840074,
          289.2735626326701
         ]
        },
        {
         "legendgroup": "Ensemble Members",
         "legendgrouptitle": {
          "text": "Ensemble Members"
         },
         "line": {
          "color": "grey",
          "width": 0.5
         },
         "mode": "lines",
         "opacity": 0.5,
         "showlegend": false,
         "type": "scatter",
         "x": [
          "2021-06-22T00:00:00",
          "2021-06-23T00:00:00",
          "2021-06-24T00:00:00",
          "2021-06-25T00:00:00",
          "2021-06-26T00:00:00",
          "2021-06-27T00:00:00",
          "2021-06-28T00:00:00"
         ],
         "y": [
          289.3270477152177,
          289.2036856512033,
          289.21005885957373,
          289.24861266320175,
          289.2824606273779,
          289.27702825981095,
          289.23887251386236
         ]
        },
        {
         "legendgroup": "Ensemble Members",
         "legendgrouptitle": {
          "text": "Ensemble Members"
         },
         "line": {
          "color": "grey",
          "width": 0.5
         },
         "mode": "lines",
         "opacity": 0.5,
         "showlegend": false,
         "type": "scatter",
         "x": [
          "2021-06-22T00:00:00",
          "2021-06-23T00:00:00",
          "2021-06-24T00:00:00",
          "2021-06-25T00:00:00",
          "2021-06-26T00:00:00",
          "2021-06-27T00:00:00",
          "2021-06-28T00:00:00"
         ],
         "y": [
          289.31654120930796,
          289.2193896308859,
          289.21679570587384,
          289.28643218168816,
          289.3505582503187,
          289.3753039565048,
          289.38423112278826
         ]
        },
        {
         "legendgroup": "Ensemble Members",
         "legendgrouptitle": {
          "text": "Ensemble Members"
         },
         "line": {
          "color": "grey",
          "width": 0.5
         },
         "mode": "lines",
         "opacity": 0.5,
         "showlegend": false,
         "type": "scatter",
         "x": [
          "2021-06-22T00:00:00",
          "2021-06-23T00:00:00",
          "2021-06-24T00:00:00",
          "2021-06-25T00:00:00",
          "2021-06-26T00:00:00",
          "2021-06-27T00:00:00",
          "2021-06-28T00:00:00"
         ],
         "y": [
          289.3270458640668,
          289.1965421565085,
          289.20829974177786,
          289.2555128488193,
          289.3021003646711,
          289.2831313130421,
          289.24880254602465
         ]
        },
        {
         "legendgroup": "Ensemble Members",
         "legendgrouptitle": {
          "text": "Ensemble Members"
         },
         "line": {
          "color": "grey",
          "width": 0.5
         },
         "mode": "lines",
         "opacity": 0.5,
         "showlegend": false,
         "type": "scatter",
         "x": [
          "2021-06-22T00:00:00",
          "2021-06-23T00:00:00",
          "2021-06-24T00:00:00",
          "2021-06-25T00:00:00",
          "2021-06-26T00:00:00",
          "2021-06-27T00:00:00",
          "2021-06-28T00:00:00"
         ],
         "y": [
          289.340849126572,
          289.2180843853966,
          289.1985057375648,
          289.25508222351766,
          289.3125012405949,
          289.3020608589079,
          289.26740543875854
         ]
        },
        {
         "legendgroup": "Ensemble Members",
         "legendgrouptitle": {
          "text": "Ensemble Members"
         },
         "line": {
          "color": "grey",
          "width": 0.5
         },
         "mode": "lines",
         "opacity": 0.5,
         "showlegend": false,
         "type": "scatter",
         "x": [
          "2021-06-22T00:00:00",
          "2021-06-23T00:00:00",
          "2021-06-24T00:00:00",
          "2021-06-25T00:00:00",
          "2021-06-26T00:00:00",
          "2021-06-27T00:00:00",
          "2021-06-28T00:00:00"
         ],
         "y": [
          289.3349014335487,
          289.2061821834296,
          289.22706991255734,
          289.25786947544964,
          289.32396792134386,
          289.3279001731078,
          289.32158108905753
         ]
        },
        {
         "legendgroup": "Ensemble Members",
         "legendgrouptitle": {
          "text": "Ensemble Members"
         },
         "line": {
          "color": "grey",
          "width": 0.5
         },
         "mode": "lines",
         "opacity": 0.5,
         "showlegend": false,
         "type": "scatter",
         "x": [
          "2021-06-22T00:00:00",
          "2021-06-23T00:00:00",
          "2021-06-24T00:00:00",
          "2021-06-25T00:00:00",
          "2021-06-26T00:00:00",
          "2021-06-27T00:00:00",
          "2021-06-28T00:00:00"
         ],
         "y": [
          289.33615808250164,
          289.1816045131544,
          289.21422413499033,
          289.2610181168108,
          289.2694965229874,
          289.27704083074013,
          289.2900993251804
         ]
        },
        {
         "legendgroup": "Ensemble Members",
         "legendgrouptitle": {
          "text": "Ensemble Members"
         },
         "line": {
          "color": "grey",
          "width": 0.5
         },
         "mode": "lines",
         "opacity": 0.5,
         "showlegend": false,
         "type": "scatter",
         "x": [
          "2021-06-22T00:00:00",
          "2021-06-23T00:00:00",
          "2021-06-24T00:00:00",
          "2021-06-25T00:00:00",
          "2021-06-26T00:00:00",
          "2021-06-27T00:00:00",
          "2021-06-28T00:00:00"
         ],
         "y": [
          289.3252281298713,
          289.21185850978935,
          289.21260888719604,
          289.2728354344391,
          289.3224268977454,
          289.342231434412,
          289.3102460626648
         ]
        },
        {
         "legendgroup": "Ensemble Members",
         "legendgrouptitle": {
          "text": "Ensemble Members"
         },
         "line": {
          "color": "grey",
          "width": 0.5
         },
         "mode": "lines",
         "opacity": 0.5,
         "showlegend": false,
         "type": "scatter",
         "x": [
          "2021-06-22T00:00:00",
          "2021-06-23T00:00:00",
          "2021-06-24T00:00:00",
          "2021-06-25T00:00:00",
          "2021-06-26T00:00:00",
          "2021-06-27T00:00:00",
          "2021-06-28T00:00:00"
         ],
         "y": [
          289.3180632915534,
          289.20056494732563,
          289.2120102524077,
          289.28096851850086,
          289.3252272680782,
          289.31020957427,
          289.2930029098481
         ]
        },
        {
         "legendgroup": "Ensemble Members",
         "legendgrouptitle": {
          "text": "Ensemble Members"
         },
         "line": {
          "color": "grey",
          "width": 0.5
         },
         "mode": "lines",
         "opacity": 0.5,
         "showlegend": false,
         "type": "scatter",
         "x": [
          "2021-06-22T00:00:00",
          "2021-06-23T00:00:00",
          "2021-06-24T00:00:00",
          "2021-06-25T00:00:00",
          "2021-06-26T00:00:00",
          "2021-06-27T00:00:00",
          "2021-06-28T00:00:00"
         ],
         "y": [
          289.3305338994627,
          289.2095630658151,
          289.2186795781214,
          289.2547251562688,
          289.3378367824854,
          289.34497044496646,
          289.31542343794507
         ]
        },
        {
         "line": {
          "color": "black",
          "width": 1
         },
         "mode": "lines",
         "name": "Ensemble Mean",
         "type": "scatter",
         "x": [
          "2021-06-22T00:00:00",
          "2021-06-23T00:00:00",
          "2021-06-24T00:00:00",
          "2021-06-25T00:00:00",
          "2021-06-26T00:00:00",
          "2021-06-27T00:00:00",
          "2021-06-28T00:00:00"
         ],
         "y": [
          289.3348260580196,
          289.2156688225986,
          289.22981695393423,
          289.2770561657775,
          289.33002725539444,
          289.33300279287704,
          289.3086309514063
         ]
        }
       ],
       "layout": {
        "height": 900,
        "legend": {
         "itemclick": "toggle",
         "itemdoubleclick": "toggleothers",
         "itemsizing": "constant",
         "orientation": "v",
         "title": {
          "text": "Legend"
         },
         "x": 1.05,
         "y": 1
        },
        "margin": {
         "b": 40,
         "l": 40,
         "r": 40,
         "t": 40
        },
        "template": {
         "data": {
          "bar": [
           {
            "error_x": {
             "color": "#2a3f5f"
            },
            "error_y": {
             "color": "#2a3f5f"
            },
            "marker": {
             "line": {
              "color": "white",
              "width": 0.5
             },
             "pattern": {
              "fillmode": "overlay",
              "size": 10,
              "solidity": 0.2
             }
            },
            "type": "bar"
           }
          ],
          "barpolar": [
           {
            "marker": {
             "line": {
              "color": "white",
              "width": 0.5
             },
             "pattern": {
              "fillmode": "overlay",
              "size": 10,
              "solidity": 0.2
             }
            },
            "type": "barpolar"
           }
          ],
          "carpet": [
           {
            "aaxis": {
             "endlinecolor": "#2a3f5f",
             "gridcolor": "#C8D4E3",
             "linecolor": "#C8D4E3",
             "minorgridcolor": "#C8D4E3",
             "startlinecolor": "#2a3f5f"
            },
            "baxis": {
             "endlinecolor": "#2a3f5f",
             "gridcolor": "#C8D4E3",
             "linecolor": "#C8D4E3",
             "minorgridcolor": "#C8D4E3",
             "startlinecolor": "#2a3f5f"
            },
            "type": "carpet"
           }
          ],
          "choropleth": [
           {
            "colorbar": {
             "outlinewidth": 0,
             "ticks": ""
            },
            "type": "choropleth"
           }
          ],
          "contour": [
           {
            "colorbar": {
             "outlinewidth": 0,
             "ticks": ""
            },
            "colorscale": [
             [
              0,
              "#0d0887"
             ],
             [
              0.1111111111111111,
              "#46039f"
             ],
             [
              0.2222222222222222,
              "#7201a8"
             ],
             [
              0.3333333333333333,
              "#9c179e"
             ],
             [
              0.4444444444444444,
              "#bd3786"
             ],
             [
              0.5555555555555556,
              "#d8576b"
             ],
             [
              0.6666666666666666,
              "#ed7953"
             ],
             [
              0.7777777777777778,
              "#fb9f3a"
             ],
             [
              0.8888888888888888,
              "#fdca26"
             ],
             [
              1,
              "#f0f921"
             ]
            ],
            "type": "contour"
           }
          ],
          "contourcarpet": [
           {
            "colorbar": {
             "outlinewidth": 0,
             "ticks": ""
            },
            "type": "contourcarpet"
           }
          ],
          "heatmap": [
           {
            "colorbar": {
             "outlinewidth": 0,
             "ticks": ""
            },
            "colorscale": [
             [
              0,
              "#0d0887"
             ],
             [
              0.1111111111111111,
              "#46039f"
             ],
             [
              0.2222222222222222,
              "#7201a8"
             ],
             [
              0.3333333333333333,
              "#9c179e"
             ],
             [
              0.4444444444444444,
              "#bd3786"
             ],
             [
              0.5555555555555556,
              "#d8576b"
             ],
             [
              0.6666666666666666,
              "#ed7953"
             ],
             [
              0.7777777777777778,
              "#fb9f3a"
             ],
             [
              0.8888888888888888,
              "#fdca26"
             ],
             [
              1,
              "#f0f921"
             ]
            ],
            "type": "heatmap"
           }
          ],
          "heatmapgl": [
           {
            "colorbar": {
             "outlinewidth": 0,
             "ticks": ""
            },
            "colorscale": [
             [
              0,
              "#0d0887"
             ],
             [
              0.1111111111111111,
              "#46039f"
             ],
             [
              0.2222222222222222,
              "#7201a8"
             ],
             [
              0.3333333333333333,
              "#9c179e"
             ],
             [
              0.4444444444444444,
              "#bd3786"
             ],
             [
              0.5555555555555556,
              "#d8576b"
             ],
             [
              0.6666666666666666,
              "#ed7953"
             ],
             [
              0.7777777777777778,
              "#fb9f3a"
             ],
             [
              0.8888888888888888,
              "#fdca26"
             ],
             [
              1,
              "#f0f921"
             ]
            ],
            "type": "heatmapgl"
           }
          ],
          "histogram": [
           {
            "marker": {
             "pattern": {
              "fillmode": "overlay",
              "size": 10,
              "solidity": 0.2
             }
            },
            "type": "histogram"
           }
          ],
          "histogram2d": [
           {
            "colorbar": {
             "outlinewidth": 0,
             "ticks": ""
            },
            "colorscale": [
             [
              0,
              "#0d0887"
             ],
             [
              0.1111111111111111,
              "#46039f"
             ],
             [
              0.2222222222222222,
              "#7201a8"
             ],
             [
              0.3333333333333333,
              "#9c179e"
             ],
             [
              0.4444444444444444,
              "#bd3786"
             ],
             [
              0.5555555555555556,
              "#d8576b"
             ],
             [
              0.6666666666666666,
              "#ed7953"
             ],
             [
              0.7777777777777778,
              "#fb9f3a"
             ],
             [
              0.8888888888888888,
              "#fdca26"
             ],
             [
              1,
              "#f0f921"
             ]
            ],
            "type": "histogram2d"
           }
          ],
          "histogram2dcontour": [
           {
            "colorbar": {
             "outlinewidth": 0,
             "ticks": ""
            },
            "colorscale": [
             [
              0,
              "#0d0887"
             ],
             [
              0.1111111111111111,
              "#46039f"
             ],
             [
              0.2222222222222222,
              "#7201a8"
             ],
             [
              0.3333333333333333,
              "#9c179e"
             ],
             [
              0.4444444444444444,
              "#bd3786"
             ],
             [
              0.5555555555555556,
              "#d8576b"
             ],
             [
              0.6666666666666666,
              "#ed7953"
             ],
             [
              0.7777777777777778,
              "#fb9f3a"
             ],
             [
              0.8888888888888888,
              "#fdca26"
             ],
             [
              1,
              "#f0f921"
             ]
            ],
            "type": "histogram2dcontour"
           }
          ],
          "mesh3d": [
           {
            "colorbar": {
             "outlinewidth": 0,
             "ticks": ""
            },
            "type": "mesh3d"
           }
          ],
          "parcoords": [
           {
            "line": {
             "colorbar": {
              "outlinewidth": 0,
              "ticks": ""
             }
            },
            "type": "parcoords"
           }
          ],
          "pie": [
           {
            "automargin": true,
            "type": "pie"
           }
          ],
          "scatter": [
           {
            "fillpattern": {
             "fillmode": "overlay",
             "size": 10,
             "solidity": 0.2
            },
            "type": "scatter"
           }
          ],
          "scatter3d": [
           {
            "line": {
             "colorbar": {
              "outlinewidth": 0,
              "ticks": ""
             }
            },
            "marker": {
             "colorbar": {
              "outlinewidth": 0,
              "ticks": ""
             }
            },
            "type": "scatter3d"
           }
          ],
          "scattercarpet": [
           {
            "marker": {
             "colorbar": {
              "outlinewidth": 0,
              "ticks": ""
             }
            },
            "type": "scattercarpet"
           }
          ],
          "scattergeo": [
           {
            "marker": {
             "colorbar": {
              "outlinewidth": 0,
              "ticks": ""
             }
            },
            "type": "scattergeo"
           }
          ],
          "scattergl": [
           {
            "marker": {
             "colorbar": {
              "outlinewidth": 0,
              "ticks": ""
             }
            },
            "type": "scattergl"
           }
          ],
          "scattermapbox": [
           {
            "marker": {
             "colorbar": {
              "outlinewidth": 0,
              "ticks": ""
             }
            },
            "type": "scattermapbox"
           }
          ],
          "scatterpolar": [
           {
            "marker": {
             "colorbar": {
              "outlinewidth": 0,
              "ticks": ""
             }
            },
            "type": "scatterpolar"
           }
          ],
          "scatterpolargl": [
           {
            "marker": {
             "colorbar": {
              "outlinewidth": 0,
              "ticks": ""
             }
            },
            "type": "scatterpolargl"
           }
          ],
          "scatterternary": [
           {
            "marker": {
             "colorbar": {
              "outlinewidth": 0,
              "ticks": ""
             }
            },
            "type": "scatterternary"
           }
          ],
          "surface": [
           {
            "colorbar": {
             "outlinewidth": 0,
             "ticks": ""
            },
            "colorscale": [
             [
              0,
              "#0d0887"
             ],
             [
              0.1111111111111111,
              "#46039f"
             ],
             [
              0.2222222222222222,
              "#7201a8"
             ],
             [
              0.3333333333333333,
              "#9c179e"
             ],
             [
              0.4444444444444444,
              "#bd3786"
             ],
             [
              0.5555555555555556,
              "#d8576b"
             ],
             [
              0.6666666666666666,
              "#ed7953"
             ],
             [
              0.7777777777777778,
              "#fb9f3a"
             ],
             [
              0.8888888888888888,
              "#fdca26"
             ],
             [
              1,
              "#f0f921"
             ]
            ],
            "type": "surface"
           }
          ],
          "table": [
           {
            "cells": {
             "fill": {
              "color": "#EBF0F8"
             },
             "line": {
              "color": "white"
             }
            },
            "header": {
             "fill": {
              "color": "#C8D4E3"
             },
             "line": {
              "color": "white"
             }
            },
            "type": "table"
           }
          ]
         },
         "layout": {
          "annotationdefaults": {
           "arrowcolor": "#2a3f5f",
           "arrowhead": 0,
           "arrowwidth": 1
          },
          "autotypenumbers": "strict",
          "coloraxis": {
           "colorbar": {
            "outlinewidth": 0,
            "ticks": ""
           }
          },
          "colorscale": {
           "diverging": [
            [
             0,
             "#8e0152"
            ],
            [
             0.1,
             "#c51b7d"
            ],
            [
             0.2,
             "#de77ae"
            ],
            [
             0.3,
             "#f1b6da"
            ],
            [
             0.4,
             "#fde0ef"
            ],
            [
             0.5,
             "#f7f7f7"
            ],
            [
             0.6,
             "#e6f5d0"
            ],
            [
             0.7,
             "#b8e186"
            ],
            [
             0.8,
             "#7fbc41"
            ],
            [
             0.9,
             "#4d9221"
            ],
            [
             1,
             "#276419"
            ]
           ],
           "sequential": [
            [
             0,
             "#0d0887"
            ],
            [
             0.1111111111111111,
             "#46039f"
            ],
            [
             0.2222222222222222,
             "#7201a8"
            ],
            [
             0.3333333333333333,
             "#9c179e"
            ],
            [
             0.4444444444444444,
             "#bd3786"
            ],
            [
             0.5555555555555556,
             "#d8576b"
            ],
            [
             0.6666666666666666,
             "#ed7953"
            ],
            [
             0.7777777777777778,
             "#fb9f3a"
            ],
            [
             0.8888888888888888,
             "#fdca26"
            ],
            [
             1,
             "#f0f921"
            ]
           ],
           "sequentialminus": [
            [
             0,
             "#0d0887"
            ],
            [
             0.1111111111111111,
             "#46039f"
            ],
            [
             0.2222222222222222,
             "#7201a8"
            ],
            [
             0.3333333333333333,
             "#9c179e"
            ],
            [
             0.4444444444444444,
             "#bd3786"
            ],
            [
             0.5555555555555556,
             "#d8576b"
            ],
            [
             0.6666666666666666,
             "#ed7953"
            ],
            [
             0.7777777777777778,
             "#fb9f3a"
            ],
            [
             0.8888888888888888,
             "#fdca26"
            ],
            [
             1,
             "#f0f921"
            ]
           ]
          },
          "colorway": [
           "#636efa",
           "#EF553B",
           "#00cc96",
           "#ab63fa",
           "#FFA15A",
           "#19d3f3",
           "#FF6692",
           "#B6E880",
           "#FF97FF",
           "#FECB52"
          ],
          "font": {
           "color": "#2a3f5f"
          },
          "geo": {
           "bgcolor": "white",
           "lakecolor": "white",
           "landcolor": "white",
           "showlakes": true,
           "showland": true,
           "subunitcolor": "#C8D4E3"
          },
          "hoverlabel": {
           "align": "left"
          },
          "hovermode": "closest",
          "mapbox": {
           "style": "light"
          },
          "paper_bgcolor": "white",
          "plot_bgcolor": "white",
          "polar": {
           "angularaxis": {
            "gridcolor": "#EBF0F8",
            "linecolor": "#EBF0F8",
            "ticks": ""
           },
           "bgcolor": "white",
           "radialaxis": {
            "gridcolor": "#EBF0F8",
            "linecolor": "#EBF0F8",
            "ticks": ""
           }
          },
          "scene": {
           "xaxis": {
            "backgroundcolor": "white",
            "gridcolor": "#DFE8F3",
            "gridwidth": 2,
            "linecolor": "#EBF0F8",
            "showbackground": true,
            "ticks": "",
            "zerolinecolor": "#EBF0F8"
           },
           "yaxis": {
            "backgroundcolor": "white",
            "gridcolor": "#DFE8F3",
            "gridwidth": 2,
            "linecolor": "#EBF0F8",
            "showbackground": true,
            "ticks": "",
            "zerolinecolor": "#EBF0F8"
           },
           "zaxis": {
            "backgroundcolor": "white",
            "gridcolor": "#DFE8F3",
            "gridwidth": 2,
            "linecolor": "#EBF0F8",
            "showbackground": true,
            "ticks": "",
            "zerolinecolor": "#EBF0F8"
           }
          },
          "shapedefaults": {
           "line": {
            "color": "#2a3f5f"
           }
          },
          "ternary": {
           "aaxis": {
            "gridcolor": "#DFE8F3",
            "linecolor": "#A2B1C6",
            "ticks": ""
           },
           "baxis": {
            "gridcolor": "#DFE8F3",
            "linecolor": "#A2B1C6",
            "ticks": ""
           },
           "bgcolor": "white",
           "caxis": {
            "gridcolor": "#DFE8F3",
            "linecolor": "#A2B1C6",
            "ticks": ""
           }
          },
          "title": {
           "x": 0.05
          },
          "xaxis": {
           "automargin": true,
           "gridcolor": "#EBF0F8",
           "linecolor": "#EBF0F8",
           "ticks": "",
           "title": {
            "standoff": 15
           },
           "zerolinecolor": "#EBF0F8",
           "zerolinewidth": 2
          },
          "yaxis": {
           "automargin": true,
           "gridcolor": "#EBF0F8",
           "linecolor": "#EBF0F8",
           "ticks": "",
           "title": {
            "standoff": 15
           },
           "zerolinecolor": "#EBF0F8",
           "zerolinewidth": 2
          }
         }
        },
        "title": {
         "text": "Mean 2m Temperature Forecast / 2021-06-21  + 7 days"
        },
        "width": 1600,
        "xaxis": {
         "range": [
          "2021-06-22T00:00:00",
          "2021-06-28T00:00:00"
         ],
         "title": {
          "text": "Date"
         }
        },
        "yaxis": {
         "title": {
          "text": "Temperature (K)"
         }
        }
       }
      },
      "text/html": [
       "<div>                            <div id=\"7dd9bfdd-435a-438a-8b65-172635960847\" class=\"plotly-graph-div\" style=\"height:900px; width:1600px;\"></div>            <script type=\"text/javascript\">                require([\"plotly\"], function(Plotly) {                    window.PLOTLYENV=window.PLOTLYENV || {};                                    if (document.getElementById(\"7dd9bfdd-435a-438a-8b65-172635960847\")) {                    Plotly.newPlot(                        \"7dd9bfdd-435a-438a-8b65-172635960847\",                        [{\"legendgroup\":\"0.001_global_00000000001\",\"legendgrouptitle\":{\"text\":\"0.001_global_00000000001\"},\"line\":{\"color\":\"rgb(235, 235, 242)\",\"width\":1},\"mode\":\"lines\",\"name\":\"0.001_global_00000000001\",\"showlegend\":true,\"x\":[\"2021-06-22T00:00:00.000000000\",\"2021-06-23T00:00:00.000000000\",\"2021-06-24T00:00:00.000000000\",\"2021-06-25T00:00:00.000000000\",\"2021-06-26T00:00:00.000000000\",\"2021-06-27T00:00:00.000000000\",\"2021-06-28T00:00:00.000000000\"],\"y\":[289.3352,289.34985,289.36597,289.37195,289.3426,289.27228,289.22177],\"type\":\"scatter\"},{\"legendgroup\":\"1_global_00000000001\",\"legendgrouptitle\":{\"text\":\"1_global_00000000001\"},\"line\":{\"color\":\"rgb(230, 230, 243)\",\"width\":1},\"mode\":\"lines\",\"name\":\"1_global_00000000001\",\"showlegend\":true,\"x\":[\"2021-06-22T00:00:00.000000000\",\"2021-06-23T00:00:00.000000000\",\"2021-06-24T00:00:00.000000000\",\"2021-06-25T00:00:00.000000000\",\"2021-06-26T00:00:00.000000000\",\"2021-06-27T00:00:00.000000000\",\"2021-06-28T00:00:00.000000000\"],\"y\":[288.4677,287.2917,286.9017,286.75638,286.7355,286.7074,286.66064],\"type\":\"scatter\"},{\"legendgroup\":\"0.001_global_00000000010\",\"legendgrouptitle\":{\"text\":\"0.001_global_00000000010\"},\"line\":{\"color\":\"rgb(225, 225, 243)\",\"width\":1},\"mode\":\"lines\",\"name\":\"0.001_global_00000000010\",\"showlegend\":true,\"x\":[\"2021-06-22T00:00:00.000000000\",\"2021-06-23T00:00:00.000000000\",\"2021-06-24T00:00:00.000000000\",\"2021-06-25T00:00:00.000000000\",\"2021-06-26T00:00:00.000000000\",\"2021-06-27T00:00:00.000000000\",\"2021-06-28T00:00:00.000000000\"],\"y\":[289.33533,289.34918,289.3655,289.37192,289.34256,289.27133,289.22147],\"type\":\"scatter\"},{\"legendgroup\":\"1_global_00000000010\",\"legendgrouptitle\":{\"text\":\"1_global_00000000010\"},\"line\":{\"color\":\"rgb(220, 220, 243)\",\"width\":1},\"mode\":\"lines\",\"name\":\"1_global_00000000010\",\"showlegend\":true,\"x\":[\"2021-06-22T00:00:00.000000000\",\"2021-06-23T00:00:00.000000000\",\"2021-06-24T00:00:00.000000000\",\"2021-06-25T00:00:00.000000000\",\"2021-06-26T00:00:00.000000000\",\"2021-06-27T00:00:00.000000000\",\"2021-06-28T00:00:00.000000000\"],\"y\":[288.31488,287.7951,287.76907,287.7987,287.80832,287.7911,287.78467],\"type\":\"scatter\"},{\"legendgroup\":\"0.001_global_00000000100\",\"legendgrouptitle\":{\"text\":\"0.001_global_00000000100\"},\"line\":{\"color\":\"rgb(214, 214, 244)\",\"width\":1},\"mode\":\"lines\",\"name\":\"0.001_global_00000000100\",\"showlegend\":true,\"x\":[\"2021-06-22T00:00:00.000000000\",\"2021-06-23T00:00:00.000000000\",\"2021-06-24T00:00:00.000000000\",\"2021-06-25T00:00:00.000000000\",\"2021-06-26T00:00:00.000000000\",\"2021-06-27T00:00:00.000000000\",\"2021-06-28T00:00:00.000000000\"],\"y\":[289.3348,289.349,289.36502,289.3713,289.34274,289.27094,289.21976],\"type\":\"scatter\"},{\"legendgroup\":\"1_global_00000000100\",\"legendgrouptitle\":{\"text\":\"1_global_00000000100\"},\"line\":{\"color\":\"rgb(210, 210, 244)\",\"width\":1},\"mode\":\"lines\",\"name\":\"1_global_00000000100\",\"showlegend\":true,\"x\":[\"2021-06-22T00:00:00.000000000\",\"2021-06-23T00:00:00.000000000\",\"2021-06-24T00:00:00.000000000\",\"2021-06-25T00:00:00.000000000\",\"2021-06-26T00:00:00.000000000\",\"2021-06-27T00:00:00.000000000\",\"2021-06-28T00:00:00.000000000\"],\"y\":[287.91367,286.66736,286.50555,286.50034,286.52042,286.5754,286.6479],\"type\":\"scatter\"},{\"legendgroup\":\"0.001_global_00000001000\",\"legendgrouptitle\":{\"text\":\"0.001_global_00000001000\"},\"line\":{\"color\":\"rgb(204, 204, 244)\",\"width\":1},\"mode\":\"lines\",\"name\":\"0.001_global_00000001000\",\"showlegend\":true,\"x\":[\"2021-06-22T00:00:00.000000000\",\"2021-06-23T00:00:00.000000000\",\"2021-06-24T00:00:00.000000000\",\"2021-06-25T00:00:00.000000000\",\"2021-06-26T00:00:00.000000000\",\"2021-06-27T00:00:00.000000000\",\"2021-06-28T00:00:00.000000000\"],\"y\":[289.33487,289.34918,289.3655,289.3721,289.34317,289.2722,289.2236],\"type\":\"scatter\"},{\"legendgroup\":\"1_global_00000001000\",\"legendgrouptitle\":{\"text\":\"1_global_00000001000\"},\"line\":{\"color\":\"rgb(199, 199, 244)\",\"width\":1},\"mode\":\"lines\",\"name\":\"1_global_00000001000\",\"showlegend\":true,\"x\":[\"2021-06-22T00:00:00.000000000\",\"2021-06-23T00:00:00.000000000\",\"2021-06-24T00:00:00.000000000\",\"2021-06-25T00:00:00.000000000\",\"2021-06-26T00:00:00.000000000\",\"2021-06-27T00:00:00.000000000\",\"2021-06-28T00:00:00.000000000\"],\"y\":[289.16803,289.255,289.34753,289.47745,289.64435,289.792,289.96704],\"type\":\"scatter\"},{\"legendgroup\":\"0.001_global_00000010000\",\"legendgrouptitle\":{\"text\":\"0.001_global_00000010000\"},\"line\":{\"color\":\"rgb(194, 194, 245)\",\"width\":1},\"mode\":\"lines\",\"name\":\"0.001_global_00000010000\",\"showlegend\":true,\"x\":[\"2021-06-22T00:00:00.000000000\",\"2021-06-23T00:00:00.000000000\",\"2021-06-24T00:00:00.000000000\",\"2021-06-25T00:00:00.000000000\",\"2021-06-26T00:00:00.000000000\",\"2021-06-27T00:00:00.000000000\",\"2021-06-28T00:00:00.000000000\"],\"y\":[289.34995,289.39096,289.44305,289.50244,289.5638,289.64557,289.7601],\"type\":\"scatter\"},{\"legendgroup\":\"1_global_00000010000\",\"legendgrouptitle\":{\"text\":\"1_global_00000010000\"},\"line\":{\"color\":\"rgb(189, 189, 245)\",\"width\":1},\"mode\":\"lines\",\"name\":\"1_global_00000010000\",\"showlegend\":true,\"x\":[\"2021-06-22T00:00:00.000000000\",\"2021-06-23T00:00:00.000000000\",\"2021-06-24T00:00:00.000000000\",\"2021-06-25T00:00:00.000000000\",\"2021-06-26T00:00:00.000000000\",\"2021-06-27T00:00:00.000000000\",\"2021-06-28T00:00:00.000000000\"],\"y\":[293.48215,299.90445,306.3049,312.69595,319.07254,325.41623,331.70404],\"type\":\"scatter\"},{\"legendgroup\":\"0.001_global_00000100000\",\"legendgrouptitle\":{\"text\":\"0.001_global_00000100000\"},\"line\":{\"color\":\"rgb(184, 184, 245)\",\"width\":1},\"mode\":\"lines\",\"name\":\"0.001_global_00000100000\",\"showlegend\":true,\"x\":[\"2021-06-22T00:00:00.000000000\",\"2021-06-23T00:00:00.000000000\",\"2021-06-24T00:00:00.000000000\",\"2021-06-25T00:00:00.000000000\",\"2021-06-26T00:00:00.000000000\",\"2021-06-27T00:00:00.000000000\",\"2021-06-28T00:00:00.000000000\"],\"y\":[289.33557,289.35007,289.36633,289.3728,289.34354,289.27194,289.22278],\"type\":\"scatter\"},{\"legendgroup\":\"1_global_00000100000\",\"legendgrouptitle\":{\"text\":\"1_global_00000100000\"},\"line\":{\"color\":\"rgb(179, 179, 245)\",\"width\":1},\"mode\":\"lines\",\"name\":\"1_global_00000100000\",\"showlegend\":true,\"x\":[\"2021-06-22T00:00:00.000000000\",\"2021-06-23T00:00:00.000000000\",\"2021-06-24T00:00:00.000000000\",\"2021-06-25T00:00:00.000000000\",\"2021-06-26T00:00:00.000000000\",\"2021-06-27T00:00:00.000000000\",\"2021-06-28T00:00:00.000000000\"],\"y\":[289.0073,288.8325,288.98282,288.99136,288.7945,288.52087,288.2075],\"type\":\"scatter\"},{\"legendgroup\":\"0.001_global_00001000000\",\"legendgrouptitle\":{\"text\":\"0.001_global_00001000000\"},\"line\":{\"color\":\"rgb(174, 174, 246)\",\"width\":1},\"mode\":\"lines\",\"name\":\"0.001_global_00001000000\",\"showlegend\":true,\"x\":[\"2021-06-22T00:00:00.000000000\",\"2021-06-23T00:00:00.000000000\",\"2021-06-24T00:00:00.000000000\",\"2021-06-25T00:00:00.000000000\",\"2021-06-26T00:00:00.000000000\",\"2021-06-27T00:00:00.000000000\",\"2021-06-28T00:00:00.000000000\"],\"y\":[289.18323,289.08945,289.08136,289.08783,289.061,289.00494,288.9702],\"type\":\"scatter\"},{\"legendgroup\":\"1_global_00001000000\",\"legendgrouptitle\":{\"text\":\"1_global_00001000000\"},\"line\":{\"color\":\"rgb(168, 168, 246)\",\"width\":1},\"mode\":\"lines\",\"name\":\"1_global_00001000000\",\"showlegend\":true,\"x\":[\"2021-06-22T00:00:00.000000000\",\"2021-06-23T00:00:00.000000000\",\"2021-06-24T00:00:00.000000000\",\"2021-06-25T00:00:00.000000000\",\"2021-06-26T00:00:00.000000000\",\"2021-06-27T00:00:00.000000000\",\"2021-06-28T00:00:00.000000000\"],\"y\":[286.03818,281.72797,278.31012,274.9834,271.64746,268.26367,264.8946],\"type\":\"scatter\"},{\"legendgroup\":\"0.001_global_00010000000\",\"legendgrouptitle\":{\"text\":\"0.001_global_00010000000\"},\"line\":{\"color\":\"rgb(164, 164, 246)\",\"width\":1},\"mode\":\"lines\",\"name\":\"0.001_global_00010000000\",\"showlegend\":true,\"x\":[\"2021-06-22T00:00:00.000000000\",\"2021-06-23T00:00:00.000000000\",\"2021-06-24T00:00:00.000000000\",\"2021-06-25T00:00:00.000000000\",\"2021-06-26T00:00:00.000000000\",\"2021-06-27T00:00:00.000000000\",\"2021-06-28T00:00:00.000000000\"],\"y\":[289.33475,289.34946,289.36566,289.3719,289.34314,289.2717,289.22086],\"type\":\"scatter\"},{\"legendgroup\":\"1_global_00010000000\",\"legendgrouptitle\":{\"text\":\"1_global_00010000000\"},\"line\":{\"color\":\"rgb(158, 158, 246)\",\"width\":1},\"mode\":\"lines\",\"name\":\"1_global_00010000000\",\"showlegend\":true,\"x\":[\"2021-06-22T00:00:00.000000000\",\"2021-06-23T00:00:00.000000000\",\"2021-06-24T00:00:00.000000000\",\"2021-06-25T00:00:00.000000000\",\"2021-06-26T00:00:00.000000000\",\"2021-06-27T00:00:00.000000000\",\"2021-06-28T00:00:00.000000000\"],\"y\":[292.38785,293.2954,291.9,290.06564,288.33484,287.08084,286.3861],\"type\":\"scatter\"},{\"legendgroup\":\"0.001_global_00100000000\",\"legendgrouptitle\":{\"text\":\"0.001_global_00100000000\"},\"line\":{\"color\":\"rgb(153, 153, 247)\",\"width\":1},\"mode\":\"lines\",\"name\":\"0.001_global_00100000000\",\"showlegend\":true,\"x\":[\"2021-06-22T00:00:00.000000000\",\"2021-06-23T00:00:00.000000000\",\"2021-06-24T00:00:00.000000000\",\"2021-06-25T00:00:00.000000000\",\"2021-06-26T00:00:00.000000000\",\"2021-06-27T00:00:00.000000000\",\"2021-06-28T00:00:00.000000000\"],\"y\":[289.335,289.34872,289.36523,289.3712,289.34268,289.27057,289.22104],\"type\":\"scatter\"},{\"legendgroup\":\"1_global_00100000000\",\"legendgrouptitle\":{\"text\":\"1_global_00100000000\"},\"line\":{\"color\":\"rgb(148, 148, 247)\",\"width\":1},\"mode\":\"lines\",\"name\":\"1_global_00100000000\",\"showlegend\":true,\"x\":[\"2021-06-22T00:00:00.000000000\",\"2021-06-23T00:00:00.000000000\",\"2021-06-24T00:00:00.000000000\",\"2021-06-25T00:00:00.000000000\",\"2021-06-26T00:00:00.000000000\",\"2021-06-27T00:00:00.000000000\",\"2021-06-28T00:00:00.000000000\"],\"y\":[295.0796,295.5373,294.77222,294.48328,294.2689,294.10092,293.96384],\"type\":\"scatter\"},{\"legendgroup\":\"0.001_global_01000000000\",\"legendgrouptitle\":{\"text\":\"0.001_global_01000000000\"},\"line\":{\"color\":\"rgb(143, 143, 247)\",\"width\":1},\"mode\":\"lines\",\"name\":\"0.001_global_01000000000\",\"showlegend\":true,\"x\":[\"2021-06-22T00:00:00.000000000\",\"2021-06-23T00:00:00.000000000\",\"2021-06-24T00:00:00.000000000\",\"2021-06-25T00:00:00.000000000\",\"2021-06-26T00:00:00.000000000\",\"2021-06-27T00:00:00.000000000\",\"2021-06-28T00:00:00.000000000\"],\"y\":[289.33533,289.34995,289.36597,289.37244,289.34357,289.2721,289.22168],\"type\":\"scatter\"},{\"legendgroup\":\"1_global_01000000000\",\"legendgrouptitle\":{\"text\":\"1_global_01000000000\"},\"line\":{\"color\":\"rgb(138, 138, 247)\",\"width\":1},\"mode\":\"lines\",\"name\":\"1_global_01000000000\",\"showlegend\":true,\"x\":[\"2021-06-22T00:00:00.000000000\",\"2021-06-23T00:00:00.000000000\",\"2021-06-24T00:00:00.000000000\",\"2021-06-25T00:00:00.000000000\",\"2021-06-26T00:00:00.000000000\",\"2021-06-27T00:00:00.000000000\",\"2021-06-28T00:00:00.000000000\"],\"y\":[289.17157,289.10205,289.10458,289.11798,289.0994,289.03546,288.99884],\"type\":\"scatter\"},{\"legendgroup\":\"0.001_global_01111111111\",\"legendgrouptitle\":{\"text\":\"0.001_global_01111111111\"},\"line\":{\"color\":\"rgb(132, 132, 248)\",\"width\":1},\"mode\":\"lines\",\"name\":\"0.001_global_01111111111\",\"showlegend\":true,\"x\":[\"2021-06-22T00:00:00.000000000\",\"2021-06-23T00:00:00.000000000\",\"2021-06-24T00:00:00.000000000\",\"2021-06-25T00:00:00.000000000\",\"2021-06-26T00:00:00.000000000\",\"2021-06-27T00:00:00.000000000\",\"2021-06-28T00:00:00.000000000\"],\"y\":[289.1855,289.14487,289.17722,289.22302,289.29114,289.39273,289.57385],\"type\":\"scatter\"},{\"legendgroup\":\"1_global_01111111111\",\"legendgrouptitle\":{\"text\":\"1_global_01111111111\"},\"line\":{\"color\":\"rgb(128, 128, 248)\",\"width\":1},\"mode\":\"lines\",\"name\":\"1_global_01111111111\",\"showlegend\":true,\"x\":[\"2021-06-22T00:00:00.000000000\",\"2021-06-23T00:00:00.000000000\",\"2021-06-24T00:00:00.000000000\",\"2021-06-25T00:00:00.000000000\",\"2021-06-26T00:00:00.000000000\",\"2021-06-27T00:00:00.000000000\",\"2021-06-28T00:00:00.000000000\"],\"y\":[293.44815,299.7362,305.92545,312.01617,318.01,323.90707,329.70682],\"type\":\"scatter\"},{\"legendgroup\":\"0.001_global_10000000000\",\"legendgrouptitle\":{\"text\":\"0.001_global_10000000000\"},\"line\":{\"color\":\"rgb(122, 122, 248)\",\"width\":1},\"mode\":\"lines\",\"name\":\"0.001_global_10000000000\",\"showlegend\":true,\"x\":[\"2021-06-22T00:00:00.000000000\",\"2021-06-23T00:00:00.000000000\",\"2021-06-24T00:00:00.000000000\",\"2021-06-25T00:00:00.000000000\",\"2021-06-26T00:00:00.000000000\",\"2021-06-27T00:00:00.000000000\",\"2021-06-28T00:00:00.000000000\"],\"y\":[289.33502,289.34875,289.3654,289.37192,289.34317,289.27136,289.22076],\"type\":\"scatter\"},{\"legendgroup\":\"1_global_10000000000\",\"legendgrouptitle\":{\"text\":\"1_global_10000000000\"},\"line\":{\"color\":\"rgb(117, 117, 248)\",\"width\":1},\"mode\":\"lines\",\"name\":\"1_global_10000000000\",\"showlegend\":true,\"x\":[\"2021-06-22T00:00:00.000000000\",\"2021-06-23T00:00:00.000000000\",\"2021-06-24T00:00:00.000000000\",\"2021-06-25T00:00:00.000000000\",\"2021-06-26T00:00:00.000000000\",\"2021-06-27T00:00:00.000000000\",\"2021-06-28T00:00:00.000000000\"],\"y\":[289.1054,289.00635,289.00116,289.0112,288.99295,288.93134,288.89575],\"type\":\"scatter\"},{\"legendgroup\":\"0.001_global_10111111111\",\"legendgrouptitle\":{\"text\":\"0.001_global_10111111111\"},\"line\":{\"color\":\"rgb(112, 112, 249)\",\"width\":1},\"mode\":\"lines\",\"name\":\"0.001_global_10111111111\",\"showlegend\":true,\"x\":[\"2021-06-22T00:00:00.000000000\",\"2021-06-23T00:00:00.000000000\",\"2021-06-24T00:00:00.000000000\",\"2021-06-25T00:00:00.000000000\",\"2021-06-26T00:00:00.000000000\",\"2021-06-27T00:00:00.000000000\",\"2021-06-28T00:00:00.000000000\"],\"y\":[289.186,289.14673,289.17957,289.22504,289.29434,289.3941,289.57233],\"type\":\"scatter\"},{\"legendgroup\":\"1_global_10111111111\",\"legendgrouptitle\":{\"text\":\"1_global_10111111111\"},\"line\":{\"color\":\"rgb(107, 107, 249)\",\"width\":1},\"mode\":\"lines\",\"name\":\"1_global_10111111111\",\"showlegend\":true,\"x\":[\"2021-06-22T00:00:00.000000000\",\"2021-06-23T00:00:00.000000000\",\"2021-06-24T00:00:00.000000000\",\"2021-06-25T00:00:00.000000000\",\"2021-06-26T00:00:00.000000000\",\"2021-06-27T00:00:00.000000000\",\"2021-06-28T00:00:00.000000000\"],\"y\":[293.447,299.73355,305.9225,312.0133,318.0068,323.90375,329.70294],\"type\":\"scatter\"},{\"legendgroup\":\"0.001_global_11011111111\",\"legendgrouptitle\":{\"text\":\"0.001_global_11011111111\"},\"line\":{\"color\":\"rgb(101, 101, 249)\",\"width\":1},\"mode\":\"lines\",\"name\":\"0.001_global_11011111111\",\"showlegend\":true,\"x\":[\"2021-06-22T00:00:00.000000000\",\"2021-06-23T00:00:00.000000000\",\"2021-06-24T00:00:00.000000000\",\"2021-06-25T00:00:00.000000000\",\"2021-06-26T00:00:00.000000000\",\"2021-06-27T00:00:00.000000000\",\"2021-06-28T00:00:00.000000000\"],\"y\":[289.18982,289.1516,289.18494,289.23038,289.29962,289.3997,289.57977],\"type\":\"scatter\"},{\"legendgroup\":\"1_global_11011111111\",\"legendgrouptitle\":{\"text\":\"1_global_11011111111\"},\"line\":{\"color\":\"rgb(97, 97, 250)\",\"width\":1},\"mode\":\"lines\",\"name\":\"1_global_11011111111\",\"showlegend\":true,\"x\":[\"2021-06-22T00:00:00.000000000\",\"2021-06-23T00:00:00.000000000\",\"2021-06-24T00:00:00.000000000\",\"2021-06-25T00:00:00.000000000\",\"2021-06-26T00:00:00.000000000\",\"2021-06-27T00:00:00.000000000\",\"2021-06-28T00:00:00.000000000\"],\"y\":[293.41882,299.7091,305.90442,311.99756,317.99036,323.886,329.6825],\"type\":\"scatter\"},{\"legendgroup\":\"0.001_global_11101111111\",\"legendgrouptitle\":{\"text\":\"0.001_global_11101111111\"},\"line\":{\"color\":\"rgb(92, 92, 250)\",\"width\":1},\"mode\":\"lines\",\"name\":\"0.001_global_11101111111\",\"showlegend\":true,\"x\":[\"2021-06-22T00:00:00.000000000\",\"2021-06-23T00:00:00.000000000\",\"2021-06-24T00:00:00.000000000\",\"2021-06-25T00:00:00.000000000\",\"2021-06-26T00:00:00.000000000\",\"2021-06-27T00:00:00.000000000\",\"2021-06-28T00:00:00.000000000\"],\"y\":[289.18637,289.14703,289.1799,289.2243,289.29266,289.39322,289.57434],\"type\":\"scatter\"},{\"legendgroup\":\"1_global_11101111111\",\"legendgrouptitle\":{\"text\":\"1_global_11101111111\"},\"line\":{\"color\":\"rgb(86, 86, 250)\",\"width\":1},\"mode\":\"lines\",\"name\":\"1_global_11101111111\",\"showlegend\":true,\"x\":[\"2021-06-22T00:00:00.000000000\",\"2021-06-23T00:00:00.000000000\",\"2021-06-24T00:00:00.000000000\",\"2021-06-25T00:00:00.000000000\",\"2021-06-26T00:00:00.000000000\",\"2021-06-27T00:00:00.000000000\",\"2021-06-28T00:00:00.000000000\"],\"y\":[293.43997,299.71133,305.88965,311.97235,317.95706,323.8429,329.6317],\"type\":\"scatter\"},{\"legendgroup\":\"0.001_global_11110111111\",\"legendgrouptitle\":{\"text\":\"0.001_global_11110111111\"},\"line\":{\"color\":\"rgb(82, 82, 250)\",\"width\":1},\"mode\":\"lines\",\"name\":\"0.001_global_11110111111\",\"showlegend\":true,\"x\":[\"2021-06-22T00:00:00.000000000\",\"2021-06-23T00:00:00.000000000\",\"2021-06-24T00:00:00.000000000\",\"2021-06-25T00:00:00.000000000\",\"2021-06-26T00:00:00.000000000\",\"2021-06-27T00:00:00.000000000\",\"2021-06-28T00:00:00.000000000\"],\"y\":[289.34616,289.38617,289.4384,289.49738,289.5588,289.63858,289.75977],\"type\":\"scatter\"},{\"legendgroup\":\"1_global_11110111111\",\"legendgrouptitle\":{\"text\":\"1_global_11110111111\"},\"line\":{\"color\":\"rgb(76, 76, 251)\",\"width\":1},\"mode\":\"lines\",\"name\":\"1_global_11110111111\",\"showlegend\":true,\"x\":[\"2021-06-22T00:00:00.000000000\",\"2021-06-23T00:00:00.000000000\",\"2021-06-24T00:00:00.000000000\",\"2021-06-25T00:00:00.000000000\",\"2021-06-26T00:00:00.000000000\",\"2021-06-27T00:00:00.000000000\",\"2021-06-28T00:00:00.000000000\"],\"y\":[293.46243,299.80832,306.1409,312.47653,318.80542,325.10614,331.35602],\"type\":\"scatter\"},{\"legendgroup\":\"0.001_global_11111011111\",\"legendgrouptitle\":{\"text\":\"0.001_global_11111011111\"},\"line\":{\"color\":\"rgb(71, 71, 251)\",\"width\":1},\"mode\":\"lines\",\"name\":\"0.001_global_11111011111\",\"showlegend\":true,\"x\":[\"2021-06-22T00:00:00.000000000\",\"2021-06-23T00:00:00.000000000\",\"2021-06-24T00:00:00.000000000\",\"2021-06-25T00:00:00.000000000\",\"2021-06-26T00:00:00.000000000\",\"2021-06-27T00:00:00.000000000\",\"2021-06-28T00:00:00.000000000\"],\"y\":[289.18512,289.1448,289.17764,289.2241,289.29337,289.39484,289.57755],\"type\":\"scatter\"},{\"legendgroup\":\"1_global_11111011111\",\"legendgrouptitle\":{\"text\":\"1_global_11111011111\"},\"line\":{\"color\":\"rgb(65, 65, 251)\",\"width\":1},\"mode\":\"lines\",\"name\":\"1_global_11111011111\",\"showlegend\":true,\"x\":[\"2021-06-22T00:00:00.000000000\",\"2021-06-23T00:00:00.000000000\",\"2021-06-24T00:00:00.000000000\",\"2021-06-25T00:00:00.000000000\",\"2021-06-26T00:00:00.000000000\",\"2021-06-27T00:00:00.000000000\",\"2021-06-28T00:00:00.000000000\"],\"y\":[293.45877,299.77008,305.97638,312.07736,318.08105,323.98758,329.79626],\"type\":\"scatter\"},{\"legendgroup\":\"0.001_global_11111101111\",\"legendgrouptitle\":{\"text\":\"0.001_global_11111101111\"},\"line\":{\"color\":\"rgb(61, 61, 251)\",\"width\":1},\"mode\":\"lines\",\"name\":\"0.001_global_11111101111\",\"showlegend\":true,\"x\":[\"2021-06-22T00:00:00.000000000\",\"2021-06-23T00:00:00.000000000\",\"2021-06-24T00:00:00.000000000\",\"2021-06-25T00:00:00.000000000\",\"2021-06-26T00:00:00.000000000\",\"2021-06-27T00:00:00.000000000\",\"2021-06-28T00:00:00.000000000\"],\"y\":[289.17764,289.08118,289.07303,289.07922,289.0521,288.99445,288.95886],\"type\":\"scatter\"},{\"legendgroup\":\"1_global_11111101111\",\"legendgrouptitle\":{\"text\":\"1_global_11111101111\"},\"line\":{\"color\":\"rgb(55, 55, 252)\",\"width\":1},\"mode\":\"lines\",\"name\":\"1_global_11111101111\",\"showlegend\":true,\"x\":[\"2021-06-22T00:00:00.000000000\",\"2021-06-23T00:00:00.000000000\",\"2021-06-24T00:00:00.000000000\",\"2021-06-25T00:00:00.000000000\",\"2021-06-26T00:00:00.000000000\",\"2021-06-27T00:00:00.000000000\",\"2021-06-28T00:00:00.000000000\"],\"y\":[281.8952,270.85666,262.59055,256.69128,252.26353,248.68216,245.53801],\"type\":\"scatter\"},{\"legendgroup\":\"0.001_global_11111110111\",\"legendgrouptitle\":{\"text\":\"0.001_global_11111110111\"},\"line\":{\"color\":\"rgb(50, 50, 252)\",\"width\":1},\"mode\":\"lines\",\"name\":\"0.001_global_11111110111\",\"showlegend\":true,\"x\":[\"2021-06-22T00:00:00.000000000\",\"2021-06-23T00:00:00.000000000\",\"2021-06-24T00:00:00.000000000\",\"2021-06-25T00:00:00.000000000\",\"2021-06-26T00:00:00.000000000\",\"2021-06-27T00:00:00.000000000\",\"2021-06-28T00:00:00.000000000\"],\"y\":[289.1858,289.1456,289.1774,289.223,289.29315,289.39478,289.57895],\"type\":\"scatter\"},{\"legendgroup\":\"1_global_11111110111\",\"legendgrouptitle\":{\"text\":\"1_global_11111110111\"},\"line\":{\"color\":\"rgb(46, 46, 252)\",\"width\":1},\"mode\":\"lines\",\"name\":\"1_global_11111110111\",\"showlegend\":true,\"x\":[\"2021-06-22T00:00:00.000000000\",\"2021-06-23T00:00:00.000000000\",\"2021-06-24T00:00:00.000000000\",\"2021-06-25T00:00:00.000000000\",\"2021-06-26T00:00:00.000000000\",\"2021-06-27T00:00:00.000000000\",\"2021-06-28T00:00:00.000000000\"],\"y\":[293.44644,299.73148,305.91602,312.00302,317.99374,323.88696,329.683],\"type\":\"scatter\"},{\"legendgroup\":\"0.001_global_11111111011\",\"legendgrouptitle\":{\"text\":\"0.001_global_11111111011\"},\"line\":{\"color\":\"rgb(40, 40, 252)\",\"width\":1},\"mode\":\"lines\",\"name\":\"0.001_global_11111111011\",\"showlegend\":true,\"x\":[\"2021-06-22T00:00:00.000000000\",\"2021-06-23T00:00:00.000000000\",\"2021-06-24T00:00:00.000000000\",\"2021-06-25T00:00:00.000000000\",\"2021-06-26T00:00:00.000000000\",\"2021-06-27T00:00:00.000000000\",\"2021-06-28T00:00:00.000000000\"],\"y\":[289.1861,289.14682,289.17957,289.22638,289.29565,289.3944,289.57822],\"type\":\"scatter\"},{\"legendgroup\":\"1_global_11111111011\",\"legendgrouptitle\":{\"text\":\"1_global_11111111011\"},\"line\":{\"color\":\"rgb(35, 35, 253)\",\"width\":1},\"mode\":\"lines\",\"name\":\"1_global_11111111011\",\"showlegend\":true,\"x\":[\"2021-06-22T00:00:00.000000000\",\"2021-06-23T00:00:00.000000000\",\"2021-06-24T00:00:00.000000000\",\"2021-06-25T00:00:00.000000000\",\"2021-06-26T00:00:00.000000000\",\"2021-06-27T00:00:00.000000000\",\"2021-06-28T00:00:00.000000000\"],\"y\":[293.44614,299.73196,305.92172,312.0153,318.0125,323.9125,329.71423],\"type\":\"scatter\"},{\"legendgroup\":\"0.001_global_11111111101\",\"legendgrouptitle\":{\"text\":\"0.001_global_11111111101\"},\"line\":{\"color\":\"rgb(30, 30, 253)\",\"width\":1},\"mode\":\"lines\",\"name\":\"0.001_global_11111111101\",\"showlegend\":true,\"x\":[\"2021-06-22T00:00:00.000000000\",\"2021-06-23T00:00:00.000000000\",\"2021-06-24T00:00:00.000000000\",\"2021-06-25T00:00:00.000000000\",\"2021-06-26T00:00:00.000000000\",\"2021-06-27T00:00:00.000000000\",\"2021-06-28T00:00:00.000000000\"],\"y\":[289.18567,289.14548,289.17822,289.22443,289.29202,289.39175,289.57492],\"type\":\"scatter\"},{\"legendgroup\":\"1_global_11111111101\",\"legendgrouptitle\":{\"text\":\"1_global_11111111101\"},\"line\":{\"color\":\"rgb(25, 25, 253)\",\"width\":1},\"mode\":\"lines\",\"name\":\"1_global_11111111101\",\"showlegend\":true,\"x\":[\"2021-06-22T00:00:00.000000000\",\"2021-06-23T00:00:00.000000000\",\"2021-06-24T00:00:00.000000000\",\"2021-06-25T00:00:00.000000000\",\"2021-06-26T00:00:00.000000000\",\"2021-06-27T00:00:00.000000000\",\"2021-06-28T00:00:00.000000000\"],\"y\":[293.447,299.73456,305.9249,312.01706,318.01328,323.91217,329.71216],\"type\":\"scatter\"},{\"legendgroup\":\"0.001_global_11111111110\",\"legendgrouptitle\":{\"text\":\"0.001_global_11111111110\"},\"line\":{\"color\":\"rgb(19, 19, 253)\",\"width\":1},\"mode\":\"lines\",\"name\":\"0.001_global_11111111110\",\"showlegend\":true,\"x\":[\"2021-06-22T00:00:00.000000000\",\"2021-06-23T00:00:00.000000000\",\"2021-06-24T00:00:00.000000000\",\"2021-06-25T00:00:00.000000000\",\"2021-06-26T00:00:00.000000000\",\"2021-06-27T00:00:00.000000000\",\"2021-06-28T00:00:00.000000000\"],\"y\":[289.18594,289.14688,289.17883,289.22476,289.29285,289.39304,289.57315],\"type\":\"scatter\"},{\"legendgroup\":\"1_global_11111111110\",\"legendgrouptitle\":{\"text\":\"1_global_11111111110\"},\"line\":{\"color\":\"rgb(15, 15, 254)\",\"width\":1},\"mode\":\"lines\",\"name\":\"1_global_11111111110\",\"showlegend\":true,\"x\":[\"2021-06-22T00:00:00.000000000\",\"2021-06-23T00:00:00.000000000\",\"2021-06-24T00:00:00.000000000\",\"2021-06-25T00:00:00.000000000\",\"2021-06-26T00:00:00.000000000\",\"2021-06-27T00:00:00.000000000\",\"2021-06-28T00:00:00.000000000\"],\"y\":[293.45538,299.7546,305.9566,312.06,318.06467,323.97015,329.77582],\"type\":\"scatter\"},{\"legendgroup\":\"0.001_global_11111111111\",\"legendgrouptitle\":{\"text\":\"0.001_global_11111111111\"},\"line\":{\"color\":\"rgb(9, 9, 254)\",\"width\":1},\"mode\":\"lines\",\"name\":\"0.001_global_11111111111\",\"showlegend\":true,\"x\":[\"2021-06-22T00:00:00.000000000\",\"2021-06-23T00:00:00.000000000\",\"2021-06-24T00:00:00.000000000\",\"2021-06-25T00:00:00.000000000\",\"2021-06-26T00:00:00.000000000\",\"2021-06-27T00:00:00.000000000\",\"2021-06-28T00:00:00.000000000\"],\"y\":[289.1861,289.14664,289.1794,289.2245,289.29346,289.39453,289.5752],\"type\":\"scatter\"},{\"legendgroup\":\"1_global_11111111111\",\"legendgrouptitle\":{\"text\":\"1_global_11111111111\"},\"line\":{\"color\":\"rgb(4, 4, 254)\",\"width\":1},\"mode\":\"lines\",\"name\":\"1_global_11111111111\",\"showlegend\":true,\"x\":[\"2021-06-22T00:00:00.000000000\",\"2021-06-23T00:00:00.000000000\",\"2021-06-24T00:00:00.000000000\",\"2021-06-25T00:00:00.000000000\",\"2021-06-26T00:00:00.000000000\",\"2021-06-27T00:00:00.000000000\",\"2021-06-28T00:00:00.000000000\"],\"y\":[293.44656,299.73355,305.9229,312.01367,318.008,323.90454,329.70364],\"type\":\"scatter\"},{\"legendgroup\":\"0.001_Antarctic_00100000000\",\"legendgrouptitle\":{\"text\":\"0.001_Antarctic_00100000000\"},\"line\":{\"color\":\"rgb(225, 238, 225)\",\"width\":1},\"mode\":\"lines\",\"name\":\"0.001_Antarctic_00100000000\",\"showlegend\":true,\"x\":[\"2021-06-22T00:00:00.000000000\",\"2021-06-23T00:00:00.000000000\",\"2021-06-24T00:00:00.000000000\",\"2021-06-25T00:00:00.000000000\",\"2021-06-26T00:00:00.000000000\",\"2021-06-27T00:00:00.000000000\",\"2021-06-28T00:00:00.000000000\"],\"y\":[289.3351,289.3496,289.36597,289.372,289.34283,289.2725,289.22302],\"type\":\"scatter\"},{\"legendgroup\":\"1_Antarctic_00100000000\",\"legendgrouptitle\":{\"text\":\"1_Antarctic_00100000000\"},\"line\":{\"color\":\"rgb(216, 233, 216)\",\"width\":1},\"mode\":\"lines\",\"name\":\"1_Antarctic_00100000000\",\"showlegend\":true,\"x\":[\"2021-06-22T00:00:00.000000000\",\"2021-06-23T00:00:00.000000000\",\"2021-06-24T00:00:00.000000000\",\"2021-06-25T00:00:00.000000000\",\"2021-06-26T00:00:00.000000000\",\"2021-06-27T00:00:00.000000000\",\"2021-06-28T00:00:00.000000000\"],\"y\":[289.68073,289.78354,289.7715,289.742,289.672,289.62848,289.6026],\"type\":\"scatter\"},{\"legendgroup\":\"0.001_Arctic_00100000000\",\"legendgrouptitle\":{\"text\":\"0.001_Arctic_00100000000\"},\"line\":{\"color\":\"rgb(206, 229, 206)\",\"width\":1},\"mode\":\"lines\",\"name\":\"0.001_Arctic_00100000000\",\"showlegend\":true,\"x\":[\"2021-06-22T00:00:00.000000000\",\"2021-06-23T00:00:00.000000000\",\"2021-06-24T00:00:00.000000000\",\"2021-06-25T00:00:00.000000000\",\"2021-06-26T00:00:00.000000000\",\"2021-06-27T00:00:00.000000000\",\"2021-06-28T00:00:00.000000000\"],\"y\":[289.33502,289.34955,289.3658,289.3721,289.34268,289.2709,289.21954],\"type\":\"scatter\"},{\"legendgroup\":\"1_Arctic_00100000000\",\"legendgrouptitle\":{\"text\":\"1_Arctic_00100000000\"},\"line\":{\"color\":\"rgb(197, 224, 197)\",\"width\":1},\"mode\":\"lines\",\"name\":\"1_Arctic_00100000000\",\"showlegend\":true,\"x\":[\"2021-06-22T00:00:00.000000000\",\"2021-06-23T00:00:00.000000000\",\"2021-06-24T00:00:00.000000000\",\"2021-06-25T00:00:00.000000000\",\"2021-06-26T00:00:00.000000000\",\"2021-06-27T00:00:00.000000000\",\"2021-06-28T00:00:00.000000000\"],\"y\":[289.7475,289.80347,289.78143,289.75543,289.68384,289.59106,289.56097],\"type\":\"scatter\"},{\"legendgroup\":\"0.001_AusNZ_00100000000\",\"legendgrouptitle\":{\"text\":\"0.001_AusNZ_00100000000\"},\"line\":{\"color\":\"rgb(187, 219, 187)\",\"width\":1},\"mode\":\"lines\",\"name\":\"0.001_AusNZ_00100000000\",\"showlegend\":true,\"x\":[\"2021-06-22T00:00:00.000000000\",\"2021-06-23T00:00:00.000000000\",\"2021-06-24T00:00:00.000000000\",\"2021-06-25T00:00:00.000000000\",\"2021-06-26T00:00:00.000000000\",\"2021-06-27T00:00:00.000000000\",\"2021-06-28T00:00:00.000000000\"],\"y\":[289.33505,289.34955,289.36584,289.37186,289.34286,289.2712,289.22025],\"type\":\"scatter\"},{\"legendgroup\":\"1_AusNZ_00100000000\",\"legendgrouptitle\":{\"text\":\"1_AusNZ_00100000000\"},\"line\":{\"color\":\"rgb(178, 215, 178)\",\"width\":1},\"mode\":\"lines\",\"name\":\"1_AusNZ_00100000000\",\"showlegend\":true,\"x\":[\"2021-06-22T00:00:00.000000000\",\"2021-06-23T00:00:00.000000000\",\"2021-06-24T00:00:00.000000000\",\"2021-06-25T00:00:00.000000000\",\"2021-06-26T00:00:00.000000000\",\"2021-06-27T00:00:00.000000000\",\"2021-06-28T00:00:00.000000000\"],\"y\":[289.4917,289.54398,289.53915,289.53348,289.50037,289.42905,289.40216],\"type\":\"scatter\"},{\"legendgroup\":\"0.001_East\",\"legendgrouptitle\":{\"text\":\"0.001_East\"},\"line\":{\"color\":\"rgb(169, 210, 169)\",\"width\":1},\"mode\":\"lines\",\"name\":\"0.001_East\",\"showlegend\":true,\"x\":[\"2021-06-22T00:00:00.000000000\",\"2021-06-23T00:00:00.000000000\",\"2021-06-24T00:00:00.000000000\",\"2021-06-25T00:00:00.000000000\",\"2021-06-26T00:00:00.000000000\",\"2021-06-27T00:00:00.000000000\",\"2021-06-28T00:00:00.000000000\"],\"y\":[289.33505,289.3498,289.3655,289.37234,289.34378,289.27133,289.22067],\"type\":\"scatter\"},{\"legendgroup\":\"1_East\",\"legendgrouptitle\":{\"text\":\"1_East\"},\"line\":{\"color\":\"rgb(160, 206, 160)\",\"width\":1},\"mode\":\"lines\",\"name\":\"1_East\",\"showlegend\":true,\"x\":[\"2021-06-22T00:00:00.000000000\",\"2021-06-23T00:00:00.000000000\",\"2021-06-24T00:00:00.000000000\",\"2021-06-25T00:00:00.000000000\",\"2021-06-26T00:00:00.000000000\",\"2021-06-27T00:00:00.000000000\",\"2021-06-28T00:00:00.000000000\"],\"y\":[289.42963,289.4788,289.48737,289.4753,289.42166,289.32626,289.25095],\"type\":\"scatter\"},{\"legendgroup\":\"0.001_Europe_00100000000\",\"legendgrouptitle\":{\"text\":\"0.001_Europe_00100000000\"},\"line\":{\"color\":\"rgb(149, 201, 149)\",\"width\":1},\"mode\":\"lines\",\"name\":\"0.001_Europe_00100000000\",\"showlegend\":true,\"x\":[\"2021-06-22T00:00:00.000000000\",\"2021-06-23T00:00:00.000000000\",\"2021-06-24T00:00:00.000000000\",\"2021-06-25T00:00:00.000000000\",\"2021-06-26T00:00:00.000000000\",\"2021-06-27T00:00:00.000000000\",\"2021-06-28T00:00:00.000000000\"],\"y\":[289.33487,289.34897,289.36505,289.37164,289.34247,289.27078,289.21973],\"type\":\"scatter\"},{\"legendgroup\":\"1_Europe_00100000000\",\"legendgrouptitle\":{\"text\":\"1_Europe_00100000000\"},\"line\":{\"color\":\"rgb(140, 196, 140)\",\"width\":1},\"mode\":\"lines\",\"name\":\"1_Europe_00100000000\",\"showlegend\":true,\"x\":[\"2021-06-22T00:00:00.000000000\",\"2021-06-23T00:00:00.000000000\",\"2021-06-24T00:00:00.000000000\",\"2021-06-25T00:00:00.000000000\",\"2021-06-26T00:00:00.000000000\",\"2021-06-27T00:00:00.000000000\",\"2021-06-28T00:00:00.000000000\"],\"y\":[289.5191,289.5517,289.54007,289.52863,289.4964,289.42084,289.37064],\"type\":\"scatter\"},{\"legendgroup\":\"0.001_North\",\"legendgrouptitle\":{\"text\":\"0.001_North\"},\"line\":{\"color\":\"rgb(131, 192, 131)\",\"width\":1},\"mode\":\"lines\",\"name\":\"0.001_North\",\"showlegend\":true,\"x\":[\"2021-06-22T00:00:00.000000000\",\"2021-06-23T00:00:00.000000000\",\"2021-06-24T00:00:00.000000000\",\"2021-06-25T00:00:00.000000000\",\"2021-06-26T00:00:00.000000000\",\"2021-06-27T00:00:00.000000000\",\"2021-06-28T00:00:00.000000000\"],\"y\":[289.3351,289.34894,289.36502,289.37143,289.34222,289.27072,289.22012],\"type\":\"scatter\"},{\"legendgroup\":\"1_North\",\"legendgrouptitle\":{\"text\":\"1_North\"},\"line\":{\"color\":\"rgb(122, 187, 122)\",\"width\":1},\"mode\":\"lines\",\"name\":\"1_North\",\"showlegend\":true,\"x\":[\"2021-06-22T00:00:00.000000000\",\"2021-06-23T00:00:00.000000000\",\"2021-06-24T00:00:00.000000000\",\"2021-06-25T00:00:00.000000000\",\"2021-06-26T00:00:00.000000000\",\"2021-06-27T00:00:00.000000000\",\"2021-06-28T00:00:00.000000000\"],\"y\":[289.46896,289.4402,289.43915,289.42563,289.39096,289.32993,289.28558],\"type\":\"scatter\"},{\"legendgroup\":\"0.001_North\",\"legendgrouptitle\":{\"text\":\"0.001_North\"},\"line\":{\"color\":\"rgb(112, 182, 112)\",\"width\":1},\"mode\":\"lines\",\"showlegend\":false,\"x\":[\"2021-06-22T00:00:00.000000000\",\"2021-06-23T00:00:00.000000000\",\"2021-06-24T00:00:00.000000000\",\"2021-06-25T00:00:00.000000000\",\"2021-06-26T00:00:00.000000000\",\"2021-06-27T00:00:00.000000000\",\"2021-06-28T00:00:00.000000000\"],\"y\":[289.335,289.34973,289.3656,289.37192,289.34222,289.2708,289.21933],\"type\":\"scatter\"},{\"legendgroup\":\"1_North\",\"legendgrouptitle\":{\"text\":\"1_North\"},\"line\":{\"color\":\"rgb(103, 178, 103)\",\"width\":1},\"mode\":\"lines\",\"showlegend\":false,\"x\":[\"2021-06-22T00:00:00.000000000\",\"2021-06-23T00:00:00.000000000\",\"2021-06-24T00:00:00.000000000\",\"2021-06-25T00:00:00.000000000\",\"2021-06-26T00:00:00.000000000\",\"2021-06-27T00:00:00.000000000\",\"2021-06-28T00:00:00.000000000\"],\"y\":[289.54135,289.57858,289.57022,289.57867,289.54858,289.4674,289.40747],\"type\":\"scatter\"},{\"legendgroup\":\"0.001_North\",\"legendgrouptitle\":{\"text\":\"0.001_North\"},\"line\":{\"color\":\"rgb(93, 173, 93)\",\"width\":1},\"mode\":\"lines\",\"showlegend\":false,\"x\":[\"2021-06-22T00:00:00.000000000\",\"2021-06-23T00:00:00.000000000\",\"2021-06-24T00:00:00.000000000\",\"2021-06-25T00:00:00.000000000\",\"2021-06-26T00:00:00.000000000\",\"2021-06-27T00:00:00.000000000\",\"2021-06-28T00:00:00.000000000\"],\"y\":[289.33527,289.34964,289.3659,289.37234,289.34387,289.27283,289.2217],\"type\":\"scatter\"},{\"legendgroup\":\"1_North\",\"legendgrouptitle\":{\"text\":\"1_North\"},\"line\":{\"color\":\"rgb(84, 169, 84)\",\"width\":1},\"mode\":\"lines\",\"showlegend\":false,\"x\":[\"2021-06-22T00:00:00.000000000\",\"2021-06-23T00:00:00.000000000\",\"2021-06-24T00:00:00.000000000\",\"2021-06-25T00:00:00.000000000\",\"2021-06-26T00:00:00.000000000\",\"2021-06-27T00:00:00.000000000\",\"2021-06-28T00:00:00.000000000\"],\"y\":[289.73773,289.81546,289.81006,289.7958,289.74557,289.65735,289.5953],\"type\":\"scatter\"},{\"legendgroup\":\"0.001_Northern\",\"legendgrouptitle\":{\"text\":\"0.001_Northern\"},\"line\":{\"color\":\"rgb(74, 164, 74)\",\"width\":1},\"mode\":\"lines\",\"name\":\"0.001_Northern\",\"showlegend\":true,\"x\":[\"2021-06-22T00:00:00.000000000\",\"2021-06-23T00:00:00.000000000\",\"2021-06-24T00:00:00.000000000\",\"2021-06-25T00:00:00.000000000\",\"2021-06-26T00:00:00.000000000\",\"2021-06-27T00:00:00.000000000\",\"2021-06-28T00:00:00.000000000\"],\"y\":[289.3354,289.34995,289.3666,289.3723,289.34274,289.2718,289.2203],\"type\":\"scatter\"},{\"legendgroup\":\"1_Northern\",\"legendgrouptitle\":{\"text\":\"1_Northern\"},\"line\":{\"color\":\"rgb(65, 160, 65)\",\"width\":1},\"mode\":\"lines\",\"name\":\"1_Northern\",\"showlegend\":true,\"x\":[\"2021-06-22T00:00:00.000000000\",\"2021-06-23T00:00:00.000000000\",\"2021-06-24T00:00:00.000000000\",\"2021-06-25T00:00:00.000000000\",\"2021-06-26T00:00:00.000000000\",\"2021-06-27T00:00:00.000000000\",\"2021-06-28T00:00:00.000000000\"],\"y\":[291.1252,291.26,291.08658,290.9907,290.87766,290.7565,290.64673],\"type\":\"scatter\"},{\"legendgroup\":\"0.001_Southern\",\"legendgrouptitle\":{\"text\":\"0.001_Southern\"},\"line\":{\"color\":\"rgb(56, 155, 56)\",\"width\":1},\"mode\":\"lines\",\"name\":\"0.001_Southern\",\"showlegend\":true,\"x\":[\"2021-06-22T00:00:00.000000000\",\"2021-06-23T00:00:00.000000000\",\"2021-06-24T00:00:00.000000000\",\"2021-06-25T00:00:00.000000000\",\"2021-06-26T00:00:00.000000000\",\"2021-06-27T00:00:00.000000000\",\"2021-06-28T00:00:00.000000000\"],\"y\":[289.33508,289.34982,289.36603,289.3721,289.34314,289.27142,289.22113],\"type\":\"scatter\"},{\"legendgroup\":\"1_Southern\",\"legendgrouptitle\":{\"text\":\"1_Southern\"},\"line\":{\"color\":\"rgb(46, 150, 46)\",\"width\":1},\"mode\":\"lines\",\"name\":\"1_Southern\",\"showlegend\":true,\"x\":[\"2021-06-22T00:00:00.000000000\",\"2021-06-23T00:00:00.000000000\",\"2021-06-24T00:00:00.000000000\",\"2021-06-25T00:00:00.000000000\",\"2021-06-26T00:00:00.000000000\",\"2021-06-27T00:00:00.000000000\",\"2021-06-28T00:00:00.000000000\"],\"y\":[291.25546,291.55682,291.4114,291.3435,291.26068,291.11032,290.96744],\"type\":\"scatter\"},{\"legendgroup\":\"0.001_Tropics_00100000000\",\"legendgrouptitle\":{\"text\":\"0.001_Tropics_00100000000\"},\"line\":{\"color\":\"rgb(36, 146, 36)\",\"width\":1},\"mode\":\"lines\",\"name\":\"0.001_Tropics_00100000000\",\"showlegend\":true,\"x\":[\"2021-06-22T00:00:00.000000000\",\"2021-06-23T00:00:00.000000000\",\"2021-06-24T00:00:00.000000000\",\"2021-06-25T00:00:00.000000000\",\"2021-06-26T00:00:00.000000000\",\"2021-06-27T00:00:00.000000000\",\"2021-06-28T00:00:00.000000000\"],\"y\":[289.3348,289.34952,289.3664,289.3721,289.343,289.2717,289.22055],\"type\":\"scatter\"},{\"legendgroup\":\"1_Tropics_00100000000\",\"legendgrouptitle\":{\"text\":\"1_Tropics_00100000000\"},\"line\":{\"color\":\"rgb(27, 141, 27)\",\"width\":1},\"mode\":\"lines\",\"name\":\"1_Tropics_00100000000\",\"showlegend\":true,\"x\":[\"2021-06-22T00:00:00.000000000\",\"2021-06-23T00:00:00.000000000\",\"2021-06-24T00:00:00.000000000\",\"2021-06-25T00:00:00.000000000\",\"2021-06-26T00:00:00.000000000\",\"2021-06-27T00:00:00.000000000\",\"2021-06-28T00:00:00.000000000\"],\"y\":[291.19376,291.1556,290.8407,290.79288,290.75674,290.69568,290.6663],\"type\":\"scatter\"},{\"legendgroup\":\"0.001_global_00100000000\",\"legendgrouptitle\":{\"text\":\"0.001_global_00100000000\"},\"line\":{\"color\":\"rgb(18, 137, 18)\",\"width\":1},\"mode\":\"lines\",\"showlegend\":false,\"x\":[\"2021-06-22T00:00:00.000000000\",\"2021-06-23T00:00:00.000000000\",\"2021-06-24T00:00:00.000000000\",\"2021-06-25T00:00:00.000000000\",\"2021-06-26T00:00:00.000000000\",\"2021-06-27T00:00:00.000000000\",\"2021-06-28T00:00:00.000000000\"],\"y\":[289.335,289.34872,289.36523,289.3712,289.34268,289.27057,289.22104],\"type\":\"scatter\"},{\"legendgroup\":\"1_global_00100000000\",\"legendgrouptitle\":{\"text\":\"1_global_00100000000\"},\"line\":{\"color\":\"rgb(9, 132, 9)\",\"width\":1},\"mode\":\"lines\",\"showlegend\":false,\"x\":[\"2021-06-22T00:00:00.000000000\",\"2021-06-23T00:00:00.000000000\",\"2021-06-24T00:00:00.000000000\",\"2021-06-25T00:00:00.000000000\",\"2021-06-26T00:00:00.000000000\",\"2021-06-27T00:00:00.000000000\",\"2021-06-28T00:00:00.000000000\"],\"y\":[295.0796,295.5373,294.77222,294.48328,294.2689,294.10092,293.96384],\"type\":\"scatter\"},{\"legendgroup\":\"0.001_Antarctic_11011111111\",\"legendgrouptitle\":{\"text\":\"0.001_Antarctic_11011111111\"},\"line\":{\"color\":\"rgb(243, 230, 230)\",\"width\":1},\"mode\":\"lines\",\"name\":\"0.001_Antarctic_11011111111\",\"showlegend\":true,\"x\":[\"2021-06-22T00:00:00.000000000\",\"2021-06-23T00:00:00.000000000\",\"2021-06-24T00:00:00.000000000\",\"2021-06-25T00:00:00.000000000\",\"2021-06-26T00:00:00.000000000\",\"2021-06-27T00:00:00.000000000\",\"2021-06-28T00:00:00.000000000\"],\"y\":[289.33038,289.35495,289.38995,289.3978,289.34973,289.27176,289.2353],\"type\":\"scatter\"},{\"legendgroup\":\"1_Antarctic_11011111111\",\"legendgrouptitle\":{\"text\":\"1_Antarctic_11011111111\"},\"line\":{\"color\":\"rgb(243, 221, 221)\",\"width\":1},\"mode\":\"lines\",\"name\":\"1_Antarctic_11011111111\",\"showlegend\":true,\"x\":[\"2021-06-22T00:00:00.000000000\",\"2021-06-23T00:00:00.000000000\",\"2021-06-24T00:00:00.000000000\",\"2021-06-25T00:00:00.000000000\",\"2021-06-26T00:00:00.000000000\",\"2021-06-27T00:00:00.000000000\",\"2021-06-28T00:00:00.000000000\"],\"y\":[289.39978,289.4834,289.5846,289.6643,289.7442,289.83792,289.92154],\"type\":\"scatter\"},{\"legendgroup\":\"0.001_Arctic_11011111111\",\"legendgrouptitle\":{\"text\":\"0.001_Arctic_11011111111\"},\"line\":{\"color\":\"rgb(244, 211, 211)\",\"width\":1},\"mode\":\"lines\",\"name\":\"0.001_Arctic_11011111111\",\"showlegend\":true,\"x\":[\"2021-06-22T00:00:00.000000000\",\"2021-06-23T00:00:00.000000000\",\"2021-06-24T00:00:00.000000000\",\"2021-06-25T00:00:00.000000000\",\"2021-06-26T00:00:00.000000000\",\"2021-06-27T00:00:00.000000000\",\"2021-06-28T00:00:00.000000000\"],\"y\":[289.31665,289.31613,289.33292,289.33704,289.30978,289.2619,289.22772],\"type\":\"scatter\"},{\"legendgroup\":\"1_Arctic_11011111111\",\"legendgrouptitle\":{\"text\":\"1_Arctic_11011111111\"},\"line\":{\"color\":\"rgb(244, 202, 202)\",\"width\":1},\"mode\":\"lines\",\"name\":\"1_Arctic_11011111111\",\"showlegend\":true,\"x\":[\"2021-06-22T00:00:00.000000000\",\"2021-06-23T00:00:00.000000000\",\"2021-06-24T00:00:00.000000000\",\"2021-06-25T00:00:00.000000000\",\"2021-06-26T00:00:00.000000000\",\"2021-06-27T00:00:00.000000000\",\"2021-06-28T00:00:00.000000000\"],\"y\":[289.47806,289.78397,290.06314,290.3076,290.51422,290.67828,290.87344],\"type\":\"scatter\"},{\"legendgroup\":\"0.001_AusNZ_11011111111\",\"legendgrouptitle\":{\"text\":\"0.001_AusNZ_11011111111\"},\"line\":{\"color\":\"rgb(245, 191, 191)\",\"width\":1},\"mode\":\"lines\",\"name\":\"0.001_AusNZ_11011111111\",\"showlegend\":true,\"x\":[\"2021-06-22T00:00:00.000000000\",\"2021-06-23T00:00:00.000000000\",\"2021-06-24T00:00:00.000000000\",\"2021-06-25T00:00:00.000000000\",\"2021-06-26T00:00:00.000000000\",\"2021-06-27T00:00:00.000000000\",\"2021-06-28T00:00:00.000000000\"],\"y\":[289.32474,289.32477,289.3459,289.35938,289.3295,289.2695,289.22833],\"type\":\"scatter\"},{\"legendgroup\":\"1_AusNZ_11011111111\",\"legendgrouptitle\":{\"text\":\"1_AusNZ_11011111111\"},\"line\":{\"color\":\"rgb(245, 182, 182)\",\"width\":1},\"mode\":\"lines\",\"name\":\"1_AusNZ_11011111111\",\"showlegend\":true,\"x\":[\"2021-06-22T00:00:00.000000000\",\"2021-06-23T00:00:00.000000000\",\"2021-06-24T00:00:00.000000000\",\"2021-06-25T00:00:00.000000000\",\"2021-06-26T00:00:00.000000000\",\"2021-06-27T00:00:00.000000000\",\"2021-06-28T00:00:00.000000000\"],\"y\":[289.45456,289.77176,290.09677,290.42944,290.72458,290.968,291.2214],\"type\":\"scatter\"},{\"legendgroup\":\"0.001_East\",\"legendgrouptitle\":{\"text\":\"0.001_East\"},\"line\":{\"color\":\"rgb(246, 173, 173)\",\"width\":1},\"mode\":\"lines\",\"showlegend\":false,\"x\":[\"2021-06-22T00:00:00.000000000\",\"2021-06-23T00:00:00.000000000\",\"2021-06-24T00:00:00.000000000\",\"2021-06-25T00:00:00.000000000\",\"2021-06-26T00:00:00.000000000\",\"2021-06-27T00:00:00.000000000\",\"2021-06-28T00:00:00.000000000\"],\"y\":[289.3347,289.3355,289.34518,289.34988,289.32666,289.25732,289.20874],\"type\":\"scatter\"},{\"legendgroup\":\"1_East\",\"legendgrouptitle\":{\"text\":\"1_East\"},\"line\":{\"color\":\"rgb(246, 163, 163)\",\"width\":1},\"mode\":\"lines\",\"showlegend\":false,\"x\":[\"2021-06-22T00:00:00.000000000\",\"2021-06-23T00:00:00.000000000\",\"2021-06-24T00:00:00.000000000\",\"2021-06-25T00:00:00.000000000\",\"2021-06-26T00:00:00.000000000\",\"2021-06-27T00:00:00.000000000\",\"2021-06-28T00:00:00.000000000\"],\"y\":[289.32166,289.47086,289.66147,289.85147,289.98486,290.0775,290.20438],\"type\":\"scatter\"},{\"legendgroup\":\"0.001_Europe_11011111111\",\"legendgrouptitle\":{\"text\":\"0.001_Europe_11011111111\"},\"line\":{\"color\":\"rgb(247, 153, 153)\",\"width\":1},\"mode\":\"lines\",\"name\":\"0.001_Europe_11011111111\",\"showlegend\":true,\"x\":[\"2021-06-22T00:00:00.000000000\",\"2021-06-23T00:00:00.000000000\",\"2021-06-24T00:00:00.000000000\",\"2021-06-25T00:00:00.000000000\",\"2021-06-26T00:00:00.000000000\",\"2021-06-27T00:00:00.000000000\",\"2021-06-28T00:00:00.000000000\"],\"y\":[289.33337,289.34555,289.35416,289.35287,289.31647,289.25613,289.21664],\"type\":\"scatter\"},{\"legendgroup\":\"1_Europe_11011111111\",\"legendgrouptitle\":{\"text\":\"1_Europe_11011111111\"},\"line\":{\"color\":\"rgb(247, 143, 143)\",\"width\":1},\"mode\":\"lines\",\"name\":\"1_Europe_11011111111\",\"showlegend\":true,\"x\":[\"2021-06-22T00:00:00.000000000\",\"2021-06-23T00:00:00.000000000\",\"2021-06-24T00:00:00.000000000\",\"2021-06-25T00:00:00.000000000\",\"2021-06-26T00:00:00.000000000\",\"2021-06-27T00:00:00.000000000\",\"2021-06-28T00:00:00.000000000\"],\"y\":[289.45087,289.64648,289.84583,290.02155,290.16345,290.27026,290.4204],\"type\":\"scatter\"},{\"legendgroup\":\"0.001_North\",\"legendgrouptitle\":{\"text\":\"0.001_North\"},\"line\":{\"color\":\"rgb(248, 134, 134)\",\"width\":1},\"mode\":\"lines\",\"showlegend\":false,\"x\":[\"2021-06-22T00:00:00.000000000\",\"2021-06-23T00:00:00.000000000\",\"2021-06-24T00:00:00.000000000\",\"2021-06-25T00:00:00.000000000\",\"2021-06-26T00:00:00.000000000\",\"2021-06-27T00:00:00.000000000\",\"2021-06-28T00:00:00.000000000\"],\"y\":[289.3283,289.33298,289.34106,289.3483,289.31885,289.23526,289.18372],\"type\":\"scatter\"},{\"legendgroup\":\"1_North\",\"legendgrouptitle\":{\"text\":\"1_North\"},\"line\":{\"color\":\"rgb(248, 125, 125)\",\"width\":1},\"mode\":\"lines\",\"showlegend\":false,\"x\":[\"2021-06-22T00:00:00.000000000\",\"2021-06-23T00:00:00.000000000\",\"2021-06-24T00:00:00.000000000\",\"2021-06-25T00:00:00.000000000\",\"2021-06-26T00:00:00.000000000\",\"2021-06-27T00:00:00.000000000\",\"2021-06-28T00:00:00.000000000\"],\"y\":[289.50632,289.6763,289.858,290.0417,290.16595,290.251,290.3721],\"type\":\"scatter\"},{\"legendgroup\":\"0.001_North\",\"legendgrouptitle\":{\"text\":\"0.001_North\"},\"line\":{\"color\":\"rgb(249, 114, 114)\",\"width\":1},\"mode\":\"lines\",\"showlegend\":false,\"x\":[\"2021-06-22T00:00:00.000000000\",\"2021-06-23T00:00:00.000000000\",\"2021-06-24T00:00:00.000000000\",\"2021-06-25T00:00:00.000000000\",\"2021-06-26T00:00:00.000000000\",\"2021-06-27T00:00:00.000000000\",\"2021-06-28T00:00:00.000000000\"],\"y\":[289.3259,289.33832,289.34995,289.3542,289.3231,289.24973,289.20193],\"type\":\"scatter\"},{\"legendgroup\":\"1_North\",\"legendgrouptitle\":{\"text\":\"1_North\"},\"line\":{\"color\":\"rgb(249, 105, 105)\",\"width\":1},\"mode\":\"lines\",\"showlegend\":false,\"x\":[\"2021-06-22T00:00:00.000000000\",\"2021-06-23T00:00:00.000000000\",\"2021-06-24T00:00:00.000000000\",\"2021-06-25T00:00:00.000000000\",\"2021-06-26T00:00:00.000000000\",\"2021-06-27T00:00:00.000000000\",\"2021-06-28T00:00:00.000000000\"],\"y\":[289.47205,289.69183,289.88898,290.07285,290.22784,290.34875,290.49063],\"type\":\"scatter\"},{\"legendgroup\":\"0.001_North\",\"legendgrouptitle\":{\"text\":\"0.001_North\"},\"line\":{\"color\":\"rgb(250, 95, 95)\",\"width\":1},\"mode\":\"lines\",\"showlegend\":false,\"x\":[\"2021-06-22T00:00:00.000000000\",\"2021-06-23T00:00:00.000000000\",\"2021-06-24T00:00:00.000000000\",\"2021-06-25T00:00:00.000000000\",\"2021-06-26T00:00:00.000000000\",\"2021-06-27T00:00:00.000000000\",\"2021-06-28T00:00:00.000000000\"],\"y\":[289.31964,289.3152,289.3077,289.29846,289.2516,289.15894,289.10965],\"type\":\"scatter\"},{\"legendgroup\":\"1_North\",\"legendgrouptitle\":{\"text\":\"1_North\"},\"line\":{\"color\":\"rgb(250, 86, 86)\",\"width\":1},\"mode\":\"lines\",\"showlegend\":false,\"x\":[\"2021-06-22T00:00:00.000000000\",\"2021-06-23T00:00:00.000000000\",\"2021-06-24T00:00:00.000000000\",\"2021-06-25T00:00:00.000000000\",\"2021-06-26T00:00:00.000000000\",\"2021-06-27T00:00:00.000000000\",\"2021-06-28T00:00:00.000000000\"],\"y\":[289.55597,289.93332,290.3238,290.73163,291.09885,291.41748,291.74762],\"type\":\"scatter\"},{\"legendgroup\":\"0.001_Northern\",\"legendgrouptitle\":{\"text\":\"0.001_Northern\"},\"line\":{\"color\":\"rgb(251, 76, 76)\",\"width\":1},\"mode\":\"lines\",\"showlegend\":false,\"x\":[\"2021-06-22T00:00:00.000000000\",\"2021-06-23T00:00:00.000000000\",\"2021-06-24T00:00:00.000000000\",\"2021-06-25T00:00:00.000000000\",\"2021-06-26T00:00:00.000000000\",\"2021-06-27T00:00:00.000000000\",\"2021-06-28T00:00:00.000000000\"],\"y\":[289.26553,289.22668,289.17752,289.143,289.081,288.9668,288.90836],\"type\":\"scatter\"},{\"legendgroup\":\"1_Northern\",\"legendgrouptitle\":{\"text\":\"1_Northern\"},\"line\":{\"color\":\"rgb(251, 66, 66)\",\"width\":1},\"mode\":\"lines\",\"showlegend\":false,\"x\":[\"2021-06-22T00:00:00.000000000\",\"2021-06-23T00:00:00.000000000\",\"2021-06-24T00:00:00.000000000\",\"2021-06-25T00:00:00.000000000\",\"2021-06-26T00:00:00.000000000\",\"2021-06-27T00:00:00.000000000\",\"2021-06-28T00:00:00.000000000\"],\"y\":[290.45944,292.36346,294.28723,296.19232,298.03467,299.81927,301.6231],\"type\":\"scatter\"},{\"legendgroup\":\"0.001_Southern\",\"legendgrouptitle\":{\"text\":\"0.001_Southern\"},\"line\":{\"color\":\"rgb(252, 57, 57)\",\"width\":1},\"mode\":\"lines\",\"showlegend\":false,\"x\":[\"2021-06-22T00:00:00.000000000\",\"2021-06-23T00:00:00.000000000\",\"2021-06-24T00:00:00.000000000\",\"2021-06-25T00:00:00.000000000\",\"2021-06-26T00:00:00.000000000\",\"2021-06-27T00:00:00.000000000\",\"2021-06-28T00:00:00.000000000\"],\"y\":[289.29477,289.35898,289.46497,289.52942,289.5117,289.4968,289.5131],\"type\":\"scatter\"},{\"legendgroup\":\"1_Southern\",\"legendgrouptitle\":{\"text\":\"1_Southern\"},\"line\":{\"color\":\"rgb(252, 47, 47)\",\"width\":1},\"mode\":\"lines\",\"showlegend\":false,\"x\":[\"2021-06-22T00:00:00.000000000\",\"2021-06-23T00:00:00.000000000\",\"2021-06-24T00:00:00.000000000\",\"2021-06-25T00:00:00.000000000\",\"2021-06-26T00:00:00.000000000\",\"2021-06-27T00:00:00.000000000\",\"2021-06-28T00:00:00.000000000\"],\"y\":[290.55777,292.4418,294.277,296.06137,297.79065,299.4584,301.06073],\"type\":\"scatter\"},{\"legendgroup\":\"0.001_Tropics_11011111111\",\"legendgrouptitle\":{\"text\":\"0.001_Tropics_11011111111\"},\"line\":{\"color\":\"rgb(253, 37, 37)\",\"width\":1},\"mode\":\"lines\",\"name\":\"0.001_Tropics_11011111111\",\"showlegend\":true,\"x\":[\"2021-06-22T00:00:00.000000000\",\"2021-06-23T00:00:00.000000000\",\"2021-06-24T00:00:00.000000000\",\"2021-06-25T00:00:00.000000000\",\"2021-06-26T00:00:00.000000000\",\"2021-06-27T00:00:00.000000000\",\"2021-06-28T00:00:00.000000000\"],\"y\":[289.27475,289.2755,289.32092,289.36667,289.42627,289.47397,289.52612],\"type\":\"scatter\"},{\"legendgroup\":\"1_Tropics_11011111111\",\"legendgrouptitle\":{\"text\":\"1_Tropics_11011111111\"},\"line\":{\"color\":\"rgb(253, 28, 28)\",\"width\":1},\"mode\":\"lines\",\"name\":\"1_Tropics_11011111111\",\"showlegend\":true,\"x\":[\"2021-06-22T00:00:00.000000000\",\"2021-06-23T00:00:00.000000000\",\"2021-06-24T00:00:00.000000000\",\"2021-06-25T00:00:00.000000000\",\"2021-06-26T00:00:00.000000000\",\"2021-06-27T00:00:00.000000000\",\"2021-06-28T00:00:00.000000000\"],\"y\":[291.06183,293.7309,296.42877,299.13776,301.787,304.39105,306.95645],\"type\":\"scatter\"},{\"legendgroup\":\"0.001_global_11011111111\",\"legendgrouptitle\":{\"text\":\"0.001_global_11011111111\"},\"line\":{\"color\":\"rgb(254, 18, 18)\",\"width\":1},\"mode\":\"lines\",\"showlegend\":false,\"x\":[\"2021-06-22T00:00:00.000000000\",\"2021-06-23T00:00:00.000000000\",\"2021-06-24T00:00:00.000000000\",\"2021-06-25T00:00:00.000000000\",\"2021-06-26T00:00:00.000000000\",\"2021-06-27T00:00:00.000000000\",\"2021-06-28T00:00:00.000000000\"],\"y\":[289.18982,289.1516,289.18494,289.23038,289.29962,289.3997,289.57977],\"type\":\"scatter\"},{\"legendgroup\":\"1_global_11011111111\",\"legendgrouptitle\":{\"text\":\"1_global_11011111111\"},\"line\":{\"color\":\"rgb(254, 9, 9)\",\"width\":1},\"mode\":\"lines\",\"showlegend\":false,\"x\":[\"2021-06-22T00:00:00.000000000\",\"2021-06-23T00:00:00.000000000\",\"2021-06-24T00:00:00.000000000\",\"2021-06-25T00:00:00.000000000\",\"2021-06-26T00:00:00.000000000\",\"2021-06-27T00:00:00.000000000\",\"2021-06-28T00:00:00.000000000\"],\"y\":[293.41882,299.7091,305.90442,311.99756,317.99036,323.886,329.6825],\"type\":\"scatter\"},{\"legendgroup\":\"Ensemble Members\",\"legendgrouptitle\":{\"text\":\"Ensemble Members\"},\"line\":{\"color\":\"grey\",\"width\":0.5},\"mode\":\"lines\",\"name\":\"Ensemble Members\",\"opacity\":0.5,\"showlegend\":true,\"x\":[\"2021-06-22T00:00:00\",\"2021-06-23T00:00:00\",\"2021-06-24T00:00:00\",\"2021-06-25T00:00:00\",\"2021-06-26T00:00:00\",\"2021-06-27T00:00:00\",\"2021-06-28T00:00:00\"],\"y\":[289.3408169020958,289.229704779972,289.2360617330832,289.2856577171876,289.31812749076073,289.2874254595531,289.282983236754],\"type\":\"scatter\"},{\"legendgroup\":\"Ensemble Members\",\"legendgrouptitle\":{\"text\":\"Ensemble Members\"},\"line\":{\"color\":\"grey\",\"width\":0.5},\"mode\":\"lines\",\"opacity\":0.5,\"showlegend\":false,\"x\":[\"2021-06-22T00:00:00\",\"2021-06-23T00:00:00\",\"2021-06-24T00:00:00\",\"2021-06-25T00:00:00\",\"2021-06-26T00:00:00\",\"2021-06-27T00:00:00\",\"2021-06-28T00:00:00\"],\"y\":[289.3222677914276,289.19564629134305,289.2206119730672,289.250187577044,289.3231405405639,289.3392333840449,289.2813190061905],\"type\":\"scatter\"},{\"legendgroup\":\"Ensemble Members\",\"legendgrouptitle\":{\"text\":\"Ensemble Members\"},\"line\":{\"color\":\"grey\",\"width\":0.5},\"mode\":\"lines\",\"opacity\":0.5,\"showlegend\":false,\"x\":[\"2021-06-22T00:00:00\",\"2021-06-23T00:00:00\",\"2021-06-24T00:00:00\",\"2021-06-25T00:00:00\",\"2021-06-26T00:00:00\",\"2021-06-27T00:00:00\",\"2021-06-28T00:00:00\"],\"y\":[289.3225455146436,289.2205697763405,289.2612416129822,289.2800073411046,289.32317207428713,289.3732740021562,289.3741864945102],\"type\":\"scatter\"},{\"legendgroup\":\"Ensemble Members\",\"legendgrouptitle\":{\"text\":\"Ensemble Members\"},\"line\":{\"color\":\"grey\",\"width\":0.5},\"mode\":\"lines\",\"opacity\":0.5,\"showlegend\":false,\"x\":[\"2021-06-22T00:00:00\",\"2021-06-23T00:00:00\",\"2021-06-24T00:00:00\",\"2021-06-25T00:00:00\",\"2021-06-26T00:00:00\",\"2021-06-27T00:00:00\",\"2021-06-28T00:00:00\"],\"y\":[289.3450989404606,289.24355347262826,289.269212057016,289.32940960414794,289.3652179891987,289.3614700595664,289.3509217161997],\"type\":\"scatter\"},{\"legendgroup\":\"Ensemble Members\",\"legendgrouptitle\":{\"text\":\"Ensemble Members\"},\"line\":{\"color\":\"grey\",\"width\":0.5},\"mode\":\"lines\",\"opacity\":0.5,\"showlegend\":false,\"x\":[\"2021-06-22T00:00:00\",\"2021-06-23T00:00:00\",\"2021-06-24T00:00:00\",\"2021-06-25T00:00:00\",\"2021-06-26T00:00:00\",\"2021-06-27T00:00:00\",\"2021-06-28T00:00:00\"],\"y\":[289.34646788726457,289.2263048021261,289.2419995205721,289.30546215155306,289.33937878874855,289.320442565399,289.30315904570915],\"type\":\"scatter\"},{\"legendgroup\":\"Ensemble Members\",\"legendgrouptitle\":{\"text\":\"Ensemble Members\"},\"line\":{\"color\":\"grey\",\"width\":0.5},\"mode\":\"lines\",\"opacity\":0.5,\"showlegend\":false,\"x\":[\"2021-06-22T00:00:00\",\"2021-06-23T00:00:00\",\"2021-06-24T00:00:00\",\"2021-06-25T00:00:00\",\"2021-06-26T00:00:00\",\"2021-06-27T00:00:00\",\"2021-06-28T00:00:00\"],\"y\":[289.3584167942402,289.22746679887547,289.2214448310758,289.26099924337467,289.30170301859727,289.31817063877776,289.30867893398175],\"type\":\"scatter\"},{\"legendgroup\":\"Ensemble Members\",\"legendgrouptitle\":{\"text\":\"Ensemble Members\"},\"line\":{\"color\":\"grey\",\"width\":0.5},\"mode\":\"lines\",\"opacity\":0.5,\"showlegend\":false,\"x\":[\"2021-06-22T00:00:00\",\"2021-06-23T00:00:00\",\"2021-06-24T00:00:00\",\"2021-06-25T00:00:00\",\"2021-06-26T00:00:00\",\"2021-06-27T00:00:00\",\"2021-06-28T00:00:00\"],\"y\":[289.33020020086684,289.19858009036267,289.20907069962936,289.2614964052596,289.3398758699251,289.3470858527907,289.282149699979],\"type\":\"scatter\"},{\"legendgroup\":\"Ensemble Members\",\"legendgrouptitle\":{\"text\":\"Ensemble Members\"},\"line\":{\"color\":\"grey\",\"width\":0.5},\"mode\":\"lines\",\"opacity\":0.5,\"showlegend\":false,\"x\":[\"2021-06-22T00:00:00\",\"2021-06-23T00:00:00\",\"2021-06-24T00:00:00\",\"2021-06-25T00:00:00\",\"2021-06-26T00:00:00\",\"2021-06-27T00:00:00\",\"2021-06-28T00:00:00\"],\"y\":[289.33930727034357,289.2206209758742,289.26446533399303,289.314696593273,289.31634430392364,289.2864973740371,289.2603660793958],\"type\":\"scatter\"},{\"legendgroup\":\"Ensemble Members\",\"legendgrouptitle\":{\"text\":\"Ensemble Members\"},\"line\":{\"color\":\"grey\",\"width\":0.5},\"mode\":\"lines\",\"opacity\":0.5,\"showlegend\":false,\"x\":[\"2021-06-22T00:00:00\",\"2021-06-23T00:00:00\",\"2021-06-24T00:00:00\",\"2021-06-25T00:00:00\",\"2021-06-26T00:00:00\",\"2021-06-27T00:00:00\",\"2021-06-28T00:00:00\"],\"y\":[289.3317600440653,289.2054682003863,289.2163066487459,289.2790520800986,289.3422575882586,289.34829942863456,289.3427594277833],\"type\":\"scatter\"},{\"legendgroup\":\"Ensemble Members\",\"legendgrouptitle\":{\"text\":\"Ensemble Members\"},\"line\":{\"color\":\"grey\",\"width\":0.5},\"mode\":\"lines\",\"opacity\":0.5,\"showlegend\":false,\"x\":[\"2021-06-22T00:00:00\",\"2021-06-23T00:00:00\",\"2021-06-24T00:00:00\",\"2021-06-25T00:00:00\",\"2021-06-26T00:00:00\",\"2021-06-27T00:00:00\",\"2021-06-28T00:00:00\"],\"y\":[289.31627954406275,289.2103197594422,289.2478169392522,289.28228777582945,289.32144616763753,289.30556333072127,289.2537338027767],\"type\":\"scatter\"},{\"legendgroup\":\"Ensemble Members\",\"legendgrouptitle\":{\"text\":\"Ensemble Members\"},\"line\":{\"color\":\"grey\",\"width\":0.5},\"mode\":\"lines\",\"opacity\":0.5,\"showlegend\":false,\"x\":[\"2021-06-22T00:00:00\",\"2021-06-23T00:00:00\",\"2021-06-24T00:00:00\",\"2021-06-25T00:00:00\",\"2021-06-26T00:00:00\",\"2021-06-27T00:00:00\",\"2021-06-28T00:00:00\"],\"y\":[289.3322969683356,289.20396482663915,289.24620657705105,289.30135189495485,289.35236112156286,289.34951509518805,289.3017153768474],\"type\":\"scatter\"},{\"legendgroup\":\"Ensemble Members\",\"legendgrouptitle\":{\"text\":\"Ensemble Members\"},\"line\":{\"color\":\"grey\",\"width\":0.5},\"mode\":\"lines\",\"opacity\":0.5,\"showlegend\":false,\"x\":[\"2021-06-22T00:00:00\",\"2021-06-23T00:00:00\",\"2021-06-24T00:00:00\",\"2021-06-25T00:00:00\",\"2021-06-26T00:00:00\",\"2021-06-27T00:00:00\",\"2021-06-28T00:00:00\"],\"y\":[289.3317165951864,289.2180387107018,289.25592916303646,289.30194116608465,289.3264177965785,289.30849226188093,289.27647543118593],\"type\":\"scatter\"},{\"legendgroup\":\"Ensemble Members\",\"legendgrouptitle\":{\"text\":\"Ensemble Members\"},\"line\":{\"color\":\"grey\",\"width\":0.5},\"mode\":\"lines\",\"opacity\":0.5,\"showlegend\":false,\"x\":[\"2021-06-22T00:00:00\",\"2021-06-23T00:00:00\",\"2021-06-24T00:00:00\",\"2021-06-25T00:00:00\",\"2021-06-26T00:00:00\",\"2021-06-27T00:00:00\",\"2021-06-28T00:00:00\"],\"y\":[289.320196702135,289.20185453439336,289.2279281464465,289.2716621283619,289.28893027914467,289.26483126260854,289.25096689600446],\"type\":\"scatter\"},{\"legendgroup\":\"Ensemble Members\",\"legendgrouptitle\":{\"text\":\"Ensemble Members\"},\"line\":{\"color\":\"grey\",\"width\":0.5},\"mode\":\"lines\",\"opacity\":0.5,\"showlegend\":false,\"x\":[\"2021-06-22T00:00:00\",\"2021-06-23T00:00:00\",\"2021-06-24T00:00:00\",\"2021-06-25T00:00:00\",\"2021-06-26T00:00:00\",\"2021-06-27T00:00:00\",\"2021-06-28T00:00:00\"],\"y\":[289.3438391394967,289.22092134949764,289.2267805526387,289.2717222196831,289.32781601051346,289.33324888068387,289.29525013115295],\"type\":\"scatter\"},{\"legendgroup\":\"Ensemble Members\",\"legendgrouptitle\":{\"text\":\"Ensemble Members\"},\"line\":{\"color\":\"grey\",\"width\":0.5},\"mode\":\"lines\",\"opacity\":0.5,\"showlegend\":false,\"x\":[\"2021-06-22T00:00:00\",\"2021-06-23T00:00:00\",\"2021-06-24T00:00:00\",\"2021-06-25T00:00:00\",\"2021-06-26T00:00:00\",\"2021-06-27T00:00:00\",\"2021-06-28T00:00:00\"],\"y\":[289.32818962563175,289.1854594649928,289.20491061419597,289.2733918278459,289.31887980237764,289.32655149284875,289.27810028793255],\"type\":\"scatter\"},{\"legendgroup\":\"Ensemble Members\",\"legendgrouptitle\":{\"text\":\"Ensemble Members\"},\"line\":{\"color\":\"grey\",\"width\":0.5},\"mode\":\"lines\",\"opacity\":0.5,\"showlegend\":false,\"x\":[\"2021-06-22T00:00:00\",\"2021-06-23T00:00:00\",\"2021-06-24T00:00:00\",\"2021-06-25T00:00:00\",\"2021-06-26T00:00:00\",\"2021-06-27T00:00:00\",\"2021-06-28T00:00:00\"],\"y\":[289.3262905944301,289.188766612101,289.1902061198733,289.2677737632681,289.3653508275217,289.364189441671,289.348933828049],\"type\":\"scatter\"},{\"legendgroup\":\"Ensemble Members\",\"legendgrouptitle\":{\"text\":\"Ensemble Members\"},\"line\":{\"color\":\"grey\",\"width\":0.5},\"mode\":\"lines\",\"opacity\":0.5,\"showlegend\":false,\"x\":[\"2021-06-22T00:00:00\",\"2021-06-23T00:00:00\",\"2021-06-24T00:00:00\",\"2021-06-25T00:00:00\",\"2021-06-26T00:00:00\",\"2021-06-27T00:00:00\",\"2021-06-28T00:00:00\"],\"y\":[289.3303837242543,289.2261727802704,289.2317647546299,289.26997317921894,289.3250263482362,289.32343130274216,289.3257163491461],\"type\":\"scatter\"},{\"legendgroup\":\"Ensemble Members\",\"legendgrouptitle\":{\"text\":\"Ensemble Members\"},\"line\":{\"color\":\"grey\",\"width\":0.5},\"mode\":\"lines\",\"opacity\":0.5,\"showlegend\":false,\"x\":[\"2021-06-22T00:00:00\",\"2021-06-23T00:00:00\",\"2021-06-24T00:00:00\",\"2021-06-25T00:00:00\",\"2021-06-26T00:00:00\",\"2021-06-27T00:00:00\",\"2021-06-28T00:00:00\"],\"y\":[289.3331178315097,289.22733048066243,289.23468855144864,289.28818433570746,289.3398820875588,289.3437004301006,289.31017027222686],\"type\":\"scatter\"},{\"legendgroup\":\"Ensemble Members\",\"legendgrouptitle\":{\"text\":\"Ensemble Members\"},\"line\":{\"color\":\"grey\",\"width\":0.5},\"mode\":\"lines\",\"opacity\":0.5,\"showlegend\":false,\"x\":[\"2021-06-22T00:00:00\",\"2021-06-23T00:00:00\",\"2021-06-24T00:00:00\",\"2021-06-25T00:00:00\",\"2021-06-26T00:00:00\",\"2021-06-27T00:00:00\",\"2021-06-28T00:00:00\"],\"y\":[289.327710088039,289.2073446000392,289.22838017124883,289.24872353254136,289.3141853355748,289.3531636465639,289.32182531451497],\"type\":\"scatter\"},{\"legendgroup\":\"Ensemble Members\",\"legendgrouptitle\":{\"text\":\"Ensemble Members\"},\"line\":{\"color\":\"grey\",\"width\":0.5},\"mode\":\"lines\",\"opacity\":0.5,\"showlegend\":false,\"x\":[\"2021-06-22T00:00:00\",\"2021-06-23T00:00:00\",\"2021-06-24T00:00:00\",\"2021-06-25T00:00:00\",\"2021-06-26T00:00:00\",\"2021-06-27T00:00:00\",\"2021-06-28T00:00:00\"],\"y\":[289.33150248494024,289.22389945753525,289.2306203804308,289.28588500488286,289.35833613200214,289.37808480776783,289.3838639924792],\"type\":\"scatter\"},{\"legendgroup\":\"Ensemble Members\",\"legendgrouptitle\":{\"text\":\"Ensemble Members\"},\"line\":{\"color\":\"grey\",\"width\":0.5},\"mode\":\"lines\",\"opacity\":0.5,\"showlegend\":false,\"x\":[\"2021-06-22T00:00:00\",\"2021-06-23T00:00:00\",\"2021-06-24T00:00:00\",\"2021-06-25T00:00:00\",\"2021-06-26T00:00:00\",\"2021-06-27T00:00:00\",\"2021-06-28T00:00:00\"],\"y\":[289.30659482552466,289.21246627260115,289.23120381394733,289.2940298683949,289.37518139429034,289.4070166593829,289.3855478414047],\"type\":\"scatter\"},{\"legendgroup\":\"Ensemble Members\",\"legendgrouptitle\":{\"text\":\"Ensemble Members\"},\"line\":{\"color\":\"grey\",\"width\":0.5},\"mode\":\"lines\",\"opacity\":0.5,\"showlegend\":false,\"x\":[\"2021-06-22T00:00:00\",\"2021-06-23T00:00:00\",\"2021-06-24T00:00:00\",\"2021-06-25T00:00:00\",\"2021-06-26T00:00:00\",\"2021-06-27T00:00:00\",\"2021-06-28T00:00:00\"],\"y\":[289.3454646070346,289.21467100655735,289.2312103136761,289.305672961468,289.35962199575414,289.3778840730106,289.34377724819757],\"type\":\"scatter\"},{\"legendgroup\":\"Ensemble Members\",\"legendgrouptitle\":{\"text\":\"Ensemble Members\"},\"line\":{\"color\":\"grey\",\"width\":0.5},\"mode\":\"lines\",\"opacity\":0.5,\"showlegend\":false,\"x\":[\"2021-06-22T00:00:00\",\"2021-06-23T00:00:00\",\"2021-06-24T00:00:00\",\"2021-06-25T00:00:00\",\"2021-06-26T00:00:00\",\"2021-06-27T00:00:00\",\"2021-06-28T00:00:00\"],\"y\":[289.32416566566786,289.2139056911538,289.2445936243739,289.28006625754784,289.32361724570444,289.32179927204925,289.26427850943696],\"type\":\"scatter\"},{\"legendgroup\":\"Ensemble Members\",\"legendgrouptitle\":{\"text\":\"Ensemble Members\"},\"line\":{\"color\":\"grey\",\"width\":0.5},\"mode\":\"lines\",\"opacity\":0.5,\"showlegend\":false,\"x\":[\"2021-06-22T00:00:00\",\"2021-06-23T00:00:00\",\"2021-06-24T00:00:00\",\"2021-06-25T00:00:00\",\"2021-06-26T00:00:00\",\"2021-06-27T00:00:00\",\"2021-06-28T00:00:00\"],\"y\":[289.31869273726807,289.2100221583292,289.2134981375949,289.26701098246485,289.3286892434453,289.3253722390256,289.28210561916444],\"type\":\"scatter\"},{\"legendgroup\":\"Ensemble Members\",\"legendgrouptitle\":{\"text\":\"Ensemble Members\"},\"line\":{\"color\":\"grey\",\"width\":0.5},\"mode\":\"lines\",\"opacity\":0.5,\"showlegend\":false,\"x\":[\"2021-06-22T00:00:00\",\"2021-06-23T00:00:00\",\"2021-06-24T00:00:00\",\"2021-06-25T00:00:00\",\"2021-06-26T00:00:00\",\"2021-06-27T00:00:00\",\"2021-06-28T00:00:00\"],\"y\":[289.3291798159673,289.22154051897155,289.21729795389757,289.2857389694115,289.35327491547895,289.3338045022854,289.35045929606815],\"type\":\"scatter\"},{\"legendgroup\":\"Ensemble Members\",\"legendgrouptitle\":{\"text\":\"Ensemble Members\"},\"line\":{\"color\":\"grey\",\"width\":0.5},\"mode\":\"lines\",\"opacity\":0.5,\"showlegend\":false,\"x\":[\"2021-06-22T00:00:00\",\"2021-06-23T00:00:00\",\"2021-06-24T00:00:00\",\"2021-06-25T00:00:00\",\"2021-06-26T00:00:00\",\"2021-06-27T00:00:00\",\"2021-06-28T00:00:00\"],\"y\":[289.3410691912968,289.2413799849209,289.2510657132367,289.28233291547565,289.3228159709962,289.33262390725383,289.3349785701069],\"type\":\"scatter\"},{\"legendgroup\":\"Ensemble Members\",\"legendgrouptitle\":{\"text\":\"Ensemble Members\"},\"line\":{\"color\":\"grey\",\"width\":0.5},\"mode\":\"lines\",\"opacity\":0.5,\"showlegend\":false,\"x\":[\"2021-06-22T00:00:00\",\"2021-06-23T00:00:00\",\"2021-06-24T00:00:00\",\"2021-06-25T00:00:00\",\"2021-06-26T00:00:00\",\"2021-06-27T00:00:00\",\"2021-06-28T00:00:00\"],\"y\":[289.32493430524204,289.222010981306,289.2449731326716,289.28539170216135,289.33801651474255,289.3552833412125,289.35309516054946],\"type\":\"scatter\"},{\"legendgroup\":\"Ensemble Members\",\"legendgrouptitle\":{\"text\":\"Ensemble Members\"},\"line\":{\"color\":\"grey\",\"width\":0.5},\"mode\":\"lines\",\"opacity\":0.5,\"showlegend\":false,\"x\":[\"2021-06-22T00:00:00\",\"2021-06-23T00:00:00\",\"2021-06-24T00:00:00\",\"2021-06-25T00:00:00\",\"2021-06-26T00:00:00\",\"2021-06-27T00:00:00\",\"2021-06-28T00:00:00\"],\"y\":[289.36853508149096,289.25144321107126,289.24867404001276,289.27358001298194,289.3587917795231,289.3730813293985,289.367380992394],\"type\":\"scatter\"},{\"legendgroup\":\"Ensemble Members\",\"legendgrouptitle\":{\"text\":\"Ensemble Members\"},\"line\":{\"color\":\"grey\",\"width\":0.5},\"mode\":\"lines\",\"opacity\":0.5,\"showlegend\":false,\"x\":[\"2021-06-22T00:00:00\",\"2021-06-23T00:00:00\",\"2021-06-24T00:00:00\",\"2021-06-25T00:00:00\",\"2021-06-26T00:00:00\",\"2021-06-27T00:00:00\",\"2021-06-28T00:00:00\"],\"y\":[289.3671911744256,289.2314304258149,289.2493771134176,289.29169278255983,289.34663672725964,289.3148817415145,289.2629661815002],\"type\":\"scatter\"},{\"legendgroup\":\"Ensemble Members\",\"legendgrouptitle\":{\"text\":\"Ensemble Members\"},\"line\":{\"color\":\"grey\",\"width\":0.5},\"mode\":\"lines\",\"opacity\":0.5,\"showlegend\":false,\"x\":[\"2021-06-22T00:00:00\",\"2021-06-23T00:00:00\",\"2021-06-24T00:00:00\",\"2021-06-25T00:00:00\",\"2021-06-26T00:00:00\",\"2021-06-27T00:00:00\",\"2021-06-28T00:00:00\"],\"y\":[289.35347457783377,289.1991761766157,289.201245647043,289.2457439947382,289.3063541769323,289.34399476857806,289.328903470799],\"type\":\"scatter\"},{\"legendgroup\":\"Ensemble Members\",\"legendgrouptitle\":{\"text\":\"Ensemble Members\"},\"line\":{\"color\":\"grey\",\"width\":0.5},\"mode\":\"lines\",\"opacity\":0.5,\"showlegend\":false,\"x\":[\"2021-06-22T00:00:00\",\"2021-06-23T00:00:00\",\"2021-06-24T00:00:00\",\"2021-06-25T00:00:00\",\"2021-06-26T00:00:00\",\"2021-06-27T00:00:00\",\"2021-06-28T00:00:00\"],\"y\":[289.3421631148781,289.2177831439912,289.21370360733465,289.26811539902116,289.34258904997336,289.34591298345066,289.31736812208305],\"type\":\"scatter\"},{\"legendgroup\":\"Ensemble Members\",\"legendgrouptitle\":{\"text\":\"Ensemble Members\"},\"line\":{\"color\":\"grey\",\"width\":0.5},\"mode\":\"lines\",\"opacity\":0.5,\"showlegend\":false,\"x\":[\"2021-06-22T00:00:00\",\"2021-06-23T00:00:00\",\"2021-06-24T00:00:00\",\"2021-06-25T00:00:00\",\"2021-06-26T00:00:00\",\"2021-06-27T00:00:00\",\"2021-06-28T00:00:00\"],\"y\":[289.3288989028028,289.2077840331206,289.21327178792853,289.25064311278845,289.2846261479177,289.2795086804887,289.25653759178516],\"type\":\"scatter\"},{\"legendgroup\":\"Ensemble Members\",\"legendgrouptitle\":{\"text\":\"Ensemble Members\"},\"line\":{\"color\":\"grey\",\"width\":0.5},\"mode\":\"lines\",\"opacity\":0.5,\"showlegend\":false,\"x\":[\"2021-06-22T00:00:00\",\"2021-06-23T00:00:00\",\"2021-06-24T00:00:00\",\"2021-06-25T00:00:00\",\"2021-06-26T00:00:00\",\"2021-06-27T00:00:00\",\"2021-06-28T00:00:00\"],\"y\":[289.3434436351564,289.22754642623335,289.25156868744887,289.3058069883049,289.37352920655974,289.36999460394264,289.31072336204875],\"type\":\"scatter\"},{\"legendgroup\":\"Ensemble Members\",\"legendgrouptitle\":{\"text\":\"Ensemble Members\"},\"line\":{\"color\":\"grey\",\"width\":0.5},\"mode\":\"lines\",\"opacity\":0.5,\"showlegend\":false,\"x\":[\"2021-06-22T00:00:00\",\"2021-06-23T00:00:00\",\"2021-06-24T00:00:00\",\"2021-06-25T00:00:00\",\"2021-06-26T00:00:00\",\"2021-06-27T00:00:00\",\"2021-06-28T00:00:00\"],\"y\":[289.32756362761535,289.2243402025127,289.2386180479347,289.2809970459302,289.33210069270547,289.3600267769953,289.3241958379531],\"type\":\"scatter\"},{\"legendgroup\":\"Ensemble Members\",\"legendgrouptitle\":{\"text\":\"Ensemble Members\"},\"line\":{\"color\":\"grey\",\"width\":0.5},\"mode\":\"lines\",\"opacity\":0.5,\"showlegend\":false,\"x\":[\"2021-06-22T00:00:00\",\"2021-06-23T00:00:00\",\"2021-06-24T00:00:00\",\"2021-06-25T00:00:00\",\"2021-06-26T00:00:00\",\"2021-06-27T00:00:00\",\"2021-06-28T00:00:00\"],\"y\":[289.3440290421921,289.2157570740433,289.2407506412042,289.3016495125486,289.35472992344995,289.3539571607218,289.33862209448023],\"type\":\"scatter\"},{\"legendgroup\":\"Ensemble Members\",\"legendgrouptitle\":{\"text\":\"Ensemble Members\"},\"line\":{\"color\":\"grey\",\"width\":0.5},\"mode\":\"lines\",\"opacity\":0.5,\"showlegend\":false,\"x\":[\"2021-06-22T00:00:00\",\"2021-06-23T00:00:00\",\"2021-06-24T00:00:00\",\"2021-06-25T00:00:00\",\"2021-06-26T00:00:00\",\"2021-06-27T00:00:00\",\"2021-06-28T00:00:00\"],\"y\":[289.34167945888134,289.2331696233231,289.27494918359633,289.3077428849118,289.360172134356,289.37820985579424,289.3055613066062],\"type\":\"scatter\"},{\"legendgroup\":\"Ensemble Members\",\"legendgrouptitle\":{\"text\":\"Ensemble Members\"},\"line\":{\"color\":\"grey\",\"width\":0.5},\"mode\":\"lines\",\"opacity\":0.5,\"showlegend\":false,\"x\":[\"2021-06-22T00:00:00\",\"2021-06-23T00:00:00\",\"2021-06-24T00:00:00\",\"2021-06-25T00:00:00\",\"2021-06-26T00:00:00\",\"2021-06-27T00:00:00\",\"2021-06-28T00:00:00\"],\"y\":[289.35245081371966,289.2138017026348,289.22457213310486,289.25457901664913,289.3013417344477,289.288045565143,289.30039313586275],\"type\":\"scatter\"},{\"legendgroup\":\"Ensemble Members\",\"legendgrouptitle\":{\"text\":\"Ensemble Members\"},\"line\":{\"color\":\"grey\",\"width\":0.5},\"mode\":\"lines\",\"opacity\":0.5,\"showlegend\":false,\"x\":[\"2021-06-22T00:00:00\",\"2021-06-23T00:00:00\",\"2021-06-24T00:00:00\",\"2021-06-25T00:00:00\",\"2021-06-26T00:00:00\",\"2021-06-27T00:00:00\",\"2021-06-28T00:00:00\"],\"y\":[289.3477237716375,289.2614838335667,289.27044801411233,289.29119805520304,289.3523216136461,289.363841868174,289.36110879069383],\"type\":\"scatter\"},{\"legendgroup\":\"Ensemble Members\",\"legendgrouptitle\":{\"text\":\"Ensemble Members\"},\"line\":{\"color\":\"grey\",\"width\":0.5},\"mode\":\"lines\",\"opacity\":0.5,\"showlegend\":false,\"x\":[\"2021-06-22T00:00:00\",\"2021-06-23T00:00:00\",\"2021-06-24T00:00:00\",\"2021-06-25T00:00:00\",\"2021-06-26T00:00:00\",\"2021-06-27T00:00:00\",\"2021-06-28T00:00:00\"],\"y\":[289.34820616596363,289.21530630746923,289.1939645918761,289.2097589494223,289.2904118092425,289.30592745482846,289.2529284429646],\"type\":\"scatter\"},{\"legendgroup\":\"Ensemble Members\",\"legendgrouptitle\":{\"text\":\"Ensemble Members\"},\"line\":{\"color\":\"grey\",\"width\":0.5},\"mode\":\"lines\",\"opacity\":0.5,\"showlegend\":false,\"x\":[\"2021-06-22T00:00:00\",\"2021-06-23T00:00:00\",\"2021-06-24T00:00:00\",\"2021-06-25T00:00:00\",\"2021-06-26T00:00:00\",\"2021-06-27T00:00:00\",\"2021-06-28T00:00:00\"],\"y\":[289.3265615770708,289.20813184765274,289.2127724070765,289.295451182102,289.34297305618355,289.3270830487014,289.31411359459827],\"type\":\"scatter\"},{\"legendgroup\":\"Ensemble Members\",\"legendgrouptitle\":{\"text\":\"Ensemble Members\"},\"line\":{\"color\":\"grey\",\"width\":0.5},\"mode\":\"lines\",\"opacity\":0.5,\"showlegend\":false,\"x\":[\"2021-06-22T00:00:00\",\"2021-06-23T00:00:00\",\"2021-06-24T00:00:00\",\"2021-06-25T00:00:00\",\"2021-06-26T00:00:00\",\"2021-06-27T00:00:00\",\"2021-06-28T00:00:00\"],\"y\":[289.3445074137769,289.2108277003482,289.2391899147411,289.2726835346719,289.31914198853957,289.31934224840074,289.2735626326701],\"type\":\"scatter\"},{\"legendgroup\":\"Ensemble Members\",\"legendgrouptitle\":{\"text\":\"Ensemble Members\"},\"line\":{\"color\":\"grey\",\"width\":0.5},\"mode\":\"lines\",\"opacity\":0.5,\"showlegend\":false,\"x\":[\"2021-06-22T00:00:00\",\"2021-06-23T00:00:00\",\"2021-06-24T00:00:00\",\"2021-06-25T00:00:00\",\"2021-06-26T00:00:00\",\"2021-06-27T00:00:00\",\"2021-06-28T00:00:00\"],\"y\":[289.3270477152177,289.2036856512033,289.21005885957373,289.24861266320175,289.2824606273779,289.27702825981095,289.23887251386236],\"type\":\"scatter\"},{\"legendgroup\":\"Ensemble Members\",\"legendgrouptitle\":{\"text\":\"Ensemble Members\"},\"line\":{\"color\":\"grey\",\"width\":0.5},\"mode\":\"lines\",\"opacity\":0.5,\"showlegend\":false,\"x\":[\"2021-06-22T00:00:00\",\"2021-06-23T00:00:00\",\"2021-06-24T00:00:00\",\"2021-06-25T00:00:00\",\"2021-06-26T00:00:00\",\"2021-06-27T00:00:00\",\"2021-06-28T00:00:00\"],\"y\":[289.31654120930796,289.2193896308859,289.21679570587384,289.28643218168816,289.3505582503187,289.3753039565048,289.38423112278826],\"type\":\"scatter\"},{\"legendgroup\":\"Ensemble Members\",\"legendgrouptitle\":{\"text\":\"Ensemble Members\"},\"line\":{\"color\":\"grey\",\"width\":0.5},\"mode\":\"lines\",\"opacity\":0.5,\"showlegend\":false,\"x\":[\"2021-06-22T00:00:00\",\"2021-06-23T00:00:00\",\"2021-06-24T00:00:00\",\"2021-06-25T00:00:00\",\"2021-06-26T00:00:00\",\"2021-06-27T00:00:00\",\"2021-06-28T00:00:00\"],\"y\":[289.3270458640668,289.1965421565085,289.20829974177786,289.2555128488193,289.3021003646711,289.2831313130421,289.24880254602465],\"type\":\"scatter\"},{\"legendgroup\":\"Ensemble Members\",\"legendgrouptitle\":{\"text\":\"Ensemble Members\"},\"line\":{\"color\":\"grey\",\"width\":0.5},\"mode\":\"lines\",\"opacity\":0.5,\"showlegend\":false,\"x\":[\"2021-06-22T00:00:00\",\"2021-06-23T00:00:00\",\"2021-06-24T00:00:00\",\"2021-06-25T00:00:00\",\"2021-06-26T00:00:00\",\"2021-06-27T00:00:00\",\"2021-06-28T00:00:00\"],\"y\":[289.340849126572,289.2180843853966,289.1985057375648,289.25508222351766,289.3125012405949,289.3020608589079,289.26740543875854],\"type\":\"scatter\"},{\"legendgroup\":\"Ensemble Members\",\"legendgrouptitle\":{\"text\":\"Ensemble Members\"},\"line\":{\"color\":\"grey\",\"width\":0.5},\"mode\":\"lines\",\"opacity\":0.5,\"showlegend\":false,\"x\":[\"2021-06-22T00:00:00\",\"2021-06-23T00:00:00\",\"2021-06-24T00:00:00\",\"2021-06-25T00:00:00\",\"2021-06-26T00:00:00\",\"2021-06-27T00:00:00\",\"2021-06-28T00:00:00\"],\"y\":[289.3349014335487,289.2061821834296,289.22706991255734,289.25786947544964,289.32396792134386,289.3279001731078,289.32158108905753],\"type\":\"scatter\"},{\"legendgroup\":\"Ensemble Members\",\"legendgrouptitle\":{\"text\":\"Ensemble Members\"},\"line\":{\"color\":\"grey\",\"width\":0.5},\"mode\":\"lines\",\"opacity\":0.5,\"showlegend\":false,\"x\":[\"2021-06-22T00:00:00\",\"2021-06-23T00:00:00\",\"2021-06-24T00:00:00\",\"2021-06-25T00:00:00\",\"2021-06-26T00:00:00\",\"2021-06-27T00:00:00\",\"2021-06-28T00:00:00\"],\"y\":[289.33615808250164,289.1816045131544,289.21422413499033,289.2610181168108,289.2694965229874,289.27704083074013,289.2900993251804],\"type\":\"scatter\"},{\"legendgroup\":\"Ensemble Members\",\"legendgrouptitle\":{\"text\":\"Ensemble Members\"},\"line\":{\"color\":\"grey\",\"width\":0.5},\"mode\":\"lines\",\"opacity\":0.5,\"showlegend\":false,\"x\":[\"2021-06-22T00:00:00\",\"2021-06-23T00:00:00\",\"2021-06-24T00:00:00\",\"2021-06-25T00:00:00\",\"2021-06-26T00:00:00\",\"2021-06-27T00:00:00\",\"2021-06-28T00:00:00\"],\"y\":[289.3252281298713,289.21185850978935,289.21260888719604,289.2728354344391,289.3224268977454,289.342231434412,289.3102460626648],\"type\":\"scatter\"},{\"legendgroup\":\"Ensemble Members\",\"legendgrouptitle\":{\"text\":\"Ensemble Members\"},\"line\":{\"color\":\"grey\",\"width\":0.5},\"mode\":\"lines\",\"opacity\":0.5,\"showlegend\":false,\"x\":[\"2021-06-22T00:00:00\",\"2021-06-23T00:00:00\",\"2021-06-24T00:00:00\",\"2021-06-25T00:00:00\",\"2021-06-26T00:00:00\",\"2021-06-27T00:00:00\",\"2021-06-28T00:00:00\"],\"y\":[289.3180632915534,289.20056494732563,289.2120102524077,289.28096851850086,289.3252272680782,289.31020957427,289.2930029098481],\"type\":\"scatter\"},{\"legendgroup\":\"Ensemble Members\",\"legendgrouptitle\":{\"text\":\"Ensemble Members\"},\"line\":{\"color\":\"grey\",\"width\":0.5},\"mode\":\"lines\",\"opacity\":0.5,\"showlegend\":false,\"x\":[\"2021-06-22T00:00:00\",\"2021-06-23T00:00:00\",\"2021-06-24T00:00:00\",\"2021-06-25T00:00:00\",\"2021-06-26T00:00:00\",\"2021-06-27T00:00:00\",\"2021-06-28T00:00:00\"],\"y\":[289.3305338994627,289.2095630658151,289.2186795781214,289.2547251562688,289.3378367824854,289.34497044496646,289.31542343794507],\"type\":\"scatter\"},{\"line\":{\"color\":\"black\",\"width\":1},\"mode\":\"lines\",\"name\":\"Ensemble Mean\",\"x\":[\"2021-06-22T00:00:00\",\"2021-06-23T00:00:00\",\"2021-06-24T00:00:00\",\"2021-06-25T00:00:00\",\"2021-06-26T00:00:00\",\"2021-06-27T00:00:00\",\"2021-06-28T00:00:00\"],\"y\":[289.3348260580196,289.2156688225986,289.22981695393423,289.2770561657775,289.33002725539444,289.33300279287704,289.3086309514063],\"type\":\"scatter\"}],                        {\"height\":900,\"legend\":{\"itemclick\":\"toggle\",\"itemdoubleclick\":\"toggleothers\",\"itemsizing\":\"constant\",\"orientation\":\"v\",\"title\":{\"text\":\"Legend\"},\"x\":1.05,\"y\":1},\"margin\":{\"b\":40,\"l\":40,\"r\":40,\"t\":40},\"template\":{\"data\":{\"barpolar\":[{\"marker\":{\"line\":{\"color\":\"white\",\"width\":0.5},\"pattern\":{\"fillmode\":\"overlay\",\"size\":10,\"solidity\":0.2}},\"type\":\"barpolar\"}],\"bar\":[{\"error_x\":{\"color\":\"#2a3f5f\"},\"error_y\":{\"color\":\"#2a3f5f\"},\"marker\":{\"line\":{\"color\":\"white\",\"width\":0.5},\"pattern\":{\"fillmode\":\"overlay\",\"size\":10,\"solidity\":0.2}},\"type\":\"bar\"}],\"carpet\":[{\"aaxis\":{\"endlinecolor\":\"#2a3f5f\",\"gridcolor\":\"#C8D4E3\",\"linecolor\":\"#C8D4E3\",\"minorgridcolor\":\"#C8D4E3\",\"startlinecolor\":\"#2a3f5f\"},\"baxis\":{\"endlinecolor\":\"#2a3f5f\",\"gridcolor\":\"#C8D4E3\",\"linecolor\":\"#C8D4E3\",\"minorgridcolor\":\"#C8D4E3\",\"startlinecolor\":\"#2a3f5f\"},\"type\":\"carpet\"}],\"choropleth\":[{\"colorbar\":{\"outlinewidth\":0,\"ticks\":\"\"},\"type\":\"choropleth\"}],\"contourcarpet\":[{\"colorbar\":{\"outlinewidth\":0,\"ticks\":\"\"},\"type\":\"contourcarpet\"}],\"contour\":[{\"colorbar\":{\"outlinewidth\":0,\"ticks\":\"\"},\"colorscale\":[[0.0,\"#0d0887\"],[0.1111111111111111,\"#46039f\"],[0.2222222222222222,\"#7201a8\"],[0.3333333333333333,\"#9c179e\"],[0.4444444444444444,\"#bd3786\"],[0.5555555555555556,\"#d8576b\"],[0.6666666666666666,\"#ed7953\"],[0.7777777777777778,\"#fb9f3a\"],[0.8888888888888888,\"#fdca26\"],[1.0,\"#f0f921\"]],\"type\":\"contour\"}],\"heatmapgl\":[{\"colorbar\":{\"outlinewidth\":0,\"ticks\":\"\"},\"colorscale\":[[0.0,\"#0d0887\"],[0.1111111111111111,\"#46039f\"],[0.2222222222222222,\"#7201a8\"],[0.3333333333333333,\"#9c179e\"],[0.4444444444444444,\"#bd3786\"],[0.5555555555555556,\"#d8576b\"],[0.6666666666666666,\"#ed7953\"],[0.7777777777777778,\"#fb9f3a\"],[0.8888888888888888,\"#fdca26\"],[1.0,\"#f0f921\"]],\"type\":\"heatmapgl\"}],\"heatmap\":[{\"colorbar\":{\"outlinewidth\":0,\"ticks\":\"\"},\"colorscale\":[[0.0,\"#0d0887\"],[0.1111111111111111,\"#46039f\"],[0.2222222222222222,\"#7201a8\"],[0.3333333333333333,\"#9c179e\"],[0.4444444444444444,\"#bd3786\"],[0.5555555555555556,\"#d8576b\"],[0.6666666666666666,\"#ed7953\"],[0.7777777777777778,\"#fb9f3a\"],[0.8888888888888888,\"#fdca26\"],[1.0,\"#f0f921\"]],\"type\":\"heatmap\"}],\"histogram2dcontour\":[{\"colorbar\":{\"outlinewidth\":0,\"ticks\":\"\"},\"colorscale\":[[0.0,\"#0d0887\"],[0.1111111111111111,\"#46039f\"],[0.2222222222222222,\"#7201a8\"],[0.3333333333333333,\"#9c179e\"],[0.4444444444444444,\"#bd3786\"],[0.5555555555555556,\"#d8576b\"],[0.6666666666666666,\"#ed7953\"],[0.7777777777777778,\"#fb9f3a\"],[0.8888888888888888,\"#fdca26\"],[1.0,\"#f0f921\"]],\"type\":\"histogram2dcontour\"}],\"histogram2d\":[{\"colorbar\":{\"outlinewidth\":0,\"ticks\":\"\"},\"colorscale\":[[0.0,\"#0d0887\"],[0.1111111111111111,\"#46039f\"],[0.2222222222222222,\"#7201a8\"],[0.3333333333333333,\"#9c179e\"],[0.4444444444444444,\"#bd3786\"],[0.5555555555555556,\"#d8576b\"],[0.6666666666666666,\"#ed7953\"],[0.7777777777777778,\"#fb9f3a\"],[0.8888888888888888,\"#fdca26\"],[1.0,\"#f0f921\"]],\"type\":\"histogram2d\"}],\"histogram\":[{\"marker\":{\"pattern\":{\"fillmode\":\"overlay\",\"size\":10,\"solidity\":0.2}},\"type\":\"histogram\"}],\"mesh3d\":[{\"colorbar\":{\"outlinewidth\":0,\"ticks\":\"\"},\"type\":\"mesh3d\"}],\"parcoords\":[{\"line\":{\"colorbar\":{\"outlinewidth\":0,\"ticks\":\"\"}},\"type\":\"parcoords\"}],\"pie\":[{\"automargin\":true,\"type\":\"pie\"}],\"scatter3d\":[{\"line\":{\"colorbar\":{\"outlinewidth\":0,\"ticks\":\"\"}},\"marker\":{\"colorbar\":{\"outlinewidth\":0,\"ticks\":\"\"}},\"type\":\"scatter3d\"}],\"scattercarpet\":[{\"marker\":{\"colorbar\":{\"outlinewidth\":0,\"ticks\":\"\"}},\"type\":\"scattercarpet\"}],\"scattergeo\":[{\"marker\":{\"colorbar\":{\"outlinewidth\":0,\"ticks\":\"\"}},\"type\":\"scattergeo\"}],\"scattergl\":[{\"marker\":{\"colorbar\":{\"outlinewidth\":0,\"ticks\":\"\"}},\"type\":\"scattergl\"}],\"scattermapbox\":[{\"marker\":{\"colorbar\":{\"outlinewidth\":0,\"ticks\":\"\"}},\"type\":\"scattermapbox\"}],\"scatterpolargl\":[{\"marker\":{\"colorbar\":{\"outlinewidth\":0,\"ticks\":\"\"}},\"type\":\"scatterpolargl\"}],\"scatterpolar\":[{\"marker\":{\"colorbar\":{\"outlinewidth\":0,\"ticks\":\"\"}},\"type\":\"scatterpolar\"}],\"scatter\":[{\"fillpattern\":{\"fillmode\":\"overlay\",\"size\":10,\"solidity\":0.2},\"type\":\"scatter\"}],\"scatterternary\":[{\"marker\":{\"colorbar\":{\"outlinewidth\":0,\"ticks\":\"\"}},\"type\":\"scatterternary\"}],\"surface\":[{\"colorbar\":{\"outlinewidth\":0,\"ticks\":\"\"},\"colorscale\":[[0.0,\"#0d0887\"],[0.1111111111111111,\"#46039f\"],[0.2222222222222222,\"#7201a8\"],[0.3333333333333333,\"#9c179e\"],[0.4444444444444444,\"#bd3786\"],[0.5555555555555556,\"#d8576b\"],[0.6666666666666666,\"#ed7953\"],[0.7777777777777778,\"#fb9f3a\"],[0.8888888888888888,\"#fdca26\"],[1.0,\"#f0f921\"]],\"type\":\"surface\"}],\"table\":[{\"cells\":{\"fill\":{\"color\":\"#EBF0F8\"},\"line\":{\"color\":\"white\"}},\"header\":{\"fill\":{\"color\":\"#C8D4E3\"},\"line\":{\"color\":\"white\"}},\"type\":\"table\"}]},\"layout\":{\"annotationdefaults\":{\"arrowcolor\":\"#2a3f5f\",\"arrowhead\":0,\"arrowwidth\":1},\"autotypenumbers\":\"strict\",\"coloraxis\":{\"colorbar\":{\"outlinewidth\":0,\"ticks\":\"\"}},\"colorscale\":{\"diverging\":[[0,\"#8e0152\"],[0.1,\"#c51b7d\"],[0.2,\"#de77ae\"],[0.3,\"#f1b6da\"],[0.4,\"#fde0ef\"],[0.5,\"#f7f7f7\"],[0.6,\"#e6f5d0\"],[0.7,\"#b8e186\"],[0.8,\"#7fbc41\"],[0.9,\"#4d9221\"],[1,\"#276419\"]],\"sequential\":[[0.0,\"#0d0887\"],[0.1111111111111111,\"#46039f\"],[0.2222222222222222,\"#7201a8\"],[0.3333333333333333,\"#9c179e\"],[0.4444444444444444,\"#bd3786\"],[0.5555555555555556,\"#d8576b\"],[0.6666666666666666,\"#ed7953\"],[0.7777777777777778,\"#fb9f3a\"],[0.8888888888888888,\"#fdca26\"],[1.0,\"#f0f921\"]],\"sequentialminus\":[[0.0,\"#0d0887\"],[0.1111111111111111,\"#46039f\"],[0.2222222222222222,\"#7201a8\"],[0.3333333333333333,\"#9c179e\"],[0.4444444444444444,\"#bd3786\"],[0.5555555555555556,\"#d8576b\"],[0.6666666666666666,\"#ed7953\"],[0.7777777777777778,\"#fb9f3a\"],[0.8888888888888888,\"#fdca26\"],[1.0,\"#f0f921\"]]},\"colorway\":[\"#636efa\",\"#EF553B\",\"#00cc96\",\"#ab63fa\",\"#FFA15A\",\"#19d3f3\",\"#FF6692\",\"#B6E880\",\"#FF97FF\",\"#FECB52\"],\"font\":{\"color\":\"#2a3f5f\"},\"geo\":{\"bgcolor\":\"white\",\"lakecolor\":\"white\",\"landcolor\":\"white\",\"showlakes\":true,\"showland\":true,\"subunitcolor\":\"#C8D4E3\"},\"hoverlabel\":{\"align\":\"left\"},\"hovermode\":\"closest\",\"mapbox\":{\"style\":\"light\"},\"paper_bgcolor\":\"white\",\"plot_bgcolor\":\"white\",\"polar\":{\"angularaxis\":{\"gridcolor\":\"#EBF0F8\",\"linecolor\":\"#EBF0F8\",\"ticks\":\"\"},\"bgcolor\":\"white\",\"radialaxis\":{\"gridcolor\":\"#EBF0F8\",\"linecolor\":\"#EBF0F8\",\"ticks\":\"\"}},\"scene\":{\"xaxis\":{\"backgroundcolor\":\"white\",\"gridcolor\":\"#DFE8F3\",\"gridwidth\":2,\"linecolor\":\"#EBF0F8\",\"showbackground\":true,\"ticks\":\"\",\"zerolinecolor\":\"#EBF0F8\"},\"yaxis\":{\"backgroundcolor\":\"white\",\"gridcolor\":\"#DFE8F3\",\"gridwidth\":2,\"linecolor\":\"#EBF0F8\",\"showbackground\":true,\"ticks\":\"\",\"zerolinecolor\":\"#EBF0F8\"},\"zaxis\":{\"backgroundcolor\":\"white\",\"gridcolor\":\"#DFE8F3\",\"gridwidth\":2,\"linecolor\":\"#EBF0F8\",\"showbackground\":true,\"ticks\":\"\",\"zerolinecolor\":\"#EBF0F8\"}},\"shapedefaults\":{\"line\":{\"color\":\"#2a3f5f\"}},\"ternary\":{\"aaxis\":{\"gridcolor\":\"#DFE8F3\",\"linecolor\":\"#A2B1C6\",\"ticks\":\"\"},\"baxis\":{\"gridcolor\":\"#DFE8F3\",\"linecolor\":\"#A2B1C6\",\"ticks\":\"\"},\"bgcolor\":\"white\",\"caxis\":{\"gridcolor\":\"#DFE8F3\",\"linecolor\":\"#A2B1C6\",\"ticks\":\"\"}},\"title\":{\"x\":0.05},\"xaxis\":{\"automargin\":true,\"gridcolor\":\"#EBF0F8\",\"linecolor\":\"#EBF0F8\",\"ticks\":\"\",\"title\":{\"standoff\":15},\"zerolinecolor\":\"#EBF0F8\",\"zerolinewidth\":2},\"yaxis\":{\"automargin\":true,\"gridcolor\":\"#EBF0F8\",\"linecolor\":\"#EBF0F8\",\"ticks\":\"\",\"title\":{\"standoff\":15},\"zerolinecolor\":\"#EBF0F8\",\"zerolinewidth\":2}}},\"title\":{\"text\":\"Mean 2m Temperature Forecast \\u002f 2021-06-21  + 7 days\"},\"width\":1600,\"xaxis\":{\"range\":[\"2021-06-22T00:00:00\",\"2021-06-28T00:00:00\"],\"title\":{\"text\":\"Date\"}},\"yaxis\":{\"title\":{\"text\":\"Temperature (K)\"}}},                        {\"responsive\": true}                    ).then(function(){\n",
       "                            \n",
       "var gd = document.getElementById('7dd9bfdd-435a-438a-8b65-172635960847');\n",
       "var x = new MutationObserver(function (mutations, observer) {{\n",
       "        var display = window.getComputedStyle(gd).display;\n",
       "        if (!display || display === 'none') {{\n",
       "            console.log([gd, 'removed!']);\n",
       "            Plotly.purge(gd);\n",
       "            observer.disconnect();\n",
       "        }}\n",
       "}});\n",
       "\n",
       "// Listen for the removal of the full notebook cells\n",
       "var notebookContainer = gd.closest('#notebook-container');\n",
       "if (notebookContainer) {{\n",
       "    x.observe(notebookContainer, {childList: true});\n",
       "}}\n",
       "\n",
       "// Listen for the clearing of the current output cell\n",
       "var outputEl = gd.closest('.output');\n",
       "if (outputEl) {{\n",
       "    x.observe(outputEl, {childList: true});\n",
       "}}\n",
       "\n",
       "                        })                };                });            </script>        </div>"
      ]
     },
     "metadata": {},
     "output_type": "display_data"
    }
   ],
   "source": [
    "import plotly.graph_objs as go\n",
    "import plotly.io as pio\n",
    "import pandas as pd\n",
    "\n",
    "\n",
    "ensemble_lines = []\n",
    "ensemble_legend_shown = False  # Flag to control legend display\n",
    "for ensemble in df['ensemble'].unique():\n",
    "    subset = df[df['ensemble'] == ensemble]\n",
    "    ensemble_lines.append(go.Scatter(\n",
    "        x=subset['date'],\n",
    "        y=subset[target_var],\n",
    "        mode='lines',\n",
    "        line=dict(color='grey', width=0.5),\n",
    "        opacity=0.5,\n",
    "        name='Ensemble Members' if not ensemble_legend_shown else None,\n",
    "        showlegend=not ensemble_legend_shown,\n",
    "        legendgroup='Ensemble Members',\n",
    "        legendgrouptitle_text='Ensemble Members'\n",
    "    ))\n",
    "    ensemble_legend_shown = True  # Only show legend once\n",
    "    \n",
    "# Plot ensemble mean\n",
    "mean_temp = df.groupby('date')[target_var].mean().reset_index()\n",
    "ensemble_mean_line = go.Scatter(\n",
    "    x=mean_temp['date'],\n",
    "    y=mean_temp[target_var],\n",
    "    mode='lines',\n",
    "    line=dict(color='black', width=1),\n",
    "    name='Ensemble Mean'\n",
    ")\n",
    "\n",
    "# Plot perturbation datasets\n",
    "perturb_lines = []\n",
    "partition_legend_shown = {}  # Dictionary to track legend entries per partition\n",
    "for label, color, dataset in perturb_datasets:\n",
    "    # Extract partition name from label (assuming label starts with partition name)\n",
    "    partition_name = label.split()[0]\n",
    "    # Only show legend once per partition\n",
    "    if partition_name not in partition_legend_shown:\n",
    "        show_legend = True\n",
    "        partition_legend_shown[partition_name] = True\n",
    "    else:\n",
    "        show_legend = False\n",
    "    # Convert color to a valid format if it's a tuple\n",
    "    if isinstance(color, tuple):\n",
    "        color = f'rgb({int(color[0] * 255)}, {int(color[1] * 255)}, {int(color[2] * 255)})'\n",
    "    perturb_lines.append(go.Scatter(\n",
    "        x=dataset['date'],\n",
    "        y=dataset[target_var],\n",
    "        mode='lines',\n",
    "        line=dict(color=color, width=1),\n",
    "        name=partition_name if show_legend else None,\n",
    "        showlegend=show_legend,\n",
    "        legendgroup=partition_name,\n",
    "        legendgrouptitle_text=partition_name\n",
    "    ))\n",
    "\n",
    "# Optional: Plot ERA5 data if available\n",
    "# Uncomment and adjust accordingly if ERA5 data is available\n",
    "# era5_line = go.Scatter(\n",
    "#     x=era5['date'],\n",
    "#     y=era5['t2m'],\n",
    "#     mode='lines',\n",
    "#     line=dict(color='red', width=1.5, dash='dash'),\n",
    "#     name='ERA5',\n",
    "#     legendgroup='ERA5',\n",
    "#     legendgrouptitle_text='ERA5'\n",
    "# )\n",
    "\n",
    "# Combine all traces\n",
    "all_traces = perturb_lines + ensemble_lines + [ensemble_mean_line] # + [era5_line]\n",
    "\n",
    "\n",
    "if target_var == '2m_temperature':\n",
    "    title = 'Mean 2m Temperature Forecast / 2021-06-21  + 7 days'\n",
    "    unit = 'Temperature (K)'\n",
    "elif target_var == 'geopotential':\n",
    "    title = 'Mean 500hPa Geopotential Forecast / 2021-06-21  + 7 days'\n",
    "    unit = 'Geopotential (m^2/s^2)'\n",
    "\n",
    "# Create the layout\n",
    "layout = go.Layout(\n",
    "    title=title,\n",
    "    xaxis=dict(title='Date', range=[pd.Timestamp('2021-06-22'), pd.Timestamp('2021-06-28')]),\n",
    "    yaxis=dict(title=unit),\n",
    "    margin=dict(l=40, r=40, t=40, b=40),\n",
    "    height=900,  # Increased height for better visibility\n",
    "    width=1600,  # Increased width for better visibility\n",
    "    template='plotly_white',\n",
    "    legend=dict(\n",
    "        title='Legend',\n",
    "        orientation='v',  # Vertical legend\n",
    "        x=1.05,  # Position it just outside the right edge of the plot\n",
    "        y=1,    # Align at the top\n",
    "        itemsizing='constant',  # Makes the legend box size consistent\n",
    "        # traceorder='grouped',  # Groups traces in the legend\n",
    "        itemclick='toggle',  # Enables toggling traces on and off\n",
    "        itemdoubleclick='toggleothers'  # Double-clicking will turn other traces off\n",
    "    )\n",
    ")\n",
    "\n",
    "# Create the figure\n",
    "fig = go.Figure(data=all_traces, layout=layout)\n",
    "\n",
    "# Save the figure as an interactive HTML file\n",
    "# fig.write_html(\"interactive_geopotential_forecast.html\")\n",
    "\n",
    "# Optional: Show the figure in the browser (still interactive)\n",
    "pio.show(fig)\n"
   ]
  },
  {
   "cell_type": "markdown",
   "metadata": {},
   "source": [
    "# Claude"
   ]
  },
  {
   "cell_type": "code",
   "execution_count": null,
   "metadata": {},
   "outputs": [
    {
     "data": {
      "application/vnd.plotly.v1+json": {
       "config": {
        "plotlyServerURL": "https://plot.ly"
       },
       "data": [
        {
         "legendgroup": "0.001_global_00000000001",
         "legendgrouptitle": {
          "font": {
           "color": "black",
           "family": "Arial Bold",
           "size": 14
          },
          "text": "0.001_global_00000000001"
         },
         "line": {
          "color": "rgb(235, 235, 242)",
          "width": 1
         },
         "mode": "lines",
         "name": "0.001_global_00000000001",
         "showlegend": true,
         "type": "scatter",
         "x": [
          "2021-06-22T00:00:00.000000000",
          "2021-06-23T00:00:00.000000000",
          "2021-06-24T00:00:00.000000000",
          "2021-06-25T00:00:00.000000000",
          "2021-06-26T00:00:00.000000000",
          "2021-06-27T00:00:00.000000000",
          "2021-06-28T00:00:00.000000000"
         ],
         "y": [
          289.3352,
          289.34985,
          289.36597,
          289.37195,
          289.3426,
          289.27228,
          289.22177
         ]
        },
        {
         "legendgroup": "1_global_00000000001",
         "legendgrouptitle": {
          "font": {
           "color": "black",
           "family": "Arial Bold",
           "size": 14
          },
          "text": "1_global_00000000001"
         },
         "line": {
          "color": "rgb(230, 230, 243)",
          "width": 1
         },
         "mode": "lines",
         "name": "1_global_00000000001",
         "showlegend": true,
         "type": "scatter",
         "x": [
          "2021-06-22T00:00:00.000000000",
          "2021-06-23T00:00:00.000000000",
          "2021-06-24T00:00:00.000000000",
          "2021-06-25T00:00:00.000000000",
          "2021-06-26T00:00:00.000000000",
          "2021-06-27T00:00:00.000000000",
          "2021-06-28T00:00:00.000000000"
         ],
         "y": [
          288.4677,
          287.2917,
          286.9017,
          286.75638,
          286.7355,
          286.7074,
          286.66064
         ]
        },
        {
         "legendgroup": "0.001_global_00000000010",
         "legendgrouptitle": {
          "font": {
           "color": "black",
           "family": "Arial Bold",
           "size": 14
          },
          "text": "0.001_global_00000000010"
         },
         "line": {
          "color": "rgb(225, 225, 243)",
          "width": 1
         },
         "mode": "lines",
         "name": "0.001_global_00000000010",
         "showlegend": true,
         "type": "scatter",
         "x": [
          "2021-06-22T00:00:00.000000000",
          "2021-06-23T00:00:00.000000000",
          "2021-06-24T00:00:00.000000000",
          "2021-06-25T00:00:00.000000000",
          "2021-06-26T00:00:00.000000000",
          "2021-06-27T00:00:00.000000000",
          "2021-06-28T00:00:00.000000000"
         ],
         "y": [
          289.33533,
          289.34918,
          289.3655,
          289.37192,
          289.34256,
          289.27133,
          289.22147
         ]
        },
        {
         "legendgroup": "1_global_00000000010",
         "legendgrouptitle": {
          "font": {
           "color": "black",
           "family": "Arial Bold",
           "size": 14
          },
          "text": "1_global_00000000010"
         },
         "line": {
          "color": "rgb(220, 220, 243)",
          "width": 1
         },
         "mode": "lines",
         "name": "1_global_00000000010",
         "showlegend": true,
         "type": "scatter",
         "x": [
          "2021-06-22T00:00:00.000000000",
          "2021-06-23T00:00:00.000000000",
          "2021-06-24T00:00:00.000000000",
          "2021-06-25T00:00:00.000000000",
          "2021-06-26T00:00:00.000000000",
          "2021-06-27T00:00:00.000000000",
          "2021-06-28T00:00:00.000000000"
         ],
         "y": [
          288.31488,
          287.7951,
          287.76907,
          287.7987,
          287.80832,
          287.7911,
          287.78467
         ]
        },
        {
         "legendgroup": "0.001_global_00000000100",
         "legendgrouptitle": {
          "font": {
           "color": "black",
           "family": "Arial Bold",
           "size": 14
          },
          "text": "0.001_global_00000000100"
         },
         "line": {
          "color": "rgb(214, 214, 244)",
          "width": 1
         },
         "mode": "lines",
         "name": "0.001_global_00000000100",
         "showlegend": true,
         "type": "scatter",
         "x": [
          "2021-06-22T00:00:00.000000000",
          "2021-06-23T00:00:00.000000000",
          "2021-06-24T00:00:00.000000000",
          "2021-06-25T00:00:00.000000000",
          "2021-06-26T00:00:00.000000000",
          "2021-06-27T00:00:00.000000000",
          "2021-06-28T00:00:00.000000000"
         ],
         "y": [
          289.3348,
          289.349,
          289.36502,
          289.3713,
          289.34274,
          289.27094,
          289.21976
         ]
        },
        {
         "legendgroup": "1_global_00000000100",
         "legendgrouptitle": {
          "font": {
           "color": "black",
           "family": "Arial Bold",
           "size": 14
          },
          "text": "1_global_00000000100"
         },
         "line": {
          "color": "rgb(210, 210, 244)",
          "width": 1
         },
         "mode": "lines",
         "name": "1_global_00000000100",
         "showlegend": true,
         "type": "scatter",
         "x": [
          "2021-06-22T00:00:00.000000000",
          "2021-06-23T00:00:00.000000000",
          "2021-06-24T00:00:00.000000000",
          "2021-06-25T00:00:00.000000000",
          "2021-06-26T00:00:00.000000000",
          "2021-06-27T00:00:00.000000000",
          "2021-06-28T00:00:00.000000000"
         ],
         "y": [
          287.91367,
          286.66736,
          286.50555,
          286.50034,
          286.52042,
          286.5754,
          286.6479
         ]
        },
        {
         "legendgroup": "0.001_global_00000001000",
         "legendgrouptitle": {
          "font": {
           "color": "black",
           "family": "Arial Bold",
           "size": 14
          },
          "text": "0.001_global_00000001000"
         },
         "line": {
          "color": "rgb(204, 204, 244)",
          "width": 1
         },
         "mode": "lines",
         "name": "0.001_global_00000001000",
         "showlegend": true,
         "type": "scatter",
         "x": [
          "2021-06-22T00:00:00.000000000",
          "2021-06-23T00:00:00.000000000",
          "2021-06-24T00:00:00.000000000",
          "2021-06-25T00:00:00.000000000",
          "2021-06-26T00:00:00.000000000",
          "2021-06-27T00:00:00.000000000",
          "2021-06-28T00:00:00.000000000"
         ],
         "y": [
          289.33487,
          289.34918,
          289.3655,
          289.3721,
          289.34317,
          289.2722,
          289.2236
         ]
        },
        {
         "legendgroup": "1_global_00000001000",
         "legendgrouptitle": {
          "font": {
           "color": "black",
           "family": "Arial Bold",
           "size": 14
          },
          "text": "1_global_00000001000"
         },
         "line": {
          "color": "rgb(199, 199, 244)",
          "width": 1
         },
         "mode": "lines",
         "name": "1_global_00000001000",
         "showlegend": true,
         "type": "scatter",
         "x": [
          "2021-06-22T00:00:00.000000000",
          "2021-06-23T00:00:00.000000000",
          "2021-06-24T00:00:00.000000000",
          "2021-06-25T00:00:00.000000000",
          "2021-06-26T00:00:00.000000000",
          "2021-06-27T00:00:00.000000000",
          "2021-06-28T00:00:00.000000000"
         ],
         "y": [
          289.16803,
          289.255,
          289.34753,
          289.47745,
          289.64435,
          289.792,
          289.96704
         ]
        },
        {
         "legendgroup": "0.001_global_00000010000",
         "legendgrouptitle": {
          "font": {
           "color": "black",
           "family": "Arial Bold",
           "size": 14
          },
          "text": "0.001_global_00000010000"
         },
         "line": {
          "color": "rgb(194, 194, 245)",
          "width": 1
         },
         "mode": "lines",
         "name": "0.001_global_00000010000",
         "showlegend": true,
         "type": "scatter",
         "x": [
          "2021-06-22T00:00:00.000000000",
          "2021-06-23T00:00:00.000000000",
          "2021-06-24T00:00:00.000000000",
          "2021-06-25T00:00:00.000000000",
          "2021-06-26T00:00:00.000000000",
          "2021-06-27T00:00:00.000000000",
          "2021-06-28T00:00:00.000000000"
         ],
         "y": [
          289.34995,
          289.39096,
          289.44305,
          289.50244,
          289.5638,
          289.64557,
          289.7601
         ]
        },
        {
         "legendgroup": "1_global_00000010000",
         "legendgrouptitle": {
          "font": {
           "color": "black",
           "family": "Arial Bold",
           "size": 14
          },
          "text": "1_global_00000010000"
         },
         "line": {
          "color": "rgb(189, 189, 245)",
          "width": 1
         },
         "mode": "lines",
         "name": "1_global_00000010000",
         "showlegend": true,
         "type": "scatter",
         "x": [
          "2021-06-22T00:00:00.000000000",
          "2021-06-23T00:00:00.000000000",
          "2021-06-24T00:00:00.000000000",
          "2021-06-25T00:00:00.000000000",
          "2021-06-26T00:00:00.000000000",
          "2021-06-27T00:00:00.000000000",
          "2021-06-28T00:00:00.000000000"
         ],
         "y": [
          293.48215,
          299.90445,
          306.3049,
          312.69595,
          319.07254,
          325.41623,
          331.70404
         ]
        },
        {
         "legendgroup": "0.001_global_00000100000",
         "legendgrouptitle": {
          "font": {
           "color": "black",
           "family": "Arial Bold",
           "size": 14
          },
          "text": "0.001_global_00000100000"
         },
         "line": {
          "color": "rgb(184, 184, 245)",
          "width": 1
         },
         "mode": "lines",
         "name": "0.001_global_00000100000",
         "showlegend": true,
         "type": "scatter",
         "x": [
          "2021-06-22T00:00:00.000000000",
          "2021-06-23T00:00:00.000000000",
          "2021-06-24T00:00:00.000000000",
          "2021-06-25T00:00:00.000000000",
          "2021-06-26T00:00:00.000000000",
          "2021-06-27T00:00:00.000000000",
          "2021-06-28T00:00:00.000000000"
         ],
         "y": [
          289.33557,
          289.35007,
          289.36633,
          289.3728,
          289.34354,
          289.27194,
          289.22278
         ]
        },
        {
         "legendgroup": "1_global_00000100000",
         "legendgrouptitle": {
          "font": {
           "color": "black",
           "family": "Arial Bold",
           "size": 14
          },
          "text": "1_global_00000100000"
         },
         "line": {
          "color": "rgb(179, 179, 245)",
          "width": 1
         },
         "mode": "lines",
         "name": "1_global_00000100000",
         "showlegend": true,
         "type": "scatter",
         "x": [
          "2021-06-22T00:00:00.000000000",
          "2021-06-23T00:00:00.000000000",
          "2021-06-24T00:00:00.000000000",
          "2021-06-25T00:00:00.000000000",
          "2021-06-26T00:00:00.000000000",
          "2021-06-27T00:00:00.000000000",
          "2021-06-28T00:00:00.000000000"
         ],
         "y": [
          289.0073,
          288.8325,
          288.98282,
          288.99136,
          288.7945,
          288.52087,
          288.2075
         ]
        },
        {
         "legendgroup": "0.001_global_00001000000",
         "legendgrouptitle": {
          "font": {
           "color": "black",
           "family": "Arial Bold",
           "size": 14
          },
          "text": "0.001_global_00001000000"
         },
         "line": {
          "color": "rgb(174, 174, 246)",
          "width": 1
         },
         "mode": "lines",
         "name": "0.001_global_00001000000",
         "showlegend": true,
         "type": "scatter",
         "x": [
          "2021-06-22T00:00:00.000000000",
          "2021-06-23T00:00:00.000000000",
          "2021-06-24T00:00:00.000000000",
          "2021-06-25T00:00:00.000000000",
          "2021-06-26T00:00:00.000000000",
          "2021-06-27T00:00:00.000000000",
          "2021-06-28T00:00:00.000000000"
         ],
         "y": [
          289.18323,
          289.08945,
          289.08136,
          289.08783,
          289.061,
          289.00494,
          288.9702
         ]
        },
        {
         "legendgroup": "1_global_00001000000",
         "legendgrouptitle": {
          "font": {
           "color": "black",
           "family": "Arial Bold",
           "size": 14
          },
          "text": "1_global_00001000000"
         },
         "line": {
          "color": "rgb(168, 168, 246)",
          "width": 1
         },
         "mode": "lines",
         "name": "1_global_00001000000",
         "showlegend": true,
         "type": "scatter",
         "x": [
          "2021-06-22T00:00:00.000000000",
          "2021-06-23T00:00:00.000000000",
          "2021-06-24T00:00:00.000000000",
          "2021-06-25T00:00:00.000000000",
          "2021-06-26T00:00:00.000000000",
          "2021-06-27T00:00:00.000000000",
          "2021-06-28T00:00:00.000000000"
         ],
         "y": [
          286.03818,
          281.72797,
          278.31012,
          274.9834,
          271.64746,
          268.26367,
          264.8946
         ]
        },
        {
         "legendgroup": "0.001_global_00010000000",
         "legendgrouptitle": {
          "font": {
           "color": "black",
           "family": "Arial Bold",
           "size": 14
          },
          "text": "0.001_global_00010000000"
         },
         "line": {
          "color": "rgb(164, 164, 246)",
          "width": 1
         },
         "mode": "lines",
         "name": "0.001_global_00010000000",
         "showlegend": true,
         "type": "scatter",
         "x": [
          "2021-06-22T00:00:00.000000000",
          "2021-06-23T00:00:00.000000000",
          "2021-06-24T00:00:00.000000000",
          "2021-06-25T00:00:00.000000000",
          "2021-06-26T00:00:00.000000000",
          "2021-06-27T00:00:00.000000000",
          "2021-06-28T00:00:00.000000000"
         ],
         "y": [
          289.33475,
          289.34946,
          289.36566,
          289.3719,
          289.34314,
          289.2717,
          289.22086
         ]
        },
        {
         "legendgroup": "1_global_00010000000",
         "legendgrouptitle": {
          "font": {
           "color": "black",
           "family": "Arial Bold",
           "size": 14
          },
          "text": "1_global_00010000000"
         },
         "line": {
          "color": "rgb(158, 158, 246)",
          "width": 1
         },
         "mode": "lines",
         "name": "1_global_00010000000",
         "showlegend": true,
         "type": "scatter",
         "x": [
          "2021-06-22T00:00:00.000000000",
          "2021-06-23T00:00:00.000000000",
          "2021-06-24T00:00:00.000000000",
          "2021-06-25T00:00:00.000000000",
          "2021-06-26T00:00:00.000000000",
          "2021-06-27T00:00:00.000000000",
          "2021-06-28T00:00:00.000000000"
         ],
         "y": [
          292.38785,
          293.2954,
          291.9,
          290.06564,
          288.33484,
          287.08084,
          286.3861
         ]
        },
        {
         "legendgroup": "0.001_global_00100000000",
         "legendgrouptitle": {
          "font": {
           "color": "black",
           "family": "Arial Bold",
           "size": 14
          },
          "text": "0.001_global_00100000000"
         },
         "line": {
          "color": "rgb(153, 153, 247)",
          "width": 1
         },
         "mode": "lines",
         "name": "0.001_global_00100000000",
         "showlegend": true,
         "type": "scatter",
         "x": [
          "2021-06-22T00:00:00.000000000",
          "2021-06-23T00:00:00.000000000",
          "2021-06-24T00:00:00.000000000",
          "2021-06-25T00:00:00.000000000",
          "2021-06-26T00:00:00.000000000",
          "2021-06-27T00:00:00.000000000",
          "2021-06-28T00:00:00.000000000"
         ],
         "y": [
          289.335,
          289.34872,
          289.36523,
          289.3712,
          289.34268,
          289.27057,
          289.22104
         ]
        },
        {
         "legendgroup": "1_global_00100000000",
         "legendgrouptitle": {
          "font": {
           "color": "black",
           "family": "Arial Bold",
           "size": 14
          },
          "text": "1_global_00100000000"
         },
         "line": {
          "color": "rgb(148, 148, 247)",
          "width": 1
         },
         "mode": "lines",
         "name": "1_global_00100000000",
         "showlegend": true,
         "type": "scatter",
         "x": [
          "2021-06-22T00:00:00.000000000",
          "2021-06-23T00:00:00.000000000",
          "2021-06-24T00:00:00.000000000",
          "2021-06-25T00:00:00.000000000",
          "2021-06-26T00:00:00.000000000",
          "2021-06-27T00:00:00.000000000",
          "2021-06-28T00:00:00.000000000"
         ],
         "y": [
          295.0796,
          295.5373,
          294.77222,
          294.48328,
          294.2689,
          294.10092,
          293.96384
         ]
        },
        {
         "legendgroup": "0.001_global_01000000000",
         "legendgrouptitle": {
          "font": {
           "color": "black",
           "family": "Arial Bold",
           "size": 14
          },
          "text": "0.001_global_01000000000"
         },
         "line": {
          "color": "rgb(143, 143, 247)",
          "width": 1
         },
         "mode": "lines",
         "name": "0.001_global_01000000000",
         "showlegend": true,
         "type": "scatter",
         "x": [
          "2021-06-22T00:00:00.000000000",
          "2021-06-23T00:00:00.000000000",
          "2021-06-24T00:00:00.000000000",
          "2021-06-25T00:00:00.000000000",
          "2021-06-26T00:00:00.000000000",
          "2021-06-27T00:00:00.000000000",
          "2021-06-28T00:00:00.000000000"
         ],
         "y": [
          289.33533,
          289.34995,
          289.36597,
          289.37244,
          289.34357,
          289.2721,
          289.22168
         ]
        },
        {
         "legendgroup": "1_global_01000000000",
         "legendgrouptitle": {
          "font": {
           "color": "black",
           "family": "Arial Bold",
           "size": 14
          },
          "text": "1_global_01000000000"
         },
         "line": {
          "color": "rgb(138, 138, 247)",
          "width": 1
         },
         "mode": "lines",
         "name": "1_global_01000000000",
         "showlegend": true,
         "type": "scatter",
         "x": [
          "2021-06-22T00:00:00.000000000",
          "2021-06-23T00:00:00.000000000",
          "2021-06-24T00:00:00.000000000",
          "2021-06-25T00:00:00.000000000",
          "2021-06-26T00:00:00.000000000",
          "2021-06-27T00:00:00.000000000",
          "2021-06-28T00:00:00.000000000"
         ],
         "y": [
          289.17157,
          289.10205,
          289.10458,
          289.11798,
          289.0994,
          289.03546,
          288.99884
         ]
        },
        {
         "legendgroup": "0.001_global_01111111111",
         "legendgrouptitle": {
          "font": {
           "color": "black",
           "family": "Arial Bold",
           "size": 14
          },
          "text": "0.001_global_01111111111"
         },
         "line": {
          "color": "rgb(132, 132, 248)",
          "width": 1
         },
         "mode": "lines",
         "name": "0.001_global_01111111111",
         "showlegend": true,
         "type": "scatter",
         "x": [
          "2021-06-22T00:00:00.000000000",
          "2021-06-23T00:00:00.000000000",
          "2021-06-24T00:00:00.000000000",
          "2021-06-25T00:00:00.000000000",
          "2021-06-26T00:00:00.000000000",
          "2021-06-27T00:00:00.000000000",
          "2021-06-28T00:00:00.000000000"
         ],
         "y": [
          289.1855,
          289.14487,
          289.17722,
          289.22302,
          289.29114,
          289.39273,
          289.57385
         ]
        },
        {
         "legendgroup": "1_global_01111111111",
         "legendgrouptitle": {
          "font": {
           "color": "black",
           "family": "Arial Bold",
           "size": 14
          },
          "text": "1_global_01111111111"
         },
         "line": {
          "color": "rgb(128, 128, 248)",
          "width": 1
         },
         "mode": "lines",
         "name": "1_global_01111111111",
         "showlegend": true,
         "type": "scatter",
         "x": [
          "2021-06-22T00:00:00.000000000",
          "2021-06-23T00:00:00.000000000",
          "2021-06-24T00:00:00.000000000",
          "2021-06-25T00:00:00.000000000",
          "2021-06-26T00:00:00.000000000",
          "2021-06-27T00:00:00.000000000",
          "2021-06-28T00:00:00.000000000"
         ],
         "y": [
          293.44815,
          299.7362,
          305.92545,
          312.01617,
          318.01,
          323.90707,
          329.70682
         ]
        },
        {
         "legendgroup": "0.001_global_10000000000",
         "legendgrouptitle": {
          "font": {
           "color": "black",
           "family": "Arial Bold",
           "size": 14
          },
          "text": "0.001_global_10000000000"
         },
         "line": {
          "color": "rgb(122, 122, 248)",
          "width": 1
         },
         "mode": "lines",
         "name": "0.001_global_10000000000",
         "showlegend": true,
         "type": "scatter",
         "x": [
          "2021-06-22T00:00:00.000000000",
          "2021-06-23T00:00:00.000000000",
          "2021-06-24T00:00:00.000000000",
          "2021-06-25T00:00:00.000000000",
          "2021-06-26T00:00:00.000000000",
          "2021-06-27T00:00:00.000000000",
          "2021-06-28T00:00:00.000000000"
         ],
         "y": [
          289.33502,
          289.34875,
          289.3654,
          289.37192,
          289.34317,
          289.27136,
          289.22076
         ]
        },
        {
         "legendgroup": "1_global_10000000000",
         "legendgrouptitle": {
          "font": {
           "color": "black",
           "family": "Arial Bold",
           "size": 14
          },
          "text": "1_global_10000000000"
         },
         "line": {
          "color": "rgb(117, 117, 248)",
          "width": 1
         },
         "mode": "lines",
         "name": "1_global_10000000000",
         "showlegend": true,
         "type": "scatter",
         "x": [
          "2021-06-22T00:00:00.000000000",
          "2021-06-23T00:00:00.000000000",
          "2021-06-24T00:00:00.000000000",
          "2021-06-25T00:00:00.000000000",
          "2021-06-26T00:00:00.000000000",
          "2021-06-27T00:00:00.000000000",
          "2021-06-28T00:00:00.000000000"
         ],
         "y": [
          289.1054,
          289.00635,
          289.00116,
          289.0112,
          288.99295,
          288.93134,
          288.89575
         ]
        },
        {
         "legendgroup": "0.001_global_10111111111",
         "legendgrouptitle": {
          "font": {
           "color": "black",
           "family": "Arial Bold",
           "size": 14
          },
          "text": "0.001_global_10111111111"
         },
         "line": {
          "color": "rgb(112, 112, 249)",
          "width": 1
         },
         "mode": "lines",
         "name": "0.001_global_10111111111",
         "showlegend": true,
         "type": "scatter",
         "x": [
          "2021-06-22T00:00:00.000000000",
          "2021-06-23T00:00:00.000000000",
          "2021-06-24T00:00:00.000000000",
          "2021-06-25T00:00:00.000000000",
          "2021-06-26T00:00:00.000000000",
          "2021-06-27T00:00:00.000000000",
          "2021-06-28T00:00:00.000000000"
         ],
         "y": [
          289.186,
          289.14673,
          289.17957,
          289.22504,
          289.29434,
          289.3941,
          289.57233
         ]
        },
        {
         "legendgroup": "1_global_10111111111",
         "legendgrouptitle": {
          "font": {
           "color": "black",
           "family": "Arial Bold",
           "size": 14
          },
          "text": "1_global_10111111111"
         },
         "line": {
          "color": "rgb(107, 107, 249)",
          "width": 1
         },
         "mode": "lines",
         "name": "1_global_10111111111",
         "showlegend": true,
         "type": "scatter",
         "x": [
          "2021-06-22T00:00:00.000000000",
          "2021-06-23T00:00:00.000000000",
          "2021-06-24T00:00:00.000000000",
          "2021-06-25T00:00:00.000000000",
          "2021-06-26T00:00:00.000000000",
          "2021-06-27T00:00:00.000000000",
          "2021-06-28T00:00:00.000000000"
         ],
         "y": [
          293.447,
          299.73355,
          305.9225,
          312.0133,
          318.0068,
          323.90375,
          329.70294
         ]
        },
        {
         "legendgroup": "0.001_global_11011111111",
         "legendgrouptitle": {
          "font": {
           "color": "black",
           "family": "Arial Bold",
           "size": 14
          },
          "text": "0.001_global_11011111111"
         },
         "line": {
          "color": "rgb(101, 101, 249)",
          "width": 1
         },
         "mode": "lines",
         "name": "0.001_global_11011111111",
         "showlegend": true,
         "type": "scatter",
         "x": [
          "2021-06-22T00:00:00.000000000",
          "2021-06-23T00:00:00.000000000",
          "2021-06-24T00:00:00.000000000",
          "2021-06-25T00:00:00.000000000",
          "2021-06-26T00:00:00.000000000",
          "2021-06-27T00:00:00.000000000",
          "2021-06-28T00:00:00.000000000"
         ],
         "y": [
          289.18982,
          289.1516,
          289.18494,
          289.23038,
          289.29962,
          289.3997,
          289.57977
         ]
        },
        {
         "legendgroup": "1_global_11011111111",
         "legendgrouptitle": {
          "font": {
           "color": "black",
           "family": "Arial Bold",
           "size": 14
          },
          "text": "1_global_11011111111"
         },
         "line": {
          "color": "rgb(97, 97, 250)",
          "width": 1
         },
         "mode": "lines",
         "name": "1_global_11011111111",
         "showlegend": true,
         "type": "scatter",
         "x": [
          "2021-06-22T00:00:00.000000000",
          "2021-06-23T00:00:00.000000000",
          "2021-06-24T00:00:00.000000000",
          "2021-06-25T00:00:00.000000000",
          "2021-06-26T00:00:00.000000000",
          "2021-06-27T00:00:00.000000000",
          "2021-06-28T00:00:00.000000000"
         ],
         "y": [
          293.41882,
          299.7091,
          305.90442,
          311.99756,
          317.99036,
          323.886,
          329.6825
         ]
        },
        {
         "legendgroup": "0.001_global_11101111111",
         "legendgrouptitle": {
          "font": {
           "color": "black",
           "family": "Arial Bold",
           "size": 14
          },
          "text": "0.001_global_11101111111"
         },
         "line": {
          "color": "rgb(92, 92, 250)",
          "width": 1
         },
         "mode": "lines",
         "name": "0.001_global_11101111111",
         "showlegend": true,
         "type": "scatter",
         "x": [
          "2021-06-22T00:00:00.000000000",
          "2021-06-23T00:00:00.000000000",
          "2021-06-24T00:00:00.000000000",
          "2021-06-25T00:00:00.000000000",
          "2021-06-26T00:00:00.000000000",
          "2021-06-27T00:00:00.000000000",
          "2021-06-28T00:00:00.000000000"
         ],
         "y": [
          289.18637,
          289.14703,
          289.1799,
          289.2243,
          289.29266,
          289.39322,
          289.57434
         ]
        },
        {
         "legendgroup": "1_global_11101111111",
         "legendgrouptitle": {
          "font": {
           "color": "black",
           "family": "Arial Bold",
           "size": 14
          },
          "text": "1_global_11101111111"
         },
         "line": {
          "color": "rgb(86, 86, 250)",
          "width": 1
         },
         "mode": "lines",
         "name": "1_global_11101111111",
         "showlegend": true,
         "type": "scatter",
         "x": [
          "2021-06-22T00:00:00.000000000",
          "2021-06-23T00:00:00.000000000",
          "2021-06-24T00:00:00.000000000",
          "2021-06-25T00:00:00.000000000",
          "2021-06-26T00:00:00.000000000",
          "2021-06-27T00:00:00.000000000",
          "2021-06-28T00:00:00.000000000"
         ],
         "y": [
          293.43997,
          299.71133,
          305.88965,
          311.97235,
          317.95706,
          323.8429,
          329.6317
         ]
        },
        {
         "legendgroup": "0.001_global_11110111111",
         "legendgrouptitle": {
          "font": {
           "color": "black",
           "family": "Arial Bold",
           "size": 14
          },
          "text": "0.001_global_11110111111"
         },
         "line": {
          "color": "rgb(82, 82, 250)",
          "width": 1
         },
         "mode": "lines",
         "name": "0.001_global_11110111111",
         "showlegend": true,
         "type": "scatter",
         "x": [
          "2021-06-22T00:00:00.000000000",
          "2021-06-23T00:00:00.000000000",
          "2021-06-24T00:00:00.000000000",
          "2021-06-25T00:00:00.000000000",
          "2021-06-26T00:00:00.000000000",
          "2021-06-27T00:00:00.000000000",
          "2021-06-28T00:00:00.000000000"
         ],
         "y": [
          289.34616,
          289.38617,
          289.4384,
          289.49738,
          289.5588,
          289.63858,
          289.75977
         ]
        },
        {
         "legendgroup": "1_global_11110111111",
         "legendgrouptitle": {
          "font": {
           "color": "black",
           "family": "Arial Bold",
           "size": 14
          },
          "text": "1_global_11110111111"
         },
         "line": {
          "color": "rgb(76, 76, 251)",
          "width": 1
         },
         "mode": "lines",
         "name": "1_global_11110111111",
         "showlegend": true,
         "type": "scatter",
         "x": [
          "2021-06-22T00:00:00.000000000",
          "2021-06-23T00:00:00.000000000",
          "2021-06-24T00:00:00.000000000",
          "2021-06-25T00:00:00.000000000",
          "2021-06-26T00:00:00.000000000",
          "2021-06-27T00:00:00.000000000",
          "2021-06-28T00:00:00.000000000"
         ],
         "y": [
          293.46243,
          299.80832,
          306.1409,
          312.47653,
          318.80542,
          325.10614,
          331.35602
         ]
        },
        {
         "legendgroup": "0.001_global_11111011111",
         "legendgrouptitle": {
          "font": {
           "color": "black",
           "family": "Arial Bold",
           "size": 14
          },
          "text": "0.001_global_11111011111"
         },
         "line": {
          "color": "rgb(71, 71, 251)",
          "width": 1
         },
         "mode": "lines",
         "name": "0.001_global_11111011111",
         "showlegend": true,
         "type": "scatter",
         "x": [
          "2021-06-22T00:00:00.000000000",
          "2021-06-23T00:00:00.000000000",
          "2021-06-24T00:00:00.000000000",
          "2021-06-25T00:00:00.000000000",
          "2021-06-26T00:00:00.000000000",
          "2021-06-27T00:00:00.000000000",
          "2021-06-28T00:00:00.000000000"
         ],
         "y": [
          289.18512,
          289.1448,
          289.17764,
          289.2241,
          289.29337,
          289.39484,
          289.57755
         ]
        },
        {
         "legendgroup": "1_global_11111011111",
         "legendgrouptitle": {
          "font": {
           "color": "black",
           "family": "Arial Bold",
           "size": 14
          },
          "text": "1_global_11111011111"
         },
         "line": {
          "color": "rgb(65, 65, 251)",
          "width": 1
         },
         "mode": "lines",
         "name": "1_global_11111011111",
         "showlegend": true,
         "type": "scatter",
         "x": [
          "2021-06-22T00:00:00.000000000",
          "2021-06-23T00:00:00.000000000",
          "2021-06-24T00:00:00.000000000",
          "2021-06-25T00:00:00.000000000",
          "2021-06-26T00:00:00.000000000",
          "2021-06-27T00:00:00.000000000",
          "2021-06-28T00:00:00.000000000"
         ],
         "y": [
          293.45877,
          299.77008,
          305.97638,
          312.07736,
          318.08105,
          323.98758,
          329.79626
         ]
        },
        {
         "legendgroup": "0.001_global_11111101111",
         "legendgrouptitle": {
          "font": {
           "color": "black",
           "family": "Arial Bold",
           "size": 14
          },
          "text": "0.001_global_11111101111"
         },
         "line": {
          "color": "rgb(61, 61, 251)",
          "width": 1
         },
         "mode": "lines",
         "name": "0.001_global_11111101111",
         "showlegend": true,
         "type": "scatter",
         "x": [
          "2021-06-22T00:00:00.000000000",
          "2021-06-23T00:00:00.000000000",
          "2021-06-24T00:00:00.000000000",
          "2021-06-25T00:00:00.000000000",
          "2021-06-26T00:00:00.000000000",
          "2021-06-27T00:00:00.000000000",
          "2021-06-28T00:00:00.000000000"
         ],
         "y": [
          289.17764,
          289.08118,
          289.07303,
          289.07922,
          289.0521,
          288.99445,
          288.95886
         ]
        },
        {
         "legendgroup": "1_global_11111101111",
         "legendgrouptitle": {
          "font": {
           "color": "black",
           "family": "Arial Bold",
           "size": 14
          },
          "text": "1_global_11111101111"
         },
         "line": {
          "color": "rgb(55, 55, 252)",
          "width": 1
         },
         "mode": "lines",
         "name": "1_global_11111101111",
         "showlegend": true,
         "type": "scatter",
         "x": [
          "2021-06-22T00:00:00.000000000",
          "2021-06-23T00:00:00.000000000",
          "2021-06-24T00:00:00.000000000",
          "2021-06-25T00:00:00.000000000",
          "2021-06-26T00:00:00.000000000",
          "2021-06-27T00:00:00.000000000",
          "2021-06-28T00:00:00.000000000"
         ],
         "y": [
          281.8952,
          270.85666,
          262.59055,
          256.69128,
          252.26353,
          248.68216,
          245.53801
         ]
        },
        {
         "legendgroup": "0.001_global_11111110111",
         "legendgrouptitle": {
          "font": {
           "color": "black",
           "family": "Arial Bold",
           "size": 14
          },
          "text": "0.001_global_11111110111"
         },
         "line": {
          "color": "rgb(50, 50, 252)",
          "width": 1
         },
         "mode": "lines",
         "name": "0.001_global_11111110111",
         "showlegend": true,
         "type": "scatter",
         "x": [
          "2021-06-22T00:00:00.000000000",
          "2021-06-23T00:00:00.000000000",
          "2021-06-24T00:00:00.000000000",
          "2021-06-25T00:00:00.000000000",
          "2021-06-26T00:00:00.000000000",
          "2021-06-27T00:00:00.000000000",
          "2021-06-28T00:00:00.000000000"
         ],
         "y": [
          289.1858,
          289.1456,
          289.1774,
          289.223,
          289.29315,
          289.39478,
          289.57895
         ]
        },
        {
         "legendgroup": "1_global_11111110111",
         "legendgrouptitle": {
          "font": {
           "color": "black",
           "family": "Arial Bold",
           "size": 14
          },
          "text": "1_global_11111110111"
         },
         "line": {
          "color": "rgb(46, 46, 252)",
          "width": 1
         },
         "mode": "lines",
         "name": "1_global_11111110111",
         "showlegend": true,
         "type": "scatter",
         "x": [
          "2021-06-22T00:00:00.000000000",
          "2021-06-23T00:00:00.000000000",
          "2021-06-24T00:00:00.000000000",
          "2021-06-25T00:00:00.000000000",
          "2021-06-26T00:00:00.000000000",
          "2021-06-27T00:00:00.000000000",
          "2021-06-28T00:00:00.000000000"
         ],
         "y": [
          293.44644,
          299.73148,
          305.91602,
          312.00302,
          317.99374,
          323.88696,
          329.683
         ]
        },
        {
         "legendgroup": "0.001_global_11111111011",
         "legendgrouptitle": {
          "font": {
           "color": "black",
           "family": "Arial Bold",
           "size": 14
          },
          "text": "0.001_global_11111111011"
         },
         "line": {
          "color": "rgb(40, 40, 252)",
          "width": 1
         },
         "mode": "lines",
         "name": "0.001_global_11111111011",
         "showlegend": true,
         "type": "scatter",
         "x": [
          "2021-06-22T00:00:00.000000000",
          "2021-06-23T00:00:00.000000000",
          "2021-06-24T00:00:00.000000000",
          "2021-06-25T00:00:00.000000000",
          "2021-06-26T00:00:00.000000000",
          "2021-06-27T00:00:00.000000000",
          "2021-06-28T00:00:00.000000000"
         ],
         "y": [
          289.1861,
          289.14682,
          289.17957,
          289.22638,
          289.29565,
          289.3944,
          289.57822
         ]
        },
        {
         "legendgroup": "1_global_11111111011",
         "legendgrouptitle": {
          "font": {
           "color": "black",
           "family": "Arial Bold",
           "size": 14
          },
          "text": "1_global_11111111011"
         },
         "line": {
          "color": "rgb(35, 35, 253)",
          "width": 1
         },
         "mode": "lines",
         "name": "1_global_11111111011",
         "showlegend": true,
         "type": "scatter",
         "x": [
          "2021-06-22T00:00:00.000000000",
          "2021-06-23T00:00:00.000000000",
          "2021-06-24T00:00:00.000000000",
          "2021-06-25T00:00:00.000000000",
          "2021-06-26T00:00:00.000000000",
          "2021-06-27T00:00:00.000000000",
          "2021-06-28T00:00:00.000000000"
         ],
         "y": [
          293.44614,
          299.73196,
          305.92172,
          312.0153,
          318.0125,
          323.9125,
          329.71423
         ]
        },
        {
         "legendgroup": "0.001_global_11111111101",
         "legendgrouptitle": {
          "font": {
           "color": "black",
           "family": "Arial Bold",
           "size": 14
          },
          "text": "0.001_global_11111111101"
         },
         "line": {
          "color": "rgb(30, 30, 253)",
          "width": 1
         },
         "mode": "lines",
         "name": "0.001_global_11111111101",
         "showlegend": true,
         "type": "scatter",
         "x": [
          "2021-06-22T00:00:00.000000000",
          "2021-06-23T00:00:00.000000000",
          "2021-06-24T00:00:00.000000000",
          "2021-06-25T00:00:00.000000000",
          "2021-06-26T00:00:00.000000000",
          "2021-06-27T00:00:00.000000000",
          "2021-06-28T00:00:00.000000000"
         ],
         "y": [
          289.18567,
          289.14548,
          289.17822,
          289.22443,
          289.29202,
          289.39175,
          289.57492
         ]
        },
        {
         "legendgroup": "1_global_11111111101",
         "legendgrouptitle": {
          "font": {
           "color": "black",
           "family": "Arial Bold",
           "size": 14
          },
          "text": "1_global_11111111101"
         },
         "line": {
          "color": "rgb(25, 25, 253)",
          "width": 1
         },
         "mode": "lines",
         "name": "1_global_11111111101",
         "showlegend": true,
         "type": "scatter",
         "x": [
          "2021-06-22T00:00:00.000000000",
          "2021-06-23T00:00:00.000000000",
          "2021-06-24T00:00:00.000000000",
          "2021-06-25T00:00:00.000000000",
          "2021-06-26T00:00:00.000000000",
          "2021-06-27T00:00:00.000000000",
          "2021-06-28T00:00:00.000000000"
         ],
         "y": [
          293.447,
          299.73456,
          305.9249,
          312.01706,
          318.01328,
          323.91217,
          329.71216
         ]
        },
        {
         "legendgroup": "0.001_global_11111111110",
         "legendgrouptitle": {
          "font": {
           "color": "black",
           "family": "Arial Bold",
           "size": 14
          },
          "text": "0.001_global_11111111110"
         },
         "line": {
          "color": "rgb(19, 19, 253)",
          "width": 1
         },
         "mode": "lines",
         "name": "0.001_global_11111111110",
         "showlegend": true,
         "type": "scatter",
         "x": [
          "2021-06-22T00:00:00.000000000",
          "2021-06-23T00:00:00.000000000",
          "2021-06-24T00:00:00.000000000",
          "2021-06-25T00:00:00.000000000",
          "2021-06-26T00:00:00.000000000",
          "2021-06-27T00:00:00.000000000",
          "2021-06-28T00:00:00.000000000"
         ],
         "y": [
          289.18594,
          289.14688,
          289.17883,
          289.22476,
          289.29285,
          289.39304,
          289.57315
         ]
        },
        {
         "legendgroup": "1_global_11111111110",
         "legendgrouptitle": {
          "font": {
           "color": "black",
           "family": "Arial Bold",
           "size": 14
          },
          "text": "1_global_11111111110"
         },
         "line": {
          "color": "rgb(15, 15, 254)",
          "width": 1
         },
         "mode": "lines",
         "name": "1_global_11111111110",
         "showlegend": true,
         "type": "scatter",
         "x": [
          "2021-06-22T00:00:00.000000000",
          "2021-06-23T00:00:00.000000000",
          "2021-06-24T00:00:00.000000000",
          "2021-06-25T00:00:00.000000000",
          "2021-06-26T00:00:00.000000000",
          "2021-06-27T00:00:00.000000000",
          "2021-06-28T00:00:00.000000000"
         ],
         "y": [
          293.45538,
          299.7546,
          305.9566,
          312.06,
          318.06467,
          323.97015,
          329.77582
         ]
        },
        {
         "legendgroup": "0.001_global_11111111111",
         "legendgrouptitle": {
          "font": {
           "color": "black",
           "family": "Arial Bold",
           "size": 14
          },
          "text": "0.001_global_11111111111"
         },
         "line": {
          "color": "rgb(9, 9, 254)",
          "width": 1
         },
         "mode": "lines",
         "name": "0.001_global_11111111111",
         "showlegend": true,
         "type": "scatter",
         "x": [
          "2021-06-22T00:00:00.000000000",
          "2021-06-23T00:00:00.000000000",
          "2021-06-24T00:00:00.000000000",
          "2021-06-25T00:00:00.000000000",
          "2021-06-26T00:00:00.000000000",
          "2021-06-27T00:00:00.000000000",
          "2021-06-28T00:00:00.000000000"
         ],
         "y": [
          289.1861,
          289.14664,
          289.1794,
          289.2245,
          289.29346,
          289.39453,
          289.5752
         ]
        },
        {
         "legendgroup": "1_global_11111111111",
         "legendgrouptitle": {
          "font": {
           "color": "black",
           "family": "Arial Bold",
           "size": 14
          },
          "text": "1_global_11111111111"
         },
         "line": {
          "color": "rgb(4, 4, 254)",
          "width": 1
         },
         "mode": "lines",
         "name": "1_global_11111111111",
         "showlegend": true,
         "type": "scatter",
         "x": [
          "2021-06-22T00:00:00.000000000",
          "2021-06-23T00:00:00.000000000",
          "2021-06-24T00:00:00.000000000",
          "2021-06-25T00:00:00.000000000",
          "2021-06-26T00:00:00.000000000",
          "2021-06-27T00:00:00.000000000",
          "2021-06-28T00:00:00.000000000"
         ],
         "y": [
          293.44656,
          299.73355,
          305.9229,
          312.01367,
          318.008,
          323.90454,
          329.70364
         ]
        },
        {
         "legendgroup": "0.001_Antarctic_00100000000",
         "legendgrouptitle": {
          "font": {
           "color": "black",
           "family": "Arial Bold",
           "size": 14
          },
          "text": "0.001_Antarctic_00100000000"
         },
         "line": {
          "color": "rgb(225, 238, 225)",
          "width": 1
         },
         "mode": "lines",
         "name": "0.001_Antarctic_00100000000",
         "showlegend": true,
         "type": "scatter",
         "x": [
          "2021-06-22T00:00:00.000000000",
          "2021-06-23T00:00:00.000000000",
          "2021-06-24T00:00:00.000000000",
          "2021-06-25T00:00:00.000000000",
          "2021-06-26T00:00:00.000000000",
          "2021-06-27T00:00:00.000000000",
          "2021-06-28T00:00:00.000000000"
         ],
         "y": [
          289.3351,
          289.3496,
          289.36597,
          289.372,
          289.34283,
          289.2725,
          289.22302
         ]
        },
        {
         "legendgroup": "1_Antarctic_00100000000",
         "legendgrouptitle": {
          "font": {
           "color": "black",
           "family": "Arial Bold",
           "size": 14
          },
          "text": "1_Antarctic_00100000000"
         },
         "line": {
          "color": "rgb(216, 233, 216)",
          "width": 1
         },
         "mode": "lines",
         "name": "1_Antarctic_00100000000",
         "showlegend": true,
         "type": "scatter",
         "x": [
          "2021-06-22T00:00:00.000000000",
          "2021-06-23T00:00:00.000000000",
          "2021-06-24T00:00:00.000000000",
          "2021-06-25T00:00:00.000000000",
          "2021-06-26T00:00:00.000000000",
          "2021-06-27T00:00:00.000000000",
          "2021-06-28T00:00:00.000000000"
         ],
         "y": [
          289.68073,
          289.78354,
          289.7715,
          289.742,
          289.672,
          289.62848,
          289.6026
         ]
        },
        {
         "legendgroup": "0.001_Arctic_00100000000",
         "legendgrouptitle": {
          "font": {
           "color": "black",
           "family": "Arial Bold",
           "size": 14
          },
          "text": "0.001_Arctic_00100000000"
         },
         "line": {
          "color": "rgb(206, 229, 206)",
          "width": 1
         },
         "mode": "lines",
         "name": "0.001_Arctic_00100000000",
         "showlegend": true,
         "type": "scatter",
         "x": [
          "2021-06-22T00:00:00.000000000",
          "2021-06-23T00:00:00.000000000",
          "2021-06-24T00:00:00.000000000",
          "2021-06-25T00:00:00.000000000",
          "2021-06-26T00:00:00.000000000",
          "2021-06-27T00:00:00.000000000",
          "2021-06-28T00:00:00.000000000"
         ],
         "y": [
          289.33502,
          289.34955,
          289.3658,
          289.3721,
          289.34268,
          289.2709,
          289.21954
         ]
        },
        {
         "legendgroup": "1_Arctic_00100000000",
         "legendgrouptitle": {
          "font": {
           "color": "black",
           "family": "Arial Bold",
           "size": 14
          },
          "text": "1_Arctic_00100000000"
         },
         "line": {
          "color": "rgb(197, 224, 197)",
          "width": 1
         },
         "mode": "lines",
         "name": "1_Arctic_00100000000",
         "showlegend": true,
         "type": "scatter",
         "x": [
          "2021-06-22T00:00:00.000000000",
          "2021-06-23T00:00:00.000000000",
          "2021-06-24T00:00:00.000000000",
          "2021-06-25T00:00:00.000000000",
          "2021-06-26T00:00:00.000000000",
          "2021-06-27T00:00:00.000000000",
          "2021-06-28T00:00:00.000000000"
         ],
         "y": [
          289.7475,
          289.80347,
          289.78143,
          289.75543,
          289.68384,
          289.59106,
          289.56097
         ]
        },
        {
         "legendgroup": "0.001_AusNZ_00100000000",
         "legendgrouptitle": {
          "font": {
           "color": "black",
           "family": "Arial Bold",
           "size": 14
          },
          "text": "0.001_AusNZ_00100000000"
         },
         "line": {
          "color": "rgb(187, 219, 187)",
          "width": 1
         },
         "mode": "lines",
         "name": "0.001_AusNZ_00100000000",
         "showlegend": true,
         "type": "scatter",
         "x": [
          "2021-06-22T00:00:00.000000000",
          "2021-06-23T00:00:00.000000000",
          "2021-06-24T00:00:00.000000000",
          "2021-06-25T00:00:00.000000000",
          "2021-06-26T00:00:00.000000000",
          "2021-06-27T00:00:00.000000000",
          "2021-06-28T00:00:00.000000000"
         ],
         "y": [
          289.33505,
          289.34955,
          289.36584,
          289.37186,
          289.34286,
          289.2712,
          289.22025
         ]
        },
        {
         "legendgroup": "1_AusNZ_00100000000",
         "legendgrouptitle": {
          "font": {
           "color": "black",
           "family": "Arial Bold",
           "size": 14
          },
          "text": "1_AusNZ_00100000000"
         },
         "line": {
          "color": "rgb(178, 215, 178)",
          "width": 1
         },
         "mode": "lines",
         "name": "1_AusNZ_00100000000",
         "showlegend": true,
         "type": "scatter",
         "x": [
          "2021-06-22T00:00:00.000000000",
          "2021-06-23T00:00:00.000000000",
          "2021-06-24T00:00:00.000000000",
          "2021-06-25T00:00:00.000000000",
          "2021-06-26T00:00:00.000000000",
          "2021-06-27T00:00:00.000000000",
          "2021-06-28T00:00:00.000000000"
         ],
         "y": [
          289.4917,
          289.54398,
          289.53915,
          289.53348,
          289.50037,
          289.42905,
          289.40216
         ]
        },
        {
         "legendgroup": "0.001_East",
         "legendgrouptitle": {
          "font": {
           "color": "black",
           "family": "Arial Bold",
           "size": 14
          },
          "text": "0.001_East"
         },
         "line": {
          "color": "rgb(169, 210, 169)",
          "width": 1
         },
         "mode": "lines",
         "name": "0.001_East",
         "showlegend": true,
         "type": "scatter",
         "x": [
          "2021-06-22T00:00:00.000000000",
          "2021-06-23T00:00:00.000000000",
          "2021-06-24T00:00:00.000000000",
          "2021-06-25T00:00:00.000000000",
          "2021-06-26T00:00:00.000000000",
          "2021-06-27T00:00:00.000000000",
          "2021-06-28T00:00:00.000000000"
         ],
         "y": [
          289.33505,
          289.3498,
          289.3655,
          289.37234,
          289.34378,
          289.27133,
          289.22067
         ]
        },
        {
         "legendgroup": "1_East",
         "legendgrouptitle": {
          "font": {
           "color": "black",
           "family": "Arial Bold",
           "size": 14
          },
          "text": "1_East"
         },
         "line": {
          "color": "rgb(160, 206, 160)",
          "width": 1
         },
         "mode": "lines",
         "name": "1_East",
         "showlegend": true,
         "type": "scatter",
         "x": [
          "2021-06-22T00:00:00.000000000",
          "2021-06-23T00:00:00.000000000",
          "2021-06-24T00:00:00.000000000",
          "2021-06-25T00:00:00.000000000",
          "2021-06-26T00:00:00.000000000",
          "2021-06-27T00:00:00.000000000",
          "2021-06-28T00:00:00.000000000"
         ],
         "y": [
          289.42963,
          289.4788,
          289.48737,
          289.4753,
          289.42166,
          289.32626,
          289.25095
         ]
        },
        {
         "legendgroup": "0.001_Europe_00100000000",
         "legendgrouptitle": {
          "font": {
           "color": "black",
           "family": "Arial Bold",
           "size": 14
          },
          "text": "0.001_Europe_00100000000"
         },
         "line": {
          "color": "rgb(149, 201, 149)",
          "width": 1
         },
         "mode": "lines",
         "name": "0.001_Europe_00100000000",
         "showlegend": true,
         "type": "scatter",
         "x": [
          "2021-06-22T00:00:00.000000000",
          "2021-06-23T00:00:00.000000000",
          "2021-06-24T00:00:00.000000000",
          "2021-06-25T00:00:00.000000000",
          "2021-06-26T00:00:00.000000000",
          "2021-06-27T00:00:00.000000000",
          "2021-06-28T00:00:00.000000000"
         ],
         "y": [
          289.33487,
          289.34897,
          289.36505,
          289.37164,
          289.34247,
          289.27078,
          289.21973
         ]
        },
        {
         "legendgroup": "1_Europe_00100000000",
         "legendgrouptitle": {
          "font": {
           "color": "black",
           "family": "Arial Bold",
           "size": 14
          },
          "text": "1_Europe_00100000000"
         },
         "line": {
          "color": "rgb(140, 196, 140)",
          "width": 1
         },
         "mode": "lines",
         "name": "1_Europe_00100000000",
         "showlegend": true,
         "type": "scatter",
         "x": [
          "2021-06-22T00:00:00.000000000",
          "2021-06-23T00:00:00.000000000",
          "2021-06-24T00:00:00.000000000",
          "2021-06-25T00:00:00.000000000",
          "2021-06-26T00:00:00.000000000",
          "2021-06-27T00:00:00.000000000",
          "2021-06-28T00:00:00.000000000"
         ],
         "y": [
          289.5191,
          289.5517,
          289.54007,
          289.52863,
          289.4964,
          289.42084,
          289.37064
         ]
        },
        {
         "legendgroup": "0.001_North",
         "legendgrouptitle": {
          "font": {
           "color": "black",
           "family": "Arial Bold",
           "size": 14
          },
          "text": "0.001_North"
         },
         "line": {
          "color": "rgb(131, 192, 131)",
          "width": 1
         },
         "mode": "lines",
         "name": "0.001_North",
         "showlegend": true,
         "type": "scatter",
         "x": [
          "2021-06-22T00:00:00.000000000",
          "2021-06-23T00:00:00.000000000",
          "2021-06-24T00:00:00.000000000",
          "2021-06-25T00:00:00.000000000",
          "2021-06-26T00:00:00.000000000",
          "2021-06-27T00:00:00.000000000",
          "2021-06-28T00:00:00.000000000"
         ],
         "y": [
          289.3351,
          289.34894,
          289.36502,
          289.37143,
          289.34222,
          289.27072,
          289.22012
         ]
        },
        {
         "legendgroup": "1_North",
         "legendgrouptitle": {
          "font": {
           "color": "black",
           "family": "Arial Bold",
           "size": 14
          },
          "text": "1_North"
         },
         "line": {
          "color": "rgb(122, 187, 122)",
          "width": 1
         },
         "mode": "lines",
         "name": "1_North",
         "showlegend": true,
         "type": "scatter",
         "x": [
          "2021-06-22T00:00:00.000000000",
          "2021-06-23T00:00:00.000000000",
          "2021-06-24T00:00:00.000000000",
          "2021-06-25T00:00:00.000000000",
          "2021-06-26T00:00:00.000000000",
          "2021-06-27T00:00:00.000000000",
          "2021-06-28T00:00:00.000000000"
         ],
         "y": [
          289.46896,
          289.4402,
          289.43915,
          289.42563,
          289.39096,
          289.32993,
          289.28558
         ]
        },
        {
         "legendgroup": "0.001_North",
         "line": {
          "color": "rgb(112, 182, 112)",
          "width": 1
         },
         "mode": "lines",
         "name": "0.001_North",
         "showlegend": true,
         "type": "scatter",
         "x": [
          "2021-06-22T00:00:00.000000000",
          "2021-06-23T00:00:00.000000000",
          "2021-06-24T00:00:00.000000000",
          "2021-06-25T00:00:00.000000000",
          "2021-06-26T00:00:00.000000000",
          "2021-06-27T00:00:00.000000000",
          "2021-06-28T00:00:00.000000000"
         ],
         "y": [
          289.335,
          289.34973,
          289.3656,
          289.37192,
          289.34222,
          289.2708,
          289.21933
         ]
        },
        {
         "legendgroup": "1_North",
         "line": {
          "color": "rgb(103, 178, 103)",
          "width": 1
         },
         "mode": "lines",
         "name": "1_North",
         "showlegend": true,
         "type": "scatter",
         "x": [
          "2021-06-22T00:00:00.000000000",
          "2021-06-23T00:00:00.000000000",
          "2021-06-24T00:00:00.000000000",
          "2021-06-25T00:00:00.000000000",
          "2021-06-26T00:00:00.000000000",
          "2021-06-27T00:00:00.000000000",
          "2021-06-28T00:00:00.000000000"
         ],
         "y": [
          289.54135,
          289.57858,
          289.57022,
          289.57867,
          289.54858,
          289.4674,
          289.40747
         ]
        },
        {
         "legendgroup": "0.001_North",
         "line": {
          "color": "rgb(93, 173, 93)",
          "width": 1
         },
         "mode": "lines",
         "name": "0.001_North",
         "showlegend": true,
         "type": "scatter",
         "x": [
          "2021-06-22T00:00:00.000000000",
          "2021-06-23T00:00:00.000000000",
          "2021-06-24T00:00:00.000000000",
          "2021-06-25T00:00:00.000000000",
          "2021-06-26T00:00:00.000000000",
          "2021-06-27T00:00:00.000000000",
          "2021-06-28T00:00:00.000000000"
         ],
         "y": [
          289.33527,
          289.34964,
          289.3659,
          289.37234,
          289.34387,
          289.27283,
          289.2217
         ]
        },
        {
         "legendgroup": "1_North",
         "line": {
          "color": "rgb(84, 169, 84)",
          "width": 1
         },
         "mode": "lines",
         "name": "1_North",
         "showlegend": true,
         "type": "scatter",
         "x": [
          "2021-06-22T00:00:00.000000000",
          "2021-06-23T00:00:00.000000000",
          "2021-06-24T00:00:00.000000000",
          "2021-06-25T00:00:00.000000000",
          "2021-06-26T00:00:00.000000000",
          "2021-06-27T00:00:00.000000000",
          "2021-06-28T00:00:00.000000000"
         ],
         "y": [
          289.73773,
          289.81546,
          289.81006,
          289.7958,
          289.74557,
          289.65735,
          289.5953
         ]
        },
        {
         "legendgroup": "0.001_Northern",
         "legendgrouptitle": {
          "font": {
           "color": "black",
           "family": "Arial Bold",
           "size": 14
          },
          "text": "0.001_Northern"
         },
         "line": {
          "color": "rgb(74, 164, 74)",
          "width": 1
         },
         "mode": "lines",
         "name": "0.001_Northern",
         "showlegend": true,
         "type": "scatter",
         "x": [
          "2021-06-22T00:00:00.000000000",
          "2021-06-23T00:00:00.000000000",
          "2021-06-24T00:00:00.000000000",
          "2021-06-25T00:00:00.000000000",
          "2021-06-26T00:00:00.000000000",
          "2021-06-27T00:00:00.000000000",
          "2021-06-28T00:00:00.000000000"
         ],
         "y": [
          289.3354,
          289.34995,
          289.3666,
          289.3723,
          289.34274,
          289.2718,
          289.2203
         ]
        },
        {
         "legendgroup": "1_Northern",
         "legendgrouptitle": {
          "font": {
           "color": "black",
           "family": "Arial Bold",
           "size": 14
          },
          "text": "1_Northern"
         },
         "line": {
          "color": "rgb(65, 160, 65)",
          "width": 1
         },
         "mode": "lines",
         "name": "1_Northern",
         "showlegend": true,
         "type": "scatter",
         "x": [
          "2021-06-22T00:00:00.000000000",
          "2021-06-23T00:00:00.000000000",
          "2021-06-24T00:00:00.000000000",
          "2021-06-25T00:00:00.000000000",
          "2021-06-26T00:00:00.000000000",
          "2021-06-27T00:00:00.000000000",
          "2021-06-28T00:00:00.000000000"
         ],
         "y": [
          291.1252,
          291.26,
          291.08658,
          290.9907,
          290.87766,
          290.7565,
          290.64673
         ]
        },
        {
         "legendgroup": "0.001_Southern",
         "legendgrouptitle": {
          "font": {
           "color": "black",
           "family": "Arial Bold",
           "size": 14
          },
          "text": "0.001_Southern"
         },
         "line": {
          "color": "rgb(56, 155, 56)",
          "width": 1
         },
         "mode": "lines",
         "name": "0.001_Southern",
         "showlegend": true,
         "type": "scatter",
         "x": [
          "2021-06-22T00:00:00.000000000",
          "2021-06-23T00:00:00.000000000",
          "2021-06-24T00:00:00.000000000",
          "2021-06-25T00:00:00.000000000",
          "2021-06-26T00:00:00.000000000",
          "2021-06-27T00:00:00.000000000",
          "2021-06-28T00:00:00.000000000"
         ],
         "y": [
          289.33508,
          289.34982,
          289.36603,
          289.3721,
          289.34314,
          289.27142,
          289.22113
         ]
        },
        {
         "legendgroup": "1_Southern",
         "legendgrouptitle": {
          "font": {
           "color": "black",
           "family": "Arial Bold",
           "size": 14
          },
          "text": "1_Southern"
         },
         "line": {
          "color": "rgb(46, 150, 46)",
          "width": 1
         },
         "mode": "lines",
         "name": "1_Southern",
         "showlegend": true,
         "type": "scatter",
         "x": [
          "2021-06-22T00:00:00.000000000",
          "2021-06-23T00:00:00.000000000",
          "2021-06-24T00:00:00.000000000",
          "2021-06-25T00:00:00.000000000",
          "2021-06-26T00:00:00.000000000",
          "2021-06-27T00:00:00.000000000",
          "2021-06-28T00:00:00.000000000"
         ],
         "y": [
          291.25546,
          291.55682,
          291.4114,
          291.3435,
          291.26068,
          291.11032,
          290.96744
         ]
        },
        {
         "legendgroup": "0.001_Tropics_00100000000",
         "legendgrouptitle": {
          "font": {
           "color": "black",
           "family": "Arial Bold",
           "size": 14
          },
          "text": "0.001_Tropics_00100000000"
         },
         "line": {
          "color": "rgb(36, 146, 36)",
          "width": 1
         },
         "mode": "lines",
         "name": "0.001_Tropics_00100000000",
         "showlegend": true,
         "type": "scatter",
         "x": [
          "2021-06-22T00:00:00.000000000",
          "2021-06-23T00:00:00.000000000",
          "2021-06-24T00:00:00.000000000",
          "2021-06-25T00:00:00.000000000",
          "2021-06-26T00:00:00.000000000",
          "2021-06-27T00:00:00.000000000",
          "2021-06-28T00:00:00.000000000"
         ],
         "y": [
          289.3348,
          289.34952,
          289.3664,
          289.3721,
          289.343,
          289.2717,
          289.22055
         ]
        },
        {
         "legendgroup": "1_Tropics_00100000000",
         "legendgrouptitle": {
          "font": {
           "color": "black",
           "family": "Arial Bold",
           "size": 14
          },
          "text": "1_Tropics_00100000000"
         },
         "line": {
          "color": "rgb(27, 141, 27)",
          "width": 1
         },
         "mode": "lines",
         "name": "1_Tropics_00100000000",
         "showlegend": true,
         "type": "scatter",
         "x": [
          "2021-06-22T00:00:00.000000000",
          "2021-06-23T00:00:00.000000000",
          "2021-06-24T00:00:00.000000000",
          "2021-06-25T00:00:00.000000000",
          "2021-06-26T00:00:00.000000000",
          "2021-06-27T00:00:00.000000000",
          "2021-06-28T00:00:00.000000000"
         ],
         "y": [
          291.19376,
          291.1556,
          290.8407,
          290.79288,
          290.75674,
          290.69568,
          290.6663
         ]
        },
        {
         "legendgroup": "0.001_global_00100000000",
         "line": {
          "color": "rgb(18, 137, 18)",
          "width": 1
         },
         "mode": "lines",
         "name": "0.001_global_00100000000",
         "showlegend": true,
         "type": "scatter",
         "x": [
          "2021-06-22T00:00:00.000000000",
          "2021-06-23T00:00:00.000000000",
          "2021-06-24T00:00:00.000000000",
          "2021-06-25T00:00:00.000000000",
          "2021-06-26T00:00:00.000000000",
          "2021-06-27T00:00:00.000000000",
          "2021-06-28T00:00:00.000000000"
         ],
         "y": [
          289.335,
          289.34872,
          289.36523,
          289.3712,
          289.34268,
          289.27057,
          289.22104
         ]
        },
        {
         "legendgroup": "1_global_00100000000",
         "line": {
          "color": "rgb(9, 132, 9)",
          "width": 1
         },
         "mode": "lines",
         "name": "1_global_00100000000",
         "showlegend": true,
         "type": "scatter",
         "x": [
          "2021-06-22T00:00:00.000000000",
          "2021-06-23T00:00:00.000000000",
          "2021-06-24T00:00:00.000000000",
          "2021-06-25T00:00:00.000000000",
          "2021-06-26T00:00:00.000000000",
          "2021-06-27T00:00:00.000000000",
          "2021-06-28T00:00:00.000000000"
         ],
         "y": [
          295.0796,
          295.5373,
          294.77222,
          294.48328,
          294.2689,
          294.10092,
          293.96384
         ]
        },
        {
         "legendgroup": "0.001_Antarctic_11011111111",
         "legendgrouptitle": {
          "font": {
           "color": "black",
           "family": "Arial Bold",
           "size": 14
          },
          "text": "0.001_Antarctic_11011111111"
         },
         "line": {
          "color": "rgb(243, 230, 230)",
          "width": 1
         },
         "mode": "lines",
         "name": "0.001_Antarctic_11011111111",
         "showlegend": true,
         "type": "scatter",
         "x": [
          "2021-06-22T00:00:00.000000000",
          "2021-06-23T00:00:00.000000000",
          "2021-06-24T00:00:00.000000000",
          "2021-06-25T00:00:00.000000000",
          "2021-06-26T00:00:00.000000000",
          "2021-06-27T00:00:00.000000000",
          "2021-06-28T00:00:00.000000000"
         ],
         "y": [
          289.33038,
          289.35495,
          289.38995,
          289.3978,
          289.34973,
          289.27176,
          289.2353
         ]
        },
        {
         "legendgroup": "1_Antarctic_11011111111",
         "legendgrouptitle": {
          "font": {
           "color": "black",
           "family": "Arial Bold",
           "size": 14
          },
          "text": "1_Antarctic_11011111111"
         },
         "line": {
          "color": "rgb(243, 221, 221)",
          "width": 1
         },
         "mode": "lines",
         "name": "1_Antarctic_11011111111",
         "showlegend": true,
         "type": "scatter",
         "x": [
          "2021-06-22T00:00:00.000000000",
          "2021-06-23T00:00:00.000000000",
          "2021-06-24T00:00:00.000000000",
          "2021-06-25T00:00:00.000000000",
          "2021-06-26T00:00:00.000000000",
          "2021-06-27T00:00:00.000000000",
          "2021-06-28T00:00:00.000000000"
         ],
         "y": [
          289.39978,
          289.4834,
          289.5846,
          289.6643,
          289.7442,
          289.83792,
          289.92154
         ]
        },
        {
         "legendgroup": "0.001_Arctic_11011111111",
         "legendgrouptitle": {
          "font": {
           "color": "black",
           "family": "Arial Bold",
           "size": 14
          },
          "text": "0.001_Arctic_11011111111"
         },
         "line": {
          "color": "rgb(244, 211, 211)",
          "width": 1
         },
         "mode": "lines",
         "name": "0.001_Arctic_11011111111",
         "showlegend": true,
         "type": "scatter",
         "x": [
          "2021-06-22T00:00:00.000000000",
          "2021-06-23T00:00:00.000000000",
          "2021-06-24T00:00:00.000000000",
          "2021-06-25T00:00:00.000000000",
          "2021-06-26T00:00:00.000000000",
          "2021-06-27T00:00:00.000000000",
          "2021-06-28T00:00:00.000000000"
         ],
         "y": [
          289.31665,
          289.31613,
          289.33292,
          289.33704,
          289.30978,
          289.2619,
          289.22772
         ]
        },
        {
         "legendgroup": "1_Arctic_11011111111",
         "legendgrouptitle": {
          "font": {
           "color": "black",
           "family": "Arial Bold",
           "size": 14
          },
          "text": "1_Arctic_11011111111"
         },
         "line": {
          "color": "rgb(244, 202, 202)",
          "width": 1
         },
         "mode": "lines",
         "name": "1_Arctic_11011111111",
         "showlegend": true,
         "type": "scatter",
         "x": [
          "2021-06-22T00:00:00.000000000",
          "2021-06-23T00:00:00.000000000",
          "2021-06-24T00:00:00.000000000",
          "2021-06-25T00:00:00.000000000",
          "2021-06-26T00:00:00.000000000",
          "2021-06-27T00:00:00.000000000",
          "2021-06-28T00:00:00.000000000"
         ],
         "y": [
          289.47806,
          289.78397,
          290.06314,
          290.3076,
          290.51422,
          290.67828,
          290.87344
         ]
        },
        {
         "legendgroup": "0.001_AusNZ_11011111111",
         "legendgrouptitle": {
          "font": {
           "color": "black",
           "family": "Arial Bold",
           "size": 14
          },
          "text": "0.001_AusNZ_11011111111"
         },
         "line": {
          "color": "rgb(245, 191, 191)",
          "width": 1
         },
         "mode": "lines",
         "name": "0.001_AusNZ_11011111111",
         "showlegend": true,
         "type": "scatter",
         "x": [
          "2021-06-22T00:00:00.000000000",
          "2021-06-23T00:00:00.000000000",
          "2021-06-24T00:00:00.000000000",
          "2021-06-25T00:00:00.000000000",
          "2021-06-26T00:00:00.000000000",
          "2021-06-27T00:00:00.000000000",
          "2021-06-28T00:00:00.000000000"
         ],
         "y": [
          289.32474,
          289.32477,
          289.3459,
          289.35938,
          289.3295,
          289.2695,
          289.22833
         ]
        },
        {
         "legendgroup": "1_AusNZ_11011111111",
         "legendgrouptitle": {
          "font": {
           "color": "black",
           "family": "Arial Bold",
           "size": 14
          },
          "text": "1_AusNZ_11011111111"
         },
         "line": {
          "color": "rgb(245, 182, 182)",
          "width": 1
         },
         "mode": "lines",
         "name": "1_AusNZ_11011111111",
         "showlegend": true,
         "type": "scatter",
         "x": [
          "2021-06-22T00:00:00.000000000",
          "2021-06-23T00:00:00.000000000",
          "2021-06-24T00:00:00.000000000",
          "2021-06-25T00:00:00.000000000",
          "2021-06-26T00:00:00.000000000",
          "2021-06-27T00:00:00.000000000",
          "2021-06-28T00:00:00.000000000"
         ],
         "y": [
          289.45456,
          289.77176,
          290.09677,
          290.42944,
          290.72458,
          290.968,
          291.2214
         ]
        },
        {
         "legendgroup": "0.001_East",
         "line": {
          "color": "rgb(246, 173, 173)",
          "width": 1
         },
         "mode": "lines",
         "name": "0.001_East",
         "showlegend": true,
         "type": "scatter",
         "x": [
          "2021-06-22T00:00:00.000000000",
          "2021-06-23T00:00:00.000000000",
          "2021-06-24T00:00:00.000000000",
          "2021-06-25T00:00:00.000000000",
          "2021-06-26T00:00:00.000000000",
          "2021-06-27T00:00:00.000000000",
          "2021-06-28T00:00:00.000000000"
         ],
         "y": [
          289.3347,
          289.3355,
          289.34518,
          289.34988,
          289.32666,
          289.25732,
          289.20874
         ]
        },
        {
         "legendgroup": "1_East",
         "line": {
          "color": "rgb(246, 163, 163)",
          "width": 1
         },
         "mode": "lines",
         "name": "1_East",
         "showlegend": true,
         "type": "scatter",
         "x": [
          "2021-06-22T00:00:00.000000000",
          "2021-06-23T00:00:00.000000000",
          "2021-06-24T00:00:00.000000000",
          "2021-06-25T00:00:00.000000000",
          "2021-06-26T00:00:00.000000000",
          "2021-06-27T00:00:00.000000000",
          "2021-06-28T00:00:00.000000000"
         ],
         "y": [
          289.32166,
          289.47086,
          289.66147,
          289.85147,
          289.98486,
          290.0775,
          290.20438
         ]
        },
        {
         "legendgroup": "0.001_Europe_11011111111",
         "legendgrouptitle": {
          "font": {
           "color": "black",
           "family": "Arial Bold",
           "size": 14
          },
          "text": "0.001_Europe_11011111111"
         },
         "line": {
          "color": "rgb(247, 153, 153)",
          "width": 1
         },
         "mode": "lines",
         "name": "0.001_Europe_11011111111",
         "showlegend": true,
         "type": "scatter",
         "x": [
          "2021-06-22T00:00:00.000000000",
          "2021-06-23T00:00:00.000000000",
          "2021-06-24T00:00:00.000000000",
          "2021-06-25T00:00:00.000000000",
          "2021-06-26T00:00:00.000000000",
          "2021-06-27T00:00:00.000000000",
          "2021-06-28T00:00:00.000000000"
         ],
         "y": [
          289.33337,
          289.34555,
          289.35416,
          289.35287,
          289.31647,
          289.25613,
          289.21664
         ]
        },
        {
         "legendgroup": "1_Europe_11011111111",
         "legendgrouptitle": {
          "font": {
           "color": "black",
           "family": "Arial Bold",
           "size": 14
          },
          "text": "1_Europe_11011111111"
         },
         "line": {
          "color": "rgb(247, 143, 143)",
          "width": 1
         },
         "mode": "lines",
         "name": "1_Europe_11011111111",
         "showlegend": true,
         "type": "scatter",
         "x": [
          "2021-06-22T00:00:00.000000000",
          "2021-06-23T00:00:00.000000000",
          "2021-06-24T00:00:00.000000000",
          "2021-06-25T00:00:00.000000000",
          "2021-06-26T00:00:00.000000000",
          "2021-06-27T00:00:00.000000000",
          "2021-06-28T00:00:00.000000000"
         ],
         "y": [
          289.45087,
          289.64648,
          289.84583,
          290.02155,
          290.16345,
          290.27026,
          290.4204
         ]
        },
        {
         "legendgroup": "0.001_North",
         "line": {
          "color": "rgb(248, 134, 134)",
          "width": 1
         },
         "mode": "lines",
         "name": "0.001_North",
         "showlegend": true,
         "type": "scatter",
         "x": [
          "2021-06-22T00:00:00.000000000",
          "2021-06-23T00:00:00.000000000",
          "2021-06-24T00:00:00.000000000",
          "2021-06-25T00:00:00.000000000",
          "2021-06-26T00:00:00.000000000",
          "2021-06-27T00:00:00.000000000",
          "2021-06-28T00:00:00.000000000"
         ],
         "y": [
          289.3283,
          289.33298,
          289.34106,
          289.3483,
          289.31885,
          289.23526,
          289.18372
         ]
        },
        {
         "legendgroup": "1_North",
         "line": {
          "color": "rgb(248, 125, 125)",
          "width": 1
         },
         "mode": "lines",
         "name": "1_North",
         "showlegend": true,
         "type": "scatter",
         "x": [
          "2021-06-22T00:00:00.000000000",
          "2021-06-23T00:00:00.000000000",
          "2021-06-24T00:00:00.000000000",
          "2021-06-25T00:00:00.000000000",
          "2021-06-26T00:00:00.000000000",
          "2021-06-27T00:00:00.000000000",
          "2021-06-28T00:00:00.000000000"
         ],
         "y": [
          289.50632,
          289.6763,
          289.858,
          290.0417,
          290.16595,
          290.251,
          290.3721
         ]
        },
        {
         "legendgroup": "0.001_North",
         "line": {
          "color": "rgb(249, 114, 114)",
          "width": 1
         },
         "mode": "lines",
         "name": "0.001_North",
         "showlegend": true,
         "type": "scatter",
         "x": [
          "2021-06-22T00:00:00.000000000",
          "2021-06-23T00:00:00.000000000",
          "2021-06-24T00:00:00.000000000",
          "2021-06-25T00:00:00.000000000",
          "2021-06-26T00:00:00.000000000",
          "2021-06-27T00:00:00.000000000",
          "2021-06-28T00:00:00.000000000"
         ],
         "y": [
          289.3259,
          289.33832,
          289.34995,
          289.3542,
          289.3231,
          289.24973,
          289.20193
         ]
        },
        {
         "legendgroup": "1_North",
         "line": {
          "color": "rgb(249, 105, 105)",
          "width": 1
         },
         "mode": "lines",
         "name": "1_North",
         "showlegend": true,
         "type": "scatter",
         "x": [
          "2021-06-22T00:00:00.000000000",
          "2021-06-23T00:00:00.000000000",
          "2021-06-24T00:00:00.000000000",
          "2021-06-25T00:00:00.000000000",
          "2021-06-26T00:00:00.000000000",
          "2021-06-27T00:00:00.000000000",
          "2021-06-28T00:00:00.000000000"
         ],
         "y": [
          289.47205,
          289.69183,
          289.88898,
          290.07285,
          290.22784,
          290.34875,
          290.49063
         ]
        },
        {
         "legendgroup": "0.001_North",
         "line": {
          "color": "rgb(250, 95, 95)",
          "width": 1
         },
         "mode": "lines",
         "name": "0.001_North",
         "showlegend": true,
         "type": "scatter",
         "x": [
          "2021-06-22T00:00:00.000000000",
          "2021-06-23T00:00:00.000000000",
          "2021-06-24T00:00:00.000000000",
          "2021-06-25T00:00:00.000000000",
          "2021-06-26T00:00:00.000000000",
          "2021-06-27T00:00:00.000000000",
          "2021-06-28T00:00:00.000000000"
         ],
         "y": [
          289.31964,
          289.3152,
          289.3077,
          289.29846,
          289.2516,
          289.15894,
          289.10965
         ]
        },
        {
         "legendgroup": "1_North",
         "line": {
          "color": "rgb(250, 86, 86)",
          "width": 1
         },
         "mode": "lines",
         "name": "1_North",
         "showlegend": true,
         "type": "scatter",
         "x": [
          "2021-06-22T00:00:00.000000000",
          "2021-06-23T00:00:00.000000000",
          "2021-06-24T00:00:00.000000000",
          "2021-06-25T00:00:00.000000000",
          "2021-06-26T00:00:00.000000000",
          "2021-06-27T00:00:00.000000000",
          "2021-06-28T00:00:00.000000000"
         ],
         "y": [
          289.55597,
          289.93332,
          290.3238,
          290.73163,
          291.09885,
          291.41748,
          291.74762
         ]
        },
        {
         "legendgroup": "0.001_Northern",
         "line": {
          "color": "rgb(251, 76, 76)",
          "width": 1
         },
         "mode": "lines",
         "name": "0.001_Northern",
         "showlegend": true,
         "type": "scatter",
         "x": [
          "2021-06-22T00:00:00.000000000",
          "2021-06-23T00:00:00.000000000",
          "2021-06-24T00:00:00.000000000",
          "2021-06-25T00:00:00.000000000",
          "2021-06-26T00:00:00.000000000",
          "2021-06-27T00:00:00.000000000",
          "2021-06-28T00:00:00.000000000"
         ],
         "y": [
          289.26553,
          289.22668,
          289.17752,
          289.143,
          289.081,
          288.9668,
          288.90836
         ]
        },
        {
         "legendgroup": "1_Northern",
         "line": {
          "color": "rgb(251, 66, 66)",
          "width": 1
         },
         "mode": "lines",
         "name": "1_Northern",
         "showlegend": true,
         "type": "scatter",
         "x": [
          "2021-06-22T00:00:00.000000000",
          "2021-06-23T00:00:00.000000000",
          "2021-06-24T00:00:00.000000000",
          "2021-06-25T00:00:00.000000000",
          "2021-06-26T00:00:00.000000000",
          "2021-06-27T00:00:00.000000000",
          "2021-06-28T00:00:00.000000000"
         ],
         "y": [
          290.45944,
          292.36346,
          294.28723,
          296.19232,
          298.03467,
          299.81927,
          301.6231
         ]
        },
        {
         "legendgroup": "0.001_Southern",
         "line": {
          "color": "rgb(252, 57, 57)",
          "width": 1
         },
         "mode": "lines",
         "name": "0.001_Southern",
         "showlegend": true,
         "type": "scatter",
         "x": [
          "2021-06-22T00:00:00.000000000",
          "2021-06-23T00:00:00.000000000",
          "2021-06-24T00:00:00.000000000",
          "2021-06-25T00:00:00.000000000",
          "2021-06-26T00:00:00.000000000",
          "2021-06-27T00:00:00.000000000",
          "2021-06-28T00:00:00.000000000"
         ],
         "y": [
          289.29477,
          289.35898,
          289.46497,
          289.52942,
          289.5117,
          289.4968,
          289.5131
         ]
        },
        {
         "legendgroup": "1_Southern",
         "line": {
          "color": "rgb(252, 47, 47)",
          "width": 1
         },
         "mode": "lines",
         "name": "1_Southern",
         "showlegend": true,
         "type": "scatter",
         "x": [
          "2021-06-22T00:00:00.000000000",
          "2021-06-23T00:00:00.000000000",
          "2021-06-24T00:00:00.000000000",
          "2021-06-25T00:00:00.000000000",
          "2021-06-26T00:00:00.000000000",
          "2021-06-27T00:00:00.000000000",
          "2021-06-28T00:00:00.000000000"
         ],
         "y": [
          290.55777,
          292.4418,
          294.277,
          296.06137,
          297.79065,
          299.4584,
          301.06073
         ]
        },
        {
         "legendgroup": "0.001_Tropics_11011111111",
         "legendgrouptitle": {
          "font": {
           "color": "black",
           "family": "Arial Bold",
           "size": 14
          },
          "text": "0.001_Tropics_11011111111"
         },
         "line": {
          "color": "rgb(253, 37, 37)",
          "width": 1
         },
         "mode": "lines",
         "name": "0.001_Tropics_11011111111",
         "showlegend": true,
         "type": "scatter",
         "x": [
          "2021-06-22T00:00:00.000000000",
          "2021-06-23T00:00:00.000000000",
          "2021-06-24T00:00:00.000000000",
          "2021-06-25T00:00:00.000000000",
          "2021-06-26T00:00:00.000000000",
          "2021-06-27T00:00:00.000000000",
          "2021-06-28T00:00:00.000000000"
         ],
         "y": [
          289.27475,
          289.2755,
          289.32092,
          289.36667,
          289.42627,
          289.47397,
          289.52612
         ]
        },
        {
         "legendgroup": "1_Tropics_11011111111",
         "legendgrouptitle": {
          "font": {
           "color": "black",
           "family": "Arial Bold",
           "size": 14
          },
          "text": "1_Tropics_11011111111"
         },
         "line": {
          "color": "rgb(253, 28, 28)",
          "width": 1
         },
         "mode": "lines",
         "name": "1_Tropics_11011111111",
         "showlegend": true,
         "type": "scatter",
         "x": [
          "2021-06-22T00:00:00.000000000",
          "2021-06-23T00:00:00.000000000",
          "2021-06-24T00:00:00.000000000",
          "2021-06-25T00:00:00.000000000",
          "2021-06-26T00:00:00.000000000",
          "2021-06-27T00:00:00.000000000",
          "2021-06-28T00:00:00.000000000"
         ],
         "y": [
          291.06183,
          293.7309,
          296.42877,
          299.13776,
          301.787,
          304.39105,
          306.95645
         ]
        },
        {
         "legendgroup": "0.001_global_11011111111",
         "line": {
          "color": "rgb(254, 18, 18)",
          "width": 1
         },
         "mode": "lines",
         "name": "0.001_global_11011111111",
         "showlegend": true,
         "type": "scatter",
         "x": [
          "2021-06-22T00:00:00.000000000",
          "2021-06-23T00:00:00.000000000",
          "2021-06-24T00:00:00.000000000",
          "2021-06-25T00:00:00.000000000",
          "2021-06-26T00:00:00.000000000",
          "2021-06-27T00:00:00.000000000",
          "2021-06-28T00:00:00.000000000"
         ],
         "y": [
          289.18982,
          289.1516,
          289.18494,
          289.23038,
          289.29962,
          289.3997,
          289.57977
         ]
        },
        {
         "legendgroup": "1_global_11011111111",
         "line": {
          "color": "rgb(254, 9, 9)",
          "width": 1
         },
         "mode": "lines",
         "name": "1_global_11011111111",
         "showlegend": true,
         "type": "scatter",
         "x": [
          "2021-06-22T00:00:00.000000000",
          "2021-06-23T00:00:00.000000000",
          "2021-06-24T00:00:00.000000000",
          "2021-06-25T00:00:00.000000000",
          "2021-06-26T00:00:00.000000000",
          "2021-06-27T00:00:00.000000000",
          "2021-06-28T00:00:00.000000000"
         ],
         "y": [
          293.41882,
          299.7091,
          305.90442,
          311.99756,
          317.99036,
          323.886,
          329.6825
         ]
        },
        {
         "legendgroup": "Ensemble Members",
         "legendgrouptitle": {
          "font": {
           "color": "black",
           "family": "Arial Bold",
           "size": 14
          },
          "text": "Ensemble Members"
         },
         "line": {
          "color": "grey",
          "width": 0.5
         },
         "mode": "lines",
         "name": "Ensemble Members",
         "opacity": 0.5,
         "showlegend": true,
         "type": "scatter",
         "x": [
          "2021-06-22T00:00:00",
          "2021-06-23T00:00:00",
          "2021-06-24T00:00:00",
          "2021-06-25T00:00:00",
          "2021-06-26T00:00:00",
          "2021-06-27T00:00:00",
          "2021-06-28T00:00:00"
         ],
         "y": [
          289.3408169020958,
          289.229704779972,
          289.2360617330832,
          289.2856577171876,
          289.31812749076073,
          289.2874254595531,
          289.282983236754
         ]
        },
        {
         "legendgroup": "Ensemble Members",
         "line": {
          "color": "grey",
          "width": 0.5
         },
         "mode": "lines",
         "opacity": 0.5,
         "showlegend": false,
         "type": "scatter",
         "x": [
          "2021-06-22T00:00:00",
          "2021-06-23T00:00:00",
          "2021-06-24T00:00:00",
          "2021-06-25T00:00:00",
          "2021-06-26T00:00:00",
          "2021-06-27T00:00:00",
          "2021-06-28T00:00:00"
         ],
         "y": [
          289.3222677914276,
          289.19564629134305,
          289.2206119730672,
          289.250187577044,
          289.3231405405639,
          289.3392333840449,
          289.2813190061905
         ]
        },
        {
         "legendgroup": "Ensemble Members",
         "line": {
          "color": "grey",
          "width": 0.5
         },
         "mode": "lines",
         "opacity": 0.5,
         "showlegend": false,
         "type": "scatter",
         "x": [
          "2021-06-22T00:00:00",
          "2021-06-23T00:00:00",
          "2021-06-24T00:00:00",
          "2021-06-25T00:00:00",
          "2021-06-26T00:00:00",
          "2021-06-27T00:00:00",
          "2021-06-28T00:00:00"
         ],
         "y": [
          289.3225455146436,
          289.2205697763405,
          289.2612416129822,
          289.2800073411046,
          289.32317207428713,
          289.3732740021562,
          289.3741864945102
         ]
        },
        {
         "legendgroup": "Ensemble Members",
         "line": {
          "color": "grey",
          "width": 0.5
         },
         "mode": "lines",
         "opacity": 0.5,
         "showlegend": false,
         "type": "scatter",
         "x": [
          "2021-06-22T00:00:00",
          "2021-06-23T00:00:00",
          "2021-06-24T00:00:00",
          "2021-06-25T00:00:00",
          "2021-06-26T00:00:00",
          "2021-06-27T00:00:00",
          "2021-06-28T00:00:00"
         ],
         "y": [
          289.3450989404606,
          289.24355347262826,
          289.269212057016,
          289.32940960414794,
          289.3652179891987,
          289.3614700595664,
          289.3509217161997
         ]
        },
        {
         "legendgroup": "Ensemble Members",
         "line": {
          "color": "grey",
          "width": 0.5
         },
         "mode": "lines",
         "opacity": 0.5,
         "showlegend": false,
         "type": "scatter",
         "x": [
          "2021-06-22T00:00:00",
          "2021-06-23T00:00:00",
          "2021-06-24T00:00:00",
          "2021-06-25T00:00:00",
          "2021-06-26T00:00:00",
          "2021-06-27T00:00:00",
          "2021-06-28T00:00:00"
         ],
         "y": [
          289.34646788726457,
          289.2263048021261,
          289.2419995205721,
          289.30546215155306,
          289.33937878874855,
          289.320442565399,
          289.30315904570915
         ]
        },
        {
         "legendgroup": "Ensemble Members",
         "line": {
          "color": "grey",
          "width": 0.5
         },
         "mode": "lines",
         "opacity": 0.5,
         "showlegend": false,
         "type": "scatter",
         "x": [
          "2021-06-22T00:00:00",
          "2021-06-23T00:00:00",
          "2021-06-24T00:00:00",
          "2021-06-25T00:00:00",
          "2021-06-26T00:00:00",
          "2021-06-27T00:00:00",
          "2021-06-28T00:00:00"
         ],
         "y": [
          289.3584167942402,
          289.22746679887547,
          289.2214448310758,
          289.26099924337467,
          289.30170301859727,
          289.31817063877776,
          289.30867893398175
         ]
        },
        {
         "legendgroup": "Ensemble Members",
         "line": {
          "color": "grey",
          "width": 0.5
         },
         "mode": "lines",
         "opacity": 0.5,
         "showlegend": false,
         "type": "scatter",
         "x": [
          "2021-06-22T00:00:00",
          "2021-06-23T00:00:00",
          "2021-06-24T00:00:00",
          "2021-06-25T00:00:00",
          "2021-06-26T00:00:00",
          "2021-06-27T00:00:00",
          "2021-06-28T00:00:00"
         ],
         "y": [
          289.33020020086684,
          289.19858009036267,
          289.20907069962936,
          289.2614964052596,
          289.3398758699251,
          289.3470858527907,
          289.282149699979
         ]
        },
        {
         "legendgroup": "Ensemble Members",
         "line": {
          "color": "grey",
          "width": 0.5
         },
         "mode": "lines",
         "opacity": 0.5,
         "showlegend": false,
         "type": "scatter",
         "x": [
          "2021-06-22T00:00:00",
          "2021-06-23T00:00:00",
          "2021-06-24T00:00:00",
          "2021-06-25T00:00:00",
          "2021-06-26T00:00:00",
          "2021-06-27T00:00:00",
          "2021-06-28T00:00:00"
         ],
         "y": [
          289.33930727034357,
          289.2206209758742,
          289.26446533399303,
          289.314696593273,
          289.31634430392364,
          289.2864973740371,
          289.2603660793958
         ]
        },
        {
         "legendgroup": "Ensemble Members",
         "line": {
          "color": "grey",
          "width": 0.5
         },
         "mode": "lines",
         "opacity": 0.5,
         "showlegend": false,
         "type": "scatter",
         "x": [
          "2021-06-22T00:00:00",
          "2021-06-23T00:00:00",
          "2021-06-24T00:00:00",
          "2021-06-25T00:00:00",
          "2021-06-26T00:00:00",
          "2021-06-27T00:00:00",
          "2021-06-28T00:00:00"
         ],
         "y": [
          289.3317600440653,
          289.2054682003863,
          289.2163066487459,
          289.2790520800986,
          289.3422575882586,
          289.34829942863456,
          289.3427594277833
         ]
        },
        {
         "legendgroup": "Ensemble Members",
         "line": {
          "color": "grey",
          "width": 0.5
         },
         "mode": "lines",
         "opacity": 0.5,
         "showlegend": false,
         "type": "scatter",
         "x": [
          "2021-06-22T00:00:00",
          "2021-06-23T00:00:00",
          "2021-06-24T00:00:00",
          "2021-06-25T00:00:00",
          "2021-06-26T00:00:00",
          "2021-06-27T00:00:00",
          "2021-06-28T00:00:00"
         ],
         "y": [
          289.31627954406275,
          289.2103197594422,
          289.2478169392522,
          289.28228777582945,
          289.32144616763753,
          289.30556333072127,
          289.2537338027767
         ]
        },
        {
         "legendgroup": "Ensemble Members",
         "line": {
          "color": "grey",
          "width": 0.5
         },
         "mode": "lines",
         "opacity": 0.5,
         "showlegend": false,
         "type": "scatter",
         "x": [
          "2021-06-22T00:00:00",
          "2021-06-23T00:00:00",
          "2021-06-24T00:00:00",
          "2021-06-25T00:00:00",
          "2021-06-26T00:00:00",
          "2021-06-27T00:00:00",
          "2021-06-28T00:00:00"
         ],
         "y": [
          289.3322969683356,
          289.20396482663915,
          289.24620657705105,
          289.30135189495485,
          289.35236112156286,
          289.34951509518805,
          289.3017153768474
         ]
        },
        {
         "legendgroup": "Ensemble Members",
         "line": {
          "color": "grey",
          "width": 0.5
         },
         "mode": "lines",
         "opacity": 0.5,
         "showlegend": false,
         "type": "scatter",
         "x": [
          "2021-06-22T00:00:00",
          "2021-06-23T00:00:00",
          "2021-06-24T00:00:00",
          "2021-06-25T00:00:00",
          "2021-06-26T00:00:00",
          "2021-06-27T00:00:00",
          "2021-06-28T00:00:00"
         ],
         "y": [
          289.3317165951864,
          289.2180387107018,
          289.25592916303646,
          289.30194116608465,
          289.3264177965785,
          289.30849226188093,
          289.27647543118593
         ]
        },
        {
         "legendgroup": "Ensemble Members",
         "line": {
          "color": "grey",
          "width": 0.5
         },
         "mode": "lines",
         "opacity": 0.5,
         "showlegend": false,
         "type": "scatter",
         "x": [
          "2021-06-22T00:00:00",
          "2021-06-23T00:00:00",
          "2021-06-24T00:00:00",
          "2021-06-25T00:00:00",
          "2021-06-26T00:00:00",
          "2021-06-27T00:00:00",
          "2021-06-28T00:00:00"
         ],
         "y": [
          289.320196702135,
          289.20185453439336,
          289.2279281464465,
          289.2716621283619,
          289.28893027914467,
          289.26483126260854,
          289.25096689600446
         ]
        },
        {
         "legendgroup": "Ensemble Members",
         "line": {
          "color": "grey",
          "width": 0.5
         },
         "mode": "lines",
         "opacity": 0.5,
         "showlegend": false,
         "type": "scatter",
         "x": [
          "2021-06-22T00:00:00",
          "2021-06-23T00:00:00",
          "2021-06-24T00:00:00",
          "2021-06-25T00:00:00",
          "2021-06-26T00:00:00",
          "2021-06-27T00:00:00",
          "2021-06-28T00:00:00"
         ],
         "y": [
          289.3438391394967,
          289.22092134949764,
          289.2267805526387,
          289.2717222196831,
          289.32781601051346,
          289.33324888068387,
          289.29525013115295
         ]
        },
        {
         "legendgroup": "Ensemble Members",
         "line": {
          "color": "grey",
          "width": 0.5
         },
         "mode": "lines",
         "opacity": 0.5,
         "showlegend": false,
         "type": "scatter",
         "x": [
          "2021-06-22T00:00:00",
          "2021-06-23T00:00:00",
          "2021-06-24T00:00:00",
          "2021-06-25T00:00:00",
          "2021-06-26T00:00:00",
          "2021-06-27T00:00:00",
          "2021-06-28T00:00:00"
         ],
         "y": [
          289.32818962563175,
          289.1854594649928,
          289.20491061419597,
          289.2733918278459,
          289.31887980237764,
          289.32655149284875,
          289.27810028793255
         ]
        },
        {
         "legendgroup": "Ensemble Members",
         "line": {
          "color": "grey",
          "width": 0.5
         },
         "mode": "lines",
         "opacity": 0.5,
         "showlegend": false,
         "type": "scatter",
         "x": [
          "2021-06-22T00:00:00",
          "2021-06-23T00:00:00",
          "2021-06-24T00:00:00",
          "2021-06-25T00:00:00",
          "2021-06-26T00:00:00",
          "2021-06-27T00:00:00",
          "2021-06-28T00:00:00"
         ],
         "y": [
          289.3262905944301,
          289.188766612101,
          289.1902061198733,
          289.2677737632681,
          289.3653508275217,
          289.364189441671,
          289.348933828049
         ]
        },
        {
         "legendgroup": "Ensemble Members",
         "line": {
          "color": "grey",
          "width": 0.5
         },
         "mode": "lines",
         "opacity": 0.5,
         "showlegend": false,
         "type": "scatter",
         "x": [
          "2021-06-22T00:00:00",
          "2021-06-23T00:00:00",
          "2021-06-24T00:00:00",
          "2021-06-25T00:00:00",
          "2021-06-26T00:00:00",
          "2021-06-27T00:00:00",
          "2021-06-28T00:00:00"
         ],
         "y": [
          289.3303837242543,
          289.2261727802704,
          289.2317647546299,
          289.26997317921894,
          289.3250263482362,
          289.32343130274216,
          289.3257163491461
         ]
        },
        {
         "legendgroup": "Ensemble Members",
         "line": {
          "color": "grey",
          "width": 0.5
         },
         "mode": "lines",
         "opacity": 0.5,
         "showlegend": false,
         "type": "scatter",
         "x": [
          "2021-06-22T00:00:00",
          "2021-06-23T00:00:00",
          "2021-06-24T00:00:00",
          "2021-06-25T00:00:00",
          "2021-06-26T00:00:00",
          "2021-06-27T00:00:00",
          "2021-06-28T00:00:00"
         ],
         "y": [
          289.3331178315097,
          289.22733048066243,
          289.23468855144864,
          289.28818433570746,
          289.3398820875588,
          289.3437004301006,
          289.31017027222686
         ]
        },
        {
         "legendgroup": "Ensemble Members",
         "line": {
          "color": "grey",
          "width": 0.5
         },
         "mode": "lines",
         "opacity": 0.5,
         "showlegend": false,
         "type": "scatter",
         "x": [
          "2021-06-22T00:00:00",
          "2021-06-23T00:00:00",
          "2021-06-24T00:00:00",
          "2021-06-25T00:00:00",
          "2021-06-26T00:00:00",
          "2021-06-27T00:00:00",
          "2021-06-28T00:00:00"
         ],
         "y": [
          289.327710088039,
          289.2073446000392,
          289.22838017124883,
          289.24872353254136,
          289.3141853355748,
          289.3531636465639,
          289.32182531451497
         ]
        },
        {
         "legendgroup": "Ensemble Members",
         "line": {
          "color": "grey",
          "width": 0.5
         },
         "mode": "lines",
         "opacity": 0.5,
         "showlegend": false,
         "type": "scatter",
         "x": [
          "2021-06-22T00:00:00",
          "2021-06-23T00:00:00",
          "2021-06-24T00:00:00",
          "2021-06-25T00:00:00",
          "2021-06-26T00:00:00",
          "2021-06-27T00:00:00",
          "2021-06-28T00:00:00"
         ],
         "y": [
          289.33150248494024,
          289.22389945753525,
          289.2306203804308,
          289.28588500488286,
          289.35833613200214,
          289.37808480776783,
          289.3838639924792
         ]
        },
        {
         "legendgroup": "Ensemble Members",
         "line": {
          "color": "grey",
          "width": 0.5
         },
         "mode": "lines",
         "opacity": 0.5,
         "showlegend": false,
         "type": "scatter",
         "x": [
          "2021-06-22T00:00:00",
          "2021-06-23T00:00:00",
          "2021-06-24T00:00:00",
          "2021-06-25T00:00:00",
          "2021-06-26T00:00:00",
          "2021-06-27T00:00:00",
          "2021-06-28T00:00:00"
         ],
         "y": [
          289.30659482552466,
          289.21246627260115,
          289.23120381394733,
          289.2940298683949,
          289.37518139429034,
          289.4070166593829,
          289.3855478414047
         ]
        },
        {
         "legendgroup": "Ensemble Members",
         "line": {
          "color": "grey",
          "width": 0.5
         },
         "mode": "lines",
         "opacity": 0.5,
         "showlegend": false,
         "type": "scatter",
         "x": [
          "2021-06-22T00:00:00",
          "2021-06-23T00:00:00",
          "2021-06-24T00:00:00",
          "2021-06-25T00:00:00",
          "2021-06-26T00:00:00",
          "2021-06-27T00:00:00",
          "2021-06-28T00:00:00"
         ],
         "y": [
          289.3454646070346,
          289.21467100655735,
          289.2312103136761,
          289.305672961468,
          289.35962199575414,
          289.3778840730106,
          289.34377724819757
         ]
        },
        {
         "legendgroup": "Ensemble Members",
         "line": {
          "color": "grey",
          "width": 0.5
         },
         "mode": "lines",
         "opacity": 0.5,
         "showlegend": false,
         "type": "scatter",
         "x": [
          "2021-06-22T00:00:00",
          "2021-06-23T00:00:00",
          "2021-06-24T00:00:00",
          "2021-06-25T00:00:00",
          "2021-06-26T00:00:00",
          "2021-06-27T00:00:00",
          "2021-06-28T00:00:00"
         ],
         "y": [
          289.32416566566786,
          289.2139056911538,
          289.2445936243739,
          289.28006625754784,
          289.32361724570444,
          289.32179927204925,
          289.26427850943696
         ]
        },
        {
         "legendgroup": "Ensemble Members",
         "line": {
          "color": "grey",
          "width": 0.5
         },
         "mode": "lines",
         "opacity": 0.5,
         "showlegend": false,
         "type": "scatter",
         "x": [
          "2021-06-22T00:00:00",
          "2021-06-23T00:00:00",
          "2021-06-24T00:00:00",
          "2021-06-25T00:00:00",
          "2021-06-26T00:00:00",
          "2021-06-27T00:00:00",
          "2021-06-28T00:00:00"
         ],
         "y": [
          289.31869273726807,
          289.2100221583292,
          289.2134981375949,
          289.26701098246485,
          289.3286892434453,
          289.3253722390256,
          289.28210561916444
         ]
        },
        {
         "legendgroup": "Ensemble Members",
         "line": {
          "color": "grey",
          "width": 0.5
         },
         "mode": "lines",
         "opacity": 0.5,
         "showlegend": false,
         "type": "scatter",
         "x": [
          "2021-06-22T00:00:00",
          "2021-06-23T00:00:00",
          "2021-06-24T00:00:00",
          "2021-06-25T00:00:00",
          "2021-06-26T00:00:00",
          "2021-06-27T00:00:00",
          "2021-06-28T00:00:00"
         ],
         "y": [
          289.3291798159673,
          289.22154051897155,
          289.21729795389757,
          289.2857389694115,
          289.35327491547895,
          289.3338045022854,
          289.35045929606815
         ]
        },
        {
         "legendgroup": "Ensemble Members",
         "line": {
          "color": "grey",
          "width": 0.5
         },
         "mode": "lines",
         "opacity": 0.5,
         "showlegend": false,
         "type": "scatter",
         "x": [
          "2021-06-22T00:00:00",
          "2021-06-23T00:00:00",
          "2021-06-24T00:00:00",
          "2021-06-25T00:00:00",
          "2021-06-26T00:00:00",
          "2021-06-27T00:00:00",
          "2021-06-28T00:00:00"
         ],
         "y": [
          289.3410691912968,
          289.2413799849209,
          289.2510657132367,
          289.28233291547565,
          289.3228159709962,
          289.33262390725383,
          289.3349785701069
         ]
        },
        {
         "legendgroup": "Ensemble Members",
         "line": {
          "color": "grey",
          "width": 0.5
         },
         "mode": "lines",
         "opacity": 0.5,
         "showlegend": false,
         "type": "scatter",
         "x": [
          "2021-06-22T00:00:00",
          "2021-06-23T00:00:00",
          "2021-06-24T00:00:00",
          "2021-06-25T00:00:00",
          "2021-06-26T00:00:00",
          "2021-06-27T00:00:00",
          "2021-06-28T00:00:00"
         ],
         "y": [
          289.32493430524204,
          289.222010981306,
          289.2449731326716,
          289.28539170216135,
          289.33801651474255,
          289.3552833412125,
          289.35309516054946
         ]
        },
        {
         "legendgroup": "Ensemble Members",
         "line": {
          "color": "grey",
          "width": 0.5
         },
         "mode": "lines",
         "opacity": 0.5,
         "showlegend": false,
         "type": "scatter",
         "x": [
          "2021-06-22T00:00:00",
          "2021-06-23T00:00:00",
          "2021-06-24T00:00:00",
          "2021-06-25T00:00:00",
          "2021-06-26T00:00:00",
          "2021-06-27T00:00:00",
          "2021-06-28T00:00:00"
         ],
         "y": [
          289.36853508149096,
          289.25144321107126,
          289.24867404001276,
          289.27358001298194,
          289.3587917795231,
          289.3730813293985,
          289.367380992394
         ]
        },
        {
         "legendgroup": "Ensemble Members",
         "line": {
          "color": "grey",
          "width": 0.5
         },
         "mode": "lines",
         "opacity": 0.5,
         "showlegend": false,
         "type": "scatter",
         "x": [
          "2021-06-22T00:00:00",
          "2021-06-23T00:00:00",
          "2021-06-24T00:00:00",
          "2021-06-25T00:00:00",
          "2021-06-26T00:00:00",
          "2021-06-27T00:00:00",
          "2021-06-28T00:00:00"
         ],
         "y": [
          289.3671911744256,
          289.2314304258149,
          289.2493771134176,
          289.29169278255983,
          289.34663672725964,
          289.3148817415145,
          289.2629661815002
         ]
        },
        {
         "legendgroup": "Ensemble Members",
         "line": {
          "color": "grey",
          "width": 0.5
         },
         "mode": "lines",
         "opacity": 0.5,
         "showlegend": false,
         "type": "scatter",
         "x": [
          "2021-06-22T00:00:00",
          "2021-06-23T00:00:00",
          "2021-06-24T00:00:00",
          "2021-06-25T00:00:00",
          "2021-06-26T00:00:00",
          "2021-06-27T00:00:00",
          "2021-06-28T00:00:00"
         ],
         "y": [
          289.35347457783377,
          289.1991761766157,
          289.201245647043,
          289.2457439947382,
          289.3063541769323,
          289.34399476857806,
          289.328903470799
         ]
        },
        {
         "legendgroup": "Ensemble Members",
         "line": {
          "color": "grey",
          "width": 0.5
         },
         "mode": "lines",
         "opacity": 0.5,
         "showlegend": false,
         "type": "scatter",
         "x": [
          "2021-06-22T00:00:00",
          "2021-06-23T00:00:00",
          "2021-06-24T00:00:00",
          "2021-06-25T00:00:00",
          "2021-06-26T00:00:00",
          "2021-06-27T00:00:00",
          "2021-06-28T00:00:00"
         ],
         "y": [
          289.3421631148781,
          289.2177831439912,
          289.21370360733465,
          289.26811539902116,
          289.34258904997336,
          289.34591298345066,
          289.31736812208305
         ]
        },
        {
         "legendgroup": "Ensemble Members",
         "line": {
          "color": "grey",
          "width": 0.5
         },
         "mode": "lines",
         "opacity": 0.5,
         "showlegend": false,
         "type": "scatter",
         "x": [
          "2021-06-22T00:00:00",
          "2021-06-23T00:00:00",
          "2021-06-24T00:00:00",
          "2021-06-25T00:00:00",
          "2021-06-26T00:00:00",
          "2021-06-27T00:00:00",
          "2021-06-28T00:00:00"
         ],
         "y": [
          289.3288989028028,
          289.2077840331206,
          289.21327178792853,
          289.25064311278845,
          289.2846261479177,
          289.2795086804887,
          289.25653759178516
         ]
        },
        {
         "legendgroup": "Ensemble Members",
         "line": {
          "color": "grey",
          "width": 0.5
         },
         "mode": "lines",
         "opacity": 0.5,
         "showlegend": false,
         "type": "scatter",
         "x": [
          "2021-06-22T00:00:00",
          "2021-06-23T00:00:00",
          "2021-06-24T00:00:00",
          "2021-06-25T00:00:00",
          "2021-06-26T00:00:00",
          "2021-06-27T00:00:00",
          "2021-06-28T00:00:00"
         ],
         "y": [
          289.3434436351564,
          289.22754642623335,
          289.25156868744887,
          289.3058069883049,
          289.37352920655974,
          289.36999460394264,
          289.31072336204875
         ]
        },
        {
         "legendgroup": "Ensemble Members",
         "line": {
          "color": "grey",
          "width": 0.5
         },
         "mode": "lines",
         "opacity": 0.5,
         "showlegend": false,
         "type": "scatter",
         "x": [
          "2021-06-22T00:00:00",
          "2021-06-23T00:00:00",
          "2021-06-24T00:00:00",
          "2021-06-25T00:00:00",
          "2021-06-26T00:00:00",
          "2021-06-27T00:00:00",
          "2021-06-28T00:00:00"
         ],
         "y": [
          289.32756362761535,
          289.2243402025127,
          289.2386180479347,
          289.2809970459302,
          289.33210069270547,
          289.3600267769953,
          289.3241958379531
         ]
        },
        {
         "legendgroup": "Ensemble Members",
         "line": {
          "color": "grey",
          "width": 0.5
         },
         "mode": "lines",
         "opacity": 0.5,
         "showlegend": false,
         "type": "scatter",
         "x": [
          "2021-06-22T00:00:00",
          "2021-06-23T00:00:00",
          "2021-06-24T00:00:00",
          "2021-06-25T00:00:00",
          "2021-06-26T00:00:00",
          "2021-06-27T00:00:00",
          "2021-06-28T00:00:00"
         ],
         "y": [
          289.3440290421921,
          289.2157570740433,
          289.2407506412042,
          289.3016495125486,
          289.35472992344995,
          289.3539571607218,
          289.33862209448023
         ]
        },
        {
         "legendgroup": "Ensemble Members",
         "line": {
          "color": "grey",
          "width": 0.5
         },
         "mode": "lines",
         "opacity": 0.5,
         "showlegend": false,
         "type": "scatter",
         "x": [
          "2021-06-22T00:00:00",
          "2021-06-23T00:00:00",
          "2021-06-24T00:00:00",
          "2021-06-25T00:00:00",
          "2021-06-26T00:00:00",
          "2021-06-27T00:00:00",
          "2021-06-28T00:00:00"
         ],
         "y": [
          289.34167945888134,
          289.2331696233231,
          289.27494918359633,
          289.3077428849118,
          289.360172134356,
          289.37820985579424,
          289.3055613066062
         ]
        },
        {
         "legendgroup": "Ensemble Members",
         "line": {
          "color": "grey",
          "width": 0.5
         },
         "mode": "lines",
         "opacity": 0.5,
         "showlegend": false,
         "type": "scatter",
         "x": [
          "2021-06-22T00:00:00",
          "2021-06-23T00:00:00",
          "2021-06-24T00:00:00",
          "2021-06-25T00:00:00",
          "2021-06-26T00:00:00",
          "2021-06-27T00:00:00",
          "2021-06-28T00:00:00"
         ],
         "y": [
          289.35245081371966,
          289.2138017026348,
          289.22457213310486,
          289.25457901664913,
          289.3013417344477,
          289.288045565143,
          289.30039313586275
         ]
        },
        {
         "legendgroup": "Ensemble Members",
         "line": {
          "color": "grey",
          "width": 0.5
         },
         "mode": "lines",
         "opacity": 0.5,
         "showlegend": false,
         "type": "scatter",
         "x": [
          "2021-06-22T00:00:00",
          "2021-06-23T00:00:00",
          "2021-06-24T00:00:00",
          "2021-06-25T00:00:00",
          "2021-06-26T00:00:00",
          "2021-06-27T00:00:00",
          "2021-06-28T00:00:00"
         ],
         "y": [
          289.3477237716375,
          289.2614838335667,
          289.27044801411233,
          289.29119805520304,
          289.3523216136461,
          289.363841868174,
          289.36110879069383
         ]
        },
        {
         "legendgroup": "Ensemble Members",
         "line": {
          "color": "grey",
          "width": 0.5
         },
         "mode": "lines",
         "opacity": 0.5,
         "showlegend": false,
         "type": "scatter",
         "x": [
          "2021-06-22T00:00:00",
          "2021-06-23T00:00:00",
          "2021-06-24T00:00:00",
          "2021-06-25T00:00:00",
          "2021-06-26T00:00:00",
          "2021-06-27T00:00:00",
          "2021-06-28T00:00:00"
         ],
         "y": [
          289.34820616596363,
          289.21530630746923,
          289.1939645918761,
          289.2097589494223,
          289.2904118092425,
          289.30592745482846,
          289.2529284429646
         ]
        },
        {
         "legendgroup": "Ensemble Members",
         "line": {
          "color": "grey",
          "width": 0.5
         },
         "mode": "lines",
         "opacity": 0.5,
         "showlegend": false,
         "type": "scatter",
         "x": [
          "2021-06-22T00:00:00",
          "2021-06-23T00:00:00",
          "2021-06-24T00:00:00",
          "2021-06-25T00:00:00",
          "2021-06-26T00:00:00",
          "2021-06-27T00:00:00",
          "2021-06-28T00:00:00"
         ],
         "y": [
          289.3265615770708,
          289.20813184765274,
          289.2127724070765,
          289.295451182102,
          289.34297305618355,
          289.3270830487014,
          289.31411359459827
         ]
        },
        {
         "legendgroup": "Ensemble Members",
         "line": {
          "color": "grey",
          "width": 0.5
         },
         "mode": "lines",
         "opacity": 0.5,
         "showlegend": false,
         "type": "scatter",
         "x": [
          "2021-06-22T00:00:00",
          "2021-06-23T00:00:00",
          "2021-06-24T00:00:00",
          "2021-06-25T00:00:00",
          "2021-06-26T00:00:00",
          "2021-06-27T00:00:00",
          "2021-06-28T00:00:00"
         ],
         "y": [
          289.3445074137769,
          289.2108277003482,
          289.2391899147411,
          289.2726835346719,
          289.31914198853957,
          289.31934224840074,
          289.2735626326701
         ]
        },
        {
         "legendgroup": "Ensemble Members",
         "line": {
          "color": "grey",
          "width": 0.5
         },
         "mode": "lines",
         "opacity": 0.5,
         "showlegend": false,
         "type": "scatter",
         "x": [
          "2021-06-22T00:00:00",
          "2021-06-23T00:00:00",
          "2021-06-24T00:00:00",
          "2021-06-25T00:00:00",
          "2021-06-26T00:00:00",
          "2021-06-27T00:00:00",
          "2021-06-28T00:00:00"
         ],
         "y": [
          289.3270477152177,
          289.2036856512033,
          289.21005885957373,
          289.24861266320175,
          289.2824606273779,
          289.27702825981095,
          289.23887251386236
         ]
        },
        {
         "legendgroup": "Ensemble Members",
         "line": {
          "color": "grey",
          "width": 0.5
         },
         "mode": "lines",
         "opacity": 0.5,
         "showlegend": false,
         "type": "scatter",
         "x": [
          "2021-06-22T00:00:00",
          "2021-06-23T00:00:00",
          "2021-06-24T00:00:00",
          "2021-06-25T00:00:00",
          "2021-06-26T00:00:00",
          "2021-06-27T00:00:00",
          "2021-06-28T00:00:00"
         ],
         "y": [
          289.31654120930796,
          289.2193896308859,
          289.21679570587384,
          289.28643218168816,
          289.3505582503187,
          289.3753039565048,
          289.38423112278826
         ]
        },
        {
         "legendgroup": "Ensemble Members",
         "line": {
          "color": "grey",
          "width": 0.5
         },
         "mode": "lines",
         "opacity": 0.5,
         "showlegend": false,
         "type": "scatter",
         "x": [
          "2021-06-22T00:00:00",
          "2021-06-23T00:00:00",
          "2021-06-24T00:00:00",
          "2021-06-25T00:00:00",
          "2021-06-26T00:00:00",
          "2021-06-27T00:00:00",
          "2021-06-28T00:00:00"
         ],
         "y": [
          289.3270458640668,
          289.1965421565085,
          289.20829974177786,
          289.2555128488193,
          289.3021003646711,
          289.2831313130421,
          289.24880254602465
         ]
        },
        {
         "legendgroup": "Ensemble Members",
         "line": {
          "color": "grey",
          "width": 0.5
         },
         "mode": "lines",
         "opacity": 0.5,
         "showlegend": false,
         "type": "scatter",
         "x": [
          "2021-06-22T00:00:00",
          "2021-06-23T00:00:00",
          "2021-06-24T00:00:00",
          "2021-06-25T00:00:00",
          "2021-06-26T00:00:00",
          "2021-06-27T00:00:00",
          "2021-06-28T00:00:00"
         ],
         "y": [
          289.340849126572,
          289.2180843853966,
          289.1985057375648,
          289.25508222351766,
          289.3125012405949,
          289.3020608589079,
          289.26740543875854
         ]
        },
        {
         "legendgroup": "Ensemble Members",
         "line": {
          "color": "grey",
          "width": 0.5
         },
         "mode": "lines",
         "opacity": 0.5,
         "showlegend": false,
         "type": "scatter",
         "x": [
          "2021-06-22T00:00:00",
          "2021-06-23T00:00:00",
          "2021-06-24T00:00:00",
          "2021-06-25T00:00:00",
          "2021-06-26T00:00:00",
          "2021-06-27T00:00:00",
          "2021-06-28T00:00:00"
         ],
         "y": [
          289.3349014335487,
          289.2061821834296,
          289.22706991255734,
          289.25786947544964,
          289.32396792134386,
          289.3279001731078,
          289.32158108905753
         ]
        },
        {
         "legendgroup": "Ensemble Members",
         "line": {
          "color": "grey",
          "width": 0.5
         },
         "mode": "lines",
         "opacity": 0.5,
         "showlegend": false,
         "type": "scatter",
         "x": [
          "2021-06-22T00:00:00",
          "2021-06-23T00:00:00",
          "2021-06-24T00:00:00",
          "2021-06-25T00:00:00",
          "2021-06-26T00:00:00",
          "2021-06-27T00:00:00",
          "2021-06-28T00:00:00"
         ],
         "y": [
          289.33615808250164,
          289.1816045131544,
          289.21422413499033,
          289.2610181168108,
          289.2694965229874,
          289.27704083074013,
          289.2900993251804
         ]
        },
        {
         "legendgroup": "Ensemble Members",
         "line": {
          "color": "grey",
          "width": 0.5
         },
         "mode": "lines",
         "opacity": 0.5,
         "showlegend": false,
         "type": "scatter",
         "x": [
          "2021-06-22T00:00:00",
          "2021-06-23T00:00:00",
          "2021-06-24T00:00:00",
          "2021-06-25T00:00:00",
          "2021-06-26T00:00:00",
          "2021-06-27T00:00:00",
          "2021-06-28T00:00:00"
         ],
         "y": [
          289.3252281298713,
          289.21185850978935,
          289.21260888719604,
          289.2728354344391,
          289.3224268977454,
          289.342231434412,
          289.3102460626648
         ]
        },
        {
         "legendgroup": "Ensemble Members",
         "line": {
          "color": "grey",
          "width": 0.5
         },
         "mode": "lines",
         "opacity": 0.5,
         "showlegend": false,
         "type": "scatter",
         "x": [
          "2021-06-22T00:00:00",
          "2021-06-23T00:00:00",
          "2021-06-24T00:00:00",
          "2021-06-25T00:00:00",
          "2021-06-26T00:00:00",
          "2021-06-27T00:00:00",
          "2021-06-28T00:00:00"
         ],
         "y": [
          289.3180632915534,
          289.20056494732563,
          289.2120102524077,
          289.28096851850086,
          289.3252272680782,
          289.31020957427,
          289.2930029098481
         ]
        },
        {
         "legendgroup": "Ensemble Members",
         "line": {
          "color": "grey",
          "width": 0.5
         },
         "mode": "lines",
         "opacity": 0.5,
         "showlegend": false,
         "type": "scatter",
         "x": [
          "2021-06-22T00:00:00",
          "2021-06-23T00:00:00",
          "2021-06-24T00:00:00",
          "2021-06-25T00:00:00",
          "2021-06-26T00:00:00",
          "2021-06-27T00:00:00",
          "2021-06-28T00:00:00"
         ],
         "y": [
          289.3305338994627,
          289.2095630658151,
          289.2186795781214,
          289.2547251562688,
          289.3378367824854,
          289.34497044496646,
          289.31542343794507
         ]
        },
        {
         "legendgroup": "Ensemble Mean",
         "legendgrouptitle": {
          "font": {
           "color": "black",
           "family": "Arial Bold",
           "size": 14
          },
          "text": "Ensemble Mean"
         },
         "line": {
          "color": "black",
          "width": 2
         },
         "mode": "lines",
         "name": "Ensemble Mean",
         "showlegend": true,
         "type": "scatter",
         "x": [
          "2021-06-22T00:00:00",
          "2021-06-23T00:00:00",
          "2021-06-24T00:00:00",
          "2021-06-25T00:00:00",
          "2021-06-26T00:00:00",
          "2021-06-27T00:00:00",
          "2021-06-28T00:00:00"
         ],
         "y": [
          289.3348260580196,
          289.2156688225986,
          289.22981695393423,
          289.2770561657775,
          289.33002725539444,
          289.33300279287704,
          289.3086309514063
         ]
        }
       ],
       "layout": {
        "height": 900,
        "legend": {
         "bgcolor": "rgba(255,255,255,0.95)",
         "bordercolor": "rgba(0,0,0,0.2)",
         "borderwidth": 1,
         "font": {
          "size": 12
         },
         "groupclick": "toggleitem",
         "grouptitlefont": {
          "color": "black",
          "family": "Arial Bold",
          "size": 14
         },
         "itemclick": "toggle",
         "itemdoubleclick": "toggleothers",
         "itemsizing": "constant",
         "orientation": "v",
         "title": {
          "font": {
           "size": 16
          },
          "text": "Legend"
         },
         "tracegroupgap": 15,
         "traceorder": "grouped",
         "x": 1.05,
         "y": 1
        },
        "margin": {
         "b": 40,
         "l": 40,
         "r": 40,
         "t": 40
        },
        "template": {
         "data": {
          "bar": [
           {
            "error_x": {
             "color": "#2a3f5f"
            },
            "error_y": {
             "color": "#2a3f5f"
            },
            "marker": {
             "line": {
              "color": "white",
              "width": 0.5
             },
             "pattern": {
              "fillmode": "overlay",
              "size": 10,
              "solidity": 0.2
             }
            },
            "type": "bar"
           }
          ],
          "barpolar": [
           {
            "marker": {
             "line": {
              "color": "white",
              "width": 0.5
             },
             "pattern": {
              "fillmode": "overlay",
              "size": 10,
              "solidity": 0.2
             }
            },
            "type": "barpolar"
           }
          ],
          "carpet": [
           {
            "aaxis": {
             "endlinecolor": "#2a3f5f",
             "gridcolor": "#C8D4E3",
             "linecolor": "#C8D4E3",
             "minorgridcolor": "#C8D4E3",
             "startlinecolor": "#2a3f5f"
            },
            "baxis": {
             "endlinecolor": "#2a3f5f",
             "gridcolor": "#C8D4E3",
             "linecolor": "#C8D4E3",
             "minorgridcolor": "#C8D4E3",
             "startlinecolor": "#2a3f5f"
            },
            "type": "carpet"
           }
          ],
          "choropleth": [
           {
            "colorbar": {
             "outlinewidth": 0,
             "ticks": ""
            },
            "type": "choropleth"
           }
          ],
          "contour": [
           {
            "colorbar": {
             "outlinewidth": 0,
             "ticks": ""
            },
            "colorscale": [
             [
              0,
              "#0d0887"
             ],
             [
              0.1111111111111111,
              "#46039f"
             ],
             [
              0.2222222222222222,
              "#7201a8"
             ],
             [
              0.3333333333333333,
              "#9c179e"
             ],
             [
              0.4444444444444444,
              "#bd3786"
             ],
             [
              0.5555555555555556,
              "#d8576b"
             ],
             [
              0.6666666666666666,
              "#ed7953"
             ],
             [
              0.7777777777777778,
              "#fb9f3a"
             ],
             [
              0.8888888888888888,
              "#fdca26"
             ],
             [
              1,
              "#f0f921"
             ]
            ],
            "type": "contour"
           }
          ],
          "contourcarpet": [
           {
            "colorbar": {
             "outlinewidth": 0,
             "ticks": ""
            },
            "type": "contourcarpet"
           }
          ],
          "heatmap": [
           {
            "colorbar": {
             "outlinewidth": 0,
             "ticks": ""
            },
            "colorscale": [
             [
              0,
              "#0d0887"
             ],
             [
              0.1111111111111111,
              "#46039f"
             ],
             [
              0.2222222222222222,
              "#7201a8"
             ],
             [
              0.3333333333333333,
              "#9c179e"
             ],
             [
              0.4444444444444444,
              "#bd3786"
             ],
             [
              0.5555555555555556,
              "#d8576b"
             ],
             [
              0.6666666666666666,
              "#ed7953"
             ],
             [
              0.7777777777777778,
              "#fb9f3a"
             ],
             [
              0.8888888888888888,
              "#fdca26"
             ],
             [
              1,
              "#f0f921"
             ]
            ],
            "type": "heatmap"
           }
          ],
          "heatmapgl": [
           {
            "colorbar": {
             "outlinewidth": 0,
             "ticks": ""
            },
            "colorscale": [
             [
              0,
              "#0d0887"
             ],
             [
              0.1111111111111111,
              "#46039f"
             ],
             [
              0.2222222222222222,
              "#7201a8"
             ],
             [
              0.3333333333333333,
              "#9c179e"
             ],
             [
              0.4444444444444444,
              "#bd3786"
             ],
             [
              0.5555555555555556,
              "#d8576b"
             ],
             [
              0.6666666666666666,
              "#ed7953"
             ],
             [
              0.7777777777777778,
              "#fb9f3a"
             ],
             [
              0.8888888888888888,
              "#fdca26"
             ],
             [
              1,
              "#f0f921"
             ]
            ],
            "type": "heatmapgl"
           }
          ],
          "histogram": [
           {
            "marker": {
             "pattern": {
              "fillmode": "overlay",
              "size": 10,
              "solidity": 0.2
             }
            },
            "type": "histogram"
           }
          ],
          "histogram2d": [
           {
            "colorbar": {
             "outlinewidth": 0,
             "ticks": ""
            },
            "colorscale": [
             [
              0,
              "#0d0887"
             ],
             [
              0.1111111111111111,
              "#46039f"
             ],
             [
              0.2222222222222222,
              "#7201a8"
             ],
             [
              0.3333333333333333,
              "#9c179e"
             ],
             [
              0.4444444444444444,
              "#bd3786"
             ],
             [
              0.5555555555555556,
              "#d8576b"
             ],
             [
              0.6666666666666666,
              "#ed7953"
             ],
             [
              0.7777777777777778,
              "#fb9f3a"
             ],
             [
              0.8888888888888888,
              "#fdca26"
             ],
             [
              1,
              "#f0f921"
             ]
            ],
            "type": "histogram2d"
           }
          ],
          "histogram2dcontour": [
           {
            "colorbar": {
             "outlinewidth": 0,
             "ticks": ""
            },
            "colorscale": [
             [
              0,
              "#0d0887"
             ],
             [
              0.1111111111111111,
              "#46039f"
             ],
             [
              0.2222222222222222,
              "#7201a8"
             ],
             [
              0.3333333333333333,
              "#9c179e"
             ],
             [
              0.4444444444444444,
              "#bd3786"
             ],
             [
              0.5555555555555556,
              "#d8576b"
             ],
             [
              0.6666666666666666,
              "#ed7953"
             ],
             [
              0.7777777777777778,
              "#fb9f3a"
             ],
             [
              0.8888888888888888,
              "#fdca26"
             ],
             [
              1,
              "#f0f921"
             ]
            ],
            "type": "histogram2dcontour"
           }
          ],
          "mesh3d": [
           {
            "colorbar": {
             "outlinewidth": 0,
             "ticks": ""
            },
            "type": "mesh3d"
           }
          ],
          "parcoords": [
           {
            "line": {
             "colorbar": {
              "outlinewidth": 0,
              "ticks": ""
             }
            },
            "type": "parcoords"
           }
          ],
          "pie": [
           {
            "automargin": true,
            "type": "pie"
           }
          ],
          "scatter": [
           {
            "fillpattern": {
             "fillmode": "overlay",
             "size": 10,
             "solidity": 0.2
            },
            "type": "scatter"
           }
          ],
          "scatter3d": [
           {
            "line": {
             "colorbar": {
              "outlinewidth": 0,
              "ticks": ""
             }
            },
            "marker": {
             "colorbar": {
              "outlinewidth": 0,
              "ticks": ""
             }
            },
            "type": "scatter3d"
           }
          ],
          "scattercarpet": [
           {
            "marker": {
             "colorbar": {
              "outlinewidth": 0,
              "ticks": ""
             }
            },
            "type": "scattercarpet"
           }
          ],
          "scattergeo": [
           {
            "marker": {
             "colorbar": {
              "outlinewidth": 0,
              "ticks": ""
             }
            },
            "type": "scattergeo"
           }
          ],
          "scattergl": [
           {
            "marker": {
             "colorbar": {
              "outlinewidth": 0,
              "ticks": ""
             }
            },
            "type": "scattergl"
           }
          ],
          "scattermapbox": [
           {
            "marker": {
             "colorbar": {
              "outlinewidth": 0,
              "ticks": ""
             }
            },
            "type": "scattermapbox"
           }
          ],
          "scatterpolar": [
           {
            "marker": {
             "colorbar": {
              "outlinewidth": 0,
              "ticks": ""
             }
            },
            "type": "scatterpolar"
           }
          ],
          "scatterpolargl": [
           {
            "marker": {
             "colorbar": {
              "outlinewidth": 0,
              "ticks": ""
             }
            },
            "type": "scatterpolargl"
           }
          ],
          "scatterternary": [
           {
            "marker": {
             "colorbar": {
              "outlinewidth": 0,
              "ticks": ""
             }
            },
            "type": "scatterternary"
           }
          ],
          "surface": [
           {
            "colorbar": {
             "outlinewidth": 0,
             "ticks": ""
            },
            "colorscale": [
             [
              0,
              "#0d0887"
             ],
             [
              0.1111111111111111,
              "#46039f"
             ],
             [
              0.2222222222222222,
              "#7201a8"
             ],
             [
              0.3333333333333333,
              "#9c179e"
             ],
             [
              0.4444444444444444,
              "#bd3786"
             ],
             [
              0.5555555555555556,
              "#d8576b"
             ],
             [
              0.6666666666666666,
              "#ed7953"
             ],
             [
              0.7777777777777778,
              "#fb9f3a"
             ],
             [
              0.8888888888888888,
              "#fdca26"
             ],
             [
              1,
              "#f0f921"
             ]
            ],
            "type": "surface"
           }
          ],
          "table": [
           {
            "cells": {
             "fill": {
              "color": "#EBF0F8"
             },
             "line": {
              "color": "white"
             }
            },
            "header": {
             "fill": {
              "color": "#C8D4E3"
             },
             "line": {
              "color": "white"
             }
            },
            "type": "table"
           }
          ]
         },
         "layout": {
          "annotationdefaults": {
           "arrowcolor": "#2a3f5f",
           "arrowhead": 0,
           "arrowwidth": 1
          },
          "autotypenumbers": "strict",
          "coloraxis": {
           "colorbar": {
            "outlinewidth": 0,
            "ticks": ""
           }
          },
          "colorscale": {
           "diverging": [
            [
             0,
             "#8e0152"
            ],
            [
             0.1,
             "#c51b7d"
            ],
            [
             0.2,
             "#de77ae"
            ],
            [
             0.3,
             "#f1b6da"
            ],
            [
             0.4,
             "#fde0ef"
            ],
            [
             0.5,
             "#f7f7f7"
            ],
            [
             0.6,
             "#e6f5d0"
            ],
            [
             0.7,
             "#b8e186"
            ],
            [
             0.8,
             "#7fbc41"
            ],
            [
             0.9,
             "#4d9221"
            ],
            [
             1,
             "#276419"
            ]
           ],
           "sequential": [
            [
             0,
             "#0d0887"
            ],
            [
             0.1111111111111111,
             "#46039f"
            ],
            [
             0.2222222222222222,
             "#7201a8"
            ],
            [
             0.3333333333333333,
             "#9c179e"
            ],
            [
             0.4444444444444444,
             "#bd3786"
            ],
            [
             0.5555555555555556,
             "#d8576b"
            ],
            [
             0.6666666666666666,
             "#ed7953"
            ],
            [
             0.7777777777777778,
             "#fb9f3a"
            ],
            [
             0.8888888888888888,
             "#fdca26"
            ],
            [
             1,
             "#f0f921"
            ]
           ],
           "sequentialminus": [
            [
             0,
             "#0d0887"
            ],
            [
             0.1111111111111111,
             "#46039f"
            ],
            [
             0.2222222222222222,
             "#7201a8"
            ],
            [
             0.3333333333333333,
             "#9c179e"
            ],
            [
             0.4444444444444444,
             "#bd3786"
            ],
            [
             0.5555555555555556,
             "#d8576b"
            ],
            [
             0.6666666666666666,
             "#ed7953"
            ],
            [
             0.7777777777777778,
             "#fb9f3a"
            ],
            [
             0.8888888888888888,
             "#fdca26"
            ],
            [
             1,
             "#f0f921"
            ]
           ]
          },
          "colorway": [
           "#636efa",
           "#EF553B",
           "#00cc96",
           "#ab63fa",
           "#FFA15A",
           "#19d3f3",
           "#FF6692",
           "#B6E880",
           "#FF97FF",
           "#FECB52"
          ],
          "font": {
           "color": "#2a3f5f"
          },
          "geo": {
           "bgcolor": "white",
           "lakecolor": "white",
           "landcolor": "white",
           "showlakes": true,
           "showland": true,
           "subunitcolor": "#C8D4E3"
          },
          "hoverlabel": {
           "align": "left"
          },
          "hovermode": "closest",
          "mapbox": {
           "style": "light"
          },
          "paper_bgcolor": "white",
          "plot_bgcolor": "white",
          "polar": {
           "angularaxis": {
            "gridcolor": "#EBF0F8",
            "linecolor": "#EBF0F8",
            "ticks": ""
           },
           "bgcolor": "white",
           "radialaxis": {
            "gridcolor": "#EBF0F8",
            "linecolor": "#EBF0F8",
            "ticks": ""
           }
          },
          "scene": {
           "xaxis": {
            "backgroundcolor": "white",
            "gridcolor": "#DFE8F3",
            "gridwidth": 2,
            "linecolor": "#EBF0F8",
            "showbackground": true,
            "ticks": "",
            "zerolinecolor": "#EBF0F8"
           },
           "yaxis": {
            "backgroundcolor": "white",
            "gridcolor": "#DFE8F3",
            "gridwidth": 2,
            "linecolor": "#EBF0F8",
            "showbackground": true,
            "ticks": "",
            "zerolinecolor": "#EBF0F8"
           },
           "zaxis": {
            "backgroundcolor": "white",
            "gridcolor": "#DFE8F3",
            "gridwidth": 2,
            "linecolor": "#EBF0F8",
            "showbackground": true,
            "ticks": "",
            "zerolinecolor": "#EBF0F8"
           }
          },
          "shapedefaults": {
           "line": {
            "color": "#2a3f5f"
           }
          },
          "ternary": {
           "aaxis": {
            "gridcolor": "#DFE8F3",
            "linecolor": "#A2B1C6",
            "ticks": ""
           },
           "baxis": {
            "gridcolor": "#DFE8F3",
            "linecolor": "#A2B1C6",
            "ticks": ""
           },
           "bgcolor": "white",
           "caxis": {
            "gridcolor": "#DFE8F3",
            "linecolor": "#A2B1C6",
            "ticks": ""
           }
          },
          "title": {
           "x": 0.05
          },
          "xaxis": {
           "automargin": true,
           "gridcolor": "#EBF0F8",
           "linecolor": "#EBF0F8",
           "ticks": "",
           "title": {
            "standoff": 15
           },
           "zerolinecolor": "#EBF0F8",
           "zerolinewidth": 2
          },
          "yaxis": {
           "automargin": true,
           "gridcolor": "#EBF0F8",
           "linecolor": "#EBF0F8",
           "ticks": "",
           "title": {
            "standoff": 15
           },
           "zerolinecolor": "#EBF0F8",
           "zerolinewidth": 2
          }
         }
        },
        "title": {
         "text": "Mean 2m Temperature Forecast / 2021-06-21  + 7 days"
        },
        "width": 1600,
        "xaxis": {
         "range": [
          "2021-06-22T00:00:00",
          "2021-06-28T00:00:00"
         ],
         "title": {
          "text": "Date"
         }
        },
        "yaxis": {
         "range": [
          241.22970809936524,
          336.0123420715332
         ],
         "tickformat": ".0f",
         "title": {
          "text": "Temperature (K)"
         }
        }
       }
      },
      "text/html": [
       "<div>                            <div id=\"b71f00bb-8a87-4d5e-a670-e4e417b754de\" class=\"plotly-graph-div\" style=\"height:900px; width:1600px;\"></div>            <script type=\"text/javascript\">                require([\"plotly\"], function(Plotly) {                    window.PLOTLYENV=window.PLOTLYENV || {};                                    if (document.getElementById(\"b71f00bb-8a87-4d5e-a670-e4e417b754de\")) {                    Plotly.newPlot(                        \"b71f00bb-8a87-4d5e-a670-e4e417b754de\",                        [{\"legendgroup\":\"0.001_global_00000000001\",\"legendgrouptitle\":{\"font\":{\"color\":\"black\",\"family\":\"Arial Bold\",\"size\":14},\"text\":\"0.001_global_00000000001\"},\"line\":{\"color\":\"rgb(235, 235, 242)\",\"width\":1},\"mode\":\"lines\",\"name\":\"0.001_global_00000000001\",\"showlegend\":true,\"x\":[\"2021-06-22T00:00:00.000000000\",\"2021-06-23T00:00:00.000000000\",\"2021-06-24T00:00:00.000000000\",\"2021-06-25T00:00:00.000000000\",\"2021-06-26T00:00:00.000000000\",\"2021-06-27T00:00:00.000000000\",\"2021-06-28T00:00:00.000000000\"],\"y\":[289.3352,289.34985,289.36597,289.37195,289.3426,289.27228,289.22177],\"type\":\"scatter\"},{\"legendgroup\":\"1_global_00000000001\",\"legendgrouptitle\":{\"font\":{\"color\":\"black\",\"family\":\"Arial Bold\",\"size\":14},\"text\":\"1_global_00000000001\"},\"line\":{\"color\":\"rgb(230, 230, 243)\",\"width\":1},\"mode\":\"lines\",\"name\":\"1_global_00000000001\",\"showlegend\":true,\"x\":[\"2021-06-22T00:00:00.000000000\",\"2021-06-23T00:00:00.000000000\",\"2021-06-24T00:00:00.000000000\",\"2021-06-25T00:00:00.000000000\",\"2021-06-26T00:00:00.000000000\",\"2021-06-27T00:00:00.000000000\",\"2021-06-28T00:00:00.000000000\"],\"y\":[288.4677,287.2917,286.9017,286.75638,286.7355,286.7074,286.66064],\"type\":\"scatter\"},{\"legendgroup\":\"0.001_global_00000000010\",\"legendgrouptitle\":{\"font\":{\"color\":\"black\",\"family\":\"Arial Bold\",\"size\":14},\"text\":\"0.001_global_00000000010\"},\"line\":{\"color\":\"rgb(225, 225, 243)\",\"width\":1},\"mode\":\"lines\",\"name\":\"0.001_global_00000000010\",\"showlegend\":true,\"x\":[\"2021-06-22T00:00:00.000000000\",\"2021-06-23T00:00:00.000000000\",\"2021-06-24T00:00:00.000000000\",\"2021-06-25T00:00:00.000000000\",\"2021-06-26T00:00:00.000000000\",\"2021-06-27T00:00:00.000000000\",\"2021-06-28T00:00:00.000000000\"],\"y\":[289.33533,289.34918,289.3655,289.37192,289.34256,289.27133,289.22147],\"type\":\"scatter\"},{\"legendgroup\":\"1_global_00000000010\",\"legendgrouptitle\":{\"font\":{\"color\":\"black\",\"family\":\"Arial Bold\",\"size\":14},\"text\":\"1_global_00000000010\"},\"line\":{\"color\":\"rgb(220, 220, 243)\",\"width\":1},\"mode\":\"lines\",\"name\":\"1_global_00000000010\",\"showlegend\":true,\"x\":[\"2021-06-22T00:00:00.000000000\",\"2021-06-23T00:00:00.000000000\",\"2021-06-24T00:00:00.000000000\",\"2021-06-25T00:00:00.000000000\",\"2021-06-26T00:00:00.000000000\",\"2021-06-27T00:00:00.000000000\",\"2021-06-28T00:00:00.000000000\"],\"y\":[288.31488,287.7951,287.76907,287.7987,287.80832,287.7911,287.78467],\"type\":\"scatter\"},{\"legendgroup\":\"0.001_global_00000000100\",\"legendgrouptitle\":{\"font\":{\"color\":\"black\",\"family\":\"Arial Bold\",\"size\":14},\"text\":\"0.001_global_00000000100\"},\"line\":{\"color\":\"rgb(214, 214, 244)\",\"width\":1},\"mode\":\"lines\",\"name\":\"0.001_global_00000000100\",\"showlegend\":true,\"x\":[\"2021-06-22T00:00:00.000000000\",\"2021-06-23T00:00:00.000000000\",\"2021-06-24T00:00:00.000000000\",\"2021-06-25T00:00:00.000000000\",\"2021-06-26T00:00:00.000000000\",\"2021-06-27T00:00:00.000000000\",\"2021-06-28T00:00:00.000000000\"],\"y\":[289.3348,289.349,289.36502,289.3713,289.34274,289.27094,289.21976],\"type\":\"scatter\"},{\"legendgroup\":\"1_global_00000000100\",\"legendgrouptitle\":{\"font\":{\"color\":\"black\",\"family\":\"Arial Bold\",\"size\":14},\"text\":\"1_global_00000000100\"},\"line\":{\"color\":\"rgb(210, 210, 244)\",\"width\":1},\"mode\":\"lines\",\"name\":\"1_global_00000000100\",\"showlegend\":true,\"x\":[\"2021-06-22T00:00:00.000000000\",\"2021-06-23T00:00:00.000000000\",\"2021-06-24T00:00:00.000000000\",\"2021-06-25T00:00:00.000000000\",\"2021-06-26T00:00:00.000000000\",\"2021-06-27T00:00:00.000000000\",\"2021-06-28T00:00:00.000000000\"],\"y\":[287.91367,286.66736,286.50555,286.50034,286.52042,286.5754,286.6479],\"type\":\"scatter\"},{\"legendgroup\":\"0.001_global_00000001000\",\"legendgrouptitle\":{\"font\":{\"color\":\"black\",\"family\":\"Arial Bold\",\"size\":14},\"text\":\"0.001_global_00000001000\"},\"line\":{\"color\":\"rgb(204, 204, 244)\",\"width\":1},\"mode\":\"lines\",\"name\":\"0.001_global_00000001000\",\"showlegend\":true,\"x\":[\"2021-06-22T00:00:00.000000000\",\"2021-06-23T00:00:00.000000000\",\"2021-06-24T00:00:00.000000000\",\"2021-06-25T00:00:00.000000000\",\"2021-06-26T00:00:00.000000000\",\"2021-06-27T00:00:00.000000000\",\"2021-06-28T00:00:00.000000000\"],\"y\":[289.33487,289.34918,289.3655,289.3721,289.34317,289.2722,289.2236],\"type\":\"scatter\"},{\"legendgroup\":\"1_global_00000001000\",\"legendgrouptitle\":{\"font\":{\"color\":\"black\",\"family\":\"Arial Bold\",\"size\":14},\"text\":\"1_global_00000001000\"},\"line\":{\"color\":\"rgb(199, 199, 244)\",\"width\":1},\"mode\":\"lines\",\"name\":\"1_global_00000001000\",\"showlegend\":true,\"x\":[\"2021-06-22T00:00:00.000000000\",\"2021-06-23T00:00:00.000000000\",\"2021-06-24T00:00:00.000000000\",\"2021-06-25T00:00:00.000000000\",\"2021-06-26T00:00:00.000000000\",\"2021-06-27T00:00:00.000000000\",\"2021-06-28T00:00:00.000000000\"],\"y\":[289.16803,289.255,289.34753,289.47745,289.64435,289.792,289.96704],\"type\":\"scatter\"},{\"legendgroup\":\"0.001_global_00000010000\",\"legendgrouptitle\":{\"font\":{\"color\":\"black\",\"family\":\"Arial Bold\",\"size\":14},\"text\":\"0.001_global_00000010000\"},\"line\":{\"color\":\"rgb(194, 194, 245)\",\"width\":1},\"mode\":\"lines\",\"name\":\"0.001_global_00000010000\",\"showlegend\":true,\"x\":[\"2021-06-22T00:00:00.000000000\",\"2021-06-23T00:00:00.000000000\",\"2021-06-24T00:00:00.000000000\",\"2021-06-25T00:00:00.000000000\",\"2021-06-26T00:00:00.000000000\",\"2021-06-27T00:00:00.000000000\",\"2021-06-28T00:00:00.000000000\"],\"y\":[289.34995,289.39096,289.44305,289.50244,289.5638,289.64557,289.7601],\"type\":\"scatter\"},{\"legendgroup\":\"1_global_00000010000\",\"legendgrouptitle\":{\"font\":{\"color\":\"black\",\"family\":\"Arial Bold\",\"size\":14},\"text\":\"1_global_00000010000\"},\"line\":{\"color\":\"rgb(189, 189, 245)\",\"width\":1},\"mode\":\"lines\",\"name\":\"1_global_00000010000\",\"showlegend\":true,\"x\":[\"2021-06-22T00:00:00.000000000\",\"2021-06-23T00:00:00.000000000\",\"2021-06-24T00:00:00.000000000\",\"2021-06-25T00:00:00.000000000\",\"2021-06-26T00:00:00.000000000\",\"2021-06-27T00:00:00.000000000\",\"2021-06-28T00:00:00.000000000\"],\"y\":[293.48215,299.90445,306.3049,312.69595,319.07254,325.41623,331.70404],\"type\":\"scatter\"},{\"legendgroup\":\"0.001_global_00000100000\",\"legendgrouptitle\":{\"font\":{\"color\":\"black\",\"family\":\"Arial Bold\",\"size\":14},\"text\":\"0.001_global_00000100000\"},\"line\":{\"color\":\"rgb(184, 184, 245)\",\"width\":1},\"mode\":\"lines\",\"name\":\"0.001_global_00000100000\",\"showlegend\":true,\"x\":[\"2021-06-22T00:00:00.000000000\",\"2021-06-23T00:00:00.000000000\",\"2021-06-24T00:00:00.000000000\",\"2021-06-25T00:00:00.000000000\",\"2021-06-26T00:00:00.000000000\",\"2021-06-27T00:00:00.000000000\",\"2021-06-28T00:00:00.000000000\"],\"y\":[289.33557,289.35007,289.36633,289.3728,289.34354,289.27194,289.22278],\"type\":\"scatter\"},{\"legendgroup\":\"1_global_00000100000\",\"legendgrouptitle\":{\"font\":{\"color\":\"black\",\"family\":\"Arial Bold\",\"size\":14},\"text\":\"1_global_00000100000\"},\"line\":{\"color\":\"rgb(179, 179, 245)\",\"width\":1},\"mode\":\"lines\",\"name\":\"1_global_00000100000\",\"showlegend\":true,\"x\":[\"2021-06-22T00:00:00.000000000\",\"2021-06-23T00:00:00.000000000\",\"2021-06-24T00:00:00.000000000\",\"2021-06-25T00:00:00.000000000\",\"2021-06-26T00:00:00.000000000\",\"2021-06-27T00:00:00.000000000\",\"2021-06-28T00:00:00.000000000\"],\"y\":[289.0073,288.8325,288.98282,288.99136,288.7945,288.52087,288.2075],\"type\":\"scatter\"},{\"legendgroup\":\"0.001_global_00001000000\",\"legendgrouptitle\":{\"font\":{\"color\":\"black\",\"family\":\"Arial Bold\",\"size\":14},\"text\":\"0.001_global_00001000000\"},\"line\":{\"color\":\"rgb(174, 174, 246)\",\"width\":1},\"mode\":\"lines\",\"name\":\"0.001_global_00001000000\",\"showlegend\":true,\"x\":[\"2021-06-22T00:00:00.000000000\",\"2021-06-23T00:00:00.000000000\",\"2021-06-24T00:00:00.000000000\",\"2021-06-25T00:00:00.000000000\",\"2021-06-26T00:00:00.000000000\",\"2021-06-27T00:00:00.000000000\",\"2021-06-28T00:00:00.000000000\"],\"y\":[289.18323,289.08945,289.08136,289.08783,289.061,289.00494,288.9702],\"type\":\"scatter\"},{\"legendgroup\":\"1_global_00001000000\",\"legendgrouptitle\":{\"font\":{\"color\":\"black\",\"family\":\"Arial Bold\",\"size\":14},\"text\":\"1_global_00001000000\"},\"line\":{\"color\":\"rgb(168, 168, 246)\",\"width\":1},\"mode\":\"lines\",\"name\":\"1_global_00001000000\",\"showlegend\":true,\"x\":[\"2021-06-22T00:00:00.000000000\",\"2021-06-23T00:00:00.000000000\",\"2021-06-24T00:00:00.000000000\",\"2021-06-25T00:00:00.000000000\",\"2021-06-26T00:00:00.000000000\",\"2021-06-27T00:00:00.000000000\",\"2021-06-28T00:00:00.000000000\"],\"y\":[286.03818,281.72797,278.31012,274.9834,271.64746,268.26367,264.8946],\"type\":\"scatter\"},{\"legendgroup\":\"0.001_global_00010000000\",\"legendgrouptitle\":{\"font\":{\"color\":\"black\",\"family\":\"Arial Bold\",\"size\":14},\"text\":\"0.001_global_00010000000\"},\"line\":{\"color\":\"rgb(164, 164, 246)\",\"width\":1},\"mode\":\"lines\",\"name\":\"0.001_global_00010000000\",\"showlegend\":true,\"x\":[\"2021-06-22T00:00:00.000000000\",\"2021-06-23T00:00:00.000000000\",\"2021-06-24T00:00:00.000000000\",\"2021-06-25T00:00:00.000000000\",\"2021-06-26T00:00:00.000000000\",\"2021-06-27T00:00:00.000000000\",\"2021-06-28T00:00:00.000000000\"],\"y\":[289.33475,289.34946,289.36566,289.3719,289.34314,289.2717,289.22086],\"type\":\"scatter\"},{\"legendgroup\":\"1_global_00010000000\",\"legendgrouptitle\":{\"font\":{\"color\":\"black\",\"family\":\"Arial Bold\",\"size\":14},\"text\":\"1_global_00010000000\"},\"line\":{\"color\":\"rgb(158, 158, 246)\",\"width\":1},\"mode\":\"lines\",\"name\":\"1_global_00010000000\",\"showlegend\":true,\"x\":[\"2021-06-22T00:00:00.000000000\",\"2021-06-23T00:00:00.000000000\",\"2021-06-24T00:00:00.000000000\",\"2021-06-25T00:00:00.000000000\",\"2021-06-26T00:00:00.000000000\",\"2021-06-27T00:00:00.000000000\",\"2021-06-28T00:00:00.000000000\"],\"y\":[292.38785,293.2954,291.9,290.06564,288.33484,287.08084,286.3861],\"type\":\"scatter\"},{\"legendgroup\":\"0.001_global_00100000000\",\"legendgrouptitle\":{\"font\":{\"color\":\"black\",\"family\":\"Arial Bold\",\"size\":14},\"text\":\"0.001_global_00100000000\"},\"line\":{\"color\":\"rgb(153, 153, 247)\",\"width\":1},\"mode\":\"lines\",\"name\":\"0.001_global_00100000000\",\"showlegend\":true,\"x\":[\"2021-06-22T00:00:00.000000000\",\"2021-06-23T00:00:00.000000000\",\"2021-06-24T00:00:00.000000000\",\"2021-06-25T00:00:00.000000000\",\"2021-06-26T00:00:00.000000000\",\"2021-06-27T00:00:00.000000000\",\"2021-06-28T00:00:00.000000000\"],\"y\":[289.335,289.34872,289.36523,289.3712,289.34268,289.27057,289.22104],\"type\":\"scatter\"},{\"legendgroup\":\"1_global_00100000000\",\"legendgrouptitle\":{\"font\":{\"color\":\"black\",\"family\":\"Arial Bold\",\"size\":14},\"text\":\"1_global_00100000000\"},\"line\":{\"color\":\"rgb(148, 148, 247)\",\"width\":1},\"mode\":\"lines\",\"name\":\"1_global_00100000000\",\"showlegend\":true,\"x\":[\"2021-06-22T00:00:00.000000000\",\"2021-06-23T00:00:00.000000000\",\"2021-06-24T00:00:00.000000000\",\"2021-06-25T00:00:00.000000000\",\"2021-06-26T00:00:00.000000000\",\"2021-06-27T00:00:00.000000000\",\"2021-06-28T00:00:00.000000000\"],\"y\":[295.0796,295.5373,294.77222,294.48328,294.2689,294.10092,293.96384],\"type\":\"scatter\"},{\"legendgroup\":\"0.001_global_01000000000\",\"legendgrouptitle\":{\"font\":{\"color\":\"black\",\"family\":\"Arial Bold\",\"size\":14},\"text\":\"0.001_global_01000000000\"},\"line\":{\"color\":\"rgb(143, 143, 247)\",\"width\":1},\"mode\":\"lines\",\"name\":\"0.001_global_01000000000\",\"showlegend\":true,\"x\":[\"2021-06-22T00:00:00.000000000\",\"2021-06-23T00:00:00.000000000\",\"2021-06-24T00:00:00.000000000\",\"2021-06-25T00:00:00.000000000\",\"2021-06-26T00:00:00.000000000\",\"2021-06-27T00:00:00.000000000\",\"2021-06-28T00:00:00.000000000\"],\"y\":[289.33533,289.34995,289.36597,289.37244,289.34357,289.2721,289.22168],\"type\":\"scatter\"},{\"legendgroup\":\"1_global_01000000000\",\"legendgrouptitle\":{\"font\":{\"color\":\"black\",\"family\":\"Arial Bold\",\"size\":14},\"text\":\"1_global_01000000000\"},\"line\":{\"color\":\"rgb(138, 138, 247)\",\"width\":1},\"mode\":\"lines\",\"name\":\"1_global_01000000000\",\"showlegend\":true,\"x\":[\"2021-06-22T00:00:00.000000000\",\"2021-06-23T00:00:00.000000000\",\"2021-06-24T00:00:00.000000000\",\"2021-06-25T00:00:00.000000000\",\"2021-06-26T00:00:00.000000000\",\"2021-06-27T00:00:00.000000000\",\"2021-06-28T00:00:00.000000000\"],\"y\":[289.17157,289.10205,289.10458,289.11798,289.0994,289.03546,288.99884],\"type\":\"scatter\"},{\"legendgroup\":\"0.001_global_01111111111\",\"legendgrouptitle\":{\"font\":{\"color\":\"black\",\"family\":\"Arial Bold\",\"size\":14},\"text\":\"0.001_global_01111111111\"},\"line\":{\"color\":\"rgb(132, 132, 248)\",\"width\":1},\"mode\":\"lines\",\"name\":\"0.001_global_01111111111\",\"showlegend\":true,\"x\":[\"2021-06-22T00:00:00.000000000\",\"2021-06-23T00:00:00.000000000\",\"2021-06-24T00:00:00.000000000\",\"2021-06-25T00:00:00.000000000\",\"2021-06-26T00:00:00.000000000\",\"2021-06-27T00:00:00.000000000\",\"2021-06-28T00:00:00.000000000\"],\"y\":[289.1855,289.14487,289.17722,289.22302,289.29114,289.39273,289.57385],\"type\":\"scatter\"},{\"legendgroup\":\"1_global_01111111111\",\"legendgrouptitle\":{\"font\":{\"color\":\"black\",\"family\":\"Arial Bold\",\"size\":14},\"text\":\"1_global_01111111111\"},\"line\":{\"color\":\"rgb(128, 128, 248)\",\"width\":1},\"mode\":\"lines\",\"name\":\"1_global_01111111111\",\"showlegend\":true,\"x\":[\"2021-06-22T00:00:00.000000000\",\"2021-06-23T00:00:00.000000000\",\"2021-06-24T00:00:00.000000000\",\"2021-06-25T00:00:00.000000000\",\"2021-06-26T00:00:00.000000000\",\"2021-06-27T00:00:00.000000000\",\"2021-06-28T00:00:00.000000000\"],\"y\":[293.44815,299.7362,305.92545,312.01617,318.01,323.90707,329.70682],\"type\":\"scatter\"},{\"legendgroup\":\"0.001_global_10000000000\",\"legendgrouptitle\":{\"font\":{\"color\":\"black\",\"family\":\"Arial Bold\",\"size\":14},\"text\":\"0.001_global_10000000000\"},\"line\":{\"color\":\"rgb(122, 122, 248)\",\"width\":1},\"mode\":\"lines\",\"name\":\"0.001_global_10000000000\",\"showlegend\":true,\"x\":[\"2021-06-22T00:00:00.000000000\",\"2021-06-23T00:00:00.000000000\",\"2021-06-24T00:00:00.000000000\",\"2021-06-25T00:00:00.000000000\",\"2021-06-26T00:00:00.000000000\",\"2021-06-27T00:00:00.000000000\",\"2021-06-28T00:00:00.000000000\"],\"y\":[289.33502,289.34875,289.3654,289.37192,289.34317,289.27136,289.22076],\"type\":\"scatter\"},{\"legendgroup\":\"1_global_10000000000\",\"legendgrouptitle\":{\"font\":{\"color\":\"black\",\"family\":\"Arial Bold\",\"size\":14},\"text\":\"1_global_10000000000\"},\"line\":{\"color\":\"rgb(117, 117, 248)\",\"width\":1},\"mode\":\"lines\",\"name\":\"1_global_10000000000\",\"showlegend\":true,\"x\":[\"2021-06-22T00:00:00.000000000\",\"2021-06-23T00:00:00.000000000\",\"2021-06-24T00:00:00.000000000\",\"2021-06-25T00:00:00.000000000\",\"2021-06-26T00:00:00.000000000\",\"2021-06-27T00:00:00.000000000\",\"2021-06-28T00:00:00.000000000\"],\"y\":[289.1054,289.00635,289.00116,289.0112,288.99295,288.93134,288.89575],\"type\":\"scatter\"},{\"legendgroup\":\"0.001_global_10111111111\",\"legendgrouptitle\":{\"font\":{\"color\":\"black\",\"family\":\"Arial Bold\",\"size\":14},\"text\":\"0.001_global_10111111111\"},\"line\":{\"color\":\"rgb(112, 112, 249)\",\"width\":1},\"mode\":\"lines\",\"name\":\"0.001_global_10111111111\",\"showlegend\":true,\"x\":[\"2021-06-22T00:00:00.000000000\",\"2021-06-23T00:00:00.000000000\",\"2021-06-24T00:00:00.000000000\",\"2021-06-25T00:00:00.000000000\",\"2021-06-26T00:00:00.000000000\",\"2021-06-27T00:00:00.000000000\",\"2021-06-28T00:00:00.000000000\"],\"y\":[289.186,289.14673,289.17957,289.22504,289.29434,289.3941,289.57233],\"type\":\"scatter\"},{\"legendgroup\":\"1_global_10111111111\",\"legendgrouptitle\":{\"font\":{\"color\":\"black\",\"family\":\"Arial Bold\",\"size\":14},\"text\":\"1_global_10111111111\"},\"line\":{\"color\":\"rgb(107, 107, 249)\",\"width\":1},\"mode\":\"lines\",\"name\":\"1_global_10111111111\",\"showlegend\":true,\"x\":[\"2021-06-22T00:00:00.000000000\",\"2021-06-23T00:00:00.000000000\",\"2021-06-24T00:00:00.000000000\",\"2021-06-25T00:00:00.000000000\",\"2021-06-26T00:00:00.000000000\",\"2021-06-27T00:00:00.000000000\",\"2021-06-28T00:00:00.000000000\"],\"y\":[293.447,299.73355,305.9225,312.0133,318.0068,323.90375,329.70294],\"type\":\"scatter\"},{\"legendgroup\":\"0.001_global_11011111111\",\"legendgrouptitle\":{\"font\":{\"color\":\"black\",\"family\":\"Arial Bold\",\"size\":14},\"text\":\"0.001_global_11011111111\"},\"line\":{\"color\":\"rgb(101, 101, 249)\",\"width\":1},\"mode\":\"lines\",\"name\":\"0.001_global_11011111111\",\"showlegend\":true,\"x\":[\"2021-06-22T00:00:00.000000000\",\"2021-06-23T00:00:00.000000000\",\"2021-06-24T00:00:00.000000000\",\"2021-06-25T00:00:00.000000000\",\"2021-06-26T00:00:00.000000000\",\"2021-06-27T00:00:00.000000000\",\"2021-06-28T00:00:00.000000000\"],\"y\":[289.18982,289.1516,289.18494,289.23038,289.29962,289.3997,289.57977],\"type\":\"scatter\"},{\"legendgroup\":\"1_global_11011111111\",\"legendgrouptitle\":{\"font\":{\"color\":\"black\",\"family\":\"Arial Bold\",\"size\":14},\"text\":\"1_global_11011111111\"},\"line\":{\"color\":\"rgb(97, 97, 250)\",\"width\":1},\"mode\":\"lines\",\"name\":\"1_global_11011111111\",\"showlegend\":true,\"x\":[\"2021-06-22T00:00:00.000000000\",\"2021-06-23T00:00:00.000000000\",\"2021-06-24T00:00:00.000000000\",\"2021-06-25T00:00:00.000000000\",\"2021-06-26T00:00:00.000000000\",\"2021-06-27T00:00:00.000000000\",\"2021-06-28T00:00:00.000000000\"],\"y\":[293.41882,299.7091,305.90442,311.99756,317.99036,323.886,329.6825],\"type\":\"scatter\"},{\"legendgroup\":\"0.001_global_11101111111\",\"legendgrouptitle\":{\"font\":{\"color\":\"black\",\"family\":\"Arial Bold\",\"size\":14},\"text\":\"0.001_global_11101111111\"},\"line\":{\"color\":\"rgb(92, 92, 250)\",\"width\":1},\"mode\":\"lines\",\"name\":\"0.001_global_11101111111\",\"showlegend\":true,\"x\":[\"2021-06-22T00:00:00.000000000\",\"2021-06-23T00:00:00.000000000\",\"2021-06-24T00:00:00.000000000\",\"2021-06-25T00:00:00.000000000\",\"2021-06-26T00:00:00.000000000\",\"2021-06-27T00:00:00.000000000\",\"2021-06-28T00:00:00.000000000\"],\"y\":[289.18637,289.14703,289.1799,289.2243,289.29266,289.39322,289.57434],\"type\":\"scatter\"},{\"legendgroup\":\"1_global_11101111111\",\"legendgrouptitle\":{\"font\":{\"color\":\"black\",\"family\":\"Arial Bold\",\"size\":14},\"text\":\"1_global_11101111111\"},\"line\":{\"color\":\"rgb(86, 86, 250)\",\"width\":1},\"mode\":\"lines\",\"name\":\"1_global_11101111111\",\"showlegend\":true,\"x\":[\"2021-06-22T00:00:00.000000000\",\"2021-06-23T00:00:00.000000000\",\"2021-06-24T00:00:00.000000000\",\"2021-06-25T00:00:00.000000000\",\"2021-06-26T00:00:00.000000000\",\"2021-06-27T00:00:00.000000000\",\"2021-06-28T00:00:00.000000000\"],\"y\":[293.43997,299.71133,305.88965,311.97235,317.95706,323.8429,329.6317],\"type\":\"scatter\"},{\"legendgroup\":\"0.001_global_11110111111\",\"legendgrouptitle\":{\"font\":{\"color\":\"black\",\"family\":\"Arial Bold\",\"size\":14},\"text\":\"0.001_global_11110111111\"},\"line\":{\"color\":\"rgb(82, 82, 250)\",\"width\":1},\"mode\":\"lines\",\"name\":\"0.001_global_11110111111\",\"showlegend\":true,\"x\":[\"2021-06-22T00:00:00.000000000\",\"2021-06-23T00:00:00.000000000\",\"2021-06-24T00:00:00.000000000\",\"2021-06-25T00:00:00.000000000\",\"2021-06-26T00:00:00.000000000\",\"2021-06-27T00:00:00.000000000\",\"2021-06-28T00:00:00.000000000\"],\"y\":[289.34616,289.38617,289.4384,289.49738,289.5588,289.63858,289.75977],\"type\":\"scatter\"},{\"legendgroup\":\"1_global_11110111111\",\"legendgrouptitle\":{\"font\":{\"color\":\"black\",\"family\":\"Arial Bold\",\"size\":14},\"text\":\"1_global_11110111111\"},\"line\":{\"color\":\"rgb(76, 76, 251)\",\"width\":1},\"mode\":\"lines\",\"name\":\"1_global_11110111111\",\"showlegend\":true,\"x\":[\"2021-06-22T00:00:00.000000000\",\"2021-06-23T00:00:00.000000000\",\"2021-06-24T00:00:00.000000000\",\"2021-06-25T00:00:00.000000000\",\"2021-06-26T00:00:00.000000000\",\"2021-06-27T00:00:00.000000000\",\"2021-06-28T00:00:00.000000000\"],\"y\":[293.46243,299.80832,306.1409,312.47653,318.80542,325.10614,331.35602],\"type\":\"scatter\"},{\"legendgroup\":\"0.001_global_11111011111\",\"legendgrouptitle\":{\"font\":{\"color\":\"black\",\"family\":\"Arial Bold\",\"size\":14},\"text\":\"0.001_global_11111011111\"},\"line\":{\"color\":\"rgb(71, 71, 251)\",\"width\":1},\"mode\":\"lines\",\"name\":\"0.001_global_11111011111\",\"showlegend\":true,\"x\":[\"2021-06-22T00:00:00.000000000\",\"2021-06-23T00:00:00.000000000\",\"2021-06-24T00:00:00.000000000\",\"2021-06-25T00:00:00.000000000\",\"2021-06-26T00:00:00.000000000\",\"2021-06-27T00:00:00.000000000\",\"2021-06-28T00:00:00.000000000\"],\"y\":[289.18512,289.1448,289.17764,289.2241,289.29337,289.39484,289.57755],\"type\":\"scatter\"},{\"legendgroup\":\"1_global_11111011111\",\"legendgrouptitle\":{\"font\":{\"color\":\"black\",\"family\":\"Arial Bold\",\"size\":14},\"text\":\"1_global_11111011111\"},\"line\":{\"color\":\"rgb(65, 65, 251)\",\"width\":1},\"mode\":\"lines\",\"name\":\"1_global_11111011111\",\"showlegend\":true,\"x\":[\"2021-06-22T00:00:00.000000000\",\"2021-06-23T00:00:00.000000000\",\"2021-06-24T00:00:00.000000000\",\"2021-06-25T00:00:00.000000000\",\"2021-06-26T00:00:00.000000000\",\"2021-06-27T00:00:00.000000000\",\"2021-06-28T00:00:00.000000000\"],\"y\":[293.45877,299.77008,305.97638,312.07736,318.08105,323.98758,329.79626],\"type\":\"scatter\"},{\"legendgroup\":\"0.001_global_11111101111\",\"legendgrouptitle\":{\"font\":{\"color\":\"black\",\"family\":\"Arial Bold\",\"size\":14},\"text\":\"0.001_global_11111101111\"},\"line\":{\"color\":\"rgb(61, 61, 251)\",\"width\":1},\"mode\":\"lines\",\"name\":\"0.001_global_11111101111\",\"showlegend\":true,\"x\":[\"2021-06-22T00:00:00.000000000\",\"2021-06-23T00:00:00.000000000\",\"2021-06-24T00:00:00.000000000\",\"2021-06-25T00:00:00.000000000\",\"2021-06-26T00:00:00.000000000\",\"2021-06-27T00:00:00.000000000\",\"2021-06-28T00:00:00.000000000\"],\"y\":[289.17764,289.08118,289.07303,289.07922,289.0521,288.99445,288.95886],\"type\":\"scatter\"},{\"legendgroup\":\"1_global_11111101111\",\"legendgrouptitle\":{\"font\":{\"color\":\"black\",\"family\":\"Arial Bold\",\"size\":14},\"text\":\"1_global_11111101111\"},\"line\":{\"color\":\"rgb(55, 55, 252)\",\"width\":1},\"mode\":\"lines\",\"name\":\"1_global_11111101111\",\"showlegend\":true,\"x\":[\"2021-06-22T00:00:00.000000000\",\"2021-06-23T00:00:00.000000000\",\"2021-06-24T00:00:00.000000000\",\"2021-06-25T00:00:00.000000000\",\"2021-06-26T00:00:00.000000000\",\"2021-06-27T00:00:00.000000000\",\"2021-06-28T00:00:00.000000000\"],\"y\":[281.8952,270.85666,262.59055,256.69128,252.26353,248.68216,245.53801],\"type\":\"scatter\"},{\"legendgroup\":\"0.001_global_11111110111\",\"legendgrouptitle\":{\"font\":{\"color\":\"black\",\"family\":\"Arial Bold\",\"size\":14},\"text\":\"0.001_global_11111110111\"},\"line\":{\"color\":\"rgb(50, 50, 252)\",\"width\":1},\"mode\":\"lines\",\"name\":\"0.001_global_11111110111\",\"showlegend\":true,\"x\":[\"2021-06-22T00:00:00.000000000\",\"2021-06-23T00:00:00.000000000\",\"2021-06-24T00:00:00.000000000\",\"2021-06-25T00:00:00.000000000\",\"2021-06-26T00:00:00.000000000\",\"2021-06-27T00:00:00.000000000\",\"2021-06-28T00:00:00.000000000\"],\"y\":[289.1858,289.1456,289.1774,289.223,289.29315,289.39478,289.57895],\"type\":\"scatter\"},{\"legendgroup\":\"1_global_11111110111\",\"legendgrouptitle\":{\"font\":{\"color\":\"black\",\"family\":\"Arial Bold\",\"size\":14},\"text\":\"1_global_11111110111\"},\"line\":{\"color\":\"rgb(46, 46, 252)\",\"width\":1},\"mode\":\"lines\",\"name\":\"1_global_11111110111\",\"showlegend\":true,\"x\":[\"2021-06-22T00:00:00.000000000\",\"2021-06-23T00:00:00.000000000\",\"2021-06-24T00:00:00.000000000\",\"2021-06-25T00:00:00.000000000\",\"2021-06-26T00:00:00.000000000\",\"2021-06-27T00:00:00.000000000\",\"2021-06-28T00:00:00.000000000\"],\"y\":[293.44644,299.73148,305.91602,312.00302,317.99374,323.88696,329.683],\"type\":\"scatter\"},{\"legendgroup\":\"0.001_global_11111111011\",\"legendgrouptitle\":{\"font\":{\"color\":\"black\",\"family\":\"Arial Bold\",\"size\":14},\"text\":\"0.001_global_11111111011\"},\"line\":{\"color\":\"rgb(40, 40, 252)\",\"width\":1},\"mode\":\"lines\",\"name\":\"0.001_global_11111111011\",\"showlegend\":true,\"x\":[\"2021-06-22T00:00:00.000000000\",\"2021-06-23T00:00:00.000000000\",\"2021-06-24T00:00:00.000000000\",\"2021-06-25T00:00:00.000000000\",\"2021-06-26T00:00:00.000000000\",\"2021-06-27T00:00:00.000000000\",\"2021-06-28T00:00:00.000000000\"],\"y\":[289.1861,289.14682,289.17957,289.22638,289.29565,289.3944,289.57822],\"type\":\"scatter\"},{\"legendgroup\":\"1_global_11111111011\",\"legendgrouptitle\":{\"font\":{\"color\":\"black\",\"family\":\"Arial Bold\",\"size\":14},\"text\":\"1_global_11111111011\"},\"line\":{\"color\":\"rgb(35, 35, 253)\",\"width\":1},\"mode\":\"lines\",\"name\":\"1_global_11111111011\",\"showlegend\":true,\"x\":[\"2021-06-22T00:00:00.000000000\",\"2021-06-23T00:00:00.000000000\",\"2021-06-24T00:00:00.000000000\",\"2021-06-25T00:00:00.000000000\",\"2021-06-26T00:00:00.000000000\",\"2021-06-27T00:00:00.000000000\",\"2021-06-28T00:00:00.000000000\"],\"y\":[293.44614,299.73196,305.92172,312.0153,318.0125,323.9125,329.71423],\"type\":\"scatter\"},{\"legendgroup\":\"0.001_global_11111111101\",\"legendgrouptitle\":{\"font\":{\"color\":\"black\",\"family\":\"Arial Bold\",\"size\":14},\"text\":\"0.001_global_11111111101\"},\"line\":{\"color\":\"rgb(30, 30, 253)\",\"width\":1},\"mode\":\"lines\",\"name\":\"0.001_global_11111111101\",\"showlegend\":true,\"x\":[\"2021-06-22T00:00:00.000000000\",\"2021-06-23T00:00:00.000000000\",\"2021-06-24T00:00:00.000000000\",\"2021-06-25T00:00:00.000000000\",\"2021-06-26T00:00:00.000000000\",\"2021-06-27T00:00:00.000000000\",\"2021-06-28T00:00:00.000000000\"],\"y\":[289.18567,289.14548,289.17822,289.22443,289.29202,289.39175,289.57492],\"type\":\"scatter\"},{\"legendgroup\":\"1_global_11111111101\",\"legendgrouptitle\":{\"font\":{\"color\":\"black\",\"family\":\"Arial Bold\",\"size\":14},\"text\":\"1_global_11111111101\"},\"line\":{\"color\":\"rgb(25, 25, 253)\",\"width\":1},\"mode\":\"lines\",\"name\":\"1_global_11111111101\",\"showlegend\":true,\"x\":[\"2021-06-22T00:00:00.000000000\",\"2021-06-23T00:00:00.000000000\",\"2021-06-24T00:00:00.000000000\",\"2021-06-25T00:00:00.000000000\",\"2021-06-26T00:00:00.000000000\",\"2021-06-27T00:00:00.000000000\",\"2021-06-28T00:00:00.000000000\"],\"y\":[293.447,299.73456,305.9249,312.01706,318.01328,323.91217,329.71216],\"type\":\"scatter\"},{\"legendgroup\":\"0.001_global_11111111110\",\"legendgrouptitle\":{\"font\":{\"color\":\"black\",\"family\":\"Arial Bold\",\"size\":14},\"text\":\"0.001_global_11111111110\"},\"line\":{\"color\":\"rgb(19, 19, 253)\",\"width\":1},\"mode\":\"lines\",\"name\":\"0.001_global_11111111110\",\"showlegend\":true,\"x\":[\"2021-06-22T00:00:00.000000000\",\"2021-06-23T00:00:00.000000000\",\"2021-06-24T00:00:00.000000000\",\"2021-06-25T00:00:00.000000000\",\"2021-06-26T00:00:00.000000000\",\"2021-06-27T00:00:00.000000000\",\"2021-06-28T00:00:00.000000000\"],\"y\":[289.18594,289.14688,289.17883,289.22476,289.29285,289.39304,289.57315],\"type\":\"scatter\"},{\"legendgroup\":\"1_global_11111111110\",\"legendgrouptitle\":{\"font\":{\"color\":\"black\",\"family\":\"Arial Bold\",\"size\":14},\"text\":\"1_global_11111111110\"},\"line\":{\"color\":\"rgb(15, 15, 254)\",\"width\":1},\"mode\":\"lines\",\"name\":\"1_global_11111111110\",\"showlegend\":true,\"x\":[\"2021-06-22T00:00:00.000000000\",\"2021-06-23T00:00:00.000000000\",\"2021-06-24T00:00:00.000000000\",\"2021-06-25T00:00:00.000000000\",\"2021-06-26T00:00:00.000000000\",\"2021-06-27T00:00:00.000000000\",\"2021-06-28T00:00:00.000000000\"],\"y\":[293.45538,299.7546,305.9566,312.06,318.06467,323.97015,329.77582],\"type\":\"scatter\"},{\"legendgroup\":\"0.001_global_11111111111\",\"legendgrouptitle\":{\"font\":{\"color\":\"black\",\"family\":\"Arial Bold\",\"size\":14},\"text\":\"0.001_global_11111111111\"},\"line\":{\"color\":\"rgb(9, 9, 254)\",\"width\":1},\"mode\":\"lines\",\"name\":\"0.001_global_11111111111\",\"showlegend\":true,\"x\":[\"2021-06-22T00:00:00.000000000\",\"2021-06-23T00:00:00.000000000\",\"2021-06-24T00:00:00.000000000\",\"2021-06-25T00:00:00.000000000\",\"2021-06-26T00:00:00.000000000\",\"2021-06-27T00:00:00.000000000\",\"2021-06-28T00:00:00.000000000\"],\"y\":[289.1861,289.14664,289.1794,289.2245,289.29346,289.39453,289.5752],\"type\":\"scatter\"},{\"legendgroup\":\"1_global_11111111111\",\"legendgrouptitle\":{\"font\":{\"color\":\"black\",\"family\":\"Arial Bold\",\"size\":14},\"text\":\"1_global_11111111111\"},\"line\":{\"color\":\"rgb(4, 4, 254)\",\"width\":1},\"mode\":\"lines\",\"name\":\"1_global_11111111111\",\"showlegend\":true,\"x\":[\"2021-06-22T00:00:00.000000000\",\"2021-06-23T00:00:00.000000000\",\"2021-06-24T00:00:00.000000000\",\"2021-06-25T00:00:00.000000000\",\"2021-06-26T00:00:00.000000000\",\"2021-06-27T00:00:00.000000000\",\"2021-06-28T00:00:00.000000000\"],\"y\":[293.44656,299.73355,305.9229,312.01367,318.008,323.90454,329.70364],\"type\":\"scatter\"},{\"legendgroup\":\"0.001_Antarctic_00100000000\",\"legendgrouptitle\":{\"font\":{\"color\":\"black\",\"family\":\"Arial Bold\",\"size\":14},\"text\":\"0.001_Antarctic_00100000000\"},\"line\":{\"color\":\"rgb(225, 238, 225)\",\"width\":1},\"mode\":\"lines\",\"name\":\"0.001_Antarctic_00100000000\",\"showlegend\":true,\"x\":[\"2021-06-22T00:00:00.000000000\",\"2021-06-23T00:00:00.000000000\",\"2021-06-24T00:00:00.000000000\",\"2021-06-25T00:00:00.000000000\",\"2021-06-26T00:00:00.000000000\",\"2021-06-27T00:00:00.000000000\",\"2021-06-28T00:00:00.000000000\"],\"y\":[289.3351,289.3496,289.36597,289.372,289.34283,289.2725,289.22302],\"type\":\"scatter\"},{\"legendgroup\":\"1_Antarctic_00100000000\",\"legendgrouptitle\":{\"font\":{\"color\":\"black\",\"family\":\"Arial Bold\",\"size\":14},\"text\":\"1_Antarctic_00100000000\"},\"line\":{\"color\":\"rgb(216, 233, 216)\",\"width\":1},\"mode\":\"lines\",\"name\":\"1_Antarctic_00100000000\",\"showlegend\":true,\"x\":[\"2021-06-22T00:00:00.000000000\",\"2021-06-23T00:00:00.000000000\",\"2021-06-24T00:00:00.000000000\",\"2021-06-25T00:00:00.000000000\",\"2021-06-26T00:00:00.000000000\",\"2021-06-27T00:00:00.000000000\",\"2021-06-28T00:00:00.000000000\"],\"y\":[289.68073,289.78354,289.7715,289.742,289.672,289.62848,289.6026],\"type\":\"scatter\"},{\"legendgroup\":\"0.001_Arctic_00100000000\",\"legendgrouptitle\":{\"font\":{\"color\":\"black\",\"family\":\"Arial Bold\",\"size\":14},\"text\":\"0.001_Arctic_00100000000\"},\"line\":{\"color\":\"rgb(206, 229, 206)\",\"width\":1},\"mode\":\"lines\",\"name\":\"0.001_Arctic_00100000000\",\"showlegend\":true,\"x\":[\"2021-06-22T00:00:00.000000000\",\"2021-06-23T00:00:00.000000000\",\"2021-06-24T00:00:00.000000000\",\"2021-06-25T00:00:00.000000000\",\"2021-06-26T00:00:00.000000000\",\"2021-06-27T00:00:00.000000000\",\"2021-06-28T00:00:00.000000000\"],\"y\":[289.33502,289.34955,289.3658,289.3721,289.34268,289.2709,289.21954],\"type\":\"scatter\"},{\"legendgroup\":\"1_Arctic_00100000000\",\"legendgrouptitle\":{\"font\":{\"color\":\"black\",\"family\":\"Arial Bold\",\"size\":14},\"text\":\"1_Arctic_00100000000\"},\"line\":{\"color\":\"rgb(197, 224, 197)\",\"width\":1},\"mode\":\"lines\",\"name\":\"1_Arctic_00100000000\",\"showlegend\":true,\"x\":[\"2021-06-22T00:00:00.000000000\",\"2021-06-23T00:00:00.000000000\",\"2021-06-24T00:00:00.000000000\",\"2021-06-25T00:00:00.000000000\",\"2021-06-26T00:00:00.000000000\",\"2021-06-27T00:00:00.000000000\",\"2021-06-28T00:00:00.000000000\"],\"y\":[289.7475,289.80347,289.78143,289.75543,289.68384,289.59106,289.56097],\"type\":\"scatter\"},{\"legendgroup\":\"0.001_AusNZ_00100000000\",\"legendgrouptitle\":{\"font\":{\"color\":\"black\",\"family\":\"Arial Bold\",\"size\":14},\"text\":\"0.001_AusNZ_00100000000\"},\"line\":{\"color\":\"rgb(187, 219, 187)\",\"width\":1},\"mode\":\"lines\",\"name\":\"0.001_AusNZ_00100000000\",\"showlegend\":true,\"x\":[\"2021-06-22T00:00:00.000000000\",\"2021-06-23T00:00:00.000000000\",\"2021-06-24T00:00:00.000000000\",\"2021-06-25T00:00:00.000000000\",\"2021-06-26T00:00:00.000000000\",\"2021-06-27T00:00:00.000000000\",\"2021-06-28T00:00:00.000000000\"],\"y\":[289.33505,289.34955,289.36584,289.37186,289.34286,289.2712,289.22025],\"type\":\"scatter\"},{\"legendgroup\":\"1_AusNZ_00100000000\",\"legendgrouptitle\":{\"font\":{\"color\":\"black\",\"family\":\"Arial Bold\",\"size\":14},\"text\":\"1_AusNZ_00100000000\"},\"line\":{\"color\":\"rgb(178, 215, 178)\",\"width\":1},\"mode\":\"lines\",\"name\":\"1_AusNZ_00100000000\",\"showlegend\":true,\"x\":[\"2021-06-22T00:00:00.000000000\",\"2021-06-23T00:00:00.000000000\",\"2021-06-24T00:00:00.000000000\",\"2021-06-25T00:00:00.000000000\",\"2021-06-26T00:00:00.000000000\",\"2021-06-27T00:00:00.000000000\",\"2021-06-28T00:00:00.000000000\"],\"y\":[289.4917,289.54398,289.53915,289.53348,289.50037,289.42905,289.40216],\"type\":\"scatter\"},{\"legendgroup\":\"0.001_East\",\"legendgrouptitle\":{\"font\":{\"color\":\"black\",\"family\":\"Arial Bold\",\"size\":14},\"text\":\"0.001_East\"},\"line\":{\"color\":\"rgb(169, 210, 169)\",\"width\":1},\"mode\":\"lines\",\"name\":\"0.001_East\",\"showlegend\":true,\"x\":[\"2021-06-22T00:00:00.000000000\",\"2021-06-23T00:00:00.000000000\",\"2021-06-24T00:00:00.000000000\",\"2021-06-25T00:00:00.000000000\",\"2021-06-26T00:00:00.000000000\",\"2021-06-27T00:00:00.000000000\",\"2021-06-28T00:00:00.000000000\"],\"y\":[289.33505,289.3498,289.3655,289.37234,289.34378,289.27133,289.22067],\"type\":\"scatter\"},{\"legendgroup\":\"1_East\",\"legendgrouptitle\":{\"font\":{\"color\":\"black\",\"family\":\"Arial Bold\",\"size\":14},\"text\":\"1_East\"},\"line\":{\"color\":\"rgb(160, 206, 160)\",\"width\":1},\"mode\":\"lines\",\"name\":\"1_East\",\"showlegend\":true,\"x\":[\"2021-06-22T00:00:00.000000000\",\"2021-06-23T00:00:00.000000000\",\"2021-06-24T00:00:00.000000000\",\"2021-06-25T00:00:00.000000000\",\"2021-06-26T00:00:00.000000000\",\"2021-06-27T00:00:00.000000000\",\"2021-06-28T00:00:00.000000000\"],\"y\":[289.42963,289.4788,289.48737,289.4753,289.42166,289.32626,289.25095],\"type\":\"scatter\"},{\"legendgroup\":\"0.001_Europe_00100000000\",\"legendgrouptitle\":{\"font\":{\"color\":\"black\",\"family\":\"Arial Bold\",\"size\":14},\"text\":\"0.001_Europe_00100000000\"},\"line\":{\"color\":\"rgb(149, 201, 149)\",\"width\":1},\"mode\":\"lines\",\"name\":\"0.001_Europe_00100000000\",\"showlegend\":true,\"x\":[\"2021-06-22T00:00:00.000000000\",\"2021-06-23T00:00:00.000000000\",\"2021-06-24T00:00:00.000000000\",\"2021-06-25T00:00:00.000000000\",\"2021-06-26T00:00:00.000000000\",\"2021-06-27T00:00:00.000000000\",\"2021-06-28T00:00:00.000000000\"],\"y\":[289.33487,289.34897,289.36505,289.37164,289.34247,289.27078,289.21973],\"type\":\"scatter\"},{\"legendgroup\":\"1_Europe_00100000000\",\"legendgrouptitle\":{\"font\":{\"color\":\"black\",\"family\":\"Arial Bold\",\"size\":14},\"text\":\"1_Europe_00100000000\"},\"line\":{\"color\":\"rgb(140, 196, 140)\",\"width\":1},\"mode\":\"lines\",\"name\":\"1_Europe_00100000000\",\"showlegend\":true,\"x\":[\"2021-06-22T00:00:00.000000000\",\"2021-06-23T00:00:00.000000000\",\"2021-06-24T00:00:00.000000000\",\"2021-06-25T00:00:00.000000000\",\"2021-06-26T00:00:00.000000000\",\"2021-06-27T00:00:00.000000000\",\"2021-06-28T00:00:00.000000000\"],\"y\":[289.5191,289.5517,289.54007,289.52863,289.4964,289.42084,289.37064],\"type\":\"scatter\"},{\"legendgroup\":\"0.001_North\",\"legendgrouptitle\":{\"font\":{\"color\":\"black\",\"family\":\"Arial Bold\",\"size\":14},\"text\":\"0.001_North\"},\"line\":{\"color\":\"rgb(131, 192, 131)\",\"width\":1},\"mode\":\"lines\",\"name\":\"0.001_North\",\"showlegend\":true,\"x\":[\"2021-06-22T00:00:00.000000000\",\"2021-06-23T00:00:00.000000000\",\"2021-06-24T00:00:00.000000000\",\"2021-06-25T00:00:00.000000000\",\"2021-06-26T00:00:00.000000000\",\"2021-06-27T00:00:00.000000000\",\"2021-06-28T00:00:00.000000000\"],\"y\":[289.3351,289.34894,289.36502,289.37143,289.34222,289.27072,289.22012],\"type\":\"scatter\"},{\"legendgroup\":\"1_North\",\"legendgrouptitle\":{\"font\":{\"color\":\"black\",\"family\":\"Arial Bold\",\"size\":14},\"text\":\"1_North\"},\"line\":{\"color\":\"rgb(122, 187, 122)\",\"width\":1},\"mode\":\"lines\",\"name\":\"1_North\",\"showlegend\":true,\"x\":[\"2021-06-22T00:00:00.000000000\",\"2021-06-23T00:00:00.000000000\",\"2021-06-24T00:00:00.000000000\",\"2021-06-25T00:00:00.000000000\",\"2021-06-26T00:00:00.000000000\",\"2021-06-27T00:00:00.000000000\",\"2021-06-28T00:00:00.000000000\"],\"y\":[289.46896,289.4402,289.43915,289.42563,289.39096,289.32993,289.28558],\"type\":\"scatter\"},{\"legendgroup\":\"0.001_North\",\"line\":{\"color\":\"rgb(112, 182, 112)\",\"width\":1},\"mode\":\"lines\",\"name\":\"0.001_North\",\"showlegend\":true,\"x\":[\"2021-06-22T00:00:00.000000000\",\"2021-06-23T00:00:00.000000000\",\"2021-06-24T00:00:00.000000000\",\"2021-06-25T00:00:00.000000000\",\"2021-06-26T00:00:00.000000000\",\"2021-06-27T00:00:00.000000000\",\"2021-06-28T00:00:00.000000000\"],\"y\":[289.335,289.34973,289.3656,289.37192,289.34222,289.2708,289.21933],\"type\":\"scatter\"},{\"legendgroup\":\"1_North\",\"line\":{\"color\":\"rgb(103, 178, 103)\",\"width\":1},\"mode\":\"lines\",\"name\":\"1_North\",\"showlegend\":true,\"x\":[\"2021-06-22T00:00:00.000000000\",\"2021-06-23T00:00:00.000000000\",\"2021-06-24T00:00:00.000000000\",\"2021-06-25T00:00:00.000000000\",\"2021-06-26T00:00:00.000000000\",\"2021-06-27T00:00:00.000000000\",\"2021-06-28T00:00:00.000000000\"],\"y\":[289.54135,289.57858,289.57022,289.57867,289.54858,289.4674,289.40747],\"type\":\"scatter\"},{\"legendgroup\":\"0.001_North\",\"line\":{\"color\":\"rgb(93, 173, 93)\",\"width\":1},\"mode\":\"lines\",\"name\":\"0.001_North\",\"showlegend\":true,\"x\":[\"2021-06-22T00:00:00.000000000\",\"2021-06-23T00:00:00.000000000\",\"2021-06-24T00:00:00.000000000\",\"2021-06-25T00:00:00.000000000\",\"2021-06-26T00:00:00.000000000\",\"2021-06-27T00:00:00.000000000\",\"2021-06-28T00:00:00.000000000\"],\"y\":[289.33527,289.34964,289.3659,289.37234,289.34387,289.27283,289.2217],\"type\":\"scatter\"},{\"legendgroup\":\"1_North\",\"line\":{\"color\":\"rgb(84, 169, 84)\",\"width\":1},\"mode\":\"lines\",\"name\":\"1_North\",\"showlegend\":true,\"x\":[\"2021-06-22T00:00:00.000000000\",\"2021-06-23T00:00:00.000000000\",\"2021-06-24T00:00:00.000000000\",\"2021-06-25T00:00:00.000000000\",\"2021-06-26T00:00:00.000000000\",\"2021-06-27T00:00:00.000000000\",\"2021-06-28T00:00:00.000000000\"],\"y\":[289.73773,289.81546,289.81006,289.7958,289.74557,289.65735,289.5953],\"type\":\"scatter\"},{\"legendgroup\":\"0.001_Northern\",\"legendgrouptitle\":{\"font\":{\"color\":\"black\",\"family\":\"Arial Bold\",\"size\":14},\"text\":\"0.001_Northern\"},\"line\":{\"color\":\"rgb(74, 164, 74)\",\"width\":1},\"mode\":\"lines\",\"name\":\"0.001_Northern\",\"showlegend\":true,\"x\":[\"2021-06-22T00:00:00.000000000\",\"2021-06-23T00:00:00.000000000\",\"2021-06-24T00:00:00.000000000\",\"2021-06-25T00:00:00.000000000\",\"2021-06-26T00:00:00.000000000\",\"2021-06-27T00:00:00.000000000\",\"2021-06-28T00:00:00.000000000\"],\"y\":[289.3354,289.34995,289.3666,289.3723,289.34274,289.2718,289.2203],\"type\":\"scatter\"},{\"legendgroup\":\"1_Northern\",\"legendgrouptitle\":{\"font\":{\"color\":\"black\",\"family\":\"Arial Bold\",\"size\":14},\"text\":\"1_Northern\"},\"line\":{\"color\":\"rgb(65, 160, 65)\",\"width\":1},\"mode\":\"lines\",\"name\":\"1_Northern\",\"showlegend\":true,\"x\":[\"2021-06-22T00:00:00.000000000\",\"2021-06-23T00:00:00.000000000\",\"2021-06-24T00:00:00.000000000\",\"2021-06-25T00:00:00.000000000\",\"2021-06-26T00:00:00.000000000\",\"2021-06-27T00:00:00.000000000\",\"2021-06-28T00:00:00.000000000\"],\"y\":[291.1252,291.26,291.08658,290.9907,290.87766,290.7565,290.64673],\"type\":\"scatter\"},{\"legendgroup\":\"0.001_Southern\",\"legendgrouptitle\":{\"font\":{\"color\":\"black\",\"family\":\"Arial Bold\",\"size\":14},\"text\":\"0.001_Southern\"},\"line\":{\"color\":\"rgb(56, 155, 56)\",\"width\":1},\"mode\":\"lines\",\"name\":\"0.001_Southern\",\"showlegend\":true,\"x\":[\"2021-06-22T00:00:00.000000000\",\"2021-06-23T00:00:00.000000000\",\"2021-06-24T00:00:00.000000000\",\"2021-06-25T00:00:00.000000000\",\"2021-06-26T00:00:00.000000000\",\"2021-06-27T00:00:00.000000000\",\"2021-06-28T00:00:00.000000000\"],\"y\":[289.33508,289.34982,289.36603,289.3721,289.34314,289.27142,289.22113],\"type\":\"scatter\"},{\"legendgroup\":\"1_Southern\",\"legendgrouptitle\":{\"font\":{\"color\":\"black\",\"family\":\"Arial Bold\",\"size\":14},\"text\":\"1_Southern\"},\"line\":{\"color\":\"rgb(46, 150, 46)\",\"width\":1},\"mode\":\"lines\",\"name\":\"1_Southern\",\"showlegend\":true,\"x\":[\"2021-06-22T00:00:00.000000000\",\"2021-06-23T00:00:00.000000000\",\"2021-06-24T00:00:00.000000000\",\"2021-06-25T00:00:00.000000000\",\"2021-06-26T00:00:00.000000000\",\"2021-06-27T00:00:00.000000000\",\"2021-06-28T00:00:00.000000000\"],\"y\":[291.25546,291.55682,291.4114,291.3435,291.26068,291.11032,290.96744],\"type\":\"scatter\"},{\"legendgroup\":\"0.001_Tropics_00100000000\",\"legendgrouptitle\":{\"font\":{\"color\":\"black\",\"family\":\"Arial Bold\",\"size\":14},\"text\":\"0.001_Tropics_00100000000\"},\"line\":{\"color\":\"rgb(36, 146, 36)\",\"width\":1},\"mode\":\"lines\",\"name\":\"0.001_Tropics_00100000000\",\"showlegend\":true,\"x\":[\"2021-06-22T00:00:00.000000000\",\"2021-06-23T00:00:00.000000000\",\"2021-06-24T00:00:00.000000000\",\"2021-06-25T00:00:00.000000000\",\"2021-06-26T00:00:00.000000000\",\"2021-06-27T00:00:00.000000000\",\"2021-06-28T00:00:00.000000000\"],\"y\":[289.3348,289.34952,289.3664,289.3721,289.343,289.2717,289.22055],\"type\":\"scatter\"},{\"legendgroup\":\"1_Tropics_00100000000\",\"legendgrouptitle\":{\"font\":{\"color\":\"black\",\"family\":\"Arial Bold\",\"size\":14},\"text\":\"1_Tropics_00100000000\"},\"line\":{\"color\":\"rgb(27, 141, 27)\",\"width\":1},\"mode\":\"lines\",\"name\":\"1_Tropics_00100000000\",\"showlegend\":true,\"x\":[\"2021-06-22T00:00:00.000000000\",\"2021-06-23T00:00:00.000000000\",\"2021-06-24T00:00:00.000000000\",\"2021-06-25T00:00:00.000000000\",\"2021-06-26T00:00:00.000000000\",\"2021-06-27T00:00:00.000000000\",\"2021-06-28T00:00:00.000000000\"],\"y\":[291.19376,291.1556,290.8407,290.79288,290.75674,290.69568,290.6663],\"type\":\"scatter\"},{\"legendgroup\":\"0.001_global_00100000000\",\"line\":{\"color\":\"rgb(18, 137, 18)\",\"width\":1},\"mode\":\"lines\",\"name\":\"0.001_global_00100000000\",\"showlegend\":true,\"x\":[\"2021-06-22T00:00:00.000000000\",\"2021-06-23T00:00:00.000000000\",\"2021-06-24T00:00:00.000000000\",\"2021-06-25T00:00:00.000000000\",\"2021-06-26T00:00:00.000000000\",\"2021-06-27T00:00:00.000000000\",\"2021-06-28T00:00:00.000000000\"],\"y\":[289.335,289.34872,289.36523,289.3712,289.34268,289.27057,289.22104],\"type\":\"scatter\"},{\"legendgroup\":\"1_global_00100000000\",\"line\":{\"color\":\"rgb(9, 132, 9)\",\"width\":1},\"mode\":\"lines\",\"name\":\"1_global_00100000000\",\"showlegend\":true,\"x\":[\"2021-06-22T00:00:00.000000000\",\"2021-06-23T00:00:00.000000000\",\"2021-06-24T00:00:00.000000000\",\"2021-06-25T00:00:00.000000000\",\"2021-06-26T00:00:00.000000000\",\"2021-06-27T00:00:00.000000000\",\"2021-06-28T00:00:00.000000000\"],\"y\":[295.0796,295.5373,294.77222,294.48328,294.2689,294.10092,293.96384],\"type\":\"scatter\"},{\"legendgroup\":\"0.001_Antarctic_11011111111\",\"legendgrouptitle\":{\"font\":{\"color\":\"black\",\"family\":\"Arial Bold\",\"size\":14},\"text\":\"0.001_Antarctic_11011111111\"},\"line\":{\"color\":\"rgb(243, 230, 230)\",\"width\":1},\"mode\":\"lines\",\"name\":\"0.001_Antarctic_11011111111\",\"showlegend\":true,\"x\":[\"2021-06-22T00:00:00.000000000\",\"2021-06-23T00:00:00.000000000\",\"2021-06-24T00:00:00.000000000\",\"2021-06-25T00:00:00.000000000\",\"2021-06-26T00:00:00.000000000\",\"2021-06-27T00:00:00.000000000\",\"2021-06-28T00:00:00.000000000\"],\"y\":[289.33038,289.35495,289.38995,289.3978,289.34973,289.27176,289.2353],\"type\":\"scatter\"},{\"legendgroup\":\"1_Antarctic_11011111111\",\"legendgrouptitle\":{\"font\":{\"color\":\"black\",\"family\":\"Arial Bold\",\"size\":14},\"text\":\"1_Antarctic_11011111111\"},\"line\":{\"color\":\"rgb(243, 221, 221)\",\"width\":1},\"mode\":\"lines\",\"name\":\"1_Antarctic_11011111111\",\"showlegend\":true,\"x\":[\"2021-06-22T00:00:00.000000000\",\"2021-06-23T00:00:00.000000000\",\"2021-06-24T00:00:00.000000000\",\"2021-06-25T00:00:00.000000000\",\"2021-06-26T00:00:00.000000000\",\"2021-06-27T00:00:00.000000000\",\"2021-06-28T00:00:00.000000000\"],\"y\":[289.39978,289.4834,289.5846,289.6643,289.7442,289.83792,289.92154],\"type\":\"scatter\"},{\"legendgroup\":\"0.001_Arctic_11011111111\",\"legendgrouptitle\":{\"font\":{\"color\":\"black\",\"family\":\"Arial Bold\",\"size\":14},\"text\":\"0.001_Arctic_11011111111\"},\"line\":{\"color\":\"rgb(244, 211, 211)\",\"width\":1},\"mode\":\"lines\",\"name\":\"0.001_Arctic_11011111111\",\"showlegend\":true,\"x\":[\"2021-06-22T00:00:00.000000000\",\"2021-06-23T00:00:00.000000000\",\"2021-06-24T00:00:00.000000000\",\"2021-06-25T00:00:00.000000000\",\"2021-06-26T00:00:00.000000000\",\"2021-06-27T00:00:00.000000000\",\"2021-06-28T00:00:00.000000000\"],\"y\":[289.31665,289.31613,289.33292,289.33704,289.30978,289.2619,289.22772],\"type\":\"scatter\"},{\"legendgroup\":\"1_Arctic_11011111111\",\"legendgrouptitle\":{\"font\":{\"color\":\"black\",\"family\":\"Arial Bold\",\"size\":14},\"text\":\"1_Arctic_11011111111\"},\"line\":{\"color\":\"rgb(244, 202, 202)\",\"width\":1},\"mode\":\"lines\",\"name\":\"1_Arctic_11011111111\",\"showlegend\":true,\"x\":[\"2021-06-22T00:00:00.000000000\",\"2021-06-23T00:00:00.000000000\",\"2021-06-24T00:00:00.000000000\",\"2021-06-25T00:00:00.000000000\",\"2021-06-26T00:00:00.000000000\",\"2021-06-27T00:00:00.000000000\",\"2021-06-28T00:00:00.000000000\"],\"y\":[289.47806,289.78397,290.06314,290.3076,290.51422,290.67828,290.87344],\"type\":\"scatter\"},{\"legendgroup\":\"0.001_AusNZ_11011111111\",\"legendgrouptitle\":{\"font\":{\"color\":\"black\",\"family\":\"Arial Bold\",\"size\":14},\"text\":\"0.001_AusNZ_11011111111\"},\"line\":{\"color\":\"rgb(245, 191, 191)\",\"width\":1},\"mode\":\"lines\",\"name\":\"0.001_AusNZ_11011111111\",\"showlegend\":true,\"x\":[\"2021-06-22T00:00:00.000000000\",\"2021-06-23T00:00:00.000000000\",\"2021-06-24T00:00:00.000000000\",\"2021-06-25T00:00:00.000000000\",\"2021-06-26T00:00:00.000000000\",\"2021-06-27T00:00:00.000000000\",\"2021-06-28T00:00:00.000000000\"],\"y\":[289.32474,289.32477,289.3459,289.35938,289.3295,289.2695,289.22833],\"type\":\"scatter\"},{\"legendgroup\":\"1_AusNZ_11011111111\",\"legendgrouptitle\":{\"font\":{\"color\":\"black\",\"family\":\"Arial Bold\",\"size\":14},\"text\":\"1_AusNZ_11011111111\"},\"line\":{\"color\":\"rgb(245, 182, 182)\",\"width\":1},\"mode\":\"lines\",\"name\":\"1_AusNZ_11011111111\",\"showlegend\":true,\"x\":[\"2021-06-22T00:00:00.000000000\",\"2021-06-23T00:00:00.000000000\",\"2021-06-24T00:00:00.000000000\",\"2021-06-25T00:00:00.000000000\",\"2021-06-26T00:00:00.000000000\",\"2021-06-27T00:00:00.000000000\",\"2021-06-28T00:00:00.000000000\"],\"y\":[289.45456,289.77176,290.09677,290.42944,290.72458,290.968,291.2214],\"type\":\"scatter\"},{\"legendgroup\":\"0.001_East\",\"line\":{\"color\":\"rgb(246, 173, 173)\",\"width\":1},\"mode\":\"lines\",\"name\":\"0.001_East\",\"showlegend\":true,\"x\":[\"2021-06-22T00:00:00.000000000\",\"2021-06-23T00:00:00.000000000\",\"2021-06-24T00:00:00.000000000\",\"2021-06-25T00:00:00.000000000\",\"2021-06-26T00:00:00.000000000\",\"2021-06-27T00:00:00.000000000\",\"2021-06-28T00:00:00.000000000\"],\"y\":[289.3347,289.3355,289.34518,289.34988,289.32666,289.25732,289.20874],\"type\":\"scatter\"},{\"legendgroup\":\"1_East\",\"line\":{\"color\":\"rgb(246, 163, 163)\",\"width\":1},\"mode\":\"lines\",\"name\":\"1_East\",\"showlegend\":true,\"x\":[\"2021-06-22T00:00:00.000000000\",\"2021-06-23T00:00:00.000000000\",\"2021-06-24T00:00:00.000000000\",\"2021-06-25T00:00:00.000000000\",\"2021-06-26T00:00:00.000000000\",\"2021-06-27T00:00:00.000000000\",\"2021-06-28T00:00:00.000000000\"],\"y\":[289.32166,289.47086,289.66147,289.85147,289.98486,290.0775,290.20438],\"type\":\"scatter\"},{\"legendgroup\":\"0.001_Europe_11011111111\",\"legendgrouptitle\":{\"font\":{\"color\":\"black\",\"family\":\"Arial Bold\",\"size\":14},\"text\":\"0.001_Europe_11011111111\"},\"line\":{\"color\":\"rgb(247, 153, 153)\",\"width\":1},\"mode\":\"lines\",\"name\":\"0.001_Europe_11011111111\",\"showlegend\":true,\"x\":[\"2021-06-22T00:00:00.000000000\",\"2021-06-23T00:00:00.000000000\",\"2021-06-24T00:00:00.000000000\",\"2021-06-25T00:00:00.000000000\",\"2021-06-26T00:00:00.000000000\",\"2021-06-27T00:00:00.000000000\",\"2021-06-28T00:00:00.000000000\"],\"y\":[289.33337,289.34555,289.35416,289.35287,289.31647,289.25613,289.21664],\"type\":\"scatter\"},{\"legendgroup\":\"1_Europe_11011111111\",\"legendgrouptitle\":{\"font\":{\"color\":\"black\",\"family\":\"Arial Bold\",\"size\":14},\"text\":\"1_Europe_11011111111\"},\"line\":{\"color\":\"rgb(247, 143, 143)\",\"width\":1},\"mode\":\"lines\",\"name\":\"1_Europe_11011111111\",\"showlegend\":true,\"x\":[\"2021-06-22T00:00:00.000000000\",\"2021-06-23T00:00:00.000000000\",\"2021-06-24T00:00:00.000000000\",\"2021-06-25T00:00:00.000000000\",\"2021-06-26T00:00:00.000000000\",\"2021-06-27T00:00:00.000000000\",\"2021-06-28T00:00:00.000000000\"],\"y\":[289.45087,289.64648,289.84583,290.02155,290.16345,290.27026,290.4204],\"type\":\"scatter\"},{\"legendgroup\":\"0.001_North\",\"line\":{\"color\":\"rgb(248, 134, 134)\",\"width\":1},\"mode\":\"lines\",\"name\":\"0.001_North\",\"showlegend\":true,\"x\":[\"2021-06-22T00:00:00.000000000\",\"2021-06-23T00:00:00.000000000\",\"2021-06-24T00:00:00.000000000\",\"2021-06-25T00:00:00.000000000\",\"2021-06-26T00:00:00.000000000\",\"2021-06-27T00:00:00.000000000\",\"2021-06-28T00:00:00.000000000\"],\"y\":[289.3283,289.33298,289.34106,289.3483,289.31885,289.23526,289.18372],\"type\":\"scatter\"},{\"legendgroup\":\"1_North\",\"line\":{\"color\":\"rgb(248, 125, 125)\",\"width\":1},\"mode\":\"lines\",\"name\":\"1_North\",\"showlegend\":true,\"x\":[\"2021-06-22T00:00:00.000000000\",\"2021-06-23T00:00:00.000000000\",\"2021-06-24T00:00:00.000000000\",\"2021-06-25T00:00:00.000000000\",\"2021-06-26T00:00:00.000000000\",\"2021-06-27T00:00:00.000000000\",\"2021-06-28T00:00:00.000000000\"],\"y\":[289.50632,289.6763,289.858,290.0417,290.16595,290.251,290.3721],\"type\":\"scatter\"},{\"legendgroup\":\"0.001_North\",\"line\":{\"color\":\"rgb(249, 114, 114)\",\"width\":1},\"mode\":\"lines\",\"name\":\"0.001_North\",\"showlegend\":true,\"x\":[\"2021-06-22T00:00:00.000000000\",\"2021-06-23T00:00:00.000000000\",\"2021-06-24T00:00:00.000000000\",\"2021-06-25T00:00:00.000000000\",\"2021-06-26T00:00:00.000000000\",\"2021-06-27T00:00:00.000000000\",\"2021-06-28T00:00:00.000000000\"],\"y\":[289.3259,289.33832,289.34995,289.3542,289.3231,289.24973,289.20193],\"type\":\"scatter\"},{\"legendgroup\":\"1_North\",\"line\":{\"color\":\"rgb(249, 105, 105)\",\"width\":1},\"mode\":\"lines\",\"name\":\"1_North\",\"showlegend\":true,\"x\":[\"2021-06-22T00:00:00.000000000\",\"2021-06-23T00:00:00.000000000\",\"2021-06-24T00:00:00.000000000\",\"2021-06-25T00:00:00.000000000\",\"2021-06-26T00:00:00.000000000\",\"2021-06-27T00:00:00.000000000\",\"2021-06-28T00:00:00.000000000\"],\"y\":[289.47205,289.69183,289.88898,290.07285,290.22784,290.34875,290.49063],\"type\":\"scatter\"},{\"legendgroup\":\"0.001_North\",\"line\":{\"color\":\"rgb(250, 95, 95)\",\"width\":1},\"mode\":\"lines\",\"name\":\"0.001_North\",\"showlegend\":true,\"x\":[\"2021-06-22T00:00:00.000000000\",\"2021-06-23T00:00:00.000000000\",\"2021-06-24T00:00:00.000000000\",\"2021-06-25T00:00:00.000000000\",\"2021-06-26T00:00:00.000000000\",\"2021-06-27T00:00:00.000000000\",\"2021-06-28T00:00:00.000000000\"],\"y\":[289.31964,289.3152,289.3077,289.29846,289.2516,289.15894,289.10965],\"type\":\"scatter\"},{\"legendgroup\":\"1_North\",\"line\":{\"color\":\"rgb(250, 86, 86)\",\"width\":1},\"mode\":\"lines\",\"name\":\"1_North\",\"showlegend\":true,\"x\":[\"2021-06-22T00:00:00.000000000\",\"2021-06-23T00:00:00.000000000\",\"2021-06-24T00:00:00.000000000\",\"2021-06-25T00:00:00.000000000\",\"2021-06-26T00:00:00.000000000\",\"2021-06-27T00:00:00.000000000\",\"2021-06-28T00:00:00.000000000\"],\"y\":[289.55597,289.93332,290.3238,290.73163,291.09885,291.41748,291.74762],\"type\":\"scatter\"},{\"legendgroup\":\"0.001_Northern\",\"line\":{\"color\":\"rgb(251, 76, 76)\",\"width\":1},\"mode\":\"lines\",\"name\":\"0.001_Northern\",\"showlegend\":true,\"x\":[\"2021-06-22T00:00:00.000000000\",\"2021-06-23T00:00:00.000000000\",\"2021-06-24T00:00:00.000000000\",\"2021-06-25T00:00:00.000000000\",\"2021-06-26T00:00:00.000000000\",\"2021-06-27T00:00:00.000000000\",\"2021-06-28T00:00:00.000000000\"],\"y\":[289.26553,289.22668,289.17752,289.143,289.081,288.9668,288.90836],\"type\":\"scatter\"},{\"legendgroup\":\"1_Northern\",\"line\":{\"color\":\"rgb(251, 66, 66)\",\"width\":1},\"mode\":\"lines\",\"name\":\"1_Northern\",\"showlegend\":true,\"x\":[\"2021-06-22T00:00:00.000000000\",\"2021-06-23T00:00:00.000000000\",\"2021-06-24T00:00:00.000000000\",\"2021-06-25T00:00:00.000000000\",\"2021-06-26T00:00:00.000000000\",\"2021-06-27T00:00:00.000000000\",\"2021-06-28T00:00:00.000000000\"],\"y\":[290.45944,292.36346,294.28723,296.19232,298.03467,299.81927,301.6231],\"type\":\"scatter\"},{\"legendgroup\":\"0.001_Southern\",\"line\":{\"color\":\"rgb(252, 57, 57)\",\"width\":1},\"mode\":\"lines\",\"name\":\"0.001_Southern\",\"showlegend\":true,\"x\":[\"2021-06-22T00:00:00.000000000\",\"2021-06-23T00:00:00.000000000\",\"2021-06-24T00:00:00.000000000\",\"2021-06-25T00:00:00.000000000\",\"2021-06-26T00:00:00.000000000\",\"2021-06-27T00:00:00.000000000\",\"2021-06-28T00:00:00.000000000\"],\"y\":[289.29477,289.35898,289.46497,289.52942,289.5117,289.4968,289.5131],\"type\":\"scatter\"},{\"legendgroup\":\"1_Southern\",\"line\":{\"color\":\"rgb(252, 47, 47)\",\"width\":1},\"mode\":\"lines\",\"name\":\"1_Southern\",\"showlegend\":true,\"x\":[\"2021-06-22T00:00:00.000000000\",\"2021-06-23T00:00:00.000000000\",\"2021-06-24T00:00:00.000000000\",\"2021-06-25T00:00:00.000000000\",\"2021-06-26T00:00:00.000000000\",\"2021-06-27T00:00:00.000000000\",\"2021-06-28T00:00:00.000000000\"],\"y\":[290.55777,292.4418,294.277,296.06137,297.79065,299.4584,301.06073],\"type\":\"scatter\"},{\"legendgroup\":\"0.001_Tropics_11011111111\",\"legendgrouptitle\":{\"font\":{\"color\":\"black\",\"family\":\"Arial Bold\",\"size\":14},\"text\":\"0.001_Tropics_11011111111\"},\"line\":{\"color\":\"rgb(253, 37, 37)\",\"width\":1},\"mode\":\"lines\",\"name\":\"0.001_Tropics_11011111111\",\"showlegend\":true,\"x\":[\"2021-06-22T00:00:00.000000000\",\"2021-06-23T00:00:00.000000000\",\"2021-06-24T00:00:00.000000000\",\"2021-06-25T00:00:00.000000000\",\"2021-06-26T00:00:00.000000000\",\"2021-06-27T00:00:00.000000000\",\"2021-06-28T00:00:00.000000000\"],\"y\":[289.27475,289.2755,289.32092,289.36667,289.42627,289.47397,289.52612],\"type\":\"scatter\"},{\"legendgroup\":\"1_Tropics_11011111111\",\"legendgrouptitle\":{\"font\":{\"color\":\"black\",\"family\":\"Arial Bold\",\"size\":14},\"text\":\"1_Tropics_11011111111\"},\"line\":{\"color\":\"rgb(253, 28, 28)\",\"width\":1},\"mode\":\"lines\",\"name\":\"1_Tropics_11011111111\",\"showlegend\":true,\"x\":[\"2021-06-22T00:00:00.000000000\",\"2021-06-23T00:00:00.000000000\",\"2021-06-24T00:00:00.000000000\",\"2021-06-25T00:00:00.000000000\",\"2021-06-26T00:00:00.000000000\",\"2021-06-27T00:00:00.000000000\",\"2021-06-28T00:00:00.000000000\"],\"y\":[291.06183,293.7309,296.42877,299.13776,301.787,304.39105,306.95645],\"type\":\"scatter\"},{\"legendgroup\":\"0.001_global_11011111111\",\"line\":{\"color\":\"rgb(254, 18, 18)\",\"width\":1},\"mode\":\"lines\",\"name\":\"0.001_global_11011111111\",\"showlegend\":true,\"x\":[\"2021-06-22T00:00:00.000000000\",\"2021-06-23T00:00:00.000000000\",\"2021-06-24T00:00:00.000000000\",\"2021-06-25T00:00:00.000000000\",\"2021-06-26T00:00:00.000000000\",\"2021-06-27T00:00:00.000000000\",\"2021-06-28T00:00:00.000000000\"],\"y\":[289.18982,289.1516,289.18494,289.23038,289.29962,289.3997,289.57977],\"type\":\"scatter\"},{\"legendgroup\":\"1_global_11011111111\",\"line\":{\"color\":\"rgb(254, 9, 9)\",\"width\":1},\"mode\":\"lines\",\"name\":\"1_global_11011111111\",\"showlegend\":true,\"x\":[\"2021-06-22T00:00:00.000000000\",\"2021-06-23T00:00:00.000000000\",\"2021-06-24T00:00:00.000000000\",\"2021-06-25T00:00:00.000000000\",\"2021-06-26T00:00:00.000000000\",\"2021-06-27T00:00:00.000000000\",\"2021-06-28T00:00:00.000000000\"],\"y\":[293.41882,299.7091,305.90442,311.99756,317.99036,323.886,329.6825],\"type\":\"scatter\"},{\"legendgroup\":\"Ensemble Members\",\"legendgrouptitle\":{\"font\":{\"color\":\"black\",\"family\":\"Arial Bold\",\"size\":14},\"text\":\"Ensemble Members\"},\"line\":{\"color\":\"grey\",\"width\":0.5},\"mode\":\"lines\",\"name\":\"Ensemble Members\",\"opacity\":0.5,\"showlegend\":true,\"x\":[\"2021-06-22T00:00:00\",\"2021-06-23T00:00:00\",\"2021-06-24T00:00:00\",\"2021-06-25T00:00:00\",\"2021-06-26T00:00:00\",\"2021-06-27T00:00:00\",\"2021-06-28T00:00:00\"],\"y\":[289.3408169020958,289.229704779972,289.2360617330832,289.2856577171876,289.31812749076073,289.2874254595531,289.282983236754],\"type\":\"scatter\"},{\"legendgroup\":\"Ensemble Members\",\"line\":{\"color\":\"grey\",\"width\":0.5},\"mode\":\"lines\",\"opacity\":0.5,\"showlegend\":false,\"x\":[\"2021-06-22T00:00:00\",\"2021-06-23T00:00:00\",\"2021-06-24T00:00:00\",\"2021-06-25T00:00:00\",\"2021-06-26T00:00:00\",\"2021-06-27T00:00:00\",\"2021-06-28T00:00:00\"],\"y\":[289.3222677914276,289.19564629134305,289.2206119730672,289.250187577044,289.3231405405639,289.3392333840449,289.2813190061905],\"type\":\"scatter\"},{\"legendgroup\":\"Ensemble Members\",\"line\":{\"color\":\"grey\",\"width\":0.5},\"mode\":\"lines\",\"opacity\":0.5,\"showlegend\":false,\"x\":[\"2021-06-22T00:00:00\",\"2021-06-23T00:00:00\",\"2021-06-24T00:00:00\",\"2021-06-25T00:00:00\",\"2021-06-26T00:00:00\",\"2021-06-27T00:00:00\",\"2021-06-28T00:00:00\"],\"y\":[289.3225455146436,289.2205697763405,289.2612416129822,289.2800073411046,289.32317207428713,289.3732740021562,289.3741864945102],\"type\":\"scatter\"},{\"legendgroup\":\"Ensemble Members\",\"line\":{\"color\":\"grey\",\"width\":0.5},\"mode\":\"lines\",\"opacity\":0.5,\"showlegend\":false,\"x\":[\"2021-06-22T00:00:00\",\"2021-06-23T00:00:00\",\"2021-06-24T00:00:00\",\"2021-06-25T00:00:00\",\"2021-06-26T00:00:00\",\"2021-06-27T00:00:00\",\"2021-06-28T00:00:00\"],\"y\":[289.3450989404606,289.24355347262826,289.269212057016,289.32940960414794,289.3652179891987,289.3614700595664,289.3509217161997],\"type\":\"scatter\"},{\"legendgroup\":\"Ensemble Members\",\"line\":{\"color\":\"grey\",\"width\":0.5},\"mode\":\"lines\",\"opacity\":0.5,\"showlegend\":false,\"x\":[\"2021-06-22T00:00:00\",\"2021-06-23T00:00:00\",\"2021-06-24T00:00:00\",\"2021-06-25T00:00:00\",\"2021-06-26T00:00:00\",\"2021-06-27T00:00:00\",\"2021-06-28T00:00:00\"],\"y\":[289.34646788726457,289.2263048021261,289.2419995205721,289.30546215155306,289.33937878874855,289.320442565399,289.30315904570915],\"type\":\"scatter\"},{\"legendgroup\":\"Ensemble Members\",\"line\":{\"color\":\"grey\",\"width\":0.5},\"mode\":\"lines\",\"opacity\":0.5,\"showlegend\":false,\"x\":[\"2021-06-22T00:00:00\",\"2021-06-23T00:00:00\",\"2021-06-24T00:00:00\",\"2021-06-25T00:00:00\",\"2021-06-26T00:00:00\",\"2021-06-27T00:00:00\",\"2021-06-28T00:00:00\"],\"y\":[289.3584167942402,289.22746679887547,289.2214448310758,289.26099924337467,289.30170301859727,289.31817063877776,289.30867893398175],\"type\":\"scatter\"},{\"legendgroup\":\"Ensemble Members\",\"line\":{\"color\":\"grey\",\"width\":0.5},\"mode\":\"lines\",\"opacity\":0.5,\"showlegend\":false,\"x\":[\"2021-06-22T00:00:00\",\"2021-06-23T00:00:00\",\"2021-06-24T00:00:00\",\"2021-06-25T00:00:00\",\"2021-06-26T00:00:00\",\"2021-06-27T00:00:00\",\"2021-06-28T00:00:00\"],\"y\":[289.33020020086684,289.19858009036267,289.20907069962936,289.2614964052596,289.3398758699251,289.3470858527907,289.282149699979],\"type\":\"scatter\"},{\"legendgroup\":\"Ensemble Members\",\"line\":{\"color\":\"grey\",\"width\":0.5},\"mode\":\"lines\",\"opacity\":0.5,\"showlegend\":false,\"x\":[\"2021-06-22T00:00:00\",\"2021-06-23T00:00:00\",\"2021-06-24T00:00:00\",\"2021-06-25T00:00:00\",\"2021-06-26T00:00:00\",\"2021-06-27T00:00:00\",\"2021-06-28T00:00:00\"],\"y\":[289.33930727034357,289.2206209758742,289.26446533399303,289.314696593273,289.31634430392364,289.2864973740371,289.2603660793958],\"type\":\"scatter\"},{\"legendgroup\":\"Ensemble Members\",\"line\":{\"color\":\"grey\",\"width\":0.5},\"mode\":\"lines\",\"opacity\":0.5,\"showlegend\":false,\"x\":[\"2021-06-22T00:00:00\",\"2021-06-23T00:00:00\",\"2021-06-24T00:00:00\",\"2021-06-25T00:00:00\",\"2021-06-26T00:00:00\",\"2021-06-27T00:00:00\",\"2021-06-28T00:00:00\"],\"y\":[289.3317600440653,289.2054682003863,289.2163066487459,289.2790520800986,289.3422575882586,289.34829942863456,289.3427594277833],\"type\":\"scatter\"},{\"legendgroup\":\"Ensemble Members\",\"line\":{\"color\":\"grey\",\"width\":0.5},\"mode\":\"lines\",\"opacity\":0.5,\"showlegend\":false,\"x\":[\"2021-06-22T00:00:00\",\"2021-06-23T00:00:00\",\"2021-06-24T00:00:00\",\"2021-06-25T00:00:00\",\"2021-06-26T00:00:00\",\"2021-06-27T00:00:00\",\"2021-06-28T00:00:00\"],\"y\":[289.31627954406275,289.2103197594422,289.2478169392522,289.28228777582945,289.32144616763753,289.30556333072127,289.2537338027767],\"type\":\"scatter\"},{\"legendgroup\":\"Ensemble Members\",\"line\":{\"color\":\"grey\",\"width\":0.5},\"mode\":\"lines\",\"opacity\":0.5,\"showlegend\":false,\"x\":[\"2021-06-22T00:00:00\",\"2021-06-23T00:00:00\",\"2021-06-24T00:00:00\",\"2021-06-25T00:00:00\",\"2021-06-26T00:00:00\",\"2021-06-27T00:00:00\",\"2021-06-28T00:00:00\"],\"y\":[289.3322969683356,289.20396482663915,289.24620657705105,289.30135189495485,289.35236112156286,289.34951509518805,289.3017153768474],\"type\":\"scatter\"},{\"legendgroup\":\"Ensemble Members\",\"line\":{\"color\":\"grey\",\"width\":0.5},\"mode\":\"lines\",\"opacity\":0.5,\"showlegend\":false,\"x\":[\"2021-06-22T00:00:00\",\"2021-06-23T00:00:00\",\"2021-06-24T00:00:00\",\"2021-06-25T00:00:00\",\"2021-06-26T00:00:00\",\"2021-06-27T00:00:00\",\"2021-06-28T00:00:00\"],\"y\":[289.3317165951864,289.2180387107018,289.25592916303646,289.30194116608465,289.3264177965785,289.30849226188093,289.27647543118593],\"type\":\"scatter\"},{\"legendgroup\":\"Ensemble Members\",\"line\":{\"color\":\"grey\",\"width\":0.5},\"mode\":\"lines\",\"opacity\":0.5,\"showlegend\":false,\"x\":[\"2021-06-22T00:00:00\",\"2021-06-23T00:00:00\",\"2021-06-24T00:00:00\",\"2021-06-25T00:00:00\",\"2021-06-26T00:00:00\",\"2021-06-27T00:00:00\",\"2021-06-28T00:00:00\"],\"y\":[289.320196702135,289.20185453439336,289.2279281464465,289.2716621283619,289.28893027914467,289.26483126260854,289.25096689600446],\"type\":\"scatter\"},{\"legendgroup\":\"Ensemble Members\",\"line\":{\"color\":\"grey\",\"width\":0.5},\"mode\":\"lines\",\"opacity\":0.5,\"showlegend\":false,\"x\":[\"2021-06-22T00:00:00\",\"2021-06-23T00:00:00\",\"2021-06-24T00:00:00\",\"2021-06-25T00:00:00\",\"2021-06-26T00:00:00\",\"2021-06-27T00:00:00\",\"2021-06-28T00:00:00\"],\"y\":[289.3438391394967,289.22092134949764,289.2267805526387,289.2717222196831,289.32781601051346,289.33324888068387,289.29525013115295],\"type\":\"scatter\"},{\"legendgroup\":\"Ensemble Members\",\"line\":{\"color\":\"grey\",\"width\":0.5},\"mode\":\"lines\",\"opacity\":0.5,\"showlegend\":false,\"x\":[\"2021-06-22T00:00:00\",\"2021-06-23T00:00:00\",\"2021-06-24T00:00:00\",\"2021-06-25T00:00:00\",\"2021-06-26T00:00:00\",\"2021-06-27T00:00:00\",\"2021-06-28T00:00:00\"],\"y\":[289.32818962563175,289.1854594649928,289.20491061419597,289.2733918278459,289.31887980237764,289.32655149284875,289.27810028793255],\"type\":\"scatter\"},{\"legendgroup\":\"Ensemble Members\",\"line\":{\"color\":\"grey\",\"width\":0.5},\"mode\":\"lines\",\"opacity\":0.5,\"showlegend\":false,\"x\":[\"2021-06-22T00:00:00\",\"2021-06-23T00:00:00\",\"2021-06-24T00:00:00\",\"2021-06-25T00:00:00\",\"2021-06-26T00:00:00\",\"2021-06-27T00:00:00\",\"2021-06-28T00:00:00\"],\"y\":[289.3262905944301,289.188766612101,289.1902061198733,289.2677737632681,289.3653508275217,289.364189441671,289.348933828049],\"type\":\"scatter\"},{\"legendgroup\":\"Ensemble Members\",\"line\":{\"color\":\"grey\",\"width\":0.5},\"mode\":\"lines\",\"opacity\":0.5,\"showlegend\":false,\"x\":[\"2021-06-22T00:00:00\",\"2021-06-23T00:00:00\",\"2021-06-24T00:00:00\",\"2021-06-25T00:00:00\",\"2021-06-26T00:00:00\",\"2021-06-27T00:00:00\",\"2021-06-28T00:00:00\"],\"y\":[289.3303837242543,289.2261727802704,289.2317647546299,289.26997317921894,289.3250263482362,289.32343130274216,289.3257163491461],\"type\":\"scatter\"},{\"legendgroup\":\"Ensemble Members\",\"line\":{\"color\":\"grey\",\"width\":0.5},\"mode\":\"lines\",\"opacity\":0.5,\"showlegend\":false,\"x\":[\"2021-06-22T00:00:00\",\"2021-06-23T00:00:00\",\"2021-06-24T00:00:00\",\"2021-06-25T00:00:00\",\"2021-06-26T00:00:00\",\"2021-06-27T00:00:00\",\"2021-06-28T00:00:00\"],\"y\":[289.3331178315097,289.22733048066243,289.23468855144864,289.28818433570746,289.3398820875588,289.3437004301006,289.31017027222686],\"type\":\"scatter\"},{\"legendgroup\":\"Ensemble Members\",\"line\":{\"color\":\"grey\",\"width\":0.5},\"mode\":\"lines\",\"opacity\":0.5,\"showlegend\":false,\"x\":[\"2021-06-22T00:00:00\",\"2021-06-23T00:00:00\",\"2021-06-24T00:00:00\",\"2021-06-25T00:00:00\",\"2021-06-26T00:00:00\",\"2021-06-27T00:00:00\",\"2021-06-28T00:00:00\"],\"y\":[289.327710088039,289.2073446000392,289.22838017124883,289.24872353254136,289.3141853355748,289.3531636465639,289.32182531451497],\"type\":\"scatter\"},{\"legendgroup\":\"Ensemble Members\",\"line\":{\"color\":\"grey\",\"width\":0.5},\"mode\":\"lines\",\"opacity\":0.5,\"showlegend\":false,\"x\":[\"2021-06-22T00:00:00\",\"2021-06-23T00:00:00\",\"2021-06-24T00:00:00\",\"2021-06-25T00:00:00\",\"2021-06-26T00:00:00\",\"2021-06-27T00:00:00\",\"2021-06-28T00:00:00\"],\"y\":[289.33150248494024,289.22389945753525,289.2306203804308,289.28588500488286,289.35833613200214,289.37808480776783,289.3838639924792],\"type\":\"scatter\"},{\"legendgroup\":\"Ensemble Members\",\"line\":{\"color\":\"grey\",\"width\":0.5},\"mode\":\"lines\",\"opacity\":0.5,\"showlegend\":false,\"x\":[\"2021-06-22T00:00:00\",\"2021-06-23T00:00:00\",\"2021-06-24T00:00:00\",\"2021-06-25T00:00:00\",\"2021-06-26T00:00:00\",\"2021-06-27T00:00:00\",\"2021-06-28T00:00:00\"],\"y\":[289.30659482552466,289.21246627260115,289.23120381394733,289.2940298683949,289.37518139429034,289.4070166593829,289.3855478414047],\"type\":\"scatter\"},{\"legendgroup\":\"Ensemble Members\",\"line\":{\"color\":\"grey\",\"width\":0.5},\"mode\":\"lines\",\"opacity\":0.5,\"showlegend\":false,\"x\":[\"2021-06-22T00:00:00\",\"2021-06-23T00:00:00\",\"2021-06-24T00:00:00\",\"2021-06-25T00:00:00\",\"2021-06-26T00:00:00\",\"2021-06-27T00:00:00\",\"2021-06-28T00:00:00\"],\"y\":[289.3454646070346,289.21467100655735,289.2312103136761,289.305672961468,289.35962199575414,289.3778840730106,289.34377724819757],\"type\":\"scatter\"},{\"legendgroup\":\"Ensemble Members\",\"line\":{\"color\":\"grey\",\"width\":0.5},\"mode\":\"lines\",\"opacity\":0.5,\"showlegend\":false,\"x\":[\"2021-06-22T00:00:00\",\"2021-06-23T00:00:00\",\"2021-06-24T00:00:00\",\"2021-06-25T00:00:00\",\"2021-06-26T00:00:00\",\"2021-06-27T00:00:00\",\"2021-06-28T00:00:00\"],\"y\":[289.32416566566786,289.2139056911538,289.2445936243739,289.28006625754784,289.32361724570444,289.32179927204925,289.26427850943696],\"type\":\"scatter\"},{\"legendgroup\":\"Ensemble Members\",\"line\":{\"color\":\"grey\",\"width\":0.5},\"mode\":\"lines\",\"opacity\":0.5,\"showlegend\":false,\"x\":[\"2021-06-22T00:00:00\",\"2021-06-23T00:00:00\",\"2021-06-24T00:00:00\",\"2021-06-25T00:00:00\",\"2021-06-26T00:00:00\",\"2021-06-27T00:00:00\",\"2021-06-28T00:00:00\"],\"y\":[289.31869273726807,289.2100221583292,289.2134981375949,289.26701098246485,289.3286892434453,289.3253722390256,289.28210561916444],\"type\":\"scatter\"},{\"legendgroup\":\"Ensemble Members\",\"line\":{\"color\":\"grey\",\"width\":0.5},\"mode\":\"lines\",\"opacity\":0.5,\"showlegend\":false,\"x\":[\"2021-06-22T00:00:00\",\"2021-06-23T00:00:00\",\"2021-06-24T00:00:00\",\"2021-06-25T00:00:00\",\"2021-06-26T00:00:00\",\"2021-06-27T00:00:00\",\"2021-06-28T00:00:00\"],\"y\":[289.3291798159673,289.22154051897155,289.21729795389757,289.2857389694115,289.35327491547895,289.3338045022854,289.35045929606815],\"type\":\"scatter\"},{\"legendgroup\":\"Ensemble Members\",\"line\":{\"color\":\"grey\",\"width\":0.5},\"mode\":\"lines\",\"opacity\":0.5,\"showlegend\":false,\"x\":[\"2021-06-22T00:00:00\",\"2021-06-23T00:00:00\",\"2021-06-24T00:00:00\",\"2021-06-25T00:00:00\",\"2021-06-26T00:00:00\",\"2021-06-27T00:00:00\",\"2021-06-28T00:00:00\"],\"y\":[289.3410691912968,289.2413799849209,289.2510657132367,289.28233291547565,289.3228159709962,289.33262390725383,289.3349785701069],\"type\":\"scatter\"},{\"legendgroup\":\"Ensemble Members\",\"line\":{\"color\":\"grey\",\"width\":0.5},\"mode\":\"lines\",\"opacity\":0.5,\"showlegend\":false,\"x\":[\"2021-06-22T00:00:00\",\"2021-06-23T00:00:00\",\"2021-06-24T00:00:00\",\"2021-06-25T00:00:00\",\"2021-06-26T00:00:00\",\"2021-06-27T00:00:00\",\"2021-06-28T00:00:00\"],\"y\":[289.32493430524204,289.222010981306,289.2449731326716,289.28539170216135,289.33801651474255,289.3552833412125,289.35309516054946],\"type\":\"scatter\"},{\"legendgroup\":\"Ensemble Members\",\"line\":{\"color\":\"grey\",\"width\":0.5},\"mode\":\"lines\",\"opacity\":0.5,\"showlegend\":false,\"x\":[\"2021-06-22T00:00:00\",\"2021-06-23T00:00:00\",\"2021-06-24T00:00:00\",\"2021-06-25T00:00:00\",\"2021-06-26T00:00:00\",\"2021-06-27T00:00:00\",\"2021-06-28T00:00:00\"],\"y\":[289.36853508149096,289.25144321107126,289.24867404001276,289.27358001298194,289.3587917795231,289.3730813293985,289.367380992394],\"type\":\"scatter\"},{\"legendgroup\":\"Ensemble Members\",\"line\":{\"color\":\"grey\",\"width\":0.5},\"mode\":\"lines\",\"opacity\":0.5,\"showlegend\":false,\"x\":[\"2021-06-22T00:00:00\",\"2021-06-23T00:00:00\",\"2021-06-24T00:00:00\",\"2021-06-25T00:00:00\",\"2021-06-26T00:00:00\",\"2021-06-27T00:00:00\",\"2021-06-28T00:00:00\"],\"y\":[289.3671911744256,289.2314304258149,289.2493771134176,289.29169278255983,289.34663672725964,289.3148817415145,289.2629661815002],\"type\":\"scatter\"},{\"legendgroup\":\"Ensemble Members\",\"line\":{\"color\":\"grey\",\"width\":0.5},\"mode\":\"lines\",\"opacity\":0.5,\"showlegend\":false,\"x\":[\"2021-06-22T00:00:00\",\"2021-06-23T00:00:00\",\"2021-06-24T00:00:00\",\"2021-06-25T00:00:00\",\"2021-06-26T00:00:00\",\"2021-06-27T00:00:00\",\"2021-06-28T00:00:00\"],\"y\":[289.35347457783377,289.1991761766157,289.201245647043,289.2457439947382,289.3063541769323,289.34399476857806,289.328903470799],\"type\":\"scatter\"},{\"legendgroup\":\"Ensemble Members\",\"line\":{\"color\":\"grey\",\"width\":0.5},\"mode\":\"lines\",\"opacity\":0.5,\"showlegend\":false,\"x\":[\"2021-06-22T00:00:00\",\"2021-06-23T00:00:00\",\"2021-06-24T00:00:00\",\"2021-06-25T00:00:00\",\"2021-06-26T00:00:00\",\"2021-06-27T00:00:00\",\"2021-06-28T00:00:00\"],\"y\":[289.3421631148781,289.2177831439912,289.21370360733465,289.26811539902116,289.34258904997336,289.34591298345066,289.31736812208305],\"type\":\"scatter\"},{\"legendgroup\":\"Ensemble Members\",\"line\":{\"color\":\"grey\",\"width\":0.5},\"mode\":\"lines\",\"opacity\":0.5,\"showlegend\":false,\"x\":[\"2021-06-22T00:00:00\",\"2021-06-23T00:00:00\",\"2021-06-24T00:00:00\",\"2021-06-25T00:00:00\",\"2021-06-26T00:00:00\",\"2021-06-27T00:00:00\",\"2021-06-28T00:00:00\"],\"y\":[289.3288989028028,289.2077840331206,289.21327178792853,289.25064311278845,289.2846261479177,289.2795086804887,289.25653759178516],\"type\":\"scatter\"},{\"legendgroup\":\"Ensemble Members\",\"line\":{\"color\":\"grey\",\"width\":0.5},\"mode\":\"lines\",\"opacity\":0.5,\"showlegend\":false,\"x\":[\"2021-06-22T00:00:00\",\"2021-06-23T00:00:00\",\"2021-06-24T00:00:00\",\"2021-06-25T00:00:00\",\"2021-06-26T00:00:00\",\"2021-06-27T00:00:00\",\"2021-06-28T00:00:00\"],\"y\":[289.3434436351564,289.22754642623335,289.25156868744887,289.3058069883049,289.37352920655974,289.36999460394264,289.31072336204875],\"type\":\"scatter\"},{\"legendgroup\":\"Ensemble Members\",\"line\":{\"color\":\"grey\",\"width\":0.5},\"mode\":\"lines\",\"opacity\":0.5,\"showlegend\":false,\"x\":[\"2021-06-22T00:00:00\",\"2021-06-23T00:00:00\",\"2021-06-24T00:00:00\",\"2021-06-25T00:00:00\",\"2021-06-26T00:00:00\",\"2021-06-27T00:00:00\",\"2021-06-28T00:00:00\"],\"y\":[289.32756362761535,289.2243402025127,289.2386180479347,289.2809970459302,289.33210069270547,289.3600267769953,289.3241958379531],\"type\":\"scatter\"},{\"legendgroup\":\"Ensemble Members\",\"line\":{\"color\":\"grey\",\"width\":0.5},\"mode\":\"lines\",\"opacity\":0.5,\"showlegend\":false,\"x\":[\"2021-06-22T00:00:00\",\"2021-06-23T00:00:00\",\"2021-06-24T00:00:00\",\"2021-06-25T00:00:00\",\"2021-06-26T00:00:00\",\"2021-06-27T00:00:00\",\"2021-06-28T00:00:00\"],\"y\":[289.3440290421921,289.2157570740433,289.2407506412042,289.3016495125486,289.35472992344995,289.3539571607218,289.33862209448023],\"type\":\"scatter\"},{\"legendgroup\":\"Ensemble Members\",\"line\":{\"color\":\"grey\",\"width\":0.5},\"mode\":\"lines\",\"opacity\":0.5,\"showlegend\":false,\"x\":[\"2021-06-22T00:00:00\",\"2021-06-23T00:00:00\",\"2021-06-24T00:00:00\",\"2021-06-25T00:00:00\",\"2021-06-26T00:00:00\",\"2021-06-27T00:00:00\",\"2021-06-28T00:00:00\"],\"y\":[289.34167945888134,289.2331696233231,289.27494918359633,289.3077428849118,289.360172134356,289.37820985579424,289.3055613066062],\"type\":\"scatter\"},{\"legendgroup\":\"Ensemble Members\",\"line\":{\"color\":\"grey\",\"width\":0.5},\"mode\":\"lines\",\"opacity\":0.5,\"showlegend\":false,\"x\":[\"2021-06-22T00:00:00\",\"2021-06-23T00:00:00\",\"2021-06-24T00:00:00\",\"2021-06-25T00:00:00\",\"2021-06-26T00:00:00\",\"2021-06-27T00:00:00\",\"2021-06-28T00:00:00\"],\"y\":[289.35245081371966,289.2138017026348,289.22457213310486,289.25457901664913,289.3013417344477,289.288045565143,289.30039313586275],\"type\":\"scatter\"},{\"legendgroup\":\"Ensemble Members\",\"line\":{\"color\":\"grey\",\"width\":0.5},\"mode\":\"lines\",\"opacity\":0.5,\"showlegend\":false,\"x\":[\"2021-06-22T00:00:00\",\"2021-06-23T00:00:00\",\"2021-06-24T00:00:00\",\"2021-06-25T00:00:00\",\"2021-06-26T00:00:00\",\"2021-06-27T00:00:00\",\"2021-06-28T00:00:00\"],\"y\":[289.3477237716375,289.2614838335667,289.27044801411233,289.29119805520304,289.3523216136461,289.363841868174,289.36110879069383],\"type\":\"scatter\"},{\"legendgroup\":\"Ensemble Members\",\"line\":{\"color\":\"grey\",\"width\":0.5},\"mode\":\"lines\",\"opacity\":0.5,\"showlegend\":false,\"x\":[\"2021-06-22T00:00:00\",\"2021-06-23T00:00:00\",\"2021-06-24T00:00:00\",\"2021-06-25T00:00:00\",\"2021-06-26T00:00:00\",\"2021-06-27T00:00:00\",\"2021-06-28T00:00:00\"],\"y\":[289.34820616596363,289.21530630746923,289.1939645918761,289.2097589494223,289.2904118092425,289.30592745482846,289.2529284429646],\"type\":\"scatter\"},{\"legendgroup\":\"Ensemble Members\",\"line\":{\"color\":\"grey\",\"width\":0.5},\"mode\":\"lines\",\"opacity\":0.5,\"showlegend\":false,\"x\":[\"2021-06-22T00:00:00\",\"2021-06-23T00:00:00\",\"2021-06-24T00:00:00\",\"2021-06-25T00:00:00\",\"2021-06-26T00:00:00\",\"2021-06-27T00:00:00\",\"2021-06-28T00:00:00\"],\"y\":[289.3265615770708,289.20813184765274,289.2127724070765,289.295451182102,289.34297305618355,289.3270830487014,289.31411359459827],\"type\":\"scatter\"},{\"legendgroup\":\"Ensemble Members\",\"line\":{\"color\":\"grey\",\"width\":0.5},\"mode\":\"lines\",\"opacity\":0.5,\"showlegend\":false,\"x\":[\"2021-06-22T00:00:00\",\"2021-06-23T00:00:00\",\"2021-06-24T00:00:00\",\"2021-06-25T00:00:00\",\"2021-06-26T00:00:00\",\"2021-06-27T00:00:00\",\"2021-06-28T00:00:00\"],\"y\":[289.3445074137769,289.2108277003482,289.2391899147411,289.2726835346719,289.31914198853957,289.31934224840074,289.2735626326701],\"type\":\"scatter\"},{\"legendgroup\":\"Ensemble Members\",\"line\":{\"color\":\"grey\",\"width\":0.5},\"mode\":\"lines\",\"opacity\":0.5,\"showlegend\":false,\"x\":[\"2021-06-22T00:00:00\",\"2021-06-23T00:00:00\",\"2021-06-24T00:00:00\",\"2021-06-25T00:00:00\",\"2021-06-26T00:00:00\",\"2021-06-27T00:00:00\",\"2021-06-28T00:00:00\"],\"y\":[289.3270477152177,289.2036856512033,289.21005885957373,289.24861266320175,289.2824606273779,289.27702825981095,289.23887251386236],\"type\":\"scatter\"},{\"legendgroup\":\"Ensemble Members\",\"line\":{\"color\":\"grey\",\"width\":0.5},\"mode\":\"lines\",\"opacity\":0.5,\"showlegend\":false,\"x\":[\"2021-06-22T00:00:00\",\"2021-06-23T00:00:00\",\"2021-06-24T00:00:00\",\"2021-06-25T00:00:00\",\"2021-06-26T00:00:00\",\"2021-06-27T00:00:00\",\"2021-06-28T00:00:00\"],\"y\":[289.31654120930796,289.2193896308859,289.21679570587384,289.28643218168816,289.3505582503187,289.3753039565048,289.38423112278826],\"type\":\"scatter\"},{\"legendgroup\":\"Ensemble Members\",\"line\":{\"color\":\"grey\",\"width\":0.5},\"mode\":\"lines\",\"opacity\":0.5,\"showlegend\":false,\"x\":[\"2021-06-22T00:00:00\",\"2021-06-23T00:00:00\",\"2021-06-24T00:00:00\",\"2021-06-25T00:00:00\",\"2021-06-26T00:00:00\",\"2021-06-27T00:00:00\",\"2021-06-28T00:00:00\"],\"y\":[289.3270458640668,289.1965421565085,289.20829974177786,289.2555128488193,289.3021003646711,289.2831313130421,289.24880254602465],\"type\":\"scatter\"},{\"legendgroup\":\"Ensemble Members\",\"line\":{\"color\":\"grey\",\"width\":0.5},\"mode\":\"lines\",\"opacity\":0.5,\"showlegend\":false,\"x\":[\"2021-06-22T00:00:00\",\"2021-06-23T00:00:00\",\"2021-06-24T00:00:00\",\"2021-06-25T00:00:00\",\"2021-06-26T00:00:00\",\"2021-06-27T00:00:00\",\"2021-06-28T00:00:00\"],\"y\":[289.340849126572,289.2180843853966,289.1985057375648,289.25508222351766,289.3125012405949,289.3020608589079,289.26740543875854],\"type\":\"scatter\"},{\"legendgroup\":\"Ensemble Members\",\"line\":{\"color\":\"grey\",\"width\":0.5},\"mode\":\"lines\",\"opacity\":0.5,\"showlegend\":false,\"x\":[\"2021-06-22T00:00:00\",\"2021-06-23T00:00:00\",\"2021-06-24T00:00:00\",\"2021-06-25T00:00:00\",\"2021-06-26T00:00:00\",\"2021-06-27T00:00:00\",\"2021-06-28T00:00:00\"],\"y\":[289.3349014335487,289.2061821834296,289.22706991255734,289.25786947544964,289.32396792134386,289.3279001731078,289.32158108905753],\"type\":\"scatter\"},{\"legendgroup\":\"Ensemble Members\",\"line\":{\"color\":\"grey\",\"width\":0.5},\"mode\":\"lines\",\"opacity\":0.5,\"showlegend\":false,\"x\":[\"2021-06-22T00:00:00\",\"2021-06-23T00:00:00\",\"2021-06-24T00:00:00\",\"2021-06-25T00:00:00\",\"2021-06-26T00:00:00\",\"2021-06-27T00:00:00\",\"2021-06-28T00:00:00\"],\"y\":[289.33615808250164,289.1816045131544,289.21422413499033,289.2610181168108,289.2694965229874,289.27704083074013,289.2900993251804],\"type\":\"scatter\"},{\"legendgroup\":\"Ensemble Members\",\"line\":{\"color\":\"grey\",\"width\":0.5},\"mode\":\"lines\",\"opacity\":0.5,\"showlegend\":false,\"x\":[\"2021-06-22T00:00:00\",\"2021-06-23T00:00:00\",\"2021-06-24T00:00:00\",\"2021-06-25T00:00:00\",\"2021-06-26T00:00:00\",\"2021-06-27T00:00:00\",\"2021-06-28T00:00:00\"],\"y\":[289.3252281298713,289.21185850978935,289.21260888719604,289.2728354344391,289.3224268977454,289.342231434412,289.3102460626648],\"type\":\"scatter\"},{\"legendgroup\":\"Ensemble Members\",\"line\":{\"color\":\"grey\",\"width\":0.5},\"mode\":\"lines\",\"opacity\":0.5,\"showlegend\":false,\"x\":[\"2021-06-22T00:00:00\",\"2021-06-23T00:00:00\",\"2021-06-24T00:00:00\",\"2021-06-25T00:00:00\",\"2021-06-26T00:00:00\",\"2021-06-27T00:00:00\",\"2021-06-28T00:00:00\"],\"y\":[289.3180632915534,289.20056494732563,289.2120102524077,289.28096851850086,289.3252272680782,289.31020957427,289.2930029098481],\"type\":\"scatter\"},{\"legendgroup\":\"Ensemble Members\",\"line\":{\"color\":\"grey\",\"width\":0.5},\"mode\":\"lines\",\"opacity\":0.5,\"showlegend\":false,\"x\":[\"2021-06-22T00:00:00\",\"2021-06-23T00:00:00\",\"2021-06-24T00:00:00\",\"2021-06-25T00:00:00\",\"2021-06-26T00:00:00\",\"2021-06-27T00:00:00\",\"2021-06-28T00:00:00\"],\"y\":[289.3305338994627,289.2095630658151,289.2186795781214,289.2547251562688,289.3378367824854,289.34497044496646,289.31542343794507],\"type\":\"scatter\"},{\"legendgroup\":\"Ensemble Mean\",\"legendgrouptitle\":{\"font\":{\"color\":\"black\",\"family\":\"Arial Bold\",\"size\":14},\"text\":\"Ensemble Mean\"},\"line\":{\"color\":\"black\",\"width\":2},\"mode\":\"lines\",\"name\":\"Ensemble Mean\",\"showlegend\":true,\"x\":[\"2021-06-22T00:00:00\",\"2021-06-23T00:00:00\",\"2021-06-24T00:00:00\",\"2021-06-25T00:00:00\",\"2021-06-26T00:00:00\",\"2021-06-27T00:00:00\",\"2021-06-28T00:00:00\"],\"y\":[289.3348260580196,289.2156688225986,289.22981695393423,289.2770561657775,289.33002725539444,289.33300279287704,289.3086309514063],\"type\":\"scatter\"}],                        {\"height\":900,\"legend\":{\"bgcolor\":\"rgba(255,255,255,0.95)\",\"bordercolor\":\"rgba(0,0,0,0.2)\",\"borderwidth\":1,\"font\":{\"size\":12},\"groupclick\":\"toggleitem\",\"grouptitlefont\":{\"color\":\"black\",\"family\":\"Arial Bold\",\"size\":14},\"itemclick\":\"toggle\",\"itemdoubleclick\":\"toggleothers\",\"itemsizing\":\"constant\",\"orientation\":\"v\",\"title\":{\"font\":{\"size\":16},\"text\":\"Legend\"},\"tracegroupgap\":15,\"traceorder\":\"grouped\",\"x\":1.05,\"y\":1},\"margin\":{\"b\":40,\"l\":40,\"r\":40,\"t\":40},\"template\":{\"data\":{\"barpolar\":[{\"marker\":{\"line\":{\"color\":\"white\",\"width\":0.5},\"pattern\":{\"fillmode\":\"overlay\",\"size\":10,\"solidity\":0.2}},\"type\":\"barpolar\"}],\"bar\":[{\"error_x\":{\"color\":\"#2a3f5f\"},\"error_y\":{\"color\":\"#2a3f5f\"},\"marker\":{\"line\":{\"color\":\"white\",\"width\":0.5},\"pattern\":{\"fillmode\":\"overlay\",\"size\":10,\"solidity\":0.2}},\"type\":\"bar\"}],\"carpet\":[{\"aaxis\":{\"endlinecolor\":\"#2a3f5f\",\"gridcolor\":\"#C8D4E3\",\"linecolor\":\"#C8D4E3\",\"minorgridcolor\":\"#C8D4E3\",\"startlinecolor\":\"#2a3f5f\"},\"baxis\":{\"endlinecolor\":\"#2a3f5f\",\"gridcolor\":\"#C8D4E3\",\"linecolor\":\"#C8D4E3\",\"minorgridcolor\":\"#C8D4E3\",\"startlinecolor\":\"#2a3f5f\"},\"type\":\"carpet\"}],\"choropleth\":[{\"colorbar\":{\"outlinewidth\":0,\"ticks\":\"\"},\"type\":\"choropleth\"}],\"contourcarpet\":[{\"colorbar\":{\"outlinewidth\":0,\"ticks\":\"\"},\"type\":\"contourcarpet\"}],\"contour\":[{\"colorbar\":{\"outlinewidth\":0,\"ticks\":\"\"},\"colorscale\":[[0.0,\"#0d0887\"],[0.1111111111111111,\"#46039f\"],[0.2222222222222222,\"#7201a8\"],[0.3333333333333333,\"#9c179e\"],[0.4444444444444444,\"#bd3786\"],[0.5555555555555556,\"#d8576b\"],[0.6666666666666666,\"#ed7953\"],[0.7777777777777778,\"#fb9f3a\"],[0.8888888888888888,\"#fdca26\"],[1.0,\"#f0f921\"]],\"type\":\"contour\"}],\"heatmapgl\":[{\"colorbar\":{\"outlinewidth\":0,\"ticks\":\"\"},\"colorscale\":[[0.0,\"#0d0887\"],[0.1111111111111111,\"#46039f\"],[0.2222222222222222,\"#7201a8\"],[0.3333333333333333,\"#9c179e\"],[0.4444444444444444,\"#bd3786\"],[0.5555555555555556,\"#d8576b\"],[0.6666666666666666,\"#ed7953\"],[0.7777777777777778,\"#fb9f3a\"],[0.8888888888888888,\"#fdca26\"],[1.0,\"#f0f921\"]],\"type\":\"heatmapgl\"}],\"heatmap\":[{\"colorbar\":{\"outlinewidth\":0,\"ticks\":\"\"},\"colorscale\":[[0.0,\"#0d0887\"],[0.1111111111111111,\"#46039f\"],[0.2222222222222222,\"#7201a8\"],[0.3333333333333333,\"#9c179e\"],[0.4444444444444444,\"#bd3786\"],[0.5555555555555556,\"#d8576b\"],[0.6666666666666666,\"#ed7953\"],[0.7777777777777778,\"#fb9f3a\"],[0.8888888888888888,\"#fdca26\"],[1.0,\"#f0f921\"]],\"type\":\"heatmap\"}],\"histogram2dcontour\":[{\"colorbar\":{\"outlinewidth\":0,\"ticks\":\"\"},\"colorscale\":[[0.0,\"#0d0887\"],[0.1111111111111111,\"#46039f\"],[0.2222222222222222,\"#7201a8\"],[0.3333333333333333,\"#9c179e\"],[0.4444444444444444,\"#bd3786\"],[0.5555555555555556,\"#d8576b\"],[0.6666666666666666,\"#ed7953\"],[0.7777777777777778,\"#fb9f3a\"],[0.8888888888888888,\"#fdca26\"],[1.0,\"#f0f921\"]],\"type\":\"histogram2dcontour\"}],\"histogram2d\":[{\"colorbar\":{\"outlinewidth\":0,\"ticks\":\"\"},\"colorscale\":[[0.0,\"#0d0887\"],[0.1111111111111111,\"#46039f\"],[0.2222222222222222,\"#7201a8\"],[0.3333333333333333,\"#9c179e\"],[0.4444444444444444,\"#bd3786\"],[0.5555555555555556,\"#d8576b\"],[0.6666666666666666,\"#ed7953\"],[0.7777777777777778,\"#fb9f3a\"],[0.8888888888888888,\"#fdca26\"],[1.0,\"#f0f921\"]],\"type\":\"histogram2d\"}],\"histogram\":[{\"marker\":{\"pattern\":{\"fillmode\":\"overlay\",\"size\":10,\"solidity\":0.2}},\"type\":\"histogram\"}],\"mesh3d\":[{\"colorbar\":{\"outlinewidth\":0,\"ticks\":\"\"},\"type\":\"mesh3d\"}],\"parcoords\":[{\"line\":{\"colorbar\":{\"outlinewidth\":0,\"ticks\":\"\"}},\"type\":\"parcoords\"}],\"pie\":[{\"automargin\":true,\"type\":\"pie\"}],\"scatter3d\":[{\"line\":{\"colorbar\":{\"outlinewidth\":0,\"ticks\":\"\"}},\"marker\":{\"colorbar\":{\"outlinewidth\":0,\"ticks\":\"\"}},\"type\":\"scatter3d\"}],\"scattercarpet\":[{\"marker\":{\"colorbar\":{\"outlinewidth\":0,\"ticks\":\"\"}},\"type\":\"scattercarpet\"}],\"scattergeo\":[{\"marker\":{\"colorbar\":{\"outlinewidth\":0,\"ticks\":\"\"}},\"type\":\"scattergeo\"}],\"scattergl\":[{\"marker\":{\"colorbar\":{\"outlinewidth\":0,\"ticks\":\"\"}},\"type\":\"scattergl\"}],\"scattermapbox\":[{\"marker\":{\"colorbar\":{\"outlinewidth\":0,\"ticks\":\"\"}},\"type\":\"scattermapbox\"}],\"scatterpolargl\":[{\"marker\":{\"colorbar\":{\"outlinewidth\":0,\"ticks\":\"\"}},\"type\":\"scatterpolargl\"}],\"scatterpolar\":[{\"marker\":{\"colorbar\":{\"outlinewidth\":0,\"ticks\":\"\"}},\"type\":\"scatterpolar\"}],\"scatter\":[{\"fillpattern\":{\"fillmode\":\"overlay\",\"size\":10,\"solidity\":0.2},\"type\":\"scatter\"}],\"scatterternary\":[{\"marker\":{\"colorbar\":{\"outlinewidth\":0,\"ticks\":\"\"}},\"type\":\"scatterternary\"}],\"surface\":[{\"colorbar\":{\"outlinewidth\":0,\"ticks\":\"\"},\"colorscale\":[[0.0,\"#0d0887\"],[0.1111111111111111,\"#46039f\"],[0.2222222222222222,\"#7201a8\"],[0.3333333333333333,\"#9c179e\"],[0.4444444444444444,\"#bd3786\"],[0.5555555555555556,\"#d8576b\"],[0.6666666666666666,\"#ed7953\"],[0.7777777777777778,\"#fb9f3a\"],[0.8888888888888888,\"#fdca26\"],[1.0,\"#f0f921\"]],\"type\":\"surface\"}],\"table\":[{\"cells\":{\"fill\":{\"color\":\"#EBF0F8\"},\"line\":{\"color\":\"white\"}},\"header\":{\"fill\":{\"color\":\"#C8D4E3\"},\"line\":{\"color\":\"white\"}},\"type\":\"table\"}]},\"layout\":{\"annotationdefaults\":{\"arrowcolor\":\"#2a3f5f\",\"arrowhead\":0,\"arrowwidth\":1},\"autotypenumbers\":\"strict\",\"coloraxis\":{\"colorbar\":{\"outlinewidth\":0,\"ticks\":\"\"}},\"colorscale\":{\"diverging\":[[0,\"#8e0152\"],[0.1,\"#c51b7d\"],[0.2,\"#de77ae\"],[0.3,\"#f1b6da\"],[0.4,\"#fde0ef\"],[0.5,\"#f7f7f7\"],[0.6,\"#e6f5d0\"],[0.7,\"#b8e186\"],[0.8,\"#7fbc41\"],[0.9,\"#4d9221\"],[1,\"#276419\"]],\"sequential\":[[0.0,\"#0d0887\"],[0.1111111111111111,\"#46039f\"],[0.2222222222222222,\"#7201a8\"],[0.3333333333333333,\"#9c179e\"],[0.4444444444444444,\"#bd3786\"],[0.5555555555555556,\"#d8576b\"],[0.6666666666666666,\"#ed7953\"],[0.7777777777777778,\"#fb9f3a\"],[0.8888888888888888,\"#fdca26\"],[1.0,\"#f0f921\"]],\"sequentialminus\":[[0.0,\"#0d0887\"],[0.1111111111111111,\"#46039f\"],[0.2222222222222222,\"#7201a8\"],[0.3333333333333333,\"#9c179e\"],[0.4444444444444444,\"#bd3786\"],[0.5555555555555556,\"#d8576b\"],[0.6666666666666666,\"#ed7953\"],[0.7777777777777778,\"#fb9f3a\"],[0.8888888888888888,\"#fdca26\"],[1.0,\"#f0f921\"]]},\"colorway\":[\"#636efa\",\"#EF553B\",\"#00cc96\",\"#ab63fa\",\"#FFA15A\",\"#19d3f3\",\"#FF6692\",\"#B6E880\",\"#FF97FF\",\"#FECB52\"],\"font\":{\"color\":\"#2a3f5f\"},\"geo\":{\"bgcolor\":\"white\",\"lakecolor\":\"white\",\"landcolor\":\"white\",\"showlakes\":true,\"showland\":true,\"subunitcolor\":\"#C8D4E3\"},\"hoverlabel\":{\"align\":\"left\"},\"hovermode\":\"closest\",\"mapbox\":{\"style\":\"light\"},\"paper_bgcolor\":\"white\",\"plot_bgcolor\":\"white\",\"polar\":{\"angularaxis\":{\"gridcolor\":\"#EBF0F8\",\"linecolor\":\"#EBF0F8\",\"ticks\":\"\"},\"bgcolor\":\"white\",\"radialaxis\":{\"gridcolor\":\"#EBF0F8\",\"linecolor\":\"#EBF0F8\",\"ticks\":\"\"}},\"scene\":{\"xaxis\":{\"backgroundcolor\":\"white\",\"gridcolor\":\"#DFE8F3\",\"gridwidth\":2,\"linecolor\":\"#EBF0F8\",\"showbackground\":true,\"ticks\":\"\",\"zerolinecolor\":\"#EBF0F8\"},\"yaxis\":{\"backgroundcolor\":\"white\",\"gridcolor\":\"#DFE8F3\",\"gridwidth\":2,\"linecolor\":\"#EBF0F8\",\"showbackground\":true,\"ticks\":\"\",\"zerolinecolor\":\"#EBF0F8\"},\"zaxis\":{\"backgroundcolor\":\"white\",\"gridcolor\":\"#DFE8F3\",\"gridwidth\":2,\"linecolor\":\"#EBF0F8\",\"showbackground\":true,\"ticks\":\"\",\"zerolinecolor\":\"#EBF0F8\"}},\"shapedefaults\":{\"line\":{\"color\":\"#2a3f5f\"}},\"ternary\":{\"aaxis\":{\"gridcolor\":\"#DFE8F3\",\"linecolor\":\"#A2B1C6\",\"ticks\":\"\"},\"baxis\":{\"gridcolor\":\"#DFE8F3\",\"linecolor\":\"#A2B1C6\",\"ticks\":\"\"},\"bgcolor\":\"white\",\"caxis\":{\"gridcolor\":\"#DFE8F3\",\"linecolor\":\"#A2B1C6\",\"ticks\":\"\"}},\"title\":{\"x\":0.05},\"xaxis\":{\"automargin\":true,\"gridcolor\":\"#EBF0F8\",\"linecolor\":\"#EBF0F8\",\"ticks\":\"\",\"title\":{\"standoff\":15},\"zerolinecolor\":\"#EBF0F8\",\"zerolinewidth\":2},\"yaxis\":{\"automargin\":true,\"gridcolor\":\"#EBF0F8\",\"linecolor\":\"#EBF0F8\",\"ticks\":\"\",\"title\":{\"standoff\":15},\"zerolinecolor\":\"#EBF0F8\",\"zerolinewidth\":2}}},\"title\":{\"text\":\"Mean 2m Temperature Forecast \\u002f 2021-06-21  + 7 days\"},\"width\":1600,\"xaxis\":{\"range\":[\"2021-06-22T00:00:00\",\"2021-06-28T00:00:00\"],\"title\":{\"text\":\"Date\"}},\"yaxis\":{\"range\":[241.22970809936524,336.0123420715332],\"tickformat\":\".0f\",\"title\":{\"text\":\"Temperature (K)\"}}},                        {\"responsive\": true}                    ).then(function(){\n",
       "                            \n",
       "var gd = document.getElementById('b71f00bb-8a87-4d5e-a670-e4e417b754de');\n",
       "var x = new MutationObserver(function (mutations, observer) {{\n",
       "        var display = window.getComputedStyle(gd).display;\n",
       "        if (!display || display === 'none') {{\n",
       "            console.log([gd, 'removed!']);\n",
       "            Plotly.purge(gd);\n",
       "            observer.disconnect();\n",
       "        }}\n",
       "}});\n",
       "\n",
       "// Listen for the removal of the full notebook cells\n",
       "var notebookContainer = gd.closest('#notebook-container');\n",
       "if (notebookContainer) {{\n",
       "    x.observe(notebookContainer, {childList: true});\n",
       "}}\n",
       "\n",
       "// Listen for the clearing of the current output cell\n",
       "var outputEl = gd.closest('.output');\n",
       "if (outputEl) {{\n",
       "    x.observe(outputEl, {childList: true});\n",
       "}}\n",
       "\n",
       "                        })                };                });            </script>        </div>"
      ]
     },
     "metadata": {},
     "output_type": "display_data"
    }
   ],
   "source": [
    "# Plot perturbation datasets with enhanced legend grouping\n",
    "perturb_lines = []\n",
    "partition_groups = {}\n",
    "\n",
    "for label, color, dataset in perturb_datasets:\n",
    "    partition_name = label.split()[0]\n",
    "    if partition_name not in partition_groups:\n",
    "        partition_groups[partition_name] = []\n",
    "    \n",
    "    # Convert color to RGB if it's a tuple\n",
    "    if isinstance(color, tuple):\n",
    "        color = f'rgb({int(color[0] * 255)}, {int(color[1] * 255)}, {int(color[2] * 255)})'\n",
    "    \n",
    "    # Create trace\n",
    "    trace = go.Scatter(\n",
    "        x=dataset['date'],\n",
    "        y=dataset[target_var],\n",
    "        mode='lines',\n",
    "        line=dict(color=color, width=1),\n",
    "        name=label.split(' ')[0],\n",
    "        legendgroup=partition_name,\n",
    "        legendgrouptitle=dict(\n",
    "            text=partition_name,\n",
    "            font=dict(size=14, color='black', family='Arial Bold')\n",
    "        ) if len(partition_groups[partition_name]) == 0 else None,\n",
    "        showlegend=True\n",
    "    )\n",
    "    partition_groups[partition_name].append(trace)\n",
    "    perturb_lines.append(trace)\n",
    "\n",
    "# Add ensemble lines\n",
    "ensemble_legend_shown = False  # Flag to control legend display\n",
    "for ensemble in df['ensemble'].unique():\n",
    "    subset = df[df['ensemble'] == ensemble]\n",
    "    trace = go.Scatter(\n",
    "        x=subset['date'],\n",
    "        y=subset[target_var],\n",
    "        mode='lines',\n",
    "        line=dict(color='grey', width=0.5),\n",
    "        opacity=0.5,\n",
    "        name='Ensemble Members' if not ensemble_legend_shown else None,\n",
    "        showlegend=not ensemble_legend_shown,\n",
    "        legendgroup='Ensemble Members',\n",
    "        legendgrouptitle=dict(\n",
    "            text='Ensemble Members',\n",
    "            font=dict(size=14, color='black', family='Arial Bold')\n",
    "        ) if not ensemble_legend_shown else None,\n",
    "    )\n",
    "    perturb_lines.append(trace)\n",
    "    ensemble_legend_shown = True  # Only show legend once\n",
    "\n",
    "# Add ensemble mean line\n",
    "mean_temp = df.groupby('date')[target_var].mean().reset_index()\n",
    "ensemble_mean_line = go.Scatter(\n",
    "    x=mean_temp['date'],\n",
    "    y=mean_temp[target_var],\n",
    "    mode='lines',\n",
    "    line=dict(color='black', width=2),\n",
    "    name='Ensemble Mean',\n",
    "    legendgroup='Ensemble Mean',\n",
    "    legendgrouptitle=dict(\n",
    "        text='Ensemble Mean',\n",
    "        font=dict(size=14, color='black', family='Arial Bold')\n",
    "    ),\n",
    "    showlegend=True\n",
    ")\n",
    "perturb_lines.append(ensemble_mean_line)\n",
    "\n",
    "# Calculate y-axis range\n",
    "y_values = []\n",
    "for _, _, dataset in perturb_datasets:\n",
    "    y_values.extend(dataset[target_var].values)\n",
    "y_values.extend(df[target_var].values)  # Include ensemble data\n",
    "y_min = np.min(y_values)\n",
    "y_max = np.max(y_values)\n",
    "y_range = y_max - y_min\n",
    "y_padding = y_range * 0.05\n",
    "\n",
    "# Create the layout\n",
    "layout = go.Layout(\n",
    "    title=title,\n",
    "    xaxis=dict(\n",
    "        title='Date', \n",
    "        range=[pd.Timestamp('2021-06-22'), pd.Timestamp('2021-06-28')]\n",
    "    ),\n",
    "    yaxis=dict(\n",
    "        title=unit,\n",
    "        range=[y_min - y_padding, y_max + y_padding],\n",
    "        tickformat='.0f'\n",
    "    ),\n",
    "    margin=dict(l=40, r=40, t=40, b=40),\n",
    "    height=900,\n",
    "    width=1600,\n",
    "    template='plotly_white',\n",
    "    legend=dict(\n",
    "        title=dict(\n",
    "            text='Legend',\n",
    "            font=dict(size=16)\n",
    "        ),\n",
    "        orientation='v',\n",
    "        x=1.05,\n",
    "        y=1,\n",
    "        itemsizing='constant',\n",
    "        groupclick='toggleitem',\n",
    "        itemclick='toggle',\n",
    "        itemdoubleclick='toggleothers',\n",
    "        tracegroupgap=15,\n",
    "        font=dict(size=12),\n",
    "        grouptitlefont=dict(size=14, color='black', family='Arial Bold'),\n",
    "        borderwidth=1,\n",
    "        bordercolor='rgba(0,0,0,0.2)',\n",
    "        bgcolor='rgba(255,255,255,0.95)',\n",
    "        traceorder='grouped'\n",
    "    )\n",
    ")\n",
    "\n",
    "# Create the figure\n",
    "fig = go.Figure(data=perturb_lines, layout=layout)\n",
    "\n",
    "# Save and display the figure\n",
    "fig.write_html(f\"interactive_{target_var}_forecast.html\")\n",
    "pio.show(fig)\n"
   ]
  },
  {
   "cell_type": "markdown",
   "metadata": {},
   "source": [
    "# Scratch Paper"
   ]
  },
  {
   "cell_type": "code",
   "execution_count": null,
   "metadata": {},
   "outputs": [],
   "source": [
    "import jax\n",
    "import jax.numpy as jnp\n",
    "import numpy as np\n",
    "import pandas as pd\n",
    "from typing import List\n",
    "import xarray as xr\n",
    "\n",
    "class WeatherErrorAccumulationMetricJAX:\n",
    "    def __init__(\n",
    "        self,\n",
    "        cts_data: xr.Dataset,\n",
    "        perturb_datasets: List[xr.Dataset],\n",
    "        target_var: str,\n",
    "        n_samples: int = None,\n",
    "        use_normal_approx: bool = True\n",
    "    ):\n",
    "        \"\"\"\n",
    "        Initialize the error accumulation metric calculator.\n",
    "\n",
    "        Parameters:\n",
    "        - cts_data: xarray.Dataset containing CTS (continuous-time forecasting) data.\n",
    "        - perturb_datasets: List of xarray.Datasets containing perturbed data from the generative model.\n",
    "        - target_var: The target variable (e.g., 'geopotential') to compute the error on.\n",
    "        - n_samples: Number of perturbation samples to use (default uses all).\n",
    "        - use_normal_approx: Whether to use normal approximation for KL divergence.\n",
    "        \"\"\"\n",
    "        self.target_var = target_var\n",
    "        self.n_samples = n_samples if n_samples is not None else len(perturb_datasets)\n",
    "        self.use_normal_approx = use_normal_approx\n",
    "\n",
    "        # Print initial data info\n",
    "        print(f\"\\nInitializing with target variable: {target_var}\")\n",
    "        print(f\"CTS data dimensions: {cts_data.dims}\")\n",
    "        print(f\"Sample perturb dataset dimensions: {perturb_datasets[0].dims}\")\n",
    "\n",
    "        self.process_data(cts_data, perturb_datasets)\n",
    "        if self.use_normal_approx:\n",
    "            self._kl_divergence = jax.jit(self._kl_divergence_normal_impl)\n",
    "        else:\n",
    "            # Implement other divergence measures if needed\n",
    "            pass\n",
    "\n",
    "    def process_data(self, cts_data: xr.Dataset, perturb_datasets: List[xr.Dataset]):\n",
    "        \"\"\"\n",
    "        Process input data by extracting the necessary variables and aligning them.\n",
    "\n",
    "        Parameters:\n",
    "        - cts_data: The CTS dataset.\n",
    "        - perturb_datasets: List of perturbation datasets.\n",
    "        \"\"\"\n",
    "        # Get all unique times from CTS data\n",
    "        self.times = cts_data.coords['date'].values\n",
    "        print(f\"\\nProcessing {len(self.times)} time steps from CTS data\")\n",
    "\n",
    "        # Process CTS data\n",
    "        self.cts_data = {}\n",
    "        for time in self.times:\n",
    "            # Select data for this time\n",
    "            values = cts_data[self.target_var].sel(date=time).values\n",
    "            self.cts_data[time] = jnp.array(values)\n",
    "            print(f\"CTS data shape for time {time}: {values.shape}\")\n",
    "\n",
    "        # Process perturbed data\n",
    "        self.gen_data = {}\n",
    "        for time in self.times:\n",
    "            samples = []\n",
    "            for i, ds in enumerate(perturb_datasets[:self.n_samples]):\n",
    "                try:\n",
    "                    # Get data for this time\n",
    "                    values = ds[self.target_var].sel(date=time).values\n",
    "                    samples.append(values)\n",
    "                    if i == 0:\n",
    "                        print(f\"Sample perturb data shape for time {time}: {values.shape}\")\n",
    "                except KeyError:\n",
    "                    print(f\"Time {time} not found in perturb dataset {i}\")\n",
    "                    continue\n",
    "            if samples:\n",
    "                self.gen_data[time] = jnp.array(samples)\n",
    "                print(f\"Processed {len(samples)} perturbation samples for time {time}\")\n",
    "            else:\n",
    "                print(f\"No perturbation samples for time {time}\")\n",
    "\n",
    "    @staticmethod\n",
    "    def _kl_divergence_normal_impl(p_mean, p_std, q_mean, q_std):\n",
    "        \"\"\"\n",
    "        Compute the KL divergence between two normal distributions N(p_mean, p_std^2) and N(q_mean, q_std^2).\n",
    "\n",
    "        Parameters:\n",
    "        - p_mean, p_std: Mean and standard deviation of distribution p (generator).\n",
    "        - q_mean, q_std: Mean and standard deviation of distribution q (CTS).\n",
    "\n",
    "        Returns:\n",
    "        - KL divergence value.\n",
    "        \"\"\"\n",
    "        return jnp.log(q_std / p_std) + (p_std ** 2 + (p_mean - q_mean) ** 2) / (2 * q_std ** 2) - 0.5\n",
    "\n",
    "    def compute_delta_for_timestep(self, time) -> float:\n",
    "        print(f\"\\nComputing delta for time: {time}\")\n",
    "        time = np.datetime64(time)\n",
    "    \n",
    "        if time not in self.gen_data:\n",
    "            print(f\"Time {time} not found in generator data\")\n",
    "            return np.nan\n",
    "    \n",
    "        if time not in self.cts_data:\n",
    "            print(f\"Time {time} not found in CTS data\")\n",
    "            return np.nan\n",
    "    \n",
    "        gen_samples = self.gen_data[time]  # Shape: (94,)\n",
    "        cts_samples = self.cts_data[time]  # Shape: (50,)\n",
    "    \n",
    "        print(f\"Generator samples shape: {gen_samples.shape}\")\n",
    "        print(f\"CTS samples shape: {cts_samples.shape}\")\n",
    "    \n",
    "        try:\n",
    "            # Since the data is one-dimensional, we can work directly with the samples\n",
    "            gen_samples = gen_samples.astype(np.float32)\n",
    "            cts_samples = cts_samples.astype(np.float32)\n",
    "    \n",
    "            # Standardize the samples\n",
    "            gen_samples_standardized = (gen_samples - gen_samples.mean()) / (gen_samples.std() + 1e-6)\n",
    "            cts_samples_standardized = (cts_samples - cts_samples.mean()) / (cts_samples.std() + 1e-6)\n",
    "    \n",
    "            # Compute means and stds\n",
    "            gen_mean = jnp.mean(gen_samples_standardized)\n",
    "            gen_std = jnp.std(gen_samples_standardized) + 1e-6\n",
    "    \n",
    "            cts_mean = jnp.mean(cts_samples_standardized)\n",
    "            cts_std = jnp.std(cts_samples_standardized) + 1e-6\n",
    "    \n",
    "            # Compute KL divergence\n",
    "            kl_value = self._kl_divergence(gen_mean, gen_std, cts_mean, cts_std)\n",
    "            delta = float(kl_value)\n",
    "    \n",
    "            print(f\"Computed delta for time {time}: {delta}\")\n",
    "            return delta\n",
    "    \n",
    "        except Exception as e:\n",
    "            print(f\"Error computing delta for time {time}: {e}\")\n",
    "            return np.nan\n",
    "\n",
    "\n",
    "    def compute_delta_timeseries(self) -> pd.DataFrame:\n",
    "        \"\"\"\n",
    "        Compute the error accumulation metric over all time steps.\n",
    "\n",
    "        Returns:\n",
    "        - A pandas DataFrame containing the delta values for each time step.\n",
    "        \"\"\"\n",
    "        print(\"\\nComputing delta timeseries\")\n",
    "\n",
    "        deltas = []\n",
    "        for time in self.times:\n",
    "            delta = self.compute_delta_for_timestep(time)\n",
    "            if not np.isnan(delta):\n",
    "                deltas.append({'time': time, 'delta': delta})\n",
    "            else:\n",
    "                print(f\"Delta for time {time} is NaN\")\n",
    "\n",
    "        if deltas:\n",
    "            df = pd.DataFrame(deltas)\n",
    "            return df\n",
    "        else:\n",
    "            print(\"No valid deltas computed.\")\n",
    "            return pd.DataFrame(columns=['time', 'delta'])\n",
    "\n",
    "def compute_error_accumulation_jax(\n",
    "    nwp_data: xr.Dataset,\n",
    "    perturb_datasets: List[xr.Dataset],\n",
    "    target_var: str\n",
    ") -> pd.DataFrame:\n",
    "    \"\"\"\n",
    "    Compute the error accumulation metric using JAX.\n",
    "\n",
    "    Parameters:\n",
    "    - nwp_data: xarray.Dataset containing CTS data.\n",
    "    - perturb_datasets: List of xarray.Datasets containing perturbed data.\n",
    "    - target_var: The target variable to compute the error on.\n",
    "\n",
    "    Returns:\n",
    "    - A pandas DataFrame with the error accumulation metrics.\n",
    "    \"\"\"\n",
    "    print(f\"\\nStarting computation for target variable: {target_var}\")\n",
    "    print(f\"NWP data dimensions: {nwp_data.dims}\")\n",
    "    print(f\"Number of perturb datasets: {len(perturb_datasets)}\")\n",
    "\n",
    "    # Configure JAX to use CPU or GPU as needed\n",
    "    # For CPU: jax.config.update('jax_platform_name', 'cpu')\n",
    "    # For GPU: jax.config.update('jax_platform_name', 'gpu')\n",
    "\n",
    "    metric = WeatherErrorAccumulationMetricJAX(\n",
    "        cts_data=nwp_data,\n",
    "        perturb_datasets=perturb_datasets,\n",
    "        target_var=target_var\n",
    "    )\n",
    "\n",
    "    return metric.compute_delta_timeseries()\n"
   ]
  },
  {
   "cell_type": "code",
   "execution_count": null,
   "metadata": {},
   "outputs": [
    {
     "name": "stdout",
     "output_type": "stream",
     "text": [
      "\n",
      "Starting computation for target variable: geopotential\n",
      "NWP data dimensions: FrozenMappingWarningOnValuesAccess({'date': 7, 'ensemble': 50})\n",
      "Number of perturb datasets: 94\n",
      "\n",
      "Initializing with target variable: geopotential\n",
      "CTS data dimensions: FrozenMappingWarningOnValuesAccess({'date': 7, 'ensemble': 50})\n",
      "Sample perturb dataset dimensions: FrozenMappingWarningOnValuesAccess({'date': 7})\n",
      "\n",
      "Processing 7 time steps from CTS data\n",
      "CTS data shape for time 2021-06-22T00:00:00.000000000: (50,)\n",
      "CTS data shape for time 2021-06-23T00:00:00.000000000: (50,)\n",
      "CTS data shape for time 2021-06-24T00:00:00.000000000: (50,)\n",
      "CTS data shape for time 2021-06-25T00:00:00.000000000: (50,)\n",
      "CTS data shape for time 2021-06-26T00:00:00.000000000: (50,)\n",
      "CTS data shape for time 2021-06-27T00:00:00.000000000: (50,)\n",
      "CTS data shape for time 2021-06-28T00:00:00.000000000: (50,)\n",
      "Sample perturb data shape for time 2021-06-22T00:00:00.000000000: ()\n",
      "Processed 94 perturbation samples for time 2021-06-22T00:00:00.000000000\n",
      "Sample perturb data shape for time 2021-06-23T00:00:00.000000000: ()\n",
      "Processed 94 perturbation samples for time 2021-06-23T00:00:00.000000000\n",
      "Sample perturb data shape for time 2021-06-24T00:00:00.000000000: ()\n",
      "Processed 94 perturbation samples for time 2021-06-24T00:00:00.000000000\n",
      "Sample perturb data shape for time 2021-06-25T00:00:00.000000000: ()\n",
      "Processed 94 perturbation samples for time 2021-06-25T00:00:00.000000000\n",
      "Sample perturb data shape for time 2021-06-26T00:00:00.000000000: ()\n",
      "Processed 94 perturbation samples for time 2021-06-26T00:00:00.000000000\n",
      "Sample perturb data shape for time 2021-06-27T00:00:00.000000000: ()\n",
      "Processed 94 perturbation samples for time 2021-06-27T00:00:00.000000000\n",
      "Sample perturb data shape for time 2021-06-28T00:00:00.000000000: ()\n",
      "Processed 94 perturbation samples for time 2021-06-28T00:00:00.000000000\n",
      "\n",
      "Computing delta timeseries\n",
      "\n",
      "Computing delta for time: 2021-06-22T00:00:00.000000000\n",
      "Generator samples shape: (94,)\n",
      "CTS samples shape: (50,)\n",
      "Computed delta for time 2021-06-22T00:00:00.000000000: 2.2649765014648438e-06\n",
      "\n",
      "Computing delta for time: 2021-06-23T00:00:00.000000000\n",
      "Generator samples shape: (94,)\n",
      "CTS samples shape: (50,)\n",
      "Computed delta for time 2021-06-23T00:00:00.000000000: 5.960464477539063e-08\n",
      "\n",
      "Computing delta for time: 2021-06-24T00:00:00.000000000\n",
      "Generator samples shape: (94,)\n",
      "CTS samples shape: (50,)\n",
      "Computed delta for time 2021-06-24T00:00:00.000000000: 0.0\n",
      "\n",
      "Computing delta for time: 2021-06-25T00:00:00.000000000\n",
      "Generator samples shape: (94,)\n",
      "CTS samples shape: (50,)\n",
      "Computed delta for time 2021-06-25T00:00:00.000000000: 5.960464477539063e-08\n",
      "\n",
      "Computing delta for time: 2021-06-26T00:00:00.000000000\n",
      "Generator samples shape: (94,)\n",
      "CTS samples shape: (50,)\n",
      "Computed delta for time 2021-06-26T00:00:00.000000000: 1.7881393432617188e-07\n",
      "\n",
      "Computing delta for time: 2021-06-27T00:00:00.000000000\n",
      "Generator samples shape: (94,)\n",
      "CTS samples shape: (50,)\n",
      "Computed delta for time 2021-06-27T00:00:00.000000000: 5.960464477539063e-08\n",
      "\n",
      "Computing delta for time: 2021-06-28T00:00:00.000000000\n",
      "Generator samples shape: (94,)\n",
      "CTS samples shape: (50,)\n",
      "Computed delta for time 2021-06-28T00:00:00.000000000: 0.0\n",
      "        time         delta\n",
      "0 2021-06-22  2.264977e-06\n",
      "1 2021-06-23  5.960464e-08\n",
      "2 2021-06-24  0.000000e+00\n",
      "3 2021-06-25  5.960464e-08\n",
      "4 2021-06-26  1.788139e-07\n",
      "5 2021-06-27  5.960464e-08\n",
      "6 2021-06-28  0.000000e+00\n"
     ]
    }
   ],
   "source": [
    "\n",
    "results_df = compute_error_accumulation_jax(\n",
    "    nwp_data=nwp,\n",
    "    perturb_datasets=[item[2] for item in perturb_datasets],\n",
    "    target_var='geopotential'  # or 'z500'\n",
    ")\n",
    "\n",
    "print(results_df)"
   ]
  },
  {
   "cell_type": "code",
   "execution_count": null,
   "metadata": {},
   "outputs": [
    {
     "data": {
      "application/vnd.plotly.v1+json": {
       "config": {
        "plotlyServerURL": "https://plot.ly"
       },
       "data": [
        {
         "legendgroup": "0.001_global_00000000001",
         "legendgrouptitle": {
          "font": {
           "color": "black",
           "family": "Arial Bold",
           "size": 14
          },
          "text": "0.001_global_00000000001"
         },
         "line": {
          "color": "rgb(235, 235, 242)",
          "width": 1
         },
         "mode": "lines",
         "name": "0.001_global_00000000001",
         "showlegend": true,
         "type": "scatter",
         "x": [
          "2021-06-22T00:00:00.000000000",
          "2021-06-23T00:00:00.000000000",
          "2021-06-24T00:00:00.000000000",
          "2021-06-25T00:00:00.000000000",
          "2021-06-26T00:00:00.000000000",
          "2021-06-27T00:00:00.000000000",
          "2021-06-28T00:00:00.000000000"
         ],
         "y": [
          289.3352,
          289.34985,
          289.36597,
          289.37195,
          289.3426,
          289.27228,
          289.22177
         ]
        },
        {
         "legendgroup": "1_global_00000000001",
         "legendgrouptitle": {
          "font": {
           "color": "black",
           "family": "Arial Bold",
           "size": 14
          },
          "text": "1_global_00000000001"
         },
         "line": {
          "color": "rgb(230, 230, 243)",
          "width": 1
         },
         "mode": "lines",
         "name": "1_global_00000000001",
         "showlegend": true,
         "type": "scatter",
         "x": [
          "2021-06-22T00:00:00.000000000",
          "2021-06-23T00:00:00.000000000",
          "2021-06-24T00:00:00.000000000",
          "2021-06-25T00:00:00.000000000",
          "2021-06-26T00:00:00.000000000",
          "2021-06-27T00:00:00.000000000",
          "2021-06-28T00:00:00.000000000"
         ],
         "y": [
          288.4677,
          287.2917,
          286.9017,
          286.75638,
          286.7355,
          286.7074,
          286.66064
         ]
        },
        {
         "legendgroup": "0.001_global_00000000010",
         "legendgrouptitle": {
          "font": {
           "color": "black",
           "family": "Arial Bold",
           "size": 14
          },
          "text": "0.001_global_00000000010"
         },
         "line": {
          "color": "rgb(225, 225, 243)",
          "width": 1
         },
         "mode": "lines",
         "name": "0.001_global_00000000010",
         "showlegend": true,
         "type": "scatter",
         "x": [
          "2021-06-22T00:00:00.000000000",
          "2021-06-23T00:00:00.000000000",
          "2021-06-24T00:00:00.000000000",
          "2021-06-25T00:00:00.000000000",
          "2021-06-26T00:00:00.000000000",
          "2021-06-27T00:00:00.000000000",
          "2021-06-28T00:00:00.000000000"
         ],
         "y": [
          289.33533,
          289.34918,
          289.3655,
          289.37192,
          289.34256,
          289.27133,
          289.22147
         ]
        },
        {
         "legendgroup": "1_global_00000000010",
         "legendgrouptitle": {
          "font": {
           "color": "black",
           "family": "Arial Bold",
           "size": 14
          },
          "text": "1_global_00000000010"
         },
         "line": {
          "color": "rgb(220, 220, 243)",
          "width": 1
         },
         "mode": "lines",
         "name": "1_global_00000000010",
         "showlegend": true,
         "type": "scatter",
         "x": [
          "2021-06-22T00:00:00.000000000",
          "2021-06-23T00:00:00.000000000",
          "2021-06-24T00:00:00.000000000",
          "2021-06-25T00:00:00.000000000",
          "2021-06-26T00:00:00.000000000",
          "2021-06-27T00:00:00.000000000",
          "2021-06-28T00:00:00.000000000"
         ],
         "y": [
          288.31488,
          287.7951,
          287.76907,
          287.7987,
          287.80832,
          287.7911,
          287.78467
         ]
        },
        {
         "legendgroup": "0.001_global_00000000100",
         "legendgrouptitle": {
          "font": {
           "color": "black",
           "family": "Arial Bold",
           "size": 14
          },
          "text": "0.001_global_00000000100"
         },
         "line": {
          "color": "rgb(214, 214, 244)",
          "width": 1
         },
         "mode": "lines",
         "name": "0.001_global_00000000100",
         "showlegend": true,
         "type": "scatter",
         "x": [
          "2021-06-22T00:00:00.000000000",
          "2021-06-23T00:00:00.000000000",
          "2021-06-24T00:00:00.000000000",
          "2021-06-25T00:00:00.000000000",
          "2021-06-26T00:00:00.000000000",
          "2021-06-27T00:00:00.000000000",
          "2021-06-28T00:00:00.000000000"
         ],
         "y": [
          289.3348,
          289.349,
          289.36502,
          289.3713,
          289.34274,
          289.27094,
          289.21976
         ]
        },
        {
         "legendgroup": "1_global_00000000100",
         "legendgrouptitle": {
          "font": {
           "color": "black",
           "family": "Arial Bold",
           "size": 14
          },
          "text": "1_global_00000000100"
         },
         "line": {
          "color": "rgb(210, 210, 244)",
          "width": 1
         },
         "mode": "lines",
         "name": "1_global_00000000100",
         "showlegend": true,
         "type": "scatter",
         "x": [
          "2021-06-22T00:00:00.000000000",
          "2021-06-23T00:00:00.000000000",
          "2021-06-24T00:00:00.000000000",
          "2021-06-25T00:00:00.000000000",
          "2021-06-26T00:00:00.000000000",
          "2021-06-27T00:00:00.000000000",
          "2021-06-28T00:00:00.000000000"
         ],
         "y": [
          287.91367,
          286.66736,
          286.50555,
          286.50034,
          286.52042,
          286.5754,
          286.6479
         ]
        },
        {
         "legendgroup": "0.001_global_00000001000",
         "legendgrouptitle": {
          "font": {
           "color": "black",
           "family": "Arial Bold",
           "size": 14
          },
          "text": "0.001_global_00000001000"
         },
         "line": {
          "color": "rgb(204, 204, 244)",
          "width": 1
         },
         "mode": "lines",
         "name": "0.001_global_00000001000",
         "showlegend": true,
         "type": "scatter",
         "x": [
          "2021-06-22T00:00:00.000000000",
          "2021-06-23T00:00:00.000000000",
          "2021-06-24T00:00:00.000000000",
          "2021-06-25T00:00:00.000000000",
          "2021-06-26T00:00:00.000000000",
          "2021-06-27T00:00:00.000000000",
          "2021-06-28T00:00:00.000000000"
         ],
         "y": [
          289.33487,
          289.34918,
          289.3655,
          289.3721,
          289.34317,
          289.2722,
          289.2236
         ]
        },
        {
         "legendgroup": "1_global_00000001000",
         "legendgrouptitle": {
          "font": {
           "color": "black",
           "family": "Arial Bold",
           "size": 14
          },
          "text": "1_global_00000001000"
         },
         "line": {
          "color": "rgb(199, 199, 244)",
          "width": 1
         },
         "mode": "lines",
         "name": "1_global_00000001000",
         "showlegend": true,
         "type": "scatter",
         "x": [
          "2021-06-22T00:00:00.000000000",
          "2021-06-23T00:00:00.000000000",
          "2021-06-24T00:00:00.000000000",
          "2021-06-25T00:00:00.000000000",
          "2021-06-26T00:00:00.000000000",
          "2021-06-27T00:00:00.000000000",
          "2021-06-28T00:00:00.000000000"
         ],
         "y": [
          289.16803,
          289.255,
          289.34753,
          289.47745,
          289.64435,
          289.792,
          289.96704
         ]
        },
        {
         "legendgroup": "0.001_global_00000010000",
         "legendgrouptitle": {
          "font": {
           "color": "black",
           "family": "Arial Bold",
           "size": 14
          },
          "text": "0.001_global_00000010000"
         },
         "line": {
          "color": "rgb(194, 194, 245)",
          "width": 1
         },
         "mode": "lines",
         "name": "0.001_global_00000010000",
         "showlegend": true,
         "type": "scatter",
         "x": [
          "2021-06-22T00:00:00.000000000",
          "2021-06-23T00:00:00.000000000",
          "2021-06-24T00:00:00.000000000",
          "2021-06-25T00:00:00.000000000",
          "2021-06-26T00:00:00.000000000",
          "2021-06-27T00:00:00.000000000",
          "2021-06-28T00:00:00.000000000"
         ],
         "y": [
          289.34995,
          289.39096,
          289.44305,
          289.50244,
          289.5638,
          289.64557,
          289.7601
         ]
        },
        {
         "legendgroup": "1_global_00000010000",
         "legendgrouptitle": {
          "font": {
           "color": "black",
           "family": "Arial Bold",
           "size": 14
          },
          "text": "1_global_00000010000"
         },
         "line": {
          "color": "rgb(189, 189, 245)",
          "width": 1
         },
         "mode": "lines",
         "name": "1_global_00000010000",
         "showlegend": true,
         "type": "scatter",
         "x": [
          "2021-06-22T00:00:00.000000000",
          "2021-06-23T00:00:00.000000000",
          "2021-06-24T00:00:00.000000000",
          "2021-06-25T00:00:00.000000000",
          "2021-06-26T00:00:00.000000000",
          "2021-06-27T00:00:00.000000000",
          "2021-06-28T00:00:00.000000000"
         ],
         "y": [
          293.48215,
          299.90445,
          306.3049,
          312.69595,
          319.07254,
          325.41623,
          331.70404
         ]
        },
        {
         "legendgroup": "0.001_global_00000100000",
         "legendgrouptitle": {
          "font": {
           "color": "black",
           "family": "Arial Bold",
           "size": 14
          },
          "text": "0.001_global_00000100000"
         },
         "line": {
          "color": "rgb(184, 184, 245)",
          "width": 1
         },
         "mode": "lines",
         "name": "0.001_global_00000100000",
         "showlegend": true,
         "type": "scatter",
         "x": [
          "2021-06-22T00:00:00.000000000",
          "2021-06-23T00:00:00.000000000",
          "2021-06-24T00:00:00.000000000",
          "2021-06-25T00:00:00.000000000",
          "2021-06-26T00:00:00.000000000",
          "2021-06-27T00:00:00.000000000",
          "2021-06-28T00:00:00.000000000"
         ],
         "y": [
          289.33557,
          289.35007,
          289.36633,
          289.3728,
          289.34354,
          289.27194,
          289.22278
         ]
        },
        {
         "legendgroup": "1_global_00000100000",
         "legendgrouptitle": {
          "font": {
           "color": "black",
           "family": "Arial Bold",
           "size": 14
          },
          "text": "1_global_00000100000"
         },
         "line": {
          "color": "rgb(179, 179, 245)",
          "width": 1
         },
         "mode": "lines",
         "name": "1_global_00000100000",
         "showlegend": true,
         "type": "scatter",
         "x": [
          "2021-06-22T00:00:00.000000000",
          "2021-06-23T00:00:00.000000000",
          "2021-06-24T00:00:00.000000000",
          "2021-06-25T00:00:00.000000000",
          "2021-06-26T00:00:00.000000000",
          "2021-06-27T00:00:00.000000000",
          "2021-06-28T00:00:00.000000000"
         ],
         "y": [
          289.0073,
          288.8325,
          288.98282,
          288.99136,
          288.7945,
          288.52087,
          288.2075
         ]
        },
        {
         "legendgroup": "0.001_global_00001000000",
         "legendgrouptitle": {
          "font": {
           "color": "black",
           "family": "Arial Bold",
           "size": 14
          },
          "text": "0.001_global_00001000000"
         },
         "line": {
          "color": "rgb(174, 174, 246)",
          "width": 1
         },
         "mode": "lines",
         "name": "0.001_global_00001000000",
         "showlegend": true,
         "type": "scatter",
         "x": [
          "2021-06-22T00:00:00.000000000",
          "2021-06-23T00:00:00.000000000",
          "2021-06-24T00:00:00.000000000",
          "2021-06-25T00:00:00.000000000",
          "2021-06-26T00:00:00.000000000",
          "2021-06-27T00:00:00.000000000",
          "2021-06-28T00:00:00.000000000"
         ],
         "y": [
          289.18323,
          289.08945,
          289.08136,
          289.08783,
          289.061,
          289.00494,
          288.9702
         ]
        },
        {
         "legendgroup": "1_global_00001000000",
         "legendgrouptitle": {
          "font": {
           "color": "black",
           "family": "Arial Bold",
           "size": 14
          },
          "text": "1_global_00001000000"
         },
         "line": {
          "color": "rgb(168, 168, 246)",
          "width": 1
         },
         "mode": "lines",
         "name": "1_global_00001000000",
         "showlegend": true,
         "type": "scatter",
         "x": [
          "2021-06-22T00:00:00.000000000",
          "2021-06-23T00:00:00.000000000",
          "2021-06-24T00:00:00.000000000",
          "2021-06-25T00:00:00.000000000",
          "2021-06-26T00:00:00.000000000",
          "2021-06-27T00:00:00.000000000",
          "2021-06-28T00:00:00.000000000"
         ],
         "y": [
          286.03818,
          281.72797,
          278.31012,
          274.9834,
          271.64746,
          268.26367,
          264.8946
         ]
        },
        {
         "legendgroup": "0.001_global_00010000000",
         "legendgrouptitle": {
          "font": {
           "color": "black",
           "family": "Arial Bold",
           "size": 14
          },
          "text": "0.001_global_00010000000"
         },
         "line": {
          "color": "rgb(164, 164, 246)",
          "width": 1
         },
         "mode": "lines",
         "name": "0.001_global_00010000000",
         "showlegend": true,
         "type": "scatter",
         "x": [
          "2021-06-22T00:00:00.000000000",
          "2021-06-23T00:00:00.000000000",
          "2021-06-24T00:00:00.000000000",
          "2021-06-25T00:00:00.000000000",
          "2021-06-26T00:00:00.000000000",
          "2021-06-27T00:00:00.000000000",
          "2021-06-28T00:00:00.000000000"
         ],
         "y": [
          289.33475,
          289.34946,
          289.36566,
          289.3719,
          289.34314,
          289.2717,
          289.22086
         ]
        },
        {
         "legendgroup": "1_global_00010000000",
         "legendgrouptitle": {
          "font": {
           "color": "black",
           "family": "Arial Bold",
           "size": 14
          },
          "text": "1_global_00010000000"
         },
         "line": {
          "color": "rgb(158, 158, 246)",
          "width": 1
         },
         "mode": "lines",
         "name": "1_global_00010000000",
         "showlegend": true,
         "type": "scatter",
         "x": [
          "2021-06-22T00:00:00.000000000",
          "2021-06-23T00:00:00.000000000",
          "2021-06-24T00:00:00.000000000",
          "2021-06-25T00:00:00.000000000",
          "2021-06-26T00:00:00.000000000",
          "2021-06-27T00:00:00.000000000",
          "2021-06-28T00:00:00.000000000"
         ],
         "y": [
          292.38785,
          293.2954,
          291.9,
          290.06564,
          288.33484,
          287.08084,
          286.3861
         ]
        },
        {
         "legendgroup": "0.001_global_00100000000",
         "legendgrouptitle": {
          "font": {
           "color": "black",
           "family": "Arial Bold",
           "size": 14
          },
          "text": "0.001_global_00100000000"
         },
         "line": {
          "color": "rgb(153, 153, 247)",
          "width": 1
         },
         "mode": "lines",
         "name": "0.001_global_00100000000",
         "showlegend": true,
         "type": "scatter",
         "x": [
          "2021-06-22T00:00:00.000000000",
          "2021-06-23T00:00:00.000000000",
          "2021-06-24T00:00:00.000000000",
          "2021-06-25T00:00:00.000000000",
          "2021-06-26T00:00:00.000000000",
          "2021-06-27T00:00:00.000000000",
          "2021-06-28T00:00:00.000000000"
         ],
         "y": [
          289.335,
          289.34872,
          289.36523,
          289.3712,
          289.34268,
          289.27057,
          289.22104
         ]
        },
        {
         "legendgroup": "1_global_00100000000",
         "legendgrouptitle": {
          "font": {
           "color": "black",
           "family": "Arial Bold",
           "size": 14
          },
          "text": "1_global_00100000000"
         },
         "line": {
          "color": "rgb(148, 148, 247)",
          "width": 1
         },
         "mode": "lines",
         "name": "1_global_00100000000",
         "showlegend": true,
         "type": "scatter",
         "x": [
          "2021-06-22T00:00:00.000000000",
          "2021-06-23T00:00:00.000000000",
          "2021-06-24T00:00:00.000000000",
          "2021-06-25T00:00:00.000000000",
          "2021-06-26T00:00:00.000000000",
          "2021-06-27T00:00:00.000000000",
          "2021-06-28T00:00:00.000000000"
         ],
         "y": [
          295.0796,
          295.5373,
          294.77222,
          294.48328,
          294.2689,
          294.10092,
          293.96384
         ]
        },
        {
         "legendgroup": "0.001_global_01000000000",
         "legendgrouptitle": {
          "font": {
           "color": "black",
           "family": "Arial Bold",
           "size": 14
          },
          "text": "0.001_global_01000000000"
         },
         "line": {
          "color": "rgb(143, 143, 247)",
          "width": 1
         },
         "mode": "lines",
         "name": "0.001_global_01000000000",
         "showlegend": true,
         "type": "scatter",
         "x": [
          "2021-06-22T00:00:00.000000000",
          "2021-06-23T00:00:00.000000000",
          "2021-06-24T00:00:00.000000000",
          "2021-06-25T00:00:00.000000000",
          "2021-06-26T00:00:00.000000000",
          "2021-06-27T00:00:00.000000000",
          "2021-06-28T00:00:00.000000000"
         ],
         "y": [
          289.33533,
          289.34995,
          289.36597,
          289.37244,
          289.34357,
          289.2721,
          289.22168
         ]
        },
        {
         "legendgroup": "1_global_01000000000",
         "legendgrouptitle": {
          "font": {
           "color": "black",
           "family": "Arial Bold",
           "size": 14
          },
          "text": "1_global_01000000000"
         },
         "line": {
          "color": "rgb(138, 138, 247)",
          "width": 1
         },
         "mode": "lines",
         "name": "1_global_01000000000",
         "showlegend": true,
         "type": "scatter",
         "x": [
          "2021-06-22T00:00:00.000000000",
          "2021-06-23T00:00:00.000000000",
          "2021-06-24T00:00:00.000000000",
          "2021-06-25T00:00:00.000000000",
          "2021-06-26T00:00:00.000000000",
          "2021-06-27T00:00:00.000000000",
          "2021-06-28T00:00:00.000000000"
         ],
         "y": [
          289.17157,
          289.10205,
          289.10458,
          289.11798,
          289.0994,
          289.03546,
          288.99884
         ]
        },
        {
         "legendgroup": "0.001_global_01111111111",
         "legendgrouptitle": {
          "font": {
           "color": "black",
           "family": "Arial Bold",
           "size": 14
          },
          "text": "0.001_global_01111111111"
         },
         "line": {
          "color": "rgb(132, 132, 248)",
          "width": 1
         },
         "mode": "lines",
         "name": "0.001_global_01111111111",
         "showlegend": true,
         "type": "scatter",
         "x": [
          "2021-06-22T00:00:00.000000000",
          "2021-06-23T00:00:00.000000000",
          "2021-06-24T00:00:00.000000000",
          "2021-06-25T00:00:00.000000000",
          "2021-06-26T00:00:00.000000000",
          "2021-06-27T00:00:00.000000000",
          "2021-06-28T00:00:00.000000000"
         ],
         "y": [
          289.1855,
          289.14487,
          289.17722,
          289.22302,
          289.29114,
          289.39273,
          289.57385
         ]
        },
        {
         "legendgroup": "1_global_01111111111",
         "legendgrouptitle": {
          "font": {
           "color": "black",
           "family": "Arial Bold",
           "size": 14
          },
          "text": "1_global_01111111111"
         },
         "line": {
          "color": "rgb(128, 128, 248)",
          "width": 1
         },
         "mode": "lines",
         "name": "1_global_01111111111",
         "showlegend": true,
         "type": "scatter",
         "x": [
          "2021-06-22T00:00:00.000000000",
          "2021-06-23T00:00:00.000000000",
          "2021-06-24T00:00:00.000000000",
          "2021-06-25T00:00:00.000000000",
          "2021-06-26T00:00:00.000000000",
          "2021-06-27T00:00:00.000000000",
          "2021-06-28T00:00:00.000000000"
         ],
         "y": [
          293.44815,
          299.7362,
          305.92545,
          312.01617,
          318.01,
          323.90707,
          329.70682
         ]
        },
        {
         "legendgroup": "0.001_global_10000000000",
         "legendgrouptitle": {
          "font": {
           "color": "black",
           "family": "Arial Bold",
           "size": 14
          },
          "text": "0.001_global_10000000000"
         },
         "line": {
          "color": "rgb(122, 122, 248)",
          "width": 1
         },
         "mode": "lines",
         "name": "0.001_global_10000000000",
         "showlegend": true,
         "type": "scatter",
         "x": [
          "2021-06-22T00:00:00.000000000",
          "2021-06-23T00:00:00.000000000",
          "2021-06-24T00:00:00.000000000",
          "2021-06-25T00:00:00.000000000",
          "2021-06-26T00:00:00.000000000",
          "2021-06-27T00:00:00.000000000",
          "2021-06-28T00:00:00.000000000"
         ],
         "y": [
          289.33502,
          289.34875,
          289.3654,
          289.37192,
          289.34317,
          289.27136,
          289.22076
         ]
        },
        {
         "legendgroup": "1_global_10000000000",
         "legendgrouptitle": {
          "font": {
           "color": "black",
           "family": "Arial Bold",
           "size": 14
          },
          "text": "1_global_10000000000"
         },
         "line": {
          "color": "rgb(117, 117, 248)",
          "width": 1
         },
         "mode": "lines",
         "name": "1_global_10000000000",
         "showlegend": true,
         "type": "scatter",
         "x": [
          "2021-06-22T00:00:00.000000000",
          "2021-06-23T00:00:00.000000000",
          "2021-06-24T00:00:00.000000000",
          "2021-06-25T00:00:00.000000000",
          "2021-06-26T00:00:00.000000000",
          "2021-06-27T00:00:00.000000000",
          "2021-06-28T00:00:00.000000000"
         ],
         "y": [
          289.1054,
          289.00635,
          289.00116,
          289.0112,
          288.99295,
          288.93134,
          288.89575
         ]
        },
        {
         "legendgroup": "0.001_global_10111111111",
         "legendgrouptitle": {
          "font": {
           "color": "black",
           "family": "Arial Bold",
           "size": 14
          },
          "text": "0.001_global_10111111111"
         },
         "line": {
          "color": "rgb(112, 112, 249)",
          "width": 1
         },
         "mode": "lines",
         "name": "0.001_global_10111111111",
         "showlegend": true,
         "type": "scatter",
         "x": [
          "2021-06-22T00:00:00.000000000",
          "2021-06-23T00:00:00.000000000",
          "2021-06-24T00:00:00.000000000",
          "2021-06-25T00:00:00.000000000",
          "2021-06-26T00:00:00.000000000",
          "2021-06-27T00:00:00.000000000",
          "2021-06-28T00:00:00.000000000"
         ],
         "y": [
          289.186,
          289.14673,
          289.17957,
          289.22504,
          289.29434,
          289.3941,
          289.57233
         ]
        },
        {
         "legendgroup": "1_global_10111111111",
         "legendgrouptitle": {
          "font": {
           "color": "black",
           "family": "Arial Bold",
           "size": 14
          },
          "text": "1_global_10111111111"
         },
         "line": {
          "color": "rgb(107, 107, 249)",
          "width": 1
         },
         "mode": "lines",
         "name": "1_global_10111111111",
         "showlegend": true,
         "type": "scatter",
         "x": [
          "2021-06-22T00:00:00.000000000",
          "2021-06-23T00:00:00.000000000",
          "2021-06-24T00:00:00.000000000",
          "2021-06-25T00:00:00.000000000",
          "2021-06-26T00:00:00.000000000",
          "2021-06-27T00:00:00.000000000",
          "2021-06-28T00:00:00.000000000"
         ],
         "y": [
          293.447,
          299.73355,
          305.9225,
          312.0133,
          318.0068,
          323.90375,
          329.70294
         ]
        },
        {
         "legendgroup": "0.001_global_11011111111",
         "legendgrouptitle": {
          "font": {
           "color": "black",
           "family": "Arial Bold",
           "size": 14
          },
          "text": "0.001_global_11011111111"
         },
         "line": {
          "color": "rgb(101, 101, 249)",
          "width": 1
         },
         "mode": "lines",
         "name": "0.001_global_11011111111",
         "showlegend": true,
         "type": "scatter",
         "x": [
          "2021-06-22T00:00:00.000000000",
          "2021-06-23T00:00:00.000000000",
          "2021-06-24T00:00:00.000000000",
          "2021-06-25T00:00:00.000000000",
          "2021-06-26T00:00:00.000000000",
          "2021-06-27T00:00:00.000000000",
          "2021-06-28T00:00:00.000000000"
         ],
         "y": [
          289.18982,
          289.1516,
          289.18494,
          289.23038,
          289.29962,
          289.3997,
          289.57977
         ]
        },
        {
         "legendgroup": "1_global_11011111111",
         "legendgrouptitle": {
          "font": {
           "color": "black",
           "family": "Arial Bold",
           "size": 14
          },
          "text": "1_global_11011111111"
         },
         "line": {
          "color": "rgb(97, 97, 250)",
          "width": 1
         },
         "mode": "lines",
         "name": "1_global_11011111111",
         "showlegend": true,
         "type": "scatter",
         "x": [
          "2021-06-22T00:00:00.000000000",
          "2021-06-23T00:00:00.000000000",
          "2021-06-24T00:00:00.000000000",
          "2021-06-25T00:00:00.000000000",
          "2021-06-26T00:00:00.000000000",
          "2021-06-27T00:00:00.000000000",
          "2021-06-28T00:00:00.000000000"
         ],
         "y": [
          293.41882,
          299.7091,
          305.90442,
          311.99756,
          317.99036,
          323.886,
          329.6825
         ]
        },
        {
         "legendgroup": "0.001_global_11101111111",
         "legendgrouptitle": {
          "font": {
           "color": "black",
           "family": "Arial Bold",
           "size": 14
          },
          "text": "0.001_global_11101111111"
         },
         "line": {
          "color": "rgb(92, 92, 250)",
          "width": 1
         },
         "mode": "lines",
         "name": "0.001_global_11101111111",
         "showlegend": true,
         "type": "scatter",
         "x": [
          "2021-06-22T00:00:00.000000000",
          "2021-06-23T00:00:00.000000000",
          "2021-06-24T00:00:00.000000000",
          "2021-06-25T00:00:00.000000000",
          "2021-06-26T00:00:00.000000000",
          "2021-06-27T00:00:00.000000000",
          "2021-06-28T00:00:00.000000000"
         ],
         "y": [
          289.18637,
          289.14703,
          289.1799,
          289.2243,
          289.29266,
          289.39322,
          289.57434
         ]
        },
        {
         "legendgroup": "1_global_11101111111",
         "legendgrouptitle": {
          "font": {
           "color": "black",
           "family": "Arial Bold",
           "size": 14
          },
          "text": "1_global_11101111111"
         },
         "line": {
          "color": "rgb(86, 86, 250)",
          "width": 1
         },
         "mode": "lines",
         "name": "1_global_11101111111",
         "showlegend": true,
         "type": "scatter",
         "x": [
          "2021-06-22T00:00:00.000000000",
          "2021-06-23T00:00:00.000000000",
          "2021-06-24T00:00:00.000000000",
          "2021-06-25T00:00:00.000000000",
          "2021-06-26T00:00:00.000000000",
          "2021-06-27T00:00:00.000000000",
          "2021-06-28T00:00:00.000000000"
         ],
         "y": [
          293.43997,
          299.71133,
          305.88965,
          311.97235,
          317.95706,
          323.8429,
          329.6317
         ]
        },
        {
         "legendgroup": "0.001_global_11110111111",
         "legendgrouptitle": {
          "font": {
           "color": "black",
           "family": "Arial Bold",
           "size": 14
          },
          "text": "0.001_global_11110111111"
         },
         "line": {
          "color": "rgb(82, 82, 250)",
          "width": 1
         },
         "mode": "lines",
         "name": "0.001_global_11110111111",
         "showlegend": true,
         "type": "scatter",
         "x": [
          "2021-06-22T00:00:00.000000000",
          "2021-06-23T00:00:00.000000000",
          "2021-06-24T00:00:00.000000000",
          "2021-06-25T00:00:00.000000000",
          "2021-06-26T00:00:00.000000000",
          "2021-06-27T00:00:00.000000000",
          "2021-06-28T00:00:00.000000000"
         ],
         "y": [
          289.34616,
          289.38617,
          289.4384,
          289.49738,
          289.5588,
          289.63858,
          289.75977
         ]
        },
        {
         "legendgroup": "1_global_11110111111",
         "legendgrouptitle": {
          "font": {
           "color": "black",
           "family": "Arial Bold",
           "size": 14
          },
          "text": "1_global_11110111111"
         },
         "line": {
          "color": "rgb(76, 76, 251)",
          "width": 1
         },
         "mode": "lines",
         "name": "1_global_11110111111",
         "showlegend": true,
         "type": "scatter",
         "x": [
          "2021-06-22T00:00:00.000000000",
          "2021-06-23T00:00:00.000000000",
          "2021-06-24T00:00:00.000000000",
          "2021-06-25T00:00:00.000000000",
          "2021-06-26T00:00:00.000000000",
          "2021-06-27T00:00:00.000000000",
          "2021-06-28T00:00:00.000000000"
         ],
         "y": [
          293.46243,
          299.80832,
          306.1409,
          312.47653,
          318.80542,
          325.10614,
          331.35602
         ]
        },
        {
         "legendgroup": "0.001_global_11111011111",
         "legendgrouptitle": {
          "font": {
           "color": "black",
           "family": "Arial Bold",
           "size": 14
          },
          "text": "0.001_global_11111011111"
         },
         "line": {
          "color": "rgb(71, 71, 251)",
          "width": 1
         },
         "mode": "lines",
         "name": "0.001_global_11111011111",
         "showlegend": true,
         "type": "scatter",
         "x": [
          "2021-06-22T00:00:00.000000000",
          "2021-06-23T00:00:00.000000000",
          "2021-06-24T00:00:00.000000000",
          "2021-06-25T00:00:00.000000000",
          "2021-06-26T00:00:00.000000000",
          "2021-06-27T00:00:00.000000000",
          "2021-06-28T00:00:00.000000000"
         ],
         "y": [
          289.18512,
          289.1448,
          289.17764,
          289.2241,
          289.29337,
          289.39484,
          289.57755
         ]
        },
        {
         "legendgroup": "1_global_11111011111",
         "legendgrouptitle": {
          "font": {
           "color": "black",
           "family": "Arial Bold",
           "size": 14
          },
          "text": "1_global_11111011111"
         },
         "line": {
          "color": "rgb(65, 65, 251)",
          "width": 1
         },
         "mode": "lines",
         "name": "1_global_11111011111",
         "showlegend": true,
         "type": "scatter",
         "x": [
          "2021-06-22T00:00:00.000000000",
          "2021-06-23T00:00:00.000000000",
          "2021-06-24T00:00:00.000000000",
          "2021-06-25T00:00:00.000000000",
          "2021-06-26T00:00:00.000000000",
          "2021-06-27T00:00:00.000000000",
          "2021-06-28T00:00:00.000000000"
         ],
         "y": [
          293.45877,
          299.77008,
          305.97638,
          312.07736,
          318.08105,
          323.98758,
          329.79626
         ]
        },
        {
         "legendgroup": "0.001_global_11111101111",
         "legendgrouptitle": {
          "font": {
           "color": "black",
           "family": "Arial Bold",
           "size": 14
          },
          "text": "0.001_global_11111101111"
         },
         "line": {
          "color": "rgb(61, 61, 251)",
          "width": 1
         },
         "mode": "lines",
         "name": "0.001_global_11111101111",
         "showlegend": true,
         "type": "scatter",
         "x": [
          "2021-06-22T00:00:00.000000000",
          "2021-06-23T00:00:00.000000000",
          "2021-06-24T00:00:00.000000000",
          "2021-06-25T00:00:00.000000000",
          "2021-06-26T00:00:00.000000000",
          "2021-06-27T00:00:00.000000000",
          "2021-06-28T00:00:00.000000000"
         ],
         "y": [
          289.17764,
          289.08118,
          289.07303,
          289.07922,
          289.0521,
          288.99445,
          288.95886
         ]
        },
        {
         "legendgroup": "1_global_11111101111",
         "legendgrouptitle": {
          "font": {
           "color": "black",
           "family": "Arial Bold",
           "size": 14
          },
          "text": "1_global_11111101111"
         },
         "line": {
          "color": "rgb(55, 55, 252)",
          "width": 1
         },
         "mode": "lines",
         "name": "1_global_11111101111",
         "showlegend": true,
         "type": "scatter",
         "x": [
          "2021-06-22T00:00:00.000000000",
          "2021-06-23T00:00:00.000000000",
          "2021-06-24T00:00:00.000000000",
          "2021-06-25T00:00:00.000000000",
          "2021-06-26T00:00:00.000000000",
          "2021-06-27T00:00:00.000000000",
          "2021-06-28T00:00:00.000000000"
         ],
         "y": [
          281.8952,
          270.85666,
          262.59055,
          256.69128,
          252.26353,
          248.68216,
          245.53801
         ]
        },
        {
         "legendgroup": "0.001_global_11111110111",
         "legendgrouptitle": {
          "font": {
           "color": "black",
           "family": "Arial Bold",
           "size": 14
          },
          "text": "0.001_global_11111110111"
         },
         "line": {
          "color": "rgb(50, 50, 252)",
          "width": 1
         },
         "mode": "lines",
         "name": "0.001_global_11111110111",
         "showlegend": true,
         "type": "scatter",
         "x": [
          "2021-06-22T00:00:00.000000000",
          "2021-06-23T00:00:00.000000000",
          "2021-06-24T00:00:00.000000000",
          "2021-06-25T00:00:00.000000000",
          "2021-06-26T00:00:00.000000000",
          "2021-06-27T00:00:00.000000000",
          "2021-06-28T00:00:00.000000000"
         ],
         "y": [
          289.1858,
          289.1456,
          289.1774,
          289.223,
          289.29315,
          289.39478,
          289.57895
         ]
        },
        {
         "legendgroup": "1_global_11111110111",
         "legendgrouptitle": {
          "font": {
           "color": "black",
           "family": "Arial Bold",
           "size": 14
          },
          "text": "1_global_11111110111"
         },
         "line": {
          "color": "rgb(46, 46, 252)",
          "width": 1
         },
         "mode": "lines",
         "name": "1_global_11111110111",
         "showlegend": true,
         "type": "scatter",
         "x": [
          "2021-06-22T00:00:00.000000000",
          "2021-06-23T00:00:00.000000000",
          "2021-06-24T00:00:00.000000000",
          "2021-06-25T00:00:00.000000000",
          "2021-06-26T00:00:00.000000000",
          "2021-06-27T00:00:00.000000000",
          "2021-06-28T00:00:00.000000000"
         ],
         "y": [
          293.44644,
          299.73148,
          305.91602,
          312.00302,
          317.99374,
          323.88696,
          329.683
         ]
        },
        {
         "legendgroup": "0.001_global_11111111011",
         "legendgrouptitle": {
          "font": {
           "color": "black",
           "family": "Arial Bold",
           "size": 14
          },
          "text": "0.001_global_11111111011"
         },
         "line": {
          "color": "rgb(40, 40, 252)",
          "width": 1
         },
         "mode": "lines",
         "name": "0.001_global_11111111011",
         "showlegend": true,
         "type": "scatter",
         "x": [
          "2021-06-22T00:00:00.000000000",
          "2021-06-23T00:00:00.000000000",
          "2021-06-24T00:00:00.000000000",
          "2021-06-25T00:00:00.000000000",
          "2021-06-26T00:00:00.000000000",
          "2021-06-27T00:00:00.000000000",
          "2021-06-28T00:00:00.000000000"
         ],
         "y": [
          289.1861,
          289.14682,
          289.17957,
          289.22638,
          289.29565,
          289.3944,
          289.57822
         ]
        },
        {
         "legendgroup": "1_global_11111111011",
         "legendgrouptitle": {
          "font": {
           "color": "black",
           "family": "Arial Bold",
           "size": 14
          },
          "text": "1_global_11111111011"
         },
         "line": {
          "color": "rgb(35, 35, 253)",
          "width": 1
         },
         "mode": "lines",
         "name": "1_global_11111111011",
         "showlegend": true,
         "type": "scatter",
         "x": [
          "2021-06-22T00:00:00.000000000",
          "2021-06-23T00:00:00.000000000",
          "2021-06-24T00:00:00.000000000",
          "2021-06-25T00:00:00.000000000",
          "2021-06-26T00:00:00.000000000",
          "2021-06-27T00:00:00.000000000",
          "2021-06-28T00:00:00.000000000"
         ],
         "y": [
          293.44614,
          299.73196,
          305.92172,
          312.0153,
          318.0125,
          323.9125,
          329.71423
         ]
        },
        {
         "legendgroup": "0.001_global_11111111101",
         "legendgrouptitle": {
          "font": {
           "color": "black",
           "family": "Arial Bold",
           "size": 14
          },
          "text": "0.001_global_11111111101"
         },
         "line": {
          "color": "rgb(30, 30, 253)",
          "width": 1
         },
         "mode": "lines",
         "name": "0.001_global_11111111101",
         "showlegend": true,
         "type": "scatter",
         "x": [
          "2021-06-22T00:00:00.000000000",
          "2021-06-23T00:00:00.000000000",
          "2021-06-24T00:00:00.000000000",
          "2021-06-25T00:00:00.000000000",
          "2021-06-26T00:00:00.000000000",
          "2021-06-27T00:00:00.000000000",
          "2021-06-28T00:00:00.000000000"
         ],
         "y": [
          289.18567,
          289.14548,
          289.17822,
          289.22443,
          289.29202,
          289.39175,
          289.57492
         ]
        },
        {
         "legendgroup": "1_global_11111111101",
         "legendgrouptitle": {
          "font": {
           "color": "black",
           "family": "Arial Bold",
           "size": 14
          },
          "text": "1_global_11111111101"
         },
         "line": {
          "color": "rgb(25, 25, 253)",
          "width": 1
         },
         "mode": "lines",
         "name": "1_global_11111111101",
         "showlegend": true,
         "type": "scatter",
         "x": [
          "2021-06-22T00:00:00.000000000",
          "2021-06-23T00:00:00.000000000",
          "2021-06-24T00:00:00.000000000",
          "2021-06-25T00:00:00.000000000",
          "2021-06-26T00:00:00.000000000",
          "2021-06-27T00:00:00.000000000",
          "2021-06-28T00:00:00.000000000"
         ],
         "y": [
          293.447,
          299.73456,
          305.9249,
          312.01706,
          318.01328,
          323.91217,
          329.71216
         ]
        },
        {
         "legendgroup": "0.001_global_11111111110",
         "legendgrouptitle": {
          "font": {
           "color": "black",
           "family": "Arial Bold",
           "size": 14
          },
          "text": "0.001_global_11111111110"
         },
         "line": {
          "color": "rgb(19, 19, 253)",
          "width": 1
         },
         "mode": "lines",
         "name": "0.001_global_11111111110",
         "showlegend": true,
         "type": "scatter",
         "x": [
          "2021-06-22T00:00:00.000000000",
          "2021-06-23T00:00:00.000000000",
          "2021-06-24T00:00:00.000000000",
          "2021-06-25T00:00:00.000000000",
          "2021-06-26T00:00:00.000000000",
          "2021-06-27T00:00:00.000000000",
          "2021-06-28T00:00:00.000000000"
         ],
         "y": [
          289.18594,
          289.14688,
          289.17883,
          289.22476,
          289.29285,
          289.39304,
          289.57315
         ]
        },
        {
         "legendgroup": "1_global_11111111110",
         "legendgrouptitle": {
          "font": {
           "color": "black",
           "family": "Arial Bold",
           "size": 14
          },
          "text": "1_global_11111111110"
         },
         "line": {
          "color": "rgb(15, 15, 254)",
          "width": 1
         },
         "mode": "lines",
         "name": "1_global_11111111110",
         "showlegend": true,
         "type": "scatter",
         "x": [
          "2021-06-22T00:00:00.000000000",
          "2021-06-23T00:00:00.000000000",
          "2021-06-24T00:00:00.000000000",
          "2021-06-25T00:00:00.000000000",
          "2021-06-26T00:00:00.000000000",
          "2021-06-27T00:00:00.000000000",
          "2021-06-28T00:00:00.000000000"
         ],
         "y": [
          293.45538,
          299.7546,
          305.9566,
          312.06,
          318.06467,
          323.97015,
          329.77582
         ]
        },
        {
         "legendgroup": "0.001_global_11111111111",
         "legendgrouptitle": {
          "font": {
           "color": "black",
           "family": "Arial Bold",
           "size": 14
          },
          "text": "0.001_global_11111111111"
         },
         "line": {
          "color": "rgb(9, 9, 254)",
          "width": 1
         },
         "mode": "lines",
         "name": "0.001_global_11111111111",
         "showlegend": true,
         "type": "scatter",
         "x": [
          "2021-06-22T00:00:00.000000000",
          "2021-06-23T00:00:00.000000000",
          "2021-06-24T00:00:00.000000000",
          "2021-06-25T00:00:00.000000000",
          "2021-06-26T00:00:00.000000000",
          "2021-06-27T00:00:00.000000000",
          "2021-06-28T00:00:00.000000000"
         ],
         "y": [
          289.1861,
          289.14664,
          289.1794,
          289.2245,
          289.29346,
          289.39453,
          289.5752
         ]
        },
        {
         "legendgroup": "1_global_11111111111",
         "legendgrouptitle": {
          "font": {
           "color": "black",
           "family": "Arial Bold",
           "size": 14
          },
          "text": "1_global_11111111111"
         },
         "line": {
          "color": "rgb(4, 4, 254)",
          "width": 1
         },
         "mode": "lines",
         "name": "1_global_11111111111",
         "showlegend": true,
         "type": "scatter",
         "x": [
          "2021-06-22T00:00:00.000000000",
          "2021-06-23T00:00:00.000000000",
          "2021-06-24T00:00:00.000000000",
          "2021-06-25T00:00:00.000000000",
          "2021-06-26T00:00:00.000000000",
          "2021-06-27T00:00:00.000000000",
          "2021-06-28T00:00:00.000000000"
         ],
         "y": [
          293.44656,
          299.73355,
          305.9229,
          312.01367,
          318.008,
          323.90454,
          329.70364
         ]
        },
        {
         "legendgroup": "0.001_Antarctic_00100000000",
         "legendgrouptitle": {
          "font": {
           "color": "black",
           "family": "Arial Bold",
           "size": 14
          },
          "text": "0.001_Antarctic_00100000000"
         },
         "line": {
          "color": "rgb(225, 238, 225)",
          "width": 1
         },
         "mode": "lines",
         "name": "0.001_Antarctic_00100000000",
         "showlegend": true,
         "type": "scatter",
         "x": [
          "2021-06-22T00:00:00.000000000",
          "2021-06-23T00:00:00.000000000",
          "2021-06-24T00:00:00.000000000",
          "2021-06-25T00:00:00.000000000",
          "2021-06-26T00:00:00.000000000",
          "2021-06-27T00:00:00.000000000",
          "2021-06-28T00:00:00.000000000"
         ],
         "y": [
          289.3351,
          289.3496,
          289.36597,
          289.372,
          289.34283,
          289.2725,
          289.22302
         ]
        },
        {
         "legendgroup": "1_Antarctic_00100000000",
         "legendgrouptitle": {
          "font": {
           "color": "black",
           "family": "Arial Bold",
           "size": 14
          },
          "text": "1_Antarctic_00100000000"
         },
         "line": {
          "color": "rgb(216, 233, 216)",
          "width": 1
         },
         "mode": "lines",
         "name": "1_Antarctic_00100000000",
         "showlegend": true,
         "type": "scatter",
         "x": [
          "2021-06-22T00:00:00.000000000",
          "2021-06-23T00:00:00.000000000",
          "2021-06-24T00:00:00.000000000",
          "2021-06-25T00:00:00.000000000",
          "2021-06-26T00:00:00.000000000",
          "2021-06-27T00:00:00.000000000",
          "2021-06-28T00:00:00.000000000"
         ],
         "y": [
          289.68073,
          289.78354,
          289.7715,
          289.742,
          289.672,
          289.62848,
          289.6026
         ]
        },
        {
         "legendgroup": "0.001_Arctic_00100000000",
         "legendgrouptitle": {
          "font": {
           "color": "black",
           "family": "Arial Bold",
           "size": 14
          },
          "text": "0.001_Arctic_00100000000"
         },
         "line": {
          "color": "rgb(206, 229, 206)",
          "width": 1
         },
         "mode": "lines",
         "name": "0.001_Arctic_00100000000",
         "showlegend": true,
         "type": "scatter",
         "x": [
          "2021-06-22T00:00:00.000000000",
          "2021-06-23T00:00:00.000000000",
          "2021-06-24T00:00:00.000000000",
          "2021-06-25T00:00:00.000000000",
          "2021-06-26T00:00:00.000000000",
          "2021-06-27T00:00:00.000000000",
          "2021-06-28T00:00:00.000000000"
         ],
         "y": [
          289.33502,
          289.34955,
          289.3658,
          289.3721,
          289.34268,
          289.2709,
          289.21954
         ]
        },
        {
         "legendgroup": "1_Arctic_00100000000",
         "legendgrouptitle": {
          "font": {
           "color": "black",
           "family": "Arial Bold",
           "size": 14
          },
          "text": "1_Arctic_00100000000"
         },
         "line": {
          "color": "rgb(197, 224, 197)",
          "width": 1
         },
         "mode": "lines",
         "name": "1_Arctic_00100000000",
         "showlegend": true,
         "type": "scatter",
         "x": [
          "2021-06-22T00:00:00.000000000",
          "2021-06-23T00:00:00.000000000",
          "2021-06-24T00:00:00.000000000",
          "2021-06-25T00:00:00.000000000",
          "2021-06-26T00:00:00.000000000",
          "2021-06-27T00:00:00.000000000",
          "2021-06-28T00:00:00.000000000"
         ],
         "y": [
          289.7475,
          289.80347,
          289.78143,
          289.75543,
          289.68384,
          289.59106,
          289.56097
         ]
        },
        {
         "legendgroup": "0.001_AusNZ_00100000000",
         "legendgrouptitle": {
          "font": {
           "color": "black",
           "family": "Arial Bold",
           "size": 14
          },
          "text": "0.001_AusNZ_00100000000"
         },
         "line": {
          "color": "rgb(187, 219, 187)",
          "width": 1
         },
         "mode": "lines",
         "name": "0.001_AusNZ_00100000000",
         "showlegend": true,
         "type": "scatter",
         "x": [
          "2021-06-22T00:00:00.000000000",
          "2021-06-23T00:00:00.000000000",
          "2021-06-24T00:00:00.000000000",
          "2021-06-25T00:00:00.000000000",
          "2021-06-26T00:00:00.000000000",
          "2021-06-27T00:00:00.000000000",
          "2021-06-28T00:00:00.000000000"
         ],
         "y": [
          289.33505,
          289.34955,
          289.36584,
          289.37186,
          289.34286,
          289.2712,
          289.22025
         ]
        },
        {
         "legendgroup": "1_AusNZ_00100000000",
         "legendgrouptitle": {
          "font": {
           "color": "black",
           "family": "Arial Bold",
           "size": 14
          },
          "text": "1_AusNZ_00100000000"
         },
         "line": {
          "color": "rgb(178, 215, 178)",
          "width": 1
         },
         "mode": "lines",
         "name": "1_AusNZ_00100000000",
         "showlegend": true,
         "type": "scatter",
         "x": [
          "2021-06-22T00:00:00.000000000",
          "2021-06-23T00:00:00.000000000",
          "2021-06-24T00:00:00.000000000",
          "2021-06-25T00:00:00.000000000",
          "2021-06-26T00:00:00.000000000",
          "2021-06-27T00:00:00.000000000",
          "2021-06-28T00:00:00.000000000"
         ],
         "y": [
          289.4917,
          289.54398,
          289.53915,
          289.53348,
          289.50037,
          289.42905,
          289.40216
         ]
        },
        {
         "legendgroup": "0.001_East",
         "legendgrouptitle": {
          "font": {
           "color": "black",
           "family": "Arial Bold",
           "size": 14
          },
          "text": "0.001_East"
         },
         "line": {
          "color": "rgb(169, 210, 169)",
          "width": 1
         },
         "mode": "lines",
         "name": "0.001_East",
         "showlegend": true,
         "type": "scatter",
         "x": [
          "2021-06-22T00:00:00.000000000",
          "2021-06-23T00:00:00.000000000",
          "2021-06-24T00:00:00.000000000",
          "2021-06-25T00:00:00.000000000",
          "2021-06-26T00:00:00.000000000",
          "2021-06-27T00:00:00.000000000",
          "2021-06-28T00:00:00.000000000"
         ],
         "y": [
          289.33505,
          289.3498,
          289.3655,
          289.37234,
          289.34378,
          289.27133,
          289.22067
         ]
        },
        {
         "legendgroup": "1_East",
         "legendgrouptitle": {
          "font": {
           "color": "black",
           "family": "Arial Bold",
           "size": 14
          },
          "text": "1_East"
         },
         "line": {
          "color": "rgb(160, 206, 160)",
          "width": 1
         },
         "mode": "lines",
         "name": "1_East",
         "showlegend": true,
         "type": "scatter",
         "x": [
          "2021-06-22T00:00:00.000000000",
          "2021-06-23T00:00:00.000000000",
          "2021-06-24T00:00:00.000000000",
          "2021-06-25T00:00:00.000000000",
          "2021-06-26T00:00:00.000000000",
          "2021-06-27T00:00:00.000000000",
          "2021-06-28T00:00:00.000000000"
         ],
         "y": [
          289.42963,
          289.4788,
          289.48737,
          289.4753,
          289.42166,
          289.32626,
          289.25095
         ]
        },
        {
         "legendgroup": "0.001_Europe_00100000000",
         "legendgrouptitle": {
          "font": {
           "color": "black",
           "family": "Arial Bold",
           "size": 14
          },
          "text": "0.001_Europe_00100000000"
         },
         "line": {
          "color": "rgb(149, 201, 149)",
          "width": 1
         },
         "mode": "lines",
         "name": "0.001_Europe_00100000000",
         "showlegend": true,
         "type": "scatter",
         "x": [
          "2021-06-22T00:00:00.000000000",
          "2021-06-23T00:00:00.000000000",
          "2021-06-24T00:00:00.000000000",
          "2021-06-25T00:00:00.000000000",
          "2021-06-26T00:00:00.000000000",
          "2021-06-27T00:00:00.000000000",
          "2021-06-28T00:00:00.000000000"
         ],
         "y": [
          289.33487,
          289.34897,
          289.36505,
          289.37164,
          289.34247,
          289.27078,
          289.21973
         ]
        },
        {
         "legendgroup": "1_Europe_00100000000",
         "legendgrouptitle": {
          "font": {
           "color": "black",
           "family": "Arial Bold",
           "size": 14
          },
          "text": "1_Europe_00100000000"
         },
         "line": {
          "color": "rgb(140, 196, 140)",
          "width": 1
         },
         "mode": "lines",
         "name": "1_Europe_00100000000",
         "showlegend": true,
         "type": "scatter",
         "x": [
          "2021-06-22T00:00:00.000000000",
          "2021-06-23T00:00:00.000000000",
          "2021-06-24T00:00:00.000000000",
          "2021-06-25T00:00:00.000000000",
          "2021-06-26T00:00:00.000000000",
          "2021-06-27T00:00:00.000000000",
          "2021-06-28T00:00:00.000000000"
         ],
         "y": [
          289.5191,
          289.5517,
          289.54007,
          289.52863,
          289.4964,
          289.42084,
          289.37064
         ]
        },
        {
         "legendgroup": "0.001_North",
         "legendgrouptitle": {
          "font": {
           "color": "black",
           "family": "Arial Bold",
           "size": 14
          },
          "text": "0.001_North"
         },
         "line": {
          "color": "rgb(131, 192, 131)",
          "width": 1
         },
         "mode": "lines",
         "name": "0.001_North",
         "showlegend": true,
         "type": "scatter",
         "x": [
          "2021-06-22T00:00:00.000000000",
          "2021-06-23T00:00:00.000000000",
          "2021-06-24T00:00:00.000000000",
          "2021-06-25T00:00:00.000000000",
          "2021-06-26T00:00:00.000000000",
          "2021-06-27T00:00:00.000000000",
          "2021-06-28T00:00:00.000000000"
         ],
         "y": [
          289.3351,
          289.34894,
          289.36502,
          289.37143,
          289.34222,
          289.27072,
          289.22012
         ]
        },
        {
         "legendgroup": "1_North",
         "legendgrouptitle": {
          "font": {
           "color": "black",
           "family": "Arial Bold",
           "size": 14
          },
          "text": "1_North"
         },
         "line": {
          "color": "rgb(122, 187, 122)",
          "width": 1
         },
         "mode": "lines",
         "name": "1_North",
         "showlegend": true,
         "type": "scatter",
         "x": [
          "2021-06-22T00:00:00.000000000",
          "2021-06-23T00:00:00.000000000",
          "2021-06-24T00:00:00.000000000",
          "2021-06-25T00:00:00.000000000",
          "2021-06-26T00:00:00.000000000",
          "2021-06-27T00:00:00.000000000",
          "2021-06-28T00:00:00.000000000"
         ],
         "y": [
          289.46896,
          289.4402,
          289.43915,
          289.42563,
          289.39096,
          289.32993,
          289.28558
         ]
        },
        {
         "legendgroup": "0.001_North",
         "line": {
          "color": "rgb(112, 182, 112)",
          "width": 1
         },
         "mode": "lines",
         "name": "0.001_North",
         "showlegend": true,
         "type": "scatter",
         "x": [
          "2021-06-22T00:00:00.000000000",
          "2021-06-23T00:00:00.000000000",
          "2021-06-24T00:00:00.000000000",
          "2021-06-25T00:00:00.000000000",
          "2021-06-26T00:00:00.000000000",
          "2021-06-27T00:00:00.000000000",
          "2021-06-28T00:00:00.000000000"
         ],
         "y": [
          289.335,
          289.34973,
          289.3656,
          289.37192,
          289.34222,
          289.2708,
          289.21933
         ]
        },
        {
         "legendgroup": "1_North",
         "line": {
          "color": "rgb(103, 178, 103)",
          "width": 1
         },
         "mode": "lines",
         "name": "1_North",
         "showlegend": true,
         "type": "scatter",
         "x": [
          "2021-06-22T00:00:00.000000000",
          "2021-06-23T00:00:00.000000000",
          "2021-06-24T00:00:00.000000000",
          "2021-06-25T00:00:00.000000000",
          "2021-06-26T00:00:00.000000000",
          "2021-06-27T00:00:00.000000000",
          "2021-06-28T00:00:00.000000000"
         ],
         "y": [
          289.54135,
          289.57858,
          289.57022,
          289.57867,
          289.54858,
          289.4674,
          289.40747
         ]
        },
        {
         "legendgroup": "0.001_North",
         "line": {
          "color": "rgb(93, 173, 93)",
          "width": 1
         },
         "mode": "lines",
         "name": "0.001_North",
         "showlegend": true,
         "type": "scatter",
         "x": [
          "2021-06-22T00:00:00.000000000",
          "2021-06-23T00:00:00.000000000",
          "2021-06-24T00:00:00.000000000",
          "2021-06-25T00:00:00.000000000",
          "2021-06-26T00:00:00.000000000",
          "2021-06-27T00:00:00.000000000",
          "2021-06-28T00:00:00.000000000"
         ],
         "y": [
          289.33527,
          289.34964,
          289.3659,
          289.37234,
          289.34387,
          289.27283,
          289.2217
         ]
        },
        {
         "legendgroup": "1_North",
         "line": {
          "color": "rgb(84, 169, 84)",
          "width": 1
         },
         "mode": "lines",
         "name": "1_North",
         "showlegend": true,
         "type": "scatter",
         "x": [
          "2021-06-22T00:00:00.000000000",
          "2021-06-23T00:00:00.000000000",
          "2021-06-24T00:00:00.000000000",
          "2021-06-25T00:00:00.000000000",
          "2021-06-26T00:00:00.000000000",
          "2021-06-27T00:00:00.000000000",
          "2021-06-28T00:00:00.000000000"
         ],
         "y": [
          289.73773,
          289.81546,
          289.81006,
          289.7958,
          289.74557,
          289.65735,
          289.5953
         ]
        },
        {
         "legendgroup": "0.001_Northern",
         "legendgrouptitle": {
          "font": {
           "color": "black",
           "family": "Arial Bold",
           "size": 14
          },
          "text": "0.001_Northern"
         },
         "line": {
          "color": "rgb(74, 164, 74)",
          "width": 1
         },
         "mode": "lines",
         "name": "0.001_Northern",
         "showlegend": true,
         "type": "scatter",
         "x": [
          "2021-06-22T00:00:00.000000000",
          "2021-06-23T00:00:00.000000000",
          "2021-06-24T00:00:00.000000000",
          "2021-06-25T00:00:00.000000000",
          "2021-06-26T00:00:00.000000000",
          "2021-06-27T00:00:00.000000000",
          "2021-06-28T00:00:00.000000000"
         ],
         "y": [
          289.3354,
          289.34995,
          289.3666,
          289.3723,
          289.34274,
          289.2718,
          289.2203
         ]
        },
        {
         "legendgroup": "1_Northern",
         "legendgrouptitle": {
          "font": {
           "color": "black",
           "family": "Arial Bold",
           "size": 14
          },
          "text": "1_Northern"
         },
         "line": {
          "color": "rgb(65, 160, 65)",
          "width": 1
         },
         "mode": "lines",
         "name": "1_Northern",
         "showlegend": true,
         "type": "scatter",
         "x": [
          "2021-06-22T00:00:00.000000000",
          "2021-06-23T00:00:00.000000000",
          "2021-06-24T00:00:00.000000000",
          "2021-06-25T00:00:00.000000000",
          "2021-06-26T00:00:00.000000000",
          "2021-06-27T00:00:00.000000000",
          "2021-06-28T00:00:00.000000000"
         ],
         "y": [
          291.1252,
          291.26,
          291.08658,
          290.9907,
          290.87766,
          290.7565,
          290.64673
         ]
        },
        {
         "legendgroup": "0.001_Southern",
         "legendgrouptitle": {
          "font": {
           "color": "black",
           "family": "Arial Bold",
           "size": 14
          },
          "text": "0.001_Southern"
         },
         "line": {
          "color": "rgb(56, 155, 56)",
          "width": 1
         },
         "mode": "lines",
         "name": "0.001_Southern",
         "showlegend": true,
         "type": "scatter",
         "x": [
          "2021-06-22T00:00:00.000000000",
          "2021-06-23T00:00:00.000000000",
          "2021-06-24T00:00:00.000000000",
          "2021-06-25T00:00:00.000000000",
          "2021-06-26T00:00:00.000000000",
          "2021-06-27T00:00:00.000000000",
          "2021-06-28T00:00:00.000000000"
         ],
         "y": [
          289.33508,
          289.34982,
          289.36603,
          289.3721,
          289.34314,
          289.27142,
          289.22113
         ]
        },
        {
         "legendgroup": "1_Southern",
         "legendgrouptitle": {
          "font": {
           "color": "black",
           "family": "Arial Bold",
           "size": 14
          },
          "text": "1_Southern"
         },
         "line": {
          "color": "rgb(46, 150, 46)",
          "width": 1
         },
         "mode": "lines",
         "name": "1_Southern",
         "showlegend": true,
         "type": "scatter",
         "x": [
          "2021-06-22T00:00:00.000000000",
          "2021-06-23T00:00:00.000000000",
          "2021-06-24T00:00:00.000000000",
          "2021-06-25T00:00:00.000000000",
          "2021-06-26T00:00:00.000000000",
          "2021-06-27T00:00:00.000000000",
          "2021-06-28T00:00:00.000000000"
         ],
         "y": [
          291.25546,
          291.55682,
          291.4114,
          291.3435,
          291.26068,
          291.11032,
          290.96744
         ]
        },
        {
         "legendgroup": "0.001_Tropics_00100000000",
         "legendgrouptitle": {
          "font": {
           "color": "black",
           "family": "Arial Bold",
           "size": 14
          },
          "text": "0.001_Tropics_00100000000"
         },
         "line": {
          "color": "rgb(36, 146, 36)",
          "width": 1
         },
         "mode": "lines",
         "name": "0.001_Tropics_00100000000",
         "showlegend": true,
         "type": "scatter",
         "x": [
          "2021-06-22T00:00:00.000000000",
          "2021-06-23T00:00:00.000000000",
          "2021-06-24T00:00:00.000000000",
          "2021-06-25T00:00:00.000000000",
          "2021-06-26T00:00:00.000000000",
          "2021-06-27T00:00:00.000000000",
          "2021-06-28T00:00:00.000000000"
         ],
         "y": [
          289.3348,
          289.34952,
          289.3664,
          289.3721,
          289.343,
          289.2717,
          289.22055
         ]
        },
        {
         "legendgroup": "1_Tropics_00100000000",
         "legendgrouptitle": {
          "font": {
           "color": "black",
           "family": "Arial Bold",
           "size": 14
          },
          "text": "1_Tropics_00100000000"
         },
         "line": {
          "color": "rgb(27, 141, 27)",
          "width": 1
         },
         "mode": "lines",
         "name": "1_Tropics_00100000000",
         "showlegend": true,
         "type": "scatter",
         "x": [
          "2021-06-22T00:00:00.000000000",
          "2021-06-23T00:00:00.000000000",
          "2021-06-24T00:00:00.000000000",
          "2021-06-25T00:00:00.000000000",
          "2021-06-26T00:00:00.000000000",
          "2021-06-27T00:00:00.000000000",
          "2021-06-28T00:00:00.000000000"
         ],
         "y": [
          291.19376,
          291.1556,
          290.8407,
          290.79288,
          290.75674,
          290.69568,
          290.6663
         ]
        },
        {
         "legendgroup": "0.001_global_00100000000",
         "line": {
          "color": "rgb(18, 137, 18)",
          "width": 1
         },
         "mode": "lines",
         "name": "0.001_global_00100000000",
         "showlegend": true,
         "type": "scatter",
         "x": [
          "2021-06-22T00:00:00.000000000",
          "2021-06-23T00:00:00.000000000",
          "2021-06-24T00:00:00.000000000",
          "2021-06-25T00:00:00.000000000",
          "2021-06-26T00:00:00.000000000",
          "2021-06-27T00:00:00.000000000",
          "2021-06-28T00:00:00.000000000"
         ],
         "y": [
          289.335,
          289.34872,
          289.36523,
          289.3712,
          289.34268,
          289.27057,
          289.22104
         ]
        },
        {
         "legendgroup": "1_global_00100000000",
         "line": {
          "color": "rgb(9, 132, 9)",
          "width": 1
         },
         "mode": "lines",
         "name": "1_global_00100000000",
         "showlegend": true,
         "type": "scatter",
         "x": [
          "2021-06-22T00:00:00.000000000",
          "2021-06-23T00:00:00.000000000",
          "2021-06-24T00:00:00.000000000",
          "2021-06-25T00:00:00.000000000",
          "2021-06-26T00:00:00.000000000",
          "2021-06-27T00:00:00.000000000",
          "2021-06-28T00:00:00.000000000"
         ],
         "y": [
          295.0796,
          295.5373,
          294.77222,
          294.48328,
          294.2689,
          294.10092,
          293.96384
         ]
        },
        {
         "legendgroup": "0.001_Antarctic_11011111111",
         "legendgrouptitle": {
          "font": {
           "color": "black",
           "family": "Arial Bold",
           "size": 14
          },
          "text": "0.001_Antarctic_11011111111"
         },
         "line": {
          "color": "rgb(243, 230, 230)",
          "width": 1
         },
         "mode": "lines",
         "name": "0.001_Antarctic_11011111111",
         "showlegend": true,
         "type": "scatter",
         "x": [
          "2021-06-22T00:00:00.000000000",
          "2021-06-23T00:00:00.000000000",
          "2021-06-24T00:00:00.000000000",
          "2021-06-25T00:00:00.000000000",
          "2021-06-26T00:00:00.000000000",
          "2021-06-27T00:00:00.000000000",
          "2021-06-28T00:00:00.000000000"
         ],
         "y": [
          289.33038,
          289.35495,
          289.38995,
          289.3978,
          289.34973,
          289.27176,
          289.2353
         ]
        },
        {
         "legendgroup": "1_Antarctic_11011111111",
         "legendgrouptitle": {
          "font": {
           "color": "black",
           "family": "Arial Bold",
           "size": 14
          },
          "text": "1_Antarctic_11011111111"
         },
         "line": {
          "color": "rgb(243, 221, 221)",
          "width": 1
         },
         "mode": "lines",
         "name": "1_Antarctic_11011111111",
         "showlegend": true,
         "type": "scatter",
         "x": [
          "2021-06-22T00:00:00.000000000",
          "2021-06-23T00:00:00.000000000",
          "2021-06-24T00:00:00.000000000",
          "2021-06-25T00:00:00.000000000",
          "2021-06-26T00:00:00.000000000",
          "2021-06-27T00:00:00.000000000",
          "2021-06-28T00:00:00.000000000"
         ],
         "y": [
          289.39978,
          289.4834,
          289.5846,
          289.6643,
          289.7442,
          289.83792,
          289.92154
         ]
        },
        {
         "legendgroup": "0.001_Arctic_11011111111",
         "legendgrouptitle": {
          "font": {
           "color": "black",
           "family": "Arial Bold",
           "size": 14
          },
          "text": "0.001_Arctic_11011111111"
         },
         "line": {
          "color": "rgb(244, 211, 211)",
          "width": 1
         },
         "mode": "lines",
         "name": "0.001_Arctic_11011111111",
         "showlegend": true,
         "type": "scatter",
         "x": [
          "2021-06-22T00:00:00.000000000",
          "2021-06-23T00:00:00.000000000",
          "2021-06-24T00:00:00.000000000",
          "2021-06-25T00:00:00.000000000",
          "2021-06-26T00:00:00.000000000",
          "2021-06-27T00:00:00.000000000",
          "2021-06-28T00:00:00.000000000"
         ],
         "y": [
          289.31665,
          289.31613,
          289.33292,
          289.33704,
          289.30978,
          289.2619,
          289.22772
         ]
        },
        {
         "legendgroup": "1_Arctic_11011111111",
         "legendgrouptitle": {
          "font": {
           "color": "black",
           "family": "Arial Bold",
           "size": 14
          },
          "text": "1_Arctic_11011111111"
         },
         "line": {
          "color": "rgb(244, 202, 202)",
          "width": 1
         },
         "mode": "lines",
         "name": "1_Arctic_11011111111",
         "showlegend": true,
         "type": "scatter",
         "x": [
          "2021-06-22T00:00:00.000000000",
          "2021-06-23T00:00:00.000000000",
          "2021-06-24T00:00:00.000000000",
          "2021-06-25T00:00:00.000000000",
          "2021-06-26T00:00:00.000000000",
          "2021-06-27T00:00:00.000000000",
          "2021-06-28T00:00:00.000000000"
         ],
         "y": [
          289.47806,
          289.78397,
          290.06314,
          290.3076,
          290.51422,
          290.67828,
          290.87344
         ]
        },
        {
         "legendgroup": "0.001_AusNZ_11011111111",
         "legendgrouptitle": {
          "font": {
           "color": "black",
           "family": "Arial Bold",
           "size": 14
          },
          "text": "0.001_AusNZ_11011111111"
         },
         "line": {
          "color": "rgb(245, 191, 191)",
          "width": 1
         },
         "mode": "lines",
         "name": "0.001_AusNZ_11011111111",
         "showlegend": true,
         "type": "scatter",
         "x": [
          "2021-06-22T00:00:00.000000000",
          "2021-06-23T00:00:00.000000000",
          "2021-06-24T00:00:00.000000000",
          "2021-06-25T00:00:00.000000000",
          "2021-06-26T00:00:00.000000000",
          "2021-06-27T00:00:00.000000000",
          "2021-06-28T00:00:00.000000000"
         ],
         "y": [
          289.32474,
          289.32477,
          289.3459,
          289.35938,
          289.3295,
          289.2695,
          289.22833
         ]
        },
        {
         "legendgroup": "1_AusNZ_11011111111",
         "legendgrouptitle": {
          "font": {
           "color": "black",
           "family": "Arial Bold",
           "size": 14
          },
          "text": "1_AusNZ_11011111111"
         },
         "line": {
          "color": "rgb(245, 182, 182)",
          "width": 1
         },
         "mode": "lines",
         "name": "1_AusNZ_11011111111",
         "showlegend": true,
         "type": "scatter",
         "x": [
          "2021-06-22T00:00:00.000000000",
          "2021-06-23T00:00:00.000000000",
          "2021-06-24T00:00:00.000000000",
          "2021-06-25T00:00:00.000000000",
          "2021-06-26T00:00:00.000000000",
          "2021-06-27T00:00:00.000000000",
          "2021-06-28T00:00:00.000000000"
         ],
         "y": [
          289.45456,
          289.77176,
          290.09677,
          290.42944,
          290.72458,
          290.968,
          291.2214
         ]
        },
        {
         "legendgroup": "0.001_East",
         "line": {
          "color": "rgb(246, 173, 173)",
          "width": 1
         },
         "mode": "lines",
         "name": "0.001_East",
         "showlegend": true,
         "type": "scatter",
         "x": [
          "2021-06-22T00:00:00.000000000",
          "2021-06-23T00:00:00.000000000",
          "2021-06-24T00:00:00.000000000",
          "2021-06-25T00:00:00.000000000",
          "2021-06-26T00:00:00.000000000",
          "2021-06-27T00:00:00.000000000",
          "2021-06-28T00:00:00.000000000"
         ],
         "y": [
          289.3347,
          289.3355,
          289.34518,
          289.34988,
          289.32666,
          289.25732,
          289.20874
         ]
        },
        {
         "legendgroup": "1_East",
         "line": {
          "color": "rgb(246, 163, 163)",
          "width": 1
         },
         "mode": "lines",
         "name": "1_East",
         "showlegend": true,
         "type": "scatter",
         "x": [
          "2021-06-22T00:00:00.000000000",
          "2021-06-23T00:00:00.000000000",
          "2021-06-24T00:00:00.000000000",
          "2021-06-25T00:00:00.000000000",
          "2021-06-26T00:00:00.000000000",
          "2021-06-27T00:00:00.000000000",
          "2021-06-28T00:00:00.000000000"
         ],
         "y": [
          289.32166,
          289.47086,
          289.66147,
          289.85147,
          289.98486,
          290.0775,
          290.20438
         ]
        },
        {
         "legendgroup": "0.001_Europe_11011111111",
         "legendgrouptitle": {
          "font": {
           "color": "black",
           "family": "Arial Bold",
           "size": 14
          },
          "text": "0.001_Europe_11011111111"
         },
         "line": {
          "color": "rgb(247, 153, 153)",
          "width": 1
         },
         "mode": "lines",
         "name": "0.001_Europe_11011111111",
         "showlegend": true,
         "type": "scatter",
         "x": [
          "2021-06-22T00:00:00.000000000",
          "2021-06-23T00:00:00.000000000",
          "2021-06-24T00:00:00.000000000",
          "2021-06-25T00:00:00.000000000",
          "2021-06-26T00:00:00.000000000",
          "2021-06-27T00:00:00.000000000",
          "2021-06-28T00:00:00.000000000"
         ],
         "y": [
          289.33337,
          289.34555,
          289.35416,
          289.35287,
          289.31647,
          289.25613,
          289.21664
         ]
        },
        {
         "legendgroup": "1_Europe_11011111111",
         "legendgrouptitle": {
          "font": {
           "color": "black",
           "family": "Arial Bold",
           "size": 14
          },
          "text": "1_Europe_11011111111"
         },
         "line": {
          "color": "rgb(247, 143, 143)",
          "width": 1
         },
         "mode": "lines",
         "name": "1_Europe_11011111111",
         "showlegend": true,
         "type": "scatter",
         "x": [
          "2021-06-22T00:00:00.000000000",
          "2021-06-23T00:00:00.000000000",
          "2021-06-24T00:00:00.000000000",
          "2021-06-25T00:00:00.000000000",
          "2021-06-26T00:00:00.000000000",
          "2021-06-27T00:00:00.000000000",
          "2021-06-28T00:00:00.000000000"
         ],
         "y": [
          289.45087,
          289.64648,
          289.84583,
          290.02155,
          290.16345,
          290.27026,
          290.4204
         ]
        },
        {
         "legendgroup": "0.001_North",
         "line": {
          "color": "rgb(248, 134, 134)",
          "width": 1
         },
         "mode": "lines",
         "name": "0.001_North",
         "showlegend": true,
         "type": "scatter",
         "x": [
          "2021-06-22T00:00:00.000000000",
          "2021-06-23T00:00:00.000000000",
          "2021-06-24T00:00:00.000000000",
          "2021-06-25T00:00:00.000000000",
          "2021-06-26T00:00:00.000000000",
          "2021-06-27T00:00:00.000000000",
          "2021-06-28T00:00:00.000000000"
         ],
         "y": [
          289.3283,
          289.33298,
          289.34106,
          289.3483,
          289.31885,
          289.23526,
          289.18372
         ]
        },
        {
         "legendgroup": "1_North",
         "line": {
          "color": "rgb(248, 125, 125)",
          "width": 1
         },
         "mode": "lines",
         "name": "1_North",
         "showlegend": true,
         "type": "scatter",
         "x": [
          "2021-06-22T00:00:00.000000000",
          "2021-06-23T00:00:00.000000000",
          "2021-06-24T00:00:00.000000000",
          "2021-06-25T00:00:00.000000000",
          "2021-06-26T00:00:00.000000000",
          "2021-06-27T00:00:00.000000000",
          "2021-06-28T00:00:00.000000000"
         ],
         "y": [
          289.50632,
          289.6763,
          289.858,
          290.0417,
          290.16595,
          290.251,
          290.3721
         ]
        },
        {
         "legendgroup": "0.001_North",
         "line": {
          "color": "rgb(249, 114, 114)",
          "width": 1
         },
         "mode": "lines",
         "name": "0.001_North",
         "showlegend": true,
         "type": "scatter",
         "x": [
          "2021-06-22T00:00:00.000000000",
          "2021-06-23T00:00:00.000000000",
          "2021-06-24T00:00:00.000000000",
          "2021-06-25T00:00:00.000000000",
          "2021-06-26T00:00:00.000000000",
          "2021-06-27T00:00:00.000000000",
          "2021-06-28T00:00:00.000000000"
         ],
         "y": [
          289.3259,
          289.33832,
          289.34995,
          289.3542,
          289.3231,
          289.24973,
          289.20193
         ]
        },
        {
         "legendgroup": "1_North",
         "line": {
          "color": "rgb(249, 105, 105)",
          "width": 1
         },
         "mode": "lines",
         "name": "1_North",
         "showlegend": true,
         "type": "scatter",
         "x": [
          "2021-06-22T00:00:00.000000000",
          "2021-06-23T00:00:00.000000000",
          "2021-06-24T00:00:00.000000000",
          "2021-06-25T00:00:00.000000000",
          "2021-06-26T00:00:00.000000000",
          "2021-06-27T00:00:00.000000000",
          "2021-06-28T00:00:00.000000000"
         ],
         "y": [
          289.47205,
          289.69183,
          289.88898,
          290.07285,
          290.22784,
          290.34875,
          290.49063
         ]
        },
        {
         "legendgroup": "0.001_North",
         "line": {
          "color": "rgb(250, 95, 95)",
          "width": 1
         },
         "mode": "lines",
         "name": "0.001_North",
         "showlegend": true,
         "type": "scatter",
         "x": [
          "2021-06-22T00:00:00.000000000",
          "2021-06-23T00:00:00.000000000",
          "2021-06-24T00:00:00.000000000",
          "2021-06-25T00:00:00.000000000",
          "2021-06-26T00:00:00.000000000",
          "2021-06-27T00:00:00.000000000",
          "2021-06-28T00:00:00.000000000"
         ],
         "y": [
          289.31964,
          289.3152,
          289.3077,
          289.29846,
          289.2516,
          289.15894,
          289.10965
         ]
        },
        {
         "legendgroup": "1_North",
         "line": {
          "color": "rgb(250, 86, 86)",
          "width": 1
         },
         "mode": "lines",
         "name": "1_North",
         "showlegend": true,
         "type": "scatter",
         "x": [
          "2021-06-22T00:00:00.000000000",
          "2021-06-23T00:00:00.000000000",
          "2021-06-24T00:00:00.000000000",
          "2021-06-25T00:00:00.000000000",
          "2021-06-26T00:00:00.000000000",
          "2021-06-27T00:00:00.000000000",
          "2021-06-28T00:00:00.000000000"
         ],
         "y": [
          289.55597,
          289.93332,
          290.3238,
          290.73163,
          291.09885,
          291.41748,
          291.74762
         ]
        },
        {
         "legendgroup": "0.001_Northern",
         "line": {
          "color": "rgb(251, 76, 76)",
          "width": 1
         },
         "mode": "lines",
         "name": "0.001_Northern",
         "showlegend": true,
         "type": "scatter",
         "x": [
          "2021-06-22T00:00:00.000000000",
          "2021-06-23T00:00:00.000000000",
          "2021-06-24T00:00:00.000000000",
          "2021-06-25T00:00:00.000000000",
          "2021-06-26T00:00:00.000000000",
          "2021-06-27T00:00:00.000000000",
          "2021-06-28T00:00:00.000000000"
         ],
         "y": [
          289.26553,
          289.22668,
          289.17752,
          289.143,
          289.081,
          288.9668,
          288.90836
         ]
        },
        {
         "legendgroup": "1_Northern",
         "line": {
          "color": "rgb(251, 66, 66)",
          "width": 1
         },
         "mode": "lines",
         "name": "1_Northern",
         "showlegend": true,
         "type": "scatter",
         "x": [
          "2021-06-22T00:00:00.000000000",
          "2021-06-23T00:00:00.000000000",
          "2021-06-24T00:00:00.000000000",
          "2021-06-25T00:00:00.000000000",
          "2021-06-26T00:00:00.000000000",
          "2021-06-27T00:00:00.000000000",
          "2021-06-28T00:00:00.000000000"
         ],
         "y": [
          290.45944,
          292.36346,
          294.28723,
          296.19232,
          298.03467,
          299.81927,
          301.6231
         ]
        },
        {
         "legendgroup": "0.001_Southern",
         "line": {
          "color": "rgb(252, 57, 57)",
          "width": 1
         },
         "mode": "lines",
         "name": "0.001_Southern",
         "showlegend": true,
         "type": "scatter",
         "x": [
          "2021-06-22T00:00:00.000000000",
          "2021-06-23T00:00:00.000000000",
          "2021-06-24T00:00:00.000000000",
          "2021-06-25T00:00:00.000000000",
          "2021-06-26T00:00:00.000000000",
          "2021-06-27T00:00:00.000000000",
          "2021-06-28T00:00:00.000000000"
         ],
         "y": [
          289.29477,
          289.35898,
          289.46497,
          289.52942,
          289.5117,
          289.4968,
          289.5131
         ]
        },
        {
         "legendgroup": "1_Southern",
         "line": {
          "color": "rgb(252, 47, 47)",
          "width": 1
         },
         "mode": "lines",
         "name": "1_Southern",
         "showlegend": true,
         "type": "scatter",
         "x": [
          "2021-06-22T00:00:00.000000000",
          "2021-06-23T00:00:00.000000000",
          "2021-06-24T00:00:00.000000000",
          "2021-06-25T00:00:00.000000000",
          "2021-06-26T00:00:00.000000000",
          "2021-06-27T00:00:00.000000000",
          "2021-06-28T00:00:00.000000000"
         ],
         "y": [
          290.55777,
          292.4418,
          294.277,
          296.06137,
          297.79065,
          299.4584,
          301.06073
         ]
        },
        {
         "legendgroup": "0.001_Tropics_11011111111",
         "legendgrouptitle": {
          "font": {
           "color": "black",
           "family": "Arial Bold",
           "size": 14
          },
          "text": "0.001_Tropics_11011111111"
         },
         "line": {
          "color": "rgb(253, 37, 37)",
          "width": 1
         },
         "mode": "lines",
         "name": "0.001_Tropics_11011111111",
         "showlegend": true,
         "type": "scatter",
         "x": [
          "2021-06-22T00:00:00.000000000",
          "2021-06-23T00:00:00.000000000",
          "2021-06-24T00:00:00.000000000",
          "2021-06-25T00:00:00.000000000",
          "2021-06-26T00:00:00.000000000",
          "2021-06-27T00:00:00.000000000",
          "2021-06-28T00:00:00.000000000"
         ],
         "y": [
          289.27475,
          289.2755,
          289.32092,
          289.36667,
          289.42627,
          289.47397,
          289.52612
         ]
        },
        {
         "legendgroup": "1_Tropics_11011111111",
         "legendgrouptitle": {
          "font": {
           "color": "black",
           "family": "Arial Bold",
           "size": 14
          },
          "text": "1_Tropics_11011111111"
         },
         "line": {
          "color": "rgb(253, 28, 28)",
          "width": 1
         },
         "mode": "lines",
         "name": "1_Tropics_11011111111",
         "showlegend": true,
         "type": "scatter",
         "x": [
          "2021-06-22T00:00:00.000000000",
          "2021-06-23T00:00:00.000000000",
          "2021-06-24T00:00:00.000000000",
          "2021-06-25T00:00:00.000000000",
          "2021-06-26T00:00:00.000000000",
          "2021-06-27T00:00:00.000000000",
          "2021-06-28T00:00:00.000000000"
         ],
         "y": [
          291.06183,
          293.7309,
          296.42877,
          299.13776,
          301.787,
          304.39105,
          306.95645
         ]
        },
        {
         "legendgroup": "0.001_global_11011111111",
         "line": {
          "color": "rgb(254, 18, 18)",
          "width": 1
         },
         "mode": "lines",
         "name": "0.001_global_11011111111",
         "showlegend": true,
         "type": "scatter",
         "x": [
          "2021-06-22T00:00:00.000000000",
          "2021-06-23T00:00:00.000000000",
          "2021-06-24T00:00:00.000000000",
          "2021-06-25T00:00:00.000000000",
          "2021-06-26T00:00:00.000000000",
          "2021-06-27T00:00:00.000000000",
          "2021-06-28T00:00:00.000000000"
         ],
         "y": [
          289.18982,
          289.1516,
          289.18494,
          289.23038,
          289.29962,
          289.3997,
          289.57977
         ]
        },
        {
         "legendgroup": "1_global_11011111111",
         "line": {
          "color": "rgb(254, 9, 9)",
          "width": 1
         },
         "mode": "lines",
         "name": "1_global_11011111111",
         "showlegend": true,
         "type": "scatter",
         "x": [
          "2021-06-22T00:00:00.000000000",
          "2021-06-23T00:00:00.000000000",
          "2021-06-24T00:00:00.000000000",
          "2021-06-25T00:00:00.000000000",
          "2021-06-26T00:00:00.000000000",
          "2021-06-27T00:00:00.000000000",
          "2021-06-28T00:00:00.000000000"
         ],
         "y": [
          293.41882,
          299.7091,
          305.90442,
          311.99756,
          317.99036,
          323.886,
          329.6825
         ]
        },
        {
         "legendgroup": "Ensemble Members",
         "legendgrouptitle": {
          "font": {
           "color": "black",
           "family": "Arial Bold",
           "size": 14
          },
          "text": "Ensemble Members"
         },
         "line": {
          "color": "grey",
          "width": 0.5
         },
         "mode": "lines",
         "name": "Ensemble Members",
         "opacity": 0.5,
         "showlegend": true,
         "type": "scatter",
         "x": [
          "2021-06-22T00:00:00",
          "2021-06-23T00:00:00",
          "2021-06-24T00:00:00",
          "2021-06-25T00:00:00",
          "2021-06-26T00:00:00",
          "2021-06-27T00:00:00",
          "2021-06-28T00:00:00"
         ],
         "y": [
          289.3408169020958,
          289.229704779972,
          289.2360617330832,
          289.2856577171876,
          289.31812749076073,
          289.2874254595531,
          289.282983236754
         ]
        },
        {
         "legendgroup": "Ensemble Members",
         "line": {
          "color": "grey",
          "width": 0.5
         },
         "mode": "lines",
         "opacity": 0.5,
         "showlegend": false,
         "type": "scatter",
         "x": [
          "2021-06-22T00:00:00",
          "2021-06-23T00:00:00",
          "2021-06-24T00:00:00",
          "2021-06-25T00:00:00",
          "2021-06-26T00:00:00",
          "2021-06-27T00:00:00",
          "2021-06-28T00:00:00"
         ],
         "y": [
          289.3222677914276,
          289.19564629134305,
          289.2206119730672,
          289.250187577044,
          289.3231405405639,
          289.3392333840449,
          289.2813190061905
         ]
        },
        {
         "legendgroup": "Ensemble Members",
         "line": {
          "color": "grey",
          "width": 0.5
         },
         "mode": "lines",
         "opacity": 0.5,
         "showlegend": false,
         "type": "scatter",
         "x": [
          "2021-06-22T00:00:00",
          "2021-06-23T00:00:00",
          "2021-06-24T00:00:00",
          "2021-06-25T00:00:00",
          "2021-06-26T00:00:00",
          "2021-06-27T00:00:00",
          "2021-06-28T00:00:00"
         ],
         "y": [
          289.3225455146436,
          289.2205697763405,
          289.2612416129822,
          289.2800073411046,
          289.32317207428713,
          289.3732740021562,
          289.3741864945102
         ]
        },
        {
         "legendgroup": "Ensemble Members",
         "line": {
          "color": "grey",
          "width": 0.5
         },
         "mode": "lines",
         "opacity": 0.5,
         "showlegend": false,
         "type": "scatter",
         "x": [
          "2021-06-22T00:00:00",
          "2021-06-23T00:00:00",
          "2021-06-24T00:00:00",
          "2021-06-25T00:00:00",
          "2021-06-26T00:00:00",
          "2021-06-27T00:00:00",
          "2021-06-28T00:00:00"
         ],
         "y": [
          289.3450989404606,
          289.24355347262826,
          289.269212057016,
          289.32940960414794,
          289.3652179891987,
          289.3614700595664,
          289.3509217161997
         ]
        },
        {
         "legendgroup": "Ensemble Members",
         "line": {
          "color": "grey",
          "width": 0.5
         },
         "mode": "lines",
         "opacity": 0.5,
         "showlegend": false,
         "type": "scatter",
         "x": [
          "2021-06-22T00:00:00",
          "2021-06-23T00:00:00",
          "2021-06-24T00:00:00",
          "2021-06-25T00:00:00",
          "2021-06-26T00:00:00",
          "2021-06-27T00:00:00",
          "2021-06-28T00:00:00"
         ],
         "y": [
          289.34646788726457,
          289.2263048021261,
          289.2419995205721,
          289.30546215155306,
          289.33937878874855,
          289.320442565399,
          289.30315904570915
         ]
        },
        {
         "legendgroup": "Ensemble Members",
         "line": {
          "color": "grey",
          "width": 0.5
         },
         "mode": "lines",
         "opacity": 0.5,
         "showlegend": false,
         "type": "scatter",
         "x": [
          "2021-06-22T00:00:00",
          "2021-06-23T00:00:00",
          "2021-06-24T00:00:00",
          "2021-06-25T00:00:00",
          "2021-06-26T00:00:00",
          "2021-06-27T00:00:00",
          "2021-06-28T00:00:00"
         ],
         "y": [
          289.3584167942402,
          289.22746679887547,
          289.2214448310758,
          289.26099924337467,
          289.30170301859727,
          289.31817063877776,
          289.30867893398175
         ]
        },
        {
         "legendgroup": "Ensemble Members",
         "line": {
          "color": "grey",
          "width": 0.5
         },
         "mode": "lines",
         "opacity": 0.5,
         "showlegend": false,
         "type": "scatter",
         "x": [
          "2021-06-22T00:00:00",
          "2021-06-23T00:00:00",
          "2021-06-24T00:00:00",
          "2021-06-25T00:00:00",
          "2021-06-26T00:00:00",
          "2021-06-27T00:00:00",
          "2021-06-28T00:00:00"
         ],
         "y": [
          289.33020020086684,
          289.19858009036267,
          289.20907069962936,
          289.2614964052596,
          289.3398758699251,
          289.3470858527907,
          289.282149699979
         ]
        },
        {
         "legendgroup": "Ensemble Members",
         "line": {
          "color": "grey",
          "width": 0.5
         },
         "mode": "lines",
         "opacity": 0.5,
         "showlegend": false,
         "type": "scatter",
         "x": [
          "2021-06-22T00:00:00",
          "2021-06-23T00:00:00",
          "2021-06-24T00:00:00",
          "2021-06-25T00:00:00",
          "2021-06-26T00:00:00",
          "2021-06-27T00:00:00",
          "2021-06-28T00:00:00"
         ],
         "y": [
          289.33930727034357,
          289.2206209758742,
          289.26446533399303,
          289.314696593273,
          289.31634430392364,
          289.2864973740371,
          289.2603660793958
         ]
        },
        {
         "legendgroup": "Ensemble Members",
         "line": {
          "color": "grey",
          "width": 0.5
         },
         "mode": "lines",
         "opacity": 0.5,
         "showlegend": false,
         "type": "scatter",
         "x": [
          "2021-06-22T00:00:00",
          "2021-06-23T00:00:00",
          "2021-06-24T00:00:00",
          "2021-06-25T00:00:00",
          "2021-06-26T00:00:00",
          "2021-06-27T00:00:00",
          "2021-06-28T00:00:00"
         ],
         "y": [
          289.3317600440653,
          289.2054682003863,
          289.2163066487459,
          289.2790520800986,
          289.3422575882586,
          289.34829942863456,
          289.3427594277833
         ]
        },
        {
         "legendgroup": "Ensemble Members",
         "line": {
          "color": "grey",
          "width": 0.5
         },
         "mode": "lines",
         "opacity": 0.5,
         "showlegend": false,
         "type": "scatter",
         "x": [
          "2021-06-22T00:00:00",
          "2021-06-23T00:00:00",
          "2021-06-24T00:00:00",
          "2021-06-25T00:00:00",
          "2021-06-26T00:00:00",
          "2021-06-27T00:00:00",
          "2021-06-28T00:00:00"
         ],
         "y": [
          289.31627954406275,
          289.2103197594422,
          289.2478169392522,
          289.28228777582945,
          289.32144616763753,
          289.30556333072127,
          289.2537338027767
         ]
        },
        {
         "legendgroup": "Ensemble Members",
         "line": {
          "color": "grey",
          "width": 0.5
         },
         "mode": "lines",
         "opacity": 0.5,
         "showlegend": false,
         "type": "scatter",
         "x": [
          "2021-06-22T00:00:00",
          "2021-06-23T00:00:00",
          "2021-06-24T00:00:00",
          "2021-06-25T00:00:00",
          "2021-06-26T00:00:00",
          "2021-06-27T00:00:00",
          "2021-06-28T00:00:00"
         ],
         "y": [
          289.3322969683356,
          289.20396482663915,
          289.24620657705105,
          289.30135189495485,
          289.35236112156286,
          289.34951509518805,
          289.3017153768474
         ]
        },
        {
         "legendgroup": "Ensemble Members",
         "line": {
          "color": "grey",
          "width": 0.5
         },
         "mode": "lines",
         "opacity": 0.5,
         "showlegend": false,
         "type": "scatter",
         "x": [
          "2021-06-22T00:00:00",
          "2021-06-23T00:00:00",
          "2021-06-24T00:00:00",
          "2021-06-25T00:00:00",
          "2021-06-26T00:00:00",
          "2021-06-27T00:00:00",
          "2021-06-28T00:00:00"
         ],
         "y": [
          289.3317165951864,
          289.2180387107018,
          289.25592916303646,
          289.30194116608465,
          289.3264177965785,
          289.30849226188093,
          289.27647543118593
         ]
        },
        {
         "legendgroup": "Ensemble Members",
         "line": {
          "color": "grey",
          "width": 0.5
         },
         "mode": "lines",
         "opacity": 0.5,
         "showlegend": false,
         "type": "scatter",
         "x": [
          "2021-06-22T00:00:00",
          "2021-06-23T00:00:00",
          "2021-06-24T00:00:00",
          "2021-06-25T00:00:00",
          "2021-06-26T00:00:00",
          "2021-06-27T00:00:00",
          "2021-06-28T00:00:00"
         ],
         "y": [
          289.320196702135,
          289.20185453439336,
          289.2279281464465,
          289.2716621283619,
          289.28893027914467,
          289.26483126260854,
          289.25096689600446
         ]
        },
        {
         "legendgroup": "Ensemble Members",
         "line": {
          "color": "grey",
          "width": 0.5
         },
         "mode": "lines",
         "opacity": 0.5,
         "showlegend": false,
         "type": "scatter",
         "x": [
          "2021-06-22T00:00:00",
          "2021-06-23T00:00:00",
          "2021-06-24T00:00:00",
          "2021-06-25T00:00:00",
          "2021-06-26T00:00:00",
          "2021-06-27T00:00:00",
          "2021-06-28T00:00:00"
         ],
         "y": [
          289.3438391394967,
          289.22092134949764,
          289.2267805526387,
          289.2717222196831,
          289.32781601051346,
          289.33324888068387,
          289.29525013115295
         ]
        },
        {
         "legendgroup": "Ensemble Members",
         "line": {
          "color": "grey",
          "width": 0.5
         },
         "mode": "lines",
         "opacity": 0.5,
         "showlegend": false,
         "type": "scatter",
         "x": [
          "2021-06-22T00:00:00",
          "2021-06-23T00:00:00",
          "2021-06-24T00:00:00",
          "2021-06-25T00:00:00",
          "2021-06-26T00:00:00",
          "2021-06-27T00:00:00",
          "2021-06-28T00:00:00"
         ],
         "y": [
          289.32818962563175,
          289.1854594649928,
          289.20491061419597,
          289.2733918278459,
          289.31887980237764,
          289.32655149284875,
          289.27810028793255
         ]
        },
        {
         "legendgroup": "Ensemble Members",
         "line": {
          "color": "grey",
          "width": 0.5
         },
         "mode": "lines",
         "opacity": 0.5,
         "showlegend": false,
         "type": "scatter",
         "x": [
          "2021-06-22T00:00:00",
          "2021-06-23T00:00:00",
          "2021-06-24T00:00:00",
          "2021-06-25T00:00:00",
          "2021-06-26T00:00:00",
          "2021-06-27T00:00:00",
          "2021-06-28T00:00:00"
         ],
         "y": [
          289.3262905944301,
          289.188766612101,
          289.1902061198733,
          289.2677737632681,
          289.3653508275217,
          289.364189441671,
          289.348933828049
         ]
        },
        {
         "legendgroup": "Ensemble Members",
         "line": {
          "color": "grey",
          "width": 0.5
         },
         "mode": "lines",
         "opacity": 0.5,
         "showlegend": false,
         "type": "scatter",
         "x": [
          "2021-06-22T00:00:00",
          "2021-06-23T00:00:00",
          "2021-06-24T00:00:00",
          "2021-06-25T00:00:00",
          "2021-06-26T00:00:00",
          "2021-06-27T00:00:00",
          "2021-06-28T00:00:00"
         ],
         "y": [
          289.3303837242543,
          289.2261727802704,
          289.2317647546299,
          289.26997317921894,
          289.3250263482362,
          289.32343130274216,
          289.3257163491461
         ]
        },
        {
         "legendgroup": "Ensemble Members",
         "line": {
          "color": "grey",
          "width": 0.5
         },
         "mode": "lines",
         "opacity": 0.5,
         "showlegend": false,
         "type": "scatter",
         "x": [
          "2021-06-22T00:00:00",
          "2021-06-23T00:00:00",
          "2021-06-24T00:00:00",
          "2021-06-25T00:00:00",
          "2021-06-26T00:00:00",
          "2021-06-27T00:00:00",
          "2021-06-28T00:00:00"
         ],
         "y": [
          289.3331178315097,
          289.22733048066243,
          289.23468855144864,
          289.28818433570746,
          289.3398820875588,
          289.3437004301006,
          289.31017027222686
         ]
        },
        {
         "legendgroup": "Ensemble Members",
         "line": {
          "color": "grey",
          "width": 0.5
         },
         "mode": "lines",
         "opacity": 0.5,
         "showlegend": false,
         "type": "scatter",
         "x": [
          "2021-06-22T00:00:00",
          "2021-06-23T00:00:00",
          "2021-06-24T00:00:00",
          "2021-06-25T00:00:00",
          "2021-06-26T00:00:00",
          "2021-06-27T00:00:00",
          "2021-06-28T00:00:00"
         ],
         "y": [
          289.327710088039,
          289.2073446000392,
          289.22838017124883,
          289.24872353254136,
          289.3141853355748,
          289.3531636465639,
          289.32182531451497
         ]
        },
        {
         "legendgroup": "Ensemble Members",
         "line": {
          "color": "grey",
          "width": 0.5
         },
         "mode": "lines",
         "opacity": 0.5,
         "showlegend": false,
         "type": "scatter",
         "x": [
          "2021-06-22T00:00:00",
          "2021-06-23T00:00:00",
          "2021-06-24T00:00:00",
          "2021-06-25T00:00:00",
          "2021-06-26T00:00:00",
          "2021-06-27T00:00:00",
          "2021-06-28T00:00:00"
         ],
         "y": [
          289.33150248494024,
          289.22389945753525,
          289.2306203804308,
          289.28588500488286,
          289.35833613200214,
          289.37808480776783,
          289.3838639924792
         ]
        },
        {
         "legendgroup": "Ensemble Members",
         "line": {
          "color": "grey",
          "width": 0.5
         },
         "mode": "lines",
         "opacity": 0.5,
         "showlegend": false,
         "type": "scatter",
         "x": [
          "2021-06-22T00:00:00",
          "2021-06-23T00:00:00",
          "2021-06-24T00:00:00",
          "2021-06-25T00:00:00",
          "2021-06-26T00:00:00",
          "2021-06-27T00:00:00",
          "2021-06-28T00:00:00"
         ],
         "y": [
          289.30659482552466,
          289.21246627260115,
          289.23120381394733,
          289.2940298683949,
          289.37518139429034,
          289.4070166593829,
          289.3855478414047
         ]
        },
        {
         "legendgroup": "Ensemble Members",
         "line": {
          "color": "grey",
          "width": 0.5
         },
         "mode": "lines",
         "opacity": 0.5,
         "showlegend": false,
         "type": "scatter",
         "x": [
          "2021-06-22T00:00:00",
          "2021-06-23T00:00:00",
          "2021-06-24T00:00:00",
          "2021-06-25T00:00:00",
          "2021-06-26T00:00:00",
          "2021-06-27T00:00:00",
          "2021-06-28T00:00:00"
         ],
         "y": [
          289.3454646070346,
          289.21467100655735,
          289.2312103136761,
          289.305672961468,
          289.35962199575414,
          289.3778840730106,
          289.34377724819757
         ]
        },
        {
         "legendgroup": "Ensemble Members",
         "line": {
          "color": "grey",
          "width": 0.5
         },
         "mode": "lines",
         "opacity": 0.5,
         "showlegend": false,
         "type": "scatter",
         "x": [
          "2021-06-22T00:00:00",
          "2021-06-23T00:00:00",
          "2021-06-24T00:00:00",
          "2021-06-25T00:00:00",
          "2021-06-26T00:00:00",
          "2021-06-27T00:00:00",
          "2021-06-28T00:00:00"
         ],
         "y": [
          289.32416566566786,
          289.2139056911538,
          289.2445936243739,
          289.28006625754784,
          289.32361724570444,
          289.32179927204925,
          289.26427850943696
         ]
        },
        {
         "legendgroup": "Ensemble Members",
         "line": {
          "color": "grey",
          "width": 0.5
         },
         "mode": "lines",
         "opacity": 0.5,
         "showlegend": false,
         "type": "scatter",
         "x": [
          "2021-06-22T00:00:00",
          "2021-06-23T00:00:00",
          "2021-06-24T00:00:00",
          "2021-06-25T00:00:00",
          "2021-06-26T00:00:00",
          "2021-06-27T00:00:00",
          "2021-06-28T00:00:00"
         ],
         "y": [
          289.31869273726807,
          289.2100221583292,
          289.2134981375949,
          289.26701098246485,
          289.3286892434453,
          289.3253722390256,
          289.28210561916444
         ]
        },
        {
         "legendgroup": "Ensemble Members",
         "line": {
          "color": "grey",
          "width": 0.5
         },
         "mode": "lines",
         "opacity": 0.5,
         "showlegend": false,
         "type": "scatter",
         "x": [
          "2021-06-22T00:00:00",
          "2021-06-23T00:00:00",
          "2021-06-24T00:00:00",
          "2021-06-25T00:00:00",
          "2021-06-26T00:00:00",
          "2021-06-27T00:00:00",
          "2021-06-28T00:00:00"
         ],
         "y": [
          289.3291798159673,
          289.22154051897155,
          289.21729795389757,
          289.2857389694115,
          289.35327491547895,
          289.3338045022854,
          289.35045929606815
         ]
        },
        {
         "legendgroup": "Ensemble Members",
         "line": {
          "color": "grey",
          "width": 0.5
         },
         "mode": "lines",
         "opacity": 0.5,
         "showlegend": false,
         "type": "scatter",
         "x": [
          "2021-06-22T00:00:00",
          "2021-06-23T00:00:00",
          "2021-06-24T00:00:00",
          "2021-06-25T00:00:00",
          "2021-06-26T00:00:00",
          "2021-06-27T00:00:00",
          "2021-06-28T00:00:00"
         ],
         "y": [
          289.3410691912968,
          289.2413799849209,
          289.2510657132367,
          289.28233291547565,
          289.3228159709962,
          289.33262390725383,
          289.3349785701069
         ]
        },
        {
         "legendgroup": "Ensemble Members",
         "line": {
          "color": "grey",
          "width": 0.5
         },
         "mode": "lines",
         "opacity": 0.5,
         "showlegend": false,
         "type": "scatter",
         "x": [
          "2021-06-22T00:00:00",
          "2021-06-23T00:00:00",
          "2021-06-24T00:00:00",
          "2021-06-25T00:00:00",
          "2021-06-26T00:00:00",
          "2021-06-27T00:00:00",
          "2021-06-28T00:00:00"
         ],
         "y": [
          289.32493430524204,
          289.222010981306,
          289.2449731326716,
          289.28539170216135,
          289.33801651474255,
          289.3552833412125,
          289.35309516054946
         ]
        },
        {
         "legendgroup": "Ensemble Members",
         "line": {
          "color": "grey",
          "width": 0.5
         },
         "mode": "lines",
         "opacity": 0.5,
         "showlegend": false,
         "type": "scatter",
         "x": [
          "2021-06-22T00:00:00",
          "2021-06-23T00:00:00",
          "2021-06-24T00:00:00",
          "2021-06-25T00:00:00",
          "2021-06-26T00:00:00",
          "2021-06-27T00:00:00",
          "2021-06-28T00:00:00"
         ],
         "y": [
          289.36853508149096,
          289.25144321107126,
          289.24867404001276,
          289.27358001298194,
          289.3587917795231,
          289.3730813293985,
          289.367380992394
         ]
        },
        {
         "legendgroup": "Ensemble Members",
         "line": {
          "color": "grey",
          "width": 0.5
         },
         "mode": "lines",
         "opacity": 0.5,
         "showlegend": false,
         "type": "scatter",
         "x": [
          "2021-06-22T00:00:00",
          "2021-06-23T00:00:00",
          "2021-06-24T00:00:00",
          "2021-06-25T00:00:00",
          "2021-06-26T00:00:00",
          "2021-06-27T00:00:00",
          "2021-06-28T00:00:00"
         ],
         "y": [
          289.3671911744256,
          289.2314304258149,
          289.2493771134176,
          289.29169278255983,
          289.34663672725964,
          289.3148817415145,
          289.2629661815002
         ]
        },
        {
         "legendgroup": "Ensemble Members",
         "line": {
          "color": "grey",
          "width": 0.5
         },
         "mode": "lines",
         "opacity": 0.5,
         "showlegend": false,
         "type": "scatter",
         "x": [
          "2021-06-22T00:00:00",
          "2021-06-23T00:00:00",
          "2021-06-24T00:00:00",
          "2021-06-25T00:00:00",
          "2021-06-26T00:00:00",
          "2021-06-27T00:00:00",
          "2021-06-28T00:00:00"
         ],
         "y": [
          289.35347457783377,
          289.1991761766157,
          289.201245647043,
          289.2457439947382,
          289.3063541769323,
          289.34399476857806,
          289.328903470799
         ]
        },
        {
         "legendgroup": "Ensemble Members",
         "line": {
          "color": "grey",
          "width": 0.5
         },
         "mode": "lines",
         "opacity": 0.5,
         "showlegend": false,
         "type": "scatter",
         "x": [
          "2021-06-22T00:00:00",
          "2021-06-23T00:00:00",
          "2021-06-24T00:00:00",
          "2021-06-25T00:00:00",
          "2021-06-26T00:00:00",
          "2021-06-27T00:00:00",
          "2021-06-28T00:00:00"
         ],
         "y": [
          289.3421631148781,
          289.2177831439912,
          289.21370360733465,
          289.26811539902116,
          289.34258904997336,
          289.34591298345066,
          289.31736812208305
         ]
        },
        {
         "legendgroup": "Ensemble Members",
         "line": {
          "color": "grey",
          "width": 0.5
         },
         "mode": "lines",
         "opacity": 0.5,
         "showlegend": false,
         "type": "scatter",
         "x": [
          "2021-06-22T00:00:00",
          "2021-06-23T00:00:00",
          "2021-06-24T00:00:00",
          "2021-06-25T00:00:00",
          "2021-06-26T00:00:00",
          "2021-06-27T00:00:00",
          "2021-06-28T00:00:00"
         ],
         "y": [
          289.3288989028028,
          289.2077840331206,
          289.21327178792853,
          289.25064311278845,
          289.2846261479177,
          289.2795086804887,
          289.25653759178516
         ]
        },
        {
         "legendgroup": "Ensemble Members",
         "line": {
          "color": "grey",
          "width": 0.5
         },
         "mode": "lines",
         "opacity": 0.5,
         "showlegend": false,
         "type": "scatter",
         "x": [
          "2021-06-22T00:00:00",
          "2021-06-23T00:00:00",
          "2021-06-24T00:00:00",
          "2021-06-25T00:00:00",
          "2021-06-26T00:00:00",
          "2021-06-27T00:00:00",
          "2021-06-28T00:00:00"
         ],
         "y": [
          289.3434436351564,
          289.22754642623335,
          289.25156868744887,
          289.3058069883049,
          289.37352920655974,
          289.36999460394264,
          289.31072336204875
         ]
        },
        {
         "legendgroup": "Ensemble Members",
         "line": {
          "color": "grey",
          "width": 0.5
         },
         "mode": "lines",
         "opacity": 0.5,
         "showlegend": false,
         "type": "scatter",
         "x": [
          "2021-06-22T00:00:00",
          "2021-06-23T00:00:00",
          "2021-06-24T00:00:00",
          "2021-06-25T00:00:00",
          "2021-06-26T00:00:00",
          "2021-06-27T00:00:00",
          "2021-06-28T00:00:00"
         ],
         "y": [
          289.32756362761535,
          289.2243402025127,
          289.2386180479347,
          289.2809970459302,
          289.33210069270547,
          289.3600267769953,
          289.3241958379531
         ]
        },
        {
         "legendgroup": "Ensemble Members",
         "line": {
          "color": "grey",
          "width": 0.5
         },
         "mode": "lines",
         "opacity": 0.5,
         "showlegend": false,
         "type": "scatter",
         "x": [
          "2021-06-22T00:00:00",
          "2021-06-23T00:00:00",
          "2021-06-24T00:00:00",
          "2021-06-25T00:00:00",
          "2021-06-26T00:00:00",
          "2021-06-27T00:00:00",
          "2021-06-28T00:00:00"
         ],
         "y": [
          289.3440290421921,
          289.2157570740433,
          289.2407506412042,
          289.3016495125486,
          289.35472992344995,
          289.3539571607218,
          289.33862209448023
         ]
        },
        {
         "legendgroup": "Ensemble Members",
         "line": {
          "color": "grey",
          "width": 0.5
         },
         "mode": "lines",
         "opacity": 0.5,
         "showlegend": false,
         "type": "scatter",
         "x": [
          "2021-06-22T00:00:00",
          "2021-06-23T00:00:00",
          "2021-06-24T00:00:00",
          "2021-06-25T00:00:00",
          "2021-06-26T00:00:00",
          "2021-06-27T00:00:00",
          "2021-06-28T00:00:00"
         ],
         "y": [
          289.34167945888134,
          289.2331696233231,
          289.27494918359633,
          289.3077428849118,
          289.360172134356,
          289.37820985579424,
          289.3055613066062
         ]
        },
        {
         "legendgroup": "Ensemble Members",
         "line": {
          "color": "grey",
          "width": 0.5
         },
         "mode": "lines",
         "opacity": 0.5,
         "showlegend": false,
         "type": "scatter",
         "x": [
          "2021-06-22T00:00:00",
          "2021-06-23T00:00:00",
          "2021-06-24T00:00:00",
          "2021-06-25T00:00:00",
          "2021-06-26T00:00:00",
          "2021-06-27T00:00:00",
          "2021-06-28T00:00:00"
         ],
         "y": [
          289.35245081371966,
          289.2138017026348,
          289.22457213310486,
          289.25457901664913,
          289.3013417344477,
          289.288045565143,
          289.30039313586275
         ]
        },
        {
         "legendgroup": "Ensemble Members",
         "line": {
          "color": "grey",
          "width": 0.5
         },
         "mode": "lines",
         "opacity": 0.5,
         "showlegend": false,
         "type": "scatter",
         "x": [
          "2021-06-22T00:00:00",
          "2021-06-23T00:00:00",
          "2021-06-24T00:00:00",
          "2021-06-25T00:00:00",
          "2021-06-26T00:00:00",
          "2021-06-27T00:00:00",
          "2021-06-28T00:00:00"
         ],
         "y": [
          289.3477237716375,
          289.2614838335667,
          289.27044801411233,
          289.29119805520304,
          289.3523216136461,
          289.363841868174,
          289.36110879069383
         ]
        },
        {
         "legendgroup": "Ensemble Members",
         "line": {
          "color": "grey",
          "width": 0.5
         },
         "mode": "lines",
         "opacity": 0.5,
         "showlegend": false,
         "type": "scatter",
         "x": [
          "2021-06-22T00:00:00",
          "2021-06-23T00:00:00",
          "2021-06-24T00:00:00",
          "2021-06-25T00:00:00",
          "2021-06-26T00:00:00",
          "2021-06-27T00:00:00",
          "2021-06-28T00:00:00"
         ],
         "y": [
          289.34820616596363,
          289.21530630746923,
          289.1939645918761,
          289.2097589494223,
          289.2904118092425,
          289.30592745482846,
          289.2529284429646
         ]
        },
        {
         "legendgroup": "Ensemble Members",
         "line": {
          "color": "grey",
          "width": 0.5
         },
         "mode": "lines",
         "opacity": 0.5,
         "showlegend": false,
         "type": "scatter",
         "x": [
          "2021-06-22T00:00:00",
          "2021-06-23T00:00:00",
          "2021-06-24T00:00:00",
          "2021-06-25T00:00:00",
          "2021-06-26T00:00:00",
          "2021-06-27T00:00:00",
          "2021-06-28T00:00:00"
         ],
         "y": [
          289.3265615770708,
          289.20813184765274,
          289.2127724070765,
          289.295451182102,
          289.34297305618355,
          289.3270830487014,
          289.31411359459827
         ]
        },
        {
         "legendgroup": "Ensemble Members",
         "line": {
          "color": "grey",
          "width": 0.5
         },
         "mode": "lines",
         "opacity": 0.5,
         "showlegend": false,
         "type": "scatter",
         "x": [
          "2021-06-22T00:00:00",
          "2021-06-23T00:00:00",
          "2021-06-24T00:00:00",
          "2021-06-25T00:00:00",
          "2021-06-26T00:00:00",
          "2021-06-27T00:00:00",
          "2021-06-28T00:00:00"
         ],
         "y": [
          289.3445074137769,
          289.2108277003482,
          289.2391899147411,
          289.2726835346719,
          289.31914198853957,
          289.31934224840074,
          289.2735626326701
         ]
        },
        {
         "legendgroup": "Ensemble Members",
         "line": {
          "color": "grey",
          "width": 0.5
         },
         "mode": "lines",
         "opacity": 0.5,
         "showlegend": false,
         "type": "scatter",
         "x": [
          "2021-06-22T00:00:00",
          "2021-06-23T00:00:00",
          "2021-06-24T00:00:00",
          "2021-06-25T00:00:00",
          "2021-06-26T00:00:00",
          "2021-06-27T00:00:00",
          "2021-06-28T00:00:00"
         ],
         "y": [
          289.3270477152177,
          289.2036856512033,
          289.21005885957373,
          289.24861266320175,
          289.2824606273779,
          289.27702825981095,
          289.23887251386236
         ]
        },
        {
         "legendgroup": "Ensemble Members",
         "line": {
          "color": "grey",
          "width": 0.5
         },
         "mode": "lines",
         "opacity": 0.5,
         "showlegend": false,
         "type": "scatter",
         "x": [
          "2021-06-22T00:00:00",
          "2021-06-23T00:00:00",
          "2021-06-24T00:00:00",
          "2021-06-25T00:00:00",
          "2021-06-26T00:00:00",
          "2021-06-27T00:00:00",
          "2021-06-28T00:00:00"
         ],
         "y": [
          289.31654120930796,
          289.2193896308859,
          289.21679570587384,
          289.28643218168816,
          289.3505582503187,
          289.3753039565048,
          289.38423112278826
         ]
        },
        {
         "legendgroup": "Ensemble Members",
         "line": {
          "color": "grey",
          "width": 0.5
         },
         "mode": "lines",
         "opacity": 0.5,
         "showlegend": false,
         "type": "scatter",
         "x": [
          "2021-06-22T00:00:00",
          "2021-06-23T00:00:00",
          "2021-06-24T00:00:00",
          "2021-06-25T00:00:00",
          "2021-06-26T00:00:00",
          "2021-06-27T00:00:00",
          "2021-06-28T00:00:00"
         ],
         "y": [
          289.3270458640668,
          289.1965421565085,
          289.20829974177786,
          289.2555128488193,
          289.3021003646711,
          289.2831313130421,
          289.24880254602465
         ]
        },
        {
         "legendgroup": "Ensemble Members",
         "line": {
          "color": "grey",
          "width": 0.5
         },
         "mode": "lines",
         "opacity": 0.5,
         "showlegend": false,
         "type": "scatter",
         "x": [
          "2021-06-22T00:00:00",
          "2021-06-23T00:00:00",
          "2021-06-24T00:00:00",
          "2021-06-25T00:00:00",
          "2021-06-26T00:00:00",
          "2021-06-27T00:00:00",
          "2021-06-28T00:00:00"
         ],
         "y": [
          289.340849126572,
          289.2180843853966,
          289.1985057375648,
          289.25508222351766,
          289.3125012405949,
          289.3020608589079,
          289.26740543875854
         ]
        },
        {
         "legendgroup": "Ensemble Members",
         "line": {
          "color": "grey",
          "width": 0.5
         },
         "mode": "lines",
         "opacity": 0.5,
         "showlegend": false,
         "type": "scatter",
         "x": [
          "2021-06-22T00:00:00",
          "2021-06-23T00:00:00",
          "2021-06-24T00:00:00",
          "2021-06-25T00:00:00",
          "2021-06-26T00:00:00",
          "2021-06-27T00:00:00",
          "2021-06-28T00:00:00"
         ],
         "y": [
          289.3349014335487,
          289.2061821834296,
          289.22706991255734,
          289.25786947544964,
          289.32396792134386,
          289.3279001731078,
          289.32158108905753
         ]
        },
        {
         "legendgroup": "Ensemble Members",
         "line": {
          "color": "grey",
          "width": 0.5
         },
         "mode": "lines",
         "opacity": 0.5,
         "showlegend": false,
         "type": "scatter",
         "x": [
          "2021-06-22T00:00:00",
          "2021-06-23T00:00:00",
          "2021-06-24T00:00:00",
          "2021-06-25T00:00:00",
          "2021-06-26T00:00:00",
          "2021-06-27T00:00:00",
          "2021-06-28T00:00:00"
         ],
         "y": [
          289.33615808250164,
          289.1816045131544,
          289.21422413499033,
          289.2610181168108,
          289.2694965229874,
          289.27704083074013,
          289.2900993251804
         ]
        },
        {
         "legendgroup": "Ensemble Members",
         "line": {
          "color": "grey",
          "width": 0.5
         },
         "mode": "lines",
         "opacity": 0.5,
         "showlegend": false,
         "type": "scatter",
         "x": [
          "2021-06-22T00:00:00",
          "2021-06-23T00:00:00",
          "2021-06-24T00:00:00",
          "2021-06-25T00:00:00",
          "2021-06-26T00:00:00",
          "2021-06-27T00:00:00",
          "2021-06-28T00:00:00"
         ],
         "y": [
          289.3252281298713,
          289.21185850978935,
          289.21260888719604,
          289.2728354344391,
          289.3224268977454,
          289.342231434412,
          289.3102460626648
         ]
        },
        {
         "legendgroup": "Ensemble Members",
         "line": {
          "color": "grey",
          "width": 0.5
         },
         "mode": "lines",
         "opacity": 0.5,
         "showlegend": false,
         "type": "scatter",
         "x": [
          "2021-06-22T00:00:00",
          "2021-06-23T00:00:00",
          "2021-06-24T00:00:00",
          "2021-06-25T00:00:00",
          "2021-06-26T00:00:00",
          "2021-06-27T00:00:00",
          "2021-06-28T00:00:00"
         ],
         "y": [
          289.3180632915534,
          289.20056494732563,
          289.2120102524077,
          289.28096851850086,
          289.3252272680782,
          289.31020957427,
          289.2930029098481
         ]
        },
        {
         "legendgroup": "Ensemble Members",
         "line": {
          "color": "grey",
          "width": 0.5
         },
         "mode": "lines",
         "opacity": 0.5,
         "showlegend": false,
         "type": "scatter",
         "x": [
          "2021-06-22T00:00:00",
          "2021-06-23T00:00:00",
          "2021-06-24T00:00:00",
          "2021-06-25T00:00:00",
          "2021-06-26T00:00:00",
          "2021-06-27T00:00:00",
          "2021-06-28T00:00:00"
         ],
         "y": [
          289.3305338994627,
          289.2095630658151,
          289.2186795781214,
          289.2547251562688,
          289.3378367824854,
          289.34497044496646,
          289.31542343794507
         ]
        },
        {
         "legendgroup": "Ensemble Mean",
         "legendgrouptitle": {
          "font": {
           "color": "black",
           "family": "Arial Bold",
           "size": 14
          },
          "text": "Ensemble Mean"
         },
         "line": {
          "color": "black",
          "width": 2
         },
         "mode": "lines",
         "name": "Ensemble Mean",
         "showlegend": true,
         "type": "scatter",
         "x": [
          "2021-06-22T00:00:00",
          "2021-06-23T00:00:00",
          "2021-06-24T00:00:00",
          "2021-06-25T00:00:00",
          "2021-06-26T00:00:00",
          "2021-06-27T00:00:00",
          "2021-06-28T00:00:00"
         ],
         "y": [
          289.3348260580196,
          289.2156688225986,
          289.22981695393423,
          289.2770561657775,
          289.33002725539444,
          289.33300279287704,
          289.3086309514063
         ]
        }
       ],
       "layout": {
        "height": 900,
        "legend": {
         "bgcolor": "rgba(255,255,255,0.95)",
         "bordercolor": "rgba(0,0,0,0.2)",
         "borderwidth": 1,
         "font": {
          "size": 12
         },
         "groupclick": "toggleitem",
         "grouptitlefont": {
          "color": "black",
          "family": "Arial Bold",
          "size": 14
         },
         "itemclick": "toggle",
         "itemdoubleclick": "toggleothers",
         "itemsizing": "constant",
         "orientation": "v",
         "title": {
          "font": {
           "size": 16
          },
          "text": "Legend"
         },
         "tracegroupgap": 15,
         "traceorder": "grouped",
         "x": 1.05,
         "y": 1
        },
        "margin": {
         "b": 40,
         "l": 40,
         "r": 40,
         "t": 40
        },
        "template": {
         "data": {
          "bar": [
           {
            "error_x": {
             "color": "#2a3f5f"
            },
            "error_y": {
             "color": "#2a3f5f"
            },
            "marker": {
             "line": {
              "color": "white",
              "width": 0.5
             },
             "pattern": {
              "fillmode": "overlay",
              "size": 10,
              "solidity": 0.2
             }
            },
            "type": "bar"
           }
          ],
          "barpolar": [
           {
            "marker": {
             "line": {
              "color": "white",
              "width": 0.5
             },
             "pattern": {
              "fillmode": "overlay",
              "size": 10,
              "solidity": 0.2
             }
            },
            "type": "barpolar"
           }
          ],
          "carpet": [
           {
            "aaxis": {
             "endlinecolor": "#2a3f5f",
             "gridcolor": "#C8D4E3",
             "linecolor": "#C8D4E3",
             "minorgridcolor": "#C8D4E3",
             "startlinecolor": "#2a3f5f"
            },
            "baxis": {
             "endlinecolor": "#2a3f5f",
             "gridcolor": "#C8D4E3",
             "linecolor": "#C8D4E3",
             "minorgridcolor": "#C8D4E3",
             "startlinecolor": "#2a3f5f"
            },
            "type": "carpet"
           }
          ],
          "choropleth": [
           {
            "colorbar": {
             "outlinewidth": 0,
             "ticks": ""
            },
            "type": "choropleth"
           }
          ],
          "contour": [
           {
            "colorbar": {
             "outlinewidth": 0,
             "ticks": ""
            },
            "colorscale": [
             [
              0,
              "#0d0887"
             ],
             [
              0.1111111111111111,
              "#46039f"
             ],
             [
              0.2222222222222222,
              "#7201a8"
             ],
             [
              0.3333333333333333,
              "#9c179e"
             ],
             [
              0.4444444444444444,
              "#bd3786"
             ],
             [
              0.5555555555555556,
              "#d8576b"
             ],
             [
              0.6666666666666666,
              "#ed7953"
             ],
             [
              0.7777777777777778,
              "#fb9f3a"
             ],
             [
              0.8888888888888888,
              "#fdca26"
             ],
             [
              1,
              "#f0f921"
             ]
            ],
            "type": "contour"
           }
          ],
          "contourcarpet": [
           {
            "colorbar": {
             "outlinewidth": 0,
             "ticks": ""
            },
            "type": "contourcarpet"
           }
          ],
          "heatmap": [
           {
            "colorbar": {
             "outlinewidth": 0,
             "ticks": ""
            },
            "colorscale": [
             [
              0,
              "#0d0887"
             ],
             [
              0.1111111111111111,
              "#46039f"
             ],
             [
              0.2222222222222222,
              "#7201a8"
             ],
             [
              0.3333333333333333,
              "#9c179e"
             ],
             [
              0.4444444444444444,
              "#bd3786"
             ],
             [
              0.5555555555555556,
              "#d8576b"
             ],
             [
              0.6666666666666666,
              "#ed7953"
             ],
             [
              0.7777777777777778,
              "#fb9f3a"
             ],
             [
              0.8888888888888888,
              "#fdca26"
             ],
             [
              1,
              "#f0f921"
             ]
            ],
            "type": "heatmap"
           }
          ],
          "heatmapgl": [
           {
            "colorbar": {
             "outlinewidth": 0,
             "ticks": ""
            },
            "colorscale": [
             [
              0,
              "#0d0887"
             ],
             [
              0.1111111111111111,
              "#46039f"
             ],
             [
              0.2222222222222222,
              "#7201a8"
             ],
             [
              0.3333333333333333,
              "#9c179e"
             ],
             [
              0.4444444444444444,
              "#bd3786"
             ],
             [
              0.5555555555555556,
              "#d8576b"
             ],
             [
              0.6666666666666666,
              "#ed7953"
             ],
             [
              0.7777777777777778,
              "#fb9f3a"
             ],
             [
              0.8888888888888888,
              "#fdca26"
             ],
             [
              1,
              "#f0f921"
             ]
            ],
            "type": "heatmapgl"
           }
          ],
          "histogram": [
           {
            "marker": {
             "pattern": {
              "fillmode": "overlay",
              "size": 10,
              "solidity": 0.2
             }
            },
            "type": "histogram"
           }
          ],
          "histogram2d": [
           {
            "colorbar": {
             "outlinewidth": 0,
             "ticks": ""
            },
            "colorscale": [
             [
              0,
              "#0d0887"
             ],
             [
              0.1111111111111111,
              "#46039f"
             ],
             [
              0.2222222222222222,
              "#7201a8"
             ],
             [
              0.3333333333333333,
              "#9c179e"
             ],
             [
              0.4444444444444444,
              "#bd3786"
             ],
             [
              0.5555555555555556,
              "#d8576b"
             ],
             [
              0.6666666666666666,
              "#ed7953"
             ],
             [
              0.7777777777777778,
              "#fb9f3a"
             ],
             [
              0.8888888888888888,
              "#fdca26"
             ],
             [
              1,
              "#f0f921"
             ]
            ],
            "type": "histogram2d"
           }
          ],
          "histogram2dcontour": [
           {
            "colorbar": {
             "outlinewidth": 0,
             "ticks": ""
            },
            "colorscale": [
             [
              0,
              "#0d0887"
             ],
             [
              0.1111111111111111,
              "#46039f"
             ],
             [
              0.2222222222222222,
              "#7201a8"
             ],
             [
              0.3333333333333333,
              "#9c179e"
             ],
             [
              0.4444444444444444,
              "#bd3786"
             ],
             [
              0.5555555555555556,
              "#d8576b"
             ],
             [
              0.6666666666666666,
              "#ed7953"
             ],
             [
              0.7777777777777778,
              "#fb9f3a"
             ],
             [
              0.8888888888888888,
              "#fdca26"
             ],
             [
              1,
              "#f0f921"
             ]
            ],
            "type": "histogram2dcontour"
           }
          ],
          "mesh3d": [
           {
            "colorbar": {
             "outlinewidth": 0,
             "ticks": ""
            },
            "type": "mesh3d"
           }
          ],
          "parcoords": [
           {
            "line": {
             "colorbar": {
              "outlinewidth": 0,
              "ticks": ""
             }
            },
            "type": "parcoords"
           }
          ],
          "pie": [
           {
            "automargin": true,
            "type": "pie"
           }
          ],
          "scatter": [
           {
            "fillpattern": {
             "fillmode": "overlay",
             "size": 10,
             "solidity": 0.2
            },
            "type": "scatter"
           }
          ],
          "scatter3d": [
           {
            "line": {
             "colorbar": {
              "outlinewidth": 0,
              "ticks": ""
             }
            },
            "marker": {
             "colorbar": {
              "outlinewidth": 0,
              "ticks": ""
             }
            },
            "type": "scatter3d"
           }
          ],
          "scattercarpet": [
           {
            "marker": {
             "colorbar": {
              "outlinewidth": 0,
              "ticks": ""
             }
            },
            "type": "scattercarpet"
           }
          ],
          "scattergeo": [
           {
            "marker": {
             "colorbar": {
              "outlinewidth": 0,
              "ticks": ""
             }
            },
            "type": "scattergeo"
           }
          ],
          "scattergl": [
           {
            "marker": {
             "colorbar": {
              "outlinewidth": 0,
              "ticks": ""
             }
            },
            "type": "scattergl"
           }
          ],
          "scattermapbox": [
           {
            "marker": {
             "colorbar": {
              "outlinewidth": 0,
              "ticks": ""
             }
            },
            "type": "scattermapbox"
           }
          ],
          "scatterpolar": [
           {
            "marker": {
             "colorbar": {
              "outlinewidth": 0,
              "ticks": ""
             }
            },
            "type": "scatterpolar"
           }
          ],
          "scatterpolargl": [
           {
            "marker": {
             "colorbar": {
              "outlinewidth": 0,
              "ticks": ""
             }
            },
            "type": "scatterpolargl"
           }
          ],
          "scatterternary": [
           {
            "marker": {
             "colorbar": {
              "outlinewidth": 0,
              "ticks": ""
             }
            },
            "type": "scatterternary"
           }
          ],
          "surface": [
           {
            "colorbar": {
             "outlinewidth": 0,
             "ticks": ""
            },
            "colorscale": [
             [
              0,
              "#0d0887"
             ],
             [
              0.1111111111111111,
              "#46039f"
             ],
             [
              0.2222222222222222,
              "#7201a8"
             ],
             [
              0.3333333333333333,
              "#9c179e"
             ],
             [
              0.4444444444444444,
              "#bd3786"
             ],
             [
              0.5555555555555556,
              "#d8576b"
             ],
             [
              0.6666666666666666,
              "#ed7953"
             ],
             [
              0.7777777777777778,
              "#fb9f3a"
             ],
             [
              0.8888888888888888,
              "#fdca26"
             ],
             [
              1,
              "#f0f921"
             ]
            ],
            "type": "surface"
           }
          ],
          "table": [
           {
            "cells": {
             "fill": {
              "color": "#EBF0F8"
             },
             "line": {
              "color": "white"
             }
            },
            "header": {
             "fill": {
              "color": "#C8D4E3"
             },
             "line": {
              "color": "white"
             }
            },
            "type": "table"
           }
          ]
         },
         "layout": {
          "annotationdefaults": {
           "arrowcolor": "#2a3f5f",
           "arrowhead": 0,
           "arrowwidth": 1
          },
          "autotypenumbers": "strict",
          "coloraxis": {
           "colorbar": {
            "outlinewidth": 0,
            "ticks": ""
           }
          },
          "colorscale": {
           "diverging": [
            [
             0,
             "#8e0152"
            ],
            [
             0.1,
             "#c51b7d"
            ],
            [
             0.2,
             "#de77ae"
            ],
            [
             0.3,
             "#f1b6da"
            ],
            [
             0.4,
             "#fde0ef"
            ],
            [
             0.5,
             "#f7f7f7"
            ],
            [
             0.6,
             "#e6f5d0"
            ],
            [
             0.7,
             "#b8e186"
            ],
            [
             0.8,
             "#7fbc41"
            ],
            [
             0.9,
             "#4d9221"
            ],
            [
             1,
             "#276419"
            ]
           ],
           "sequential": [
            [
             0,
             "#0d0887"
            ],
            [
             0.1111111111111111,
             "#46039f"
            ],
            [
             0.2222222222222222,
             "#7201a8"
            ],
            [
             0.3333333333333333,
             "#9c179e"
            ],
            [
             0.4444444444444444,
             "#bd3786"
            ],
            [
             0.5555555555555556,
             "#d8576b"
            ],
            [
             0.6666666666666666,
             "#ed7953"
            ],
            [
             0.7777777777777778,
             "#fb9f3a"
            ],
            [
             0.8888888888888888,
             "#fdca26"
            ],
            [
             1,
             "#f0f921"
            ]
           ],
           "sequentialminus": [
            [
             0,
             "#0d0887"
            ],
            [
             0.1111111111111111,
             "#46039f"
            ],
            [
             0.2222222222222222,
             "#7201a8"
            ],
            [
             0.3333333333333333,
             "#9c179e"
            ],
            [
             0.4444444444444444,
             "#bd3786"
            ],
            [
             0.5555555555555556,
             "#d8576b"
            ],
            [
             0.6666666666666666,
             "#ed7953"
            ],
            [
             0.7777777777777778,
             "#fb9f3a"
            ],
            [
             0.8888888888888888,
             "#fdca26"
            ],
            [
             1,
             "#f0f921"
            ]
           ]
          },
          "colorway": [
           "#636efa",
           "#EF553B",
           "#00cc96",
           "#ab63fa",
           "#FFA15A",
           "#19d3f3",
           "#FF6692",
           "#B6E880",
           "#FF97FF",
           "#FECB52"
          ],
          "font": {
           "color": "#2a3f5f"
          },
          "geo": {
           "bgcolor": "white",
           "lakecolor": "white",
           "landcolor": "white",
           "showlakes": true,
           "showland": true,
           "subunitcolor": "#C8D4E3"
          },
          "hoverlabel": {
           "align": "left"
          },
          "hovermode": "closest",
          "mapbox": {
           "style": "light"
          },
          "paper_bgcolor": "white",
          "plot_bgcolor": "white",
          "polar": {
           "angularaxis": {
            "gridcolor": "#EBF0F8",
            "linecolor": "#EBF0F8",
            "ticks": ""
           },
           "bgcolor": "white",
           "radialaxis": {
            "gridcolor": "#EBF0F8",
            "linecolor": "#EBF0F8",
            "ticks": ""
           }
          },
          "scene": {
           "xaxis": {
            "backgroundcolor": "white",
            "gridcolor": "#DFE8F3",
            "gridwidth": 2,
            "linecolor": "#EBF0F8",
            "showbackground": true,
            "ticks": "",
            "zerolinecolor": "#EBF0F8"
           },
           "yaxis": {
            "backgroundcolor": "white",
            "gridcolor": "#DFE8F3",
            "gridwidth": 2,
            "linecolor": "#EBF0F8",
            "showbackground": true,
            "ticks": "",
            "zerolinecolor": "#EBF0F8"
           },
           "zaxis": {
            "backgroundcolor": "white",
            "gridcolor": "#DFE8F3",
            "gridwidth": 2,
            "linecolor": "#EBF0F8",
            "showbackground": true,
            "ticks": "",
            "zerolinecolor": "#EBF0F8"
           }
          },
          "shapedefaults": {
           "line": {
            "color": "#2a3f5f"
           }
          },
          "ternary": {
           "aaxis": {
            "gridcolor": "#DFE8F3",
            "linecolor": "#A2B1C6",
            "ticks": ""
           },
           "baxis": {
            "gridcolor": "#DFE8F3",
            "linecolor": "#A2B1C6",
            "ticks": ""
           },
           "bgcolor": "white",
           "caxis": {
            "gridcolor": "#DFE8F3",
            "linecolor": "#A2B1C6",
            "ticks": ""
           }
          },
          "title": {
           "x": 0.05
          },
          "xaxis": {
           "automargin": true,
           "gridcolor": "#EBF0F8",
           "linecolor": "#EBF0F8",
           "ticks": "",
           "title": {
            "standoff": 15
           },
           "zerolinecolor": "#EBF0F8",
           "zerolinewidth": 2
          },
          "yaxis": {
           "automargin": true,
           "gridcolor": "#EBF0F8",
           "linecolor": "#EBF0F8",
           "ticks": "",
           "title": {
            "standoff": 15
           },
           "zerolinecolor": "#EBF0F8",
           "zerolinewidth": 2
          }
         }
        },
        "title": {
         "text": "Mean 2m Temperature Forecast / 2021-06-21  + 7 days"
        },
        "width": 1600,
        "xaxis": {
         "range": [
          "2021-06-22T00:00:00",
          "2021-06-28T00:00:00"
         ],
         "title": {
          "text": "Date"
         }
        },
        "yaxis": {
         "range": [
          241.22970809936524,
          336.0123420715332
         ],
         "tickformat": ".0f",
         "title": {
          "text": "Temperature (K)"
         }
        }
       }
      },
      "text/html": [
       "<div>                            <div id=\"eaa1eb4b-d29a-4427-8b48-3f22bd31430f\" class=\"plotly-graph-div\" style=\"height:900px; width:1600px;\"></div>            <script type=\"text/javascript\">                require([\"plotly\"], function(Plotly) {                    window.PLOTLYENV=window.PLOTLYENV || {};                                    if (document.getElementById(\"eaa1eb4b-d29a-4427-8b48-3f22bd31430f\")) {                    Plotly.newPlot(                        \"eaa1eb4b-d29a-4427-8b48-3f22bd31430f\",                        [{\"legendgroup\":\"0.001_global_00000000001\",\"legendgrouptitle\":{\"font\":{\"color\":\"black\",\"family\":\"Arial Bold\",\"size\":14},\"text\":\"0.001_global_00000000001\"},\"line\":{\"color\":\"rgb(235, 235, 242)\",\"width\":1},\"mode\":\"lines\",\"name\":\"0.001_global_00000000001\",\"showlegend\":true,\"x\":[\"2021-06-22T00:00:00.000000000\",\"2021-06-23T00:00:00.000000000\",\"2021-06-24T00:00:00.000000000\",\"2021-06-25T00:00:00.000000000\",\"2021-06-26T00:00:00.000000000\",\"2021-06-27T00:00:00.000000000\",\"2021-06-28T00:00:00.000000000\"],\"y\":[289.3352,289.34985,289.36597,289.37195,289.3426,289.27228,289.22177],\"type\":\"scatter\"},{\"legendgroup\":\"1_global_00000000001\",\"legendgrouptitle\":{\"font\":{\"color\":\"black\",\"family\":\"Arial Bold\",\"size\":14},\"text\":\"1_global_00000000001\"},\"line\":{\"color\":\"rgb(230, 230, 243)\",\"width\":1},\"mode\":\"lines\",\"name\":\"1_global_00000000001\",\"showlegend\":true,\"x\":[\"2021-06-22T00:00:00.000000000\",\"2021-06-23T00:00:00.000000000\",\"2021-06-24T00:00:00.000000000\",\"2021-06-25T00:00:00.000000000\",\"2021-06-26T00:00:00.000000000\",\"2021-06-27T00:00:00.000000000\",\"2021-06-28T00:00:00.000000000\"],\"y\":[288.4677,287.2917,286.9017,286.75638,286.7355,286.7074,286.66064],\"type\":\"scatter\"},{\"legendgroup\":\"0.001_global_00000000010\",\"legendgrouptitle\":{\"font\":{\"color\":\"black\",\"family\":\"Arial Bold\",\"size\":14},\"text\":\"0.001_global_00000000010\"},\"line\":{\"color\":\"rgb(225, 225, 243)\",\"width\":1},\"mode\":\"lines\",\"name\":\"0.001_global_00000000010\",\"showlegend\":true,\"x\":[\"2021-06-22T00:00:00.000000000\",\"2021-06-23T00:00:00.000000000\",\"2021-06-24T00:00:00.000000000\",\"2021-06-25T00:00:00.000000000\",\"2021-06-26T00:00:00.000000000\",\"2021-06-27T00:00:00.000000000\",\"2021-06-28T00:00:00.000000000\"],\"y\":[289.33533,289.34918,289.3655,289.37192,289.34256,289.27133,289.22147],\"type\":\"scatter\"},{\"legendgroup\":\"1_global_00000000010\",\"legendgrouptitle\":{\"font\":{\"color\":\"black\",\"family\":\"Arial Bold\",\"size\":14},\"text\":\"1_global_00000000010\"},\"line\":{\"color\":\"rgb(220, 220, 243)\",\"width\":1},\"mode\":\"lines\",\"name\":\"1_global_00000000010\",\"showlegend\":true,\"x\":[\"2021-06-22T00:00:00.000000000\",\"2021-06-23T00:00:00.000000000\",\"2021-06-24T00:00:00.000000000\",\"2021-06-25T00:00:00.000000000\",\"2021-06-26T00:00:00.000000000\",\"2021-06-27T00:00:00.000000000\",\"2021-06-28T00:00:00.000000000\"],\"y\":[288.31488,287.7951,287.76907,287.7987,287.80832,287.7911,287.78467],\"type\":\"scatter\"},{\"legendgroup\":\"0.001_global_00000000100\",\"legendgrouptitle\":{\"font\":{\"color\":\"black\",\"family\":\"Arial Bold\",\"size\":14},\"text\":\"0.001_global_00000000100\"},\"line\":{\"color\":\"rgb(214, 214, 244)\",\"width\":1},\"mode\":\"lines\",\"name\":\"0.001_global_00000000100\",\"showlegend\":true,\"x\":[\"2021-06-22T00:00:00.000000000\",\"2021-06-23T00:00:00.000000000\",\"2021-06-24T00:00:00.000000000\",\"2021-06-25T00:00:00.000000000\",\"2021-06-26T00:00:00.000000000\",\"2021-06-27T00:00:00.000000000\",\"2021-06-28T00:00:00.000000000\"],\"y\":[289.3348,289.349,289.36502,289.3713,289.34274,289.27094,289.21976],\"type\":\"scatter\"},{\"legendgroup\":\"1_global_00000000100\",\"legendgrouptitle\":{\"font\":{\"color\":\"black\",\"family\":\"Arial Bold\",\"size\":14},\"text\":\"1_global_00000000100\"},\"line\":{\"color\":\"rgb(210, 210, 244)\",\"width\":1},\"mode\":\"lines\",\"name\":\"1_global_00000000100\",\"showlegend\":true,\"x\":[\"2021-06-22T00:00:00.000000000\",\"2021-06-23T00:00:00.000000000\",\"2021-06-24T00:00:00.000000000\",\"2021-06-25T00:00:00.000000000\",\"2021-06-26T00:00:00.000000000\",\"2021-06-27T00:00:00.000000000\",\"2021-06-28T00:00:00.000000000\"],\"y\":[287.91367,286.66736,286.50555,286.50034,286.52042,286.5754,286.6479],\"type\":\"scatter\"},{\"legendgroup\":\"0.001_global_00000001000\",\"legendgrouptitle\":{\"font\":{\"color\":\"black\",\"family\":\"Arial Bold\",\"size\":14},\"text\":\"0.001_global_00000001000\"},\"line\":{\"color\":\"rgb(204, 204, 244)\",\"width\":1},\"mode\":\"lines\",\"name\":\"0.001_global_00000001000\",\"showlegend\":true,\"x\":[\"2021-06-22T00:00:00.000000000\",\"2021-06-23T00:00:00.000000000\",\"2021-06-24T00:00:00.000000000\",\"2021-06-25T00:00:00.000000000\",\"2021-06-26T00:00:00.000000000\",\"2021-06-27T00:00:00.000000000\",\"2021-06-28T00:00:00.000000000\"],\"y\":[289.33487,289.34918,289.3655,289.3721,289.34317,289.2722,289.2236],\"type\":\"scatter\"},{\"legendgroup\":\"1_global_00000001000\",\"legendgrouptitle\":{\"font\":{\"color\":\"black\",\"family\":\"Arial Bold\",\"size\":14},\"text\":\"1_global_00000001000\"},\"line\":{\"color\":\"rgb(199, 199, 244)\",\"width\":1},\"mode\":\"lines\",\"name\":\"1_global_00000001000\",\"showlegend\":true,\"x\":[\"2021-06-22T00:00:00.000000000\",\"2021-06-23T00:00:00.000000000\",\"2021-06-24T00:00:00.000000000\",\"2021-06-25T00:00:00.000000000\",\"2021-06-26T00:00:00.000000000\",\"2021-06-27T00:00:00.000000000\",\"2021-06-28T00:00:00.000000000\"],\"y\":[289.16803,289.255,289.34753,289.47745,289.64435,289.792,289.96704],\"type\":\"scatter\"},{\"legendgroup\":\"0.001_global_00000010000\",\"legendgrouptitle\":{\"font\":{\"color\":\"black\",\"family\":\"Arial Bold\",\"size\":14},\"text\":\"0.001_global_00000010000\"},\"line\":{\"color\":\"rgb(194, 194, 245)\",\"width\":1},\"mode\":\"lines\",\"name\":\"0.001_global_00000010000\",\"showlegend\":true,\"x\":[\"2021-06-22T00:00:00.000000000\",\"2021-06-23T00:00:00.000000000\",\"2021-06-24T00:00:00.000000000\",\"2021-06-25T00:00:00.000000000\",\"2021-06-26T00:00:00.000000000\",\"2021-06-27T00:00:00.000000000\",\"2021-06-28T00:00:00.000000000\"],\"y\":[289.34995,289.39096,289.44305,289.50244,289.5638,289.64557,289.7601],\"type\":\"scatter\"},{\"legendgroup\":\"1_global_00000010000\",\"legendgrouptitle\":{\"font\":{\"color\":\"black\",\"family\":\"Arial Bold\",\"size\":14},\"text\":\"1_global_00000010000\"},\"line\":{\"color\":\"rgb(189, 189, 245)\",\"width\":1},\"mode\":\"lines\",\"name\":\"1_global_00000010000\",\"showlegend\":true,\"x\":[\"2021-06-22T00:00:00.000000000\",\"2021-06-23T00:00:00.000000000\",\"2021-06-24T00:00:00.000000000\",\"2021-06-25T00:00:00.000000000\",\"2021-06-26T00:00:00.000000000\",\"2021-06-27T00:00:00.000000000\",\"2021-06-28T00:00:00.000000000\"],\"y\":[293.48215,299.90445,306.3049,312.69595,319.07254,325.41623,331.70404],\"type\":\"scatter\"},{\"legendgroup\":\"0.001_global_00000100000\",\"legendgrouptitle\":{\"font\":{\"color\":\"black\",\"family\":\"Arial Bold\",\"size\":14},\"text\":\"0.001_global_00000100000\"},\"line\":{\"color\":\"rgb(184, 184, 245)\",\"width\":1},\"mode\":\"lines\",\"name\":\"0.001_global_00000100000\",\"showlegend\":true,\"x\":[\"2021-06-22T00:00:00.000000000\",\"2021-06-23T00:00:00.000000000\",\"2021-06-24T00:00:00.000000000\",\"2021-06-25T00:00:00.000000000\",\"2021-06-26T00:00:00.000000000\",\"2021-06-27T00:00:00.000000000\",\"2021-06-28T00:00:00.000000000\"],\"y\":[289.33557,289.35007,289.36633,289.3728,289.34354,289.27194,289.22278],\"type\":\"scatter\"},{\"legendgroup\":\"1_global_00000100000\",\"legendgrouptitle\":{\"font\":{\"color\":\"black\",\"family\":\"Arial Bold\",\"size\":14},\"text\":\"1_global_00000100000\"},\"line\":{\"color\":\"rgb(179, 179, 245)\",\"width\":1},\"mode\":\"lines\",\"name\":\"1_global_00000100000\",\"showlegend\":true,\"x\":[\"2021-06-22T00:00:00.000000000\",\"2021-06-23T00:00:00.000000000\",\"2021-06-24T00:00:00.000000000\",\"2021-06-25T00:00:00.000000000\",\"2021-06-26T00:00:00.000000000\",\"2021-06-27T00:00:00.000000000\",\"2021-06-28T00:00:00.000000000\"],\"y\":[289.0073,288.8325,288.98282,288.99136,288.7945,288.52087,288.2075],\"type\":\"scatter\"},{\"legendgroup\":\"0.001_global_00001000000\",\"legendgrouptitle\":{\"font\":{\"color\":\"black\",\"family\":\"Arial Bold\",\"size\":14},\"text\":\"0.001_global_00001000000\"},\"line\":{\"color\":\"rgb(174, 174, 246)\",\"width\":1},\"mode\":\"lines\",\"name\":\"0.001_global_00001000000\",\"showlegend\":true,\"x\":[\"2021-06-22T00:00:00.000000000\",\"2021-06-23T00:00:00.000000000\",\"2021-06-24T00:00:00.000000000\",\"2021-06-25T00:00:00.000000000\",\"2021-06-26T00:00:00.000000000\",\"2021-06-27T00:00:00.000000000\",\"2021-06-28T00:00:00.000000000\"],\"y\":[289.18323,289.08945,289.08136,289.08783,289.061,289.00494,288.9702],\"type\":\"scatter\"},{\"legendgroup\":\"1_global_00001000000\",\"legendgrouptitle\":{\"font\":{\"color\":\"black\",\"family\":\"Arial Bold\",\"size\":14},\"text\":\"1_global_00001000000\"},\"line\":{\"color\":\"rgb(168, 168, 246)\",\"width\":1},\"mode\":\"lines\",\"name\":\"1_global_00001000000\",\"showlegend\":true,\"x\":[\"2021-06-22T00:00:00.000000000\",\"2021-06-23T00:00:00.000000000\",\"2021-06-24T00:00:00.000000000\",\"2021-06-25T00:00:00.000000000\",\"2021-06-26T00:00:00.000000000\",\"2021-06-27T00:00:00.000000000\",\"2021-06-28T00:00:00.000000000\"],\"y\":[286.03818,281.72797,278.31012,274.9834,271.64746,268.26367,264.8946],\"type\":\"scatter\"},{\"legendgroup\":\"0.001_global_00010000000\",\"legendgrouptitle\":{\"font\":{\"color\":\"black\",\"family\":\"Arial Bold\",\"size\":14},\"text\":\"0.001_global_00010000000\"},\"line\":{\"color\":\"rgb(164, 164, 246)\",\"width\":1},\"mode\":\"lines\",\"name\":\"0.001_global_00010000000\",\"showlegend\":true,\"x\":[\"2021-06-22T00:00:00.000000000\",\"2021-06-23T00:00:00.000000000\",\"2021-06-24T00:00:00.000000000\",\"2021-06-25T00:00:00.000000000\",\"2021-06-26T00:00:00.000000000\",\"2021-06-27T00:00:00.000000000\",\"2021-06-28T00:00:00.000000000\"],\"y\":[289.33475,289.34946,289.36566,289.3719,289.34314,289.2717,289.22086],\"type\":\"scatter\"},{\"legendgroup\":\"1_global_00010000000\",\"legendgrouptitle\":{\"font\":{\"color\":\"black\",\"family\":\"Arial Bold\",\"size\":14},\"text\":\"1_global_00010000000\"},\"line\":{\"color\":\"rgb(158, 158, 246)\",\"width\":1},\"mode\":\"lines\",\"name\":\"1_global_00010000000\",\"showlegend\":true,\"x\":[\"2021-06-22T00:00:00.000000000\",\"2021-06-23T00:00:00.000000000\",\"2021-06-24T00:00:00.000000000\",\"2021-06-25T00:00:00.000000000\",\"2021-06-26T00:00:00.000000000\",\"2021-06-27T00:00:00.000000000\",\"2021-06-28T00:00:00.000000000\"],\"y\":[292.38785,293.2954,291.9,290.06564,288.33484,287.08084,286.3861],\"type\":\"scatter\"},{\"legendgroup\":\"0.001_global_00100000000\",\"legendgrouptitle\":{\"font\":{\"color\":\"black\",\"family\":\"Arial Bold\",\"size\":14},\"text\":\"0.001_global_00100000000\"},\"line\":{\"color\":\"rgb(153, 153, 247)\",\"width\":1},\"mode\":\"lines\",\"name\":\"0.001_global_00100000000\",\"showlegend\":true,\"x\":[\"2021-06-22T00:00:00.000000000\",\"2021-06-23T00:00:00.000000000\",\"2021-06-24T00:00:00.000000000\",\"2021-06-25T00:00:00.000000000\",\"2021-06-26T00:00:00.000000000\",\"2021-06-27T00:00:00.000000000\",\"2021-06-28T00:00:00.000000000\"],\"y\":[289.335,289.34872,289.36523,289.3712,289.34268,289.27057,289.22104],\"type\":\"scatter\"},{\"legendgroup\":\"1_global_00100000000\",\"legendgrouptitle\":{\"font\":{\"color\":\"black\",\"family\":\"Arial Bold\",\"size\":14},\"text\":\"1_global_00100000000\"},\"line\":{\"color\":\"rgb(148, 148, 247)\",\"width\":1},\"mode\":\"lines\",\"name\":\"1_global_00100000000\",\"showlegend\":true,\"x\":[\"2021-06-22T00:00:00.000000000\",\"2021-06-23T00:00:00.000000000\",\"2021-06-24T00:00:00.000000000\",\"2021-06-25T00:00:00.000000000\",\"2021-06-26T00:00:00.000000000\",\"2021-06-27T00:00:00.000000000\",\"2021-06-28T00:00:00.000000000\"],\"y\":[295.0796,295.5373,294.77222,294.48328,294.2689,294.10092,293.96384],\"type\":\"scatter\"},{\"legendgroup\":\"0.001_global_01000000000\",\"legendgrouptitle\":{\"font\":{\"color\":\"black\",\"family\":\"Arial Bold\",\"size\":14},\"text\":\"0.001_global_01000000000\"},\"line\":{\"color\":\"rgb(143, 143, 247)\",\"width\":1},\"mode\":\"lines\",\"name\":\"0.001_global_01000000000\",\"showlegend\":true,\"x\":[\"2021-06-22T00:00:00.000000000\",\"2021-06-23T00:00:00.000000000\",\"2021-06-24T00:00:00.000000000\",\"2021-06-25T00:00:00.000000000\",\"2021-06-26T00:00:00.000000000\",\"2021-06-27T00:00:00.000000000\",\"2021-06-28T00:00:00.000000000\"],\"y\":[289.33533,289.34995,289.36597,289.37244,289.34357,289.2721,289.22168],\"type\":\"scatter\"},{\"legendgroup\":\"1_global_01000000000\",\"legendgrouptitle\":{\"font\":{\"color\":\"black\",\"family\":\"Arial Bold\",\"size\":14},\"text\":\"1_global_01000000000\"},\"line\":{\"color\":\"rgb(138, 138, 247)\",\"width\":1},\"mode\":\"lines\",\"name\":\"1_global_01000000000\",\"showlegend\":true,\"x\":[\"2021-06-22T00:00:00.000000000\",\"2021-06-23T00:00:00.000000000\",\"2021-06-24T00:00:00.000000000\",\"2021-06-25T00:00:00.000000000\",\"2021-06-26T00:00:00.000000000\",\"2021-06-27T00:00:00.000000000\",\"2021-06-28T00:00:00.000000000\"],\"y\":[289.17157,289.10205,289.10458,289.11798,289.0994,289.03546,288.99884],\"type\":\"scatter\"},{\"legendgroup\":\"0.001_global_01111111111\",\"legendgrouptitle\":{\"font\":{\"color\":\"black\",\"family\":\"Arial Bold\",\"size\":14},\"text\":\"0.001_global_01111111111\"},\"line\":{\"color\":\"rgb(132, 132, 248)\",\"width\":1},\"mode\":\"lines\",\"name\":\"0.001_global_01111111111\",\"showlegend\":true,\"x\":[\"2021-06-22T00:00:00.000000000\",\"2021-06-23T00:00:00.000000000\",\"2021-06-24T00:00:00.000000000\",\"2021-06-25T00:00:00.000000000\",\"2021-06-26T00:00:00.000000000\",\"2021-06-27T00:00:00.000000000\",\"2021-06-28T00:00:00.000000000\"],\"y\":[289.1855,289.14487,289.17722,289.22302,289.29114,289.39273,289.57385],\"type\":\"scatter\"},{\"legendgroup\":\"1_global_01111111111\",\"legendgrouptitle\":{\"font\":{\"color\":\"black\",\"family\":\"Arial Bold\",\"size\":14},\"text\":\"1_global_01111111111\"},\"line\":{\"color\":\"rgb(128, 128, 248)\",\"width\":1},\"mode\":\"lines\",\"name\":\"1_global_01111111111\",\"showlegend\":true,\"x\":[\"2021-06-22T00:00:00.000000000\",\"2021-06-23T00:00:00.000000000\",\"2021-06-24T00:00:00.000000000\",\"2021-06-25T00:00:00.000000000\",\"2021-06-26T00:00:00.000000000\",\"2021-06-27T00:00:00.000000000\",\"2021-06-28T00:00:00.000000000\"],\"y\":[293.44815,299.7362,305.92545,312.01617,318.01,323.90707,329.70682],\"type\":\"scatter\"},{\"legendgroup\":\"0.001_global_10000000000\",\"legendgrouptitle\":{\"font\":{\"color\":\"black\",\"family\":\"Arial Bold\",\"size\":14},\"text\":\"0.001_global_10000000000\"},\"line\":{\"color\":\"rgb(122, 122, 248)\",\"width\":1},\"mode\":\"lines\",\"name\":\"0.001_global_10000000000\",\"showlegend\":true,\"x\":[\"2021-06-22T00:00:00.000000000\",\"2021-06-23T00:00:00.000000000\",\"2021-06-24T00:00:00.000000000\",\"2021-06-25T00:00:00.000000000\",\"2021-06-26T00:00:00.000000000\",\"2021-06-27T00:00:00.000000000\",\"2021-06-28T00:00:00.000000000\"],\"y\":[289.33502,289.34875,289.3654,289.37192,289.34317,289.27136,289.22076],\"type\":\"scatter\"},{\"legendgroup\":\"1_global_10000000000\",\"legendgrouptitle\":{\"font\":{\"color\":\"black\",\"family\":\"Arial Bold\",\"size\":14},\"text\":\"1_global_10000000000\"},\"line\":{\"color\":\"rgb(117, 117, 248)\",\"width\":1},\"mode\":\"lines\",\"name\":\"1_global_10000000000\",\"showlegend\":true,\"x\":[\"2021-06-22T00:00:00.000000000\",\"2021-06-23T00:00:00.000000000\",\"2021-06-24T00:00:00.000000000\",\"2021-06-25T00:00:00.000000000\",\"2021-06-26T00:00:00.000000000\",\"2021-06-27T00:00:00.000000000\",\"2021-06-28T00:00:00.000000000\"],\"y\":[289.1054,289.00635,289.00116,289.0112,288.99295,288.93134,288.89575],\"type\":\"scatter\"},{\"legendgroup\":\"0.001_global_10111111111\",\"legendgrouptitle\":{\"font\":{\"color\":\"black\",\"family\":\"Arial Bold\",\"size\":14},\"text\":\"0.001_global_10111111111\"},\"line\":{\"color\":\"rgb(112, 112, 249)\",\"width\":1},\"mode\":\"lines\",\"name\":\"0.001_global_10111111111\",\"showlegend\":true,\"x\":[\"2021-06-22T00:00:00.000000000\",\"2021-06-23T00:00:00.000000000\",\"2021-06-24T00:00:00.000000000\",\"2021-06-25T00:00:00.000000000\",\"2021-06-26T00:00:00.000000000\",\"2021-06-27T00:00:00.000000000\",\"2021-06-28T00:00:00.000000000\"],\"y\":[289.186,289.14673,289.17957,289.22504,289.29434,289.3941,289.57233],\"type\":\"scatter\"},{\"legendgroup\":\"1_global_10111111111\",\"legendgrouptitle\":{\"font\":{\"color\":\"black\",\"family\":\"Arial Bold\",\"size\":14},\"text\":\"1_global_10111111111\"},\"line\":{\"color\":\"rgb(107, 107, 249)\",\"width\":1},\"mode\":\"lines\",\"name\":\"1_global_10111111111\",\"showlegend\":true,\"x\":[\"2021-06-22T00:00:00.000000000\",\"2021-06-23T00:00:00.000000000\",\"2021-06-24T00:00:00.000000000\",\"2021-06-25T00:00:00.000000000\",\"2021-06-26T00:00:00.000000000\",\"2021-06-27T00:00:00.000000000\",\"2021-06-28T00:00:00.000000000\"],\"y\":[293.447,299.73355,305.9225,312.0133,318.0068,323.90375,329.70294],\"type\":\"scatter\"},{\"legendgroup\":\"0.001_global_11011111111\",\"legendgrouptitle\":{\"font\":{\"color\":\"black\",\"family\":\"Arial Bold\",\"size\":14},\"text\":\"0.001_global_11011111111\"},\"line\":{\"color\":\"rgb(101, 101, 249)\",\"width\":1},\"mode\":\"lines\",\"name\":\"0.001_global_11011111111\",\"showlegend\":true,\"x\":[\"2021-06-22T00:00:00.000000000\",\"2021-06-23T00:00:00.000000000\",\"2021-06-24T00:00:00.000000000\",\"2021-06-25T00:00:00.000000000\",\"2021-06-26T00:00:00.000000000\",\"2021-06-27T00:00:00.000000000\",\"2021-06-28T00:00:00.000000000\"],\"y\":[289.18982,289.1516,289.18494,289.23038,289.29962,289.3997,289.57977],\"type\":\"scatter\"},{\"legendgroup\":\"1_global_11011111111\",\"legendgrouptitle\":{\"font\":{\"color\":\"black\",\"family\":\"Arial Bold\",\"size\":14},\"text\":\"1_global_11011111111\"},\"line\":{\"color\":\"rgb(97, 97, 250)\",\"width\":1},\"mode\":\"lines\",\"name\":\"1_global_11011111111\",\"showlegend\":true,\"x\":[\"2021-06-22T00:00:00.000000000\",\"2021-06-23T00:00:00.000000000\",\"2021-06-24T00:00:00.000000000\",\"2021-06-25T00:00:00.000000000\",\"2021-06-26T00:00:00.000000000\",\"2021-06-27T00:00:00.000000000\",\"2021-06-28T00:00:00.000000000\"],\"y\":[293.41882,299.7091,305.90442,311.99756,317.99036,323.886,329.6825],\"type\":\"scatter\"},{\"legendgroup\":\"0.001_global_11101111111\",\"legendgrouptitle\":{\"font\":{\"color\":\"black\",\"family\":\"Arial Bold\",\"size\":14},\"text\":\"0.001_global_11101111111\"},\"line\":{\"color\":\"rgb(92, 92, 250)\",\"width\":1},\"mode\":\"lines\",\"name\":\"0.001_global_11101111111\",\"showlegend\":true,\"x\":[\"2021-06-22T00:00:00.000000000\",\"2021-06-23T00:00:00.000000000\",\"2021-06-24T00:00:00.000000000\",\"2021-06-25T00:00:00.000000000\",\"2021-06-26T00:00:00.000000000\",\"2021-06-27T00:00:00.000000000\",\"2021-06-28T00:00:00.000000000\"],\"y\":[289.18637,289.14703,289.1799,289.2243,289.29266,289.39322,289.57434],\"type\":\"scatter\"},{\"legendgroup\":\"1_global_11101111111\",\"legendgrouptitle\":{\"font\":{\"color\":\"black\",\"family\":\"Arial Bold\",\"size\":14},\"text\":\"1_global_11101111111\"},\"line\":{\"color\":\"rgb(86, 86, 250)\",\"width\":1},\"mode\":\"lines\",\"name\":\"1_global_11101111111\",\"showlegend\":true,\"x\":[\"2021-06-22T00:00:00.000000000\",\"2021-06-23T00:00:00.000000000\",\"2021-06-24T00:00:00.000000000\",\"2021-06-25T00:00:00.000000000\",\"2021-06-26T00:00:00.000000000\",\"2021-06-27T00:00:00.000000000\",\"2021-06-28T00:00:00.000000000\"],\"y\":[293.43997,299.71133,305.88965,311.97235,317.95706,323.8429,329.6317],\"type\":\"scatter\"},{\"legendgroup\":\"0.001_global_11110111111\",\"legendgrouptitle\":{\"font\":{\"color\":\"black\",\"family\":\"Arial Bold\",\"size\":14},\"text\":\"0.001_global_11110111111\"},\"line\":{\"color\":\"rgb(82, 82, 250)\",\"width\":1},\"mode\":\"lines\",\"name\":\"0.001_global_11110111111\",\"showlegend\":true,\"x\":[\"2021-06-22T00:00:00.000000000\",\"2021-06-23T00:00:00.000000000\",\"2021-06-24T00:00:00.000000000\",\"2021-06-25T00:00:00.000000000\",\"2021-06-26T00:00:00.000000000\",\"2021-06-27T00:00:00.000000000\",\"2021-06-28T00:00:00.000000000\"],\"y\":[289.34616,289.38617,289.4384,289.49738,289.5588,289.63858,289.75977],\"type\":\"scatter\"},{\"legendgroup\":\"1_global_11110111111\",\"legendgrouptitle\":{\"font\":{\"color\":\"black\",\"family\":\"Arial Bold\",\"size\":14},\"text\":\"1_global_11110111111\"},\"line\":{\"color\":\"rgb(76, 76, 251)\",\"width\":1},\"mode\":\"lines\",\"name\":\"1_global_11110111111\",\"showlegend\":true,\"x\":[\"2021-06-22T00:00:00.000000000\",\"2021-06-23T00:00:00.000000000\",\"2021-06-24T00:00:00.000000000\",\"2021-06-25T00:00:00.000000000\",\"2021-06-26T00:00:00.000000000\",\"2021-06-27T00:00:00.000000000\",\"2021-06-28T00:00:00.000000000\"],\"y\":[293.46243,299.80832,306.1409,312.47653,318.80542,325.10614,331.35602],\"type\":\"scatter\"},{\"legendgroup\":\"0.001_global_11111011111\",\"legendgrouptitle\":{\"font\":{\"color\":\"black\",\"family\":\"Arial Bold\",\"size\":14},\"text\":\"0.001_global_11111011111\"},\"line\":{\"color\":\"rgb(71, 71, 251)\",\"width\":1},\"mode\":\"lines\",\"name\":\"0.001_global_11111011111\",\"showlegend\":true,\"x\":[\"2021-06-22T00:00:00.000000000\",\"2021-06-23T00:00:00.000000000\",\"2021-06-24T00:00:00.000000000\",\"2021-06-25T00:00:00.000000000\",\"2021-06-26T00:00:00.000000000\",\"2021-06-27T00:00:00.000000000\",\"2021-06-28T00:00:00.000000000\"],\"y\":[289.18512,289.1448,289.17764,289.2241,289.29337,289.39484,289.57755],\"type\":\"scatter\"},{\"legendgroup\":\"1_global_11111011111\",\"legendgrouptitle\":{\"font\":{\"color\":\"black\",\"family\":\"Arial Bold\",\"size\":14},\"text\":\"1_global_11111011111\"},\"line\":{\"color\":\"rgb(65, 65, 251)\",\"width\":1},\"mode\":\"lines\",\"name\":\"1_global_11111011111\",\"showlegend\":true,\"x\":[\"2021-06-22T00:00:00.000000000\",\"2021-06-23T00:00:00.000000000\",\"2021-06-24T00:00:00.000000000\",\"2021-06-25T00:00:00.000000000\",\"2021-06-26T00:00:00.000000000\",\"2021-06-27T00:00:00.000000000\",\"2021-06-28T00:00:00.000000000\"],\"y\":[293.45877,299.77008,305.97638,312.07736,318.08105,323.98758,329.79626],\"type\":\"scatter\"},{\"legendgroup\":\"0.001_global_11111101111\",\"legendgrouptitle\":{\"font\":{\"color\":\"black\",\"family\":\"Arial Bold\",\"size\":14},\"text\":\"0.001_global_11111101111\"},\"line\":{\"color\":\"rgb(61, 61, 251)\",\"width\":1},\"mode\":\"lines\",\"name\":\"0.001_global_11111101111\",\"showlegend\":true,\"x\":[\"2021-06-22T00:00:00.000000000\",\"2021-06-23T00:00:00.000000000\",\"2021-06-24T00:00:00.000000000\",\"2021-06-25T00:00:00.000000000\",\"2021-06-26T00:00:00.000000000\",\"2021-06-27T00:00:00.000000000\",\"2021-06-28T00:00:00.000000000\"],\"y\":[289.17764,289.08118,289.07303,289.07922,289.0521,288.99445,288.95886],\"type\":\"scatter\"},{\"legendgroup\":\"1_global_11111101111\",\"legendgrouptitle\":{\"font\":{\"color\":\"black\",\"family\":\"Arial Bold\",\"size\":14},\"text\":\"1_global_11111101111\"},\"line\":{\"color\":\"rgb(55, 55, 252)\",\"width\":1},\"mode\":\"lines\",\"name\":\"1_global_11111101111\",\"showlegend\":true,\"x\":[\"2021-06-22T00:00:00.000000000\",\"2021-06-23T00:00:00.000000000\",\"2021-06-24T00:00:00.000000000\",\"2021-06-25T00:00:00.000000000\",\"2021-06-26T00:00:00.000000000\",\"2021-06-27T00:00:00.000000000\",\"2021-06-28T00:00:00.000000000\"],\"y\":[281.8952,270.85666,262.59055,256.69128,252.26353,248.68216,245.53801],\"type\":\"scatter\"},{\"legendgroup\":\"0.001_global_11111110111\",\"legendgrouptitle\":{\"font\":{\"color\":\"black\",\"family\":\"Arial Bold\",\"size\":14},\"text\":\"0.001_global_11111110111\"},\"line\":{\"color\":\"rgb(50, 50, 252)\",\"width\":1},\"mode\":\"lines\",\"name\":\"0.001_global_11111110111\",\"showlegend\":true,\"x\":[\"2021-06-22T00:00:00.000000000\",\"2021-06-23T00:00:00.000000000\",\"2021-06-24T00:00:00.000000000\",\"2021-06-25T00:00:00.000000000\",\"2021-06-26T00:00:00.000000000\",\"2021-06-27T00:00:00.000000000\",\"2021-06-28T00:00:00.000000000\"],\"y\":[289.1858,289.1456,289.1774,289.223,289.29315,289.39478,289.57895],\"type\":\"scatter\"},{\"legendgroup\":\"1_global_11111110111\",\"legendgrouptitle\":{\"font\":{\"color\":\"black\",\"family\":\"Arial Bold\",\"size\":14},\"text\":\"1_global_11111110111\"},\"line\":{\"color\":\"rgb(46, 46, 252)\",\"width\":1},\"mode\":\"lines\",\"name\":\"1_global_11111110111\",\"showlegend\":true,\"x\":[\"2021-06-22T00:00:00.000000000\",\"2021-06-23T00:00:00.000000000\",\"2021-06-24T00:00:00.000000000\",\"2021-06-25T00:00:00.000000000\",\"2021-06-26T00:00:00.000000000\",\"2021-06-27T00:00:00.000000000\",\"2021-06-28T00:00:00.000000000\"],\"y\":[293.44644,299.73148,305.91602,312.00302,317.99374,323.88696,329.683],\"type\":\"scatter\"},{\"legendgroup\":\"0.001_global_11111111011\",\"legendgrouptitle\":{\"font\":{\"color\":\"black\",\"family\":\"Arial Bold\",\"size\":14},\"text\":\"0.001_global_11111111011\"},\"line\":{\"color\":\"rgb(40, 40, 252)\",\"width\":1},\"mode\":\"lines\",\"name\":\"0.001_global_11111111011\",\"showlegend\":true,\"x\":[\"2021-06-22T00:00:00.000000000\",\"2021-06-23T00:00:00.000000000\",\"2021-06-24T00:00:00.000000000\",\"2021-06-25T00:00:00.000000000\",\"2021-06-26T00:00:00.000000000\",\"2021-06-27T00:00:00.000000000\",\"2021-06-28T00:00:00.000000000\"],\"y\":[289.1861,289.14682,289.17957,289.22638,289.29565,289.3944,289.57822],\"type\":\"scatter\"},{\"legendgroup\":\"1_global_11111111011\",\"legendgrouptitle\":{\"font\":{\"color\":\"black\",\"family\":\"Arial Bold\",\"size\":14},\"text\":\"1_global_11111111011\"},\"line\":{\"color\":\"rgb(35, 35, 253)\",\"width\":1},\"mode\":\"lines\",\"name\":\"1_global_11111111011\",\"showlegend\":true,\"x\":[\"2021-06-22T00:00:00.000000000\",\"2021-06-23T00:00:00.000000000\",\"2021-06-24T00:00:00.000000000\",\"2021-06-25T00:00:00.000000000\",\"2021-06-26T00:00:00.000000000\",\"2021-06-27T00:00:00.000000000\",\"2021-06-28T00:00:00.000000000\"],\"y\":[293.44614,299.73196,305.92172,312.0153,318.0125,323.9125,329.71423],\"type\":\"scatter\"},{\"legendgroup\":\"0.001_global_11111111101\",\"legendgrouptitle\":{\"font\":{\"color\":\"black\",\"family\":\"Arial Bold\",\"size\":14},\"text\":\"0.001_global_11111111101\"},\"line\":{\"color\":\"rgb(30, 30, 253)\",\"width\":1},\"mode\":\"lines\",\"name\":\"0.001_global_11111111101\",\"showlegend\":true,\"x\":[\"2021-06-22T00:00:00.000000000\",\"2021-06-23T00:00:00.000000000\",\"2021-06-24T00:00:00.000000000\",\"2021-06-25T00:00:00.000000000\",\"2021-06-26T00:00:00.000000000\",\"2021-06-27T00:00:00.000000000\",\"2021-06-28T00:00:00.000000000\"],\"y\":[289.18567,289.14548,289.17822,289.22443,289.29202,289.39175,289.57492],\"type\":\"scatter\"},{\"legendgroup\":\"1_global_11111111101\",\"legendgrouptitle\":{\"font\":{\"color\":\"black\",\"family\":\"Arial Bold\",\"size\":14},\"text\":\"1_global_11111111101\"},\"line\":{\"color\":\"rgb(25, 25, 253)\",\"width\":1},\"mode\":\"lines\",\"name\":\"1_global_11111111101\",\"showlegend\":true,\"x\":[\"2021-06-22T00:00:00.000000000\",\"2021-06-23T00:00:00.000000000\",\"2021-06-24T00:00:00.000000000\",\"2021-06-25T00:00:00.000000000\",\"2021-06-26T00:00:00.000000000\",\"2021-06-27T00:00:00.000000000\",\"2021-06-28T00:00:00.000000000\"],\"y\":[293.447,299.73456,305.9249,312.01706,318.01328,323.91217,329.71216],\"type\":\"scatter\"},{\"legendgroup\":\"0.001_global_11111111110\",\"legendgrouptitle\":{\"font\":{\"color\":\"black\",\"family\":\"Arial Bold\",\"size\":14},\"text\":\"0.001_global_11111111110\"},\"line\":{\"color\":\"rgb(19, 19, 253)\",\"width\":1},\"mode\":\"lines\",\"name\":\"0.001_global_11111111110\",\"showlegend\":true,\"x\":[\"2021-06-22T00:00:00.000000000\",\"2021-06-23T00:00:00.000000000\",\"2021-06-24T00:00:00.000000000\",\"2021-06-25T00:00:00.000000000\",\"2021-06-26T00:00:00.000000000\",\"2021-06-27T00:00:00.000000000\",\"2021-06-28T00:00:00.000000000\"],\"y\":[289.18594,289.14688,289.17883,289.22476,289.29285,289.39304,289.57315],\"type\":\"scatter\"},{\"legendgroup\":\"1_global_11111111110\",\"legendgrouptitle\":{\"font\":{\"color\":\"black\",\"family\":\"Arial Bold\",\"size\":14},\"text\":\"1_global_11111111110\"},\"line\":{\"color\":\"rgb(15, 15, 254)\",\"width\":1},\"mode\":\"lines\",\"name\":\"1_global_11111111110\",\"showlegend\":true,\"x\":[\"2021-06-22T00:00:00.000000000\",\"2021-06-23T00:00:00.000000000\",\"2021-06-24T00:00:00.000000000\",\"2021-06-25T00:00:00.000000000\",\"2021-06-26T00:00:00.000000000\",\"2021-06-27T00:00:00.000000000\",\"2021-06-28T00:00:00.000000000\"],\"y\":[293.45538,299.7546,305.9566,312.06,318.06467,323.97015,329.77582],\"type\":\"scatter\"},{\"legendgroup\":\"0.001_global_11111111111\",\"legendgrouptitle\":{\"font\":{\"color\":\"black\",\"family\":\"Arial Bold\",\"size\":14},\"text\":\"0.001_global_11111111111\"},\"line\":{\"color\":\"rgb(9, 9, 254)\",\"width\":1},\"mode\":\"lines\",\"name\":\"0.001_global_11111111111\",\"showlegend\":true,\"x\":[\"2021-06-22T00:00:00.000000000\",\"2021-06-23T00:00:00.000000000\",\"2021-06-24T00:00:00.000000000\",\"2021-06-25T00:00:00.000000000\",\"2021-06-26T00:00:00.000000000\",\"2021-06-27T00:00:00.000000000\",\"2021-06-28T00:00:00.000000000\"],\"y\":[289.1861,289.14664,289.1794,289.2245,289.29346,289.39453,289.5752],\"type\":\"scatter\"},{\"legendgroup\":\"1_global_11111111111\",\"legendgrouptitle\":{\"font\":{\"color\":\"black\",\"family\":\"Arial Bold\",\"size\":14},\"text\":\"1_global_11111111111\"},\"line\":{\"color\":\"rgb(4, 4, 254)\",\"width\":1},\"mode\":\"lines\",\"name\":\"1_global_11111111111\",\"showlegend\":true,\"x\":[\"2021-06-22T00:00:00.000000000\",\"2021-06-23T00:00:00.000000000\",\"2021-06-24T00:00:00.000000000\",\"2021-06-25T00:00:00.000000000\",\"2021-06-26T00:00:00.000000000\",\"2021-06-27T00:00:00.000000000\",\"2021-06-28T00:00:00.000000000\"],\"y\":[293.44656,299.73355,305.9229,312.01367,318.008,323.90454,329.70364],\"type\":\"scatter\"},{\"legendgroup\":\"0.001_Antarctic_00100000000\",\"legendgrouptitle\":{\"font\":{\"color\":\"black\",\"family\":\"Arial Bold\",\"size\":14},\"text\":\"0.001_Antarctic_00100000000\"},\"line\":{\"color\":\"rgb(225, 238, 225)\",\"width\":1},\"mode\":\"lines\",\"name\":\"0.001_Antarctic_00100000000\",\"showlegend\":true,\"x\":[\"2021-06-22T00:00:00.000000000\",\"2021-06-23T00:00:00.000000000\",\"2021-06-24T00:00:00.000000000\",\"2021-06-25T00:00:00.000000000\",\"2021-06-26T00:00:00.000000000\",\"2021-06-27T00:00:00.000000000\",\"2021-06-28T00:00:00.000000000\"],\"y\":[289.3351,289.3496,289.36597,289.372,289.34283,289.2725,289.22302],\"type\":\"scatter\"},{\"legendgroup\":\"1_Antarctic_00100000000\",\"legendgrouptitle\":{\"font\":{\"color\":\"black\",\"family\":\"Arial Bold\",\"size\":14},\"text\":\"1_Antarctic_00100000000\"},\"line\":{\"color\":\"rgb(216, 233, 216)\",\"width\":1},\"mode\":\"lines\",\"name\":\"1_Antarctic_00100000000\",\"showlegend\":true,\"x\":[\"2021-06-22T00:00:00.000000000\",\"2021-06-23T00:00:00.000000000\",\"2021-06-24T00:00:00.000000000\",\"2021-06-25T00:00:00.000000000\",\"2021-06-26T00:00:00.000000000\",\"2021-06-27T00:00:00.000000000\",\"2021-06-28T00:00:00.000000000\"],\"y\":[289.68073,289.78354,289.7715,289.742,289.672,289.62848,289.6026],\"type\":\"scatter\"},{\"legendgroup\":\"0.001_Arctic_00100000000\",\"legendgrouptitle\":{\"font\":{\"color\":\"black\",\"family\":\"Arial Bold\",\"size\":14},\"text\":\"0.001_Arctic_00100000000\"},\"line\":{\"color\":\"rgb(206, 229, 206)\",\"width\":1},\"mode\":\"lines\",\"name\":\"0.001_Arctic_00100000000\",\"showlegend\":true,\"x\":[\"2021-06-22T00:00:00.000000000\",\"2021-06-23T00:00:00.000000000\",\"2021-06-24T00:00:00.000000000\",\"2021-06-25T00:00:00.000000000\",\"2021-06-26T00:00:00.000000000\",\"2021-06-27T00:00:00.000000000\",\"2021-06-28T00:00:00.000000000\"],\"y\":[289.33502,289.34955,289.3658,289.3721,289.34268,289.2709,289.21954],\"type\":\"scatter\"},{\"legendgroup\":\"1_Arctic_00100000000\",\"legendgrouptitle\":{\"font\":{\"color\":\"black\",\"family\":\"Arial Bold\",\"size\":14},\"text\":\"1_Arctic_00100000000\"},\"line\":{\"color\":\"rgb(197, 224, 197)\",\"width\":1},\"mode\":\"lines\",\"name\":\"1_Arctic_00100000000\",\"showlegend\":true,\"x\":[\"2021-06-22T00:00:00.000000000\",\"2021-06-23T00:00:00.000000000\",\"2021-06-24T00:00:00.000000000\",\"2021-06-25T00:00:00.000000000\",\"2021-06-26T00:00:00.000000000\",\"2021-06-27T00:00:00.000000000\",\"2021-06-28T00:00:00.000000000\"],\"y\":[289.7475,289.80347,289.78143,289.75543,289.68384,289.59106,289.56097],\"type\":\"scatter\"},{\"legendgroup\":\"0.001_AusNZ_00100000000\",\"legendgrouptitle\":{\"font\":{\"color\":\"black\",\"family\":\"Arial Bold\",\"size\":14},\"text\":\"0.001_AusNZ_00100000000\"},\"line\":{\"color\":\"rgb(187, 219, 187)\",\"width\":1},\"mode\":\"lines\",\"name\":\"0.001_AusNZ_00100000000\",\"showlegend\":true,\"x\":[\"2021-06-22T00:00:00.000000000\",\"2021-06-23T00:00:00.000000000\",\"2021-06-24T00:00:00.000000000\",\"2021-06-25T00:00:00.000000000\",\"2021-06-26T00:00:00.000000000\",\"2021-06-27T00:00:00.000000000\",\"2021-06-28T00:00:00.000000000\"],\"y\":[289.33505,289.34955,289.36584,289.37186,289.34286,289.2712,289.22025],\"type\":\"scatter\"},{\"legendgroup\":\"1_AusNZ_00100000000\",\"legendgrouptitle\":{\"font\":{\"color\":\"black\",\"family\":\"Arial Bold\",\"size\":14},\"text\":\"1_AusNZ_00100000000\"},\"line\":{\"color\":\"rgb(178, 215, 178)\",\"width\":1},\"mode\":\"lines\",\"name\":\"1_AusNZ_00100000000\",\"showlegend\":true,\"x\":[\"2021-06-22T00:00:00.000000000\",\"2021-06-23T00:00:00.000000000\",\"2021-06-24T00:00:00.000000000\",\"2021-06-25T00:00:00.000000000\",\"2021-06-26T00:00:00.000000000\",\"2021-06-27T00:00:00.000000000\",\"2021-06-28T00:00:00.000000000\"],\"y\":[289.4917,289.54398,289.53915,289.53348,289.50037,289.42905,289.40216],\"type\":\"scatter\"},{\"legendgroup\":\"0.001_East\",\"legendgrouptitle\":{\"font\":{\"color\":\"black\",\"family\":\"Arial Bold\",\"size\":14},\"text\":\"0.001_East\"},\"line\":{\"color\":\"rgb(169, 210, 169)\",\"width\":1},\"mode\":\"lines\",\"name\":\"0.001_East\",\"showlegend\":true,\"x\":[\"2021-06-22T00:00:00.000000000\",\"2021-06-23T00:00:00.000000000\",\"2021-06-24T00:00:00.000000000\",\"2021-06-25T00:00:00.000000000\",\"2021-06-26T00:00:00.000000000\",\"2021-06-27T00:00:00.000000000\",\"2021-06-28T00:00:00.000000000\"],\"y\":[289.33505,289.3498,289.3655,289.37234,289.34378,289.27133,289.22067],\"type\":\"scatter\"},{\"legendgroup\":\"1_East\",\"legendgrouptitle\":{\"font\":{\"color\":\"black\",\"family\":\"Arial Bold\",\"size\":14},\"text\":\"1_East\"},\"line\":{\"color\":\"rgb(160, 206, 160)\",\"width\":1},\"mode\":\"lines\",\"name\":\"1_East\",\"showlegend\":true,\"x\":[\"2021-06-22T00:00:00.000000000\",\"2021-06-23T00:00:00.000000000\",\"2021-06-24T00:00:00.000000000\",\"2021-06-25T00:00:00.000000000\",\"2021-06-26T00:00:00.000000000\",\"2021-06-27T00:00:00.000000000\",\"2021-06-28T00:00:00.000000000\"],\"y\":[289.42963,289.4788,289.48737,289.4753,289.42166,289.32626,289.25095],\"type\":\"scatter\"},{\"legendgroup\":\"0.001_Europe_00100000000\",\"legendgrouptitle\":{\"font\":{\"color\":\"black\",\"family\":\"Arial Bold\",\"size\":14},\"text\":\"0.001_Europe_00100000000\"},\"line\":{\"color\":\"rgb(149, 201, 149)\",\"width\":1},\"mode\":\"lines\",\"name\":\"0.001_Europe_00100000000\",\"showlegend\":true,\"x\":[\"2021-06-22T00:00:00.000000000\",\"2021-06-23T00:00:00.000000000\",\"2021-06-24T00:00:00.000000000\",\"2021-06-25T00:00:00.000000000\",\"2021-06-26T00:00:00.000000000\",\"2021-06-27T00:00:00.000000000\",\"2021-06-28T00:00:00.000000000\"],\"y\":[289.33487,289.34897,289.36505,289.37164,289.34247,289.27078,289.21973],\"type\":\"scatter\"},{\"legendgroup\":\"1_Europe_00100000000\",\"legendgrouptitle\":{\"font\":{\"color\":\"black\",\"family\":\"Arial Bold\",\"size\":14},\"text\":\"1_Europe_00100000000\"},\"line\":{\"color\":\"rgb(140, 196, 140)\",\"width\":1},\"mode\":\"lines\",\"name\":\"1_Europe_00100000000\",\"showlegend\":true,\"x\":[\"2021-06-22T00:00:00.000000000\",\"2021-06-23T00:00:00.000000000\",\"2021-06-24T00:00:00.000000000\",\"2021-06-25T00:00:00.000000000\",\"2021-06-26T00:00:00.000000000\",\"2021-06-27T00:00:00.000000000\",\"2021-06-28T00:00:00.000000000\"],\"y\":[289.5191,289.5517,289.54007,289.52863,289.4964,289.42084,289.37064],\"type\":\"scatter\"},{\"legendgroup\":\"0.001_North\",\"legendgrouptitle\":{\"font\":{\"color\":\"black\",\"family\":\"Arial Bold\",\"size\":14},\"text\":\"0.001_North\"},\"line\":{\"color\":\"rgb(131, 192, 131)\",\"width\":1},\"mode\":\"lines\",\"name\":\"0.001_North\",\"showlegend\":true,\"x\":[\"2021-06-22T00:00:00.000000000\",\"2021-06-23T00:00:00.000000000\",\"2021-06-24T00:00:00.000000000\",\"2021-06-25T00:00:00.000000000\",\"2021-06-26T00:00:00.000000000\",\"2021-06-27T00:00:00.000000000\",\"2021-06-28T00:00:00.000000000\"],\"y\":[289.3351,289.34894,289.36502,289.37143,289.34222,289.27072,289.22012],\"type\":\"scatter\"},{\"legendgroup\":\"1_North\",\"legendgrouptitle\":{\"font\":{\"color\":\"black\",\"family\":\"Arial Bold\",\"size\":14},\"text\":\"1_North\"},\"line\":{\"color\":\"rgb(122, 187, 122)\",\"width\":1},\"mode\":\"lines\",\"name\":\"1_North\",\"showlegend\":true,\"x\":[\"2021-06-22T00:00:00.000000000\",\"2021-06-23T00:00:00.000000000\",\"2021-06-24T00:00:00.000000000\",\"2021-06-25T00:00:00.000000000\",\"2021-06-26T00:00:00.000000000\",\"2021-06-27T00:00:00.000000000\",\"2021-06-28T00:00:00.000000000\"],\"y\":[289.46896,289.4402,289.43915,289.42563,289.39096,289.32993,289.28558],\"type\":\"scatter\"},{\"legendgroup\":\"0.001_North\",\"line\":{\"color\":\"rgb(112, 182, 112)\",\"width\":1},\"mode\":\"lines\",\"name\":\"0.001_North\",\"showlegend\":true,\"x\":[\"2021-06-22T00:00:00.000000000\",\"2021-06-23T00:00:00.000000000\",\"2021-06-24T00:00:00.000000000\",\"2021-06-25T00:00:00.000000000\",\"2021-06-26T00:00:00.000000000\",\"2021-06-27T00:00:00.000000000\",\"2021-06-28T00:00:00.000000000\"],\"y\":[289.335,289.34973,289.3656,289.37192,289.34222,289.2708,289.21933],\"type\":\"scatter\"},{\"legendgroup\":\"1_North\",\"line\":{\"color\":\"rgb(103, 178, 103)\",\"width\":1},\"mode\":\"lines\",\"name\":\"1_North\",\"showlegend\":true,\"x\":[\"2021-06-22T00:00:00.000000000\",\"2021-06-23T00:00:00.000000000\",\"2021-06-24T00:00:00.000000000\",\"2021-06-25T00:00:00.000000000\",\"2021-06-26T00:00:00.000000000\",\"2021-06-27T00:00:00.000000000\",\"2021-06-28T00:00:00.000000000\"],\"y\":[289.54135,289.57858,289.57022,289.57867,289.54858,289.4674,289.40747],\"type\":\"scatter\"},{\"legendgroup\":\"0.001_North\",\"line\":{\"color\":\"rgb(93, 173, 93)\",\"width\":1},\"mode\":\"lines\",\"name\":\"0.001_North\",\"showlegend\":true,\"x\":[\"2021-06-22T00:00:00.000000000\",\"2021-06-23T00:00:00.000000000\",\"2021-06-24T00:00:00.000000000\",\"2021-06-25T00:00:00.000000000\",\"2021-06-26T00:00:00.000000000\",\"2021-06-27T00:00:00.000000000\",\"2021-06-28T00:00:00.000000000\"],\"y\":[289.33527,289.34964,289.3659,289.37234,289.34387,289.27283,289.2217],\"type\":\"scatter\"},{\"legendgroup\":\"1_North\",\"line\":{\"color\":\"rgb(84, 169, 84)\",\"width\":1},\"mode\":\"lines\",\"name\":\"1_North\",\"showlegend\":true,\"x\":[\"2021-06-22T00:00:00.000000000\",\"2021-06-23T00:00:00.000000000\",\"2021-06-24T00:00:00.000000000\",\"2021-06-25T00:00:00.000000000\",\"2021-06-26T00:00:00.000000000\",\"2021-06-27T00:00:00.000000000\",\"2021-06-28T00:00:00.000000000\"],\"y\":[289.73773,289.81546,289.81006,289.7958,289.74557,289.65735,289.5953],\"type\":\"scatter\"},{\"legendgroup\":\"0.001_Northern\",\"legendgrouptitle\":{\"font\":{\"color\":\"black\",\"family\":\"Arial Bold\",\"size\":14},\"text\":\"0.001_Northern\"},\"line\":{\"color\":\"rgb(74, 164, 74)\",\"width\":1},\"mode\":\"lines\",\"name\":\"0.001_Northern\",\"showlegend\":true,\"x\":[\"2021-06-22T00:00:00.000000000\",\"2021-06-23T00:00:00.000000000\",\"2021-06-24T00:00:00.000000000\",\"2021-06-25T00:00:00.000000000\",\"2021-06-26T00:00:00.000000000\",\"2021-06-27T00:00:00.000000000\",\"2021-06-28T00:00:00.000000000\"],\"y\":[289.3354,289.34995,289.3666,289.3723,289.34274,289.2718,289.2203],\"type\":\"scatter\"},{\"legendgroup\":\"1_Northern\",\"legendgrouptitle\":{\"font\":{\"color\":\"black\",\"family\":\"Arial Bold\",\"size\":14},\"text\":\"1_Northern\"},\"line\":{\"color\":\"rgb(65, 160, 65)\",\"width\":1},\"mode\":\"lines\",\"name\":\"1_Northern\",\"showlegend\":true,\"x\":[\"2021-06-22T00:00:00.000000000\",\"2021-06-23T00:00:00.000000000\",\"2021-06-24T00:00:00.000000000\",\"2021-06-25T00:00:00.000000000\",\"2021-06-26T00:00:00.000000000\",\"2021-06-27T00:00:00.000000000\",\"2021-06-28T00:00:00.000000000\"],\"y\":[291.1252,291.26,291.08658,290.9907,290.87766,290.7565,290.64673],\"type\":\"scatter\"},{\"legendgroup\":\"0.001_Southern\",\"legendgrouptitle\":{\"font\":{\"color\":\"black\",\"family\":\"Arial Bold\",\"size\":14},\"text\":\"0.001_Southern\"},\"line\":{\"color\":\"rgb(56, 155, 56)\",\"width\":1},\"mode\":\"lines\",\"name\":\"0.001_Southern\",\"showlegend\":true,\"x\":[\"2021-06-22T00:00:00.000000000\",\"2021-06-23T00:00:00.000000000\",\"2021-06-24T00:00:00.000000000\",\"2021-06-25T00:00:00.000000000\",\"2021-06-26T00:00:00.000000000\",\"2021-06-27T00:00:00.000000000\",\"2021-06-28T00:00:00.000000000\"],\"y\":[289.33508,289.34982,289.36603,289.3721,289.34314,289.27142,289.22113],\"type\":\"scatter\"},{\"legendgroup\":\"1_Southern\",\"legendgrouptitle\":{\"font\":{\"color\":\"black\",\"family\":\"Arial Bold\",\"size\":14},\"text\":\"1_Southern\"},\"line\":{\"color\":\"rgb(46, 150, 46)\",\"width\":1},\"mode\":\"lines\",\"name\":\"1_Southern\",\"showlegend\":true,\"x\":[\"2021-06-22T00:00:00.000000000\",\"2021-06-23T00:00:00.000000000\",\"2021-06-24T00:00:00.000000000\",\"2021-06-25T00:00:00.000000000\",\"2021-06-26T00:00:00.000000000\",\"2021-06-27T00:00:00.000000000\",\"2021-06-28T00:00:00.000000000\"],\"y\":[291.25546,291.55682,291.4114,291.3435,291.26068,291.11032,290.96744],\"type\":\"scatter\"},{\"legendgroup\":\"0.001_Tropics_00100000000\",\"legendgrouptitle\":{\"font\":{\"color\":\"black\",\"family\":\"Arial Bold\",\"size\":14},\"text\":\"0.001_Tropics_00100000000\"},\"line\":{\"color\":\"rgb(36, 146, 36)\",\"width\":1},\"mode\":\"lines\",\"name\":\"0.001_Tropics_00100000000\",\"showlegend\":true,\"x\":[\"2021-06-22T00:00:00.000000000\",\"2021-06-23T00:00:00.000000000\",\"2021-06-24T00:00:00.000000000\",\"2021-06-25T00:00:00.000000000\",\"2021-06-26T00:00:00.000000000\",\"2021-06-27T00:00:00.000000000\",\"2021-06-28T00:00:00.000000000\"],\"y\":[289.3348,289.34952,289.3664,289.3721,289.343,289.2717,289.22055],\"type\":\"scatter\"},{\"legendgroup\":\"1_Tropics_00100000000\",\"legendgrouptitle\":{\"font\":{\"color\":\"black\",\"family\":\"Arial Bold\",\"size\":14},\"text\":\"1_Tropics_00100000000\"},\"line\":{\"color\":\"rgb(27, 141, 27)\",\"width\":1},\"mode\":\"lines\",\"name\":\"1_Tropics_00100000000\",\"showlegend\":true,\"x\":[\"2021-06-22T00:00:00.000000000\",\"2021-06-23T00:00:00.000000000\",\"2021-06-24T00:00:00.000000000\",\"2021-06-25T00:00:00.000000000\",\"2021-06-26T00:00:00.000000000\",\"2021-06-27T00:00:00.000000000\",\"2021-06-28T00:00:00.000000000\"],\"y\":[291.19376,291.1556,290.8407,290.79288,290.75674,290.69568,290.6663],\"type\":\"scatter\"},{\"legendgroup\":\"0.001_global_00100000000\",\"line\":{\"color\":\"rgb(18, 137, 18)\",\"width\":1},\"mode\":\"lines\",\"name\":\"0.001_global_00100000000\",\"showlegend\":true,\"x\":[\"2021-06-22T00:00:00.000000000\",\"2021-06-23T00:00:00.000000000\",\"2021-06-24T00:00:00.000000000\",\"2021-06-25T00:00:00.000000000\",\"2021-06-26T00:00:00.000000000\",\"2021-06-27T00:00:00.000000000\",\"2021-06-28T00:00:00.000000000\"],\"y\":[289.335,289.34872,289.36523,289.3712,289.34268,289.27057,289.22104],\"type\":\"scatter\"},{\"legendgroup\":\"1_global_00100000000\",\"line\":{\"color\":\"rgb(9, 132, 9)\",\"width\":1},\"mode\":\"lines\",\"name\":\"1_global_00100000000\",\"showlegend\":true,\"x\":[\"2021-06-22T00:00:00.000000000\",\"2021-06-23T00:00:00.000000000\",\"2021-06-24T00:00:00.000000000\",\"2021-06-25T00:00:00.000000000\",\"2021-06-26T00:00:00.000000000\",\"2021-06-27T00:00:00.000000000\",\"2021-06-28T00:00:00.000000000\"],\"y\":[295.0796,295.5373,294.77222,294.48328,294.2689,294.10092,293.96384],\"type\":\"scatter\"},{\"legendgroup\":\"0.001_Antarctic_11011111111\",\"legendgrouptitle\":{\"font\":{\"color\":\"black\",\"family\":\"Arial Bold\",\"size\":14},\"text\":\"0.001_Antarctic_11011111111\"},\"line\":{\"color\":\"rgb(243, 230, 230)\",\"width\":1},\"mode\":\"lines\",\"name\":\"0.001_Antarctic_11011111111\",\"showlegend\":true,\"x\":[\"2021-06-22T00:00:00.000000000\",\"2021-06-23T00:00:00.000000000\",\"2021-06-24T00:00:00.000000000\",\"2021-06-25T00:00:00.000000000\",\"2021-06-26T00:00:00.000000000\",\"2021-06-27T00:00:00.000000000\",\"2021-06-28T00:00:00.000000000\"],\"y\":[289.33038,289.35495,289.38995,289.3978,289.34973,289.27176,289.2353],\"type\":\"scatter\"},{\"legendgroup\":\"1_Antarctic_11011111111\",\"legendgrouptitle\":{\"font\":{\"color\":\"black\",\"family\":\"Arial Bold\",\"size\":14},\"text\":\"1_Antarctic_11011111111\"},\"line\":{\"color\":\"rgb(243, 221, 221)\",\"width\":1},\"mode\":\"lines\",\"name\":\"1_Antarctic_11011111111\",\"showlegend\":true,\"x\":[\"2021-06-22T00:00:00.000000000\",\"2021-06-23T00:00:00.000000000\",\"2021-06-24T00:00:00.000000000\",\"2021-06-25T00:00:00.000000000\",\"2021-06-26T00:00:00.000000000\",\"2021-06-27T00:00:00.000000000\",\"2021-06-28T00:00:00.000000000\"],\"y\":[289.39978,289.4834,289.5846,289.6643,289.7442,289.83792,289.92154],\"type\":\"scatter\"},{\"legendgroup\":\"0.001_Arctic_11011111111\",\"legendgrouptitle\":{\"font\":{\"color\":\"black\",\"family\":\"Arial Bold\",\"size\":14},\"text\":\"0.001_Arctic_11011111111\"},\"line\":{\"color\":\"rgb(244, 211, 211)\",\"width\":1},\"mode\":\"lines\",\"name\":\"0.001_Arctic_11011111111\",\"showlegend\":true,\"x\":[\"2021-06-22T00:00:00.000000000\",\"2021-06-23T00:00:00.000000000\",\"2021-06-24T00:00:00.000000000\",\"2021-06-25T00:00:00.000000000\",\"2021-06-26T00:00:00.000000000\",\"2021-06-27T00:00:00.000000000\",\"2021-06-28T00:00:00.000000000\"],\"y\":[289.31665,289.31613,289.33292,289.33704,289.30978,289.2619,289.22772],\"type\":\"scatter\"},{\"legendgroup\":\"1_Arctic_11011111111\",\"legendgrouptitle\":{\"font\":{\"color\":\"black\",\"family\":\"Arial Bold\",\"size\":14},\"text\":\"1_Arctic_11011111111\"},\"line\":{\"color\":\"rgb(244, 202, 202)\",\"width\":1},\"mode\":\"lines\",\"name\":\"1_Arctic_11011111111\",\"showlegend\":true,\"x\":[\"2021-06-22T00:00:00.000000000\",\"2021-06-23T00:00:00.000000000\",\"2021-06-24T00:00:00.000000000\",\"2021-06-25T00:00:00.000000000\",\"2021-06-26T00:00:00.000000000\",\"2021-06-27T00:00:00.000000000\",\"2021-06-28T00:00:00.000000000\"],\"y\":[289.47806,289.78397,290.06314,290.3076,290.51422,290.67828,290.87344],\"type\":\"scatter\"},{\"legendgroup\":\"0.001_AusNZ_11011111111\",\"legendgrouptitle\":{\"font\":{\"color\":\"black\",\"family\":\"Arial Bold\",\"size\":14},\"text\":\"0.001_AusNZ_11011111111\"},\"line\":{\"color\":\"rgb(245, 191, 191)\",\"width\":1},\"mode\":\"lines\",\"name\":\"0.001_AusNZ_11011111111\",\"showlegend\":true,\"x\":[\"2021-06-22T00:00:00.000000000\",\"2021-06-23T00:00:00.000000000\",\"2021-06-24T00:00:00.000000000\",\"2021-06-25T00:00:00.000000000\",\"2021-06-26T00:00:00.000000000\",\"2021-06-27T00:00:00.000000000\",\"2021-06-28T00:00:00.000000000\"],\"y\":[289.32474,289.32477,289.3459,289.35938,289.3295,289.2695,289.22833],\"type\":\"scatter\"},{\"legendgroup\":\"1_AusNZ_11011111111\",\"legendgrouptitle\":{\"font\":{\"color\":\"black\",\"family\":\"Arial Bold\",\"size\":14},\"text\":\"1_AusNZ_11011111111\"},\"line\":{\"color\":\"rgb(245, 182, 182)\",\"width\":1},\"mode\":\"lines\",\"name\":\"1_AusNZ_11011111111\",\"showlegend\":true,\"x\":[\"2021-06-22T00:00:00.000000000\",\"2021-06-23T00:00:00.000000000\",\"2021-06-24T00:00:00.000000000\",\"2021-06-25T00:00:00.000000000\",\"2021-06-26T00:00:00.000000000\",\"2021-06-27T00:00:00.000000000\",\"2021-06-28T00:00:00.000000000\"],\"y\":[289.45456,289.77176,290.09677,290.42944,290.72458,290.968,291.2214],\"type\":\"scatter\"},{\"legendgroup\":\"0.001_East\",\"line\":{\"color\":\"rgb(246, 173, 173)\",\"width\":1},\"mode\":\"lines\",\"name\":\"0.001_East\",\"showlegend\":true,\"x\":[\"2021-06-22T00:00:00.000000000\",\"2021-06-23T00:00:00.000000000\",\"2021-06-24T00:00:00.000000000\",\"2021-06-25T00:00:00.000000000\",\"2021-06-26T00:00:00.000000000\",\"2021-06-27T00:00:00.000000000\",\"2021-06-28T00:00:00.000000000\"],\"y\":[289.3347,289.3355,289.34518,289.34988,289.32666,289.25732,289.20874],\"type\":\"scatter\"},{\"legendgroup\":\"1_East\",\"line\":{\"color\":\"rgb(246, 163, 163)\",\"width\":1},\"mode\":\"lines\",\"name\":\"1_East\",\"showlegend\":true,\"x\":[\"2021-06-22T00:00:00.000000000\",\"2021-06-23T00:00:00.000000000\",\"2021-06-24T00:00:00.000000000\",\"2021-06-25T00:00:00.000000000\",\"2021-06-26T00:00:00.000000000\",\"2021-06-27T00:00:00.000000000\",\"2021-06-28T00:00:00.000000000\"],\"y\":[289.32166,289.47086,289.66147,289.85147,289.98486,290.0775,290.20438],\"type\":\"scatter\"},{\"legendgroup\":\"0.001_Europe_11011111111\",\"legendgrouptitle\":{\"font\":{\"color\":\"black\",\"family\":\"Arial Bold\",\"size\":14},\"text\":\"0.001_Europe_11011111111\"},\"line\":{\"color\":\"rgb(247, 153, 153)\",\"width\":1},\"mode\":\"lines\",\"name\":\"0.001_Europe_11011111111\",\"showlegend\":true,\"x\":[\"2021-06-22T00:00:00.000000000\",\"2021-06-23T00:00:00.000000000\",\"2021-06-24T00:00:00.000000000\",\"2021-06-25T00:00:00.000000000\",\"2021-06-26T00:00:00.000000000\",\"2021-06-27T00:00:00.000000000\",\"2021-06-28T00:00:00.000000000\"],\"y\":[289.33337,289.34555,289.35416,289.35287,289.31647,289.25613,289.21664],\"type\":\"scatter\"},{\"legendgroup\":\"1_Europe_11011111111\",\"legendgrouptitle\":{\"font\":{\"color\":\"black\",\"family\":\"Arial Bold\",\"size\":14},\"text\":\"1_Europe_11011111111\"},\"line\":{\"color\":\"rgb(247, 143, 143)\",\"width\":1},\"mode\":\"lines\",\"name\":\"1_Europe_11011111111\",\"showlegend\":true,\"x\":[\"2021-06-22T00:00:00.000000000\",\"2021-06-23T00:00:00.000000000\",\"2021-06-24T00:00:00.000000000\",\"2021-06-25T00:00:00.000000000\",\"2021-06-26T00:00:00.000000000\",\"2021-06-27T00:00:00.000000000\",\"2021-06-28T00:00:00.000000000\"],\"y\":[289.45087,289.64648,289.84583,290.02155,290.16345,290.27026,290.4204],\"type\":\"scatter\"},{\"legendgroup\":\"0.001_North\",\"line\":{\"color\":\"rgb(248, 134, 134)\",\"width\":1},\"mode\":\"lines\",\"name\":\"0.001_North\",\"showlegend\":true,\"x\":[\"2021-06-22T00:00:00.000000000\",\"2021-06-23T00:00:00.000000000\",\"2021-06-24T00:00:00.000000000\",\"2021-06-25T00:00:00.000000000\",\"2021-06-26T00:00:00.000000000\",\"2021-06-27T00:00:00.000000000\",\"2021-06-28T00:00:00.000000000\"],\"y\":[289.3283,289.33298,289.34106,289.3483,289.31885,289.23526,289.18372],\"type\":\"scatter\"},{\"legendgroup\":\"1_North\",\"line\":{\"color\":\"rgb(248, 125, 125)\",\"width\":1},\"mode\":\"lines\",\"name\":\"1_North\",\"showlegend\":true,\"x\":[\"2021-06-22T00:00:00.000000000\",\"2021-06-23T00:00:00.000000000\",\"2021-06-24T00:00:00.000000000\",\"2021-06-25T00:00:00.000000000\",\"2021-06-26T00:00:00.000000000\",\"2021-06-27T00:00:00.000000000\",\"2021-06-28T00:00:00.000000000\"],\"y\":[289.50632,289.6763,289.858,290.0417,290.16595,290.251,290.3721],\"type\":\"scatter\"},{\"legendgroup\":\"0.001_North\",\"line\":{\"color\":\"rgb(249, 114, 114)\",\"width\":1},\"mode\":\"lines\",\"name\":\"0.001_North\",\"showlegend\":true,\"x\":[\"2021-06-22T00:00:00.000000000\",\"2021-06-23T00:00:00.000000000\",\"2021-06-24T00:00:00.000000000\",\"2021-06-25T00:00:00.000000000\",\"2021-06-26T00:00:00.000000000\",\"2021-06-27T00:00:00.000000000\",\"2021-06-28T00:00:00.000000000\"],\"y\":[289.3259,289.33832,289.34995,289.3542,289.3231,289.24973,289.20193],\"type\":\"scatter\"},{\"legendgroup\":\"1_North\",\"line\":{\"color\":\"rgb(249, 105, 105)\",\"width\":1},\"mode\":\"lines\",\"name\":\"1_North\",\"showlegend\":true,\"x\":[\"2021-06-22T00:00:00.000000000\",\"2021-06-23T00:00:00.000000000\",\"2021-06-24T00:00:00.000000000\",\"2021-06-25T00:00:00.000000000\",\"2021-06-26T00:00:00.000000000\",\"2021-06-27T00:00:00.000000000\",\"2021-06-28T00:00:00.000000000\"],\"y\":[289.47205,289.69183,289.88898,290.07285,290.22784,290.34875,290.49063],\"type\":\"scatter\"},{\"legendgroup\":\"0.001_North\",\"line\":{\"color\":\"rgb(250, 95, 95)\",\"width\":1},\"mode\":\"lines\",\"name\":\"0.001_North\",\"showlegend\":true,\"x\":[\"2021-06-22T00:00:00.000000000\",\"2021-06-23T00:00:00.000000000\",\"2021-06-24T00:00:00.000000000\",\"2021-06-25T00:00:00.000000000\",\"2021-06-26T00:00:00.000000000\",\"2021-06-27T00:00:00.000000000\",\"2021-06-28T00:00:00.000000000\"],\"y\":[289.31964,289.3152,289.3077,289.29846,289.2516,289.15894,289.10965],\"type\":\"scatter\"},{\"legendgroup\":\"1_North\",\"line\":{\"color\":\"rgb(250, 86, 86)\",\"width\":1},\"mode\":\"lines\",\"name\":\"1_North\",\"showlegend\":true,\"x\":[\"2021-06-22T00:00:00.000000000\",\"2021-06-23T00:00:00.000000000\",\"2021-06-24T00:00:00.000000000\",\"2021-06-25T00:00:00.000000000\",\"2021-06-26T00:00:00.000000000\",\"2021-06-27T00:00:00.000000000\",\"2021-06-28T00:00:00.000000000\"],\"y\":[289.55597,289.93332,290.3238,290.73163,291.09885,291.41748,291.74762],\"type\":\"scatter\"},{\"legendgroup\":\"0.001_Northern\",\"line\":{\"color\":\"rgb(251, 76, 76)\",\"width\":1},\"mode\":\"lines\",\"name\":\"0.001_Northern\",\"showlegend\":true,\"x\":[\"2021-06-22T00:00:00.000000000\",\"2021-06-23T00:00:00.000000000\",\"2021-06-24T00:00:00.000000000\",\"2021-06-25T00:00:00.000000000\",\"2021-06-26T00:00:00.000000000\",\"2021-06-27T00:00:00.000000000\",\"2021-06-28T00:00:00.000000000\"],\"y\":[289.26553,289.22668,289.17752,289.143,289.081,288.9668,288.90836],\"type\":\"scatter\"},{\"legendgroup\":\"1_Northern\",\"line\":{\"color\":\"rgb(251, 66, 66)\",\"width\":1},\"mode\":\"lines\",\"name\":\"1_Northern\",\"showlegend\":true,\"x\":[\"2021-06-22T00:00:00.000000000\",\"2021-06-23T00:00:00.000000000\",\"2021-06-24T00:00:00.000000000\",\"2021-06-25T00:00:00.000000000\",\"2021-06-26T00:00:00.000000000\",\"2021-06-27T00:00:00.000000000\",\"2021-06-28T00:00:00.000000000\"],\"y\":[290.45944,292.36346,294.28723,296.19232,298.03467,299.81927,301.6231],\"type\":\"scatter\"},{\"legendgroup\":\"0.001_Southern\",\"line\":{\"color\":\"rgb(252, 57, 57)\",\"width\":1},\"mode\":\"lines\",\"name\":\"0.001_Southern\",\"showlegend\":true,\"x\":[\"2021-06-22T00:00:00.000000000\",\"2021-06-23T00:00:00.000000000\",\"2021-06-24T00:00:00.000000000\",\"2021-06-25T00:00:00.000000000\",\"2021-06-26T00:00:00.000000000\",\"2021-06-27T00:00:00.000000000\",\"2021-06-28T00:00:00.000000000\"],\"y\":[289.29477,289.35898,289.46497,289.52942,289.5117,289.4968,289.5131],\"type\":\"scatter\"},{\"legendgroup\":\"1_Southern\",\"line\":{\"color\":\"rgb(252, 47, 47)\",\"width\":1},\"mode\":\"lines\",\"name\":\"1_Southern\",\"showlegend\":true,\"x\":[\"2021-06-22T00:00:00.000000000\",\"2021-06-23T00:00:00.000000000\",\"2021-06-24T00:00:00.000000000\",\"2021-06-25T00:00:00.000000000\",\"2021-06-26T00:00:00.000000000\",\"2021-06-27T00:00:00.000000000\",\"2021-06-28T00:00:00.000000000\"],\"y\":[290.55777,292.4418,294.277,296.06137,297.79065,299.4584,301.06073],\"type\":\"scatter\"},{\"legendgroup\":\"0.001_Tropics_11011111111\",\"legendgrouptitle\":{\"font\":{\"color\":\"black\",\"family\":\"Arial Bold\",\"size\":14},\"text\":\"0.001_Tropics_11011111111\"},\"line\":{\"color\":\"rgb(253, 37, 37)\",\"width\":1},\"mode\":\"lines\",\"name\":\"0.001_Tropics_11011111111\",\"showlegend\":true,\"x\":[\"2021-06-22T00:00:00.000000000\",\"2021-06-23T00:00:00.000000000\",\"2021-06-24T00:00:00.000000000\",\"2021-06-25T00:00:00.000000000\",\"2021-06-26T00:00:00.000000000\",\"2021-06-27T00:00:00.000000000\",\"2021-06-28T00:00:00.000000000\"],\"y\":[289.27475,289.2755,289.32092,289.36667,289.42627,289.47397,289.52612],\"type\":\"scatter\"},{\"legendgroup\":\"1_Tropics_11011111111\",\"legendgrouptitle\":{\"font\":{\"color\":\"black\",\"family\":\"Arial Bold\",\"size\":14},\"text\":\"1_Tropics_11011111111\"},\"line\":{\"color\":\"rgb(253, 28, 28)\",\"width\":1},\"mode\":\"lines\",\"name\":\"1_Tropics_11011111111\",\"showlegend\":true,\"x\":[\"2021-06-22T00:00:00.000000000\",\"2021-06-23T00:00:00.000000000\",\"2021-06-24T00:00:00.000000000\",\"2021-06-25T00:00:00.000000000\",\"2021-06-26T00:00:00.000000000\",\"2021-06-27T00:00:00.000000000\",\"2021-06-28T00:00:00.000000000\"],\"y\":[291.06183,293.7309,296.42877,299.13776,301.787,304.39105,306.95645],\"type\":\"scatter\"},{\"legendgroup\":\"0.001_global_11011111111\",\"line\":{\"color\":\"rgb(254, 18, 18)\",\"width\":1},\"mode\":\"lines\",\"name\":\"0.001_global_11011111111\",\"showlegend\":true,\"x\":[\"2021-06-22T00:00:00.000000000\",\"2021-06-23T00:00:00.000000000\",\"2021-06-24T00:00:00.000000000\",\"2021-06-25T00:00:00.000000000\",\"2021-06-26T00:00:00.000000000\",\"2021-06-27T00:00:00.000000000\",\"2021-06-28T00:00:00.000000000\"],\"y\":[289.18982,289.1516,289.18494,289.23038,289.29962,289.3997,289.57977],\"type\":\"scatter\"},{\"legendgroup\":\"1_global_11011111111\",\"line\":{\"color\":\"rgb(254, 9, 9)\",\"width\":1},\"mode\":\"lines\",\"name\":\"1_global_11011111111\",\"showlegend\":true,\"x\":[\"2021-06-22T00:00:00.000000000\",\"2021-06-23T00:00:00.000000000\",\"2021-06-24T00:00:00.000000000\",\"2021-06-25T00:00:00.000000000\",\"2021-06-26T00:00:00.000000000\",\"2021-06-27T00:00:00.000000000\",\"2021-06-28T00:00:00.000000000\"],\"y\":[293.41882,299.7091,305.90442,311.99756,317.99036,323.886,329.6825],\"type\":\"scatter\"},{\"legendgroup\":\"Ensemble Members\",\"legendgrouptitle\":{\"font\":{\"color\":\"black\",\"family\":\"Arial Bold\",\"size\":14},\"text\":\"Ensemble Members\"},\"line\":{\"color\":\"grey\",\"width\":0.5},\"mode\":\"lines\",\"name\":\"Ensemble Members\",\"opacity\":0.5,\"showlegend\":true,\"x\":[\"2021-06-22T00:00:00\",\"2021-06-23T00:00:00\",\"2021-06-24T00:00:00\",\"2021-06-25T00:00:00\",\"2021-06-26T00:00:00\",\"2021-06-27T00:00:00\",\"2021-06-28T00:00:00\"],\"y\":[289.3408169020958,289.229704779972,289.2360617330832,289.2856577171876,289.31812749076073,289.2874254595531,289.282983236754],\"type\":\"scatter\"},{\"legendgroup\":\"Ensemble Members\",\"line\":{\"color\":\"grey\",\"width\":0.5},\"mode\":\"lines\",\"opacity\":0.5,\"showlegend\":false,\"x\":[\"2021-06-22T00:00:00\",\"2021-06-23T00:00:00\",\"2021-06-24T00:00:00\",\"2021-06-25T00:00:00\",\"2021-06-26T00:00:00\",\"2021-06-27T00:00:00\",\"2021-06-28T00:00:00\"],\"y\":[289.3222677914276,289.19564629134305,289.2206119730672,289.250187577044,289.3231405405639,289.3392333840449,289.2813190061905],\"type\":\"scatter\"},{\"legendgroup\":\"Ensemble Members\",\"line\":{\"color\":\"grey\",\"width\":0.5},\"mode\":\"lines\",\"opacity\":0.5,\"showlegend\":false,\"x\":[\"2021-06-22T00:00:00\",\"2021-06-23T00:00:00\",\"2021-06-24T00:00:00\",\"2021-06-25T00:00:00\",\"2021-06-26T00:00:00\",\"2021-06-27T00:00:00\",\"2021-06-28T00:00:00\"],\"y\":[289.3225455146436,289.2205697763405,289.2612416129822,289.2800073411046,289.32317207428713,289.3732740021562,289.3741864945102],\"type\":\"scatter\"},{\"legendgroup\":\"Ensemble Members\",\"line\":{\"color\":\"grey\",\"width\":0.5},\"mode\":\"lines\",\"opacity\":0.5,\"showlegend\":false,\"x\":[\"2021-06-22T00:00:00\",\"2021-06-23T00:00:00\",\"2021-06-24T00:00:00\",\"2021-06-25T00:00:00\",\"2021-06-26T00:00:00\",\"2021-06-27T00:00:00\",\"2021-06-28T00:00:00\"],\"y\":[289.3450989404606,289.24355347262826,289.269212057016,289.32940960414794,289.3652179891987,289.3614700595664,289.3509217161997],\"type\":\"scatter\"},{\"legendgroup\":\"Ensemble Members\",\"line\":{\"color\":\"grey\",\"width\":0.5},\"mode\":\"lines\",\"opacity\":0.5,\"showlegend\":false,\"x\":[\"2021-06-22T00:00:00\",\"2021-06-23T00:00:00\",\"2021-06-24T00:00:00\",\"2021-06-25T00:00:00\",\"2021-06-26T00:00:00\",\"2021-06-27T00:00:00\",\"2021-06-28T00:00:00\"],\"y\":[289.34646788726457,289.2263048021261,289.2419995205721,289.30546215155306,289.33937878874855,289.320442565399,289.30315904570915],\"type\":\"scatter\"},{\"legendgroup\":\"Ensemble Members\",\"line\":{\"color\":\"grey\",\"width\":0.5},\"mode\":\"lines\",\"opacity\":0.5,\"showlegend\":false,\"x\":[\"2021-06-22T00:00:00\",\"2021-06-23T00:00:00\",\"2021-06-24T00:00:00\",\"2021-06-25T00:00:00\",\"2021-06-26T00:00:00\",\"2021-06-27T00:00:00\",\"2021-06-28T00:00:00\"],\"y\":[289.3584167942402,289.22746679887547,289.2214448310758,289.26099924337467,289.30170301859727,289.31817063877776,289.30867893398175],\"type\":\"scatter\"},{\"legendgroup\":\"Ensemble Members\",\"line\":{\"color\":\"grey\",\"width\":0.5},\"mode\":\"lines\",\"opacity\":0.5,\"showlegend\":false,\"x\":[\"2021-06-22T00:00:00\",\"2021-06-23T00:00:00\",\"2021-06-24T00:00:00\",\"2021-06-25T00:00:00\",\"2021-06-26T00:00:00\",\"2021-06-27T00:00:00\",\"2021-06-28T00:00:00\"],\"y\":[289.33020020086684,289.19858009036267,289.20907069962936,289.2614964052596,289.3398758699251,289.3470858527907,289.282149699979],\"type\":\"scatter\"},{\"legendgroup\":\"Ensemble Members\",\"line\":{\"color\":\"grey\",\"width\":0.5},\"mode\":\"lines\",\"opacity\":0.5,\"showlegend\":false,\"x\":[\"2021-06-22T00:00:00\",\"2021-06-23T00:00:00\",\"2021-06-24T00:00:00\",\"2021-06-25T00:00:00\",\"2021-06-26T00:00:00\",\"2021-06-27T00:00:00\",\"2021-06-28T00:00:00\"],\"y\":[289.33930727034357,289.2206209758742,289.26446533399303,289.314696593273,289.31634430392364,289.2864973740371,289.2603660793958],\"type\":\"scatter\"},{\"legendgroup\":\"Ensemble Members\",\"line\":{\"color\":\"grey\",\"width\":0.5},\"mode\":\"lines\",\"opacity\":0.5,\"showlegend\":false,\"x\":[\"2021-06-22T00:00:00\",\"2021-06-23T00:00:00\",\"2021-06-24T00:00:00\",\"2021-06-25T00:00:00\",\"2021-06-26T00:00:00\",\"2021-06-27T00:00:00\",\"2021-06-28T00:00:00\"],\"y\":[289.3317600440653,289.2054682003863,289.2163066487459,289.2790520800986,289.3422575882586,289.34829942863456,289.3427594277833],\"type\":\"scatter\"},{\"legendgroup\":\"Ensemble Members\",\"line\":{\"color\":\"grey\",\"width\":0.5},\"mode\":\"lines\",\"opacity\":0.5,\"showlegend\":false,\"x\":[\"2021-06-22T00:00:00\",\"2021-06-23T00:00:00\",\"2021-06-24T00:00:00\",\"2021-06-25T00:00:00\",\"2021-06-26T00:00:00\",\"2021-06-27T00:00:00\",\"2021-06-28T00:00:00\"],\"y\":[289.31627954406275,289.2103197594422,289.2478169392522,289.28228777582945,289.32144616763753,289.30556333072127,289.2537338027767],\"type\":\"scatter\"},{\"legendgroup\":\"Ensemble Members\",\"line\":{\"color\":\"grey\",\"width\":0.5},\"mode\":\"lines\",\"opacity\":0.5,\"showlegend\":false,\"x\":[\"2021-06-22T00:00:00\",\"2021-06-23T00:00:00\",\"2021-06-24T00:00:00\",\"2021-06-25T00:00:00\",\"2021-06-26T00:00:00\",\"2021-06-27T00:00:00\",\"2021-06-28T00:00:00\"],\"y\":[289.3322969683356,289.20396482663915,289.24620657705105,289.30135189495485,289.35236112156286,289.34951509518805,289.3017153768474],\"type\":\"scatter\"},{\"legendgroup\":\"Ensemble Members\",\"line\":{\"color\":\"grey\",\"width\":0.5},\"mode\":\"lines\",\"opacity\":0.5,\"showlegend\":false,\"x\":[\"2021-06-22T00:00:00\",\"2021-06-23T00:00:00\",\"2021-06-24T00:00:00\",\"2021-06-25T00:00:00\",\"2021-06-26T00:00:00\",\"2021-06-27T00:00:00\",\"2021-06-28T00:00:00\"],\"y\":[289.3317165951864,289.2180387107018,289.25592916303646,289.30194116608465,289.3264177965785,289.30849226188093,289.27647543118593],\"type\":\"scatter\"},{\"legendgroup\":\"Ensemble Members\",\"line\":{\"color\":\"grey\",\"width\":0.5},\"mode\":\"lines\",\"opacity\":0.5,\"showlegend\":false,\"x\":[\"2021-06-22T00:00:00\",\"2021-06-23T00:00:00\",\"2021-06-24T00:00:00\",\"2021-06-25T00:00:00\",\"2021-06-26T00:00:00\",\"2021-06-27T00:00:00\",\"2021-06-28T00:00:00\"],\"y\":[289.320196702135,289.20185453439336,289.2279281464465,289.2716621283619,289.28893027914467,289.26483126260854,289.25096689600446],\"type\":\"scatter\"},{\"legendgroup\":\"Ensemble Members\",\"line\":{\"color\":\"grey\",\"width\":0.5},\"mode\":\"lines\",\"opacity\":0.5,\"showlegend\":false,\"x\":[\"2021-06-22T00:00:00\",\"2021-06-23T00:00:00\",\"2021-06-24T00:00:00\",\"2021-06-25T00:00:00\",\"2021-06-26T00:00:00\",\"2021-06-27T00:00:00\",\"2021-06-28T00:00:00\"],\"y\":[289.3438391394967,289.22092134949764,289.2267805526387,289.2717222196831,289.32781601051346,289.33324888068387,289.29525013115295],\"type\":\"scatter\"},{\"legendgroup\":\"Ensemble Members\",\"line\":{\"color\":\"grey\",\"width\":0.5},\"mode\":\"lines\",\"opacity\":0.5,\"showlegend\":false,\"x\":[\"2021-06-22T00:00:00\",\"2021-06-23T00:00:00\",\"2021-06-24T00:00:00\",\"2021-06-25T00:00:00\",\"2021-06-26T00:00:00\",\"2021-06-27T00:00:00\",\"2021-06-28T00:00:00\"],\"y\":[289.32818962563175,289.1854594649928,289.20491061419597,289.2733918278459,289.31887980237764,289.32655149284875,289.27810028793255],\"type\":\"scatter\"},{\"legendgroup\":\"Ensemble Members\",\"line\":{\"color\":\"grey\",\"width\":0.5},\"mode\":\"lines\",\"opacity\":0.5,\"showlegend\":false,\"x\":[\"2021-06-22T00:00:00\",\"2021-06-23T00:00:00\",\"2021-06-24T00:00:00\",\"2021-06-25T00:00:00\",\"2021-06-26T00:00:00\",\"2021-06-27T00:00:00\",\"2021-06-28T00:00:00\"],\"y\":[289.3262905944301,289.188766612101,289.1902061198733,289.2677737632681,289.3653508275217,289.364189441671,289.348933828049],\"type\":\"scatter\"},{\"legendgroup\":\"Ensemble Members\",\"line\":{\"color\":\"grey\",\"width\":0.5},\"mode\":\"lines\",\"opacity\":0.5,\"showlegend\":false,\"x\":[\"2021-06-22T00:00:00\",\"2021-06-23T00:00:00\",\"2021-06-24T00:00:00\",\"2021-06-25T00:00:00\",\"2021-06-26T00:00:00\",\"2021-06-27T00:00:00\",\"2021-06-28T00:00:00\"],\"y\":[289.3303837242543,289.2261727802704,289.2317647546299,289.26997317921894,289.3250263482362,289.32343130274216,289.3257163491461],\"type\":\"scatter\"},{\"legendgroup\":\"Ensemble Members\",\"line\":{\"color\":\"grey\",\"width\":0.5},\"mode\":\"lines\",\"opacity\":0.5,\"showlegend\":false,\"x\":[\"2021-06-22T00:00:00\",\"2021-06-23T00:00:00\",\"2021-06-24T00:00:00\",\"2021-06-25T00:00:00\",\"2021-06-26T00:00:00\",\"2021-06-27T00:00:00\",\"2021-06-28T00:00:00\"],\"y\":[289.3331178315097,289.22733048066243,289.23468855144864,289.28818433570746,289.3398820875588,289.3437004301006,289.31017027222686],\"type\":\"scatter\"},{\"legendgroup\":\"Ensemble Members\",\"line\":{\"color\":\"grey\",\"width\":0.5},\"mode\":\"lines\",\"opacity\":0.5,\"showlegend\":false,\"x\":[\"2021-06-22T00:00:00\",\"2021-06-23T00:00:00\",\"2021-06-24T00:00:00\",\"2021-06-25T00:00:00\",\"2021-06-26T00:00:00\",\"2021-06-27T00:00:00\",\"2021-06-28T00:00:00\"],\"y\":[289.327710088039,289.2073446000392,289.22838017124883,289.24872353254136,289.3141853355748,289.3531636465639,289.32182531451497],\"type\":\"scatter\"},{\"legendgroup\":\"Ensemble Members\",\"line\":{\"color\":\"grey\",\"width\":0.5},\"mode\":\"lines\",\"opacity\":0.5,\"showlegend\":false,\"x\":[\"2021-06-22T00:00:00\",\"2021-06-23T00:00:00\",\"2021-06-24T00:00:00\",\"2021-06-25T00:00:00\",\"2021-06-26T00:00:00\",\"2021-06-27T00:00:00\",\"2021-06-28T00:00:00\"],\"y\":[289.33150248494024,289.22389945753525,289.2306203804308,289.28588500488286,289.35833613200214,289.37808480776783,289.3838639924792],\"type\":\"scatter\"},{\"legendgroup\":\"Ensemble Members\",\"line\":{\"color\":\"grey\",\"width\":0.5},\"mode\":\"lines\",\"opacity\":0.5,\"showlegend\":false,\"x\":[\"2021-06-22T00:00:00\",\"2021-06-23T00:00:00\",\"2021-06-24T00:00:00\",\"2021-06-25T00:00:00\",\"2021-06-26T00:00:00\",\"2021-06-27T00:00:00\",\"2021-06-28T00:00:00\"],\"y\":[289.30659482552466,289.21246627260115,289.23120381394733,289.2940298683949,289.37518139429034,289.4070166593829,289.3855478414047],\"type\":\"scatter\"},{\"legendgroup\":\"Ensemble Members\",\"line\":{\"color\":\"grey\",\"width\":0.5},\"mode\":\"lines\",\"opacity\":0.5,\"showlegend\":false,\"x\":[\"2021-06-22T00:00:00\",\"2021-06-23T00:00:00\",\"2021-06-24T00:00:00\",\"2021-06-25T00:00:00\",\"2021-06-26T00:00:00\",\"2021-06-27T00:00:00\",\"2021-06-28T00:00:00\"],\"y\":[289.3454646070346,289.21467100655735,289.2312103136761,289.305672961468,289.35962199575414,289.3778840730106,289.34377724819757],\"type\":\"scatter\"},{\"legendgroup\":\"Ensemble Members\",\"line\":{\"color\":\"grey\",\"width\":0.5},\"mode\":\"lines\",\"opacity\":0.5,\"showlegend\":false,\"x\":[\"2021-06-22T00:00:00\",\"2021-06-23T00:00:00\",\"2021-06-24T00:00:00\",\"2021-06-25T00:00:00\",\"2021-06-26T00:00:00\",\"2021-06-27T00:00:00\",\"2021-06-28T00:00:00\"],\"y\":[289.32416566566786,289.2139056911538,289.2445936243739,289.28006625754784,289.32361724570444,289.32179927204925,289.26427850943696],\"type\":\"scatter\"},{\"legendgroup\":\"Ensemble Members\",\"line\":{\"color\":\"grey\",\"width\":0.5},\"mode\":\"lines\",\"opacity\":0.5,\"showlegend\":false,\"x\":[\"2021-06-22T00:00:00\",\"2021-06-23T00:00:00\",\"2021-06-24T00:00:00\",\"2021-06-25T00:00:00\",\"2021-06-26T00:00:00\",\"2021-06-27T00:00:00\",\"2021-06-28T00:00:00\"],\"y\":[289.31869273726807,289.2100221583292,289.2134981375949,289.26701098246485,289.3286892434453,289.3253722390256,289.28210561916444],\"type\":\"scatter\"},{\"legendgroup\":\"Ensemble Members\",\"line\":{\"color\":\"grey\",\"width\":0.5},\"mode\":\"lines\",\"opacity\":0.5,\"showlegend\":false,\"x\":[\"2021-06-22T00:00:00\",\"2021-06-23T00:00:00\",\"2021-06-24T00:00:00\",\"2021-06-25T00:00:00\",\"2021-06-26T00:00:00\",\"2021-06-27T00:00:00\",\"2021-06-28T00:00:00\"],\"y\":[289.3291798159673,289.22154051897155,289.21729795389757,289.2857389694115,289.35327491547895,289.3338045022854,289.35045929606815],\"type\":\"scatter\"},{\"legendgroup\":\"Ensemble Members\",\"line\":{\"color\":\"grey\",\"width\":0.5},\"mode\":\"lines\",\"opacity\":0.5,\"showlegend\":false,\"x\":[\"2021-06-22T00:00:00\",\"2021-06-23T00:00:00\",\"2021-06-24T00:00:00\",\"2021-06-25T00:00:00\",\"2021-06-26T00:00:00\",\"2021-06-27T00:00:00\",\"2021-06-28T00:00:00\"],\"y\":[289.3410691912968,289.2413799849209,289.2510657132367,289.28233291547565,289.3228159709962,289.33262390725383,289.3349785701069],\"type\":\"scatter\"},{\"legendgroup\":\"Ensemble Members\",\"line\":{\"color\":\"grey\",\"width\":0.5},\"mode\":\"lines\",\"opacity\":0.5,\"showlegend\":false,\"x\":[\"2021-06-22T00:00:00\",\"2021-06-23T00:00:00\",\"2021-06-24T00:00:00\",\"2021-06-25T00:00:00\",\"2021-06-26T00:00:00\",\"2021-06-27T00:00:00\",\"2021-06-28T00:00:00\"],\"y\":[289.32493430524204,289.222010981306,289.2449731326716,289.28539170216135,289.33801651474255,289.3552833412125,289.35309516054946],\"type\":\"scatter\"},{\"legendgroup\":\"Ensemble Members\",\"line\":{\"color\":\"grey\",\"width\":0.5},\"mode\":\"lines\",\"opacity\":0.5,\"showlegend\":false,\"x\":[\"2021-06-22T00:00:00\",\"2021-06-23T00:00:00\",\"2021-06-24T00:00:00\",\"2021-06-25T00:00:00\",\"2021-06-26T00:00:00\",\"2021-06-27T00:00:00\",\"2021-06-28T00:00:00\"],\"y\":[289.36853508149096,289.25144321107126,289.24867404001276,289.27358001298194,289.3587917795231,289.3730813293985,289.367380992394],\"type\":\"scatter\"},{\"legendgroup\":\"Ensemble Members\",\"line\":{\"color\":\"grey\",\"width\":0.5},\"mode\":\"lines\",\"opacity\":0.5,\"showlegend\":false,\"x\":[\"2021-06-22T00:00:00\",\"2021-06-23T00:00:00\",\"2021-06-24T00:00:00\",\"2021-06-25T00:00:00\",\"2021-06-26T00:00:00\",\"2021-06-27T00:00:00\",\"2021-06-28T00:00:00\"],\"y\":[289.3671911744256,289.2314304258149,289.2493771134176,289.29169278255983,289.34663672725964,289.3148817415145,289.2629661815002],\"type\":\"scatter\"},{\"legendgroup\":\"Ensemble Members\",\"line\":{\"color\":\"grey\",\"width\":0.5},\"mode\":\"lines\",\"opacity\":0.5,\"showlegend\":false,\"x\":[\"2021-06-22T00:00:00\",\"2021-06-23T00:00:00\",\"2021-06-24T00:00:00\",\"2021-06-25T00:00:00\",\"2021-06-26T00:00:00\",\"2021-06-27T00:00:00\",\"2021-06-28T00:00:00\"],\"y\":[289.35347457783377,289.1991761766157,289.201245647043,289.2457439947382,289.3063541769323,289.34399476857806,289.328903470799],\"type\":\"scatter\"},{\"legendgroup\":\"Ensemble Members\",\"line\":{\"color\":\"grey\",\"width\":0.5},\"mode\":\"lines\",\"opacity\":0.5,\"showlegend\":false,\"x\":[\"2021-06-22T00:00:00\",\"2021-06-23T00:00:00\",\"2021-06-24T00:00:00\",\"2021-06-25T00:00:00\",\"2021-06-26T00:00:00\",\"2021-06-27T00:00:00\",\"2021-06-28T00:00:00\"],\"y\":[289.3421631148781,289.2177831439912,289.21370360733465,289.26811539902116,289.34258904997336,289.34591298345066,289.31736812208305],\"type\":\"scatter\"},{\"legendgroup\":\"Ensemble Members\",\"line\":{\"color\":\"grey\",\"width\":0.5},\"mode\":\"lines\",\"opacity\":0.5,\"showlegend\":false,\"x\":[\"2021-06-22T00:00:00\",\"2021-06-23T00:00:00\",\"2021-06-24T00:00:00\",\"2021-06-25T00:00:00\",\"2021-06-26T00:00:00\",\"2021-06-27T00:00:00\",\"2021-06-28T00:00:00\"],\"y\":[289.3288989028028,289.2077840331206,289.21327178792853,289.25064311278845,289.2846261479177,289.2795086804887,289.25653759178516],\"type\":\"scatter\"},{\"legendgroup\":\"Ensemble Members\",\"line\":{\"color\":\"grey\",\"width\":0.5},\"mode\":\"lines\",\"opacity\":0.5,\"showlegend\":false,\"x\":[\"2021-06-22T00:00:00\",\"2021-06-23T00:00:00\",\"2021-06-24T00:00:00\",\"2021-06-25T00:00:00\",\"2021-06-26T00:00:00\",\"2021-06-27T00:00:00\",\"2021-06-28T00:00:00\"],\"y\":[289.3434436351564,289.22754642623335,289.25156868744887,289.3058069883049,289.37352920655974,289.36999460394264,289.31072336204875],\"type\":\"scatter\"},{\"legendgroup\":\"Ensemble Members\",\"line\":{\"color\":\"grey\",\"width\":0.5},\"mode\":\"lines\",\"opacity\":0.5,\"showlegend\":false,\"x\":[\"2021-06-22T00:00:00\",\"2021-06-23T00:00:00\",\"2021-06-24T00:00:00\",\"2021-06-25T00:00:00\",\"2021-06-26T00:00:00\",\"2021-06-27T00:00:00\",\"2021-06-28T00:00:00\"],\"y\":[289.32756362761535,289.2243402025127,289.2386180479347,289.2809970459302,289.33210069270547,289.3600267769953,289.3241958379531],\"type\":\"scatter\"},{\"legendgroup\":\"Ensemble Members\",\"line\":{\"color\":\"grey\",\"width\":0.5},\"mode\":\"lines\",\"opacity\":0.5,\"showlegend\":false,\"x\":[\"2021-06-22T00:00:00\",\"2021-06-23T00:00:00\",\"2021-06-24T00:00:00\",\"2021-06-25T00:00:00\",\"2021-06-26T00:00:00\",\"2021-06-27T00:00:00\",\"2021-06-28T00:00:00\"],\"y\":[289.3440290421921,289.2157570740433,289.2407506412042,289.3016495125486,289.35472992344995,289.3539571607218,289.33862209448023],\"type\":\"scatter\"},{\"legendgroup\":\"Ensemble Members\",\"line\":{\"color\":\"grey\",\"width\":0.5},\"mode\":\"lines\",\"opacity\":0.5,\"showlegend\":false,\"x\":[\"2021-06-22T00:00:00\",\"2021-06-23T00:00:00\",\"2021-06-24T00:00:00\",\"2021-06-25T00:00:00\",\"2021-06-26T00:00:00\",\"2021-06-27T00:00:00\",\"2021-06-28T00:00:00\"],\"y\":[289.34167945888134,289.2331696233231,289.27494918359633,289.3077428849118,289.360172134356,289.37820985579424,289.3055613066062],\"type\":\"scatter\"},{\"legendgroup\":\"Ensemble Members\",\"line\":{\"color\":\"grey\",\"width\":0.5},\"mode\":\"lines\",\"opacity\":0.5,\"showlegend\":false,\"x\":[\"2021-06-22T00:00:00\",\"2021-06-23T00:00:00\",\"2021-06-24T00:00:00\",\"2021-06-25T00:00:00\",\"2021-06-26T00:00:00\",\"2021-06-27T00:00:00\",\"2021-06-28T00:00:00\"],\"y\":[289.35245081371966,289.2138017026348,289.22457213310486,289.25457901664913,289.3013417344477,289.288045565143,289.30039313586275],\"type\":\"scatter\"},{\"legendgroup\":\"Ensemble Members\",\"line\":{\"color\":\"grey\",\"width\":0.5},\"mode\":\"lines\",\"opacity\":0.5,\"showlegend\":false,\"x\":[\"2021-06-22T00:00:00\",\"2021-06-23T00:00:00\",\"2021-06-24T00:00:00\",\"2021-06-25T00:00:00\",\"2021-06-26T00:00:00\",\"2021-06-27T00:00:00\",\"2021-06-28T00:00:00\"],\"y\":[289.3477237716375,289.2614838335667,289.27044801411233,289.29119805520304,289.3523216136461,289.363841868174,289.36110879069383],\"type\":\"scatter\"},{\"legendgroup\":\"Ensemble Members\",\"line\":{\"color\":\"grey\",\"width\":0.5},\"mode\":\"lines\",\"opacity\":0.5,\"showlegend\":false,\"x\":[\"2021-06-22T00:00:00\",\"2021-06-23T00:00:00\",\"2021-06-24T00:00:00\",\"2021-06-25T00:00:00\",\"2021-06-26T00:00:00\",\"2021-06-27T00:00:00\",\"2021-06-28T00:00:00\"],\"y\":[289.34820616596363,289.21530630746923,289.1939645918761,289.2097589494223,289.2904118092425,289.30592745482846,289.2529284429646],\"type\":\"scatter\"},{\"legendgroup\":\"Ensemble Members\",\"line\":{\"color\":\"grey\",\"width\":0.5},\"mode\":\"lines\",\"opacity\":0.5,\"showlegend\":false,\"x\":[\"2021-06-22T00:00:00\",\"2021-06-23T00:00:00\",\"2021-06-24T00:00:00\",\"2021-06-25T00:00:00\",\"2021-06-26T00:00:00\",\"2021-06-27T00:00:00\",\"2021-06-28T00:00:00\"],\"y\":[289.3265615770708,289.20813184765274,289.2127724070765,289.295451182102,289.34297305618355,289.3270830487014,289.31411359459827],\"type\":\"scatter\"},{\"legendgroup\":\"Ensemble Members\",\"line\":{\"color\":\"grey\",\"width\":0.5},\"mode\":\"lines\",\"opacity\":0.5,\"showlegend\":false,\"x\":[\"2021-06-22T00:00:00\",\"2021-06-23T00:00:00\",\"2021-06-24T00:00:00\",\"2021-06-25T00:00:00\",\"2021-06-26T00:00:00\",\"2021-06-27T00:00:00\",\"2021-06-28T00:00:00\"],\"y\":[289.3445074137769,289.2108277003482,289.2391899147411,289.2726835346719,289.31914198853957,289.31934224840074,289.2735626326701],\"type\":\"scatter\"},{\"legendgroup\":\"Ensemble Members\",\"line\":{\"color\":\"grey\",\"width\":0.5},\"mode\":\"lines\",\"opacity\":0.5,\"showlegend\":false,\"x\":[\"2021-06-22T00:00:00\",\"2021-06-23T00:00:00\",\"2021-06-24T00:00:00\",\"2021-06-25T00:00:00\",\"2021-06-26T00:00:00\",\"2021-06-27T00:00:00\",\"2021-06-28T00:00:00\"],\"y\":[289.3270477152177,289.2036856512033,289.21005885957373,289.24861266320175,289.2824606273779,289.27702825981095,289.23887251386236],\"type\":\"scatter\"},{\"legendgroup\":\"Ensemble Members\",\"line\":{\"color\":\"grey\",\"width\":0.5},\"mode\":\"lines\",\"opacity\":0.5,\"showlegend\":false,\"x\":[\"2021-06-22T00:00:00\",\"2021-06-23T00:00:00\",\"2021-06-24T00:00:00\",\"2021-06-25T00:00:00\",\"2021-06-26T00:00:00\",\"2021-06-27T00:00:00\",\"2021-06-28T00:00:00\"],\"y\":[289.31654120930796,289.2193896308859,289.21679570587384,289.28643218168816,289.3505582503187,289.3753039565048,289.38423112278826],\"type\":\"scatter\"},{\"legendgroup\":\"Ensemble Members\",\"line\":{\"color\":\"grey\",\"width\":0.5},\"mode\":\"lines\",\"opacity\":0.5,\"showlegend\":false,\"x\":[\"2021-06-22T00:00:00\",\"2021-06-23T00:00:00\",\"2021-06-24T00:00:00\",\"2021-06-25T00:00:00\",\"2021-06-26T00:00:00\",\"2021-06-27T00:00:00\",\"2021-06-28T00:00:00\"],\"y\":[289.3270458640668,289.1965421565085,289.20829974177786,289.2555128488193,289.3021003646711,289.2831313130421,289.24880254602465],\"type\":\"scatter\"},{\"legendgroup\":\"Ensemble Members\",\"line\":{\"color\":\"grey\",\"width\":0.5},\"mode\":\"lines\",\"opacity\":0.5,\"showlegend\":false,\"x\":[\"2021-06-22T00:00:00\",\"2021-06-23T00:00:00\",\"2021-06-24T00:00:00\",\"2021-06-25T00:00:00\",\"2021-06-26T00:00:00\",\"2021-06-27T00:00:00\",\"2021-06-28T00:00:00\"],\"y\":[289.340849126572,289.2180843853966,289.1985057375648,289.25508222351766,289.3125012405949,289.3020608589079,289.26740543875854],\"type\":\"scatter\"},{\"legendgroup\":\"Ensemble Members\",\"line\":{\"color\":\"grey\",\"width\":0.5},\"mode\":\"lines\",\"opacity\":0.5,\"showlegend\":false,\"x\":[\"2021-06-22T00:00:00\",\"2021-06-23T00:00:00\",\"2021-06-24T00:00:00\",\"2021-06-25T00:00:00\",\"2021-06-26T00:00:00\",\"2021-06-27T00:00:00\",\"2021-06-28T00:00:00\"],\"y\":[289.3349014335487,289.2061821834296,289.22706991255734,289.25786947544964,289.32396792134386,289.3279001731078,289.32158108905753],\"type\":\"scatter\"},{\"legendgroup\":\"Ensemble Members\",\"line\":{\"color\":\"grey\",\"width\":0.5},\"mode\":\"lines\",\"opacity\":0.5,\"showlegend\":false,\"x\":[\"2021-06-22T00:00:00\",\"2021-06-23T00:00:00\",\"2021-06-24T00:00:00\",\"2021-06-25T00:00:00\",\"2021-06-26T00:00:00\",\"2021-06-27T00:00:00\",\"2021-06-28T00:00:00\"],\"y\":[289.33615808250164,289.1816045131544,289.21422413499033,289.2610181168108,289.2694965229874,289.27704083074013,289.2900993251804],\"type\":\"scatter\"},{\"legendgroup\":\"Ensemble Members\",\"line\":{\"color\":\"grey\",\"width\":0.5},\"mode\":\"lines\",\"opacity\":0.5,\"showlegend\":false,\"x\":[\"2021-06-22T00:00:00\",\"2021-06-23T00:00:00\",\"2021-06-24T00:00:00\",\"2021-06-25T00:00:00\",\"2021-06-26T00:00:00\",\"2021-06-27T00:00:00\",\"2021-06-28T00:00:00\"],\"y\":[289.3252281298713,289.21185850978935,289.21260888719604,289.2728354344391,289.3224268977454,289.342231434412,289.3102460626648],\"type\":\"scatter\"},{\"legendgroup\":\"Ensemble Members\",\"line\":{\"color\":\"grey\",\"width\":0.5},\"mode\":\"lines\",\"opacity\":0.5,\"showlegend\":false,\"x\":[\"2021-06-22T00:00:00\",\"2021-06-23T00:00:00\",\"2021-06-24T00:00:00\",\"2021-06-25T00:00:00\",\"2021-06-26T00:00:00\",\"2021-06-27T00:00:00\",\"2021-06-28T00:00:00\"],\"y\":[289.3180632915534,289.20056494732563,289.2120102524077,289.28096851850086,289.3252272680782,289.31020957427,289.2930029098481],\"type\":\"scatter\"},{\"legendgroup\":\"Ensemble Members\",\"line\":{\"color\":\"grey\",\"width\":0.5},\"mode\":\"lines\",\"opacity\":0.5,\"showlegend\":false,\"x\":[\"2021-06-22T00:00:00\",\"2021-06-23T00:00:00\",\"2021-06-24T00:00:00\",\"2021-06-25T00:00:00\",\"2021-06-26T00:00:00\",\"2021-06-27T00:00:00\",\"2021-06-28T00:00:00\"],\"y\":[289.3305338994627,289.2095630658151,289.2186795781214,289.2547251562688,289.3378367824854,289.34497044496646,289.31542343794507],\"type\":\"scatter\"},{\"legendgroup\":\"Ensemble Mean\",\"legendgrouptitle\":{\"font\":{\"color\":\"black\",\"family\":\"Arial Bold\",\"size\":14},\"text\":\"Ensemble Mean\"},\"line\":{\"color\":\"black\",\"width\":2},\"mode\":\"lines\",\"name\":\"Ensemble Mean\",\"showlegend\":true,\"x\":[\"2021-06-22T00:00:00\",\"2021-06-23T00:00:00\",\"2021-06-24T00:00:00\",\"2021-06-25T00:00:00\",\"2021-06-26T00:00:00\",\"2021-06-27T00:00:00\",\"2021-06-28T00:00:00\"],\"y\":[289.3348260580196,289.2156688225986,289.22981695393423,289.2770561657775,289.33002725539444,289.33300279287704,289.3086309514063],\"type\":\"scatter\"}],                        {\"height\":900,\"legend\":{\"bgcolor\":\"rgba(255,255,255,0.95)\",\"bordercolor\":\"rgba(0,0,0,0.2)\",\"borderwidth\":1,\"font\":{\"size\":12},\"groupclick\":\"toggleitem\",\"grouptitlefont\":{\"color\":\"black\",\"family\":\"Arial Bold\",\"size\":14},\"itemclick\":\"toggle\",\"itemdoubleclick\":\"toggleothers\",\"itemsizing\":\"constant\",\"orientation\":\"v\",\"title\":{\"font\":{\"size\":16},\"text\":\"Legend\"},\"tracegroupgap\":15,\"traceorder\":\"grouped\",\"x\":1.05,\"y\":1},\"margin\":{\"b\":40,\"l\":40,\"r\":40,\"t\":40},\"template\":{\"data\":{\"barpolar\":[{\"marker\":{\"line\":{\"color\":\"white\",\"width\":0.5},\"pattern\":{\"fillmode\":\"overlay\",\"size\":10,\"solidity\":0.2}},\"type\":\"barpolar\"}],\"bar\":[{\"error_x\":{\"color\":\"#2a3f5f\"},\"error_y\":{\"color\":\"#2a3f5f\"},\"marker\":{\"line\":{\"color\":\"white\",\"width\":0.5},\"pattern\":{\"fillmode\":\"overlay\",\"size\":10,\"solidity\":0.2}},\"type\":\"bar\"}],\"carpet\":[{\"aaxis\":{\"endlinecolor\":\"#2a3f5f\",\"gridcolor\":\"#C8D4E3\",\"linecolor\":\"#C8D4E3\",\"minorgridcolor\":\"#C8D4E3\",\"startlinecolor\":\"#2a3f5f\"},\"baxis\":{\"endlinecolor\":\"#2a3f5f\",\"gridcolor\":\"#C8D4E3\",\"linecolor\":\"#C8D4E3\",\"minorgridcolor\":\"#C8D4E3\",\"startlinecolor\":\"#2a3f5f\"},\"type\":\"carpet\"}],\"choropleth\":[{\"colorbar\":{\"outlinewidth\":0,\"ticks\":\"\"},\"type\":\"choropleth\"}],\"contourcarpet\":[{\"colorbar\":{\"outlinewidth\":0,\"ticks\":\"\"},\"type\":\"contourcarpet\"}],\"contour\":[{\"colorbar\":{\"outlinewidth\":0,\"ticks\":\"\"},\"colorscale\":[[0.0,\"#0d0887\"],[0.1111111111111111,\"#46039f\"],[0.2222222222222222,\"#7201a8\"],[0.3333333333333333,\"#9c179e\"],[0.4444444444444444,\"#bd3786\"],[0.5555555555555556,\"#d8576b\"],[0.6666666666666666,\"#ed7953\"],[0.7777777777777778,\"#fb9f3a\"],[0.8888888888888888,\"#fdca26\"],[1.0,\"#f0f921\"]],\"type\":\"contour\"}],\"heatmapgl\":[{\"colorbar\":{\"outlinewidth\":0,\"ticks\":\"\"},\"colorscale\":[[0.0,\"#0d0887\"],[0.1111111111111111,\"#46039f\"],[0.2222222222222222,\"#7201a8\"],[0.3333333333333333,\"#9c179e\"],[0.4444444444444444,\"#bd3786\"],[0.5555555555555556,\"#d8576b\"],[0.6666666666666666,\"#ed7953\"],[0.7777777777777778,\"#fb9f3a\"],[0.8888888888888888,\"#fdca26\"],[1.0,\"#f0f921\"]],\"type\":\"heatmapgl\"}],\"heatmap\":[{\"colorbar\":{\"outlinewidth\":0,\"ticks\":\"\"},\"colorscale\":[[0.0,\"#0d0887\"],[0.1111111111111111,\"#46039f\"],[0.2222222222222222,\"#7201a8\"],[0.3333333333333333,\"#9c179e\"],[0.4444444444444444,\"#bd3786\"],[0.5555555555555556,\"#d8576b\"],[0.6666666666666666,\"#ed7953\"],[0.7777777777777778,\"#fb9f3a\"],[0.8888888888888888,\"#fdca26\"],[1.0,\"#f0f921\"]],\"type\":\"heatmap\"}],\"histogram2dcontour\":[{\"colorbar\":{\"outlinewidth\":0,\"ticks\":\"\"},\"colorscale\":[[0.0,\"#0d0887\"],[0.1111111111111111,\"#46039f\"],[0.2222222222222222,\"#7201a8\"],[0.3333333333333333,\"#9c179e\"],[0.4444444444444444,\"#bd3786\"],[0.5555555555555556,\"#d8576b\"],[0.6666666666666666,\"#ed7953\"],[0.7777777777777778,\"#fb9f3a\"],[0.8888888888888888,\"#fdca26\"],[1.0,\"#f0f921\"]],\"type\":\"histogram2dcontour\"}],\"histogram2d\":[{\"colorbar\":{\"outlinewidth\":0,\"ticks\":\"\"},\"colorscale\":[[0.0,\"#0d0887\"],[0.1111111111111111,\"#46039f\"],[0.2222222222222222,\"#7201a8\"],[0.3333333333333333,\"#9c179e\"],[0.4444444444444444,\"#bd3786\"],[0.5555555555555556,\"#d8576b\"],[0.6666666666666666,\"#ed7953\"],[0.7777777777777778,\"#fb9f3a\"],[0.8888888888888888,\"#fdca26\"],[1.0,\"#f0f921\"]],\"type\":\"histogram2d\"}],\"histogram\":[{\"marker\":{\"pattern\":{\"fillmode\":\"overlay\",\"size\":10,\"solidity\":0.2}},\"type\":\"histogram\"}],\"mesh3d\":[{\"colorbar\":{\"outlinewidth\":0,\"ticks\":\"\"},\"type\":\"mesh3d\"}],\"parcoords\":[{\"line\":{\"colorbar\":{\"outlinewidth\":0,\"ticks\":\"\"}},\"type\":\"parcoords\"}],\"pie\":[{\"automargin\":true,\"type\":\"pie\"}],\"scatter3d\":[{\"line\":{\"colorbar\":{\"outlinewidth\":0,\"ticks\":\"\"}},\"marker\":{\"colorbar\":{\"outlinewidth\":0,\"ticks\":\"\"}},\"type\":\"scatter3d\"}],\"scattercarpet\":[{\"marker\":{\"colorbar\":{\"outlinewidth\":0,\"ticks\":\"\"}},\"type\":\"scattercarpet\"}],\"scattergeo\":[{\"marker\":{\"colorbar\":{\"outlinewidth\":0,\"ticks\":\"\"}},\"type\":\"scattergeo\"}],\"scattergl\":[{\"marker\":{\"colorbar\":{\"outlinewidth\":0,\"ticks\":\"\"}},\"type\":\"scattergl\"}],\"scattermapbox\":[{\"marker\":{\"colorbar\":{\"outlinewidth\":0,\"ticks\":\"\"}},\"type\":\"scattermapbox\"}],\"scatterpolargl\":[{\"marker\":{\"colorbar\":{\"outlinewidth\":0,\"ticks\":\"\"}},\"type\":\"scatterpolargl\"}],\"scatterpolar\":[{\"marker\":{\"colorbar\":{\"outlinewidth\":0,\"ticks\":\"\"}},\"type\":\"scatterpolar\"}],\"scatter\":[{\"fillpattern\":{\"fillmode\":\"overlay\",\"size\":10,\"solidity\":0.2},\"type\":\"scatter\"}],\"scatterternary\":[{\"marker\":{\"colorbar\":{\"outlinewidth\":0,\"ticks\":\"\"}},\"type\":\"scatterternary\"}],\"surface\":[{\"colorbar\":{\"outlinewidth\":0,\"ticks\":\"\"},\"colorscale\":[[0.0,\"#0d0887\"],[0.1111111111111111,\"#46039f\"],[0.2222222222222222,\"#7201a8\"],[0.3333333333333333,\"#9c179e\"],[0.4444444444444444,\"#bd3786\"],[0.5555555555555556,\"#d8576b\"],[0.6666666666666666,\"#ed7953\"],[0.7777777777777778,\"#fb9f3a\"],[0.8888888888888888,\"#fdca26\"],[1.0,\"#f0f921\"]],\"type\":\"surface\"}],\"table\":[{\"cells\":{\"fill\":{\"color\":\"#EBF0F8\"},\"line\":{\"color\":\"white\"}},\"header\":{\"fill\":{\"color\":\"#C8D4E3\"},\"line\":{\"color\":\"white\"}},\"type\":\"table\"}]},\"layout\":{\"annotationdefaults\":{\"arrowcolor\":\"#2a3f5f\",\"arrowhead\":0,\"arrowwidth\":1},\"autotypenumbers\":\"strict\",\"coloraxis\":{\"colorbar\":{\"outlinewidth\":0,\"ticks\":\"\"}},\"colorscale\":{\"diverging\":[[0,\"#8e0152\"],[0.1,\"#c51b7d\"],[0.2,\"#de77ae\"],[0.3,\"#f1b6da\"],[0.4,\"#fde0ef\"],[0.5,\"#f7f7f7\"],[0.6,\"#e6f5d0\"],[0.7,\"#b8e186\"],[0.8,\"#7fbc41\"],[0.9,\"#4d9221\"],[1,\"#276419\"]],\"sequential\":[[0.0,\"#0d0887\"],[0.1111111111111111,\"#46039f\"],[0.2222222222222222,\"#7201a8\"],[0.3333333333333333,\"#9c179e\"],[0.4444444444444444,\"#bd3786\"],[0.5555555555555556,\"#d8576b\"],[0.6666666666666666,\"#ed7953\"],[0.7777777777777778,\"#fb9f3a\"],[0.8888888888888888,\"#fdca26\"],[1.0,\"#f0f921\"]],\"sequentialminus\":[[0.0,\"#0d0887\"],[0.1111111111111111,\"#46039f\"],[0.2222222222222222,\"#7201a8\"],[0.3333333333333333,\"#9c179e\"],[0.4444444444444444,\"#bd3786\"],[0.5555555555555556,\"#d8576b\"],[0.6666666666666666,\"#ed7953\"],[0.7777777777777778,\"#fb9f3a\"],[0.8888888888888888,\"#fdca26\"],[1.0,\"#f0f921\"]]},\"colorway\":[\"#636efa\",\"#EF553B\",\"#00cc96\",\"#ab63fa\",\"#FFA15A\",\"#19d3f3\",\"#FF6692\",\"#B6E880\",\"#FF97FF\",\"#FECB52\"],\"font\":{\"color\":\"#2a3f5f\"},\"geo\":{\"bgcolor\":\"white\",\"lakecolor\":\"white\",\"landcolor\":\"white\",\"showlakes\":true,\"showland\":true,\"subunitcolor\":\"#C8D4E3\"},\"hoverlabel\":{\"align\":\"left\"},\"hovermode\":\"closest\",\"mapbox\":{\"style\":\"light\"},\"paper_bgcolor\":\"white\",\"plot_bgcolor\":\"white\",\"polar\":{\"angularaxis\":{\"gridcolor\":\"#EBF0F8\",\"linecolor\":\"#EBF0F8\",\"ticks\":\"\"},\"bgcolor\":\"white\",\"radialaxis\":{\"gridcolor\":\"#EBF0F8\",\"linecolor\":\"#EBF0F8\",\"ticks\":\"\"}},\"scene\":{\"xaxis\":{\"backgroundcolor\":\"white\",\"gridcolor\":\"#DFE8F3\",\"gridwidth\":2,\"linecolor\":\"#EBF0F8\",\"showbackground\":true,\"ticks\":\"\",\"zerolinecolor\":\"#EBF0F8\"},\"yaxis\":{\"backgroundcolor\":\"white\",\"gridcolor\":\"#DFE8F3\",\"gridwidth\":2,\"linecolor\":\"#EBF0F8\",\"showbackground\":true,\"ticks\":\"\",\"zerolinecolor\":\"#EBF0F8\"},\"zaxis\":{\"backgroundcolor\":\"white\",\"gridcolor\":\"#DFE8F3\",\"gridwidth\":2,\"linecolor\":\"#EBF0F8\",\"showbackground\":true,\"ticks\":\"\",\"zerolinecolor\":\"#EBF0F8\"}},\"shapedefaults\":{\"line\":{\"color\":\"#2a3f5f\"}},\"ternary\":{\"aaxis\":{\"gridcolor\":\"#DFE8F3\",\"linecolor\":\"#A2B1C6\",\"ticks\":\"\"},\"baxis\":{\"gridcolor\":\"#DFE8F3\",\"linecolor\":\"#A2B1C6\",\"ticks\":\"\"},\"bgcolor\":\"white\",\"caxis\":{\"gridcolor\":\"#DFE8F3\",\"linecolor\":\"#A2B1C6\",\"ticks\":\"\"}},\"title\":{\"x\":0.05},\"xaxis\":{\"automargin\":true,\"gridcolor\":\"#EBF0F8\",\"linecolor\":\"#EBF0F8\",\"ticks\":\"\",\"title\":{\"standoff\":15},\"zerolinecolor\":\"#EBF0F8\",\"zerolinewidth\":2},\"yaxis\":{\"automargin\":true,\"gridcolor\":\"#EBF0F8\",\"linecolor\":\"#EBF0F8\",\"ticks\":\"\",\"title\":{\"standoff\":15},\"zerolinecolor\":\"#EBF0F8\",\"zerolinewidth\":2}}},\"title\":{\"text\":\"Mean 2m Temperature Forecast \\u002f 2021-06-21  + 7 days\"},\"width\":1600,\"xaxis\":{\"range\":[\"2021-06-22T00:00:00\",\"2021-06-28T00:00:00\"],\"title\":{\"text\":\"Date\"}},\"yaxis\":{\"range\":[241.22970809936524,336.0123420715332],\"tickformat\":\".0f\",\"title\":{\"text\":\"Temperature (K)\"}}},                        {\"responsive\": true}                    ).then(function(){\n",
       "                            \n",
       "var gd = document.getElementById('eaa1eb4b-d29a-4427-8b48-3f22bd31430f');\n",
       "var x = new MutationObserver(function (mutations, observer) {{\n",
       "        var display = window.getComputedStyle(gd).display;\n",
       "        if (!display || display === 'none') {{\n",
       "            console.log([gd, 'removed!']);\n",
       "            Plotly.purge(gd);\n",
       "            observer.disconnect();\n",
       "        }}\n",
       "}});\n",
       "\n",
       "// Listen for the removal of the full notebook cells\n",
       "var notebookContainer = gd.closest('#notebook-container');\n",
       "if (notebookContainer) {{\n",
       "    x.observe(notebookContainer, {childList: true});\n",
       "}}\n",
       "\n",
       "// Listen for the clearing of the current output cell\n",
       "var outputEl = gd.closest('.output');\n",
       "if (outputEl) {{\n",
       "    x.observe(outputEl, {childList: true});\n",
       "}}\n",
       "\n",
       "                        })                };                });            </script>        </div>"
      ]
     },
     "metadata": {},
     "output_type": "display_data"
    }
   ],
   "source": [
    "# Plot perturbation datasets with enhanced legend grouping\n",
    "perturb_lines = []\n",
    "partition_groups = {}\n",
    "\n",
    "for label, color, dataset in perturb_datasets:\n",
    "    partition_name = label.split()[0]\n",
    "    if partition_name not in partition_groups:\n",
    "        partition_groups[partition_name] = []\n",
    "    \n",
    "    # Convert color to RGB if it's a tuple\n",
    "    if isinstance(color, tuple):\n",
    "        color = f'rgb({int(color[0] * 255)}, {int(color[1] * 255)}, {int(color[2] * 255)})'\n",
    "    \n",
    "    # Create trace\n",
    "    trace = go.Scatter(\n",
    "        x=dataset['date'],\n",
    "        y=dataset[target_var],\n",
    "        mode='lines',\n",
    "        line=dict(color=color, width=1),\n",
    "        name=label.split(' ')[0],\n",
    "        legendgroup=partition_name,\n",
    "        legendgrouptitle=dict(\n",
    "            text=partition_name,\n",
    "            font=dict(size=14, color='black', family='Arial Bold')\n",
    "        ) if len(partition_groups[partition_name]) == 0 else None,\n",
    "        showlegend=True\n",
    "    )\n",
    "    partition_groups[partition_name].append(trace)\n",
    "    perturb_lines.append(trace)\n",
    "\n",
    "# Add ensemble lines\n",
    "ensemble_legend_shown = False  # Flag to control legend display\n",
    "for ensemble in df['ensemble'].unique():\n",
    "    subset = df[df['ensemble'] == ensemble]\n",
    "    trace = go.Scatter(\n",
    "        x=subset['date'],\n",
    "        y=subset[target_var],\n",
    "        mode='lines',\n",
    "        line=dict(color='grey', width=0.5),\n",
    "        opacity=0.5,\n",
    "        name='Ensemble Members' if not ensemble_legend_shown else None,\n",
    "        showlegend=not ensemble_legend_shown,\n",
    "        legendgroup='Ensemble Members',\n",
    "        legendgrouptitle=dict(\n",
    "            text='Ensemble Members',\n",
    "            font=dict(size=14, color='black', family='Arial Bold')\n",
    "        ) if not ensemble_legend_shown else None,\n",
    "    )\n",
    "    perturb_lines.append(trace)\n",
    "    ensemble_legend_shown = True  # Only show legend once\n",
    "\n",
    "# Add ensemble mean line\n",
    "mean_temp = df.groupby('date')[target_var].mean().reset_index()\n",
    "ensemble_mean_line = go.Scatter(\n",
    "    x=mean_temp['date'],\n",
    "    y=mean_temp[target_var],\n",
    "    mode='lines',\n",
    "    line=dict(color='black', width=2),\n",
    "    name='Ensemble Mean',\n",
    "    legendgroup='Ensemble Mean',\n",
    "    legendgrouptitle=dict(\n",
    "        text='Ensemble Mean',\n",
    "        font=dict(size=14, color='black', family='Arial Bold')\n",
    "    ),\n",
    "    showlegend=True\n",
    ")\n",
    "perturb_lines.append(ensemble_mean_line)\n",
    "\n",
    "# Calculate y-axis range\n",
    "y_values = []\n",
    "for _, _, dataset in perturb_datasets:\n",
    "    y_values.extend(dataset[target_var].values)\n",
    "y_values.extend(df[target_var].values)  # Include ensemble data\n",
    "y_min = np.min(y_values)\n",
    "y_max = np.max(y_values)\n",
    "y_range = y_max - y_min\n",
    "y_padding = y_range * 0.05\n",
    "\n",
    "# Create the layout\n",
    "layout = go.Layout(\n",
    "    title=title,\n",
    "    xaxis=dict(\n",
    "        title='Date', \n",
    "        range=[pd.Timestamp('2021-06-22'), pd.Timestamp('2021-06-28')]\n",
    "    ),\n",
    "    yaxis=dict(\n",
    "        title=unit,\n",
    "        range=[y_min - y_padding, y_max + y_padding],\n",
    "        tickformat='.0f'\n",
    "    ),\n",
    "    margin=dict(l=40, r=40, t=40, b=40),\n",
    "    height=900,\n",
    "    width=1600,\n",
    "    template='plotly_white',\n",
    "    legend=dict(\n",
    "        title=dict(\n",
    "            text='Legend',\n",
    "            font=dict(size=16)\n",
    "        ),\n",
    "        orientation='v',\n",
    "        x=1.05,\n",
    "        y=1,\n",
    "        itemsizing='constant',\n",
    "        groupclick='toggleitem',\n",
    "        itemclick='toggle',\n",
    "        itemdoubleclick='toggleothers',\n",
    "        tracegroupgap=15,\n",
    "        font=dict(size=12),\n",
    "        grouptitlefont=dict(size=14, color='black', family='Arial Bold'),\n",
    "        borderwidth=1,\n",
    "        bordercolor='rgba(0,0,0,0.2)',\n",
    "        bgcolor='rgba(255,255,255,0.95)',\n",
    "        traceorder='grouped'\n",
    "    )\n",
    ")\n",
    "\n",
    "# Create the figure\n",
    "fig = go.Figure(data=perturb_lines, layout=layout)\n",
    "\n",
    "# Save and display the figure\n",
    "fig.write_html(f\"interactive_{target_var}_forecast.html\")\n",
    "pio.show(fig)\n"
   ]
  },
  {
   "cell_type": "code",
   "execution_count": null,
   "metadata": {},
   "outputs": [
    {
     "data": {
      "text/plain": [
       "list"
      ]
     },
     "execution_count": 137,
     "metadata": {},
     "output_type": "execute_result"
    }
   ],
   "source": [
    "nwp.to_netcdf('/data/GC_output/analysis/nwp_t2m_GlobAvg.nc')\n",
    "\n",
    "import pickle\n",
    "\n",
    "with open('/data/GC_output/analysis/GC_t2m_GlobAvg.pkl', 'wb') as f:\n",
    "    pickle.dump(perturb_datasets, f)\n",
    "\n",
    "target_var = \"geopotential\"\n",
    "\n",
    "pipe = partial(piping, target_var = target_var)\n",
    "\n",
    "files = sorted(glob.glob('/geodata2/S2S/ECMWF_Perturbed/InstantaneousAccumulated/z/nc/*/Z_2021-06-21.nc'))\n",
    "files = [f for f in files if int(f.split('/')[-2]) <= 24 * 7]\n",
    "nwp = xr.open_mfdataset(\n",
    "    files,\n",
    "    combine='by_coords',\n",
    "    preprocess=pipe\n",
    ")\n",
    "if target_var == \"2m_temperature\":\n",
    "    nwp = nwp.rename({\"2t\":\"2m_temperature\"})\n",
    "\n",
    "nwp = nwp.compute()\n",
    "\n",
    "nwp.to_netcdf('/data/GC_output/analysis/nwp_z500_GlobAvg.nc')\n",
    "\n",
    "\n",
    "if target_var == 'geopotential':\n",
    "    p_1 = sorted(glob.glob('/data/GC_output/2021-06-21/GC_???????????_global_scale*.nc'))\n",
    "    p_2 = sorted(glob.glob('/data/GC_output/2021-06-21/GC_00000100000_*_scale*.nc'))\n",
    "    p_3 = sorted(glob.glob('/data/GC_output/2021-06-21/GC_11111011111_*_scale*.nc')) \n",
    "# Assign base colors for each partition\n",
    "partition_colors = {\n",
    "    'p_1': 'blue',\n",
    "    'p_2': 'green',\n",
    "    'p_3': 'red',\n",
    "    'p_4': 'purple'\n",
    "}\n",
    "\n",
    "# Collect perturbation files with labels and colors\n",
    "perturb_files = []\n",
    "for partition_name, partition_files in zip(['p_1', 'p_2', 'p_3'], [p_1, p_2, p_3]):\n",
    "# for partition_name, partition_files in zip(['p_4'], [p_4]):\n",
    "    base_color = partition_colors[partition_name]\n",
    "    num_files = len(partition_files)\n",
    "    # Generate different shades of the base color\n",
    "    colors = sns.light_palette(base_color, n_colors=num_files + 2)[1:-1]\n",
    "    for i, file in enumerate(partition_files):\n",
    "        perturb_info = extract_perturbation_info(file)\n",
    "        if perturb_info:\n",
    "            label = f\"{perturb_info}\"\n",
    "            color = colors[i % len(colors)]\n",
    "            perturb_files.append((label, color, file))\n",
    "\n",
    "perturb_datasets = []\n",
    "\n",
    "def process_file(file_info):\n",
    "    label, color, file = file_info\n",
    "    dataset = weighted_mean(preprocess_GC(xr.open_dataset(file), target_var))\n",
    "    return (label, color, dataset)\n",
    "\n",
    "with Pool(processes=30) as pool:\n",
    "    perturb_datasets = pool.map(process_file, perturb_files)\n",
    "\n",
    "with open('/data/GC_output/analysis/GC_z500_GlobAvg.pkl', 'wb') as f:\n",
    "    pickle.dump(perturb_datasets, f)"
   ]
  }
 ],
 "metadata": {
  "kernelspec": {
   "display_name": "hiskim1_graphcast",
   "language": "python",
   "name": "python3"
  },
  "language_info": {
   "codemirror_mode": {
    "name": "ipython",
    "version": 3
   },
   "file_extension": ".py",
   "mimetype": "text/x-python",
   "name": "python",
   "nbconvert_exporter": "python",
   "pygments_lexer": "ipython3",
   "version": "3.11.8"
  }
 },
 "nbformat": 4,
 "nbformat_minor": 2
}
