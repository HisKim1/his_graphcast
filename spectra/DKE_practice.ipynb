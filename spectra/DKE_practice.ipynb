{
 "cells": [
  {
   "cell_type": "markdown",
   "metadata": {},
   "source": [
    "# Header\n",
    "\n",
    "DKE가 뭔지 여기서 차근차근 알아보도록 하자. \n",
    "paper가 준 data를 받아서 어떻게 만들었는지 알아보자."
   ]
  },
  {
   "cell_type": "code",
   "execution_count": 1,
   "metadata": {},
   "outputs": [],
   "source": [
    "import xarray as xr\n",
    "import numpy as np\n"
   ]
  },
  {
   "cell_type": "markdown",
   "metadata": {},
   "source": [
    "### The paper is reproducible!\n",
    "\n",
    "이렇게 하니까 Fig 1과 동일한 그림을 그릴 수 있어여ㅛ!"
   ]
  },
  {
   "cell_type": "code",
   "execution_count": null,
   "metadata": {},
   "outputs": [],
   "source": [
    "dataset = xr.open_dataset('/geodata2/S2S/DL/GC_input/stat/ERA5_std_by_level.nc')\n",
    "u = dataset['u'].var(dim=\"ens\")\n",
    "v = dataset['v'].var(dim=\"ens\")\n",
    "dke = u + v\n",
    "dke = dke.mean(dim=(\"lat\", \"lon\"))\n",
    "\n",
    "# plot in y-axis log scale\n",
    "dke.plot()"
   ]
  },
  {
   "cell_type": "code",
   "execution_count": 3,
   "metadata": {},
   "outputs": [
    {
     "ename": "ModuleNotFoundError",
     "evalue": "No module named 'cdo'",
     "output_type": "error",
     "traceback": [
      "\u001b[0;31m---------------------------------------------------------------------------\u001b[0m",
      "\u001b[0;31mModuleNotFoundError\u001b[0m                       Traceback (most recent call last)",
      "Cell \u001b[0;32mIn[3], line 2\u001b[0m\n\u001b[1;32m      1\u001b[0m \u001b[38;5;28;01mimport\u001b[39;00m \u001b[38;5;21;01mxarray\u001b[39;00m \u001b[38;5;28;01mas\u001b[39;00m \u001b[38;5;21;01mxr\u001b[39;00m\n\u001b[0;32m----> 2\u001b[0m \u001b[38;5;28;01mfrom\u001b[39;00m \u001b[38;5;21;01mcdo\u001b[39;00m \u001b[38;5;28;01mimport\u001b[39;00m Cdo\n\u001b[1;32m      4\u001b[0m \u001b[38;5;66;03m# CDO instance 생성\u001b[39;00m\n\u001b[1;32m      5\u001b[0m cdo \u001b[38;5;241m=\u001b[39m Cdo()\n",
      "\u001b[0;31mModuleNotFoundError\u001b[0m: No module named 'cdo'"
     ]
    }
   ],
   "source": [
    "import xarray as xr\n",
    "from cdo import Cdo\n",
    "\n",
    "# CDO instance 생성\n",
    "cdo = Cdo()\n",
    "\n",
    "# 파일명 설정\n",
    "input_file = \"dataset.nc\"\n",
    "gaussian_file = \"dataset_gaussian.nc\"\n",
    "div_spectral_output = \"div_spectral.nc\"\n",
    "vo_spectral_output = \"vo_spectral.nc\"\n",
    "dke_spectral_output = \"dke_spectral.nc\"\n",
    "\n",
    "# Step 1: Gaussian Grid Interpolation (N360)\n",
    "cdo.remap(\"n360\", input=input_file, output=gaussian_file)\n",
    "\n",
    "# Step 2: Calculate Divergence and Vorticity\n",
    "cdo.div(input=gaussian_file, output=div_spectral_output)\n",
    "cdo.vor(input=gaussian_file, output=vo_spectral_output)\n",
    "\n",
    "# Step 3: Calculate Difference Kinetic Energy (DKE) Spectrum\n",
    "cdo.sqrt(input=f\"-add -sqr {div_spectral_output} -sqr {vo_spectral_output}\", output=dke_spectral_output)\n",
    "\n",
    "# Load and inspect the outputs (Optional)\n",
    "div_spectral = xr.open_dataset(div_spectral_output)\n",
    "vo_spectral = xr.open_dataset(vo_spectral_output)\n",
    "dke_spectral = xr.open_dataset(dke_spectral_output)\n",
    "\n",
    "# 결과 출력 (선택 사항)\n",
    "print(div_spectral)\n",
    "print(vo_spectral)\n",
    "print(dke_spectral)\n"
   ]
  }
 ],
 "metadata": {
  "kernelspec": {
   "display_name": "hiskim1_graphcast",
   "language": "python",
   "name": "python3"
  },
  "language_info": {
   "codemirror_mode": {
    "name": "ipython",
    "version": 3
   },
   "file_extension": ".py",
   "mimetype": "text/x-python",
   "name": "python",
   "nbconvert_exporter": "python",
   "pygments_lexer": "ipython3",
   "version": "3.11.8"
  }
 },
 "nbformat": 4,
 "nbformat_minor": 2
}
