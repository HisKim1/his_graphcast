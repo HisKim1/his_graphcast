{
 "cells": [
  {
   "cell_type": "markdown",
   "id": "459b77c5",
   "metadata": {},
   "source": [
    "# Gradient Map"
   ]
  },
  {
   "cell_type": "code",
   "execution_count": null,
   "id": "0cc36ddb",
   "metadata": {},
   "outputs": [],
   "source": [
    "import xarray as xr\n",
    "import metpy.calc as mpcalc\n",
    "import matplotlib.pyplot as plt\n",
    "import numpy as np\n",
    "import cartopy.crs as ccrs\n",
    "import cartopy.feature as cfeature\n"
   ]
  },
  {
   "cell_type": "code",
   "execution_count": null,
   "id": "50fb6d45",
   "metadata": {},
   "outputs": [
    {
     "name": "stderr",
     "output_type": "stream",
     "text": [
      "/tmp/ipykernel_3432806/3829505619.py:1: FutureWarning: In a future version of xarray decode_timedelta will default to False rather than None. To silence this warning, set decode_timedelta to True, False, or a 'CFTimedeltaCoder' instance.\n",
      "  GenCast = xr.open_dataset(\"/geodata2/Gencast/uv_300hPa.nc\").mean(\"sample\").isel(time=1)\n",
      "/home/hiskim1/.conda/envs/hiskim1_gencast/lib/python3.11/site-packages/pint/facets/plain/quantity.py:1006: RuntimeWarning: invalid value encountered in divide\n",
      "  magnitude = magnitude_op(new_self._magnitude, other._magnitude)\n"
     ]
    },
    {
     "data": {
      "text/plain": [
       "(<xarray.DataArray (lat: 721, lon: 1440)> Size: 8MB\n",
       " <Quantity([[ 1.14543045e-04  1.15826498e-04  1.16634096e-04 ...  1.10271108e-04\n",
       "    1.11672057e-04  1.13183371e-04]\n",
       "  [ 1.80686742e-05  1.80893238e-05  1.81587954e-05 ...  1.78757739e-05\n",
       "    1.78968418e-05  1.80193274e-05]\n",
       "  [-3.01077885e-05 -3.05429122e-05 -3.07961364e-05 ... -2.87750820e-05\n",
       "   -2.92205541e-05 -2.96590035e-05]\n",
       "  ...\n",
       "  [ 2.72224582e-05  2.75572847e-05  2.78712351e-05 ...  2.62766027e-05\n",
       "    2.66077833e-05  2.69452064e-05]\n",
       "  [ 1.28508900e-05  1.27456240e-05  1.27238368e-05 ...  1.30531477e-05\n",
       "    1.29769073e-05  1.29515796e-05]\n",
       "  [-1.32847853e-04 -1.34614455e-04 -1.35923947e-04 ... -1.28341898e-04\n",
       "   -1.30004973e-04 -1.31478037e-04]], '1 / meter')>\n",
       " Coordinates:\n",
       "   * lon      (lon) float32 6kB 0.0 0.25 0.5 0.75 1.0 ... 359.0 359.2 359.5 359.8\n",
       "   * lat      (lat) float32 3kB -90.0 -89.75 -89.5 -89.25 ... 89.5 89.75 90.0\n",
       "     time     timedelta64[ns] 8B 1 days\n",
       "     level    int32 4B 300,\n",
       " <xarray.DataArray (lat: 721, lon: 1440)> Size: 8MB\n",
       " <Quantity([[           nan            nan            nan ...            nan\n",
       "              nan            nan]\n",
       "  [2.16774511e-04 1.57310143e-04 1.58781684e-04 ... 1.69448404e-04\n",
       "   1.90153698e-04 2.01190260e-04]\n",
       "  [2.05719401e-05 2.64963222e-05 2.82428164e-05 ... 2.13610423e-05\n",
       "   2.39842081e-05 4.06116153e-05]\n",
       "  ...\n",
       "  [1.27869737e-05 1.50752495e-05 1.73497241e-05 ... 5.34468262e-06\n",
       "   7.96727889e-06 9.64306634e-06]\n",
       "  [2.03665659e-04 1.84559101e-04 1.70840693e-04 ... 1.93515545e-04\n",
       "   1.78164157e-04 1.77244443e-04]\n",
       "  [           nan            nan            nan ...            nan\n",
       "              nan            nan]], '1 / meter')>\n",
       " Coordinates:\n",
       "   * lon      (lon) float32 6kB 0.0 0.25 0.5 0.75 1.0 ... 359.0 359.2 359.5 359.8\n",
       "   * lat      (lat) float32 3kB -90.0 -89.75 -89.5 -89.25 ... 89.5 89.75 90.0\n",
       "     time     timedelta64[ns] 8B 1 days\n",
       "     level    int32 4B 300)"
      ]
     },
     "execution_count": 23,
     "metadata": {},
     "output_type": "execute_result"
    }
   ],
   "source": [
    "GenCast = xr.open_dataset(\"/geodata2/Gencast/uv_300hPa.nc\").mean(\"sample\").isel(time=1)\n",
    "\n",
    "u = GenCast['u_component_of_wind'].metpy.quantify()\n",
    "v = GenCast['v_component_of_wind'].metpy.quantify()\n",
    "\n",
    "KE = 0.5 * (u**2 + v**2)\n",
    "\n",
    "# gradient 계산\n",
    "dKE = mpcalc.gradient(KE) \n",
    "\n",
    "# 튜플 언팩\n",
    "dKE_dy, dKE_dx = dKE\n",
    "\n",
    "# Gradient magnitude 계산\n",
    "mag = np.sqrt(dKE_dx.data**2 + dKE_dy.data**2)\n",
    "\n",
    "# 좌표\n",
    "lon2d, lat2d = np.meshgrid(dKE_dx['lon'], dKE_dx['lat'])\n",
    "\n",
    "fig = plt.figure(figsize=(14, 6))\n",
    "ax = plt.axes(projection=ccrs.PlateCarree())\n",
    "ax.set_global()\n",
    "ax.coastlines(resolution='110m', linewidth=0.8)\n",
    "ax.add_feature(cfeature.BORDERS, linewidth=0.5)\n",
    "ax.add_feature(cfeature.LAND, facecolor='white', zorder=0)\n",
    "ax.add_feature(cfeature.OCEAN, facecolor='white', zorder=0)\n",
    "\n",
    "c = ax.pcolormesh(\n",
    "    lon2d, lat2d, mag,\n",
    "    cmap='jet',\n",
    "    shading='auto',\n",
    "    vmin=0, vmax=0.0015,  # colorbar scale 설정\n",
    "    transform=ccrs.PlateCarree()\n",
    ")\n",
    "\n",
    "cb = plt.colorbar(c, ax=ax, orientation='vertical', pad=0.02, aspect=30)\n",
    "cb.set_label('|∇KE| [1/m]')\n",
    "\n",
    "ax.set_title(\"Gradient Magnitude of Kinetic Energy (|∇KE|)\", fontsize=14)\n",
    "plt.tight_layout()\n",
    "plt.show()\n"
   ]
  },
  {
   "cell_type": "code",
   "execution_count": 30,
   "id": "23beac06",
   "metadata": {},
   "outputs": [
    {
     "name": "stdout",
     "output_type": "stream",
     "text": [
      "∇KE max: 0.0026606947252516304 / meter\n",
      "∇KE mean: 0.000143585499245811 / meter\n"
     ]
    }
   ],
   "source": [
    "mag = np.sqrt(dKE_dx.data**2 + dKE_dy.data**2)\n",
    "print(\"∇KE max:\", np.nanmax(mag))\n",
    "print(\"∇KE mean:\", np.nanmean(mag))\n"
   ]
  }
 ],
 "metadata": {
  "kernelspec": {
   "display_name": "hiskim1_gencast",
   "language": "python",
   "name": "python3"
  },
  "language_info": {
   "codemirror_mode": {
    "name": "ipython",
    "version": 3
   },
   "file_extension": ".py",
   "mimetype": "text/x-python",
   "name": "python",
   "nbconvert_exporter": "python",
   "pygments_lexer": "ipython3",
   "version": "3.11.8"
  }
 },
 "nbformat": 4,
 "nbformat_minor": 5
}
